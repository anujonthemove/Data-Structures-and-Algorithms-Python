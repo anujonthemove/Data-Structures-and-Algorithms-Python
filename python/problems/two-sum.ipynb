{
 "cells": [
  {
   "cell_type": "code",
   "execution_count": 20,
   "id": "9a8e31f4",
   "metadata": {},
   "outputs": [],
   "source": [
    "arr = [2,7,11,15]\n",
    "arr = [2, 5, 5, 1]\n",
    "target = 10\n",
    "idx_arr = []"
   ]
  },
  {
   "cell_type": "code",
   "execution_count": 21,
   "id": "2879c59e",
   "metadata": {},
   "outputs": [
    {
     "name": "stdout",
     "output_type": "stream",
     "text": [
      "i:  0\n",
      "j:  1\n",
      "\n",
      "i:  0\n",
      "j:  2\n",
      "\n",
      "i:  0\n",
      "j:  3\n",
      "\n",
      "i:  1\n",
      "j:  2\n"
     ]
    }
   ],
   "source": [
    "for i in range(0, len(arr)):\n",
    "    for j in range(i+1, len(arr)):\n",
    "        print(\"i: \", i)\n",
    "        print(\"j: \", j)\n",
    "        two_sum = arr[i]+arr[j]\n",
    "        if two_sum == target:\n",
    "            idx_arr.append(i)\n",
    "            idx_arr.append(j)\n",
    "            break\n",
    "        print()\n",
    "    if two_sum == target:break"
   ]
  },
  {
   "cell_type": "code",
   "execution_count": 22,
   "id": "6348e555",
   "metadata": {},
   "outputs": [
    {
     "data": {
      "text/plain": [
       "[1, 2]"
      ]
     },
     "execution_count": 22,
     "metadata": {},
     "output_type": "execute_result"
    }
   ],
   "source": [
    "idx_arr"
   ]
  },
  {
   "cell_type": "code",
   "execution_count": null,
   "id": "06e9cd83",
   "metadata": {},
   "outputs": [],
   "source": []
  }
 ],
 "metadata": {
  "kernelspec": {
   "display_name": "Python 3 (ipykernel)",
   "language": "python",
   "name": "python3"
  },
  "language_info": {
   "codemirror_mode": {
    "name": "ipython",
    "version": 3
   },
   "file_extension": ".py",
   "mimetype": "text/x-python",
   "name": "python",
   "nbconvert_exporter": "python",
   "pygments_lexer": "ipython3",
   "version": "3.8.10"
  }
 },
 "nbformat": 4,
 "nbformat_minor": 5
}
