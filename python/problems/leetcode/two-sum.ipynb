{
 "cells": [
  {
   "cell_type": "markdown",
   "id": "d32202bb",
   "metadata": {},
   "source": [
    "## Two sum"
   ]
  },
  {
   "cell_type": "code",
   "execution_count": 1,
   "id": "1a163323",
   "metadata": {},
   "outputs": [],
   "source": [
    "arr = [3,2,4]\n",
    "target = 6\n",
    "\n",
    "# arr = [1,7,5,9,2,12,3]\n",
    "# target = 12\n",
    "\n",
    "arr = [-1,-2,-3,-4,-5]\n",
    "target = -8"
   ]
  },
  {
   "cell_type": "markdown",
   "id": "b9b520f8",
   "metadata": {
    "heading_collapsed": true
   },
   "source": [
    "### Hint 1: Brute-force approach"
   ]
  },
  {
   "cell_type": "code",
   "execution_count": 2,
   "id": "42045da0",
   "metadata": {
    "hidden": true
   },
   "outputs": [
    {
     "name": "stdout",
     "output_type": "stream",
     "text": [
      "checking: i=0, j=1\n",
      "checking: i=0, j=2\n",
      "checking: i=0, j=3\n",
      "checking: i=0, j=4\n",
      "checking: i=1, j=2\n",
      "checking: i=1, j=3\n",
      "checking: i=1, j=4\n",
      "checking: i=2, j=3\n",
      "checking: i=2, j=4\n",
      "2 4\n",
      "checking: i=3, j=4\n"
     ]
    }
   ],
   "source": [
    "for i in range(0, len(arr)):\n",
    "    for j in range(i+1, len(arr)):\n",
    "        print(\"checking: i={}, j={}\".format(i, j))\n",
    "        if arr[i]+arr[j] == target:\n",
    "            print(i, j)"
   ]
  },
  {
   "cell_type": "markdown",
   "id": "0beea91d",
   "metadata": {
    "heading_collapsed": true
   },
   "source": [
    "### Simple optimization of brute-force"
   ]
  },
  {
   "cell_type": "code",
   "execution_count": 3,
   "id": "2fe50a0f",
   "metadata": {
    "hidden": true
   },
   "outputs": [
    {
     "name": "stdout",
     "output_type": "stream",
     "text": [
      "checking: i=0, j=1\n",
      "checking: i=0, j=2\n",
      "checking: i=0, j=3\n",
      "checking: i=0, j=4\n",
      "checking: i=1, j=2\n",
      "checking: i=1, j=3\n",
      "checking: i=1, j=4\n",
      "checking: i=2, j=3\n",
      "checking: i=2, j=4\n",
      "2 4\n"
     ]
    }
   ],
   "source": [
    "found = False\n",
    "for i in range(0, len(arr)):\n",
    "    if found: break\n",
    "    for j in range(i+1, len(arr)):\n",
    "        print(\"checking: i={}, j={}\".format(i, j))\n",
    "        if arr[i]+arr[j] == target:\n",
    "            print(i, j)\n",
    "            found = True\n",
    "            break"
   ]
  },
  {
   "cell_type": "markdown",
   "id": "9831ead2",
   "metadata": {},
   "source": [
    "### Hint 2: change array\n",
    "* Found bisect when searching for solution using Binary Search: https://leetcode.com/problems/two-sum/discuss/1636227/Using-Binary-Search \n",
    "* bisect: https://www.geeksforgeeks.org/bisect-algorithm-functions-in-python/\n",
    "\n",
    "\n",
    "* Time Complexity: O(n*logn)\n",
    "* Space Complexity: O(n)"
   ]
  },
  {
   "cell_type": "code",
   "execution_count": 4,
   "id": "a7d54102",
   "metadata": {},
   "outputs": [],
   "source": [
    "import statistics\n",
    "\n",
    "def quick_sort(arr):\n",
    "    \n",
    "    if len(arr) <= 1:\n",
    "        return arr\n",
    "    \n",
    "    # median calc\n",
    "    mid = len(arr)//2\n",
    "    pivot = statistics.median([arr[0], arr[mid], arr[-1]])\n",
    "    \n",
    "    left = [i for i in arr if i < pivot]\n",
    "    middle = [i for i in arr if i == pivot]\n",
    "    right = [i for i in arr if i > pivot]\n",
    "    \n",
    "    \n",
    "    return quick_sort(left) + middle + quick_sort(right)"
   ]
  },
  {
   "cell_type": "code",
   "execution_count": 5,
   "id": "390f3189",
   "metadata": {},
   "outputs": [],
   "source": [
    "def binary_search(sorted_arr, elem, low, high):\n",
    "    \n",
    "    if low > high:\n",
    "        return -1\n",
    "    \n",
    "    mid = (low+high)//2\n",
    "    \n",
    "    if elem == sorted_arr[mid]:\n",
    "        return mid\n",
    "    \n",
    "    if elem < sorted_arr[mid]:\n",
    "        return binary_search(sorted_arr, elem, low, mid-1)\n",
    "    else:\n",
    "        return binary_search(sorted_arr, elem, mid+1, high)"
   ]
  },
  {
   "cell_type": "code",
   "execution_count": 6,
   "id": "39b7e7e3",
   "metadata": {},
   "outputs": [
    {
     "data": {
      "text/plain": [
       "-1"
      ]
     },
     "execution_count": 6,
     "metadata": {},
     "output_type": "execute_result"
    }
   ],
   "source": [
    "binary_search(sorted(arr), 14, 0, len(arr)-1)"
   ]
  },
  {
   "cell_type": "code",
   "execution_count": 7,
   "id": "2fa13be6",
   "metadata": {},
   "outputs": [],
   "source": [
    "def two_sum_bs(arr, target):\n",
    "    \n",
    "    idx_pair = None\n",
    "\n",
    "    # throw array in hash map\n",
    "    hash_dict = {v:k for k, v in enumerate(arr)}\n",
    "\n",
    "    # sort array \n",
    "    sorted_arr = quick_sort(arr)\n",
    "\n",
    "    \n",
    "    # iterate through array and get pairs \n",
    "    for i, element in enumerate(arr):\n",
    "        diff = target-element\n",
    "        idx = binary_search(sorted_arr, diff, 0, len(sorted_arr)-1)\n",
    "        if idx != -1 and hash_dict[sorted_arr[idx]] != i:\n",
    "            idx_pair = (i, hash_dict[sorted_arr[idx]])\n",
    "            return idx_pair\n",
    "            # break"
   ]
  },
  {
   "cell_type": "code",
   "execution_count": 8,
   "id": "44ad1636",
   "metadata": {},
   "outputs": [
    {
     "data": {
      "text/plain": [
       "(2, 4)"
      ]
     },
     "execution_count": 8,
     "metadata": {},
     "output_type": "execute_result"
    }
   ],
   "source": [
    "two_sum_bs(arr, target)"
   ]
  },
  {
   "cell_type": "markdown",
   "id": "23f14114",
   "metadata": {},
   "source": [
    "### Hint 3: Using hash table/map\n",
    "\n",
    "* Time Complexity: O(n)\n",
    "* Space Complexity: O(n)"
   ]
  },
  {
   "cell_type": "code",
   "execution_count": 9,
   "id": "842c2110",
   "metadata": {},
   "outputs": [],
   "source": [
    "from typing import List\n",
    "def two_sum_hash_table(arr: List[int], target: int) -> List[int]:\n",
    "    hash_map = {}\n",
    "    for idx, elem in enumerate(arr):\n",
    "        diff = target-elem\n",
    "        \n",
    "        if diff in hash_map:\n",
    "            return hash_map[diff], idx\n",
    "        else:\n",
    "            hash_map[elem] = idx"
   ]
  },
  {
   "cell_type": "code",
   "execution_count": 10,
   "id": "b1390e71",
   "metadata": {},
   "outputs": [
    {
     "data": {
      "text/plain": [
       "(2, 4)"
      ]
     },
     "execution_count": 10,
     "metadata": {},
     "output_type": "execute_result"
    }
   ],
   "source": [
    "two_sum_hash_table(arr, target)"
   ]
  },
  {
   "cell_type": "code",
   "execution_count": null,
   "id": "49434c56",
   "metadata": {},
   "outputs": [],
   "source": []
  }
 ],
 "metadata": {
  "kernelspec": {
   "display_name": "Python 3 (ipykernel)",
   "language": "python",
   "name": "python3"
  },
  "language_info": {
   "codemirror_mode": {
    "name": "ipython",
    "version": 3
   },
   "file_extension": ".py",
   "mimetype": "text/x-python",
   "name": "python",
   "nbconvert_exporter": "python",
   "pygments_lexer": "ipython3",
   "version": "3.8.10"
  }
 },
 "nbformat": 4,
 "nbformat_minor": 5
}
