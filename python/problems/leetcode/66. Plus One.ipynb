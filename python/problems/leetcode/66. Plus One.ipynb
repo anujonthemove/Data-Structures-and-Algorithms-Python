{
 "cells": [
  {
   "cell_type": "code",
   "execution_count": 69,
   "id": "5b8abf0a",
   "metadata": {},
   "outputs": [],
   "source": [
    "digits = [1,2,3]\n",
    "# digits = [9, 9, 9]\n",
    "# digits = [9, 8, 9]"
   ]
  },
  {
   "cell_type": "code",
   "execution_count": 70,
   "id": "6c73f1f8",
   "metadata": {},
   "outputs": [],
   "source": [
    "def plus_one(digits):\n",
    "    ptr = len(digits)-1\n",
    "    sum_ = -1\n",
    "    while ptr >= 0:\n",
    "        sum_ = digits[ptr]+1\n",
    "        if sum_ > 9:\n",
    "            digits[ptr] = 0\n",
    "            ptr -= 1\n",
    "        else:\n",
    "            digits[ptr] = sum_\n",
    "            return digits\n",
    "    if ptr < 0 and sum_ > 9:\n",
    "        digits.insert(0, 1)\n",
    "    return digits"
   ]
  },
  {
   "cell_type": "code",
   "execution_count": 71,
   "id": "4562deeb",
   "metadata": {},
   "outputs": [
    {
     "data": {
      "text/plain": [
       "[1, 2, 4]"
      ]
     },
     "execution_count": 71,
     "metadata": {},
     "output_type": "execute_result"
    }
   ],
   "source": [
    "plus_one(digits)"
   ]
  },
  {
   "cell_type": "code",
   "execution_count": null,
   "id": "fb02faa0",
   "metadata": {},
   "outputs": [],
   "source": []
  }
 ],
 "metadata": {
  "kernelspec": {
   "display_name": "Python 3 (ipykernel)",
   "language": "python",
   "name": "python3"
  },
  "language_info": {
   "codemirror_mode": {
    "name": "ipython",
    "version": 3
   },
   "file_extension": ".py",
   "mimetype": "text/x-python",
   "name": "python",
   "nbconvert_exporter": "python",
   "pygments_lexer": "ipython3",
   "version": "3.8.10"
  }
 },
 "nbformat": 4,
 "nbformat_minor": 5
}
