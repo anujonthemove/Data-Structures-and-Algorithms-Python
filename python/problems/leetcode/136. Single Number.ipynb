{
 "cells": [
  {
   "cell_type": "markdown",
   "id": "64f17be0",
   "metadata": {},
   "source": [
    "## Single Number"
   ]
  },
  {
   "cell_type": "markdown",
   "id": "94c2dee6",
   "metadata": {},
   "source": [
    "### Using Bit Manipulation\n",
    "\n",
    "AND Gate\n",
    "\n",
    "0 0 | 0 <br>\n",
    "0 1 | 0 <br>\n",
    "1 0 | 0 <br>\n",
    "1 1 | 1 <br>\n",
    "\n",
    "\n",
    "OR Gate\n",
    "\n",
    "0 0 | 0 <br>\n",
    "0 1 | 1 <br>\n",
    "1 0 | 1 <br>\n",
    "1 1 | 1 <br>\n",
    "\n",
    "\n",
    "XOR Gate\n",
    "\n",
    "0 0 | 0 <br>\n",
    "0 1 | 1 <br>\n",
    "1 0 | 1 <br>\n",
    "1 1 | 0 <br>\n",
    "\n",
    "\n",
    "**A few things to Note:**\n",
    "\n",
    "* XOR operator: ^\n",
    "* (same number)^(same number) = 0\n",
    "    * 2^2 = 0\n",
    "* (one number) ^ (other number) = some number\n",
    "    * 2^4 = 6\n",
    "* (some number) ^ zero = some number\n",
    "    * 7^0 = 7 \n",
    "\n"
   ]
  },
  {
   "cell_type": "code",
   "execution_count": 4,
   "id": "74027248",
   "metadata": {},
   "outputs": [],
   "source": [
    "nums = [2,2,1]\n",
    "output = 1\n",
    "\n",
    "nums = [4,1,2,1,2]\n",
    "output = 4"
   ]
  },
  {
   "cell_type": "code",
   "execution_count": 9,
   "id": "298f8a7a",
   "metadata": {},
   "outputs": [],
   "source": [
    "def single_number(nums):\n",
    "    is_remaining = 0\n",
    "    for i in nums:\n",
    "        is_remaining ^= i\n",
    "        \n",
    "    return is_remaining\n",
    "        "
   ]
  },
  {
   "cell_type": "code",
   "execution_count": 11,
   "id": "f6bc56b6",
   "metadata": {},
   "outputs": [
    {
     "data": {
      "text/plain": [
       "4"
      ]
     },
     "execution_count": 11,
     "metadata": {},
     "output_type": "execute_result"
    }
   ],
   "source": [
    "single_number(nums)"
   ]
  },
  {
   "cell_type": "code",
   "execution_count": null,
   "id": "9ca68893",
   "metadata": {},
   "outputs": [],
   "source": []
  }
 ],
 "metadata": {
  "kernelspec": {
   "display_name": "Python 3 (ipykernel)",
   "language": "python",
   "name": "python3"
  },
  "language_info": {
   "codemirror_mode": {
    "name": "ipython",
    "version": 3
   },
   "file_extension": ".py",
   "mimetype": "text/x-python",
   "name": "python",
   "nbconvert_exporter": "python",
   "pygments_lexer": "ipython3",
   "version": "3.8.10"
  }
 },
 "nbformat": 4,
 "nbformat_minor": 5
}
