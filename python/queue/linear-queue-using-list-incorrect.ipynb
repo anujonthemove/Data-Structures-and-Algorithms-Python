{
 "cells": [
  {
   "cell_type": "markdown",
   "id": "c0c053ea",
   "metadata": {},
   "source": [
    "## Incorrect implementation\n",
    "\n",
    "* once the queue is full, we should be able to re-utilize it after dequeuing all the elements\n",
    "* in this case, I am reporting queue exhausted which is incorrect \n",
    "\n",
    "### Queue using list and 2 pointer approach\n",
    "\n",
    "### Operations\n",
    "\n",
    "1. enqueue\n",
    "2. dequeue\n",
    "3. front/peek\n",
    "\n",
    "\n",
    "\n",
    "### References\n",
    "1. https://www.techiedelight.com/queue-implementation-python/"
   ]
  },
  {
   "cell_type": "code",
   "execution_count": 1,
   "id": "bb010e83",
   "metadata": {},
   "outputs": [],
   "source": [
    "class Queue:\n",
    "    \n",
    "    \"\"\" \n",
    "    Generic implementation based on 2 pointer approach.\n",
    "    Can be interpreted in either way:\n",
    "    \n",
    "    [Front:10]<-[20]<-[30]<-[40]<-[50:Rear]\n",
    "    [Rear:50]->[40]->[30]->[20]->[10:Front]\n",
    "    \"\"\"\n",
    "    def __init__(self, size):\n",
    "        self.items = [None]*size\n",
    "        self.capacity = size\n",
    "        self.front =  -1\n",
    "        self.rear = -1\n",
    "        self.count = 0\n",
    "    \n",
    "    def __len__(self):\n",
    "        return self.count\n",
    "    \n",
    "    def __repr__(self):\n",
    "        item_list = []\n",
    "        \n",
    "        for idx in range(self.count):\n",
    "            if idx == 0:\n",
    "                if self.front == self.rear:\n",
    "                    item_list.append(\"[Front: %s :Rear]\" % self.items[idx])\n",
    "                else:\n",
    "                    item_list.append(\"[Front: %s]\" % self.items[idx])\n",
    "            elif idx == self.count-1:\n",
    "                item_list.append(\"[%s: Rear]\" % self.items[idx])\n",
    "            else:\n",
    "                item_list.append(\"[%s]\" % self.items[idx])\n",
    "        return \"<-\".join(item_list)\n",
    "    \n",
    "    def __iter__(self):\n",
    "        for i in range(self.count):\n",
    "            yield self.items[i]\n",
    "            \n",
    "    def peek(self):\n",
    "        pass\n",
    "#         if self.count > 0:\n",
    "#             print(\"Front: {}\".format(self.items[self.front]))\n",
    "#         elif self.front > self.capacity:\n",
    "#             print(\"\")\n",
    "#             print(\"nothing\")\n",
    "\n",
    "    def enqueue(self, data):\n",
    "        if self.capacity == 0:\n",
    "            print(\"Init empty queue, nothing can be pushed\")\n",
    "        elif self.rear == self.capacity-1:\n",
    "            if self.front >= self.rear:\n",
    "                print(\"Queue is exhausted, re-init\")\n",
    "            else:\n",
    "                print(\"Queue is full\")\n",
    "            # print(\"Queue is full\")\n",
    "        else:\n",
    "            if self.front == self.rear == -1:\n",
    "                print(\"== Inserting data first time in the queue ==\")\n",
    "                print(\"Inserting: {} in the queue\".format(data))\n",
    "                self.rear = 0\n",
    "                self.front = 0\n",
    "                self.items[self.rear] = data\n",
    "                self.count += 1\n",
    "            else:\n",
    "                print(\"Inserting: {} in the queue\".format(data))\n",
    "                self.items[self.rear] = data\n",
    "                self.count += 1\n",
    "                self.rear += 1\n",
    "                \n",
    "\n",
    "    def dequeue(self):\n",
    "        if self.front == self.rear:\n",
    "            if self.rear == -1:\n",
    "                print(\"empty queue, nothing to dequeue\")\n",
    "            elif self.rear == self.capacity:\n",
    "                print(\"queue is exhausted\")\n",
    "            else:\n",
    "                data = self.items.pop(0)\n",
    "                print(\"Removed: {} from the queue\".format(data))\n",
    "                self.count -= 1\n",
    "                self.front += 1\n",
    "                print(\"front and rear now point at same location, nothing more to deque\")\n",
    "        \n",
    "        elif self.front > self.rear:\n",
    "            print(\"front more than rear, nothing to dequeue\")\n",
    "        else:\n",
    "            data = self.items.pop(0)\n",
    "            print(\"Removed: {} from the queue\".format(data))\n",
    "            self.count -= 1\n",
    "            self.front += 1"
   ]
  },
  {
   "cell_type": "markdown",
   "id": "5722db41",
   "metadata": {},
   "source": [
    "#### Empty queue"
   ]
  },
  {
   "cell_type": "code",
   "execution_count": 2,
   "id": "2e8ad121",
   "metadata": {},
   "outputs": [],
   "source": [
    "queue = Queue(size=0)"
   ]
  },
  {
   "cell_type": "code",
   "execution_count": 3,
   "id": "5e8a79f5",
   "metadata": {},
   "outputs": [
    {
     "name": "stdout",
     "output_type": "stream",
     "text": [
      "Init empty queue, nothing can be pushed\n"
     ]
    }
   ],
   "source": [
    "queue.enqueue(10)"
   ]
  },
  {
   "cell_type": "code",
   "execution_count": 4,
   "id": "55667548",
   "metadata": {},
   "outputs": [
    {
     "data": {
      "text/plain": [
       "-1"
      ]
     },
     "execution_count": 4,
     "metadata": {},
     "output_type": "execute_result"
    }
   ],
   "source": [
    "queue.front"
   ]
  },
  {
   "cell_type": "code",
   "execution_count": 5,
   "id": "b224c819",
   "metadata": {},
   "outputs": [
    {
     "data": {
      "text/plain": [
       "-1"
      ]
     },
     "execution_count": 5,
     "metadata": {},
     "output_type": "execute_result"
    }
   ],
   "source": [
    "queue.rear"
   ]
  },
  {
   "cell_type": "code",
   "execution_count": 6,
   "id": "4b772299",
   "metadata": {},
   "outputs": [
    {
     "data": {
      "text/plain": [
       "0"
      ]
     },
     "execution_count": 6,
     "metadata": {},
     "output_type": "execute_result"
    }
   ],
   "source": [
    "len(queue)"
   ]
  },
  {
   "cell_type": "code",
   "execution_count": 7,
   "id": "fd04a2c9",
   "metadata": {},
   "outputs": [
    {
     "data": {
      "text/plain": []
     },
     "execution_count": 7,
     "metadata": {},
     "output_type": "execute_result"
    }
   ],
   "source": [
    "queue"
   ]
  },
  {
   "cell_type": "code",
   "execution_count": 8,
   "id": "3709ac87",
   "metadata": {},
   "outputs": [
    {
     "name": "stdout",
     "output_type": "stream",
     "text": [
      "empty queue, nothing to dequeue\n"
     ]
    }
   ],
   "source": [
    "queue.dequeue()"
   ]
  },
  {
   "cell_type": "code",
   "execution_count": 9,
   "id": "0bd77c33",
   "metadata": {},
   "outputs": [],
   "source": [
    "queue.peek()"
   ]
  },
  {
   "cell_type": "markdown",
   "id": "6f78e6c8",
   "metadata": {},
   "source": [
    "#### other cases"
   ]
  },
  {
   "cell_type": "code",
   "execution_count": 10,
   "id": "baf829ef",
   "metadata": {},
   "outputs": [],
   "source": [
    "queue = Queue(size=4)"
   ]
  },
  {
   "cell_type": "code",
   "execution_count": 11,
   "id": "4791ccb7",
   "metadata": {},
   "outputs": [
    {
     "name": "stdout",
     "output_type": "stream",
     "text": [
      "== Inserting data first time in the queue ==\n",
      "Inserting: 10 in the queue\n"
     ]
    }
   ],
   "source": [
    "queue.enqueue(10)"
   ]
  },
  {
   "cell_type": "code",
   "execution_count": 12,
   "id": "13769926",
   "metadata": {},
   "outputs": [
    {
     "data": {
      "text/plain": [
       "0"
      ]
     },
     "execution_count": 12,
     "metadata": {},
     "output_type": "execute_result"
    }
   ],
   "source": [
    "queue.front"
   ]
  },
  {
   "cell_type": "code",
   "execution_count": 13,
   "id": "87ea46b2",
   "metadata": {},
   "outputs": [
    {
     "data": {
      "text/plain": [
       "0"
      ]
     },
     "execution_count": 13,
     "metadata": {},
     "output_type": "execute_result"
    }
   ],
   "source": [
    "queue.rear"
   ]
  },
  {
   "cell_type": "code",
   "execution_count": 14,
   "id": "ef838eaa",
   "metadata": {},
   "outputs": [],
   "source": [
    "queue.peek()"
   ]
  },
  {
   "cell_type": "code",
   "execution_count": 15,
   "id": "e5d85ced",
   "metadata": {},
   "outputs": [
    {
     "name": "stdout",
     "output_type": "stream",
     "text": [
      "10\n"
     ]
    }
   ],
   "source": [
    "for i in queue:\n",
    "    print(i)"
   ]
  },
  {
   "cell_type": "code",
   "execution_count": 16,
   "id": "5269c9a2",
   "metadata": {},
   "outputs": [
    {
     "data": {
      "text/plain": [
       "[Front: 10 :Rear]"
      ]
     },
     "execution_count": 16,
     "metadata": {},
     "output_type": "execute_result"
    }
   ],
   "source": [
    "queue"
   ]
  },
  {
   "cell_type": "code",
   "execution_count": 17,
   "id": "7571e567",
   "metadata": {},
   "outputs": [
    {
     "name": "stdout",
     "output_type": "stream",
     "text": [
      "Removed: 10 from the queue\n",
      "front and rear now point at same location, nothing more to deque\n"
     ]
    }
   ],
   "source": [
    "queue.dequeue()"
   ]
  },
  {
   "cell_type": "code",
   "execution_count": 18,
   "id": "4f6630f9",
   "metadata": {},
   "outputs": [
    {
     "name": "stdout",
     "output_type": "stream",
     "text": [
      "front more than rear, nothing to dequeue\n"
     ]
    }
   ],
   "source": [
    "queue.dequeue()"
   ]
  },
  {
   "cell_type": "code",
   "execution_count": 19,
   "id": "02e8e40b",
   "metadata": {},
   "outputs": [
    {
     "data": {
      "text/plain": []
     },
     "execution_count": 19,
     "metadata": {},
     "output_type": "execute_result"
    }
   ],
   "source": [
    "queue"
   ]
  },
  {
   "cell_type": "code",
   "execution_count": 20,
   "id": "f75f615e",
   "metadata": {},
   "outputs": [
    {
     "data": {
      "text/plain": [
       "1"
      ]
     },
     "execution_count": 20,
     "metadata": {},
     "output_type": "execute_result"
    }
   ],
   "source": [
    "queue.front"
   ]
  },
  {
   "cell_type": "code",
   "execution_count": 21,
   "id": "0bba6feb",
   "metadata": {},
   "outputs": [
    {
     "data": {
      "text/plain": [
       "0"
      ]
     },
     "execution_count": 21,
     "metadata": {},
     "output_type": "execute_result"
    }
   ],
   "source": [
    "queue.rear"
   ]
  },
  {
   "cell_type": "code",
   "execution_count": 22,
   "id": "772ccf57",
   "metadata": {},
   "outputs": [
    {
     "name": "stdout",
     "output_type": "stream",
     "text": [
      "Inserting: 10 in the queue\n",
      "[Front: 10 :Rear]\n",
      "1\n",
      "1\n"
     ]
    }
   ],
   "source": [
    "queue.enqueue(10)\n",
    "print(queue)\n",
    "print(queue.front)\n",
    "print(queue.rear)\n",
    "queue.peek()"
   ]
  },
  {
   "cell_type": "code",
   "execution_count": 23,
   "id": "204a6b97",
   "metadata": {},
   "outputs": [
    {
     "name": "stdout",
     "output_type": "stream",
     "text": [
      "Inserting: 20 in the queue\n",
      "[Front: 10]<-[20: Rear]\n",
      "1\n",
      "2\n"
     ]
    }
   ],
   "source": [
    "queue.enqueue(20)\n",
    "print(queue)\n",
    "print(queue.front)\n",
    "print(queue.rear)\n",
    "queue.peek()"
   ]
  },
  {
   "cell_type": "code",
   "execution_count": 24,
   "id": "6d256de9",
   "metadata": {},
   "outputs": [
    {
     "name": "stdout",
     "output_type": "stream",
     "text": [
      "Inserting: 30 in the queue\n",
      "[Front: 10]<-[20]<-[30: Rear]\n",
      "1\n",
      "3\n"
     ]
    }
   ],
   "source": [
    "queue.enqueue(30)\n",
    "print(queue)\n",
    "print(queue.front)\n",
    "print(queue.rear)\n",
    "queue.peek()"
   ]
  },
  {
   "cell_type": "code",
   "execution_count": 25,
   "id": "963f1c77",
   "metadata": {},
   "outputs": [
    {
     "name": "stdout",
     "output_type": "stream",
     "text": [
      "Queue is full\n",
      "[Front: 10]<-[20]<-[30: Rear]\n",
      "1\n",
      "3\n"
     ]
    }
   ],
   "source": [
    "queue.enqueue(40)\n",
    "print(queue)\n",
    "print(queue.front)\n",
    "print(queue.rear)\n",
    "queue.peek()"
   ]
  },
  {
   "cell_type": "code",
   "execution_count": 26,
   "id": "a0e904ed",
   "metadata": {},
   "outputs": [
    {
     "data": {
      "text/plain": [
       "3"
      ]
     },
     "execution_count": 26,
     "metadata": {},
     "output_type": "execute_result"
    }
   ],
   "source": [
    "queue.rear"
   ]
  },
  {
   "cell_type": "code",
   "execution_count": 27,
   "id": "1ea95825",
   "metadata": {},
   "outputs": [
    {
     "data": {
      "text/plain": [
       "4"
      ]
     },
     "execution_count": 27,
     "metadata": {},
     "output_type": "execute_result"
    }
   ],
   "source": [
    "queue.capacity"
   ]
  },
  {
   "cell_type": "code",
   "execution_count": 28,
   "id": "4f829d0c",
   "metadata": {},
   "outputs": [
    {
     "data": {
      "text/plain": [
       "1"
      ]
     },
     "execution_count": 28,
     "metadata": {},
     "output_type": "execute_result"
    }
   ],
   "source": [
    "queue.front"
   ]
  },
  {
   "cell_type": "code",
   "execution_count": 29,
   "id": "a601fb8e",
   "metadata": {},
   "outputs": [
    {
     "name": "stdout",
     "output_type": "stream",
     "text": [
      "Queue is full\n",
      "[Front: 10]<-[20]<-[30: Rear]\n",
      "1\n",
      "3\n"
     ]
    }
   ],
   "source": [
    "queue.enqueue(40)\n",
    "print(queue)\n",
    "print(queue.front)\n",
    "print(queue.rear)\n",
    "queue.peek()"
   ]
  },
  {
   "cell_type": "code",
   "execution_count": 30,
   "id": "adec5010",
   "metadata": {},
   "outputs": [
    {
     "name": "stdout",
     "output_type": "stream",
     "text": [
      "Removed: 10 from the queue\n",
      "[Front: 20]<-[30: Rear]\n",
      "2\n",
      "3\n"
     ]
    }
   ],
   "source": [
    "queue.dequeue()\n",
    "print(queue)\n",
    "print(queue.front)\n",
    "print(queue.rear)\n",
    "queue.peek()"
   ]
  },
  {
   "cell_type": "code",
   "execution_count": 31,
   "id": "559ec001",
   "metadata": {},
   "outputs": [
    {
     "name": "stdout",
     "output_type": "stream",
     "text": [
      "Removed: 20 from the queue\n",
      "[Front: 30 :Rear]\n",
      "3\n",
      "3\n"
     ]
    }
   ],
   "source": [
    "queue.dequeue()\n",
    "print(queue)\n",
    "print(queue.front)\n",
    "print(queue.rear)\n",
    "queue.peek()"
   ]
  },
  {
   "cell_type": "code",
   "execution_count": 32,
   "id": "1ac837da",
   "metadata": {},
   "outputs": [
    {
     "name": "stdout",
     "output_type": "stream",
     "text": [
      "Removed: 30 from the queue\n",
      "front and rear now point at same location, nothing more to deque\n",
      "\n",
      "4\n",
      "3\n"
     ]
    }
   ],
   "source": [
    "queue.dequeue()\n",
    "print(queue)\n",
    "print(queue.front)\n",
    "print(queue.rear)\n",
    "queue.peek()"
   ]
  },
  {
   "cell_type": "code",
   "execution_count": 33,
   "id": "4fc0fe2e",
   "metadata": {},
   "outputs": [
    {
     "name": "stdout",
     "output_type": "stream",
     "text": [
      "front more than rear, nothing to dequeue\n",
      "\n",
      "4\n",
      "3\n"
     ]
    }
   ],
   "source": [
    "queue.dequeue()\n",
    "print(queue)\n",
    "print(queue.front)\n",
    "print(queue.rear)\n",
    "queue.peek()"
   ]
  },
  {
   "cell_type": "code",
   "execution_count": 34,
   "id": "4faaa827",
   "metadata": {},
   "outputs": [
    {
     "name": "stdout",
     "output_type": "stream",
     "text": [
      "Queue is exhausted, re-init\n",
      "\n",
      "4\n",
      "3\n"
     ]
    }
   ],
   "source": [
    "queue.enqueue(50)\n",
    "print(queue)\n",
    "print(queue.front)\n",
    "print(queue.rear)\n",
    "queue.peek()"
   ]
  },
  {
   "cell_type": "code",
   "execution_count": 35,
   "id": "02ecf690",
   "metadata": {},
   "outputs": [
    {
     "name": "stdout",
     "output_type": "stream",
     "text": [
      "front more than rear, nothing to dequeue\n",
      "\n",
      "4\n",
      "3\n"
     ]
    }
   ],
   "source": [
    "queue.dequeue()\n",
    "print(queue)\n",
    "print(queue.front)\n",
    "print(queue.rear)\n",
    "queue.peek()"
   ]
  },
  {
   "cell_type": "code",
   "execution_count": null,
   "id": "22582487",
   "metadata": {},
   "outputs": [],
   "source": []
  }
 ],
 "metadata": {
  "kernelspec": {
   "display_name": "Python 3 (ipykernel)",
   "language": "python",
   "name": "python3"
  },
  "language_info": {
   "codemirror_mode": {
    "name": "ipython",
    "version": 3
   },
   "file_extension": ".py",
   "mimetype": "text/x-python",
   "name": "python",
   "nbconvert_exporter": "python",
   "pygments_lexer": "ipython3",
   "version": "3.8.10"
  }
 },
 "nbformat": 4,
 "nbformat_minor": 5
}
