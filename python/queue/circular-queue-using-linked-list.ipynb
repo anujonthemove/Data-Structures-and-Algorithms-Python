{
 "cells": [
  {
   "cell_type": "markdown",
   "id": "ff256c52",
   "metadata": {},
   "source": [
    "## Circular Queue using Linked List"
   ]
  },
  {
   "cell_type": "code",
   "execution_count": 1,
   "id": "bdc4f2de",
   "metadata": {},
   "outputs": [],
   "source": [
    "class Node:\n",
    "    def __init__(self, data):\n",
    "        self.data = data\n",
    "        self.next = None\n",
    "    \n",
    "    def __repr__(self):\n",
    "        return \"<Node: %s>\" % self.data"
   ]
  },
  {
   "cell_type": "code",
   "execution_count": 2,
   "id": "443aab1c",
   "metadata": {},
   "outputs": [
    {
     "data": {
      "text/plain": [
       "<Node: 10>"
      ]
     },
     "execution_count": 2,
     "metadata": {},
     "output_type": "execute_result"
    }
   ],
   "source": [
    "Node(10)"
   ]
  },
  {
   "cell_type": "code",
   "execution_count": 3,
   "id": "db5c2ffa",
   "metadata": {},
   "outputs": [],
   "source": [
    "class CircularQueue:\n",
    "    def __init__(self, max_size):\n",
    "        self.front = None\n",
    "        self.rear = None\n",
    "        self.capacity = max_size\n",
    "        self.count = 0\n",
    "    \n",
    "    def __len__(self):\n",
    "        return self.count\n",
    "    \n",
    "    def __repr__(self):\n",
    "        nodes = []\n",
    "        ptr = self.front\n",
    "        cycle = 0\n",
    "        first = True\n",
    "        \n",
    "        while ptr:\n",
    "            if ptr == self.front:\n",
    "                if cycle >= 1:\n",
    "                    break\n",
    "                if first:\n",
    "                    cycle += 1\n",
    "                first = False\n",
    "                nodes.append(\"[Front: %s]\" % ptr.data)\n",
    "            elif ptr == self.rear:\n",
    "                nodes.append(\"[Rear: %s]\" % ptr.data)\n",
    "            else:\n",
    "                nodes.append(\"[%s]\" % ptr.data)\n",
    "            ptr = ptr.next\n",
    "            \n",
    "        return \"<-\".join(nodes)\n",
    "    \n",
    "    def __iter__(self):\n",
    "        pass\n",
    "    \n",
    "    def is_full(self):\n",
    "        return self.count == self.capacity\n",
    "    \n",
    "    def is_empty(self):\n",
    "        return self.count == 0\n",
    "    \n",
    "    def enqueue(self, data):\n",
    "        if self.is_full():\n",
    "            print(f\"cannot enqueue: {data}, queue has reached it's maximum initialized capacity\")\n",
    "            return\n",
    "        \n",
    "        node = Node(data)\n",
    "        if self.front == self.rear == None:\n",
    "            print(\"Inserting first item in the queue\")\n",
    "            print(f\"Inserting: {data} in the queue\")\n",
    "            self.front = self.rear = node\n",
    "            node.next = node\n",
    "        else:\n",
    "            print(f\"Inserting: {data} in the queue\")\n",
    "            self.rear.next = node\n",
    "            node.next = self.front\n",
    "            self.rear = self.rear.next\n",
    "        \n",
    "        self.count += 1\n",
    "        \n",
    "    def dequeue(self):\n",
    "        if self.is_empty():\n",
    "            print(\"Queue is empty, no items to dequeue\")\n",
    "            return\n",
    "        \n",
    "        \n",
    "        temp = self.front\n",
    "        data = self.front.data\n",
    "        print(f\"Removing: {data} from the queue\")\n",
    "        \n",
    "        if self.front == self.rear:\n",
    "            self.front = self.rear = None\n",
    "        else:\n",
    "            self.front = self.front.next\n",
    "            self.rear.next = self.front\n",
    "        \n",
    "        self.count -= 1\n",
    "        del temp\n",
    "        "
   ]
  },
  {
   "cell_type": "code",
   "execution_count": 4,
   "id": "54b3705d",
   "metadata": {},
   "outputs": [],
   "source": [
    "queue = CircularQueue(5)"
   ]
  },
  {
   "cell_type": "code",
   "execution_count": 5,
   "id": "5e7a9a95",
   "metadata": {},
   "outputs": [
    {
     "name": "stdout",
     "output_type": "stream",
     "text": [
      "Inserting first item in the queue\n",
      "Inserting: 10 in the queue\n",
      "Inserting: 20 in the queue\n",
      "Inserting: 30 in the queue\n",
      "Inserting: 40 in the queue\n",
      "Inserting: 50 in the queue\n",
      "cannot enqueue: 60, queue has reached it's maximum initialized capacity\n",
      "cannot enqueue: 70, queue has reached it's maximum initialized capacity\n",
      "cannot enqueue: 80, queue has reached it's maximum initialized capacity\n",
      "cannot enqueue: 90, queue has reached it's maximum initialized capacity\n"
     ]
    }
   ],
   "source": [
    "for i in range(10, 100, 10):\n",
    "    queue.enqueue(i)"
   ]
  },
  {
   "cell_type": "code",
   "execution_count": 6,
   "id": "470df895",
   "metadata": {},
   "outputs": [
    {
     "data": {
      "text/plain": [
       "[Front: 10]<-[20]<-[30]<-[40]<-[Rear: 50]"
      ]
     },
     "execution_count": 6,
     "metadata": {},
     "output_type": "execute_result"
    }
   ],
   "source": [
    "queue"
   ]
  },
  {
   "cell_type": "code",
   "execution_count": 7,
   "id": "1c0da6d6",
   "metadata": {},
   "outputs": [
    {
     "name": "stdout",
     "output_type": "stream",
     "text": [
      "Removing: 10 from the queue\n",
      "[Front: 20]<-[30]<-[40]<-[Rear: 50]\n",
      "4\n"
     ]
    }
   ],
   "source": [
    "queue.dequeue()\n",
    "\n",
    "print(queue)\n",
    "\n",
    "print(queue.count)"
   ]
  },
  {
   "cell_type": "code",
   "execution_count": 8,
   "id": "2ed86926",
   "metadata": {},
   "outputs": [
    {
     "name": "stdout",
     "output_type": "stream",
     "text": [
      "Removing: 20 from the queue\n",
      "[Front: 30]<-[40]<-[Rear: 50]\n",
      "3\n"
     ]
    }
   ],
   "source": [
    "queue.dequeue()\n",
    "\n",
    "print(queue)\n",
    "\n",
    "print(queue.count)"
   ]
  },
  {
   "cell_type": "code",
   "execution_count": 9,
   "id": "02400b45",
   "metadata": {},
   "outputs": [
    {
     "name": "stdout",
     "output_type": "stream",
     "text": [
      "Removing: 30 from the queue\n",
      "[Front: 40]<-[Rear: 50]\n",
      "2\n"
     ]
    }
   ],
   "source": [
    "queue.dequeue()\n",
    "\n",
    "print(queue)\n",
    "\n",
    "print(queue.count)"
   ]
  },
  {
   "cell_type": "code",
   "execution_count": 10,
   "id": "3b1a1cdf",
   "metadata": {},
   "outputs": [
    {
     "name": "stdout",
     "output_type": "stream",
     "text": [
      "Removing: 40 from the queue\n",
      "[Front: 50]\n",
      "1\n"
     ]
    }
   ],
   "source": [
    "queue.dequeue()\n",
    "\n",
    "print(queue)\n",
    "\n",
    "print(queue.count)"
   ]
  },
  {
   "cell_type": "code",
   "execution_count": 11,
   "id": "96f045ff",
   "metadata": {},
   "outputs": [
    {
     "name": "stdout",
     "output_type": "stream",
     "text": [
      "Removing: 50 from the queue\n",
      "\n",
      "0\n"
     ]
    }
   ],
   "source": [
    "queue.dequeue()\n",
    "\n",
    "print(queue)\n",
    "\n",
    "print(queue.count)"
   ]
  },
  {
   "cell_type": "code",
   "execution_count": 12,
   "id": "17fb305f",
   "metadata": {},
   "outputs": [
    {
     "name": "stdout",
     "output_type": "stream",
     "text": [
      "Queue is empty, no items to dequeue\n",
      "Queue is empty, no items to dequeue\n",
      "Queue is empty, no items to dequeue\n",
      "Queue is empty, no items to dequeue\n",
      "Queue is empty, no items to dequeue\n",
      "Queue is empty, no items to dequeue\n",
      "Queue is empty, no items to dequeue\n",
      "Queue is empty, no items to dequeue\n",
      "Queue is empty, no items to dequeue\n",
      "Queue is empty, no items to dequeue\n"
     ]
    }
   ],
   "source": [
    "for _ in range(10):\n",
    "    queue.dequeue()"
   ]
  },
  {
   "cell_type": "code",
   "execution_count": 13,
   "id": "7f51413e",
   "metadata": {},
   "outputs": [
    {
     "data": {
      "text/plain": []
     },
     "execution_count": 13,
     "metadata": {},
     "output_type": "execute_result"
    }
   ],
   "source": [
    "queue"
   ]
  },
  {
   "cell_type": "code",
   "execution_count": 14,
   "id": "a27d0ba4",
   "metadata": {},
   "outputs": [],
   "source": [
    "queue.front"
   ]
  },
  {
   "cell_type": "code",
   "execution_count": 15,
   "id": "14ebba4f",
   "metadata": {},
   "outputs": [],
   "source": [
    "queue.rear"
   ]
  },
  {
   "cell_type": "code",
   "execution_count": 16,
   "id": "1b351409",
   "metadata": {},
   "outputs": [
    {
     "name": "stdout",
     "output_type": "stream",
     "text": [
      "Inserting first item in the queue\n",
      "Inserting: 10 in the queue\n",
      "Inserting: 20 in the queue\n",
      "Inserting: 30 in the queue\n",
      "Inserting: 40 in the queue\n",
      "Inserting: 50 in the queue\n",
      "cannot enqueue: 60, queue has reached it's maximum initialized capacity\n",
      "cannot enqueue: 70, queue has reached it's maximum initialized capacity\n",
      "cannot enqueue: 80, queue has reached it's maximum initialized capacity\n",
      "cannot enqueue: 90, queue has reached it's maximum initialized capacity\n"
     ]
    }
   ],
   "source": [
    "for i in range(10, 100, 10):\n",
    "    queue.enqueue(i)"
   ]
  },
  {
   "cell_type": "code",
   "execution_count": 17,
   "id": "3e89985c",
   "metadata": {},
   "outputs": [
    {
     "data": {
      "text/plain": [
       "[Front: 10]<-[20]<-[30]<-[40]<-[Rear: 50]"
      ]
     },
     "execution_count": 17,
     "metadata": {},
     "output_type": "execute_result"
    }
   ],
   "source": [
    "queue"
   ]
  },
  {
   "cell_type": "code",
   "execution_count": 18,
   "id": "52d8954d",
   "metadata": {},
   "outputs": [
    {
     "name": "stdout",
     "output_type": "stream",
     "text": [
      "Removing: 10 from the queue\n",
      "[Front: 20]<-[30]<-[40]<-[Rear: 50]\n",
      "4\n"
     ]
    }
   ],
   "source": [
    "queue.dequeue()\n",
    "\n",
    "print(queue)\n",
    "\n",
    "print(queue.count)"
   ]
  },
  {
   "cell_type": "code",
   "execution_count": 19,
   "id": "8fc1f91a",
   "metadata": {},
   "outputs": [
    {
     "name": "stdout",
     "output_type": "stream",
     "text": [
      "Inserting: 100 in the queue\n",
      "[Front: 20]<-[30]<-[40]<-[50]<-[Rear: 100]\n",
      "5\n"
     ]
    }
   ],
   "source": [
    "queue.enqueue(100)\n",
    "\n",
    "print(queue)\n",
    "\n",
    "print(queue.count)"
   ]
  },
  {
   "cell_type": "code",
   "execution_count": 20,
   "id": "2ad86a86",
   "metadata": {},
   "outputs": [
    {
     "name": "stdout",
     "output_type": "stream",
     "text": [
      "cannot enqueue: -1, queue has reached it's maximum initialized capacity\n",
      "[Front: 20]<-[30]<-[40]<-[50]<-[Rear: 100]\n",
      "5\n"
     ]
    }
   ],
   "source": [
    "queue.enqueue(-1)\n",
    "\n",
    "print(queue)\n",
    "\n",
    "print(queue.count)"
   ]
  },
  {
   "cell_type": "code",
   "execution_count": 21,
   "id": "6fa4dcd7",
   "metadata": {},
   "outputs": [
    {
     "name": "stdout",
     "output_type": "stream",
     "text": [
      "Removing: 20 from the queue\n",
      "[Front: 30]<-[40]<-[50]<-[Rear: 100]\n",
      "4\n"
     ]
    }
   ],
   "source": [
    "queue.dequeue()\n",
    "\n",
    "print(queue)\n",
    "\n",
    "print(queue.count)"
   ]
  },
  {
   "cell_type": "code",
   "execution_count": 22,
   "id": "59b4824e",
   "metadata": {},
   "outputs": [
    {
     "name": "stdout",
     "output_type": "stream",
     "text": [
      "Inserting: 200 in the queue\n",
      "[Front: 30]<-[40]<-[50]<-[100]<-[Rear: 200]\n",
      "5\n"
     ]
    }
   ],
   "source": [
    "queue.enqueue(200)\n",
    "\n",
    "print(queue)\n",
    "\n",
    "print(queue.count)"
   ]
  },
  {
   "cell_type": "code",
   "execution_count": null,
   "id": "d9d3f86f",
   "metadata": {},
   "outputs": [],
   "source": []
  }
 ],
 "metadata": {
  "kernelspec": {
   "display_name": "Python 3 (ipykernel)",
   "language": "python",
   "name": "python3"
  },
  "language_info": {
   "codemirror_mode": {
    "name": "ipython",
    "version": 3
   },
   "file_extension": ".py",
   "mimetype": "text/x-python",
   "name": "python",
   "nbconvert_exporter": "python",
   "pygments_lexer": "ipython3",
   "version": "3.8.10"
  }
 },
 "nbformat": 4,
 "nbformat_minor": 5
}
