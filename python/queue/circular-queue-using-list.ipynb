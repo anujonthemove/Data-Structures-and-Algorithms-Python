{
 "cells": [
  {
   "cell_type": "markdown",
   "id": "bbbf6cfb",
   "metadata": {},
   "source": [
    "## Circular Queue using list\n",
    "\n",
    "* This I think can be one idea for implementing circular queue where we reset the queue as soon we see there are no more elements left in the queue\n",
    "\n",
    "\n",
    "* hint for more generic implementation: https://www.techiedelight.com/queue-implementation-python/ but this one is incorrect as it keeps on overwriting on the existing items in the queue"
   ]
  },
  {
   "cell_type": "code",
   "execution_count": 1,
   "id": "97147573",
   "metadata": {},
   "outputs": [],
   "source": [
    "class Queue:\n",
    "    def __init__(self, max_size):\n",
    "        self.items = [None]*max_size\n",
    "        self.capacity = max_size\n",
    "        self.front = -1\n",
    "        self.rear = -1\n",
    "        self.count = 0\n",
    "        \n",
    "    def __len__(self):\n",
    "        return self.count\n",
    "    \n",
    "    def __repr__(self):\n",
    "        nodes = []\n",
    "        counter = 0\n",
    "        ptr = self.front\n",
    "        hit_rear = True\n",
    "        while counter <= self.count:\n",
    "            if ptr == self.front and hit_rear:\n",
    "                nodes.append(\"[Front: %s]\" % self.items[ptr])\n",
    "                hit_rear = False\n",
    "            elif ptr == self.rear:\n",
    "                nodes.append(\"[Rear: %s]\" % self.items[ptr])\n",
    "            else:\n",
    "                nodes.append(\"[%s]\" % self.items[ptr])\n",
    "            ptr = (ptr+1) % self.capacity\n",
    "            counter += 1\n",
    "            \n",
    "        return \"<-\".join(nodes)\n",
    "    \n",
    "    def is_full(self):\n",
    "        return self.count == self.capacity\n",
    "    \n",
    "    def is_empty(self):\n",
    "        return self.count <= 0\n",
    "    \n",
    "    def enqueue(self, data):\n",
    "        if self.is_full():\n",
    "            print(\"Queue is full, dequeue some elements\")\n",
    "            return\n",
    "        if self.front == self.rear == -1:\n",
    "            print(\"first element\")\n",
    "            print(f\"Inserting: {data} into the queue\")\n",
    "            self.front = self.rear = 0\n",
    "            self.items[self.rear] = data\n",
    "            self.rear += 1\n",
    "            self.count += 1\n",
    "        else:\n",
    "            print(f\"Inserting: {data} into the queue\")\n",
    "            self.items[self.rear] = data\n",
    "            self.rear = (self.rear+1) % self.capacity\n",
    "            self.count += 1\n",
    "    \n",
    "    def dequeue(self):\n",
    "        if not self.is_empty():\n",
    "            data = self.items[self.front]\n",
    "            # additional step, though not required\n",
    "            self.items[self.front] = None\n",
    "            print(f\"Removing: {data} from the front of the queue\")\n",
    "            self.front = (self.front+1) % self.capacity\n",
    "            self.count -= 1\n",
    "        # It is fine even if we do not reset the queue\n",
    "        elif self.count == 0:\n",
    "            print(\"resetting queue to -1\")\n",
    "            self.front = self.rear = -1\n",
    "        else:\n",
    "            print(\"empty queue, cannot dequeue\")"
   ]
  },
  {
   "cell_type": "code",
   "execution_count": 2,
   "id": "ad3a4d74",
   "metadata": {},
   "outputs": [],
   "source": [
    "queue = Queue(5)"
   ]
  },
  {
   "cell_type": "code",
   "execution_count": 3,
   "id": "b9c2e127",
   "metadata": {},
   "outputs": [
    {
     "name": "stdout",
     "output_type": "stream",
     "text": [
      "first element\n",
      "Inserting: 10 into the queue\n",
      "Inserting: 20 into the queue\n",
      "Inserting: 30 into the queue\n",
      "Inserting: 40 into the queue\n",
      "Inserting: 50 into the queue\n"
     ]
    }
   ],
   "source": [
    "for i in range(10, 60, 10):\n",
    "    queue.enqueue(i)"
   ]
  },
  {
   "cell_type": "code",
   "execution_count": 4,
   "id": "641b6773",
   "metadata": {},
   "outputs": [
    {
     "data": {
      "text/plain": [
       "[Front: 10]<-[20]<-[30]<-[40]<-[50]<-[Rear: 10]"
      ]
     },
     "execution_count": 4,
     "metadata": {},
     "output_type": "execute_result"
    }
   ],
   "source": [
    "queue"
   ]
  },
  {
   "cell_type": "code",
   "execution_count": 5,
   "id": "08866143",
   "metadata": {},
   "outputs": [
    {
     "name": "stdout",
     "output_type": "stream",
     "text": [
      "Removing: 10 from the front of the queue\n",
      "Removing: 20 from the front of the queue\n",
      "Removing: 30 from the front of the queue\n"
     ]
    }
   ],
   "source": [
    "queue.dequeue()\n",
    "queue.dequeue()\n",
    "queue.dequeue()"
   ]
  },
  {
   "cell_type": "code",
   "execution_count": 6,
   "id": "9a1b423f",
   "metadata": {},
   "outputs": [
    {
     "data": {
      "text/plain": [
       "[Front: 40]<-[50]<-[Rear: None]"
      ]
     },
     "execution_count": 6,
     "metadata": {},
     "output_type": "execute_result"
    }
   ],
   "source": [
    "queue"
   ]
  },
  {
   "cell_type": "code",
   "execution_count": 7,
   "id": "629aeebd",
   "metadata": {},
   "outputs": [
    {
     "data": {
      "text/plain": [
       "3"
      ]
     },
     "execution_count": 7,
     "metadata": {},
     "output_type": "execute_result"
    }
   ],
   "source": [
    "queue.front"
   ]
  },
  {
   "cell_type": "code",
   "execution_count": 8,
   "id": "33076c9c",
   "metadata": {},
   "outputs": [
    {
     "data": {
      "text/plain": [
       "0"
      ]
     },
     "execution_count": 8,
     "metadata": {},
     "output_type": "execute_result"
    }
   ],
   "source": [
    "queue.rear"
   ]
  },
  {
   "cell_type": "code",
   "execution_count": 9,
   "id": "f3b9c285",
   "metadata": {},
   "outputs": [
    {
     "data": {
      "text/plain": [
       "[None, None, None, 40, 50]"
      ]
     },
     "execution_count": 9,
     "metadata": {},
     "output_type": "execute_result"
    }
   ],
   "source": [
    "queue.items"
   ]
  },
  {
   "cell_type": "code",
   "execution_count": 10,
   "id": "930b160c",
   "metadata": {},
   "outputs": [
    {
     "data": {
      "text/plain": [
       "2"
      ]
     },
     "execution_count": 10,
     "metadata": {},
     "output_type": "execute_result"
    }
   ],
   "source": [
    "queue.count"
   ]
  },
  {
   "cell_type": "code",
   "execution_count": 11,
   "id": "8095c640",
   "metadata": {},
   "outputs": [
    {
     "data": {
      "text/plain": [
       "3"
      ]
     },
     "execution_count": 11,
     "metadata": {},
     "output_type": "execute_result"
    }
   ],
   "source": [
    "queue.front"
   ]
  },
  {
   "cell_type": "code",
   "execution_count": 12,
   "id": "a27fcae9",
   "metadata": {},
   "outputs": [
    {
     "data": {
      "text/plain": [
       "0"
      ]
     },
     "execution_count": 12,
     "metadata": {},
     "output_type": "execute_result"
    }
   ],
   "source": [
    "queue.rear"
   ]
  },
  {
   "cell_type": "code",
   "execution_count": 13,
   "id": "f5e4e07a",
   "metadata": {},
   "outputs": [
    {
     "name": "stdout",
     "output_type": "stream",
     "text": [
      "Inserting: 10 into the queue\n"
     ]
    }
   ],
   "source": [
    "queue.enqueue(10)"
   ]
  },
  {
   "cell_type": "code",
   "execution_count": 14,
   "id": "d8807f27",
   "metadata": {},
   "outputs": [
    {
     "data": {
      "text/plain": [
       "[10, None, None, 40, 50]"
      ]
     },
     "execution_count": 14,
     "metadata": {},
     "output_type": "execute_result"
    }
   ],
   "source": [
    "queue.items"
   ]
  },
  {
   "cell_type": "code",
   "execution_count": 15,
   "id": "a2036d51",
   "metadata": {},
   "outputs": [
    {
     "name": "stdout",
     "output_type": "stream",
     "text": [
      "Inserting: 20 into the queue\n"
     ]
    }
   ],
   "source": [
    "queue.enqueue(20)"
   ]
  },
  {
   "cell_type": "code",
   "execution_count": 16,
   "id": "53dfba00",
   "metadata": {},
   "outputs": [
    {
     "data": {
      "text/plain": [
       "[10, 20, None, 40, 50]"
      ]
     },
     "execution_count": 16,
     "metadata": {},
     "output_type": "execute_result"
    }
   ],
   "source": [
    "queue.items"
   ]
  },
  {
   "cell_type": "code",
   "execution_count": 17,
   "id": "344dadcc",
   "metadata": {},
   "outputs": [
    {
     "name": "stdout",
     "output_type": "stream",
     "text": [
      "Removing: 40 from the front of the queue\n",
      "Removing: 50 from the front of the queue\n",
      "Removing: 10 from the front of the queue\n",
      "Removing: 20 from the front of the queue\n",
      "resetting queue to -1\n",
      "resetting queue to -1\n",
      "resetting queue to -1\n",
      "resetting queue to -1\n",
      "resetting queue to -1\n",
      "resetting queue to -1\n"
     ]
    }
   ],
   "source": [
    "for _ in range(10):\n",
    "    queue.dequeue()"
   ]
  },
  {
   "cell_type": "code",
   "execution_count": 18,
   "id": "2bf839ba",
   "metadata": {},
   "outputs": [
    {
     "data": {
      "text/plain": [
       "[None, None, None, None, None]"
      ]
     },
     "execution_count": 18,
     "metadata": {},
     "output_type": "execute_result"
    }
   ],
   "source": [
    "queue.items"
   ]
  },
  {
   "cell_type": "code",
   "execution_count": 19,
   "id": "0e4bd102",
   "metadata": {},
   "outputs": [
    {
     "data": {
      "text/plain": [
       "0"
      ]
     },
     "execution_count": 19,
     "metadata": {},
     "output_type": "execute_result"
    }
   ],
   "source": [
    "queue.count"
   ]
  },
  {
   "cell_type": "code",
   "execution_count": 20,
   "id": "1647dcc7",
   "metadata": {},
   "outputs": [
    {
     "data": {
      "text/plain": [
       "-1"
      ]
     },
     "execution_count": 20,
     "metadata": {},
     "output_type": "execute_result"
    }
   ],
   "source": [
    "queue.front"
   ]
  },
  {
   "cell_type": "code",
   "execution_count": 21,
   "id": "e4596189",
   "metadata": {},
   "outputs": [
    {
     "data": {
      "text/plain": [
       "-1"
      ]
     },
     "execution_count": 21,
     "metadata": {},
     "output_type": "execute_result"
    }
   ],
   "source": [
    "queue.rear"
   ]
  },
  {
   "cell_type": "code",
   "execution_count": 22,
   "id": "d00e9bae",
   "metadata": {},
   "outputs": [
    {
     "data": {
      "text/plain": [
       "[None, None, None, None, None]"
      ]
     },
     "execution_count": 22,
     "metadata": {},
     "output_type": "execute_result"
    }
   ],
   "source": [
    "queue.items"
   ]
  },
  {
   "cell_type": "code",
   "execution_count": 23,
   "id": "2c8ff1d2",
   "metadata": {},
   "outputs": [
    {
     "name": "stdout",
     "output_type": "stream",
     "text": [
      "first element\n",
      "Inserting: 0 into the queue\n",
      "Inserting: 1 into the queue\n",
      "Inserting: 2 into the queue\n",
      "Inserting: 3 into the queue\n",
      "Inserting: 4 into the queue\n",
      "Queue is full, dequeue some elements\n",
      "Queue is full, dequeue some elements\n",
      "Queue is full, dequeue some elements\n",
      "Queue is full, dequeue some elements\n",
      "Queue is full, dequeue some elements\n"
     ]
    }
   ],
   "source": [
    "for i in range(10):\n",
    "    queue.enqueue(i)"
   ]
  },
  {
   "cell_type": "code",
   "execution_count": 24,
   "id": "93de03f0",
   "metadata": {},
   "outputs": [
    {
     "data": {
      "text/plain": [
       "[0, 1, 2, 3, 4]"
      ]
     },
     "execution_count": 24,
     "metadata": {},
     "output_type": "execute_result"
    }
   ],
   "source": [
    "queue.items"
   ]
  },
  {
   "cell_type": "code",
   "execution_count": 25,
   "id": "e1b12eec",
   "metadata": {},
   "outputs": [
    {
     "name": "stdout",
     "output_type": "stream",
     "text": [
      "Removing: 0 from the front of the queue\n"
     ]
    }
   ],
   "source": [
    "queue.dequeue()"
   ]
  },
  {
   "cell_type": "code",
   "execution_count": 26,
   "id": "89a45336",
   "metadata": {},
   "outputs": [
    {
     "name": "stdout",
     "output_type": "stream",
     "text": [
      "Removing: 1 from the front of the queue\n"
     ]
    }
   ],
   "source": [
    "queue.dequeue()"
   ]
  },
  {
   "cell_type": "code",
   "execution_count": 27,
   "id": "90343a78",
   "metadata": {},
   "outputs": [
    {
     "data": {
      "text/plain": [
       "[None, None, 2, 3, 4]"
      ]
     },
     "execution_count": 27,
     "metadata": {},
     "output_type": "execute_result"
    }
   ],
   "source": [
    "queue.items"
   ]
  },
  {
   "cell_type": "code",
   "execution_count": 28,
   "id": "bc2b07a3",
   "metadata": {},
   "outputs": [
    {
     "data": {
      "text/plain": [
       "2"
      ]
     },
     "execution_count": 28,
     "metadata": {},
     "output_type": "execute_result"
    }
   ],
   "source": [
    "queue.front"
   ]
  },
  {
   "cell_type": "code",
   "execution_count": 29,
   "id": "823aef0e",
   "metadata": {},
   "outputs": [
    {
     "data": {
      "text/plain": [
       "0"
      ]
     },
     "execution_count": 29,
     "metadata": {},
     "output_type": "execute_result"
    }
   ],
   "source": [
    "queue.rear"
   ]
  },
  {
   "cell_type": "code",
   "execution_count": 30,
   "id": "ed9d9c4d",
   "metadata": {},
   "outputs": [
    {
     "name": "stdout",
     "output_type": "stream",
     "text": [
      "Inserting: 10 into the queue\n"
     ]
    }
   ],
   "source": [
    "queue.enqueue(10)"
   ]
  },
  {
   "cell_type": "code",
   "execution_count": 31,
   "id": "2bc8bf20",
   "metadata": {},
   "outputs": [
    {
     "name": "stdout",
     "output_type": "stream",
     "text": [
      "Inserting: 20 into the queue\n"
     ]
    }
   ],
   "source": [
    "queue.enqueue(20)"
   ]
  },
  {
   "cell_type": "code",
   "execution_count": 32,
   "id": "08bd3899",
   "metadata": {},
   "outputs": [
    {
     "name": "stdout",
     "output_type": "stream",
     "text": [
      "Queue is full, dequeue some elements\n"
     ]
    }
   ],
   "source": [
    "queue.enqueue(30)"
   ]
  },
  {
   "cell_type": "code",
   "execution_count": 33,
   "id": "586ad11f",
   "metadata": {},
   "outputs": [
    {
     "data": {
      "text/plain": [
       "[10, 20, 2, 3, 4]"
      ]
     },
     "execution_count": 33,
     "metadata": {},
     "output_type": "execute_result"
    }
   ],
   "source": [
    "queue.items"
   ]
  },
  {
   "cell_type": "code",
   "execution_count": 34,
   "id": "b8884831",
   "metadata": {},
   "outputs": [
    {
     "data": {
      "text/plain": [
       "[Front: 2]<-[3]<-[4]<-[10]<-[20]<-[Rear: 2]"
      ]
     },
     "execution_count": 34,
     "metadata": {},
     "output_type": "execute_result"
    }
   ],
   "source": [
    "queue"
   ]
  },
  {
   "cell_type": "code",
   "execution_count": 35,
   "id": "5356e524",
   "metadata": {},
   "outputs": [
    {
     "data": {
      "text/plain": [
       "2"
      ]
     },
     "execution_count": 35,
     "metadata": {},
     "output_type": "execute_result"
    }
   ],
   "source": [
    "queue.front"
   ]
  },
  {
   "cell_type": "code",
   "execution_count": 36,
   "id": "88cd538c",
   "metadata": {},
   "outputs": [
    {
     "data": {
      "text/plain": [
       "2"
      ]
     },
     "execution_count": 36,
     "metadata": {},
     "output_type": "execute_result"
    }
   ],
   "source": [
    "queue.rear"
   ]
  },
  {
   "cell_type": "code",
   "execution_count": null,
   "id": "25658109",
   "metadata": {},
   "outputs": [],
   "source": []
  }
 ],
 "metadata": {
  "kernelspec": {
   "display_name": "Python 3 (ipykernel)",
   "language": "python",
   "name": "python3"
  },
  "language_info": {
   "codemirror_mode": {
    "name": "ipython",
    "version": 3
   },
   "file_extension": ".py",
   "mimetype": "text/x-python",
   "name": "python",
   "nbconvert_exporter": "python",
   "pygments_lexer": "ipython3",
   "version": "3.8.10"
  }
 },
 "nbformat": 4,
 "nbformat_minor": 5
}
