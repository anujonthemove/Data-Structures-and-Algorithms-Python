{
 "cells": [
  {
   "cell_type": "markdown",
   "id": "b33ececc",
   "metadata": {},
   "source": [
    "## Double Ended Queue using Doubly Linked List"
   ]
  },
  {
   "cell_type": "code",
   "execution_count": 1,
   "id": "d121e9af",
   "metadata": {},
   "outputs": [],
   "source": [
    "class Node:\n",
    "    def __init__(self, data):\n",
    "        self.data = data\n",
    "        self.prev = None\n",
    "        self.next = None\n",
    "    \n",
    "    def __repr__(self):\n",
    "        return \"<Node: %s>\" % self.data"
   ]
  },
  {
   "cell_type": "code",
   "execution_count": 2,
   "id": "fac9be0f",
   "metadata": {},
   "outputs": [
    {
     "data": {
      "text/plain": [
       "<Node: 10>"
      ]
     },
     "execution_count": 2,
     "metadata": {},
     "output_type": "execute_result"
    }
   ],
   "source": [
    "Node(10)"
   ]
  },
  {
   "cell_type": "code",
   "execution_count": 13,
   "id": "0c18ca36",
   "metadata": {},
   "outputs": [],
   "source": [
    "class Dequeue:\n",
    "    def __init__(self, max_size):\n",
    "        self.capacity = max_size\n",
    "        self.front = None\n",
    "        self.rear = None\n",
    "        self.count = 0\n",
    "    \n",
    "    def __len__(self):\n",
    "        return self.count\n",
    "    \n",
    "    def __repr__(self):\n",
    "        nodes = []\n",
    "        ptr = self.front\n",
    "        \n",
    "        while ptr:\n",
    "            if ptr == self.front:\n",
    "                nodes.append(\"[Front: %s]\" % ptr.data)\n",
    "            elif ptr == self.rear:\n",
    "                nodes.append(\"[Rear: %s]\" % ptr.data)\n",
    "            else:\n",
    "                nodes.append(\"[%s]\" % ptr.data)\n",
    "            \n",
    "            ptr = ptr.next\n",
    "        return \"<-\".join(nodes)\n",
    "            \n",
    "    def __iter__(self):\n",
    "        pass\n",
    "    \n",
    "    def is_empty(self):\n",
    "        return self.count == 0\n",
    "    \n",
    "    def is_full(self):\n",
    "        return self.count == self.capacity\n",
    "    \n",
    "    def enqueue(self, data, position):\n",
    "        if self.is_full():\n",
    "            print(\"Dequeue is full, nothing to queue\")\n",
    "            return\n",
    "        \n",
    "        if isinstance(position, str):\n",
    "            if position == \"front\":\n",
    "                node = Node(data)\n",
    "                if self.front == self.rear == None:\n",
    "                    print(\"Inserting first item in the dequeue\")\n",
    "                    print(f\"Inserting: {data} in the dequeue from front\")\n",
    "                    self.front = self.rear = node\n",
    "                    \n",
    "                else:\n",
    "                    print(f\"Inserting: {data} in the dequeue from front\")\n",
    "                    node.next = self.front\n",
    "                    self.front.prev = node\n",
    "                    self.front = node\n",
    "                    \n",
    "                self.count += 1\n",
    "                \n",
    "            elif position == \"rear\":\n",
    "                node = Node(data)\n",
    "                if self.front == self.rear == None:\n",
    "                    print(\"Inserting first item in the dequeue\")\n",
    "                    print(f\"Inserting: {data} in the dequeue from front\")\n",
    "                    self.front = self.rear = node\n",
    "                    \n",
    "                else:\n",
    "                    print(f\"Inserting: {data} at the rear of dequeue\")\n",
    "                    self.rear.next = node\n",
    "                    node.prev = self.rear\n",
    "                    self.rear = node\n",
    "                    \n",
    "                self.count += 1\n",
    "            else:\n",
    "                print(\"Incorrect string. Enter either 'front' or 'rear' to enqueue\")\n",
    "                return\n",
    "        else:\n",
    "            print(\"Not a string. Enter either front or rear to enqeue\")\n",
    "            return\n",
    "        \n",
    "    \n",
    "    def dequeue(self, position):\n",
    "        if self.is_empty():\n",
    "            print(\"Dequeue is empty, nothing to dequeue\")\n",
    "            return\n",
    "        \n",
    "        if isinstance(position, str):\n",
    "            if position == \"front\":\n",
    "                data = self.front.data\n",
    "                temp = self.front\n",
    "                print(f\"Removing: {data} from front of the dequeue\")\n",
    "                \n",
    "                if self.front == self.rear:\n",
    "                    self.front = self.rear = None\n",
    "                else:\n",
    "                    self.front = self.front.next\n",
    "                    self.front.prev = None\n",
    "                \n",
    "                self.count -= 1\n",
    "                del temp\n",
    "                \n",
    "            elif position == \"rear\":\n",
    "                \n",
    "                temp = self.rear\n",
    "                data = self.rear.data\n",
    "                print(f\"Removing: {data} from rear of the dequeue\")\n",
    "                \n",
    "                if self.front == self.rear:\n",
    "                    self.front = self.rear = None\n",
    "                else:\n",
    "                    self.rear = self.rear.prev\n",
    "                    self.rear.next = None\n",
    "                \n",
    "                self.count -= 1\n",
    "                del temp\n",
    "            else:\n",
    "                print(\"Incorrect string. Enter either 'front' or 'rear' to enqueue\")\n",
    "                return\n",
    "        else:\n",
    "            print(\"Not a string. Enter either front or rear to enqeue\")\n",
    "            return"
   ]
  },
  {
   "cell_type": "markdown",
   "id": "7196391b",
   "metadata": {},
   "source": [
    "#### insert at rear"
   ]
  },
  {
   "cell_type": "code",
   "execution_count": 14,
   "id": "e852f1d5",
   "metadata": {},
   "outputs": [],
   "source": [
    "dequeue = Dequeue(max_size=5)"
   ]
  },
  {
   "cell_type": "code",
   "execution_count": 15,
   "id": "af8dac3e",
   "metadata": {},
   "outputs": [
    {
     "data": {
      "text/plain": []
     },
     "execution_count": 15,
     "metadata": {},
     "output_type": "execute_result"
    }
   ],
   "source": [
    "dequeue"
   ]
  },
  {
   "cell_type": "code",
   "execution_count": 16,
   "id": "22a4dfd4",
   "metadata": {},
   "outputs": [
    {
     "name": "stdout",
     "output_type": "stream",
     "text": [
      "Inserting first item in the dequeue\n",
      "Inserting: 10 in the dequeue from front\n",
      "[Front: 10]\n",
      "<Node: 10>\n",
      "<Node: 10>\n"
     ]
    }
   ],
   "source": [
    "dequeue.enqueue(10, position=\"rear\")\n",
    "print(dequeue)\n",
    "print(dequeue.front)\n",
    "print(dequeue.rear)"
   ]
  },
  {
   "cell_type": "code",
   "execution_count": 17,
   "id": "67dc6ede",
   "metadata": {},
   "outputs": [
    {
     "name": "stdout",
     "output_type": "stream",
     "text": [
      "Inserting: 20 at the rear of dequeue\n",
      "[Front: 10]<-[Rear: 20]\n",
      "<Node: 10>\n",
      "<Node: 20>\n"
     ]
    }
   ],
   "source": [
    "dequeue.enqueue(20, position=\"rear\")\n",
    "print(dequeue)\n",
    "print(dequeue.front)\n",
    "print(dequeue.rear)"
   ]
  },
  {
   "cell_type": "code",
   "execution_count": 18,
   "id": "354794b1",
   "metadata": {},
   "outputs": [
    {
     "name": "stdout",
     "output_type": "stream",
     "text": [
      "Inserting: 30 at the rear of dequeue\n",
      "[Front: 10]<-[20]<-[Rear: 30]\n",
      "<Node: 10>\n",
      "<Node: 30>\n"
     ]
    }
   ],
   "source": [
    "dequeue.enqueue(30, position=\"rear\")\n",
    "print(dequeue)\n",
    "print(dequeue.front)\n",
    "print(dequeue.rear)"
   ]
  },
  {
   "cell_type": "code",
   "execution_count": 19,
   "id": "b52e725d",
   "metadata": {},
   "outputs": [
    {
     "name": "stdout",
     "output_type": "stream",
     "text": [
      "Inserting: 40 at the rear of dequeue\n",
      "[Front: 10]<-[20]<-[30]<-[Rear: 40]\n",
      "<Node: 10>\n",
      "<Node: 40>\n"
     ]
    }
   ],
   "source": [
    "dequeue.enqueue(40, position=\"rear\")\n",
    "print(dequeue)\n",
    "print(dequeue.front)\n",
    "print(dequeue.rear)"
   ]
  },
  {
   "cell_type": "code",
   "execution_count": 20,
   "id": "84cabd4b",
   "metadata": {},
   "outputs": [
    {
     "name": "stdout",
     "output_type": "stream",
     "text": [
      "Inserting: 50 at the rear of dequeue\n",
      "[Front: 10]<-[20]<-[30]<-[40]<-[Rear: 50]\n",
      "<Node: 10>\n",
      "<Node: 50>\n"
     ]
    }
   ],
   "source": [
    "dequeue.enqueue(50, position=\"rear\")\n",
    "print(dequeue)\n",
    "print(dequeue.front)\n",
    "print(dequeue.rear)"
   ]
  },
  {
   "cell_type": "markdown",
   "id": "d053bf00",
   "metadata": {},
   "source": [
    "#### dequeue from rear"
   ]
  },
  {
   "cell_type": "code",
   "execution_count": 21,
   "id": "fdd00d33",
   "metadata": {},
   "outputs": [
    {
     "name": "stdout",
     "output_type": "stream",
     "text": [
      "Removing: 50 from rear of the dequeue\n",
      "[Front: 10]<-[20]<-[30]<-[Rear: 40]\n",
      "<Node: 10>\n",
      "<Node: 40>\n"
     ]
    }
   ],
   "source": [
    "dequeue.dequeue(position=\"rear\")\n",
    "print(dequeue)\n",
    "print(dequeue.front)\n",
    "print(dequeue.rear)"
   ]
  },
  {
   "cell_type": "code",
   "execution_count": 22,
   "id": "3852ca3d",
   "metadata": {},
   "outputs": [
    {
     "name": "stdout",
     "output_type": "stream",
     "text": [
      "Removing: 40 from rear of the dequeue\n",
      "[Front: 10]<-[20]<-[Rear: 30]\n",
      "<Node: 10>\n",
      "<Node: 30>\n"
     ]
    }
   ],
   "source": [
    "dequeue.dequeue(position=\"rear\")\n",
    "print(dequeue)\n",
    "print(dequeue.front)\n",
    "print(dequeue.rear)"
   ]
  },
  {
   "cell_type": "code",
   "execution_count": 23,
   "id": "60b1b431",
   "metadata": {},
   "outputs": [
    {
     "name": "stdout",
     "output_type": "stream",
     "text": [
      "Removing: 30 from rear of the dequeue\n",
      "[Front: 10]<-[Rear: 20]\n",
      "<Node: 10>\n",
      "<Node: 20>\n"
     ]
    }
   ],
   "source": [
    "dequeue.dequeue(position=\"rear\")\n",
    "print(dequeue)\n",
    "print(dequeue.front)\n",
    "print(dequeue.rear)"
   ]
  },
  {
   "cell_type": "code",
   "execution_count": 24,
   "id": "4ec77f5f",
   "metadata": {},
   "outputs": [
    {
     "name": "stdout",
     "output_type": "stream",
     "text": [
      "Removing: 20 from rear of the dequeue\n",
      "[Front: 10]\n",
      "<Node: 10>\n",
      "<Node: 10>\n"
     ]
    }
   ],
   "source": [
    "dequeue.dequeue(position=\"rear\")\n",
    "print(dequeue)\n",
    "print(dequeue.front)\n",
    "print(dequeue.rear)"
   ]
  },
  {
   "cell_type": "code",
   "execution_count": 25,
   "id": "28389aa6",
   "metadata": {},
   "outputs": [
    {
     "name": "stdout",
     "output_type": "stream",
     "text": [
      "Removing: 10 from rear of the dequeue\n",
      "\n",
      "None\n",
      "None\n"
     ]
    }
   ],
   "source": [
    "dequeue.dequeue(position=\"rear\")\n",
    "print(dequeue)\n",
    "print(dequeue.front)\n",
    "print(dequeue.rear)"
   ]
  },
  {
   "cell_type": "code",
   "execution_count": 26,
   "id": "f43d2631",
   "metadata": {},
   "outputs": [
    {
     "name": "stdout",
     "output_type": "stream",
     "text": [
      "Dequeue is empty, nothing to dequeue\n",
      "\n",
      "None\n",
      "None\n"
     ]
    }
   ],
   "source": [
    "dequeue.dequeue(position=\"rear\")\n",
    "print(dequeue)\n",
    "print(dequeue.front)\n",
    "print(dequeue.rear)"
   ]
  },
  {
   "cell_type": "code",
   "execution_count": 27,
   "id": "d6ee43c3",
   "metadata": {},
   "outputs": [
    {
     "data": {
      "text/plain": []
     },
     "execution_count": 27,
     "metadata": {},
     "output_type": "execute_result"
    }
   ],
   "source": [
    "dequeue"
   ]
  },
  {
   "cell_type": "markdown",
   "id": "b0b229eb",
   "metadata": {},
   "source": [
    "#### insert from front"
   ]
  },
  {
   "cell_type": "code",
   "execution_count": 28,
   "id": "38818e67",
   "metadata": {},
   "outputs": [],
   "source": [
    "dequeue = Dequeue(max_size=5)"
   ]
  },
  {
   "cell_type": "code",
   "execution_count": 29,
   "id": "6a63282a",
   "metadata": {},
   "outputs": [
    {
     "data": {
      "text/plain": []
     },
     "execution_count": 29,
     "metadata": {},
     "output_type": "execute_result"
    }
   ],
   "source": [
    "dequeue"
   ]
  },
  {
   "cell_type": "code",
   "execution_count": 30,
   "id": "9304433a",
   "metadata": {},
   "outputs": [
    {
     "name": "stdout",
     "output_type": "stream",
     "text": [
      "Inserting first item in the dequeue\n",
      "Inserting: 10 in the dequeue from front\n",
      "[Front: 10]\n",
      "<Node: 10>\n",
      "<Node: 10>\n"
     ]
    }
   ],
   "source": [
    "dequeue.enqueue(10, position=\"front\")\n",
    "print(dequeue)\n",
    "print(dequeue.front)\n",
    "print(dequeue.rear)"
   ]
  },
  {
   "cell_type": "code",
   "execution_count": 31,
   "id": "a3dbd08b",
   "metadata": {},
   "outputs": [
    {
     "name": "stdout",
     "output_type": "stream",
     "text": [
      "Inserting: 20 in the dequeue from front\n",
      "[Front: 20]<-[Rear: 10]\n",
      "<Node: 20>\n",
      "<Node: 10>\n"
     ]
    }
   ],
   "source": [
    "dequeue.enqueue(20, position=\"front\")\n",
    "print(dequeue)\n",
    "print(dequeue.front)\n",
    "print(dequeue.rear)"
   ]
  },
  {
   "cell_type": "code",
   "execution_count": 32,
   "id": "72117fe5",
   "metadata": {},
   "outputs": [
    {
     "name": "stdout",
     "output_type": "stream",
     "text": [
      "Inserting: 30 in the dequeue from front\n",
      "[Front: 30]<-[20]<-[Rear: 10]\n",
      "<Node: 30>\n",
      "<Node: 10>\n"
     ]
    }
   ],
   "source": [
    "dequeue.enqueue(30, position=\"front\")\n",
    "print(dequeue)\n",
    "print(dequeue.front)\n",
    "print(dequeue.rear)"
   ]
  },
  {
   "cell_type": "code",
   "execution_count": 33,
   "id": "52d26da1",
   "metadata": {},
   "outputs": [
    {
     "name": "stdout",
     "output_type": "stream",
     "text": [
      "Inserting: 40 in the dequeue from front\n",
      "[Front: 40]<-[30]<-[20]<-[Rear: 10]\n",
      "<Node: 40>\n",
      "<Node: 10>\n"
     ]
    }
   ],
   "source": [
    "dequeue.enqueue(40, position=\"front\")\n",
    "print(dequeue)\n",
    "print(dequeue.front)\n",
    "print(dequeue.rear)"
   ]
  },
  {
   "cell_type": "code",
   "execution_count": 34,
   "id": "25cfbd04",
   "metadata": {},
   "outputs": [
    {
     "name": "stdout",
     "output_type": "stream",
     "text": [
      "Inserting: 50 in the dequeue from front\n",
      "[Front: 50]<-[40]<-[30]<-[20]<-[Rear: 10]\n",
      "<Node: 50>\n",
      "<Node: 10>\n"
     ]
    }
   ],
   "source": [
    "dequeue.enqueue(50, position=\"front\")\n",
    "print(dequeue)\n",
    "print(dequeue.front)\n",
    "print(dequeue.rear)"
   ]
  },
  {
   "cell_type": "code",
   "execution_count": null,
   "id": "a48ca4ee",
   "metadata": {},
   "outputs": [],
   "source": []
  },
  {
   "cell_type": "code",
   "execution_count": 37,
   "id": "8a647a3d",
   "metadata": {},
   "outputs": [
    {
     "name": "stdout",
     "output_type": "stream",
     "text": [
      "Dequeue is full, nothing to queue\n",
      "[Front: 50]<-[40]<-[30]<-[20]<-[Rear: 10]\n",
      "<Node: 50>\n",
      "<Node: 10>\n"
     ]
    }
   ],
   "source": [
    "dequeue.enqueue(30, position=\"front\")\n",
    "print(dequeue)\n",
    "print(dequeue.front)\n",
    "print(dequeue.rear)"
   ]
  },
  {
   "cell_type": "code",
   "execution_count": 38,
   "id": "deeb5fef",
   "metadata": {},
   "outputs": [
    {
     "name": "stdout",
     "output_type": "stream",
     "text": [
      "Dequeue is full, nothing to queue\n",
      "[Front: 50]<-[40]<-[30]<-[20]<-[Rear: 10]\n",
      "<Node: 50>\n",
      "<Node: 10>\n"
     ]
    }
   ],
   "source": [
    "dequeue.enqueue(40, position=\"front\")\n",
    "print(dequeue)\n",
    "print(dequeue.front)\n",
    "print(dequeue.rear)"
   ]
  },
  {
   "cell_type": "code",
   "execution_count": 39,
   "id": "29cb7e0a",
   "metadata": {},
   "outputs": [
    {
     "name": "stdout",
     "output_type": "stream",
     "text": [
      "Dequeue is full, nothing to queue\n",
      "[Front: 50]<-[40]<-[30]<-[20]<-[Rear: 10]\n",
      "<Node: 50>\n",
      "<Node: 10>\n"
     ]
    }
   ],
   "source": [
    "dequeue.enqueue(50, position=\"front\")\n",
    "print(dequeue)\n",
    "print(dequeue.front)\n",
    "print(dequeue.rear)"
   ]
  },
  {
   "cell_type": "markdown",
   "id": "3bf337bc",
   "metadata": {},
   "source": [
    "#### dequeue from front"
   ]
  },
  {
   "cell_type": "code",
   "execution_count": 40,
   "id": "ee7ab019",
   "metadata": {},
   "outputs": [
    {
     "name": "stdout",
     "output_type": "stream",
     "text": [
      "Removing: 50 from front of the dequeue\n",
      "[Front: 40]<-[30]<-[20]<-[Rear: 10]\n",
      "<Node: 40>\n",
      "<Node: 10>\n"
     ]
    }
   ],
   "source": [
    "dequeue.dequeue(position=\"front\")\n",
    "print(dequeue)\n",
    "print(dequeue.front)\n",
    "print(dequeue.rear)"
   ]
  },
  {
   "cell_type": "code",
   "execution_count": 41,
   "id": "e5d72316",
   "metadata": {},
   "outputs": [
    {
     "name": "stdout",
     "output_type": "stream",
     "text": [
      "Removing: 40 from front of the dequeue\n",
      "[Front: 30]<-[20]<-[Rear: 10]\n",
      "<Node: 30>\n",
      "<Node: 10>\n"
     ]
    }
   ],
   "source": [
    "dequeue.dequeue(position=\"front\")\n",
    "print(dequeue)\n",
    "print(dequeue.front)\n",
    "print(dequeue.rear)"
   ]
  },
  {
   "cell_type": "code",
   "execution_count": 42,
   "id": "0dd4ce93",
   "metadata": {},
   "outputs": [
    {
     "name": "stdout",
     "output_type": "stream",
     "text": [
      "Removing: 30 from front of the dequeue\n",
      "[Front: 20]<-[Rear: 10]\n",
      "<Node: 20>\n",
      "<Node: 10>\n"
     ]
    }
   ],
   "source": [
    "dequeue.dequeue(position=\"front\")\n",
    "print(dequeue)\n",
    "print(dequeue.front)\n",
    "print(dequeue.rear)"
   ]
  },
  {
   "cell_type": "code",
   "execution_count": 43,
   "id": "4b41f1a5",
   "metadata": {},
   "outputs": [
    {
     "name": "stdout",
     "output_type": "stream",
     "text": [
      "Removing: 20 from front of the dequeue\n",
      "[Front: 10]\n",
      "<Node: 10>\n",
      "<Node: 10>\n"
     ]
    }
   ],
   "source": [
    "dequeue.dequeue(position=\"front\")\n",
    "print(dequeue)\n",
    "print(dequeue.front)\n",
    "print(dequeue.rear)"
   ]
  },
  {
   "cell_type": "code",
   "execution_count": 44,
   "id": "e54ce451",
   "metadata": {},
   "outputs": [
    {
     "name": "stdout",
     "output_type": "stream",
     "text": [
      "Removing: 10 from front of the dequeue\n",
      "\n",
      "None\n",
      "None\n"
     ]
    }
   ],
   "source": [
    "dequeue.dequeue(position=\"front\")\n",
    "print(dequeue)\n",
    "print(dequeue.front)\n",
    "print(dequeue.rear)"
   ]
  },
  {
   "cell_type": "code",
   "execution_count": 45,
   "id": "5dec0b50",
   "metadata": {},
   "outputs": [
    {
     "name": "stdout",
     "output_type": "stream",
     "text": [
      "Dequeue is empty, nothing to dequeue\n",
      "\n",
      "None\n",
      "None\n"
     ]
    }
   ],
   "source": [
    "dequeue.dequeue(position=\"front\")\n",
    "print(dequeue)\n",
    "print(dequeue.front)\n",
    "print(dequeue.rear)"
   ]
  },
  {
   "cell_type": "code",
   "execution_count": 46,
   "id": "6dd7a662",
   "metadata": {},
   "outputs": [
    {
     "data": {
      "text/plain": []
     },
     "execution_count": 46,
     "metadata": {},
     "output_type": "execute_result"
    }
   ],
   "source": [
    "dequeue"
   ]
  },
  {
   "cell_type": "code",
   "execution_count": null,
   "id": "a121b537",
   "metadata": {},
   "outputs": [],
   "source": []
  },
  {
   "cell_type": "code",
   "execution_count": null,
   "id": "857e0bb5",
   "metadata": {},
   "outputs": [],
   "source": []
  }
 ],
 "metadata": {
  "kernelspec": {
   "display_name": "Python 3 (ipykernel)",
   "language": "python",
   "name": "python3"
  },
  "language_info": {
   "codemirror_mode": {
    "name": "ipython",
    "version": 3
   },
   "file_extension": ".py",
   "mimetype": "text/x-python",
   "name": "python",
   "nbconvert_exporter": "python",
   "pygments_lexer": "ipython3",
   "version": "3.8.10"
  }
 },
 "nbformat": 4,
 "nbformat_minor": 5
}
