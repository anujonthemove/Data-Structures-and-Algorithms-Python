{
 "cells": [
  {
   "cell_type": "markdown",
   "id": "c1044c99",
   "metadata": {},
   "source": [
    "## Double Ended Queue using List"
   ]
  },
  {
   "cell_type": "code",
   "execution_count": 1,
   "id": "7fbf1206",
   "metadata": {},
   "outputs": [],
   "source": [
    "class Dequeue:\n",
    "    \n",
    "    def __init__(self, max_size):\n",
    "        self.items = [None]*max_size\n",
    "        self.capacity = max_size\n",
    "        self.front = -1\n",
    "        self.rear = 0\n",
    "        self.count = 0\n",
    "    \n",
    "    def __repr__(self):\n",
    "        nodes = []\n",
    "        counter = 0\n",
    "        ptr = self.front\n",
    "        hit_rear = True\n",
    "        while counter < self.count:\n",
    "            if ptr == self.front and hit_rear:\n",
    "                nodes.append(\"[Front: %s]\" % self.items[ptr])\n",
    "                hit_rear = False\n",
    "            elif ptr == self.rear:\n",
    "                nodes.append(\"[Rear: %s]\" % self.items[ptr])\n",
    "            else:\n",
    "                nodes.append(\"[%s]\" % self.items[ptr])\n",
    "            ptr = (ptr+1) % self.capacity\n",
    "            counter += 1\n",
    "            \n",
    "        return \"<-\".join(nodes)\n",
    "        \n",
    "    \n",
    "    def __len__(self):\n",
    "        return self.count\n",
    "    \n",
    "    def __iter__(self):\n",
    "        pass\n",
    "    \n",
    "    def is_empty(self):\n",
    "        return self.count == 0\n",
    "    \n",
    "    def is_full(self):\n",
    "        return self.count == self.capacity\n",
    "    \n",
    "    def enqueue(self, data, position):\n",
    "        position = position.lower()\n",
    "        \n",
    "        if self.is_full():\n",
    "            print(\"Cannot insert any item, queue is full\")\n",
    "            return\n",
    "        \n",
    "        if isinstance(position, str):\n",
    "            if position == \"front\":\n",
    "                \n",
    "                if self.front == -1 and self.rear == 0:\n",
    "                    print(\"Inserting first element in the queue\")\n",
    "                    print(f\"Inserting: {data} from front\")\n",
    "                    self.front = self.rear = 0\n",
    "                    self.items[self.front] = data\n",
    "    \n",
    "                else:\n",
    "                    self.front = (self.front - 1) % self.capacity\n",
    "                    print(f\"Inserting: {data} from front\")\n",
    "                    self.items[self.front] = data\n",
    "                    \n",
    "                self.count += 1    \n",
    "                \n",
    "            elif position == \"rear\":\n",
    "                \n",
    "                if self.front == -1 and self.rear == 0:\n",
    "                    print(\"Inserting first element in the queue\")\n",
    "                    print(f\"Inserting: {data} at rear\")\n",
    "                    self.front = self.rear = 0\n",
    "                    self.items[self.rear] = data\n",
    "                else:\n",
    "                    self.rear = (self.rear + 1) %  self.capacity\n",
    "                    print(f\"Inserting: {data} at rear\")\n",
    "                    self.items[self.rear] = data\n",
    "                \n",
    "                self.count += 1\n",
    "\n",
    "            else:\n",
    "                print(\"Incorrect string. Enter either 'front' or 'rear' to enqueue\")\n",
    "                return\n",
    "        else:\n",
    "            print(\"Not a string. Enter either front or rear to enqeue\")\n",
    "            return\n",
    "        \n",
    "    \n",
    "    def dequeue(self, position):\n",
    "        position = position.lower()\n",
    "        \n",
    "        if self.is_empty():\n",
    "            print(\"Queue is empty, nothing to dequeue\")\n",
    "            return\n",
    "        \n",
    "        if isinstance(position, str):\n",
    "            if position == \"front\":\n",
    "                data = self.items[self.front]\n",
    "                self.items[self.front] = None\n",
    "                print(f\"Removing: {data} from front of the queue\")\n",
    "                \n",
    "                self.front = (self.front + 1) % self.capacity\n",
    "                self.count -= 1\n",
    "            \n",
    "            elif position == \"rear\":\n",
    "                data = self.items[self.rear]\n",
    "                self.items[self.rear] = None\n",
    "                print(f\"Removing: {data} from rear\")\n",
    "                self.rear = (self.rear - 1) % self.capacity\n",
    "                self.count -= 1\n",
    "                \n",
    "            else:\n",
    "                print(\"Incorrect string. Enter either 'front' or 'rear' to dequeue\")\n",
    "                return\n",
    "        else:\n",
    "            print(\"Not a string. Enter either front or rear to dequeue\")\n",
    "            return"
   ]
  },
  {
   "cell_type": "markdown",
   "id": "e09c2e66",
   "metadata": {
    "heading_collapsed": true
   },
   "source": [
    "#### test insert at front"
   ]
  },
  {
   "cell_type": "code",
   "execution_count": 2,
   "id": "d88785d7",
   "metadata": {
    "hidden": true
   },
   "outputs": [],
   "source": [
    "dequeue = Dequeue(5)"
   ]
  },
  {
   "cell_type": "code",
   "execution_count": 3,
   "id": "d6961307",
   "metadata": {
    "hidden": true
   },
   "outputs": [
    {
     "name": "stdout",
     "output_type": "stream",
     "text": [
      "Inserting first element in the queue\n",
      "Inserting: 10 from front\n",
      "[10, None, None, None, None]\n",
      "0\n",
      "0\n"
     ]
    }
   ],
   "source": [
    "dequeue.enqueue(10, position=\"front\")\n",
    "print(dequeue.items)\n",
    "print(dequeue.front)\n",
    "print(dequeue.rear)"
   ]
  },
  {
   "cell_type": "code",
   "execution_count": 4,
   "id": "6ea5df40",
   "metadata": {
    "hidden": true
   },
   "outputs": [
    {
     "name": "stdout",
     "output_type": "stream",
     "text": [
      "Inserting: 20 from front\n",
      "[10, None, None, None, 20]\n",
      "4\n",
      "0\n"
     ]
    }
   ],
   "source": [
    "dequeue.enqueue(20, position=\"front\")\n",
    "print(dequeue.items)\n",
    "print(dequeue.front)\n",
    "print(dequeue.rear)"
   ]
  },
  {
   "cell_type": "code",
   "execution_count": 5,
   "id": "4d372e04",
   "metadata": {
    "hidden": true
   },
   "outputs": [
    {
     "data": {
      "text/plain": [
       "[Front: 20]<-[Rear: 10]"
      ]
     },
     "execution_count": 5,
     "metadata": {},
     "output_type": "execute_result"
    }
   ],
   "source": [
    "dequeue"
   ]
  },
  {
   "cell_type": "code",
   "execution_count": 6,
   "id": "803d1b5d",
   "metadata": {
    "hidden": true
   },
   "outputs": [
    {
     "name": "stdout",
     "output_type": "stream",
     "text": [
      "Inserting: 30 from front\n",
      "[10, None, None, 30, 20]\n",
      "3\n",
      "0\n"
     ]
    }
   ],
   "source": [
    "dequeue.enqueue(30, position=\"front\")\n",
    "print(dequeue.items)\n",
    "print(dequeue.front)\n",
    "print(dequeue.rear)"
   ]
  },
  {
   "cell_type": "code",
   "execution_count": 7,
   "id": "3b069afd",
   "metadata": {
    "hidden": true
   },
   "outputs": [
    {
     "data": {
      "text/plain": [
       "[Front: 30]<-[20]<-[Rear: 10]"
      ]
     },
     "execution_count": 7,
     "metadata": {},
     "output_type": "execute_result"
    }
   ],
   "source": [
    "dequeue"
   ]
  },
  {
   "cell_type": "code",
   "execution_count": 8,
   "id": "2e6f1b6c",
   "metadata": {
    "hidden": true
   },
   "outputs": [
    {
     "name": "stdout",
     "output_type": "stream",
     "text": [
      "Inserting: 40 from front\n",
      "[10, None, 40, 30, 20]\n",
      "2\n",
      "0\n"
     ]
    }
   ],
   "source": [
    "dequeue.enqueue(40, position=\"front\")\n",
    "print(dequeue.items)\n",
    "print(dequeue.front)\n",
    "print(dequeue.rear)"
   ]
  },
  {
   "cell_type": "code",
   "execution_count": 9,
   "id": "fa9db731",
   "metadata": {
    "hidden": true
   },
   "outputs": [
    {
     "name": "stdout",
     "output_type": "stream",
     "text": [
      "Inserting: 50 from front\n",
      "[10, 50, 40, 30, 20]\n",
      "1\n",
      "0\n"
     ]
    }
   ],
   "source": [
    "dequeue.enqueue(50, position=\"front\")\n",
    "print(dequeue.items)\n",
    "print(dequeue.front)\n",
    "print(dequeue.rear)"
   ]
  },
  {
   "cell_type": "code",
   "execution_count": 10,
   "id": "fe863dc5",
   "metadata": {
    "hidden": true
   },
   "outputs": [
    {
     "data": {
      "text/plain": [
       "[Front: 50]<-[40]<-[30]<-[20]<-[Rear: 10]"
      ]
     },
     "execution_count": 10,
     "metadata": {},
     "output_type": "execute_result"
    }
   ],
   "source": [
    "dequeue"
   ]
  },
  {
   "cell_type": "code",
   "execution_count": 11,
   "id": "03d473ba",
   "metadata": {
    "hidden": true
   },
   "outputs": [
    {
     "name": "stdout",
     "output_type": "stream",
     "text": [
      "Cannot insert any item, queue is full\n",
      "[10, 50, 40, 30, 20]\n",
      "1\n",
      "0\n"
     ]
    }
   ],
   "source": [
    "dequeue.enqueue(60, position=\"front\")\n",
    "print(dequeue.items)\n",
    "print(dequeue.front)\n",
    "print(dequeue.rear)"
   ]
  },
  {
   "cell_type": "markdown",
   "id": "a65c3e52",
   "metadata": {
    "heading_collapsed": true
   },
   "source": [
    "#### test insert at rear"
   ]
  },
  {
   "cell_type": "code",
   "execution_count": 12,
   "id": "f2fedc52",
   "metadata": {
    "hidden": true
   },
   "outputs": [],
   "source": [
    "dequeue = Dequeue(5)"
   ]
  },
  {
   "cell_type": "code",
   "execution_count": 13,
   "id": "98c8aba0",
   "metadata": {
    "hidden": true
   },
   "outputs": [
    {
     "name": "stdout",
     "output_type": "stream",
     "text": [
      "Inserting first element in the queue\n",
      "Inserting: 10 at rear\n",
      "[10, None, None, None, None]\n",
      "0\n",
      "0\n"
     ]
    }
   ],
   "source": [
    "dequeue.enqueue(10, position=\"rear\")\n",
    "print(dequeue.items)\n",
    "print(dequeue.front)\n",
    "print(dequeue.rear)"
   ]
  },
  {
   "cell_type": "code",
   "execution_count": 14,
   "id": "c913a8e4",
   "metadata": {
    "hidden": true
   },
   "outputs": [
    {
     "name": "stdout",
     "output_type": "stream",
     "text": [
      "Inserting: 20 at rear\n",
      "[10, 20, None, None, None]\n",
      "0\n",
      "1\n"
     ]
    }
   ],
   "source": [
    "dequeue.enqueue(20, position=\"rear\")\n",
    "print(dequeue.items)\n",
    "print(dequeue.front)\n",
    "print(dequeue.rear)"
   ]
  },
  {
   "cell_type": "code",
   "execution_count": 15,
   "id": "bc9ef064",
   "metadata": {
    "hidden": true
   },
   "outputs": [
    {
     "name": "stdout",
     "output_type": "stream",
     "text": [
      "Inserting: 30 at rear\n",
      "[10, 20, 30, None, None]\n",
      "0\n",
      "2\n"
     ]
    }
   ],
   "source": [
    "dequeue.enqueue(30, position=\"rear\")\n",
    "print(dequeue.items)\n",
    "print(dequeue.front)\n",
    "print(dequeue.rear)"
   ]
  },
  {
   "cell_type": "code",
   "execution_count": 16,
   "id": "3df944cf",
   "metadata": {
    "hidden": true
   },
   "outputs": [
    {
     "name": "stdout",
     "output_type": "stream",
     "text": [
      "Inserting: 40 at rear\n",
      "[10, 20, 30, 40, None]\n",
      "0\n",
      "3\n"
     ]
    }
   ],
   "source": [
    "dequeue.enqueue(40, position=\"rear\")\n",
    "print(dequeue.items)\n",
    "print(dequeue.front)\n",
    "print(dequeue.rear)"
   ]
  },
  {
   "cell_type": "code",
   "execution_count": 17,
   "id": "25e39b63",
   "metadata": {
    "hidden": true
   },
   "outputs": [
    {
     "name": "stdout",
     "output_type": "stream",
     "text": [
      "Inserting: 50 at rear\n",
      "[10, 20, 30, 40, 50]\n",
      "0\n",
      "4\n"
     ]
    }
   ],
   "source": [
    "dequeue.enqueue(50, position=\"rear\")\n",
    "print(dequeue.items)\n",
    "print(dequeue.front)\n",
    "print(dequeue.rear)"
   ]
  },
  {
   "cell_type": "code",
   "execution_count": 18,
   "id": "ed993019",
   "metadata": {
    "hidden": true
   },
   "outputs": [
    {
     "data": {
      "text/plain": [
       "[Front: 10]<-[20]<-[30]<-[40]<-[Rear: 50]"
      ]
     },
     "execution_count": 18,
     "metadata": {},
     "output_type": "execute_result"
    }
   ],
   "source": [
    "dequeue"
   ]
  },
  {
   "cell_type": "code",
   "execution_count": 19,
   "id": "4cc8c8c1",
   "metadata": {
    "hidden": true
   },
   "outputs": [
    {
     "name": "stdout",
     "output_type": "stream",
     "text": [
      "Cannot insert any item, queue is full\n",
      "[10, 20, 30, 40, 50]\n",
      "0\n",
      "4\n"
     ]
    }
   ],
   "source": [
    "dequeue.enqueue(60, position=\"rear\")\n",
    "print(dequeue.items)\n",
    "print(dequeue.front)\n",
    "print(dequeue.rear)"
   ]
  },
  {
   "cell_type": "markdown",
   "id": "f8624a7b",
   "metadata": {
    "heading_collapsed": true
   },
   "source": [
    "#### test - 1"
   ]
  },
  {
   "cell_type": "code",
   "execution_count": 20,
   "id": "1da6ee23",
   "metadata": {
    "hidden": true
   },
   "outputs": [],
   "source": [
    "dequeue = Dequeue(max_size=5)"
   ]
  },
  {
   "cell_type": "code",
   "execution_count": 21,
   "id": "1936d3bb",
   "metadata": {
    "hidden": true
   },
   "outputs": [
    {
     "name": "stdout",
     "output_type": "stream",
     "text": [
      "Inserting first element in the queue\n",
      "Inserting: 10 from front\n",
      "[10, None, None, None, None]\n",
      "0\n",
      "0\n"
     ]
    }
   ],
   "source": [
    "dequeue.enqueue(10, position=\"front\")\n",
    "print(dequeue.items)\n",
    "print(dequeue.front)\n",
    "print(dequeue.rear)"
   ]
  },
  {
   "cell_type": "code",
   "execution_count": 22,
   "id": "aaeb1c42",
   "metadata": {
    "hidden": true
   },
   "outputs": [
    {
     "name": "stdout",
     "output_type": "stream",
     "text": [
      "Inserting: 20 from front\n",
      "[10, None, None, None, 20]\n",
      "4\n",
      "0\n"
     ]
    }
   ],
   "source": [
    "dequeue.enqueue(20, position=\"front\")\n",
    "print(dequeue.items)\n",
    "print(dequeue.front)\n",
    "print(dequeue.rear)"
   ]
  },
  {
   "cell_type": "code",
   "execution_count": 23,
   "id": "2e08c105",
   "metadata": {
    "hidden": true
   },
   "outputs": [
    {
     "name": "stdout",
     "output_type": "stream",
     "text": [
      "Inserting: 1 at rear\n",
      "[10, 1, None, None, 20]\n",
      "4\n",
      "1\n"
     ]
    }
   ],
   "source": [
    "dequeue.enqueue(1, position=\"rear\")\n",
    "print(dequeue.items)\n",
    "print(dequeue.front)\n",
    "print(dequeue.rear)"
   ]
  },
  {
   "cell_type": "code",
   "execution_count": 24,
   "id": "8007124c",
   "metadata": {
    "hidden": true
   },
   "outputs": [
    {
     "name": "stdout",
     "output_type": "stream",
     "text": [
      "Inserting: 2 at rear\n",
      "[10, 1, 2, None, 20]\n",
      "4\n",
      "2\n"
     ]
    }
   ],
   "source": [
    "dequeue.enqueue(2, position=\"rear\")\n",
    "print(dequeue.items)\n",
    "print(dequeue.front)\n",
    "print(dequeue.rear)"
   ]
  },
  {
   "cell_type": "code",
   "execution_count": 25,
   "id": "b03f984f",
   "metadata": {
    "hidden": true
   },
   "outputs": [
    {
     "name": "stdout",
     "output_type": "stream",
     "text": [
      "Inserting: 30 from front\n",
      "[10, 1, 2, 30, 20]\n",
      "3\n",
      "2\n"
     ]
    }
   ],
   "source": [
    "dequeue.enqueue(30, position=\"front\")\n",
    "print(dequeue.items)\n",
    "print(dequeue.front)\n",
    "print(dequeue.rear)"
   ]
  },
  {
   "cell_type": "code",
   "execution_count": 26,
   "id": "0837fb60",
   "metadata": {
    "hidden": true
   },
   "outputs": [
    {
     "name": "stdout",
     "output_type": "stream",
     "text": [
      "Cannot insert any item, queue is full\n",
      "[10, 1, 2, 30, 20]\n",
      "3\n",
      "2\n"
     ]
    }
   ],
   "source": [
    "dequeue.enqueue(1000, position=\"rear\")\n",
    "print(dequeue.items)\n",
    "print(dequeue.front)\n",
    "print(dequeue.rear)"
   ]
  },
  {
   "cell_type": "code",
   "execution_count": 27,
   "id": "5b36ee52",
   "metadata": {
    "hidden": true
   },
   "outputs": [
    {
     "name": "stdout",
     "output_type": "stream",
     "text": [
      "Cannot insert any item, queue is full\n",
      "[10, 1, 2, 30, 20]\n",
      "3\n",
      "2\n"
     ]
    }
   ],
   "source": [
    "dequeue.enqueue(9000, position=\"rear\")\n",
    "print(dequeue.items)\n",
    "print(dequeue.front)\n",
    "print(dequeue.rear)"
   ]
  },
  {
   "cell_type": "code",
   "execution_count": 28,
   "id": "9ba1abbc",
   "metadata": {
    "hidden": true
   },
   "outputs": [
    {
     "data": {
      "text/plain": [
       "[Front: 30]<-[20]<-[10]<-[1]<-[Rear: 2]"
      ]
     },
     "execution_count": 28,
     "metadata": {},
     "output_type": "execute_result"
    }
   ],
   "source": [
    "dequeue"
   ]
  },
  {
   "cell_type": "markdown",
   "id": "7335fe4b",
   "metadata": {},
   "source": [
    "#### test - 2"
   ]
  },
  {
   "cell_type": "code",
   "execution_count": 29,
   "id": "8c29ff5f",
   "metadata": {},
   "outputs": [],
   "source": [
    "dequeue = Dequeue(max_size=5)"
   ]
  },
  {
   "cell_type": "code",
   "execution_count": 30,
   "id": "f08a448b",
   "metadata": {},
   "outputs": [
    {
     "name": "stdout",
     "output_type": "stream",
     "text": [
      "Inserting first element in the queue\n",
      "Inserting: 100 at rear\n",
      "[100, None, None, None, None]\n",
      "0\n",
      "0\n"
     ]
    }
   ],
   "source": [
    "dequeue.enqueue(100, position=\"rear\")\n",
    "print(dequeue.items)\n",
    "print(dequeue.front)\n",
    "print(dequeue.rear)"
   ]
  },
  {
   "cell_type": "code",
   "execution_count": 31,
   "id": "857d53e9",
   "metadata": {},
   "outputs": [
    {
     "name": "stdout",
     "output_type": "stream",
     "text": [
      "Inserting: 1 from front\n",
      "[100, None, None, None, 1]\n",
      "4\n",
      "0\n"
     ]
    }
   ],
   "source": [
    "dequeue.enqueue(1, position=\"front\")\n",
    "print(dequeue.items)\n",
    "print(dequeue.front)\n",
    "print(dequeue.rear)"
   ]
  },
  {
   "cell_type": "code",
   "execution_count": 32,
   "id": "152d2ad0",
   "metadata": {},
   "outputs": [
    {
     "name": "stdout",
     "output_type": "stream",
     "text": [
      "Inserting: 200 at rear\n",
      "[100, 200, None, None, 1]\n",
      "4\n",
      "1\n"
     ]
    }
   ],
   "source": [
    "dequeue.enqueue(200, position=\"rear\")\n",
    "print(dequeue.items)\n",
    "print(dequeue.front)\n",
    "print(dequeue.rear)"
   ]
  },
  {
   "cell_type": "code",
   "execution_count": 33,
   "id": "8d1267cc",
   "metadata": {},
   "outputs": [
    {
     "name": "stdout",
     "output_type": "stream",
     "text": [
      "Inserting: 2 from front\n",
      "[100, 200, None, 2, 1]\n",
      "3\n",
      "1\n"
     ]
    }
   ],
   "source": [
    "dequeue.enqueue(2, position=\"front\")\n",
    "print(dequeue.items)\n",
    "print(dequeue.front)\n",
    "print(dequeue.rear)"
   ]
  },
  {
   "cell_type": "code",
   "execution_count": 34,
   "id": "4b5b308a",
   "metadata": {},
   "outputs": [
    {
     "name": "stdout",
     "output_type": "stream",
     "text": [
      "Inserting: 300 at rear\n",
      "[100, 200, 300, 2, 1]\n",
      "3\n",
      "2\n"
     ]
    }
   ],
   "source": [
    "dequeue.enqueue(300, position=\"rear\")\n",
    "print(dequeue.items)\n",
    "print(dequeue.front)\n",
    "print(dequeue.rear)"
   ]
  },
  {
   "cell_type": "code",
   "execution_count": 35,
   "id": "052df1d0",
   "metadata": {},
   "outputs": [
    {
     "data": {
      "text/plain": [
       "[Front: 2]<-[1]<-[100]<-[200]<-[Rear: 300]"
      ]
     },
     "execution_count": 35,
     "metadata": {},
     "output_type": "execute_result"
    }
   ],
   "source": [
    "dequeue"
   ]
  },
  {
   "cell_type": "code",
   "execution_count": 36,
   "id": "7e4e2d29",
   "metadata": {},
   "outputs": [
    {
     "name": "stdout",
     "output_type": "stream",
     "text": [
      "Removing: 2 from front of the queue\n",
      "[100, 200, 300, None, 1]\n",
      "4\n",
      "2\n"
     ]
    }
   ],
   "source": [
    "dequeue.dequeue(position=\"front\")\n",
    "print(dequeue.items)\n",
    "print(dequeue.front)\n",
    "print(dequeue.rear)"
   ]
  },
  {
   "cell_type": "code",
   "execution_count": 37,
   "id": "880cb7bc",
   "metadata": {},
   "outputs": [
    {
     "name": "stdout",
     "output_type": "stream",
     "text": [
      "Removing: 300 from rear\n",
      "[100, 200, None, None, 1]\n",
      "4\n",
      "1\n"
     ]
    }
   ],
   "source": [
    "dequeue.dequeue(position=\"rear\")\n",
    "print(dequeue.items)\n",
    "print(dequeue.front)\n",
    "print(dequeue.rear)"
   ]
  },
  {
   "cell_type": "code",
   "execution_count": 38,
   "id": "30730753",
   "metadata": {},
   "outputs": [
    {
     "name": "stdout",
     "output_type": "stream",
     "text": [
      "Removing: 1 from front of the queue\n",
      "[100, 200, None, None, None]\n",
      "0\n",
      "1\n"
     ]
    }
   ],
   "source": [
    "dequeue.dequeue(position=\"front\")\n",
    "print(dequeue.items)\n",
    "print(dequeue.front)\n",
    "print(dequeue.rear)"
   ]
  },
  {
   "cell_type": "code",
   "execution_count": 39,
   "id": "435932ec",
   "metadata": {},
   "outputs": [
    {
     "name": "stdout",
     "output_type": "stream",
     "text": [
      "Removing: 100 from front of the queue\n",
      "[None, 200, None, None, None]\n",
      "1\n",
      "1\n"
     ]
    }
   ],
   "source": [
    "dequeue.dequeue(position=\"front\")\n",
    "print(dequeue.items)\n",
    "print(dequeue.front)\n",
    "print(dequeue.rear)"
   ]
  },
  {
   "cell_type": "code",
   "execution_count": 40,
   "id": "d534f825",
   "metadata": {},
   "outputs": [
    {
     "name": "stdout",
     "output_type": "stream",
     "text": [
      "Removing: 200 from rear\n",
      "[None, None, None, None, None]\n",
      "1\n",
      "0\n"
     ]
    }
   ],
   "source": [
    "dequeue.dequeue(position=\"rear\")\n",
    "print(dequeue.items)\n",
    "print(dequeue.front)\n",
    "print(dequeue.rear)"
   ]
  },
  {
   "cell_type": "code",
   "execution_count": 41,
   "id": "966788ba",
   "metadata": {},
   "outputs": [
    {
     "name": "stdout",
     "output_type": "stream",
     "text": [
      "Queue is empty, nothing to dequeue\n",
      "[None, None, None, None, None]\n",
      "1\n",
      "0\n"
     ]
    }
   ],
   "source": [
    "dequeue.dequeue(position=\"front\")\n",
    "print(dequeue.items)\n",
    "print(dequeue.front)\n",
    "print(dequeue.rear)"
   ]
  },
  {
   "cell_type": "code",
   "execution_count": 42,
   "id": "a60f1f1b",
   "metadata": {},
   "outputs": [
    {
     "name": "stdout",
     "output_type": "stream",
     "text": [
      "Inserting: 100 at rear\n",
      "[None, 100, None, None, None]\n",
      "1\n",
      "1\n"
     ]
    }
   ],
   "source": [
    "dequeue.enqueue(100, position=\"rear\")\n",
    "print(dequeue.items)\n",
    "print(dequeue.front)\n",
    "print(dequeue.rear)"
   ]
  },
  {
   "cell_type": "code",
   "execution_count": 43,
   "id": "993452cb",
   "metadata": {},
   "outputs": [
    {
     "name": "stdout",
     "output_type": "stream",
     "text": [
      "Inserting: 1 from front\n",
      "[1, 100, None, None, None]\n",
      "0\n",
      "1\n"
     ]
    }
   ],
   "source": [
    "dequeue.enqueue(1, position=\"front\")\n",
    "print(dequeue.items)\n",
    "print(dequeue.front)\n",
    "print(dequeue.rear)"
   ]
  },
  {
   "cell_type": "code",
   "execution_count": 44,
   "id": "1d1870c2",
   "metadata": {},
   "outputs": [
    {
     "name": "stdout",
     "output_type": "stream",
     "text": [
      "Inserting: 200 at rear\n",
      "[1, 100, 200, None, None]\n",
      "0\n",
      "2\n"
     ]
    }
   ],
   "source": [
    "dequeue.enqueue(200, position=\"rear\")\n",
    "print(dequeue.items)\n",
    "print(dequeue.front)\n",
    "print(dequeue.rear)"
   ]
  },
  {
   "cell_type": "code",
   "execution_count": 45,
   "id": "d701f6c0",
   "metadata": {},
   "outputs": [
    {
     "name": "stdout",
     "output_type": "stream",
     "text": [
      "Inserting: 2 from front\n",
      "[1, 100, 200, None, 2]\n",
      "4\n",
      "2\n"
     ]
    }
   ],
   "source": [
    "dequeue.enqueue(2, position=\"front\")\n",
    "print(dequeue.items)\n",
    "print(dequeue.front)\n",
    "print(dequeue.rear)"
   ]
  },
  {
   "cell_type": "code",
   "execution_count": 46,
   "id": "65c51efc",
   "metadata": {},
   "outputs": [
    {
     "name": "stdout",
     "output_type": "stream",
     "text": [
      "Inserting: 3 from front\n",
      "[1, 100, 200, 3, 2]\n",
      "3\n",
      "2\n"
     ]
    }
   ],
   "source": [
    "dequeue.enqueue(3, position=\"front\")\n",
    "print(dequeue.items)\n",
    "print(dequeue.front)\n",
    "print(dequeue.rear)"
   ]
  },
  {
   "cell_type": "code",
   "execution_count": 47,
   "id": "5a62525e",
   "metadata": {},
   "outputs": [
    {
     "name": "stdout",
     "output_type": "stream",
     "text": [
      "Cannot insert any item, queue is full\n",
      "[1, 100, 200, 3, 2]\n",
      "3\n",
      "2\n"
     ]
    }
   ],
   "source": [
    "dequeue.enqueue(300, position=\"rear\")\n",
    "print(dequeue.items)\n",
    "print(dequeue.front)\n",
    "print(dequeue.rear)"
   ]
  },
  {
   "cell_type": "code",
   "execution_count": null,
   "id": "972ffbb9",
   "metadata": {},
   "outputs": [],
   "source": []
  }
 ],
 "metadata": {
  "kernelspec": {
   "display_name": "Python 3 (ipykernel)",
   "language": "python",
   "name": "python3"
  },
  "language_info": {
   "codemirror_mode": {
    "name": "ipython",
    "version": 3
   },
   "file_extension": ".py",
   "mimetype": "text/x-python",
   "name": "python",
   "nbconvert_exporter": "python",
   "pygments_lexer": "ipython3",
   "version": "3.8.10"
  }
 },
 "nbformat": 4,
 "nbformat_minor": 5
}
