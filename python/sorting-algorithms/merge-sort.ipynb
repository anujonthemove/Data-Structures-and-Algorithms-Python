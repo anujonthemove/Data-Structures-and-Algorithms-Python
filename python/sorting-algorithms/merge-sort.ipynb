{
 "cells": [
  {
   "cell_type": "code",
   "execution_count": 41,
   "id": "536dd395",
   "metadata": {},
   "outputs": [],
   "source": [
    "import numpy as np\n",
    "# from time_sorting_algorithm import run_sorting_algorithm\n",
    "from random import randint"
   ]
  },
  {
   "cell_type": "code",
   "execution_count": 42,
   "id": "01597844",
   "metadata": {},
   "outputs": [
    {
     "name": "stdout",
     "output_type": "stream",
     "text": [
      "[7 0 3 2 1 8 5 4 6 9]\n"
     ]
    }
   ],
   "source": [
    "unsorted_list =  np.arange(0, 10)\n",
    "np.random.shuffle(unsorted_list)\n",
    "print(unsorted_list)"
   ]
  },
  {
   "cell_type": "code",
   "execution_count": 48,
   "id": "97ac6bd2",
   "metadata": {},
   "outputs": [],
   "source": [
    "sample_arr = [8, 2, 6, 4, 5]"
   ]
  },
  {
   "cell_type": "code",
   "execution_count": 49,
   "id": "cd9716f1",
   "metadata": {},
   "outputs": [],
   "source": [
    "def merge(left, right):\n",
    "    \n",
    "    # did not understand the below conditions\n",
    "    if len(left) == 0:\n",
    "        print(\"NEVER HERE\")\n",
    "        return right\n",
    "    \n",
    "    if len(right) == 0:\n",
    "        return left\n",
    "    \n",
    "    left_idx = right_idx = 0\n",
    "    result = []\n",
    "    \n",
    "    # understood\n",
    "    while len(result) < len(left) + len(right):\n",
    "        \n",
    "        if left[left_idx] <= right[right_idx]:\n",
    "            result.append(left[left_idx])\n",
    "            left_idx += 1\n",
    "        else:\n",
    "            result.append(right[right_idx])\n",
    "            right_idx += 1\n",
    "        \n",
    "        if left_idx ==  len(left):\n",
    "            result += right[right_idx:]\n",
    "            break\n",
    "        \n",
    "        if right_idx == len(right):\n",
    "            result += left[left_idx:]\n",
    "            break\n",
    "        \n",
    "    \n",
    "    return result"
   ]
  },
  {
   "cell_type": "code",
   "execution_count": 50,
   "id": "2ee7aa9c",
   "metadata": {},
   "outputs": [],
   "source": [
    "def partition(arr):\n",
    "    if len(arr) < 2:\n",
    "        return arr\n",
    "    \n",
    "    mid = len(arr)//2\n",
    "    \n",
    "    left_sub_array = partition(arr[:mid])\n",
    "    right_sub_array = partition(arr[mid:])\n",
    "    return merge(left_sub_array, right_sub_array)"
   ]
  },
  {
   "cell_type": "code",
   "execution_count": 51,
   "id": "59e4c2f8",
   "metadata": {},
   "outputs": [
    {
     "data": {
      "text/plain": [
       "[2, 4, 5, 6, 8]"
      ]
     },
     "execution_count": 51,
     "metadata": {},
     "output_type": "execute_result"
    }
   ],
   "source": [
    "partition(sample_arr)"
   ]
  },
  {
   "cell_type": "code",
   "execution_count": 55,
   "id": "6b636c36",
   "metadata": {},
   "outputs": [
    {
     "data": {
      "text/plain": [
       "[0, 1, 2, 3, 4, 5, 6, 7, 8, 9]"
      ]
     },
     "execution_count": 55,
     "metadata": {},
     "output_type": "execute_result"
    }
   ],
   "source": [
    "partition(list(unsorted_list))"
   ]
  },
  {
   "cell_type": "code",
   "execution_count": 54,
   "id": "84bf1cad",
   "metadata": {},
   "outputs": [
    {
     "data": {
      "text/plain": [
       "[7, 0, 3, 2, 1, 8, 5, 4, 6, 9]"
      ]
     },
     "execution_count": 54,
     "metadata": {},
     "output_type": "execute_result"
    }
   ],
   "source": [
    "list(unsorted_list)"
   ]
  },
  {
   "cell_type": "code",
   "execution_count": null,
   "id": "f9226a5f",
   "metadata": {},
   "outputs": [],
   "source": []
  },
  {
   "cell_type": "code",
   "execution_count": null,
   "id": "0ae22da7",
   "metadata": {},
   "outputs": [],
   "source": []
  },
  {
   "cell_type": "code",
   "execution_count": null,
   "id": "67e10907",
   "metadata": {},
   "outputs": [],
   "source": []
  },
  {
   "cell_type": "code",
   "execution_count": null,
   "id": "b4d67a23",
   "metadata": {},
   "outputs": [],
   "source": []
  }
 ],
 "metadata": {
  "kernelspec": {
   "display_name": "Python 3 (ipykernel)",
   "language": "python",
   "name": "python3"
  },
  "language_info": {
   "codemirror_mode": {
    "name": "ipython",
    "version": 3
   },
   "file_extension": ".py",
   "mimetype": "text/x-python",
   "name": "python",
   "nbconvert_exporter": "python",
   "pygments_lexer": "ipython3",
   "version": "3.8.10"
  }
 },
 "nbformat": 4,
 "nbformat_minor": 5
}
