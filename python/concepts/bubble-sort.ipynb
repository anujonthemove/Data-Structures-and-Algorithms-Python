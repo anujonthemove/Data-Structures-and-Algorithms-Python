{
 "cells": [
  {
   "cell_type": "code",
   "execution_count": 1,
   "id": "a26b2db7",
   "metadata": {},
   "outputs": [],
   "source": [
    "import numpy as np"
   ]
  },
  {
   "cell_type": "code",
   "execution_count": 2,
   "id": "dbc851b8",
   "metadata": {},
   "outputs": [
    {
     "name": "stdout",
     "output_type": "stream",
     "text": [
      "[6 4 8 0 1 3 7 9 5 2]\n"
     ]
    }
   ],
   "source": [
    "unsorted_list =  np.arange(0, 10)\n",
    "np.random.shuffle(unsorted_list)\n",
    "print(unsorted_list)"
   ]
  },
  {
   "cell_type": "markdown",
   "id": "ea129154",
   "metadata": {},
   "source": [
    "### Bruteforce approach"
   ]
  },
  {
   "cell_type": "code",
   "execution_count": 3,
   "id": "044116bf",
   "metadata": {},
   "outputs": [],
   "source": [
    "def bruteforce_bubble(arr, debug=False):\n",
    "    steps = 0\n",
    "    \n",
    "    # time complexity: O(n^2)\n",
    "    for j in range(0, len(arr)):\n",
    "        for i in range(0, len(arr)-1):\n",
    "            if arr[i] > arr[i+1]:\n",
    "                arr[i], arr[i+1] = arr[i+1], arr[i]\n",
    "            \n",
    "            steps += 1\n",
    "            if debug:\n",
    "                print(\"Array at step: {} is: {}\".format(steps, arr))\n",
    "            \n",
    "    return arr, steps"
   ]
  },
  {
   "cell_type": "code",
   "execution_count": 4,
   "id": "cda5e55e",
   "metadata": {},
   "outputs": [
    {
     "name": "stdout",
     "output_type": "stream",
     "text": [
      "Array at step: 1 is: [4 6 8 0 1 3 7 9 5 2]\n",
      "Array at step: 2 is: [4 6 8 0 1 3 7 9 5 2]\n",
      "Array at step: 3 is: [4 6 0 8 1 3 7 9 5 2]\n",
      "Array at step: 4 is: [4 6 0 1 8 3 7 9 5 2]\n",
      "Array at step: 5 is: [4 6 0 1 3 8 7 9 5 2]\n",
      "Array at step: 6 is: [4 6 0 1 3 7 8 9 5 2]\n",
      "Array at step: 7 is: [4 6 0 1 3 7 8 9 5 2]\n",
      "Array at step: 8 is: [4 6 0 1 3 7 8 5 9 2]\n",
      "Array at step: 9 is: [4 6 0 1 3 7 8 5 2 9]\n",
      "Array at step: 10 is: [4 6 0 1 3 7 8 5 2 9]\n",
      "Array at step: 11 is: [4 0 6 1 3 7 8 5 2 9]\n",
      "Array at step: 12 is: [4 0 1 6 3 7 8 5 2 9]\n",
      "Array at step: 13 is: [4 0 1 3 6 7 8 5 2 9]\n",
      "Array at step: 14 is: [4 0 1 3 6 7 8 5 2 9]\n",
      "Array at step: 15 is: [4 0 1 3 6 7 8 5 2 9]\n",
      "Array at step: 16 is: [4 0 1 3 6 7 5 8 2 9]\n",
      "Array at step: 17 is: [4 0 1 3 6 7 5 2 8 9]\n",
      "Array at step: 18 is: [4 0 1 3 6 7 5 2 8 9]\n",
      "Array at step: 19 is: [0 4 1 3 6 7 5 2 8 9]\n",
      "Array at step: 20 is: [0 1 4 3 6 7 5 2 8 9]\n",
      "Array at step: 21 is: [0 1 3 4 6 7 5 2 8 9]\n",
      "Array at step: 22 is: [0 1 3 4 6 7 5 2 8 9]\n",
      "Array at step: 23 is: [0 1 3 4 6 7 5 2 8 9]\n",
      "Array at step: 24 is: [0 1 3 4 6 5 7 2 8 9]\n",
      "Array at step: 25 is: [0 1 3 4 6 5 2 7 8 9]\n",
      "Array at step: 26 is: [0 1 3 4 6 5 2 7 8 9]\n",
      "Array at step: 27 is: [0 1 3 4 6 5 2 7 8 9]\n",
      "Array at step: 28 is: [0 1 3 4 6 5 2 7 8 9]\n",
      "Array at step: 29 is: [0 1 3 4 6 5 2 7 8 9]\n",
      "Array at step: 30 is: [0 1 3 4 6 5 2 7 8 9]\n",
      "Array at step: 31 is: [0 1 3 4 6 5 2 7 8 9]\n",
      "Array at step: 32 is: [0 1 3 4 5 6 2 7 8 9]\n",
      "Array at step: 33 is: [0 1 3 4 5 2 6 7 8 9]\n",
      "Array at step: 34 is: [0 1 3 4 5 2 6 7 8 9]\n",
      "Array at step: 35 is: [0 1 3 4 5 2 6 7 8 9]\n",
      "Array at step: 36 is: [0 1 3 4 5 2 6 7 8 9]\n",
      "Array at step: 37 is: [0 1 3 4 5 2 6 7 8 9]\n",
      "Array at step: 38 is: [0 1 3 4 5 2 6 7 8 9]\n",
      "Array at step: 39 is: [0 1 3 4 5 2 6 7 8 9]\n",
      "Array at step: 40 is: [0 1 3 4 5 2 6 7 8 9]\n",
      "Array at step: 41 is: [0 1 3 4 2 5 6 7 8 9]\n",
      "Array at step: 42 is: [0 1 3 4 2 5 6 7 8 9]\n",
      "Array at step: 43 is: [0 1 3 4 2 5 6 7 8 9]\n",
      "Array at step: 44 is: [0 1 3 4 2 5 6 7 8 9]\n",
      "Array at step: 45 is: [0 1 3 4 2 5 6 7 8 9]\n",
      "Array at step: 46 is: [0 1 3 4 2 5 6 7 8 9]\n",
      "Array at step: 47 is: [0 1 3 4 2 5 6 7 8 9]\n",
      "Array at step: 48 is: [0 1 3 4 2 5 6 7 8 9]\n",
      "Array at step: 49 is: [0 1 3 2 4 5 6 7 8 9]\n",
      "Array at step: 50 is: [0 1 3 2 4 5 6 7 8 9]\n",
      "Array at step: 51 is: [0 1 3 2 4 5 6 7 8 9]\n",
      "Array at step: 52 is: [0 1 3 2 4 5 6 7 8 9]\n",
      "Array at step: 53 is: [0 1 3 2 4 5 6 7 8 9]\n",
      "Array at step: 54 is: [0 1 3 2 4 5 6 7 8 9]\n",
      "Array at step: 55 is: [0 1 3 2 4 5 6 7 8 9]\n",
      "Array at step: 56 is: [0 1 3 2 4 5 6 7 8 9]\n",
      "Array at step: 57 is: [0 1 2 3 4 5 6 7 8 9]\n",
      "Array at step: 58 is: [0 1 2 3 4 5 6 7 8 9]\n",
      "Array at step: 59 is: [0 1 2 3 4 5 6 7 8 9]\n",
      "Array at step: 60 is: [0 1 2 3 4 5 6 7 8 9]\n",
      "Array at step: 61 is: [0 1 2 3 4 5 6 7 8 9]\n",
      "Array at step: 62 is: [0 1 2 3 4 5 6 7 8 9]\n",
      "Array at step: 63 is: [0 1 2 3 4 5 6 7 8 9]\n",
      "Array at step: 64 is: [0 1 2 3 4 5 6 7 8 9]\n",
      "Array at step: 65 is: [0 1 2 3 4 5 6 7 8 9]\n",
      "Array at step: 66 is: [0 1 2 3 4 5 6 7 8 9]\n",
      "Array at step: 67 is: [0 1 2 3 4 5 6 7 8 9]\n",
      "Array at step: 68 is: [0 1 2 3 4 5 6 7 8 9]\n",
      "Array at step: 69 is: [0 1 2 3 4 5 6 7 8 9]\n",
      "Array at step: 70 is: [0 1 2 3 4 5 6 7 8 9]\n",
      "Array at step: 71 is: [0 1 2 3 4 5 6 7 8 9]\n",
      "Array at step: 72 is: [0 1 2 3 4 5 6 7 8 9]\n",
      "Array at step: 73 is: [0 1 2 3 4 5 6 7 8 9]\n",
      "Array at step: 74 is: [0 1 2 3 4 5 6 7 8 9]\n",
      "Array at step: 75 is: [0 1 2 3 4 5 6 7 8 9]\n",
      "Array at step: 76 is: [0 1 2 3 4 5 6 7 8 9]\n",
      "Array at step: 77 is: [0 1 2 3 4 5 6 7 8 9]\n",
      "Array at step: 78 is: [0 1 2 3 4 5 6 7 8 9]\n",
      "Array at step: 79 is: [0 1 2 3 4 5 6 7 8 9]\n",
      "Array at step: 80 is: [0 1 2 3 4 5 6 7 8 9]\n",
      "Array at step: 81 is: [0 1 2 3 4 5 6 7 8 9]\n",
      "Array at step: 82 is: [0 1 2 3 4 5 6 7 8 9]\n",
      "Array at step: 83 is: [0 1 2 3 4 5 6 7 8 9]\n",
      "Array at step: 84 is: [0 1 2 3 4 5 6 7 8 9]\n",
      "Array at step: 85 is: [0 1 2 3 4 5 6 7 8 9]\n",
      "Array at step: 86 is: [0 1 2 3 4 5 6 7 8 9]\n",
      "Array at step: 87 is: [0 1 2 3 4 5 6 7 8 9]\n",
      "Array at step: 88 is: [0 1 2 3 4 5 6 7 8 9]\n",
      "Array at step: 89 is: [0 1 2 3 4 5 6 7 8 9]\n",
      "Array at step: 90 is: [0 1 2 3 4 5 6 7 8 9]\n"
     ]
    }
   ],
   "source": [
    "sorted_list, steps = bruteforce_bubble(unsorted_list.copy(), debug=True)"
   ]
  },
  {
   "cell_type": "code",
   "execution_count": 5,
   "id": "48780946",
   "metadata": {},
   "outputs": [
    {
     "name": "stdout",
     "output_type": "stream",
     "text": [
      "# steps:  90\n",
      "unsorted_list:  [6 4 8 0 1 3 7 9 5 2]\n",
      "sorted_list:  [0 1 2 3 4 5 6 7 8 9]\n"
     ]
    }
   ],
   "source": [
    "print(\"# steps: \", steps)\n",
    "print(\"unsorted_list: \", unsorted_list)\n",
    "print(\"sorted_list: \", sorted_list)"
   ]
  },
  {
   "cell_type": "markdown",
   "id": "44dfedc1",
   "metadata": {},
   "source": [
    "### Slight optimization"
   ]
  },
  {
   "cell_type": "code",
   "execution_count": 20,
   "id": "4f60b8a8",
   "metadata": {},
   "outputs": [],
   "source": [
    "def bruteforce_bubble_opt_1(arr, debug=False):\n",
    "    \n",
    "    steps = 0\n",
    "    \n",
    "    # time complexity: O(n^2)\n",
    "    for j in range(0, np.sqrt(len(unsorted_list)).astype('int')):\n",
    "        for i in range(0, len(arr)-1-j):\n",
    "            if arr[i] > arr[i+1]:\n",
    "                arr[i], arr[i+1] = arr[i+1], arr[i]\n",
    "            steps += 1\n",
    "            if debug:\n",
    "                print(\"Array at step: {} is: {}\".format(steps, arr))\n",
    "                \n",
    "            \n",
    "    return arr, steps"
   ]
  },
  {
   "cell_type": "code",
   "execution_count": 21,
   "id": "502d4a61",
   "metadata": {},
   "outputs": [
    {
     "name": "stdout",
     "output_type": "stream",
     "text": [
      "Array at step: 1 is: [4 6 8 0 1 3 7 9 5 2]\n",
      "Array at step: 2 is: [4 6 8 0 1 3 7 9 5 2]\n",
      "Array at step: 3 is: [4 6 0 8 1 3 7 9 5 2]\n",
      "Array at step: 4 is: [4 6 0 1 8 3 7 9 5 2]\n",
      "Array at step: 5 is: [4 6 0 1 3 8 7 9 5 2]\n",
      "Array at step: 6 is: [4 6 0 1 3 7 8 9 5 2]\n",
      "Array at step: 7 is: [4 6 0 1 3 7 8 9 5 2]\n",
      "Array at step: 8 is: [4 6 0 1 3 7 8 5 9 2]\n",
      "Array at step: 9 is: [4 6 0 1 3 7 8 5 2 9]\n",
      "Array at step: 10 is: [4 6 0 1 3 7 8 5 2 9]\n",
      "Array at step: 11 is: [4 0 6 1 3 7 8 5 2 9]\n",
      "Array at step: 12 is: [4 0 1 6 3 7 8 5 2 9]\n",
      "Array at step: 13 is: [4 0 1 3 6 7 8 5 2 9]\n",
      "Array at step: 14 is: [4 0 1 3 6 7 8 5 2 9]\n",
      "Array at step: 15 is: [4 0 1 3 6 7 8 5 2 9]\n",
      "Array at step: 16 is: [4 0 1 3 6 7 5 8 2 9]\n",
      "Array at step: 17 is: [4 0 1 3 6 7 5 2 8 9]\n",
      "Array at step: 18 is: [0 4 1 3 6 7 5 2 8 9]\n",
      "Array at step: 19 is: [0 1 4 3 6 7 5 2 8 9]\n",
      "Array at step: 20 is: [0 1 3 4 6 7 5 2 8 9]\n",
      "Array at step: 21 is: [0 1 3 4 6 7 5 2 8 9]\n",
      "Array at step: 22 is: [0 1 3 4 6 7 5 2 8 9]\n",
      "Array at step: 23 is: [0 1 3 4 6 5 7 2 8 9]\n",
      "Array at step: 24 is: [0 1 3 4 6 5 2 7 8 9]\n"
     ]
    }
   ],
   "source": [
    "sorted_list, steps = bruteforce_bubble_opt_1(unsorted_list.copy(), debug=True)"
   ]
  },
  {
   "cell_type": "code",
   "execution_count": 22,
   "id": "c8730f80",
   "metadata": {},
   "outputs": [
    {
     "name": "stdout",
     "output_type": "stream",
     "text": [
      "# steps:  24\n",
      "unsorted_list:  [6 4 8 0 1 3 7 9 5 2]\n",
      "sorted_list:  [0 1 3 4 6 5 2 7 8 9]\n"
     ]
    }
   ],
   "source": [
    "print(\"# steps: \", steps)\n",
    "print(\"unsorted_list: \", unsorted_list)\n",
    "print(\"sorted_list: \", sorted_list)"
   ]
  },
  {
   "cell_type": "code",
   "execution_count": 19,
   "id": "671641b8",
   "metadata": {},
   "outputs": [
    {
     "data": {
      "text/plain": [
       "3"
      ]
     },
     "execution_count": 19,
     "metadata": {},
     "output_type": "execute_result"
    }
   ],
   "source": []
  },
  {
   "cell_type": "code",
   "execution_count": null,
   "id": "d7520ef5",
   "metadata": {},
   "outputs": [],
   "source": []
  }
 ],
 "metadata": {
  "kernelspec": {
   "display_name": "Python 3 (ipykernel)",
   "language": "python",
   "name": "python3"
  },
  "language_info": {
   "codemirror_mode": {
    "name": "ipython",
    "version": 3
   },
   "file_extension": ".py",
   "mimetype": "text/x-python",
   "name": "python",
   "nbconvert_exporter": "python",
   "pygments_lexer": "ipython3",
   "version": "3.8.10"
  }
 },
 "nbformat": 4,
 "nbformat_minor": 5
}
