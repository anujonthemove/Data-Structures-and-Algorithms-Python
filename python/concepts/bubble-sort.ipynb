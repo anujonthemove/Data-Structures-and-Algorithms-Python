{
 "cells": [
  {
   "cell_type": "markdown",
   "id": "80c96cc6",
   "metadata": {},
   "source": [
    "# Bubble Sort\n",
    "* best case Time Complexity: O(n) - for loop will have to run at least once to do adjacent comparisons in case of sorted array.\n",
    "\n",
    "* worst case Time Complexity: O(n^2) - both for loops have to run to full length in case of reverse sorted array"
   ]
  },
  {
   "cell_type": "code",
   "execution_count": 1,
   "id": "a26b2db7",
   "metadata": {},
   "outputs": [],
   "source": [
    "import numpy as np\n",
    "from time_sorting_algorithm import run_sorting_algorithm\n",
    "from random import randint"
   ]
  },
  {
   "cell_type": "code",
   "execution_count": 2,
   "id": "dbc851b8",
   "metadata": {},
   "outputs": [
    {
     "name": "stdout",
     "output_type": "stream",
     "text": [
      "[2 1 5 6 3 7 9 4 8 0]\n"
     ]
    }
   ],
   "source": [
    "unsorted_list =  np.arange(0, 10)\n",
    "np.random.shuffle(unsorted_list)\n",
    "print(unsorted_list)"
   ]
  },
  {
   "cell_type": "markdown",
   "id": "ea129154",
   "metadata": {},
   "source": [
    "### Bruteforce approach"
   ]
  },
  {
   "cell_type": "code",
   "execution_count": 3,
   "id": "044116bf",
   "metadata": {},
   "outputs": [],
   "source": [
    "def bruteforce_bubble(arr, debug=False):\n",
    "    steps = 0\n",
    "    \n",
    "    # time complexity: O(n^2)\n",
    "    for j in range(0, len(arr)):\n",
    "        for i in range(0, len(arr)-1):\n",
    "            if arr[i] > arr[i+1]:\n",
    "                arr[i], arr[i+1] = arr[i+1], arr[i]\n",
    "            \n",
    "            steps += 1\n",
    "            if debug:\n",
    "                print(\"Array at step: {} is: {}\".format(steps, arr))\n",
    "            \n",
    "    return arr, steps"
   ]
  },
  {
   "cell_type": "code",
   "execution_count": 4,
   "id": "cda5e55e",
   "metadata": {},
   "outputs": [
    {
     "name": "stdout",
     "output_type": "stream",
     "text": [
      "Array at step: 1 is: [1 2 5 6 3 7 9 4 8 0]\n",
      "Array at step: 2 is: [1 2 5 6 3 7 9 4 8 0]\n",
      "Array at step: 3 is: [1 2 5 6 3 7 9 4 8 0]\n",
      "Array at step: 4 is: [1 2 5 3 6 7 9 4 8 0]\n",
      "Array at step: 5 is: [1 2 5 3 6 7 9 4 8 0]\n",
      "Array at step: 6 is: [1 2 5 3 6 7 9 4 8 0]\n",
      "Array at step: 7 is: [1 2 5 3 6 7 4 9 8 0]\n",
      "Array at step: 8 is: [1 2 5 3 6 7 4 8 9 0]\n",
      "Array at step: 9 is: [1 2 5 3 6 7 4 8 0 9]\n",
      "Array at step: 10 is: [1 2 5 3 6 7 4 8 0 9]\n",
      "Array at step: 11 is: [1 2 5 3 6 7 4 8 0 9]\n",
      "Array at step: 12 is: [1 2 3 5 6 7 4 8 0 9]\n",
      "Array at step: 13 is: [1 2 3 5 6 7 4 8 0 9]\n",
      "Array at step: 14 is: [1 2 3 5 6 7 4 8 0 9]\n",
      "Array at step: 15 is: [1 2 3 5 6 4 7 8 0 9]\n",
      "Array at step: 16 is: [1 2 3 5 6 4 7 8 0 9]\n",
      "Array at step: 17 is: [1 2 3 5 6 4 7 0 8 9]\n",
      "Array at step: 18 is: [1 2 3 5 6 4 7 0 8 9]\n",
      "Array at step: 19 is: [1 2 3 5 6 4 7 0 8 9]\n",
      "Array at step: 20 is: [1 2 3 5 6 4 7 0 8 9]\n",
      "Array at step: 21 is: [1 2 3 5 6 4 7 0 8 9]\n",
      "Array at step: 22 is: [1 2 3 5 6 4 7 0 8 9]\n",
      "Array at step: 23 is: [1 2 3 5 4 6 7 0 8 9]\n",
      "Array at step: 24 is: [1 2 3 5 4 6 7 0 8 9]\n",
      "Array at step: 25 is: [1 2 3 5 4 6 0 7 8 9]\n",
      "Array at step: 26 is: [1 2 3 5 4 6 0 7 8 9]\n",
      "Array at step: 27 is: [1 2 3 5 4 6 0 7 8 9]\n",
      "Array at step: 28 is: [1 2 3 5 4 6 0 7 8 9]\n",
      "Array at step: 29 is: [1 2 3 5 4 6 0 7 8 9]\n",
      "Array at step: 30 is: [1 2 3 5 4 6 0 7 8 9]\n",
      "Array at step: 31 is: [1 2 3 4 5 6 0 7 8 9]\n",
      "Array at step: 32 is: [1 2 3 4 5 6 0 7 8 9]\n",
      "Array at step: 33 is: [1 2 3 4 5 0 6 7 8 9]\n",
      "Array at step: 34 is: [1 2 3 4 5 0 6 7 8 9]\n",
      "Array at step: 35 is: [1 2 3 4 5 0 6 7 8 9]\n",
      "Array at step: 36 is: [1 2 3 4 5 0 6 7 8 9]\n",
      "Array at step: 37 is: [1 2 3 4 5 0 6 7 8 9]\n",
      "Array at step: 38 is: [1 2 3 4 5 0 6 7 8 9]\n",
      "Array at step: 39 is: [1 2 3 4 5 0 6 7 8 9]\n",
      "Array at step: 40 is: [1 2 3 4 5 0 6 7 8 9]\n",
      "Array at step: 41 is: [1 2 3 4 0 5 6 7 8 9]\n",
      "Array at step: 42 is: [1 2 3 4 0 5 6 7 8 9]\n",
      "Array at step: 43 is: [1 2 3 4 0 5 6 7 8 9]\n",
      "Array at step: 44 is: [1 2 3 4 0 5 6 7 8 9]\n",
      "Array at step: 45 is: [1 2 3 4 0 5 6 7 8 9]\n",
      "Array at step: 46 is: [1 2 3 4 0 5 6 7 8 9]\n",
      "Array at step: 47 is: [1 2 3 4 0 5 6 7 8 9]\n",
      "Array at step: 48 is: [1 2 3 4 0 5 6 7 8 9]\n",
      "Array at step: 49 is: [1 2 3 0 4 5 6 7 8 9]\n",
      "Array at step: 50 is: [1 2 3 0 4 5 6 7 8 9]\n",
      "Array at step: 51 is: [1 2 3 0 4 5 6 7 8 9]\n",
      "Array at step: 52 is: [1 2 3 0 4 5 6 7 8 9]\n",
      "Array at step: 53 is: [1 2 3 0 4 5 6 7 8 9]\n",
      "Array at step: 54 is: [1 2 3 0 4 5 6 7 8 9]\n",
      "Array at step: 55 is: [1 2 3 0 4 5 6 7 8 9]\n",
      "Array at step: 56 is: [1 2 3 0 4 5 6 7 8 9]\n",
      "Array at step: 57 is: [1 2 0 3 4 5 6 7 8 9]\n",
      "Array at step: 58 is: [1 2 0 3 4 5 6 7 8 9]\n",
      "Array at step: 59 is: [1 2 0 3 4 5 6 7 8 9]\n",
      "Array at step: 60 is: [1 2 0 3 4 5 6 7 8 9]\n",
      "Array at step: 61 is: [1 2 0 3 4 5 6 7 8 9]\n",
      "Array at step: 62 is: [1 2 0 3 4 5 6 7 8 9]\n",
      "Array at step: 63 is: [1 2 0 3 4 5 6 7 8 9]\n",
      "Array at step: 64 is: [1 2 0 3 4 5 6 7 8 9]\n",
      "Array at step: 65 is: [1 0 2 3 4 5 6 7 8 9]\n",
      "Array at step: 66 is: [1 0 2 3 4 5 6 7 8 9]\n",
      "Array at step: 67 is: [1 0 2 3 4 5 6 7 8 9]\n",
      "Array at step: 68 is: [1 0 2 3 4 5 6 7 8 9]\n",
      "Array at step: 69 is: [1 0 2 3 4 5 6 7 8 9]\n",
      "Array at step: 70 is: [1 0 2 3 4 5 6 7 8 9]\n",
      "Array at step: 71 is: [1 0 2 3 4 5 6 7 8 9]\n",
      "Array at step: 72 is: [1 0 2 3 4 5 6 7 8 9]\n",
      "Array at step: 73 is: [0 1 2 3 4 5 6 7 8 9]\n",
      "Array at step: 74 is: [0 1 2 3 4 5 6 7 8 9]\n",
      "Array at step: 75 is: [0 1 2 3 4 5 6 7 8 9]\n",
      "Array at step: 76 is: [0 1 2 3 4 5 6 7 8 9]\n",
      "Array at step: 77 is: [0 1 2 3 4 5 6 7 8 9]\n",
      "Array at step: 78 is: [0 1 2 3 4 5 6 7 8 9]\n",
      "Array at step: 79 is: [0 1 2 3 4 5 6 7 8 9]\n",
      "Array at step: 80 is: [0 1 2 3 4 5 6 7 8 9]\n",
      "Array at step: 81 is: [0 1 2 3 4 5 6 7 8 9]\n",
      "Array at step: 82 is: [0 1 2 3 4 5 6 7 8 9]\n",
      "Array at step: 83 is: [0 1 2 3 4 5 6 7 8 9]\n",
      "Array at step: 84 is: [0 1 2 3 4 5 6 7 8 9]\n",
      "Array at step: 85 is: [0 1 2 3 4 5 6 7 8 9]\n",
      "Array at step: 86 is: [0 1 2 3 4 5 6 7 8 9]\n",
      "Array at step: 87 is: [0 1 2 3 4 5 6 7 8 9]\n",
      "Array at step: 88 is: [0 1 2 3 4 5 6 7 8 9]\n",
      "Array at step: 89 is: [0 1 2 3 4 5 6 7 8 9]\n",
      "Array at step: 90 is: [0 1 2 3 4 5 6 7 8 9]\n"
     ]
    }
   ],
   "source": [
    "sorted_list, steps = bruteforce_bubble(unsorted_list.copy(), debug=True)"
   ]
  },
  {
   "cell_type": "code",
   "execution_count": 5,
   "id": "48780946",
   "metadata": {},
   "outputs": [
    {
     "name": "stdout",
     "output_type": "stream",
     "text": [
      "# steps:  90\n",
      "unsorted_list:  [2 1 5 6 3 7 9 4 8 0]\n",
      "sorted_list:  [0 1 2 3 4 5 6 7 8 9]\n"
     ]
    }
   ],
   "source": [
    "print(\"# steps: \", steps)\n",
    "print(\"unsorted_list: \", unsorted_list)\n",
    "print(\"sorted_list: \", sorted_list)"
   ]
  },
  {
   "cell_type": "markdown",
   "id": "44dfedc1",
   "metadata": {},
   "source": [
    "### Slight optimization"
   ]
  },
  {
   "cell_type": "code",
   "execution_count": 6,
   "id": "4f60b8a8",
   "metadata": {},
   "outputs": [],
   "source": [
    "def bruteforce_bubble_opt_1(arr, debug=False):\n",
    "    \n",
    "    steps = 0\n",
    "    \n",
    "    # time complexity: O(n^2)\n",
    "    for j in range(0, len(arr)):\n",
    "        is_sorted = True\n",
    "        for i in range(0, len(arr)-1-j):\n",
    "            if arr[i] > arr[i+1]:\n",
    "                arr[i], arr[i+1] = arr[i+1], arr[i]\n",
    "                is_sorted = False\n",
    "            \n",
    "            steps += 1\n",
    "            if debug:\n",
    "                print(\"Array at step: {} is: {}\".format(steps, arr))\n",
    "        if is_sorted:\n",
    "            break\n",
    "            \n",
    "    return arr, steps"
   ]
  },
  {
   "cell_type": "code",
   "execution_count": 7,
   "id": "502d4a61",
   "metadata": {},
   "outputs": [
    {
     "name": "stdout",
     "output_type": "stream",
     "text": [
      "Array at step: 1 is: [1 2 5 6 3 7 9 4 8 0]\n",
      "Array at step: 2 is: [1 2 5 6 3 7 9 4 8 0]\n",
      "Array at step: 3 is: [1 2 5 6 3 7 9 4 8 0]\n",
      "Array at step: 4 is: [1 2 5 3 6 7 9 4 8 0]\n",
      "Array at step: 5 is: [1 2 5 3 6 7 9 4 8 0]\n",
      "Array at step: 6 is: [1 2 5 3 6 7 9 4 8 0]\n",
      "Array at step: 7 is: [1 2 5 3 6 7 4 9 8 0]\n",
      "Array at step: 8 is: [1 2 5 3 6 7 4 8 9 0]\n",
      "Array at step: 9 is: [1 2 5 3 6 7 4 8 0 9]\n",
      "Array at step: 10 is: [1 2 5 3 6 7 4 8 0 9]\n",
      "Array at step: 11 is: [1 2 5 3 6 7 4 8 0 9]\n",
      "Array at step: 12 is: [1 2 3 5 6 7 4 8 0 9]\n",
      "Array at step: 13 is: [1 2 3 5 6 7 4 8 0 9]\n",
      "Array at step: 14 is: [1 2 3 5 6 7 4 8 0 9]\n",
      "Array at step: 15 is: [1 2 3 5 6 4 7 8 0 9]\n",
      "Array at step: 16 is: [1 2 3 5 6 4 7 8 0 9]\n",
      "Array at step: 17 is: [1 2 3 5 6 4 7 0 8 9]\n",
      "Array at step: 18 is: [1 2 3 5 6 4 7 0 8 9]\n",
      "Array at step: 19 is: [1 2 3 5 6 4 7 0 8 9]\n",
      "Array at step: 20 is: [1 2 3 5 6 4 7 0 8 9]\n",
      "Array at step: 21 is: [1 2 3 5 6 4 7 0 8 9]\n",
      "Array at step: 22 is: [1 2 3 5 4 6 7 0 8 9]\n",
      "Array at step: 23 is: [1 2 3 5 4 6 7 0 8 9]\n",
      "Array at step: 24 is: [1 2 3 5 4 6 0 7 8 9]\n",
      "Array at step: 25 is: [1 2 3 5 4 6 0 7 8 9]\n",
      "Array at step: 26 is: [1 2 3 5 4 6 0 7 8 9]\n",
      "Array at step: 27 is: [1 2 3 5 4 6 0 7 8 9]\n",
      "Array at step: 28 is: [1 2 3 4 5 6 0 7 8 9]\n",
      "Array at step: 29 is: [1 2 3 4 5 6 0 7 8 9]\n",
      "Array at step: 30 is: [1 2 3 4 5 0 6 7 8 9]\n",
      "Array at step: 31 is: [1 2 3 4 5 0 6 7 8 9]\n",
      "Array at step: 32 is: [1 2 3 4 5 0 6 7 8 9]\n",
      "Array at step: 33 is: [1 2 3 4 5 0 6 7 8 9]\n",
      "Array at step: 34 is: [1 2 3 4 5 0 6 7 8 9]\n",
      "Array at step: 35 is: [1 2 3 4 0 5 6 7 8 9]\n",
      "Array at step: 36 is: [1 2 3 4 0 5 6 7 8 9]\n",
      "Array at step: 37 is: [1 2 3 4 0 5 6 7 8 9]\n",
      "Array at step: 38 is: [1 2 3 4 0 5 6 7 8 9]\n",
      "Array at step: 39 is: [1 2 3 0 4 5 6 7 8 9]\n",
      "Array at step: 40 is: [1 2 3 0 4 5 6 7 8 9]\n",
      "Array at step: 41 is: [1 2 3 0 4 5 6 7 8 9]\n",
      "Array at step: 42 is: [1 2 0 3 4 5 6 7 8 9]\n",
      "Array at step: 43 is: [1 2 0 3 4 5 6 7 8 9]\n",
      "Array at step: 44 is: [1 0 2 3 4 5 6 7 8 9]\n",
      "Array at step: 45 is: [0 1 2 3 4 5 6 7 8 9]\n"
     ]
    }
   ],
   "source": [
    "sorted_list, steps = bruteforce_bubble_opt_1(unsorted_list.copy(), debug=True)"
   ]
  },
  {
   "cell_type": "code",
   "execution_count": 8,
   "id": "c8730f80",
   "metadata": {},
   "outputs": [
    {
     "name": "stdout",
     "output_type": "stream",
     "text": [
      "# steps:  45\n",
      "unsorted_list:  [2 1 5 6 3 7 9 4 8 0]\n",
      "sorted_list:  [0 1 2 3 4 5 6 7 8 9]\n"
     ]
    }
   ],
   "source": [
    "print(\"# steps: \", steps)\n",
    "print(\"unsorted_list: \", unsorted_list)\n",
    "print(\"sorted_list: \", sorted_list)"
   ]
  },
  {
   "cell_type": "code",
   "execution_count": 9,
   "id": "4b5481b2",
   "metadata": {},
   "outputs": [
    {
     "name": "stdout",
     "output_type": "stream",
     "text": [
      "Algorithm: bruteforce_bubble. Minimum execution time: 0.7692146680000178\n"
     ]
    }
   ],
   "source": [
    "ARRAY_LENGTH = 1000\n",
    "\n",
    "if __name__ == \"__main__\":\n",
    "    # Generate an array of `ARRAY_LENGTH` items consisting\n",
    "    # of random integer values between 0 and 999\n",
    "    array = [randint(0, 1000) for i in range(ARRAY_LENGTH)]\n",
    "\n",
    "    # Call the function using the name of the sorting algorithm\n",
    "    # and the array you just created\n",
    "    run_sorting_algorithm(algorithm=\"bruteforce_bubble\", array=array)"
   ]
  },
  {
   "cell_type": "code",
   "execution_count": null,
   "id": "2c2fc6de",
   "metadata": {},
   "outputs": [],
   "source": []
  }
 ],
 "metadata": {
  "kernelspec": {
   "display_name": "Python 3 (ipykernel)",
   "language": "python",
   "name": "python3"
  },
  "language_info": {
   "codemirror_mode": {
    "name": "ipython",
    "version": 3
   },
   "file_extension": ".py",
   "mimetype": "text/x-python",
   "name": "python",
   "nbconvert_exporter": "python",
   "pygments_lexer": "ipython3",
   "version": "3.8.10"
  }
 },
 "nbformat": 4,
 "nbformat_minor": 5
}
