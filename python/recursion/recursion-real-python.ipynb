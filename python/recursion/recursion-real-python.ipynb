{
 "cells": [
  {
   "cell_type": "markdown",
   "id": "d7cb10d5",
   "metadata": {},
   "source": [
    "each time there is a recursive call made, we reach closer to the base case\n",
    "\n",
    "1. https://realpython.com/python-recursion/\n",
    "2. https://realpython.com/python-thinking-recursively/"
   ]
  },
  {
   "cell_type": "markdown",
   "id": "a13022ba",
   "metadata": {},
   "source": [
    "## Count Down to Zero"
   ]
  },
  {
   "cell_type": "code",
   "execution_count": 1,
   "id": "c12f17b4",
   "metadata": {},
   "outputs": [],
   "source": [
    "def countdown_simple(n):\n",
    "    print(\"Count down: \", n)\n",
    "    if n <= 0: return 0\n",
    "    countdown_simple(n-1)"
   ]
  },
  {
   "cell_type": "code",
   "execution_count": 2,
   "id": "3995eca4",
   "metadata": {},
   "outputs": [
    {
     "name": "stdout",
     "output_type": "stream",
     "text": [
      "Count down:  5\n",
      "Count down:  4\n",
      "Count down:  3\n",
      "Count down:  2\n",
      "Count down:  1\n",
      "Count down:  0\n"
     ]
    }
   ],
   "source": [
    "countdown_simple(5)"
   ]
  },
  {
   "cell_type": "code",
   "execution_count": 3,
   "id": "0a96c040",
   "metadata": {},
   "outputs": [],
   "source": [
    "def countdown_explained(n):\n",
    "    print(\"Count is --> {}\".format(n))\n",
    "    \n",
    "    # base case\n",
    "    if n <= 0: return 0\n",
    "    \n",
    "    # recurse with a smaller or a sub-problem\n",
    "    countdown_explained(n-1)\n",
    "    \n",
    "    # tail recursion\n",
    "    print(\"Value of n: {}, function was called using n-1: {}\".format(n, n-1))"
   ]
  },
  {
   "cell_type": "code",
   "execution_count": 4,
   "id": "070fb458",
   "metadata": {},
   "outputs": [
    {
     "name": "stdout",
     "output_type": "stream",
     "text": [
      "Count is --> 5\n",
      "Count is --> 4\n",
      "Count is --> 3\n",
      "Count is --> 2\n",
      "Count is --> 1\n",
      "Count is --> 0\n",
      "Value of n: 1, function was called using n-1: 0\n",
      "Value of n: 2, function was called using n-1: 1\n",
      "Value of n: 3, function was called using n-1: 2\n",
      "Value of n: 4, function was called using n-1: 3\n",
      "Value of n: 5, function was called using n-1: 4\n"
     ]
    }
   ],
   "source": [
    "countdown_explained(n=5)"
   ]
  },
  {
   "cell_type": "code",
   "execution_count": 5,
   "id": "2dd0a272",
   "metadata": {},
   "outputs": [],
   "source": [
    "def countdown_concise(n):\n",
    "    print(n)\n",
    "    if n > 0:\n",
    "        countdown_concise(n-1)\n",
    "    print(\"value of n={}\".format(n))"
   ]
  },
  {
   "cell_type": "code",
   "execution_count": 6,
   "id": "0fe3ad15",
   "metadata": {},
   "outputs": [
    {
     "name": "stdout",
     "output_type": "stream",
     "text": [
      "5\n",
      "4\n",
      "3\n",
      "2\n",
      "1\n",
      "0\n",
      "value of n=0\n",
      "value of n=1\n",
      "value of n=2\n",
      "value of n=3\n",
      "value of n=4\n",
      "value of n=5\n"
     ]
    }
   ],
   "source": [
    "countdown_concise(5)"
   ]
  },
  {
   "cell_type": "markdown",
   "id": "f5584833",
   "metadata": {},
   "source": [
    "___"
   ]
  },
  {
   "cell_type": "markdown",
   "id": "86fe946f",
   "metadata": {},
   "source": [
    "## Factorial"
   ]
  },
  {
   "cell_type": "code",
   "execution_count": 7,
   "id": "22ffb2c1",
   "metadata": {},
   "outputs": [],
   "source": [
    "def factorial(n):\n",
    "    if n <= 1:\n",
    "        return 1\n",
    "    else:\n",
    "        return_value = n*factorial(n-1)\n",
    "    return return_value"
   ]
  },
  {
   "cell_type": "code",
   "execution_count": 8,
   "id": "d4dbcf93",
   "metadata": {},
   "outputs": [
    {
     "data": {
      "text/plain": [
       "120"
      ]
     },
     "execution_count": 8,
     "metadata": {},
     "output_type": "execute_result"
    }
   ],
   "source": [
    "factorial(5)"
   ]
  },
  {
   "cell_type": "code",
   "execution_count": 9,
   "id": "526be505",
   "metadata": {},
   "outputs": [],
   "source": [
    "def factorial_explained(n):\n",
    "    print(\"function called with value of n={}\".format(n))\n",
    "    \n",
    "    # base case\n",
    "    if n <= 1: return 1\n",
    "    \n",
    "    # recursive call: this ultimately should break the problems into sub-problems until the base\n",
    "    # case is reached\n",
    "    value = n*factorial_explained(n-1)\n",
    "    print(\"current value={} in stack when the function was called with n={}\".format(value, n))\n",
    "    return value"
   ]
  },
  {
   "cell_type": "code",
   "execution_count": 10,
   "id": "d9bedafb",
   "metadata": {},
   "outputs": [
    {
     "name": "stdout",
     "output_type": "stream",
     "text": [
      "function called with value of n=5\n",
      "function called with value of n=4\n",
      "function called with value of n=3\n",
      "function called with value of n=2\n",
      "function called with value of n=1\n",
      "current value=2 in stack when the function was called with n=2\n",
      "current value=6 in stack when the function was called with n=3\n",
      "current value=24 in stack when the function was called with n=4\n",
      "current value=120 in stack when the function was called with n=5\n"
     ]
    },
    {
     "data": {
      "text/plain": [
       "120"
      ]
     },
     "execution_count": 10,
     "metadata": {},
     "output_type": "execute_result"
    }
   ],
   "source": [
    "factorial_explained(5)"
   ]
  },
  {
   "cell_type": "code",
   "execution_count": 11,
   "id": "56b2c6f4",
   "metadata": {},
   "outputs": [],
   "source": [
    "def factorial_concise(n):\n",
    "    return_value = 1 if n <= 1 else n*factorial_concise(n-1)\n",
    "    return return_value"
   ]
  },
  {
   "cell_type": "code",
   "execution_count": 12,
   "id": "ec673ee7",
   "metadata": {},
   "outputs": [
    {
     "data": {
      "text/plain": [
       "120"
      ]
     },
     "execution_count": 12,
     "metadata": {},
     "output_type": "execute_result"
    }
   ],
   "source": [
    "factorial_concise(5)"
   ]
  },
  {
   "cell_type": "code",
   "execution_count": 13,
   "id": "f9fba864",
   "metadata": {},
   "outputs": [],
   "source": [
    "def factorical_iterative(n):\n",
    "    value = 1\n",
    "    while(n > 1):\n",
    "        value *= n\n",
    "        n -= 1\n",
    "    return value"
   ]
  },
  {
   "cell_type": "code",
   "execution_count": 14,
   "id": "75cfac01",
   "metadata": {},
   "outputs": [
    {
     "data": {
      "text/plain": [
       "120"
      ]
     },
     "execution_count": 14,
     "metadata": {},
     "output_type": "execute_result"
    }
   ],
   "source": [
    "factorical_iterative(5)"
   ]
  },
  {
   "cell_type": "markdown",
   "id": "f49cbba7",
   "metadata": {},
   "source": [
    "___"
   ]
  },
  {
   "cell_type": "markdown",
   "id": "ff15db11",
   "metadata": {},
   "source": [
    "## Traverse a Nested List"
   ]
  },
  {
   "cell_type": "code",
   "execution_count": 1,
   "id": "7efed1cf",
   "metadata": {},
   "outputs": [],
   "source": [
    "names = [\"Adam\", [\"Bob\", [\"Chet\", \"Cat\"], \"Barb\", \"Bert\"], \"Alex\", [\"Bea\", \"Bill\"], \"Ann\"]"
   ]
  },
  {
   "cell_type": "code",
   "execution_count": 16,
   "id": "9961dc1a",
   "metadata": {},
   "outputs": [
    {
     "data": {
      "text/plain": [
       "5"
      ]
     },
     "execution_count": 16,
     "metadata": {},
     "output_type": "execute_result"
    }
   ],
   "source": [
    "len(names)"
   ]
  },
  {
   "cell_type": "code",
   "execution_count": 17,
   "id": "0625d7d9",
   "metadata": {},
   "outputs": [],
   "source": [
    "def traverse_recursive(input_list):\n",
    "    count = 0\n",
    "    for item in input_list:\n",
    "        if isinstance(item, list):\n",
    "            count += traverse_recursive(item)\n",
    "        else:\n",
    "            count += 1\n",
    "    return count"
   ]
  },
  {
   "cell_type": "code",
   "execution_count": 18,
   "id": "84b59abf",
   "metadata": {},
   "outputs": [
    {
     "data": {
      "text/plain": [
       "10"
      ]
     },
     "execution_count": 18,
     "metadata": {},
     "output_type": "execute_result"
    }
   ],
   "source": [
    "traverse_recursive(names)"
   ]
  },
  {
   "cell_type": "code",
   "execution_count": 19,
   "id": "9d83a1f1",
   "metadata": {},
   "outputs": [],
   "source": [
    "def traverse_iterative(input_list):\n",
    "    current_list = input_list\n",
    "    idx = 0\n",
    "    stack = []\n",
    "    count = 0\n",
    "    \n",
    "    while True:\n",
    "        if len(current_list) == idx:\n",
    "            if stack:\n",
    "                current_list, idx = stack.pop()\n",
    "                idx += 1\n",
    "            else:\n",
    "                break\n",
    "            \n",
    "        if isinstance(current_list[idx], list):\n",
    "            stack.append([current_list, idx])\n",
    "            current_list = current_list[idx]\n",
    "            idx = 0\n",
    "        else:\n",
    "            count += 1\n",
    "            idx += 1\n",
    "    return count"
   ]
  },
  {
   "cell_type": "code",
   "execution_count": 20,
   "id": "9c500e3e",
   "metadata": {},
   "outputs": [
    {
     "data": {
      "text/plain": [
       "10"
      ]
     },
     "execution_count": 20,
     "metadata": {},
     "output_type": "execute_result"
    }
   ],
   "source": [
    "traverse_iterative(names)"
   ]
  },
  {
   "cell_type": "markdown",
   "id": "166f142d",
   "metadata": {},
   "source": [
    "___"
   ]
  },
  {
   "cell_type": "markdown",
   "id": "3054b2a8",
   "metadata": {},
   "source": [
    "## Detect Palindromes\n",
    "\n",
    "Palindromes\n",
    "\n",
    "* Racecar\n",
    "* Level\n",
    "* Kayak\n",
    "* Reviver\n",
    "* Civic\n",
    "\n",
    "Non Palindromes - any other word\n",
    "\n",
    "* troglodyte\n",
    "* business "
   ]
  },
  {
   "cell_type": "code",
   "execution_count": 21,
   "id": "0f6b3366",
   "metadata": {},
   "outputs": [],
   "source": [
    "def palindrome_pythonic(word):\n",
    "    return True if word == word[::-1] else False"
   ]
  },
  {
   "cell_type": "code",
   "execution_count": 22,
   "id": "917fce36",
   "metadata": {},
   "outputs": [],
   "source": [
    "palindrome_word = 'level'\n",
    "non_palindrome_word = 'troglodyte'"
   ]
  },
  {
   "cell_type": "code",
   "execution_count": 23,
   "id": "74eb6715",
   "metadata": {},
   "outputs": [
    {
     "data": {
      "text/plain": [
       "True"
      ]
     },
     "execution_count": 23,
     "metadata": {},
     "output_type": "execute_result"
    }
   ],
   "source": [
    "palindrome_pythonic(palindrome_word)"
   ]
  },
  {
   "cell_type": "code",
   "execution_count": 24,
   "id": "1ffa34b4",
   "metadata": {},
   "outputs": [
    {
     "data": {
      "text/plain": [
       "False"
      ]
     },
     "execution_count": 24,
     "metadata": {},
     "output_type": "execute_result"
    }
   ],
   "source": [
    "palindrome_pythonic(non_palindrome_word)"
   ]
  },
  {
   "cell_type": "markdown",
   "id": "6cd7f1be",
   "metadata": {},
   "source": [
    "### Recursive solution\n",
    "\n",
    "* base case\n",
    "\n",
    "return empty string\n",
    "\n",
    "OR\n",
    "\n",
    "return empty character\n",
    "\n",
    "* recursive case\n",
    "\n",
    "first_letter == last_letter\n",
    "\n",
    "AND\n",
    "\n",
    "break the problem into a sub-problem\n",
    "\n",
    "```python\n",
    "word[1:-1]\n",
    "\n",
    "```"
   ]
  },
  {
   "cell_type": "code",
   "execution_count": 27,
   "id": "fc0ad552",
   "metadata": {},
   "outputs": [],
   "source": [
    "def palindrome_recursive(word):\n",
    "    \n",
    "    print(word)\n",
    "    if word == \"\" or len(word) == 1:\n",
    "        return True\n",
    "    \n",
    "    if word[0] == word[-1]:\n",
    "        return palindrome_recursive(word[1:-1])\n",
    "    else:\n",
    "        return False"
   ]
  },
  {
   "cell_type": "code",
   "execution_count": 28,
   "id": "b3b2baa1",
   "metadata": {},
   "outputs": [
    {
     "name": "stdout",
     "output_type": "stream",
     "text": [
      "level\n",
      "eve\n",
      "v\n"
     ]
    },
    {
     "data": {
      "text/plain": [
       "True"
      ]
     },
     "execution_count": 28,
     "metadata": {},
     "output_type": "execute_result"
    }
   ],
   "source": [
    "palindrome_recursive(palindrome_word)"
   ]
  },
  {
   "cell_type": "code",
   "execution_count": 29,
   "id": "a3b2ae0e",
   "metadata": {},
   "outputs": [],
   "source": [
    "def palindrome_recursive_concise(word):\n",
    "    \n",
    "    print(word)\n",
    "    if word == \"\" or len(word) == 1:\n",
    "        return True\n",
    "    \n",
    "    return word[0] == word[-1] and palindrome_recursive_concise(word[1:-1])"
   ]
  },
  {
   "cell_type": "code",
   "execution_count": 30,
   "id": "5b5cabf5",
   "metadata": {},
   "outputs": [
    {
     "name": "stdout",
     "output_type": "stream",
     "text": [
      "level\n",
      "eve\n",
      "v\n"
     ]
    },
    {
     "data": {
      "text/plain": [
       "True"
      ]
     },
     "execution_count": 30,
     "metadata": {},
     "output_type": "execute_result"
    }
   ],
   "source": [
    "palindrome_recursive_concise(palindrome_word)"
   ]
  },
  {
   "cell_type": "markdown",
   "id": "adfb96e8",
   "metadata": {},
   "source": [
    "## Dear Pythonic Santa Claus…"
   ]
  },
  {
   "cell_type": "code",
   "execution_count": 1,
   "id": "e3ab5a5a",
   "metadata": {},
   "outputs": [],
   "source": [
    "houses = [\"Eric's house\", \"Kenny's house\", \"Kyle's house\", \"Stan's house\"]"
   ]
  },
  {
   "cell_type": "code",
   "execution_count": 2,
   "id": "24061851",
   "metadata": {},
   "outputs": [],
   "source": [
    "def deliver_iteratively(input_list):\n",
    "    for i in input_list:\n",
    "        print(\"Deliver to: {}\".format(i))"
   ]
  },
  {
   "cell_type": "code",
   "execution_count": 3,
   "id": "984c5337",
   "metadata": {},
   "outputs": [
    {
     "name": "stdout",
     "output_type": "stream",
     "text": [
      "Deliver to: Eric's house\n",
      "Deliver to: Kenny's house\n",
      "Deliver to: Kyle's house\n",
      "Deliver to: Stan's house\n"
     ]
    }
   ],
   "source": [
    "deliver_iteratively(houses)"
   ]
  },
  {
   "cell_type": "code",
   "execution_count": 30,
   "id": "7ba82f79",
   "metadata": {},
   "outputs": [],
   "source": [
    "def deliver_recursively(input_list):\n",
    "    if len(input_list) == 1:\n",
    "        print(\"Deliver to: {}\".format(input_list[0]))\n",
    "        return \n",
    "    \n",
    "    mid = len(input_list)//2\n",
    "    left_list = input_list[:mid]\n",
    "    right_list = input_list[mid:]\n",
    "\n",
    "    deliver_recursively(left_list)\n",
    "    deliver_recursively(right_list)    "
   ]
  },
  {
   "cell_type": "code",
   "execution_count": 31,
   "id": "64b1d307",
   "metadata": {},
   "outputs": [
    {
     "name": "stdout",
     "output_type": "stream",
     "text": [
      "Deliver to: Eric's house\n",
      "Deliver to: Kenny's house\n",
      "Deliver to: Kyle's house\n",
      "Deliver to: Stan's house\n"
     ]
    }
   ],
   "source": [
    "deliver_recursively(houses)"
   ]
  },
  {
   "cell_type": "markdown",
   "id": "f6e16f2a",
   "metadata": {},
   "source": [
    "## Recursive Data Structures in Python"
   ]
  },
  {
   "cell_type": "code",
   "execution_count": 32,
   "id": "dd7bccb3",
   "metadata": {},
   "outputs": [],
   "source": [
    "def attach_head(element, input_list):\n",
    "    return [element]+input_list"
   ]
  },
  {
   "cell_type": "code",
   "execution_count": 36,
   "id": "b4849095",
   "metadata": {},
   "outputs": [
    {
     "data": {
      "text/plain": [
       "[42, 21, 'hello']"
      ]
     },
     "execution_count": 36,
     "metadata": {},
     "output_type": "execute_result"
    }
   ],
   "source": [
    "attach_head(42, \n",
    "    attach_head(21, \n",
    "            attach_head(\"hello\", \n",
    "                        []\n",
    "                       )\n",
    "               )\n",
    "           )"
   ]
  },
  {
   "cell_type": "code",
   "execution_count": null,
   "id": "722af003",
   "metadata": {},
   "outputs": [],
   "source": []
  },
  {
   "cell_type": "code",
   "execution_count": 37,
   "id": "a25acefe",
   "metadata": {},
   "outputs": [],
   "source": [
    "def list_sum_recursive(input_list):\n",
    "    if len(input_list) < 1:\n",
    "        return 0\n",
    "    \n",
    "    head = input_list[0]\n",
    "    smaller_list = input_list[1:]\n",
    "    return head + list_sum_recursive(smaller_list)"
   ]
  },
  {
   "cell_type": "code",
   "execution_count": 38,
   "id": "e4472d74",
   "metadata": {},
   "outputs": [
    {
     "data": {
      "text/plain": [
       "6"
      ]
     },
     "execution_count": 38,
     "metadata": {},
     "output_type": "execute_result"
    }
   ],
   "source": [
    "list_sum_recursive([1, 2, 3])"
   ]
  },
  {
   "cell_type": "code",
   "execution_count": null,
   "id": "2b8f5f8f",
   "metadata": {},
   "outputs": [],
   "source": []
  },
  {
   "cell_type": "code",
   "execution_count": 39,
   "id": "4938592c",
   "metadata": {},
   "outputs": [],
   "source": [
    "from functools import lru_cache"
   ]
  },
  {
   "cell_type": "code",
   "execution_count": 40,
   "id": "ad21cf20",
   "metadata": {},
   "outputs": [],
   "source": [
    "def fibonacci(n):\n",
    "    "
   ]
  },
  {
   "cell_type": "code",
   "execution_count": 44,
   "id": "bb980687",
   "metadata": {},
   "outputs": [
    {
     "data": {
      "text/plain": [
       "93326215443944152681699238856266700490715968264381621468592963895217599993229915608941463976156518286253697920827223758251185210916864000000000000000000000000"
      ]
     },
     "execution_count": 44,
     "metadata": {},
     "output_type": "execute_result"
    }
   ],
   "source": [
    "factorial(100)"
   ]
  },
  {
   "cell_type": "code",
   "execution_count": null,
   "id": "b9e8126c",
   "metadata": {},
   "outputs": [],
   "source": []
  }
 ],
 "metadata": {
  "kernelspec": {
   "display_name": "Python 3 (ipykernel)",
   "language": "python",
   "name": "python3"
  },
  "language_info": {
   "codemirror_mode": {
    "name": "ipython",
    "version": 3
   },
   "file_extension": ".py",
   "mimetype": "text/x-python",
   "name": "python",
   "nbconvert_exporter": "python",
   "pygments_lexer": "ipython3",
   "version": "3.8.10"
  }
 },
 "nbformat": 4,
 "nbformat_minor": 5
}
