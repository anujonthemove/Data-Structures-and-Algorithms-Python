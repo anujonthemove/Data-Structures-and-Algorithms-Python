{
 "cells": [
  {
   "cell_type": "code",
   "execution_count": 1,
   "id": "9f20d749",
   "metadata": {},
   "outputs": [],
   "source": [
    "expression1 = \"K + L - M*N + (O^P) * W/U/V * T + Q\"\n",
    "expression2 = \"K + L - M*N + (O-P) * W/U/V * T + Q\"\n",
    "\n",
    "expected_output1 = \"KL+MN*-OP^W*U/V/T*+Q+\"\n",
    "expected_output2 = 'KL+MN*-OP-W*U/V/T*+Q+'\n",
    "\n",
    "expression1 = expression1.replace(\" \", \"\")\n",
    "expression2 = expression2.replace(\" \", \"\")"
   ]
  },
  {
   "cell_type": "code",
   "execution_count": 2,
   "id": "64137534",
   "metadata": {},
   "outputs": [],
   "source": [
    "def reverse_one_line(string):\n",
    "    return string[::-1]"
   ]
  },
  {
   "cell_type": "code",
   "execution_count": 3,
   "id": "045ed095",
   "metadata": {},
   "outputs": [],
   "source": [
    "def reverse(string):\n",
    "    expression_list = list(string)\n",
    "    left = 0\n",
    "    right = len(expression_list)-1\n",
    "\n",
    "    reversed_expression1 = []\n",
    "\n",
    "    while left < right:\n",
    "        expression_list[left], expression_list[right] = expression_list[right], expression_list[left]\n",
    "        left += 1\n",
    "        right -= 1\n",
    "        \n",
    "    return \"\".join(expression_list)"
   ]
  },
  {
   "cell_type": "code",
   "execution_count": 4,
   "id": "89f3c09c",
   "metadata": {},
   "outputs": [],
   "source": [
    "def infix_to_prefix(expression):\n",
    "    operator_precedence = {\n",
    "        \"(\":0,\n",
    "        \")\":0,\n",
    "        \"+\":1,\n",
    "        \"-\":1,\n",
    "        \"*\":2,\n",
    "        \"/\":2,\n",
    "        \"^\":3\n",
    "    }\n",
    "    \n",
    "    r_expression = reverse(expression)\n",
    "    result = \"\"\n",
    "    stack = []\n",
    "    for i in r_expression:\n",
    "        if i in operator_precedence:\n",
    "            if len(stack) == 0 or stack[-1] == \")\":\n",
    "                stack.append(i)\n",
    "            elif i == \")\":\n",
    "                stack.append(i)\n",
    "            elif i == \"(\":\n",
    "                while stack[-1] != \")\":\n",
    "                    element = stack.pop()\n",
    "                    result += element\n",
    "                stack.pop()\n",
    "            elif operator_precedence[i] >= operator_precedence[stack[-1]]:\n",
    "                stack.append(i)\n",
    "            else:\n",
    "                if len(stack) != 0:\n",
    "                    while operator_precedence[i] < operator_precedence[stack[-1]]:\n",
    "                        element = stack.pop()\n",
    "                        result += element\n",
    "                        if len(stack) == 0:\n",
    "                            break\n",
    "                stack.append(i)\n",
    "        else:\n",
    "            result += i\n",
    "    \n",
    "    while len(stack) > 0:\n",
    "        result += stack.pop()\n",
    "    \n",
    "    return reverse(result)"
   ]
  },
  {
   "cell_type": "code",
   "execution_count": 5,
   "id": "829917f8",
   "metadata": {},
   "outputs": [
    {
     "data": {
      "text/plain": [
       "'++-+KL*MN*//*^OPWUVTQ'"
      ]
     },
     "execution_count": 5,
     "metadata": {},
     "output_type": "execute_result"
    }
   ],
   "source": [
    "infix_to_prefix(expression1)"
   ]
  },
  {
   "cell_type": "code",
   "execution_count": 6,
   "id": "cf3cb26a",
   "metadata": {},
   "outputs": [],
   "source": [
    "def infix_to_prefix_test(expression):\n",
    "    operator_precedence = {\n",
    "        \"(\":0,\n",
    "        \")\":0,\n",
    "        \"+\":1,\n",
    "        \"-\":1,\n",
    "        \"*\":2,\n",
    "        \"/\":2,\n",
    "        \"^\":3\n",
    "    }\n",
    "    \n",
    "    r_expression = reverse(expression)\n",
    "    result = \"\"\n",
    "    stack = []\n",
    "    for i in r_expression:\n",
    "        if i in operator_precedence:\n",
    "            if len(stack) == 0 or stack[-1] == \")\":\n",
    "                stack.append(i)\n",
    "            elif i == \")\":\n",
    "                stack.append(i)\n",
    "            elif i == \"(\":\n",
    "                while stack[-1] != \")\":\n",
    "                    element = stack.pop()\n",
    "                    result += element\n",
    "                stack.pop()\n",
    "            elif len(stack) != 0:\n",
    "                while operator_precedence[i] < operator_precedence[stack[-1]]:\n",
    "                    element = stack.pop()\n",
    "                    result += element\n",
    "                    if len(stack) == 0:\n",
    "                        break\n",
    "                stack.append(i)\n",
    "            else:\n",
    "                stack.append(i)\n",
    "        else:\n",
    "            result += i\n",
    "    \n",
    "    while len(stack) > 0:\n",
    "        result += stack.pop()\n",
    "    \n",
    "    return reverse(result)"
   ]
  },
  {
   "cell_type": "code",
   "execution_count": 7,
   "id": "7be02f3f",
   "metadata": {},
   "outputs": [
    {
     "data": {
      "text/plain": [
       "'++-+KL*MN*//*^OPWUVTQ'"
      ]
     },
     "execution_count": 7,
     "metadata": {},
     "output_type": "execute_result"
    }
   ],
   "source": [
    "infix_to_prefix_test(expression1)"
   ]
  },
  {
   "cell_type": "code",
   "execution_count": null,
   "id": "8f2759f6",
   "metadata": {},
   "outputs": [],
   "source": []
  }
 ],
 "metadata": {
  "kernelspec": {
   "display_name": "Python 3 (ipykernel)",
   "language": "python",
   "name": "python3"
  },
  "language_info": {
   "codemirror_mode": {
    "name": "ipython",
    "version": 3
   },
   "file_extension": ".py",
   "mimetype": "text/x-python",
   "name": "python",
   "nbconvert_exporter": "python",
   "pygments_lexer": "ipython3",
   "version": "3.8.10"
  }
 },
 "nbformat": 4,
 "nbformat_minor": 5
}
