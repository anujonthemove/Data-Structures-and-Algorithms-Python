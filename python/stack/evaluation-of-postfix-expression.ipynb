{
 "cells": [
  {
   "cell_type": "markdown",
   "id": "f553f140",
   "metadata": {},
   "source": [
    "## Evaluation of postfix expression using stack.\n",
    "1. Scan the expression from left to right.\n",
    "2. If we encounter any operand in the expression, then we push the operand in the stack.\n",
    "3. When we encounter any operator in the expression, then we pop the corresponding operands from the stack.\n",
    "4. When we finish with the scanning of the expression, the final value remains in the stack.\n",
    "\n",
    "Ref\n",
    "1. https://www.javatpoint.com/convert-infix-to-postfix-notation"
   ]
  },
  {
   "cell_type": "code",
   "execution_count": 1,
   "id": "0e9b66d9",
   "metadata": {},
   "outputs": [],
   "source": [
    "postfix_expression1 = '2 3 4 * +'\n",
    "postfix_expression2 = '3 4 * 2 5 * +'\n",
    "postfix_expression3 = '2 3 1 * + 9 -'\n",
    "postfix_expression4 = '5 3 + 6 2 / * 3 5 * +'\n",
    "\n",
    "\n",
    "postfix_expression1 = postfix_expression1.replace(\" \", \"\")\n",
    "postfix_expression2 = postfix_expression2.replace(\" \", \"\")\n",
    "postfix_expression3 = postfix_expression3.replace(\" \", \"\")\n",
    "postfix_expression4 = postfix_expression4.replace(\" \", \"\")"
   ]
  },
  {
   "cell_type": "code",
   "execution_count": 2,
   "id": "61057755",
   "metadata": {},
   "outputs": [],
   "source": [
    "def postfix_expression_evaluation(expression):\n",
    "    operators = [\"+\", \"-\", \"*\", \"/\"]\n",
    "    stack = [] \n",
    "    for i in expression:\n",
    "        if i in operators:\n",
    "            a = stack.pop()\n",
    "            b = stack.pop()\n",
    "            ans = eval(b + i + a)\n",
    "            stack.append(str(ans))\n",
    "        else:\n",
    "            stack.append(i)\n",
    "    \n",
    "    return float(stack[-1])"
   ]
  },
  {
   "cell_type": "code",
   "execution_count": 3,
   "id": "b4ddebd5",
   "metadata": {},
   "outputs": [
    {
     "data": {
      "text/plain": [
       "14.0"
      ]
     },
     "execution_count": 3,
     "metadata": {},
     "output_type": "execute_result"
    }
   ],
   "source": [
    "postfix_expression_evaluation(postfix_expression1)"
   ]
  },
  {
   "cell_type": "code",
   "execution_count": 4,
   "id": "3149ae43",
   "metadata": {},
   "outputs": [
    {
     "data": {
      "text/plain": [
       "22.0"
      ]
     },
     "execution_count": 4,
     "metadata": {},
     "output_type": "execute_result"
    }
   ],
   "source": [
    "postfix_expression_evaluation(postfix_expression2)"
   ]
  },
  {
   "cell_type": "code",
   "execution_count": 5,
   "id": "a22bdaec",
   "metadata": {},
   "outputs": [
    {
     "data": {
      "text/plain": [
       "-4.0"
      ]
     },
     "execution_count": 5,
     "metadata": {},
     "output_type": "execute_result"
    }
   ],
   "source": [
    "postfix_expression_evaluation(postfix_expression3)"
   ]
  },
  {
   "cell_type": "code",
   "execution_count": 6,
   "id": "ad41a44a",
   "metadata": {},
   "outputs": [
    {
     "data": {
      "text/plain": [
       "39.0"
      ]
     },
     "execution_count": 6,
     "metadata": {},
     "output_type": "execute_result"
    }
   ],
   "source": [
    "postfix_expression_evaluation(postfix_expression4)"
   ]
  }
 ],
 "metadata": {
  "kernelspec": {
   "display_name": "Python 3 (ipykernel)",
   "language": "python",
   "name": "python3"
  },
  "language_info": {
   "codemirror_mode": {
    "name": "ipython",
    "version": 3
   },
   "file_extension": ".py",
   "mimetype": "text/x-python",
   "name": "python",
   "nbconvert_exporter": "python",
   "pygments_lexer": "ipython3",
   "version": "3.8.10"
  }
 },
 "nbformat": 4,
 "nbformat_minor": 5
}
