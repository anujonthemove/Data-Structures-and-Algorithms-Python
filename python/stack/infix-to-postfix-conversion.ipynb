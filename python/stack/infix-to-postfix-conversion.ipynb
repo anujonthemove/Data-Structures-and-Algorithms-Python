{
 "cells": [
  {
   "cell_type": "markdown",
   "id": "bce93880",
   "metadata": {},
   "source": [
    "## Rules for the conversion from infix to postfix expression\n",
    "\n",
    "1. Print the operand as they arrive.\n",
    "2. If the stack is empty or contains a left parenthesis on top, push the incoming operator on to the stack.\n",
    "3. If the incoming symbol is '(', push it on to the stack.\n",
    "4. If the incoming symbol is ')', pop the stack and print the operators until the left parenthesis is found.\n",
    "5. If the incoming symbol has higher precedence than the top of the stack, push it on the stack.\n",
    "6. If the incoming symbol has lower precedence than the top of the stack, pop and print the top of the stack. Then test the incoming operator against the new top of the stack.\n",
    "7. If the incoming operator has the same precedence with the top of the stack then use the associativity rules. If the associativity is from left to right then pop and print the top of the stack then push the incoming operator. 8. If the associativity is from right to left then push the incoming operator.\n",
    "9. At the end of the expression, pop and print all the operators of the stack.\n",
    "\n",
    "\n",
    "Infix: `<operand> <operator> <operand>`"
   ]
  },
  {
   "cell_type": "markdown",
   "id": "d217d82d",
   "metadata": {},
   "source": [
    "1. Print operand as they arrive\n",
    "2. "
   ]
  },
  {
   "cell_type": "code",
   "execution_count": 1,
   "id": "c875984f",
   "metadata": {},
   "outputs": [],
   "source": [
    "class Stack:\n",
    "    def __init__(self):\n",
    "        self.items = []\n",
    "        self.__top = -1\n",
    "    \n",
    "    def is_empty(self):\n",
    "        return self.__top == -1\n",
    "        # return len(self.items) == 0\n",
    "        # return self.items == []\n",
    "        \n",
    "    def top(self):\n",
    "        if self.is_empty():\n",
    "            \n",
    "            print(\"Stack is empty, nothing to peek()\")\n",
    "            return \n",
    "        else:\n",
    "            #print(\"<Element: %s>\" % self.items[-1])\n",
    "            return self.items[-1]\n",
    "    \n",
    "    def __repr__(self):\n",
    "        items = []\n",
    "        \n",
    "        for i in range(len(self.items)-1, 0, -1):\n",
    "            if i == self.__top:\n",
    "                items.append(\"[Top: %s]\" % self.items[i])\n",
    "            else:\n",
    "                items.append(\"[%s]\" % self.items[i])\n",
    "        \n",
    "        return \", \".join(items)\n",
    "    \n",
    "    def __iter__(self):\n",
    "        for i in range(len(self.items)-1, 0, -1):\n",
    "            yield self.items[i]\n",
    "    \n",
    "    def __len__(self):\n",
    "        return len(self.items)\n",
    "    \n",
    "    def push(self, data):\n",
    "        print(\"Inserting: {} into the stack\".format(data))\n",
    "        self.items.append(data)\n",
    "        self.__top += 1\n",
    "    \n",
    "    def pop(self):\n",
    "        if self.is_empty():\n",
    "            print(\"Stack is empty, nothing to pop()\")\n",
    "        else:\n",
    "            data = self.items.pop()\n",
    "            print(\"Removing: {} from top of the stack\".format(data))\n",
    "            self.__top -= 1\n",
    "            return data"
   ]
  },
  {
   "cell_type": "code",
   "execution_count": 2,
   "id": "ee7ed26f",
   "metadata": {},
   "outputs": [],
   "source": [
    "def infix_to_postfix(expression):\n",
    "    # do not forget to have \"(\" in operator priority list\n",
    "    operator_priority = {\"(\":1, \"+\":1, \"-\":1, \"*\":2, \"/\":2, \"^\":3}\n",
    "    # operator_priority = {\"+\":1, \"-\":1, \"*\":2, \"/\":2, \"^\":3}\n",
    "    stack = Stack()\n",
    "    result = \"\"\n",
    "    expression = expression.replace(\" \", \"\")\n",
    "    for character in expression:\n",
    "        if character == \"(\":\n",
    "            stack.push(character)\n",
    "        elif character == \")\":\n",
    "            while stack.top() != \"(\":\n",
    "                result += stack.pop()\n",
    "            stack.pop()\n",
    "        elif character in operator_priority:\n",
    "            if not stack.is_empty():\n",
    "                while operator_priority[stack.top()] >= operator_priority[character]:\n",
    "                    result += stack.pop()\n",
    "                    if stack.is_empty():\n",
    "                        break\n",
    "            stack.push(character)\n",
    "        else:\n",
    "            result += character\n",
    "    while not stack.is_empty():\n",
    "        result += stack.pop()\n",
    "    return result"
   ]
  },
  {
   "cell_type": "code",
   "execution_count": 3,
   "id": "132d713a",
   "metadata": {},
   "outputs": [],
   "source": [
    "expression = \"K + L - M*N + (O^P) * W/U/V * T + Q\""
   ]
  },
  {
   "cell_type": "code",
   "execution_count": 4,
   "id": "c722e265",
   "metadata": {},
   "outputs": [],
   "source": [
    "expected_output = \"# KL+MN*-OP^W*U/V/T*+Q+\""
   ]
  },
  {
   "cell_type": "code",
   "execution_count": 5,
   "id": "2b748053",
   "metadata": {},
   "outputs": [
    {
     "name": "stdout",
     "output_type": "stream",
     "text": [
      "Inserting: + into the stack\n",
      "Removing: + from top of the stack\n",
      "Inserting: - into the stack\n",
      "Inserting: * into the stack\n",
      "Removing: * from top of the stack\n",
      "Removing: - from top of the stack\n",
      "Inserting: + into the stack\n",
      "Inserting: ( into the stack\n",
      "Inserting: ^ into the stack\n",
      "Removing: ^ from top of the stack\n",
      "Removing: ( from top of the stack\n",
      "Inserting: * into the stack\n",
      "Removing: * from top of the stack\n",
      "Inserting: / into the stack\n",
      "Removing: / from top of the stack\n",
      "Inserting: / into the stack\n",
      "Removing: / from top of the stack\n",
      "Inserting: * into the stack\n",
      "Removing: * from top of the stack\n",
      "Removing: + from top of the stack\n",
      "Inserting: + into the stack\n",
      "Removing: + from top of the stack\n"
     ]
    }
   ],
   "source": [
    "result = infix_to_postfix(expression)"
   ]
  },
  {
   "cell_type": "code",
   "execution_count": 6,
   "id": "23f9a565",
   "metadata": {},
   "outputs": [
    {
     "data": {
      "text/plain": [
       "'KL+MN*-OP^W*U/V/T*+Q+'"
      ]
     },
     "execution_count": 6,
     "metadata": {},
     "output_type": "execute_result"
    }
   ],
   "source": [
    "result"
   ]
  },
  {
   "cell_type": "code",
   "execution_count": null,
   "id": "bf47af2f",
   "metadata": {},
   "outputs": [],
   "source": []
  }
 ],
 "metadata": {
  "kernelspec": {
   "display_name": "Python 3 (ipykernel)",
   "language": "python",
   "name": "python3"
  },
  "language_info": {
   "codemirror_mode": {
    "name": "ipython",
    "version": 3
   },
   "file_extension": ".py",
   "mimetype": "text/x-python",
   "name": "python",
   "nbconvert_exporter": "python",
   "pygments_lexer": "ipython3",
   "version": "3.8.10"
  }
 },
 "nbformat": 4,
 "nbformat_minor": 5
}
