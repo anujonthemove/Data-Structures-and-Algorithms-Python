{
 "cells": [
  {
   "cell_type": "markdown",
   "id": "bce93880",
   "metadata": {},
   "source": [
    "## Rules for the conversion from infix to postfix expression\n",
    "\n",
    "1. Print the operand as they arrive.\n",
    "2. If the stack is empty or contains a left parenthesis on top, push the incoming operator on to the stack.\n",
    "3. If the incoming symbol is '(', push it on to the stack.\n",
    "4. If the incoming symbol is ')', pop the stack and print the operators until the left parenthesis is found.\n",
    "5. If the incoming symbol has higher precedence than the top of the stack, push it on the stack.\n",
    "6. If the incoming symbol has lower precedence than the top of the stack, pop and print the top of the stack. Then test the incoming operator against the new top of the stack.\n",
    "7. If the incoming operator has the same precedence with the top of the stack then use the associativity rules. If the associativity is from left to right then pop and print the top of the stack then push the incoming operator. 8. If the associativity is from right to left then push the incoming operator.\n",
    "9. At the end of the expression, pop and print all the operators of the stack.\n",
    "\n",
    "\n",
    "## References\n",
    "1. https://www.youtube.com/watch?v=SFzmtwP4sXA\n",
    "2. https://www.javatpoint.com/convert-infix-to-postfix-notation\n",
    "3. https://favtutor.com/blogs/infix-to-postfix-conversion"
   ]
  },
  {
   "cell_type": "code",
   "execution_count": 1,
   "id": "132d713a",
   "metadata": {},
   "outputs": [],
   "source": [
    "expression1 = \"K + L - M*N + (O^P) * W/U/V * T + Q\"\n",
    "expression2 = \"K + L - M*N + (O-P) * W/U/V * T + Q\"\n",
    "expression3 = \"a * b / c + e / f * g + k - x * y\"\n",
    "\n",
    "expected_output1 = \"KL+MN*-OP^W*U/V/T*+Q+\"\n",
    "expected_output2 = 'KL+MN*-OP-W*U/V/T*+Q+'\n",
    "expected_output3 = 'ab*c/ef/g*+k+xy*-'\n",
    "\n",
    "expression1 = expression1.replace(\" \", \"\")\n",
    "expression2 = expression2.replace(\" \", \"\")\n",
    "expression3 = expression3.replace(\" \", \"\")"
   ]
  },
  {
   "cell_type": "code",
   "execution_count": 2,
   "id": "a062f0af",
   "metadata": {},
   "outputs": [
    {
     "data": {
      "text/plain": [
       "'K+L-M*N+(O^P)*W/U/V*T+Q'"
      ]
     },
     "execution_count": 2,
     "metadata": {},
     "output_type": "execute_result"
    }
   ],
   "source": [
    "expression1"
   ]
  },
  {
   "cell_type": "code",
   "execution_count": 3,
   "id": "c875984f",
   "metadata": {},
   "outputs": [],
   "source": [
    "class Stack:\n",
    "    def __init__(self):\n",
    "        self.items = []\n",
    "        self.__top = -1\n",
    "    \n",
    "    def is_empty(self):\n",
    "        return self.__top == -1\n",
    "        # return len(self.items) == 0\n",
    "        # return self.items == []\n",
    "        \n",
    "    def top(self):\n",
    "        if self.is_empty():\n",
    "            \n",
    "            print(\"Stack is empty, nothing to peek()\")\n",
    "            return \n",
    "        else:\n",
    "            #print(\"<Element: %s>\" % self.items[-1])\n",
    "            return self.items[-1]\n",
    "    \n",
    "    def __repr__(self):\n",
    "        items = []\n",
    "        \n",
    "        for i in range(len(self.items)-1, 0, -1):\n",
    "            if i == self.__top:\n",
    "                items.append(\"[Top: %s]\" % self.items[i])\n",
    "            else:\n",
    "                items.append(\"[%s]\" % self.items[i])\n",
    "        \n",
    "        return \", \".join(items)\n",
    "    \n",
    "    def __iter__(self):\n",
    "        for i in range(len(self.items)-1, 0, -1):\n",
    "            yield self.items[i]\n",
    "    \n",
    "    def __len__(self):\n",
    "        return len(self.items)\n",
    "    \n",
    "    def push(self, data):\n",
    "        print(\"Inserting: {} into the stack\".format(data))\n",
    "        self.items.append(data)\n",
    "        self.__top += 1\n",
    "    \n",
    "    def pop(self):\n",
    "        if self.is_empty():\n",
    "            print(\"Stack is empty, nothing to pop()\")\n",
    "        else:\n",
    "            data = self.items.pop()\n",
    "            print(\"Removing: {} from top of the stack\".format(data))\n",
    "            self.__top -= 1\n",
    "            return data"
   ]
  },
  {
   "cell_type": "code",
   "execution_count": 4,
   "id": "d5162233",
   "metadata": {},
   "outputs": [],
   "source": [
    "operator_precedence = {\n",
    "    \"+\":1,\n",
    "    \"-\":1,\n",
    "    \"*\":2,\n",
    "    \"/\":2,\n",
    "    \"^\":3,\n",
    "    \"(\":0, # if this is found then no need to check for precedence, just push so we can keep 0 precedence\n",
    "    \")\":0, # this will never be found in the stack so keep 0 precedence\n",
    "}"
   ]
  },
  {
   "cell_type": "code",
   "execution_count": 5,
   "id": "3d92aa84",
   "metadata": {},
   "outputs": [],
   "source": [
    "def infix_to_postfix_conversion(expression):\n",
    "    stack = Stack()\n",
    "    result = \"\"\n",
    "    for i in expression:\n",
    "        if i in operator_precedence:\n",
    "            # 2. if the stack is empty or contains a left parenthesis on top, \n",
    "            # push the incoming operator on to the stack.\n",
    "            if stack.is_empty() or stack.top() == \"(\":\n",
    "                stack.push(i)\n",
    "            # 3. If the incoming symbol is '(', push it on to the stack.\n",
    "            elif i == \"(\":\n",
    "                stack.push(i)\n",
    "            elif i == \")\":\n",
    "                # 4. If the incoming symbol is ')', pop the stack and print \n",
    "                # the operators until the left parenthesis is found.\n",
    "                while stack.top() != \"(\":\n",
    "                    element = stack.pop()\n",
    "                    result += element\n",
    "                stack.pop()\n",
    "            # 5. if the incoming symbol has higher precedence than the top of \n",
    "            # the stack, push it on the stack.\n",
    "            elif operator_precedence[i] > operator_precedence[stack.top()]:\n",
    "                stack.push(i)\n",
    "            else:\n",
    "                # 6. If the incoming symbol has lower precedence than the top of the stack, \n",
    "                # pop and print the top of the stack. \n",
    "                # Then test the incoming operator against the new top of the stack.\n",
    "                \n",
    "                # 7. If the incoming operator has the same precedence with the top of the stack \n",
    "                # then use the associativity rules. \n",
    "                # If the associativity is from left to right then pop and print \n",
    "                # the top of the stack then push the incoming operator. \n",
    "                # If the associativity is from right to left then push the incoming operator. - technically\n",
    "                # this condition never comes at least with the above set of opeators.\n",
    "                # ^ is the only operator having associativity Right to Left but it also has higer precedence.\n",
    "                if not stack.is_empty():\n",
    "                    while operator_precedence[i] <= operator_precedence[stack.top()]:\n",
    "                        element = stack.pop()\n",
    "                        result += element\n",
    "                        if stack.is_empty():\n",
    "                            break\n",
    "                stack.push(i)\n",
    "        else:\n",
    "            # 1. Print the operand as they arrive.\n",
    "            result += i\n",
    "\n",
    "    while not stack.is_empty():\n",
    "        result += stack.pop()\n",
    "    return result"
   ]
  },
  {
   "cell_type": "code",
   "execution_count": 6,
   "id": "b01e3351",
   "metadata": {},
   "outputs": [
    {
     "name": "stdout",
     "output_type": "stream",
     "text": [
      "Inserting: + into the stack\n",
      "Removing: + from top of the stack\n",
      "Inserting: - into the stack\n",
      "Inserting: * into the stack\n",
      "Removing: * from top of the stack\n",
      "Removing: - from top of the stack\n",
      "Inserting: + into the stack\n",
      "Inserting: ( into the stack\n",
      "Inserting: ^ into the stack\n",
      "Removing: ^ from top of the stack\n",
      "Removing: ( from top of the stack\n",
      "Inserting: * into the stack\n",
      "Removing: * from top of the stack\n",
      "Inserting: / into the stack\n",
      "Removing: / from top of the stack\n",
      "Inserting: / into the stack\n",
      "Removing: / from top of the stack\n",
      "Inserting: * into the stack\n",
      "Removing: * from top of the stack\n",
      "Removing: + from top of the stack\n",
      "Inserting: + into the stack\n",
      "Removing: + from top of the stack\n"
     ]
    }
   ],
   "source": [
    "result = infix_to_postfix_conversion(expression1)"
   ]
  },
  {
   "cell_type": "code",
   "execution_count": 7,
   "id": "dd7ae7b7",
   "metadata": {},
   "outputs": [
    {
     "data": {
      "text/plain": [
       "True"
      ]
     },
     "execution_count": 7,
     "metadata": {},
     "output_type": "execute_result"
    }
   ],
   "source": [
    "result == expected_output1"
   ]
  },
  {
   "cell_type": "code",
   "execution_count": 8,
   "id": "12d7b6ba",
   "metadata": {},
   "outputs": [
    {
     "name": "stdout",
     "output_type": "stream",
     "text": [
      "Inserting: + into the stack\n",
      "Removing: + from top of the stack\n",
      "Inserting: - into the stack\n",
      "Inserting: * into the stack\n",
      "Removing: * from top of the stack\n",
      "Removing: - from top of the stack\n",
      "Inserting: + into the stack\n",
      "Inserting: ( into the stack\n",
      "Inserting: - into the stack\n",
      "Removing: - from top of the stack\n",
      "Removing: ( from top of the stack\n",
      "Inserting: * into the stack\n",
      "Removing: * from top of the stack\n",
      "Inserting: / into the stack\n",
      "Removing: / from top of the stack\n",
      "Inserting: / into the stack\n",
      "Removing: / from top of the stack\n",
      "Inserting: * into the stack\n",
      "Removing: * from top of the stack\n",
      "Removing: + from top of the stack\n",
      "Inserting: + into the stack\n",
      "Removing: + from top of the stack\n"
     ]
    }
   ],
   "source": [
    "result = infix_to_postfix_conversion(expression2)"
   ]
  },
  {
   "cell_type": "code",
   "execution_count": 9,
   "id": "3dbd0b74",
   "metadata": {},
   "outputs": [
    {
     "data": {
      "text/plain": [
       "True"
      ]
     },
     "execution_count": 9,
     "metadata": {},
     "output_type": "execute_result"
    }
   ],
   "source": [
    "result == expected_output2"
   ]
  },
  {
   "cell_type": "code",
   "execution_count": 10,
   "id": "81686c07",
   "metadata": {
    "scrolled": true
   },
   "outputs": [
    {
     "name": "stdout",
     "output_type": "stream",
     "text": [
      "Inserting: * into the stack\n",
      "Removing: * from top of the stack\n",
      "Inserting: / into the stack\n",
      "Removing: / from top of the stack\n",
      "Inserting: + into the stack\n",
      "Inserting: / into the stack\n",
      "Removing: / from top of the stack\n",
      "Inserting: * into the stack\n",
      "Removing: * from top of the stack\n",
      "Removing: + from top of the stack\n",
      "Inserting: + into the stack\n",
      "Removing: + from top of the stack\n",
      "Inserting: - into the stack\n",
      "Inserting: * into the stack\n",
      "Removing: * from top of the stack\n",
      "Removing: - from top of the stack\n"
     ]
    }
   ],
   "source": [
    "result = infix_to_postfix_conversion(expression3)"
   ]
  },
  {
   "cell_type": "code",
   "execution_count": 11,
   "id": "dd82b21d",
   "metadata": {},
   "outputs": [
    {
     "data": {
      "text/plain": [
       "True"
      ]
     },
     "execution_count": 11,
     "metadata": {},
     "output_type": "execute_result"
    }
   ],
   "source": [
    "result == expected_output3"
   ]
  },
  {
   "cell_type": "code",
   "execution_count": 12,
   "id": "bf47af2f",
   "metadata": {},
   "outputs": [],
   "source": [
    "def infix_to_postfix_ref1(expression):\n",
    "    # do not forget to have \"(\" in operator priority list\n",
    "    operator_priority = {\"(\":0, \"+\":1, \"-\":1, \"*\":2, \"/\":2, \"^\":3}\n",
    "    # operator_priority = {\"+\":1, \"-\":1, \"*\":2, \"/\":2, \"^\":3}\n",
    "    stack = Stack()\n",
    "    result = \"\"\n",
    "    # expression = expression.replace(\" \", \"\")\n",
    "    for character in expression:\n",
    "        if character == \"(\":\n",
    "            stack.push(character)\n",
    "        elif character == \")\":\n",
    "            while stack.top() != \"(\":\n",
    "                element = stack.pop()\n",
    "                if element:\n",
    "                    result += element\n",
    "            stack.pop()\n",
    "        elif character in operator_priority:\n",
    "            if not stack.is_empty():\n",
    "                while operator_priority[stack.top()] >= operator_priority[character]:\n",
    "                    result += stack.pop()\n",
    "                    if stack.is_empty():\n",
    "                        break\n",
    "            stack.push(character)\n",
    "        else:\n",
    "            result += character\n",
    "    while not stack.is_empty():\n",
    "        result += stack.pop()\n",
    "    return result"
   ]
  },
  {
   "cell_type": "code",
   "execution_count": 13,
   "id": "974220cf",
   "metadata": {},
   "outputs": [
    {
     "name": "stdout",
     "output_type": "stream",
     "text": [
      "Inserting: + into the stack\n",
      "Removing: + from top of the stack\n",
      "Inserting: - into the stack\n",
      "Inserting: * into the stack\n",
      "Removing: * from top of the stack\n",
      "Removing: - from top of the stack\n",
      "Inserting: + into the stack\n",
      "Inserting: ( into the stack\n",
      "Inserting: ^ into the stack\n",
      "Removing: ^ from top of the stack\n",
      "Removing: ( from top of the stack\n",
      "Inserting: * into the stack\n",
      "Removing: * from top of the stack\n",
      "Inserting: / into the stack\n",
      "Removing: / from top of the stack\n",
      "Inserting: / into the stack\n",
      "Removing: / from top of the stack\n",
      "Inserting: * into the stack\n",
      "Removing: * from top of the stack\n",
      "Removing: + from top of the stack\n",
      "Inserting: + into the stack\n",
      "Removing: + from top of the stack\n"
     ]
    }
   ],
   "source": [
    "result = infix_to_postfix_ref1(expression1)"
   ]
  },
  {
   "cell_type": "code",
   "execution_count": 14,
   "id": "426565ba",
   "metadata": {},
   "outputs": [
    {
     "data": {
      "text/plain": [
       "True"
      ]
     },
     "execution_count": 14,
     "metadata": {},
     "output_type": "execute_result"
    }
   ],
   "source": [
    "result == expected_output1"
   ]
  },
  {
   "cell_type": "code",
   "execution_count": 15,
   "id": "bbc51fe2",
   "metadata": {},
   "outputs": [],
   "source": [
    "Operators = set(['+', '-', '*', '/', '(', ')', '^'])  # collection of Operators\n",
    "Priority = {'+':1, '-':1, '*':2, '/':2, '^':3} # dictionary having priorities of Operators\n",
    "\n",
    "\n",
    "def infixToPostfix_ref3(expression): \n",
    "    stack = [] # initialization of empty stack\n",
    "    output = '' \n",
    "    for character in expression:\n",
    "        if character not in Operators:  # if an operand append in postfix expression\n",
    "            output+= character\n",
    "        elif character=='(':  # else Operators push onto stack\n",
    "            stack.append('(')\n",
    "        elif character==')':\n",
    "            while stack and stack[-1]!= '(':\n",
    "                output+=stack.pop()\n",
    "            stack.pop()\n",
    "        else: \n",
    "            while stack and stack[-1]!='(' and Priority[character]<=Priority[stack[-1]]:\n",
    "                output+=stack.pop()\n",
    "            stack.append(character)\n",
    "    while stack:\n",
    "        output+=stack.pop()\n",
    "    return output"
   ]
  },
  {
   "cell_type": "code",
   "execution_count": 16,
   "id": "3e7a6851",
   "metadata": {},
   "outputs": [],
   "source": [
    "result = infixToPostfix_ref3(expression2)"
   ]
  },
  {
   "cell_type": "code",
   "execution_count": 17,
   "id": "e2a60437",
   "metadata": {},
   "outputs": [
    {
     "data": {
      "text/plain": [
       "True"
      ]
     },
     "execution_count": 17,
     "metadata": {},
     "output_type": "execute_result"
    }
   ],
   "source": [
    "result == expected_output2"
   ]
  },
  {
   "cell_type": "code",
   "execution_count": null,
   "id": "cf7fddca",
   "metadata": {},
   "outputs": [],
   "source": []
  }
 ],
 "metadata": {
  "kernelspec": {
   "display_name": "Python 3 (ipykernel)",
   "language": "python",
   "name": "python3"
  },
  "language_info": {
   "codemirror_mode": {
    "name": "ipython",
    "version": 3
   },
   "file_extension": ".py",
   "mimetype": "text/x-python",
   "name": "python",
   "nbconvert_exporter": "python",
   "pygments_lexer": "ipython3",
   "version": "3.8.10"
  }
 },
 "nbformat": 4,
 "nbformat_minor": 5
}
