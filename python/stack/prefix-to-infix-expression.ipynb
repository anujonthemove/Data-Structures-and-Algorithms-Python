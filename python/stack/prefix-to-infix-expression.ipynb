{
 "cells": [
  {
   "cell_type": "code",
   "execution_count": 1,
   "id": "275c723f",
   "metadata": {},
   "outputs": [],
   "source": [
    "expression = \"* + a b / e f\"\n",
    "expression = expression.split()"
   ]
  },
  {
   "cell_type": "code",
   "execution_count": 2,
   "id": "27f590b3",
   "metadata": {},
   "outputs": [],
   "source": [
    "def prefix_to_infix(expression):\n",
    "    operator = [\"+\", \"-\", \"*\", \"/\", \"^\"]\n",
    "    stack = []\n",
    "    expression = expression[::-1]\n",
    "    for i in expression:\n",
    "        if i in operator:\n",
    "            if len(stack) > 0:\n",
    "                a = stack.pop()\n",
    "                b = stack.pop()\n",
    "                exp = a+i+b\n",
    "                stack.append(exp)\n",
    "        else:\n",
    "            stack.append(i)\n",
    "    return stack[-1]"
   ]
  },
  {
   "cell_type": "code",
   "execution_count": 3,
   "id": "5c79c191",
   "metadata": {},
   "outputs": [
    {
     "data": {
      "text/plain": [
       "'a+b*e/f'"
      ]
     },
     "execution_count": 3,
     "metadata": {},
     "output_type": "execute_result"
    }
   ],
   "source": [
    "prefix_to_infix(expression)"
   ]
  },
  {
   "cell_type": "code",
   "execution_count": null,
   "id": "43b6133f",
   "metadata": {},
   "outputs": [],
   "source": []
  }
 ],
 "metadata": {
  "kernelspec": {
   "display_name": "Python 3 (ipykernel)",
   "language": "python",
   "name": "python3"
  },
  "language_info": {
   "codemirror_mode": {
    "name": "ipython",
    "version": 3
   },
   "file_extension": ".py",
   "mimetype": "text/x-python",
   "name": "python",
   "nbconvert_exporter": "python",
   "pygments_lexer": "ipython3",
   "version": "3.8.10"
  }
 },
 "nbformat": 4,
 "nbformat_minor": 5
}
