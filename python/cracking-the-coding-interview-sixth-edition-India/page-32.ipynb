{
 "cells": [
  {
   "cell_type": "markdown",
   "id": "bd18058d",
   "metadata": {},
   "source": [
    "### Prime Number"
   ]
  },
  {
   "cell_type": "code",
   "execution_count": 9,
   "id": "36b1f025",
   "metadata": {},
   "outputs": [],
   "source": [
    "def isPrime(n):\n",
    "    # brute-force solution\n",
    "    for i in range(2, n):\n",
    "        if n % i == 0:\n",
    "            print(\"found number to be divisible by {}\".format(i))\n",
    "            return False\n",
    "    return True"
   ]
  },
  {
   "cell_type": "code",
   "execution_count": 10,
   "id": "97f58107",
   "metadata": {},
   "outputs": [
    {
     "name": "stdout",
     "output_type": "stream",
     "text": [
      "found number to be divisible by 2\n"
     ]
    },
    {
     "data": {
      "text/plain": [
       "False"
      ]
     },
     "execution_count": 10,
     "metadata": {},
     "output_type": "execute_result"
    }
   ],
   "source": [
    "isPrime(22)"
   ]
  },
  {
   "cell_type": "code",
   "execution_count": 13,
   "id": "f2b73261",
   "metadata": {},
   "outputs": [],
   "source": [
    "def is_prime_opt_1(n):\n",
    "    for i in range(2, n//2):\n",
    "        if n%i == 0:\n",
    "            print(\"Number is not prime\")\n",
    "            return False\n",
    "    return True"
   ]
  },
  {
   "cell_type": "code",
   "execution_count": 14,
   "id": "4a817477",
   "metadata": {},
   "outputs": [
    {
     "data": {
      "text/plain": [
       "True"
      ]
     },
     "execution_count": 14,
     "metadata": {},
     "output_type": "execute_result"
    }
   ],
   "source": [
    "is_prime_opt_1(23)"
   ]
  },
  {
   "cell_type": "code",
   "execution_count": 15,
   "id": "8d965aff",
   "metadata": {},
   "outputs": [],
   "source": [
    "import math"
   ]
  },
  {
   "cell_type": "code",
   "execution_count": 28,
   "id": "ddf5954f",
   "metadata": {},
   "outputs": [],
   "source": [
    "def is_prime_opt_2(n):\n",
    "    for i in range(2, int(math.sqrt(n))+1):\n",
    "        if n%i == 0:\n",
    "            print(\"number is not prime\")\n",
    "            return False\n",
    "    return True"
   ]
  },
  {
   "cell_type": "code",
   "execution_count": 30,
   "id": "4ae36d3a",
   "metadata": {},
   "outputs": [
    {
     "data": {
      "text/plain": [
       "True"
      ]
     },
     "execution_count": 30,
     "metadata": {},
     "output_type": "execute_result"
    }
   ],
   "source": [
    "is_prime_opt_2(23)"
   ]
  },
  {
   "cell_type": "markdown",
   "id": "0fa04a07",
   "metadata": {},
   "source": [
    "### All Permutations of a string"
   ]
  },
  {
   "cell_type": "code",
   "execution_count": 120,
   "id": "3ba2c6ae",
   "metadata": {},
   "outputs": [],
   "source": [
    "def permutation(string, prefix):\n",
    "    if len(string) == 0:\n",
    "        print(\"PERMUTATION: \", prefix)\n",
    "        return\n",
    "    else:\n",
    "        for i in range(0, len(string)):\n",
    "            print(\"i: {}, string: {}\".format(i, string))\n",
    "            rem = string[:i]+string[i+1:]\n",
    "            \n",
    "            print(\"char at i: \", string[i])\n",
    "            print(\"rem: \", rem)\n",
    "            print(\"preix+string: \", prefix+string[i])\n",
    "            print()\n",
    "            \n",
    "            \n",
    "            permutation(rem, prefix+string[i])\n",
    "\n",
    "# def print_perm(string):\n",
    "#     permutation(string, \"\")"
   ]
  },
  {
   "cell_type": "code",
   "execution_count": 121,
   "id": "b9efb5af",
   "metadata": {},
   "outputs": [
    {
     "name": "stdout",
     "output_type": "stream",
     "text": [
      "i: 0, string: abc\n",
      "char at i:  a\n",
      "rem:  bc\n",
      "preix+string:  a\n",
      "\n",
      "i: 0, string: bc\n",
      "char at i:  b\n",
      "rem:  c\n",
      "preix+string:  ab\n",
      "\n",
      "i: 0, string: c\n",
      "char at i:  c\n",
      "rem:  \n",
      "preix+string:  abc\n",
      "\n",
      "PERMUTATION:  abc\n",
      "i: 1, string: bc\n",
      "char at i:  c\n",
      "rem:  b\n",
      "preix+string:  ac\n",
      "\n",
      "i: 0, string: b\n",
      "char at i:  b\n",
      "rem:  \n",
      "preix+string:  acb\n",
      "\n",
      "PERMUTATION:  acb\n",
      "i: 1, string: abc\n",
      "char at i:  b\n",
      "rem:  ac\n",
      "preix+string:  b\n",
      "\n",
      "i: 0, string: ac\n",
      "char at i:  a\n",
      "rem:  c\n",
      "preix+string:  ba\n",
      "\n",
      "i: 0, string: c\n",
      "char at i:  c\n",
      "rem:  \n",
      "preix+string:  bac\n",
      "\n",
      "PERMUTATION:  bac\n",
      "i: 1, string: ac\n",
      "char at i:  c\n",
      "rem:  a\n",
      "preix+string:  bc\n",
      "\n",
      "i: 0, string: a\n",
      "char at i:  a\n",
      "rem:  \n",
      "preix+string:  bca\n",
      "\n",
      "PERMUTATION:  bca\n",
      "i: 2, string: abc\n",
      "char at i:  c\n",
      "rem:  ab\n",
      "preix+string:  c\n",
      "\n",
      "i: 0, string: ab\n",
      "char at i:  a\n",
      "rem:  b\n",
      "preix+string:  ca\n",
      "\n",
      "i: 0, string: b\n",
      "char at i:  b\n",
      "rem:  \n",
      "preix+string:  cab\n",
      "\n",
      "PERMUTATION:  cab\n",
      "i: 1, string: ab\n",
      "char at i:  b\n",
      "rem:  a\n",
      "preix+string:  cb\n",
      "\n",
      "i: 0, string: a\n",
      "char at i:  a\n",
      "rem:  \n",
      "preix+string:  cba\n",
      "\n",
      "PERMUTATION:  cba\n"
     ]
    }
   ],
   "source": [
    "permutation('abc', '')"
   ]
  },
  {
   "cell_type": "code",
   "execution_count": null,
   "id": "05c6aee6",
   "metadata": {},
   "outputs": [],
   "source": []
  }
 ],
 "metadata": {
  "kernelspec": {
   "display_name": "Python 3 (ipykernel)",
   "language": "python",
   "name": "python3"
  },
  "language_info": {
   "codemirror_mode": {
    "name": "ipython",
    "version": 3
   },
   "file_extension": ".py",
   "mimetype": "text/x-python",
   "name": "python",
   "nbconvert_exporter": "python",
   "pygments_lexer": "ipython3",
   "version": "3.8.10"
  }
 },
 "nbformat": 4,
 "nbformat_minor": 5
}
