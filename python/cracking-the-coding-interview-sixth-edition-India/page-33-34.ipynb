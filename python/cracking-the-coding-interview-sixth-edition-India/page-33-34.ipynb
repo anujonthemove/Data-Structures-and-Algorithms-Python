{
 "cells": [
  {
   "cell_type": "markdown",
   "id": "a22ac3d2",
   "metadata": {},
   "source": [
    "### Nth Fibonacci Number"
   ]
  },
  {
   "cell_type": "code",
   "execution_count": 1,
   "id": "dae476e7",
   "metadata": {},
   "outputs": [],
   "source": [
    "def nth_fibonacci_number(n):\n",
    "    if n <= 1:\n",
    "        return 1\n",
    "    return nth_fibonacci_number(n-1)+nth_fibonacci_number(n-2)"
   ]
  },
  {
   "cell_type": "code",
   "execution_count": 2,
   "id": "f94f1607",
   "metadata": {},
   "outputs": [
    {
     "data": {
      "text/plain": [
       "8"
      ]
     },
     "execution_count": 2,
     "metadata": {},
     "output_type": "execute_result"
    }
   ],
   "source": [
    "nth_fibonacci_number(5)"
   ]
  },
  {
   "cell_type": "markdown",
   "id": "e21a05b3",
   "metadata": {},
   "source": [
    "### N Fibonacci Numbers"
   ]
  },
  {
   "cell_type": "code",
   "execution_count": 3,
   "id": "b64034df",
   "metadata": {},
   "outputs": [],
   "source": [
    "def n_fibonacci_numbers(n):\n",
    "    for i in range(0, n):\n",
    "        print(\"Fib ({}) is: {}\".format(i, nth_fibonacci_number(i)))"
   ]
  },
  {
   "cell_type": "code",
   "execution_count": 4,
   "id": "cf685800",
   "metadata": {},
   "outputs": [
    {
     "name": "stdout",
     "output_type": "stream",
     "text": [
      "Fib (0) is: 1\n",
      "Fib (1) is: 1\n",
      "Fib (2) is: 2\n",
      "Fib (3) is: 3\n",
      "Fib (4) is: 5\n",
      "Fib (5) is: 8\n"
     ]
    }
   ],
   "source": [
    "n_fibonacci_numbers(6)"
   ]
  },
  {
   "cell_type": "markdown",
   "id": "89c17601",
   "metadata": {},
   "source": [
    "### Fibonacci Numbers with Memoization - Explicit"
   ]
  },
  {
   "cell_type": "code",
   "execution_count": 5,
   "id": "4ec5b1c6",
   "metadata": {},
   "outputs": [],
   "source": [
    "def nth_fibonacci_number_memo(n, print_memo_dict=False):\n",
    "    memo = {}\n",
    "    \n",
    "    def fib(n):\n",
    "        if n in memo.keys():\n",
    "            return memo[n]\n",
    "        if n <= 1: return 1\n",
    "        value = fib(n-1)+fib(n-2)\n",
    "        memo[n] = value\n",
    "        return value\n",
    "    \n",
    "    test = fib(n)\n",
    "    if print_memo_dict: print(memo)\n",
    "    return test"
   ]
  },
  {
   "cell_type": "code",
   "execution_count": 6,
   "id": "ab89b9bd",
   "metadata": {},
   "outputs": [
    {
     "data": {
      "text/plain": [
       "573147844013817084101"
      ]
     },
     "execution_count": 6,
     "metadata": {},
     "output_type": "execute_result"
    }
   ],
   "source": [
    "nth_fibonacci_number_memo(100, print_memo_dict=False)"
   ]
  },
  {
   "cell_type": "markdown",
   "id": "cf8cf738",
   "metadata": {},
   "source": [
    "### Fibonacci Numbers with Memoization - using LRU Cache"
   ]
  },
  {
   "cell_type": "code",
   "execution_count": 7,
   "id": "37896806",
   "metadata": {},
   "outputs": [],
   "source": [
    "from functools import lru_cache"
   ]
  },
  {
   "cell_type": "code",
   "execution_count": 8,
   "id": "c379ca56",
   "metadata": {},
   "outputs": [],
   "source": [
    "@lru_cache(maxsize=1000)\n",
    "def fib(n):\n",
    "    if n <= 1: return 1\n",
    "    return fib(n-1)+fib(n-2)"
   ]
  },
  {
   "cell_type": "code",
   "execution_count": 9,
   "id": "0e40a988",
   "metadata": {},
   "outputs": [
    {
     "data": {
      "text/plain": [
       "573147844013817084101"
      ]
     },
     "execution_count": 9,
     "metadata": {},
     "output_type": "execute_result"
    }
   ],
   "source": [
    "fib(100)"
   ]
  },
  {
   "cell_type": "markdown",
   "id": "81d95bb7",
   "metadata": {},
   "source": [
    "### Powers of 2"
   ]
  },
  {
   "cell_type": "code",
   "execution_count": 7,
   "id": "9010acf3",
   "metadata": {},
   "outputs": [],
   "source": [
    "def powersof2(n):\n",
    "    if n < 1: return 0\n",
    "    elif n == 1: \n",
    "        print(n)\n",
    "        return 1\n",
    "    prev = powersof2(n//2)\n",
    "    curr = 2*prev\n",
    "    print(curr)\n",
    "    return curr"
   ]
  },
  {
   "cell_type": "code",
   "execution_count": 8,
   "id": "504893cd",
   "metadata": {},
   "outputs": [
    {
     "name": "stdout",
     "output_type": "stream",
     "text": [
      "1\n",
      "2\n",
      "4\n",
      "8\n",
      "16\n",
      "32\n"
     ]
    },
    {
     "data": {
      "text/plain": [
       "32"
      ]
     },
     "execution_count": 8,
     "metadata": {},
     "output_type": "execute_result"
    }
   ],
   "source": [
    "powersof2(50)"
   ]
  },
  {
   "cell_type": "code",
   "execution_count": null,
   "id": "2914a5ed",
   "metadata": {},
   "outputs": [],
   "source": []
  }
 ],
 "metadata": {
  "kernelspec": {
   "display_name": "Python 3 (ipykernel)",
   "language": "python",
   "name": "python3"
  },
  "language_info": {
   "codemirror_mode": {
    "name": "ipython",
    "version": 3
   },
   "file_extension": ".py",
   "mimetype": "text/x-python",
   "name": "python",
   "nbconvert_exporter": "python",
   "pygments_lexer": "ipython3",
   "version": "3.8.10"
  }
 },
 "nbformat": 4,
 "nbformat_minor": 5
}
