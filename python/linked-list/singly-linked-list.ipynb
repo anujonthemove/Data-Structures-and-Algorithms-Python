{
 "cells": [
  {
   "cell_type": "markdown",
   "id": "a06463bd",
   "metadata": {},
   "source": [
    "## Singly Linked List\n",
    "\n",
    "#### Operations\n",
    "1. Add element\n",
    "    * head\n",
    "    * tail\n",
    "    * in between\n",
    "2. Traverse list\n",
    "3. Get size of list/count number of elements\n",
    "4. Delete element\n",
    "    * head\n",
    "    * tail\n",
    "    * in between\n",
    "5. Search\n",
    "\n",
    "\n",
    "References\n",
    "1. https://teamtreehouse.com/library/introduction-to-data-structures/building-a-linked-list/singly-and-doubly-linked-lists-2\n",
    "\n",
    "2. https://teamtreehouse.com/library/introduction-to-data-structures/building-a-linked-list/linked-lists-operations"
   ]
  },
  {
   "cell_type": "code",
   "execution_count": 1,
   "id": "9fd5dc21",
   "metadata": {},
   "outputs": [],
   "source": [
    "class Node:\n",
    "    def __init__(self, data):\n",
    "        self.data = data\n",
    "        self.next = None\n",
    "\n",
    "    def __repr__(self):\n",
    "        return \"<Node data: %s>\" % self.data"
   ]
  },
  {
   "cell_type": "code",
   "execution_count": 51,
   "id": "3e796308",
   "metadata": {},
   "outputs": [],
   "source": [
    "class LinkedList:\n",
    "    \"\"\"\n",
    "    Operations on linked lists\n",
    "    \"\"\"\n",
    "\n",
    "    def __init__(self):\n",
    "        self.head = None\n",
    "        self.__count = 0\n",
    "\n",
    "    def __repr__(self):\n",
    "        nodes = []\n",
    "        current = self.head\n",
    "        while current:\n",
    "            if current == self.head:\n",
    "                nodes.append(\"[Head: %s]\" % current.data)\n",
    "            elif current.next == None:\n",
    "                nodes.append(\"[Tail: %s]\" % current.data)\n",
    "            else:\n",
    "                nodes.append(\"[%s]\" % current.data)\n",
    "            current = current.next\n",
    "        return \"->\".join(nodes)\n",
    "\n",
    "    def __len__(self):\n",
    "        return self.__count\n",
    "\n",
    "    # this is to make a linked list object iterable\n",
    "    # probably the best example where I understood the\n",
    "    # use of iterator\n",
    "    def __iter__(self):\n",
    "\n",
    "        current = self.head\n",
    "\n",
    "        while current != None:\n",
    "            yield current\n",
    "            current = current.next\n",
    "\n",
    "    def is_empty(self):\n",
    "        return self.head == None\n",
    "\n",
    "    def add_head(self, data):\n",
    "        node = Node(data)\n",
    "        if self.head == None:\n",
    "            self.head = node\n",
    "        else:\n",
    "            node.next = self.head\n",
    "            self.head = node\n",
    "\n",
    "        self.__count += 1\n",
    "\n",
    "    def add_tail_1(self, data):\n",
    "        node = Node(data)\n",
    "\n",
    "        if self.head == None:\n",
    "            self.head = node\n",
    "        else:\n",
    "            current = self.head\n",
    "            while current.next != None:\n",
    "                current = current.next\n",
    "            current.next = node\n",
    "        self.__count += 1\n",
    "\n",
    "    def add_tail_2(self, data):\n",
    "        node = Node(data)\n",
    "\n",
    "        if self.head == None:\n",
    "            self.head = node\n",
    "        else:\n",
    "            current = self.head\n",
    "            while current != None:\n",
    "                # here also we are stopping just at the last element\n",
    "                # so that current doesn't point to None\n",
    "                if current.next == None:\n",
    "                    break\n",
    "                else:\n",
    "                    current = current.next\n",
    "            current.next = node\n",
    "        self.__count += 1\n",
    "\n",
    "    def traverse_list(self):\n",
    "        current = self.head\n",
    "        while current != None:\n",
    "            print(current.data)\n",
    "            current = current.next\n",
    "\n",
    "    def traverse_list_incorrect(self):\n",
    "        while current.next != None:\n",
    "            print(current.data)\n",
    "            current = current.next\n",
    "\n",
    "    def search(self, key):\n",
    "        current = self.head\n",
    "        while current != None:\n",
    "            if current.data == key:\n",
    "                return current\n",
    "            current = current.next\n",
    "\n",
    "        return None\n",
    "\n",
    "    def insert(self, data, index):\n",
    "\n",
    "        if index > self.__count:\n",
    "            raise IndexError(\"index out of range\")\n",
    "\n",
    "        if index == 0:\n",
    "            print(\"inserting [{}] at head\".format(data))\n",
    "            self.add_head(data)\n",
    "        elif index == self.__count:\n",
    "            print(\"inserting [{}] at tail\".format(data))\n",
    "            self.add_tail_1(data)\n",
    "        else:\n",
    "            node = Node(data)\n",
    "            pos = 0\n",
    "            current = self.head\n",
    "            while current != None:\n",
    "                pos += 1\n",
    "                if pos == index:\n",
    "                    print(\n",
    "                        \"inserting at position: {}, data at current: {}\".format(\n",
    "                            pos, current.data\n",
    "                        )\n",
    "                    )\n",
    "                    node.next = current.next\n",
    "                    current.next = node\n",
    "                current = current.next\n",
    "        self.__count += 1\n",
    "\n",
    "    def node_at_index(self, index):\n",
    "        if index < 0 or index > self.__count:\n",
    "            raise IndexError(\"requested index out of bounds\")\n",
    "\n",
    "        elif index == 0:\n",
    "            print(\"requsted node at head\")\n",
    "            return self.head\n",
    "\n",
    "        elif index > 0:\n",
    "            current = self.head\n",
    "            pos = 0\n",
    "\n",
    "            while current != None:\n",
    "                if pos == index:\n",
    "                    print(\"postion/index: {}, data: {}\".format(pos, current.data))\n",
    "                    return current\n",
    "                pos += 1\n",
    "                current = current.next\n",
    "\n",
    "    def remove_key(self, key):\n",
    "        if self.__count == 0:\n",
    "            print(\"List is empty, nothing to remove\")\n",
    "            return\n",
    "\n",
    "        current = self.head\n",
    "        previous = self.head\n",
    "        found = False\n",
    "        while current != None:\n",
    "            if current.data == key:\n",
    "                found = True\n",
    "                break\n",
    "            previous = current\n",
    "            current = current.next\n",
    "\n",
    "        if found:\n",
    "            print(\"current: \", current)\n",
    "            print(\"previous: \", previous)\n",
    "            print(\"Removing key/element/item: {}\".format(current.data))\n",
    "\n",
    "            if current == previous:\n",
    "                self.head = current.next\n",
    "                del current\n",
    "                self.__count -= 1\n",
    "                return\n",
    "\n",
    "            previous.next = current.next\n",
    "            del current\n",
    "            self.__count -= 1\n",
    "\n",
    "        else:\n",
    "            print(\"key not found\")\n",
    "\n",
    "    def remove_key_index(self, index):\n",
    "        if index < 0 or index >= self.__count:\n",
    "            print(\"index out of bounds\")\n",
    "            return\n",
    "\n",
    "        current = self.head\n",
    "        previous = self.head\n",
    "        pos = 0\n",
    "        # this is one way in which we do all the operations within\n",
    "        # the while loop\n",
    "        # other method is to traverse the list, break out when the\n",
    "        # index is found and then do the removal\n",
    "        # former is inspired by treehouse code\n",
    "        # latter came by intuition\n",
    "        # in fact the function `remove_key` has been implemented\n",
    "        # with the latter approach\n",
    "        while current != None:\n",
    "            if index == 0:\n",
    "                self.head = current.next\n",
    "                print(\"Removing key/element/item: {}\".format(current.data))\n",
    "                del current\n",
    "                self.__count -= 1\n",
    "                break\n",
    "            elif index == pos:\n",
    "                previous.next = current.next\n",
    "                print(\"Removing key/element/item: {}\".format(current.data))\n",
    "                del current\n",
    "                self.__count -= 1\n",
    "                break\n",
    "            pos += 1\n",
    "            previous = current\n",
    "            current = current.next"
   ]
  },
  {
   "cell_type": "markdown",
   "id": "8326aeaf",
   "metadata": {},
   "source": [
    "### create and display a single node"
   ]
  },
  {
   "cell_type": "code",
   "execution_count": null,
   "id": "ccb0f17b",
   "metadata": {},
   "outputs": [],
   "source": [
    "node = Node(10)"
   ]
  },
  {
   "cell_type": "code",
   "execution_count": 3,
   "id": "5964cd07",
   "metadata": {},
   "outputs": [
    {
     "data": {
      "text/plain": [
       "<Node data: 10>"
      ]
     },
     "execution_count": 3,
     "metadata": {},
     "output_type": "execute_result"
    }
   ],
   "source": [
    "node"
   ]
  },
  {
   "cell_type": "markdown",
   "id": "06f95c0f",
   "metadata": {},
   "source": [
    "### create a linked list"
   ]
  },
  {
   "cell_type": "code",
   "execution_count": 4,
   "id": "b9163f93",
   "metadata": {},
   "outputs": [],
   "source": [
    "l1 = LinkedList()\n",
    "for i in range(4, 10):\n",
    "    l1.add_head(i)"
   ]
  },
  {
   "cell_type": "markdown",
   "id": "f36507f8",
   "metadata": {},
   "source": [
    "### traverse linked list"
   ]
  },
  {
   "cell_type": "code",
   "execution_count": 5,
   "id": "11a05db8",
   "metadata": {},
   "outputs": [
    {
     "name": "stdout",
     "output_type": "stream",
     "text": [
      "9\n",
      "8\n",
      "7\n",
      "6\n",
      "5\n",
      "4\n"
     ]
    }
   ],
   "source": [
    "l1.traverse_list()"
   ]
  },
  {
   "cell_type": "markdown",
   "id": "baa54d85",
   "metadata": {},
   "source": [
    "### iterate through linked list\n",
    "* implemented `__iter__` method"
   ]
  },
  {
   "cell_type": "code",
   "execution_count": 6,
   "id": "562a0e9e",
   "metadata": {},
   "outputs": [
    {
     "name": "stdout",
     "output_type": "stream",
     "text": [
      "<Node data: 9>\n",
      "<Node data: 8>\n",
      "<Node data: 7>\n",
      "<Node data: 6>\n",
      "<Node data: 5>\n",
      "<Node data: 4>\n"
     ]
    }
   ],
   "source": [
    "for i in l1:\n",
    "    print(i)"
   ]
  },
  {
   "cell_type": "markdown",
   "id": "c7aa78cb",
   "metadata": {},
   "source": [
    "### get length of linked list\n",
    "* implemented `__len__` method"
   ]
  },
  {
   "cell_type": "code",
   "execution_count": 7,
   "id": "2f7ca317",
   "metadata": {},
   "outputs": [
    {
     "data": {
      "text/plain": [
       "6"
      ]
     },
     "execution_count": 7,
     "metadata": {},
     "output_type": "execute_result"
    }
   ],
   "source": [
    "len(l1)"
   ]
  },
  {
   "cell_type": "markdown",
   "id": "c34634aa",
   "metadata": {},
   "source": [
    "### display linked list\n",
    "* implemented `__repr__` method"
   ]
  },
  {
   "cell_type": "code",
   "execution_count": 8,
   "id": "f66a1d0f",
   "metadata": {},
   "outputs": [
    {
     "data": {
      "text/plain": [
       "[Head: 9]->[8]->[7]->[6]->[5]->[Tail: 4]"
      ]
     },
     "execution_count": 8,
     "metadata": {},
     "output_type": "execute_result"
    }
   ],
   "source": [
    "l1"
   ]
  },
  {
   "cell_type": "markdown",
   "id": "4aad12d2",
   "metadata": {},
   "source": [
    "### search an element in linked list"
   ]
  },
  {
   "cell_type": "code",
   "execution_count": 9,
   "id": "d39e0be9",
   "metadata": {},
   "outputs": [
    {
     "data": {
      "text/plain": [
       "<Node data: 6>"
      ]
     },
     "execution_count": 9,
     "metadata": {},
     "output_type": "execute_result"
    }
   ],
   "source": [
    "l1.search(6)"
   ]
  },
  {
   "cell_type": "markdown",
   "id": "b85f65b5",
   "metadata": {},
   "source": [
    "### insert an element in linked list"
   ]
  },
  {
   "cell_type": "code",
   "execution_count": 10,
   "id": "07c19822",
   "metadata": {},
   "outputs": [
    {
     "name": "stdout",
     "output_type": "stream",
     "text": [
      "inserting [200] at head\n"
     ]
    }
   ],
   "source": [
    "l1.insert(200, 0)"
   ]
  },
  {
   "cell_type": "code",
   "execution_count": 11,
   "id": "88ce86e6",
   "metadata": {},
   "outputs": [
    {
     "data": {
      "text/plain": [
       "[Head: 200]->[9]->[8]->[7]->[6]->[5]->[Tail: 4]"
      ]
     },
     "execution_count": 11,
     "metadata": {},
     "output_type": "execute_result"
    }
   ],
   "source": [
    "l1"
   ]
  },
  {
   "cell_type": "code",
   "execution_count": 12,
   "id": "474199f1",
   "metadata": {},
   "outputs": [
    {
     "name": "stdout",
     "output_type": "stream",
     "text": [
      "inserting at position: 2, data at current: 9\n"
     ]
    }
   ],
   "source": [
    "l1.insert(101, 2)"
   ]
  },
  {
   "cell_type": "code",
   "execution_count": 13,
   "id": "e6f2a736",
   "metadata": {},
   "outputs": [
    {
     "data": {
      "text/plain": [
       "[Head: 200]->[9]->[101]->[8]->[7]->[6]->[5]->[Tail: 4]"
      ]
     },
     "execution_count": 13,
     "metadata": {},
     "output_type": "execute_result"
    }
   ],
   "source": [
    "l1"
   ]
  },
  {
   "cell_type": "code",
   "execution_count": 14,
   "id": "41180c62",
   "metadata": {},
   "outputs": [
    {
     "name": "stdout",
     "output_type": "stream",
     "text": [
      "inserting at position: 8, data at current: 4\n"
     ]
    }
   ],
   "source": [
    "l1.insert(22, 8)"
   ]
  },
  {
   "cell_type": "code",
   "execution_count": 15,
   "id": "6d7e68ec",
   "metadata": {},
   "outputs": [
    {
     "data": {
      "text/plain": [
       "[Head: 200]->[9]->[101]->[8]->[7]->[6]->[5]->[4]->[Tail: 22]"
      ]
     },
     "execution_count": 15,
     "metadata": {},
     "output_type": "execute_result"
    }
   ],
   "source": [
    "l1"
   ]
  },
  {
   "cell_type": "markdown",
   "id": "902068b4",
   "metadata": {},
   "source": [
    "### get element at index in linked list"
   ]
  },
  {
   "cell_type": "code",
   "execution_count": 16,
   "id": "bf5c933b",
   "metadata": {
    "scrolled": true
   },
   "outputs": [
    {
     "name": "stdout",
     "output_type": "stream",
     "text": [
      "postion/index: 2, data: 101\n"
     ]
    },
    {
     "data": {
      "text/plain": [
       "<Node data: 101>"
      ]
     },
     "execution_count": 16,
     "metadata": {},
     "output_type": "execute_result"
    }
   ],
   "source": [
    "l1.node_at_index(2)"
   ]
  },
  {
   "cell_type": "markdown",
   "id": "08363c92",
   "metadata": {},
   "source": [
    "### remove an element in linked list"
   ]
  },
  {
   "cell_type": "code",
   "execution_count": 17,
   "id": "a5395888",
   "metadata": {},
   "outputs": [
    {
     "name": "stdout",
     "output_type": "stream",
     "text": [
      "current:  <Node data: 7>\n",
      "previous:  <Node data: 8>\n",
      "Removing key/element/item: 7\n"
     ]
    }
   ],
   "source": [
    "l1.remove_key(7)"
   ]
  },
  {
   "cell_type": "code",
   "execution_count": 18,
   "id": "0e180e53",
   "metadata": {},
   "outputs": [
    {
     "data": {
      "text/plain": [
       "[Head: 200]->[9]->[101]->[8]->[6]->[5]->[4]->[Tail: 22]"
      ]
     },
     "execution_count": 18,
     "metadata": {},
     "output_type": "execute_result"
    }
   ],
   "source": [
    "l1"
   ]
  },
  {
   "cell_type": "code",
   "execution_count": 19,
   "id": "579a359a",
   "metadata": {},
   "outputs": [
    {
     "name": "stdout",
     "output_type": "stream",
     "text": [
      "current:  <Node data: 4>\n",
      "previous:  <Node data: 5>\n",
      "Removing key/element/item: 4\n"
     ]
    }
   ],
   "source": [
    "l1.remove_key(4)"
   ]
  },
  {
   "cell_type": "code",
   "execution_count": 20,
   "id": "6e4d8a06",
   "metadata": {},
   "outputs": [
    {
     "data": {
      "text/plain": [
       "[Head: 200]->[9]->[101]->[8]->[6]->[5]->[Tail: 22]"
      ]
     },
     "execution_count": 20,
     "metadata": {},
     "output_type": "execute_result"
    }
   ],
   "source": [
    "l1"
   ]
  },
  {
   "cell_type": "code",
   "execution_count": 21,
   "id": "9281f4df",
   "metadata": {},
   "outputs": [
    {
     "name": "stdout",
     "output_type": "stream",
     "text": [
      "current:  <Node data: 9>\n",
      "previous:  <Node data: 200>\n",
      "Removing key/element/item: 9\n"
     ]
    }
   ],
   "source": [
    "l1.remove_key(9)"
   ]
  },
  {
   "cell_type": "code",
   "execution_count": 22,
   "id": "ece225cb",
   "metadata": {},
   "outputs": [
    {
     "data": {
      "text/plain": [
       "[Head: 200]->[101]->[8]->[6]->[5]->[Tail: 22]"
      ]
     },
     "execution_count": 22,
     "metadata": {},
     "output_type": "execute_result"
    }
   ],
   "source": [
    "l1"
   ]
  },
  {
   "cell_type": "code",
   "execution_count": 23,
   "id": "120d3192",
   "metadata": {},
   "outputs": [
    {
     "name": "stdout",
     "output_type": "stream",
     "text": [
      "key not found\n"
     ]
    }
   ],
   "source": [
    "l1.remove_key(4)"
   ]
  },
  {
   "cell_type": "code",
   "execution_count": 24,
   "id": "6ab5eafa",
   "metadata": {},
   "outputs": [
    {
     "name": "stdout",
     "output_type": "stream",
     "text": [
      "current:  <Node data: 6>\n",
      "previous:  <Node data: 8>\n",
      "Removing key/element/item: 6\n"
     ]
    }
   ],
   "source": [
    "l1.remove_key(6)"
   ]
  },
  {
   "cell_type": "code",
   "execution_count": 25,
   "id": "8dcaeaa7",
   "metadata": {},
   "outputs": [
    {
     "data": {
      "text/plain": [
       "[Head: 200]->[101]->[8]->[5]->[Tail: 22]"
      ]
     },
     "execution_count": 25,
     "metadata": {},
     "output_type": "execute_result"
    }
   ],
   "source": [
    "l1"
   ]
  },
  {
   "cell_type": "code",
   "execution_count": 26,
   "id": "21301f78",
   "metadata": {},
   "outputs": [
    {
     "name": "stdout",
     "output_type": "stream",
     "text": [
      "current:  <Node data: 5>\n",
      "previous:  <Node data: 8>\n",
      "Removing key/element/item: 5\n"
     ]
    }
   ],
   "source": [
    "l1.remove_key(5)"
   ]
  },
  {
   "cell_type": "code",
   "execution_count": 27,
   "id": "f29400cd",
   "metadata": {},
   "outputs": [
    {
     "data": {
      "text/plain": [
       "[Head: 200]->[101]->[8]->[Tail: 22]"
      ]
     },
     "execution_count": 27,
     "metadata": {},
     "output_type": "execute_result"
    }
   ],
   "source": [
    "l1"
   ]
  },
  {
   "cell_type": "code",
   "execution_count": 28,
   "id": "da943d61",
   "metadata": {},
   "outputs": [
    {
     "name": "stdout",
     "output_type": "stream",
     "text": [
      "key not found\n"
     ]
    }
   ],
   "source": [
    "l1.remove_key(0)"
   ]
  },
  {
   "cell_type": "code",
   "execution_count": 29,
   "id": "0e53cc5d",
   "metadata": {},
   "outputs": [
    {
     "name": "stdout",
     "output_type": "stream",
     "text": [
      "current:  <Node data: 8>\n",
      "previous:  <Node data: 101>\n",
      "Removing key/element/item: 8\n"
     ]
    }
   ],
   "source": [
    "l1.remove_key(8)"
   ]
  },
  {
   "cell_type": "code",
   "execution_count": 30,
   "id": "cedc86c8",
   "metadata": {},
   "outputs": [
    {
     "name": "stdout",
     "output_type": "stream",
     "text": [
      "key not found\n"
     ]
    }
   ],
   "source": [
    "l1.remove_key(0)"
   ]
  },
  {
   "cell_type": "markdown",
   "id": "2a88a984",
   "metadata": {},
   "source": [
    "### remove key at a given index in linked list"
   ]
  },
  {
   "cell_type": "code",
   "execution_count": 31,
   "id": "534f77c9",
   "metadata": {},
   "outputs": [],
   "source": [
    "l1.remove_key_index(3)"
   ]
  },
  {
   "cell_type": "code",
   "execution_count": 33,
   "id": "00b35f6d",
   "metadata": {},
   "outputs": [
    {
     "data": {
      "text/plain": [
       "[Head: 200]->[101]->[Tail: 22]"
      ]
     },
     "execution_count": 33,
     "metadata": {},
     "output_type": "execute_result"
    }
   ],
   "source": [
    "l1"
   ]
  },
  {
   "cell_type": "code",
   "execution_count": 34,
   "id": "83b72469",
   "metadata": {},
   "outputs": [
    {
     "name": "stdout",
     "output_type": "stream",
     "text": [
      "index out of bounds\n"
     ]
    }
   ],
   "source": [
    "l1.remove_key_index(10)"
   ]
  },
  {
   "cell_type": "code",
   "execution_count": 35,
   "id": "4934ac5b",
   "metadata": {},
   "outputs": [
    {
     "data": {
      "text/plain": [
       "[Head: 200]->[101]->[Tail: 22]"
      ]
     },
     "execution_count": 35,
     "metadata": {},
     "output_type": "execute_result"
    }
   ],
   "source": [
    "l1"
   ]
  },
  {
   "cell_type": "code",
   "execution_count": 36,
   "id": "771448f6",
   "metadata": {},
   "outputs": [
    {
     "name": "stdout",
     "output_type": "stream",
     "text": [
      "index out of bounds\n"
     ]
    }
   ],
   "source": [
    "l1.remove_key_index(4)"
   ]
  },
  {
   "cell_type": "code",
   "execution_count": 37,
   "id": "de5ba324",
   "metadata": {},
   "outputs": [
    {
     "data": {
      "text/plain": [
       "[Head: 200]->[101]->[Tail: 22]"
      ]
     },
     "execution_count": 37,
     "metadata": {},
     "output_type": "execute_result"
    }
   ],
   "source": [
    "l1"
   ]
  },
  {
   "cell_type": "code",
   "execution_count": 38,
   "id": "4ce1addd",
   "metadata": {},
   "outputs": [
    {
     "name": "stdout",
     "output_type": "stream",
     "text": [
      "Removing key/element/item: 22\n"
     ]
    }
   ],
   "source": [
    "l1.remove_key_index(2)"
   ]
  },
  {
   "cell_type": "code",
   "execution_count": 39,
   "id": "64385f2f",
   "metadata": {},
   "outputs": [
    {
     "data": {
      "text/plain": [
       "[Head: 200]->[Tail: 101]"
      ]
     },
     "execution_count": 39,
     "metadata": {},
     "output_type": "execute_result"
    }
   ],
   "source": [
    "l1"
   ]
  },
  {
   "cell_type": "code",
   "execution_count": 40,
   "id": "bedd7008",
   "metadata": {},
   "outputs": [
    {
     "name": "stdout",
     "output_type": "stream",
     "text": [
      "Removing key/element/item: 200\n"
     ]
    }
   ],
   "source": [
    "l1.remove_key_index(0)"
   ]
  },
  {
   "cell_type": "code",
   "execution_count": 41,
   "id": "dc1530d6",
   "metadata": {},
   "outputs": [
    {
     "data": {
      "text/plain": [
       "[Head: 101]"
      ]
     },
     "execution_count": 41,
     "metadata": {},
     "output_type": "execute_result"
    }
   ],
   "source": [
    "l1"
   ]
  },
  {
   "cell_type": "code",
   "execution_count": 42,
   "id": "cd4e38ff",
   "metadata": {},
   "outputs": [
    {
     "name": "stdout",
     "output_type": "stream",
     "text": [
      "index out of bounds\n"
     ]
    }
   ],
   "source": [
    "l1.remove_key_index(2)"
   ]
  },
  {
   "cell_type": "code",
   "execution_count": 43,
   "id": "9e9395b9",
   "metadata": {},
   "outputs": [
    {
     "data": {
      "text/plain": [
       "[Head: 101]"
      ]
     },
     "execution_count": 43,
     "metadata": {},
     "output_type": "execute_result"
    }
   ],
   "source": [
    "l1"
   ]
  },
  {
   "cell_type": "code",
   "execution_count": 44,
   "id": "4fdad56c",
   "metadata": {},
   "outputs": [
    {
     "data": {
      "text/plain": [
       "2"
      ]
     },
     "execution_count": 44,
     "metadata": {},
     "output_type": "execute_result"
    }
   ],
   "source": [
    "len(l1)"
   ]
  },
  {
   "cell_type": "code",
   "execution_count": 45,
   "id": "f7958e17",
   "metadata": {},
   "outputs": [],
   "source": [
    "l1.remove_key_index(1)"
   ]
  },
  {
   "cell_type": "code",
   "execution_count": 46,
   "id": "ca96d932",
   "metadata": {},
   "outputs": [
    {
     "data": {
      "text/plain": [
       "[Head: 101]"
      ]
     },
     "execution_count": 46,
     "metadata": {},
     "output_type": "execute_result"
    }
   ],
   "source": [
    "l1"
   ]
  },
  {
   "cell_type": "code",
   "execution_count": 47,
   "id": "2a3130ec",
   "metadata": {},
   "outputs": [
    {
     "data": {
      "text/plain": [
       "2"
      ]
     },
     "execution_count": 47,
     "metadata": {},
     "output_type": "execute_result"
    }
   ],
   "source": [
    "len(l1)"
   ]
  },
  {
   "cell_type": "code",
   "execution_count": 48,
   "id": "33579621",
   "metadata": {},
   "outputs": [],
   "source": [
    "l1.remove_key_index(1)"
   ]
  },
  {
   "cell_type": "code",
   "execution_count": 49,
   "id": "1c1c823f",
   "metadata": {},
   "outputs": [
    {
     "name": "stdout",
     "output_type": "stream",
     "text": [
      "Removing key/element/item: 101\n"
     ]
    }
   ],
   "source": [
    "l1.remove_key_index(0)"
   ]
  },
  {
   "cell_type": "code",
   "execution_count": 50,
   "id": "b33a3219",
   "metadata": {},
   "outputs": [
    {
     "data": {
      "text/plain": []
     },
     "execution_count": 50,
     "metadata": {},
     "output_type": "execute_result"
    }
   ],
   "source": [
    "l1"
   ]
  }
 ],
 "metadata": {
  "kernelspec": {
   "display_name": "Python 3 (ipykernel)",
   "language": "python",
   "name": "python3"
  },
  "language_info": {
   "codemirror_mode": {
    "name": "ipython",
    "version": 3
   },
   "file_extension": ".py",
   "mimetype": "text/x-python",
   "name": "python",
   "nbconvert_exporter": "python",
   "pygments_lexer": "ipython3",
   "version": "3.8.10"
  }
 },
 "nbformat": 4,
 "nbformat_minor": 5
}
