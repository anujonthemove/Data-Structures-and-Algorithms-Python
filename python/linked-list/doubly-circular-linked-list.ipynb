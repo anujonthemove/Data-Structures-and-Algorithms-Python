{
 "cells": [
  {
   "cell_type": "code",
   "execution_count": 1,
   "id": "898e27e1",
   "metadata": {},
   "outputs": [],
   "source": [
    "class Node:\n",
    "    def __init__(self, data):\n",
    "        self.data = data\n",
    "        self.prev = None\n",
    "        self.next = None\n",
    "    \n",
    "    def __repr__(self):\n",
    "        return \"<Node: %s>\" % self.data"
   ]
  },
  {
   "cell_type": "code",
   "execution_count": 2,
   "id": "892e1a14",
   "metadata": {},
   "outputs": [],
   "source": [
    "class DoublyCircularLinkedList:\n",
    "    \n",
    "    def __init__(self):\n",
    "        self.head = None\n",
    "        self.__count = 0\n",
    "    \n",
    "    def __repr__(self):\n",
    "        current = self.head\n",
    "        nodes = []\n",
    "        while current.next != self.head:\n",
    "            if current == self.head:\n",
    "                nodes.append(\"[Head: %s]\" % current.data)\n",
    "            elif current.\n",
    "            \n",
    "    \n",
    "    def __iter__(self):\n",
    "        current = self.head\n",
    "        while current:\n",
    "            yield current.data\n",
    "            current = current.next\n",
    "    \n",
    "    def __len__(self):\n",
    "        return self.__count\n",
    "    \n",
    "    def is_empty(self):\n",
    "        return self.head == None\n",
    "    \n",
    "    def add_head(self):\n",
    "        pass\n",
    "    \n",
    "    def add_tail(self):\n",
    "        pass\n",
    "    \n",
    "    def insert(self):\n",
    "        pass\n",
    "    \n",
    "    def traverse(self):\n",
    "        pass\n",
    "    \n",
    "    def remove_key(self):\n",
    "        pass\n",
    "    \n",
    "    def remove_at_index(self):\n",
    "        pass\n",
    "    \n",
    "    def node_at_index(self):\n",
    "        pass\n",
    "    \n",
    "    def search(self):\n",
    "        pass\n",
    "    \n",
    "    def reverse(self):\n",
    "        pass"
   ]
  },
  {
   "cell_type": "code",
   "execution_count": null,
   "id": "77b42351",
   "metadata": {},
   "outputs": [],
   "source": []
  }
 ],
 "metadata": {
  "kernelspec": {
   "display_name": "Python 3 (ipykernel)",
   "language": "python",
   "name": "python3"
  },
  "language_info": {
   "codemirror_mode": {
    "name": "ipython",
    "version": 3
   },
   "file_extension": ".py",
   "mimetype": "text/x-python",
   "name": "python",
   "nbconvert_exporter": "python",
   "pygments_lexer": "ipython3",
   "version": "3.8.10"
  }
 },
 "nbformat": 4,
 "nbformat_minor": 5
}
