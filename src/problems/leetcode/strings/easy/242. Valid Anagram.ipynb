{
 "cells": [
  {
   "cell_type": "markdown",
   "id": "531e5453",
   "metadata": {},
   "source": [
    "## Valid Anagram"
   ]
  },
  {
   "cell_type": "code",
   "execution_count": 10,
   "id": "fba29773",
   "metadata": {},
   "outputs": [],
   "source": [
    "s = \"anagram\"\n",
    "t = \"nagaram\"\n",
    "Output: True\n",
    "    \n",
    "s = \"rat\"\n",
    "t = \"car\"\n",
    "Output: False\n"
   ]
  },
  {
   "cell_type": "code",
   "execution_count": 11,
   "id": "63de03b6",
   "metadata": {},
   "outputs": [],
   "source": [
    "def test(s, t):\n",
    "    hash_map_str_1 = {}\n",
    "    for i in s:\n",
    "        if i in hash_map_str_1:\n",
    "            hash_map_str_1[i] += 1\n",
    "        else:\n",
    "            hash_map_str_1[i] = 1\n",
    "\n",
    "    hash_map_str_2 = {}\n",
    "    for i in t:\n",
    "        if i in hash_map_str_2:\n",
    "            hash_map_str_2[i] += 1\n",
    "        else:\n",
    "            hash_map_str_2[i] = 1\n",
    "    return hash_map_str_1 == hash_map_str_2"
   ]
  },
  {
   "cell_type": "code",
   "execution_count": 12,
   "id": "e7f9ffd0",
   "metadata": {},
   "outputs": [
    {
     "data": {
      "text/plain": [
       "False"
      ]
     },
     "execution_count": 12,
     "metadata": {},
     "output_type": "execute_result"
    }
   ],
   "source": [
    "test(s, t)"
   ]
  },
  {
   "cell_type": "code",
   "execution_count": null,
   "id": "b686a2f7",
   "metadata": {},
   "outputs": [],
   "source": []
  }
 ],
 "metadata": {
  "kernelspec": {
   "display_name": "Python 3 (ipykernel)",
   "language": "python",
   "name": "python3"
  },
  "language_info": {
   "codemirror_mode": {
    "name": "ipython",
    "version": 3
   },
   "file_extension": ".py",
   "mimetype": "text/x-python",
   "name": "python",
   "nbconvert_exporter": "python",
   "pygments_lexer": "ipython3",
   "version": "3.8.10"
  }
 },
 "nbformat": 4,
 "nbformat_minor": 5
}
