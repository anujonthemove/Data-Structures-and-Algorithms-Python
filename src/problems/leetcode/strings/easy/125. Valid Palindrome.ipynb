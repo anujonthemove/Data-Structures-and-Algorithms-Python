{
 "cells": [
  {
   "cell_type": "markdown",
   "id": "9c0c8392",
   "metadata": {},
   "source": [
    "## Valid Palindrome"
   ]
  },
  {
   "cell_type": "code",
   "execution_count": 24,
   "id": "bf67e9b6",
   "metadata": {},
   "outputs": [],
   "source": [
    "s = \"A man, a plan, a canal: Panama\"\n",
    "Output: True\n",
    "# Explanation: \"amanaplanacanalpanama\" is a palindrome.\n",
    "\n",
    "s = \"race a car\"\n",
    "Output: False\n",
    "#Explanation: \"raceacar\" is not a palindrome.\n",
    "\n",
    "s = \"0P\""
   ]
  },
  {
   "cell_type": "code",
   "execution_count": 25,
   "id": "dad75778",
   "metadata": {},
   "outputs": [],
   "source": [
    "def reverse_string(s):\n",
    "    left = 0\n",
    "    right = len(s)-1\n",
    "\n",
    "    while left < right:\n",
    "        temp = s[left]\n",
    "        s[left] = s[right]\n",
    "        s[right] = temp\n",
    "        left += 1\n",
    "        right -= 1\n",
    "    return s"
   ]
  },
  {
   "cell_type": "code",
   "execution_count": 31,
   "id": "2f5078f9",
   "metadata": {},
   "outputs": [],
   "source": [
    "import string\n",
    "def test(s):\n",
    "    \n",
    "    lower_case_alphabets = string.digits+string.ascii_lowercase\n",
    "\n",
    "    new_str = ''\n",
    "    for i in range(0, len(s)):\n",
    "        lower_case_char = s[i].lower()\n",
    "        if lower_case_char in lower_case_alphabets:\n",
    "            new_str += s[i].lower()\n",
    "    \n",
    "    print(new_str)\n",
    "    new_str_list = list(new_str)\n",
    "    org_string_list = new_str_list.copy()\n",
    "    new_str_list = reverse_string(new_str_list)\n",
    "    \n",
    "    \n",
    "    return org_string_list == new_str_list"
   ]
  },
  {
   "cell_type": "code",
   "execution_count": 32,
   "id": "4515356a",
   "metadata": {},
   "outputs": [
    {
     "name": "stdout",
     "output_type": "stream",
     "text": [
      "0p\n"
     ]
    },
    {
     "data": {
      "text/plain": [
       "False"
      ]
     },
     "execution_count": 32,
     "metadata": {},
     "output_type": "execute_result"
    }
   ],
   "source": [
    "test(s)"
   ]
  },
  {
   "cell_type": "code",
   "execution_count": 30,
   "id": "7c916103",
   "metadata": {},
   "outputs": [
    {
     "data": {
      "text/plain": [
       "'0123456789abcdefghijklmnopqrstuvwxyz'"
      ]
     },
     "execution_count": 30,
     "metadata": {},
     "output_type": "execute_result"
    }
   ],
   "source": [
    "string.digits+string.ascii_lowercase"
   ]
  },
  {
   "cell_type": "code",
   "execution_count": null,
   "id": "72c942ed",
   "metadata": {},
   "outputs": [],
   "source": []
  }
 ],
 "metadata": {
  "kernelspec": {
   "display_name": "Python 3 (ipykernel)",
   "language": "python",
   "name": "python3"
  },
  "language_info": {
   "codemirror_mode": {
    "name": "ipython",
    "version": 3
   },
   "file_extension": ".py",
   "mimetype": "text/x-python",
   "name": "python",
   "nbconvert_exporter": "python",
   "pygments_lexer": "ipython3",
   "version": "3.8.10"
  }
 },
 "nbformat": 4,
 "nbformat_minor": 5
}
