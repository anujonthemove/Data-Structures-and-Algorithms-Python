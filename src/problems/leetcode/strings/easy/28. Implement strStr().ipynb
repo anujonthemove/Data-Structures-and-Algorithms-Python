{
 "cells": [
  {
   "cell_type": "markdown",
   "id": "bfe87792",
   "metadata": {},
   "source": [
    "## Implement strStr()"
   ]
  },
  {
   "cell_type": "code",
   "execution_count": 53,
   "id": "5a92c559",
   "metadata": {},
   "outputs": [],
   "source": [
    "# haystack = \"hello\"\n",
    "# needle = \"ll\"\n",
    "# expected = 2\n",
    "\n",
    "haystack = \"aaaaa\"\n",
    "needle = \"bba\"\n",
    "expected = -1\n",
    "\n",
    "haystack = \"aaa\"\n",
    "needle = \"aaaa\"\n",
    "expected = -1\n",
    "\n",
    "haystack = \"aaa\"\n",
    "needle = \"\"\n",
    "expected = -1\n",
    "\n",
    "# haystack = \"mississippi\"\n",
    "# needle = \"issipi\"\n",
    "# expected = -1\n",
    "\n",
    "\n",
    "# haystack = \"a\"\n",
    "# needle = \"a\"\n",
    "# expected = 0\n"
   ]
  },
  {
   "cell_type": "code",
   "execution_count": 54,
   "id": "d2000273",
   "metadata": {},
   "outputs": [],
   "source": [
    "def test(haystack, needle):\n",
    "    h_len = len(haystack)\n",
    "    n_len = len(needle)\n",
    "    idx = -1\n",
    "    \n",
    "    if h_len == 0 or n_len == 0:\n",
    "        print(\"Came\")\n",
    "        return idx\n",
    "    \n",
    "    for i in range(0, h_len-n_len+1, 1):\n",
    "        print(haystack[i:i+n_len])\n",
    "        sub_str = haystack[i:i+n_len]\n",
    "        print(\"sub_str: \", sub_str)\n",
    "        count = 0\n",
    "        for j in range(0, n_len):\n",
    "            if needle[j] == sub_str[j]:\n",
    "                count += 1\n",
    "        if count >= n_len:\n",
    "            print(\"count: \", count)\n",
    "            idx = i\n",
    "            break\n",
    "    return idx"
   ]
  },
  {
   "cell_type": "code",
   "execution_count": 55,
   "id": "2281a859",
   "metadata": {},
   "outputs": [
    {
     "name": "stdout",
     "output_type": "stream",
     "text": [
      "Came\n"
     ]
    },
    {
     "data": {
      "text/plain": [
       "-1"
      ]
     },
     "execution_count": 55,
     "metadata": {},
     "output_type": "execute_result"
    }
   ],
   "source": [
    "test(haystack, needle)"
   ]
  },
  {
   "cell_type": "code",
   "execution_count": 52,
   "id": "991b9da4",
   "metadata": {},
   "outputs": [],
   "source": [
    "hash_table = {}\n",
    "for i in range(0, len(haystack)):\n",
    "    hash_table[i] = haystack[i]"
   ]
  },
  {
   "cell_type": "code",
   "execution_count": 3,
   "id": "e2f9591d",
   "metadata": {},
   "outputs": [],
   "source": [
    "def test(haystack, needle):\n",
    "    ptr0 = 0 \n",
    "    needle_len = len(needle)\n",
    "    idx = -1\n",
    "    for i in range(0, len(haystack)):\n",
    "        while ptr0 < needle_len:\n",
    "            if haystack[i] == needle[ptr0]:\n",
    "                ptr0 += 1\n",
    "            else: break\n",
    "        if ptr0 >= needle_len:\n",
    "            idx = i\n",
    "            break\n",
    "    \n",
    "    return idx"
   ]
  },
  {
   "cell_type": "code",
   "execution_count": 4,
   "id": "190ecbe3",
   "metadata": {},
   "outputs": [
    {
     "data": {
      "text/plain": [
       "0"
      ]
     },
     "execution_count": 4,
     "metadata": {},
     "output_type": "execute_result"
    }
   ],
   "source": [
    "test(haystack, needle)"
   ]
  },
  {
   "cell_type": "code",
   "execution_count": 5,
   "id": "e15cc755",
   "metadata": {},
   "outputs": [],
   "source": [
    "def test(haystack, needle):\n",
    "    ptr0 = ptr1 = 0\n",
    "    h_len = len(haystack)\n",
    "    n_len = len(needle)\n",
    "    idx = -1\n",
    "    while ptr0 < h_len and ptr1 < n_len:\n",
    "        print(\"compare: \", haystack[ptr0], needle[ptr1])\n",
    "        if haystack[ptr0] == needle[ptr1]:\n",
    "            ptr1 += 1\n",
    "        ptr0 += 1\n",
    "        \n",
    "        if ptr1 >= n_len:\n",
    "            idx = ptr0-ptr1\n",
    "            return idx\n",
    "    return idx"
   ]
  },
  {
   "cell_type": "code",
   "execution_count": 6,
   "id": "e89198d3",
   "metadata": {},
   "outputs": [
    {
     "data": {
      "text/plain": [
       "-1"
      ]
     },
     "execution_count": 6,
     "metadata": {},
     "output_type": "execute_result"
    }
   ],
   "source": [
    "test(haystack, needle)"
   ]
  },
  {
   "cell_type": "code",
   "execution_count": null,
   "id": "e946d859",
   "metadata": {},
   "outputs": [],
   "source": []
  }
 ],
 "metadata": {
  "kernelspec": {
   "display_name": "Python 3 (ipykernel)",
   "language": "python",
   "name": "python3"
  },
  "language_info": {
   "codemirror_mode": {
    "name": "ipython",
    "version": 3
   },
   "file_extension": ".py",
   "mimetype": "text/x-python",
   "name": "python",
   "nbconvert_exporter": "python",
   "pygments_lexer": "ipython3",
   "version": "3.8.10"
  }
 },
 "nbformat": 4,
 "nbformat_minor": 5
}
