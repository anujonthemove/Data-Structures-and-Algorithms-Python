{
 "cells": [
  {
   "cell_type": "markdown",
   "id": "6b89d541",
   "metadata": {},
   "source": [
    "## First Unique Character in a String"
   ]
  },
  {
   "cell_type": "code",
   "execution_count": 55,
   "id": "6f332713",
   "metadata": {},
   "outputs": [],
   "source": [
    "s = \"leetcode\"\n",
    "Output: 0\n",
    "    \n",
    "# s = \"loveleetcode\"\n",
    "# # Output: 2\n",
    "\n",
    "s = \"aabb\"\n",
    "Output: -1"
   ]
  },
  {
   "cell_type": "code",
   "execution_count": 56,
   "id": "2ce34280",
   "metadata": {},
   "outputs": [],
   "source": [
    "from collections import Counter, OrderedDict"
   ]
  },
  {
   "cell_type": "code",
   "execution_count": 57,
   "id": "2de9186b",
   "metadata": {},
   "outputs": [],
   "source": [
    "def test(s):\n",
    "    hash_table = OrderedDict(Counter(s))\n",
    "    \n",
    "    elem = \"\"\n",
    "    for k, v in hash_table.items():\n",
    "        if v < 2:\n",
    "            elem += k\n",
    "            break\n",
    "    \n",
    "    print(elem)\n",
    "    \n",
    "    idx = -1\n",
    "    for i in range(0, len(s)):\n",
    "        if s[i] == elem:\n",
    "            idx = i\n",
    "            break\n",
    "\n",
    "    return idx"
   ]
  },
  {
   "cell_type": "code",
   "execution_count": 58,
   "id": "479b0998",
   "metadata": {},
   "outputs": [
    {
     "name": "stdout",
     "output_type": "stream",
     "text": [
      "\n"
     ]
    },
    {
     "data": {
      "text/plain": [
       "-1"
      ]
     },
     "execution_count": 58,
     "metadata": {},
     "output_type": "execute_result"
    }
   ],
   "source": [
    "test(s)"
   ]
  },
  {
   "cell_type": "code",
   "execution_count": null,
   "id": "b7ddc3ef",
   "metadata": {},
   "outputs": [],
   "source": []
  },
  {
   "cell_type": "code",
   "execution_count": null,
   "id": "f3d70595",
   "metadata": {},
   "outputs": [],
   "source": []
  }
 ],
 "metadata": {
  "kernelspec": {
   "display_name": "Python 3 (ipykernel)",
   "language": "python",
   "name": "python3"
  },
  "language_info": {
   "codemirror_mode": {
    "name": "ipython",
    "version": 3
   },
   "file_extension": ".py",
   "mimetype": "text/x-python",
   "name": "python",
   "nbconvert_exporter": "python",
   "pygments_lexer": "ipython3",
   "version": "3.8.10"
  }
 },
 "nbformat": 4,
 "nbformat_minor": 5
}
