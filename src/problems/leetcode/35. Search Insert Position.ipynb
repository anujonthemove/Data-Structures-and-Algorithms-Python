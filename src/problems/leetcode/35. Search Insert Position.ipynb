{
 "cells": [
  {
   "cell_type": "code",
   "execution_count": 1,
   "id": "956bc8f4",
   "metadata": {},
   "outputs": [],
   "source": [
    "nums = [1,3,5,6]\n",
    "target = 5\n",
    "output = 2\n",
    "\n",
    "# nums = [1,3,5,6]\n",
    "# target = 2\n",
    "# output = 1\n",
    "\n",
    "# nums = [2, 4, 5, 6, 8]\n",
    "# target = 7\n",
    "# output = 4"
   ]
  },
  {
   "cell_type": "code",
   "execution_count": 2,
   "id": "497a4de6",
   "metadata": {},
   "outputs": [],
   "source": [
    "def binary_search(arr, target, low, high, debug=False):\n",
    "\n",
    "    if debug:\n",
    "        print(\"low: \", low)\n",
    "        print(\"high: \", high)\n",
    "        print()\n",
    "    \n",
    "    if low > high:\n",
    "        return low\n",
    "    \n",
    "    mid = (low+high)//2\n",
    "    \n",
    "    if target == arr[mid]:\n",
    "        return mid\n",
    "    \n",
    "    if target < arr[mid]:\n",
    "        return binary_search(arr, target, low, mid-1)\n",
    "    else:\n",
    "        return binary_search(arr, target, mid+1, high)"
   ]
  },
  {
   "cell_type": "code",
   "execution_count": 3,
   "id": "fed4bcdc",
   "metadata": {},
   "outputs": [
    {
     "data": {
      "text/plain": [
       "2"
      ]
     },
     "execution_count": 3,
     "metadata": {},
     "output_type": "execute_result"
    }
   ],
   "source": [
    "binary_search(nums, target=target, low=0, high=len(nums)-1)"
   ]
  },
  {
   "cell_type": "code",
   "execution_count": 4,
   "id": "45cfa0a5",
   "metadata": {},
   "outputs": [],
   "source": [
    "def searchInsert(nums, target):\n",
    "    \"\"\"\n",
    "    :type nums: List[int]\n",
    "    :type target: int\n",
    "    :rtype: int\n",
    "    \"\"\"\n",
    "    def binary_search(arr, target, low, high):\n",
    "\n",
    "        if low > high:\n",
    "            return low\n",
    "\n",
    "        mid = (low+high)//2\n",
    "\n",
    "        if target == arr[mid]:\n",
    "            return mid\n",
    "\n",
    "        if target < arr[mid]:\n",
    "            return binary_search(arr, target, low, mid-1)\n",
    "        else:\n",
    "            return binary_search(arr, target, mid+1, high)\n",
    "\n",
    "    return binary_search(nums, target, 0, len(nums)-1)\n",
    "    "
   ]
  },
  {
   "cell_type": "code",
   "execution_count": 5,
   "id": "dae4938b",
   "metadata": {},
   "outputs": [
    {
     "data": {
      "text/plain": [
       "2"
      ]
     },
     "execution_count": 5,
     "metadata": {},
     "output_type": "execute_result"
    }
   ],
   "source": [
    "searchInsert(nums, target)"
   ]
  }
 ],
 "metadata": {
  "kernelspec": {
   "display_name": "Python 3 (ipykernel)",
   "language": "python",
   "name": "python3"
  },
  "language_info": {
   "codemirror_mode": {
    "name": "ipython",
    "version": 3
   },
   "file_extension": ".py",
   "mimetype": "text/x-python",
   "name": "python",
   "nbconvert_exporter": "python",
   "pygments_lexer": "ipython3",
   "version": "3.8.10"
  }
 },
 "nbformat": 4,
 "nbformat_minor": 5
}
