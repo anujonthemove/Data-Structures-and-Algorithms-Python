{
 "cells": [
  {
   "cell_type": "markdown",
   "id": "1a6bbbc0",
   "metadata": {},
   "source": [
    "## Contains Duplicate"
   ]
  },
  {
   "cell_type": "code",
   "execution_count": 23,
   "id": "75167571",
   "metadata": {},
   "outputs": [],
   "source": [
    "nums = [1,2,3,1]\n",
    "output = True\n",
    "\n",
    "nums = [1,2,3,4]\n",
    "output = False"
   ]
  },
  {
   "cell_type": "code",
   "execution_count": 21,
   "id": "f075d3a1",
   "metadata": {},
   "outputs": [],
   "source": [
    "def test(nums):\n",
    "    hash_map = {}\n",
    "    \n",
    "    has_duplicate = False\n",
    "    for i in nums:\n",
    "        if i in hash_map:\n",
    "            hash_map[i] += 1\n",
    "        else:\n",
    "            hash_map[i] = 1\n",
    "    \n",
    "    for k, v in hash_map.items():\n",
    "        if v > 1:\n",
    "            has_duplicate = True\n",
    "    return has_duplicate"
   ]
  },
  {
   "cell_type": "code",
   "execution_count": 24,
   "id": "c918508b",
   "metadata": {},
   "outputs": [
    {
     "data": {
      "text/plain": [
       "False"
      ]
     },
     "execution_count": 24,
     "metadata": {},
     "output_type": "execute_result"
    }
   ],
   "source": [
    "test(nums)"
   ]
  },
  {
   "cell_type": "code",
   "execution_count": 25,
   "id": "169622d9",
   "metadata": {},
   "outputs": [],
   "source": [
    "from collections import Counter"
   ]
  },
  {
   "cell_type": "code",
   "execution_count": 26,
   "id": "95e8dbe5",
   "metadata": {},
   "outputs": [],
   "source": [
    "def test(nums):\n",
    "    hash_map = Counter(nums)\n",
    "    has_dup = False    \n",
    "    for k, v in hash_map.items():\n",
    "        if v > 1:\n",
    "            has_dup = True\n",
    "    return has_dup"
   ]
  },
  {
   "cell_type": "code",
   "execution_count": 27,
   "id": "28267cf8",
   "metadata": {},
   "outputs": [
    {
     "data": {
      "text/plain": [
       "False"
      ]
     },
     "execution_count": 27,
     "metadata": {},
     "output_type": "execute_result"
    }
   ],
   "source": [
    "test(nums)"
   ]
  },
  {
   "cell_type": "code",
   "execution_count": null,
   "id": "860d3c8c",
   "metadata": {},
   "outputs": [],
   "source": []
  }
 ],
 "metadata": {
  "kernelspec": {
   "display_name": "Python 3 (ipykernel)",
   "language": "python",
   "name": "python3"
  },
  "language_info": {
   "codemirror_mode": {
    "name": "ipython",
    "version": 3
   },
   "file_extension": ".py",
   "mimetype": "text/x-python",
   "name": "python",
   "nbconvert_exporter": "python",
   "pygments_lexer": "ipython3",
   "version": "3.8.10"
  }
 },
 "nbformat": 4,
 "nbformat_minor": 5
}
