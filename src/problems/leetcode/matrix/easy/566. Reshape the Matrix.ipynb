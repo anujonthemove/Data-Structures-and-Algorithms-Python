{
 "cells": [
  {
   "cell_type": "markdown",
   "id": "05bc91ae",
   "metadata": {},
   "source": [
    "## Reshape the Matrix"
   ]
  },
  {
   "cell_type": "code",
   "execution_count": 22,
   "id": "80772271",
   "metadata": {
    "scrolled": true
   },
   "outputs": [],
   "source": [
    "mat = [[1, 2], [3, 4]]\n",
    "r = 1\n",
    "c = 4\n",
    "Output: [[1, 2, 3, 4]]\n",
    "\n",
    "r = 4\n",
    "c = 1\n",
    "Output: [[1], [2], [3], [4]]"
   ]
  },
  {
   "cell_type": "code",
   "execution_count": 25,
   "id": "ed145f40",
   "metadata": {},
   "outputs": [],
   "source": [
    "def test(mat, r, c):\n",
    "\n",
    "    n = len(mat)\n",
    "    m = len(mat[0])\n",
    "\n",
    "    if m * n != r * c:\n",
    "        return mat\n",
    "\n",
    "    flat_arr = []\n",
    "    for i in range(0, len(mat)):\n",
    "        for j in range(0, len(mat[0])):\n",
    "            flat_arr.append(mat[i][j])\n",
    "\n",
    "    flat_arr\n",
    "\n",
    "    arr = []\n",
    "    ptr = 0\n",
    "    for i in range(0, r):\n",
    "        temp = []\n",
    "        for j in range(0, c):\n",
    "            temp.append(flat_arr[ptr])\n",
    "            ptr += 1\n",
    "        arr.append(temp)\n",
    "\n",
    "    return arr"
   ]
  },
  {
   "cell_type": "code",
   "execution_count": 26,
   "id": "d0b5e70c",
   "metadata": {},
   "outputs": [
    {
     "data": {
      "text/plain": [
       "[[1], [2], [3], [4]]"
      ]
     },
     "execution_count": 26,
     "metadata": {},
     "output_type": "execute_result"
    }
   ],
   "source": [
    "test(mat, r, c)"
   ]
  },
  {
   "cell_type": "code",
   "execution_count": null,
   "id": "7db2108e",
   "metadata": {},
   "outputs": [],
   "source": []
  }
 ],
 "metadata": {
  "kernelspec": {
   "display_name": "Python 3 (ipykernel)",
   "language": "python",
   "name": "python3"
  },
  "language_info": {
   "codemirror_mode": {
    "name": "ipython",
    "version": 3
   },
   "file_extension": ".py",
   "mimetype": "text/x-python",
   "name": "python",
   "nbconvert_exporter": "python",
   "pygments_lexer": "ipython3",
   "version": "3.8.10"
  }
 },
 "nbformat": 4,
 "nbformat_minor": 5
}
