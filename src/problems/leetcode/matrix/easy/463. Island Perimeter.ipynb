{
 "cells": [
  {
   "cell_type": "markdown",
   "id": "371dbd12",
   "metadata": {},
   "source": [
    "## Island Perimeter"
   ]
  },
  {
   "attachments": {
    "image.png": {
     "image/png": "[encoded data removed]"
    }
   },
   "cell_type": "markdown",
   "id": "711b5cb6",
   "metadata": {},
   "source": [
    "![image.png](attachment:image.png)"
   ]
  },
  {
   "cell_type": "code",
   "execution_count": 1,
   "id": "5a5bb7d1",
   "metadata": {},
   "outputs": [],
   "source": [
    "grid = [[0, 1, 0, 0], [1, 1, 1, 0], [0, 1, 0, 0], [1, 1, 0, 0]]\n",
    "Output: 16"
   ]
  },
  {
   "cell_type": "code",
   "execution_count": 2,
   "id": "fbbfe79f",
   "metadata": {},
   "outputs": [],
   "source": [
    "def has_left(grid, i, j):\n",
    "    if j - 1 >= 0:\n",
    "        if grid[i][j - 1] == 0:\n",
    "            return 1\n",
    "        else:\n",
    "            return 0\n",
    "    else:\n",
    "        return 1"
   ]
  },
  {
   "cell_type": "code",
   "execution_count": 3,
   "id": "a72fef21",
   "metadata": {},
   "outputs": [],
   "source": [
    "def has_right(grid, i, j):\n",
    "    right_bound = len(grid[0]) - 1\n",
    "    if j + 1 <= right_bound:\n",
    "        if grid[i][j + 1] == 0:\n",
    "            return 1\n",
    "        else:\n",
    "            return 0\n",
    "    else:\n",
    "        return 1"
   ]
  },
  {
   "cell_type": "code",
   "execution_count": 4,
   "id": "cc9f2601",
   "metadata": {},
   "outputs": [],
   "source": [
    "def has_top(grid, i, j):\n",
    "    if i - 1 >= 0:\n",
    "        if grid[i - 1][j] == 0:\n",
    "            return 1\n",
    "        else:\n",
    "            return 0\n",
    "    else:\n",
    "        return 1"
   ]
  },
  {
   "cell_type": "code",
   "execution_count": 5,
   "id": "e55bf6df",
   "metadata": {},
   "outputs": [],
   "source": [
    "def has_bottom(grid, i, j):\n",
    "    bottom_bound = len(grid) - 1\n",
    "    if i + 1 <= bottom_bound:\n",
    "        if grid[i + 1][j] == 0:\n",
    "            return 1\n",
    "        else:\n",
    "            return 0\n",
    "    else:\n",
    "        return 1"
   ]
  },
  {
   "cell_type": "code",
   "execution_count": 6,
   "id": "cebef2e9",
   "metadata": {},
   "outputs": [],
   "source": [
    "def test(grid):\n",
    "    perimeter = 0\n",
    "    for i in range(0, len(grid)):\n",
    "        for j in range(0, len(grid[0])):\n",
    "            if grid[i][j] != 0:\n",
    "                # print(\"grid[{}][{}]: {}, left count: {}, right count: {}, top count: {}, bottom count: {} \" \\\n",
    "                # .format(i, j, grid[i][j], has_left(grid, i, j), has_right(grid, i, j), has_top(grid, i, j), has_bottom(grid, i, j)))\n",
    "                perimeter += (\n",
    "                    has_left(grid, i, j)\n",
    "                    + has_right(grid, i, j)\n",
    "                    + has_top(grid, i, j)\n",
    "                    + has_bottom(grid, i, j)\n",
    "                )\n",
    "        # print()\n",
    "    return perimeter"
   ]
  },
  {
   "cell_type": "code",
   "execution_count": 7,
   "id": "27c0f26d",
   "metadata": {},
   "outputs": [
    {
     "data": {
      "text/plain": [
       "16"
      ]
     },
     "execution_count": 7,
     "metadata": {},
     "output_type": "execute_result"
    }
   ],
   "source": [
    "test(grid)"
   ]
  },
  {
   "cell_type": "code",
   "execution_count": null,
   "id": "8bb87dad",
   "metadata": {},
   "outputs": [],
   "source": []
  }
 ],
 "metadata": {
  "kernelspec": {
   "display_name": "Python 3 (ipykernel)",
   "language": "python",
   "name": "python3"
  },
  "language_info": {
   "codemirror_mode": {
    "name": "ipython",
    "version": 3
   },
   "file_extension": ".py",
   "mimetype": "text/x-python",
   "name": "python",
   "nbconvert_exporter": "python",
   "pygments_lexer": "ipython3",
   "version": "3.8.10"
  }
 },
 "nbformat": 4,
 "nbformat_minor": 5
}
