{
 "cells": [
  {
   "cell_type": "markdown",
   "id": "66b2729c",
   "metadata": {},
   "source": [
    "## Merge Sorted Array"
   ]
  },
  {
   "cell_type": "markdown",
   "id": "16c97f3d",
   "metadata": {},
   "source": [
    "### Recall merge sort"
   ]
  },
  {
   "cell_type": "code",
   "execution_count": 1,
   "id": "5f4bd519",
   "metadata": {},
   "outputs": [],
   "source": [
    "def merge(left, right):\n",
    "    if len(left) == 0:\n",
    "        return right\n",
    "    if len(right) == 0:\n",
    "        return left\n",
    "    \n",
    "    left_idx = 0\n",
    "    right_idx = 0\n",
    "    result = []\n",
    "    \n",
    "    while len(result) < len(left) + len(right):\n",
    "        if left[left_idx] < right[right_idx]:\n",
    "            result.append(left[left_idx])\n",
    "            left_idx += 1\n",
    "        else:\n",
    "            result.append(right[right_idx])\n",
    "            right_idx += 1\n",
    "    \n",
    "        if left_idx == len(left):\n",
    "            result += right[right_idx:]\n",
    "            break\n",
    "        if right_idx == len(right):\n",
    "            result += left[left_idx:]\n",
    "            break\n",
    "    \n",
    "    return result"
   ]
  },
  {
   "cell_type": "code",
   "execution_count": 2,
   "id": "968e28a9",
   "metadata": {},
   "outputs": [],
   "source": [
    "def partition_sort(arr):\n",
    "    if len(arr) < 2:\n",
    "        return arr\n",
    "    \n",
    "    mid = len(arr)//2\n",
    "    \n",
    "    left = partition_sort(arr[:mid])\n",
    "    right = partition_sort(arr[mid:])\n",
    "    return merge(left, right)"
   ]
  },
  {
   "cell_type": "code",
   "execution_count": 3,
   "id": "f4a17d70",
   "metadata": {},
   "outputs": [],
   "source": [
    "nums = [8, 2, 6, 4, 5]"
   ]
  },
  {
   "cell_type": "code",
   "execution_count": 4,
   "id": "2186a59b",
   "metadata": {},
   "outputs": [
    {
     "data": {
      "text/plain": [
       "[2, 4, 5, 6, 8]"
      ]
     },
     "execution_count": 4,
     "metadata": {},
     "output_type": "execute_result"
    }
   ],
   "source": [
    "partition_sort(nums)"
   ]
  },
  {
   "cell_type": "markdown",
   "id": "e3a3296a",
   "metadata": {},
   "source": [
    "### Attempt - 1\n",
    "* Misunderstood the problem to be merge algorithm of merge sort"
   ]
  },
  {
   "cell_type": "code",
   "execution_count": 5,
   "id": "d9dd19c3",
   "metadata": {},
   "outputs": [],
   "source": [
    "def merge(nums1, m, nums2, n):\n",
    "    \"\"\"\n",
    "    :type nums1: List[int]\n",
    "    :type m: int\n",
    "    :type nums2: List[int]\n",
    "    :type n: int\n",
    "    :rtype: None Do not return anything, modify nums1 in-place instead.\n",
    "    \"\"\"\n",
    "    def merge_arr(left, right):\n",
    "        if len(left) == 0:\n",
    "            return right\n",
    "        if len(right) == 0:\n",
    "            return left\n",
    "\n",
    "        left_idx = 0\n",
    "        right_idx = 0\n",
    "        result = []\n",
    "\n",
    "        while len(result) < len(left) + len(right):\n",
    "            if left[left_idx] < right[right_idx]:\n",
    "                result.append(left[left_idx])\n",
    "                left_idx += 1\n",
    "            else:\n",
    "                result.append(right[right_idx])\n",
    "                right_idx += 1\n",
    "\n",
    "            if left_idx == len(left):\n",
    "                result += right[right_idx:]\n",
    "                break\n",
    "            if right_idx == len(right):\n",
    "                result += left[left_idx:]\n",
    "                break\n",
    "\n",
    "        return result\n",
    "    return merge_arr(nums1, nums2)"
   ]
  },
  {
   "cell_type": "code",
   "execution_count": 6,
   "id": "19bace35",
   "metadata": {},
   "outputs": [],
   "source": [
    "nums1 = [1,2,3,0,0,0] \n",
    "m = 3 \n",
    "nums2 = [2,5,6] \n",
    "n = 3"
   ]
  },
  {
   "cell_type": "code",
   "execution_count": 7,
   "id": "0d1301dc",
   "metadata": {},
   "outputs": [
    {
     "data": {
      "text/plain": [
       "[1, 2, 2, 3, 5, 6]"
      ]
     },
     "execution_count": 7,
     "metadata": {},
     "output_type": "execute_result"
    }
   ],
   "source": [
    "merge(nums1[:n], m, nums2, n)"
   ]
  },
  {
   "cell_type": "markdown",
   "id": "ee81096e",
   "metadata": {},
   "source": [
    "### Attempt - 2"
   ]
  },
  {
   "cell_type": "code",
   "execution_count": 8,
   "id": "2c922936",
   "metadata": {},
   "outputs": [],
   "source": [
    "def merge(left, m, right, n):\n",
    "    \"\"\"\n",
    "    :type nums1: List[int]\n",
    "    :type m: int\n",
    "    :type nums2: List[int]\n",
    "    :type n: int\n",
    "    :rtype: None Do not return anything, modify nums1 in-place instead.\n",
    "    \"\"\"\n",
    "\n",
    "    if len(left) == 0:\n",
    "        return right\n",
    "    if len(right) == 0:\n",
    "        return left\n",
    "\n",
    "    left_idx = 0\n",
    "    right_idx = 0\n",
    "    result = []\n",
    "\n",
    "    while len(left) < len(left[n:]) + len(right):\n",
    "        if left[left_idx] < right[right_idx]:\n",
    "            result.append(left[left_idx])\n",
    "            left_idx += 1\n",
    "        else:\n",
    "            result.append(right[right_idx])\n",
    "            right_idx += 1\n",
    "\n",
    "        if left_idx == len(left):\n",
    "            result += right[right_idx:]\n",
    "            break\n",
    "        if right_idx == len(right):\n",
    "            result += left[left_idx:]\n",
    "            break\n",
    "\n",
    "    return result\n"
   ]
  },
  {
   "cell_type": "markdown",
   "id": "d723634e",
   "metadata": {},
   "source": [
    "### Attempt - 3"
   ]
  },
  {
   "cell_type": "code",
   "execution_count": 9,
   "id": "a1bd6fef",
   "metadata": {},
   "outputs": [],
   "source": [
    "def test(nums1, m, nums2, n):\n",
    "    \n",
    "    if n == 0:\n",
    "        return None\n",
    "    if m == 0:\n",
    "        nums1[0:] = nums2\n",
    "        return None\n",
    "    \n",
    "    left_ptr = 0\n",
    "    right_ptr = 0\n",
    "    zero_idx = (n+m)-1\n",
    "    \n",
    "    \n",
    "    while left_ptr < n+m and right_ptr < n:\n",
    "        if nums2[right_ptr] < nums1[left_ptr]:\n",
    "            ptr = zero_idx\n",
    "            while ptr > left_ptr and ptr > 0:\n",
    "                \n",
    "                nums1[ptr] = nums1[ptr-1]\n",
    "                ptr -= 1\n",
    "            nums1[left_ptr] = nums2[right_ptr]\n",
    "            zero_idx -= 1\n",
    "            right_ptr += 1\n",
    "        left_ptr += 1\n",
    "        \n",
    "        \n",
    "#         if nums1[left_ptr] == 0:\n",
    "#             print(nums1)\n",
    "#             nums1[left_ptr:] = nums2[right_ptr:]\n",
    "#             break\n",
    "        \n",
    "    return None\n",
    "            "
   ]
  },
  {
   "cell_type": "code",
   "execution_count": 10,
   "id": "f3f443f5",
   "metadata": {},
   "outputs": [],
   "source": [
    "nums1 = [1,2,3,0,0,0] \n",
    "m = 3 \n",
    "nums2 = [2,5,6] \n",
    "n = 3"
   ]
  },
  {
   "cell_type": "code",
   "execution_count": 11,
   "id": "cc8f0983",
   "metadata": {},
   "outputs": [],
   "source": [
    "test(nums1, m, nums2, n)"
   ]
  },
  {
   "cell_type": "code",
   "execution_count": 12,
   "id": "3a81e838",
   "metadata": {},
   "outputs": [
    {
     "name": "stdout",
     "output_type": "stream",
     "text": [
      "[1, 2, 2, 3, 0, 0]\n"
     ]
    }
   ],
   "source": [
    "print(nums1)"
   ]
  },
  {
   "cell_type": "markdown",
   "id": "b5e30195",
   "metadata": {},
   "source": [
    "### Attempt - 4"
   ]
  },
  {
   "cell_type": "code",
   "execution_count": 13,
   "id": "e889070d",
   "metadata": {},
   "outputs": [],
   "source": [
    "def test(nums1, m, nums2, n):\n",
    "    \n",
    "    if m == 0:\n",
    "        nums1[0:] = nums2\n",
    "        return None\n",
    "    \n",
    "    left_ptr = 0\n",
    "    right_ptr = 0\n",
    "    zero_idx_ptr = 0\n",
    "    \n",
    "    while left_ptr < m+n and right_ptr < n:\n",
    "        if nums2[right_ptr] < nums1[left_ptr]:\n",
    "            zero_idx_ptr = left_ptr\n",
    "            \n",
    "            while nums1[zero_idx_ptr] > 0:\n",
    "                zero_idx_ptr += 1\n",
    "            \n",
    "            while zero_idx_ptr > left_ptr and zero_idx_ptr > 0:\n",
    "                nums1[zero_idx_ptr] = nums1[zero_idx_ptr-1]\n",
    "                zero_idx_ptr -= 1\n",
    "            \n",
    "            nums1[zero_idx_ptr] = nums2[right_ptr]\n",
    "            right_ptr += 1\n",
    "        \n",
    "        left_ptr += 1\n",
    "    \n",
    "        \n",
    "#         print(\"nums1[left_ptr:]: {}, left_ptr: {}, zero_idx_ptr: {}, nums2[right_ptr:]: {}, right_ptr: {}\".format(nums1[left_ptr:], left_ptr, zero_idx_ptr, nums2[right_ptr:], right_ptr))\n",
    "#         if nums1[left_ptr] == 0:\n",
    "#             nums1[left_ptr:] = nums2[right_ptr:]\n",
    "#             break           "
   ]
  },
  {
   "cell_type": "code",
   "execution_count": 14,
   "id": "125f1964",
   "metadata": {},
   "outputs": [],
   "source": [
    "nums1 = [1,2,3,0,0,0] \n",
    "m = 3 \n",
    "nums2 = [2,5,6] \n",
    "n = 3"
   ]
  },
  {
   "cell_type": "code",
   "execution_count": 15,
   "id": "ee01b015",
   "metadata": {},
   "outputs": [],
   "source": [
    "test(nums1, m, nums2, n)"
   ]
  },
  {
   "cell_type": "code",
   "execution_count": 16,
   "id": "cda6add9",
   "metadata": {},
   "outputs": [
    {
     "name": "stdout",
     "output_type": "stream",
     "text": [
      "[1, 2, 2, 3, 0, 0]\n"
     ]
    }
   ],
   "source": [
    "print(nums1)"
   ]
  },
  {
   "cell_type": "markdown",
   "id": "f5fe3c40",
   "metadata": {},
   "source": [
    "### Final solution"
   ]
  },
  {
   "cell_type": "markdown",
   "id": "f6b07313",
   "metadata": {},
   "source": [
    "#### Test cases"
   ]
  },
  {
   "cell_type": "code",
   "execution_count": 17,
   "id": "43f420d1",
   "metadata": {},
   "outputs": [],
   "source": [
    "test_cases = {\n",
    "    \"1\":{\n",
    "        \"nums1\":[4, 4, 5, 8, 9, 0, 0, 0, 0],\n",
    "        \"m\":5,\n",
    "        \"nums2\":[1, 2, 6, 10],\n",
    "        \"n\":4,\n",
    "        \"expected\" : [1, 2, 4, 4, 5, 6, 8, 9, 10]\n",
    "    },\n",
    "    \n",
    "    \"2\":{\n",
    "        \"nums1\":[1,2,3,0,0,0],\n",
    "        \"m\" : 3,\n",
    "        \"nums2\" : [2,5,6],\n",
    "        \"n\" : 3,\n",
    "        \"expected\" : [1, 2, 3, 4, 5, 6]\n",
    "    },\n",
    "    \n",
    "    \"3\":{\n",
    "        \"nums1\":[0],\n",
    "        \"m\" : 0,\n",
    "        \"nums2\" : [1],\n",
    "        \"n\" : 1,\n",
    "        \"expected\" : [1]\n",
    "    },\n",
    "    \n",
    "    \"4\":{\n",
    "        \"nums1\":[2],\n",
    "        \"m\" : 1,\n",
    "        \"nums2\" : [],\n",
    "        \"n\" : 0,\n",
    "        \"expected\" : [2]\n",
    "    },\n",
    "    \n",
    "    \"5\":{\n",
    "        \"nums1\":[2,0],\n",
    "        \"m\" : 1,\n",
    "        \"nums2\" : [1],\n",
    "        \"n\" : 1,\n",
    "        \"expected\" : [1, 2]\n",
    "    },\n",
    "    \n",
    "    \"6\":{\n",
    "        \"nums1\":[4,0,0,0,0,0],\n",
    "        \"m\" : 1,\n",
    "        \"nums2\" : [1,2,3,5,6],\n",
    "        \"n\" : 5,\n",
    "        \"expected\" : [1, 2, 3, 4, 5, 6]\n",
    "    },\n",
    "    \n",
    "    \"7\":{\n",
    "        \"nums1\":[4,5,6,0,0,0],\n",
    "        \"m\" : 3,\n",
    "        \"nums2\" : [1,2,3],\n",
    "        \"n\" : 3,\n",
    "        \"expected\" : [1, 2, 3, 4, 5, 6]\n",
    "\n",
    "    },\n",
    "\n",
    "    \"8\":{\n",
    "        \"nums1\":[-1,0,0,3,3,3,0,0,0],\n",
    "        \"m\" : 6,\n",
    "        \"nums2\" : [1,2,2],\n",
    "        \"n\" : 3,\n",
    "        \"expected\" : [-1,0,0,1,2,2,3,3,3]\n",
    "    },\n",
    "    \n",
    "}\n",
    "\n",
    "\n",
    "\n",
    "# # 1.\n",
    "# nums1 = [4, 4, 5, 8, 9, 0, 0, 0, 0]\n",
    "# m = 5\n",
    "# nums2 = [1, 2, 6, 10]\n",
    "# n = 4\n",
    "\n",
    "# # 2.\n",
    "# nums1 = [1,2,3,0,0,0] \n",
    "# m = 3 \n",
    "# nums2 = [2,5,6] \n",
    "# n = 3\n",
    "\n",
    "# # 3.\n",
    "# nums1 = [0]\n",
    "# m = 0\n",
    "# nums2 = [1]\n",
    "# n = 1\n",
    "\n",
    "# # 4.\n",
    "# nums1 = [2]\n",
    "# m = 1\n",
    "# nums2 = []\n",
    "# n = 0\n",
    "\n",
    "# # 5.\n",
    "# nums1 = [2,0]\n",
    "# m = 1\n",
    "# nums2 = [1]\n",
    "# n = 1\n",
    "\n",
    "# # 6.\n",
    "# nums1 = [4,0,0,0,0,0]\n",
    "# m = 1\n",
    "# nums2 = [1,2,3,5,6]\n",
    "# n = 5\n",
    "\n",
    "# # 7.\n",
    "# nums1 = [4,5,6,0,0,0]\n",
    "# m = 3\n",
    "# nums2 = [1,2,3]\n",
    "# n = 3\n",
    "\n",
    "# # 8.\n",
    "# nums1 = [-1,0,0,3,3,3,0,0,0]\n",
    "# m = 6\n",
    "# nums2 = [1,2,2]\n",
    "# n = 3\n",
    "# expected = [-1,0,0,1,2,2,3,3,3]"
   ]
  },
  {
   "cell_type": "markdown",
   "id": "b8ad1e1f",
   "metadata": {},
   "source": [
    "#### working solution\n",
    "\n",
    "* Do not return anything at the end.\n",
    "* Returned here only to check."
   ]
  },
  {
   "cell_type": "code",
   "execution_count": 18,
   "id": "771bb1c7",
   "metadata": {},
   "outputs": [],
   "source": [
    "def merge_arrays(nums1, m, nums2, n):\n",
    "    \n",
    "    left_ptr = right_ptr = 0\n",
    "    fzp = zpl = m\n",
    "    \n",
    "    while left_ptr < m+n and right_ptr < n:\n",
    "        if nums2[right_ptr] < nums1[left_ptr]:\n",
    "            while fzp > left_ptr:\n",
    "                nums1[fzp] = nums1[fzp-1]\n",
    "                fzp -= 1\n",
    "            nums1[left_ptr] = nums2[right_ptr]\n",
    "            right_ptr += 1\n",
    "            zpl += 1\n",
    "            fzp = zpl\n",
    "        left_ptr += 1\n",
    "    \n",
    "    #print(\"nums2[right_ptr:]: \", nums2[right_ptr:])\n",
    "    #print(\"zpl: {}, m+n: {}\".format(zpl, m+n))\n",
    "    if zpl < (m+n) and nums1[zpl] == 0:\n",
    "        #print(\"yes: \", nums2[right_ptr:])\n",
    "        #print()\n",
    "        nums1[zpl:] = nums2[right_ptr:]\n",
    "        \n",
    "    return nums1"
   ]
  },
  {
   "cell_type": "code",
   "execution_count": 19,
   "id": "2fd3fb0f",
   "metadata": {},
   "outputs": [
    {
     "name": "stdout",
     "output_type": "stream",
     "text": [
      "Expected: [1, 2, 4, 4, 5, 6, 8, 9, 10]\n",
      "Solution: [1, 2, 4, 4, 5, 6, 8, 9, 10]\n",
      "\n",
      "Expected: [1, 2, 3, 4, 5, 6]\n",
      "Solution: [1, 2, 2, 3, 5, 6]\n",
      "\n",
      "Expected: [1]\n",
      "Solution: [1]\n",
      "\n",
      "Expected: [2]\n",
      "Solution: [2]\n",
      "\n",
      "Expected: [1, 2]\n",
      "Solution: [1, 2]\n",
      "\n",
      "Expected: [1, 2, 3, 4, 5, 6]\n",
      "Solution: [1, 2, 3, 4, 5, 6]\n",
      "\n",
      "Expected: [1, 2, 3, 4, 5, 6]\n",
      "Solution: [1, 2, 3, 4, 5, 6]\n",
      "\n",
      "Expected: [-1, 0, 0, 1, 2, 2, 3, 3, 3]\n",
      "Solution: [-1, 0, 0, 1, 2, 2, 3, 3, 3]\n",
      "\n"
     ]
    }
   ],
   "source": [
    "for i in test_cases.values():\n",
    "    print(\"Expected: {}\".format(i[\"expected\"]))\n",
    "    print(\"Solution: {}\".format(merge_arrays(i[\"nums1\"], i[\"m\"], i[\"nums2\"], i[\"n\"])))\n",
    "    print()"
   ]
  },
  {
   "cell_type": "code",
   "execution_count": null,
   "id": "b1127df0",
   "metadata": {},
   "outputs": [],
   "source": []
  },
  {
   "cell_type": "code",
   "execution_count": null,
   "id": "4d331b05",
   "metadata": {},
   "outputs": [],
   "source": []
  }
 ],
 "metadata": {
  "kernelspec": {
   "display_name": "Python 3 (ipykernel)",
   "language": "python",
   "name": "python3"
  },
  "language_info": {
   "codemirror_mode": {
    "name": "ipython",
    "version": 3
   },
   "file_extension": ".py",
   "mimetype": "text/x-python",
   "name": "python",
   "nbconvert_exporter": "python",
   "pygments_lexer": "ipython3",
   "version": "3.8.10"
  }
 },
 "nbformat": 4,
 "nbformat_minor": 5
}
