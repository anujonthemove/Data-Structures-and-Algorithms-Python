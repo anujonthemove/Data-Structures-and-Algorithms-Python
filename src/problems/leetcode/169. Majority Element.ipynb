{
 "cells": [
  {
   "cell_type": "markdown",
   "id": "0141f3b7",
   "metadata": {},
   "source": [
    "## Majority Element"
   ]
  },
  {
   "cell_type": "code",
   "execution_count": 15,
   "id": "93e26f03",
   "metadata": {},
   "outputs": [
    {
     "name": "stdout",
     "output_type": "stream",
     "text": [
      "[1, 1, 1, 2, 2, 2, 2]\n",
      "7\n"
     ]
    }
   ],
   "source": [
    "nums = [3,2,3]\n",
    "nums = [2,2,1,1,1,2,2]\n",
    "print(sorted(nums))\n",
    "n = len(nums)\n",
    "print(n)"
   ]
  },
  {
   "cell_type": "code",
   "execution_count": 3,
   "id": "eac8c924",
   "metadata": {},
   "outputs": [],
   "source": [
    "from collections import Counter\n",
    "import operator"
   ]
  },
  {
   "cell_type": "code",
   "execution_count": 4,
   "id": "65a15a73",
   "metadata": {},
   "outputs": [
    {
     "data": {
      "text/plain": [
       "('b', 3000)"
      ]
     },
     "execution_count": 4,
     "metadata": {},
     "output_type": "execute_result"
    }
   ],
   "source": [
    "import operator\n",
    "stats = {'a': 1000, 'b': 3000, 'c': 100}\n",
    "max(stats.items(), key=operator.itemgetter(1))"
   ]
  },
  {
   "cell_type": "code",
   "execution_count": 5,
   "id": "4177ab5d",
   "metadata": {},
   "outputs": [
    {
     "data": {
      "text/plain": [
       "2"
      ]
     },
     "execution_count": 5,
     "metadata": {},
     "output_type": "execute_result"
    }
   ],
   "source": [
    "hash_map = Counter(nums)\n",
    "max(hash_map.items(), key=operator.itemgetter(1))[0]"
   ]
  },
  {
   "cell_type": "code",
   "execution_count": 6,
   "id": "9d9cdad2",
   "metadata": {},
   "outputs": [
    {
     "data": {
      "text/plain": [
       "operator.itemgetter(1)"
      ]
     },
     "execution_count": 6,
     "metadata": {},
     "output_type": "execute_result"
    }
   ],
   "source": [
    "operator.itemgetter(1)"
   ]
  },
  {
   "cell_type": "code",
   "execution_count": 7,
   "id": "a2f46109",
   "metadata": {},
   "outputs": [],
   "source": [
    "import math\n",
    "\n",
    "\n",
    "def test(nums):\n",
    "    ptr0 = 0\n",
    "    ptr1 = 0\n",
    "    count = 0\n",
    "    ans = -(math.inf)\n",
    "    \n",
    "    while ptr1 < len(nums):\n",
    "        if nums[ptr0] == nums[ptr1]:\n",
    "            print(\"ptr0: {}, ptr1: {}, nums[ptr1]: {}\".format(ptr0, ptr1, nums[ptr1]))\n",
    "            count += 1\n",
    "            ptr1 += 1\n",
    "            print(\"count: \", count)\n",
    "        else:\n",
    "            count = 0\n",
    "            ptr0 = ptr1\n",
    "        \n",
    "        if ans < count:\n",
    "            ans = count\n",
    "            \n",
    "    \n",
    "    # print(ans)\n",
    "    return ans\n",
    "    "
   ]
  },
  {
   "cell_type": "code",
   "execution_count": 8,
   "id": "0cac12b2",
   "metadata": {},
   "outputs": [
    {
     "name": "stdout",
     "output_type": "stream",
     "text": [
      "ptr0: 0, ptr1: 0, nums[ptr1]: 1\n",
      "count:  1\n",
      "ptr0: 0, ptr1: 1, nums[ptr1]: 1\n",
      "count:  2\n",
      "ptr0: 0, ptr1: 2, nums[ptr1]: 1\n",
      "count:  3\n",
      "ptr0: 3, ptr1: 3, nums[ptr1]: 2\n",
      "count:  1\n",
      "ptr0: 3, ptr1: 4, nums[ptr1]: 2\n",
      "count:  2\n",
      "ptr0: 3, ptr1: 5, nums[ptr1]: 2\n",
      "count:  3\n",
      "ptr0: 3, ptr1: 6, nums[ptr1]: 2\n",
      "count:  4\n"
     ]
    },
    {
     "data": {
      "text/plain": [
       "4"
      ]
     },
     "execution_count": 8,
     "metadata": {},
     "output_type": "execute_result"
    }
   ],
   "source": [
    "test(sorted(nums))"
   ]
  },
  {
   "cell_type": "code",
   "execution_count": 9,
   "id": "1746f2ca",
   "metadata": {},
   "outputs": [],
   "source": [
    "def majority_element_corrected(nums):\n",
    "    nums = sorted(nums)\n",
    "    majority_elem = len(nums)//2\n",
    "    # print(nums)\n",
    "    ptr0 = 0\n",
    "    ptr1 = 0\n",
    "    count = 0\n",
    "    ans = -1\n",
    "    elem = -1\n",
    "    \n",
    "    while ptr1 < len(nums):\n",
    "        if nums[ptr0] == nums[ptr1]:\n",
    "            # print(\"ptr0: {}, ptr1: {}, nums[ptr1]: {}\".format(ptr0, ptr1, nums[ptr1]))\n",
    "            count += 1\n",
    "            ptr1 += 1\n",
    "            # print(\"count: \", count)\n",
    "        else:\n",
    "            count = 0\n",
    "            ptr0 = ptr1\n",
    "\n",
    "        if ans < count:\n",
    "            ans = count\n",
    "            if ans > majority_elem:\n",
    "                elem = nums[ptr0]\n",
    "            \n",
    "\n",
    "    \n",
    "    \n",
    "    return elem\n"
   ]
  },
  {
   "cell_type": "code",
   "execution_count": 97,
   "id": "15122fcb",
   "metadata": {},
   "outputs": [
    {
     "data": {
      "text/plain": [
       "3"
      ]
     },
     "execution_count": 97,
     "metadata": {},
     "output_type": "execute_result"
    }
   ],
   "source": [
    "nums = [3, 2, 3]\n",
    "len(nums)\n",
    "majority_element_corrected(nums)"
   ]
  },
  {
   "cell_type": "code",
   "execution_count": 11,
   "id": "b71d616c",
   "metadata": {},
   "outputs": [
    {
     "data": {
      "text/plain": [
       "-1"
      ]
     },
     "execution_count": 11,
     "metadata": {},
     "output_type": "execute_result"
    }
   ],
   "source": [
    "nums = [1, 1, 2, 2, 2, 2, 3, 3, 3, 4, 4, 4, 4, 4, 4]\n",
    "len(nums)\n",
    "majority_element_corrected(nums)"
   ]
  },
  {
   "cell_type": "code",
   "execution_count": 94,
   "id": "b43db1e4",
   "metadata": {},
   "outputs": [],
   "source": [
    "nums = [7, 7, 5, 7, 5, 1, 5, 7, 5, 5, 7, 7, 7, 7, 7, 7]\n",
    "nums = [10,9,9,9,10]\n",
    "nums = [1,3,1,1,4,1,1,5,1,1,6,2,2]"
   ]
  },
  {
   "cell_type": "code",
   "execution_count": 33,
   "id": "cca0cf3c",
   "metadata": {},
   "outputs": [],
   "source": [
    "# def fail(nums):\n",
    "#     count = 0\n",
    "#     elem = nums[0]\n",
    "#     store = -1\n",
    "#     for i in range(0, len(nums)):\n",
    "#         if elem == nums[i]:\n",
    "#             count += 1\n",
    "#         else:\n",
    "#             count -= 1\n",
    "#             if count <= 0:\n",
    "#                 elem = nums[i]\n",
    "                \n",
    "#     return elem"
   ]
  },
  {
   "cell_type": "code",
   "execution_count": 34,
   "id": "bfc3293a",
   "metadata": {},
   "outputs": [],
   "source": [
    "# test_bm(nums)"
   ]
  },
  {
   "cell_type": "code",
   "execution_count": 91,
   "id": "6b630a47",
   "metadata": {},
   "outputs": [],
   "source": [
    "# def test(nums):\n",
    "#     ptr0 = ptr1 = 0\n",
    "#     size = len(nums)\n",
    "#     majority_elem = size//2\n",
    "#     count = 0\n",
    "#     ans = -1\n",
    "    \n",
    "#     while ptr1 < size-1:\n",
    "#         if nums[ptr0] == nums[ptr1]:\n",
    "#             print(\"nums[ptr0]: {}, nums[ptr1]: {}\".format(nums[ptr0], nums[ptr1]))\n",
    "#             count += 1\n",
    "#             print(\"count in if: \", count)\n",
    "            \n",
    "            \n",
    "            \n",
    "#         else:\n",
    "#             print()\n",
    "#             print(\"nums[ptr0]: {}, nums[ptr1]: {}\".format(nums[ptr0], nums[ptr1]))\n",
    "#             #print(\"ptr1: \", ptr1)\n",
    "#             if count > 0:\n",
    "#                 count -= 1\n",
    "#             print(\"count in else: \", count)\n",
    "            \n",
    "            \n",
    "#             if count == 0:\n",
    "#                 ptr0 = ptr1\n",
    "                \n",
    "                \n",
    "#         ptr1 += 1"
   ]
  },
  {
   "cell_type": "code",
   "execution_count": 79,
   "id": "0250e09b",
   "metadata": {},
   "outputs": [],
   "source": [
    "# test(nums)"
   ]
  },
  {
   "cell_type": "code",
   "execution_count": 80,
   "id": "e2ea2c40",
   "metadata": {},
   "outputs": [],
   "source": [
    "nums = [2, 1, 2, 2, 2, 1, 1, 3, 2]"
   ]
  },
  {
   "cell_type": "code",
   "execution_count": 99,
   "id": "038b667e",
   "metadata": {},
   "outputs": [
    {
     "name": "stdout",
     "output_type": "stream",
     "text": [
      "3\n",
      "1\n"
     ]
    }
   ],
   "source": [
    "test(nums)"
   ]
  },
  {
   "cell_type": "markdown",
   "id": "fc436b08",
   "metadata": {},
   "source": [
    "### Boyer-Moore Voting algorithm - correct implementation"
   ]
  },
  {
   "cell_type": "code",
   "execution_count": 98,
   "id": "1d0ea453",
   "metadata": {},
   "outputs": [],
   "source": [
    "def test(nums):\n",
    "    ptr = 0\n",
    "    candidate = nums[ptr]\n",
    "    count = 1\n",
    "    ptr += 1\n",
    "    \n",
    "    while ptr < len(nums):\n",
    "        if candidate == nums[ptr]:\n",
    "            count += 1\n",
    "        else:\n",
    "            count -= 1\n",
    "            if count == 0:\n",
    "                candidate = nums[ptr]\n",
    "                count = 1\n",
    "        ptr += 1\n",
    "        \n",
    "    print(candidate)\n",
    "    print(count)\n",
    "    return candidate"
   ]
  },
  {
   "cell_type": "code",
   "execution_count": 103,
   "id": "05f73a66",
   "metadata": {},
   "outputs": [],
   "source": [
    "def boyer_moore_voting_majority_element(nums):\n",
    "    \n",
    "    candidate = nums[0]\n",
    "    count = 1\n",
    "    ptr = 1\n",
    "    \n",
    "    while ptr < len(nums):\n",
    "        \n",
    "        if candidate == nums[ptr]:\n",
    "            count += 1\n",
    "        else:\n",
    "            count -= 1\n",
    "            if count == 0:\n",
    "                candidate = nums[ptr]\n",
    "                count = 1\n",
    "        ptr += 1\n",
    "        \n",
    "    return candidate"
   ]
  },
  {
   "cell_type": "code",
   "execution_count": 104,
   "id": "87708ee3",
   "metadata": {},
   "outputs": [
    {
     "data": {
      "text/plain": [
       "3"
      ]
     },
     "execution_count": 104,
     "metadata": {},
     "output_type": "execute_result"
    }
   ],
   "source": [
    "boyer_moore_voting_majority_element(nums)"
   ]
  },
  {
   "cell_type": "code",
   "execution_count": 107,
   "id": "02689c15",
   "metadata": {},
   "outputs": [],
   "source": [
    "def two_liner(nums):\n",
    "    count = 0\n",
    "    candidate = None\n",
    "    \n",
    "    for i in nums:\n",
    "        if count == 0: candidate = i\n",
    "        count += (1 if candidate == i else -1)\n",
    "    return candidate"
   ]
  },
  {
   "cell_type": "code",
   "execution_count": 108,
   "id": "11d18c56",
   "metadata": {},
   "outputs": [
    {
     "data": {
      "text/plain": [
       "3"
      ]
     },
     "execution_count": 108,
     "metadata": {},
     "output_type": "execute_result"
    }
   ],
   "source": [
    "two_liner(nums)"
   ]
  },
  {
   "cell_type": "code",
   "execution_count": null,
   "id": "ee3d634d",
   "metadata": {},
   "outputs": [],
   "source": []
  }
 ],
 "metadata": {
  "kernelspec": {
   "display_name": "Python 3 (ipykernel)",
   "language": "python",
   "name": "python3"
  },
  "language_info": {
   "codemirror_mode": {
    "name": "ipython",
    "version": 3
   },
   "file_extension": ".py",
   "mimetype": "text/x-python",
   "name": "python",
   "nbconvert_exporter": "python",
   "pygments_lexer": "ipython3",
   "version": "3.8.10"
  }
 },
 "nbformat": 4,
 "nbformat_minor": 5
}
