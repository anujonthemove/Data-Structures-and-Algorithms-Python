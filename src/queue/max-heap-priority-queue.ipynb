{
 "cells": [
  {
   "cell_type": "markdown",
   "metadata": {},
   "source": [
    "#### Max heap prioity queue\n",
    "\n",
    "##### References\n",
    "1. https://www.codesdope.com/blog/article/priority-queue-using-heap/"
   ]
  },
  {
   "cell_type": "code",
   "execution_count": 1,
   "metadata": {},
   "outputs": [],
   "source": [
    "class MaxHeap:\n",
    "    def __init__(self, arr=None):\n",
    "        self.heap = []\n",
    "        self.heap_size = 0\n",
    "        if arr is not None:\n",
    "            self.heap = arr\n",
    "            self.heap_size = len(self.heap)\n",
    "\n",
    "    def insert_max_heap(self, key):\n",
    "        self.heap.append(key)\n",
    "        self.heap_size += 1\n",
    "        n = (self.heap_size // 2) - 1\n",
    "        for node in range(n, -1, -1):\n",
    "            self.max_heapify(node)\n",
    "\n",
    "    def max_heapify(self, parent):\n",
    "        largest = parent\n",
    "\n",
    "        left_child = 2 * parent + 1\n",
    "        right_child = 2 * parent + 2\n",
    "\n",
    "        if left_child < self.heap_size and self.heap[parent] < self.heap[left_child]:\n",
    "            largest = left_child\n",
    "\n",
    "        if right_child < self.heap_size and self.heap[largest] < self.heap[right_child]:\n",
    "            largest = right_child\n",
    "\n",
    "        if largest != parent:\n",
    "            # self.swap(largest, parent)\n",
    "            self.heap[largest], self.heap[parent] = (\n",
    "                self.heap[parent],\n",
    "                self.heap[largest],\n",
    "            )\n",
    "            self.max_heapify(largest)\n",
    "\n",
    "    def swap(self, idx_a, idx_b):\n",
    "        self.heap[idx_a], self.heap[idx_b] = (self.heap[idx_b], self.heap[idx_a])\n",
    "\n",
    "    def build_max_heap(self):\n",
    "        n = (self.heap_size // 2) - 1\n",
    "        # loop only goes up to the half due to complete binary tree property\n",
    "        # leaves are found half way\n",
    "        for node in range(n, -1, -1):\n",
    "            self.max_heapify(node)\n",
    "\n",
    "    def print_root(self):\n",
    "        print(self.heap[0])\n",
    "\n",
    "    def get_max_root_method_1(self):\n",
    "        if self.heap_size > 0:\n",
    "            element = self.heap.pop(0)\n",
    "            self.heap_size -= 1\n",
    "            self.max_heapify(0)\n",
    "            return element\n",
    "        else:\n",
    "            print(\"Heap is empty\")\n",
    "\n",
    "    def get_max_root_method_2(self):\n",
    "        if self.heap_size > 0:\n",
    "            element = self.heap[0]\n",
    "            self.heap[0] = self.heap[self.heap_size - 1]\n",
    "            del self.heap[self.heap_size - 1]\n",
    "            self.heap_size -= 1\n",
    "            self.max_heapify(0)\n",
    "            return element\n",
    "        else:\n",
    "            print(\"Heap is empty\")\n",
    "\n",
    "    def get_min_root(self):\n",
    "        if self.heap_size > 0:\n",
    "            element = self.heap.pop(0)\n",
    "            self.heap_size -= 1\n",
    "            self.min_heapify(0)\n",
    "            return element\n",
    "        else:\n",
    "            print(\"Heap is empty\")\n",
    "\n",
    "    def decrease_key(self, index, key):\n",
    "        if index < self.heap_size:\n",
    "            self.heap[index] = key\n",
    "            self.max_heapify(index)\n",
    "\n",
    "    def increase_key(self, index, key):\n",
    "        self.heap[index] = key\n",
    "        while (index > 0) and self.heap[index] > self.heap[(index - 1) // 2]:\n",
    "            self.swap(index, (index - 1) // 2)\n",
    "            index = (index - 1) // 2"
   ]
  },
  {
   "cell_type": "code",
   "execution_count": 2,
   "metadata": {},
   "outputs": [
    {
     "name": "stdout",
     "output_type": "stream",
     "text": [
      "[9, 4, 5, 1, 3, 2]\n",
      "9\n",
      "9\n",
      "[5, 4, 1, 3, 2]\n"
     ]
    }
   ],
   "source": [
    "arr = [3, 9, 2, 1, 4, 5]\n",
    "max_heap = MaxHeap(arr)\n",
    "max_heap.build_max_heap()\n",
    "print(max_heap.heap)\n",
    "max_heap.print_root()\n",
    "print(max_heap.get_max_root_method_1())\n",
    "print(max_heap.heap)"
   ]
  },
  {
   "cell_type": "code",
   "execution_count": 3,
   "metadata": {},
   "outputs": [
    {
     "name": "stdout",
     "output_type": "stream",
     "text": [
      "[9, 4, 5, 3, 2, 1]\n"
     ]
    }
   ],
   "source": [
    "max_heap.insert_max_heap(9)\n",
    "print(max_heap.heap)"
   ]
  },
  {
   "cell_type": "code",
   "execution_count": 4,
   "metadata": {},
   "outputs": [],
   "source": [
    "max_heap.decrease_key(1, 0)"
   ]
  },
  {
   "cell_type": "code",
   "execution_count": 5,
   "metadata": {},
   "outputs": [
    {
     "data": {
      "text/plain": [
       "[9, 3, 5, 0, 2, 1]"
      ]
     },
     "execution_count": 5,
     "metadata": {},
     "output_type": "execute_result"
    }
   ],
   "source": [
    "max_heap.heap"
   ]
  },
  {
   "cell_type": "code",
   "execution_count": 6,
   "metadata": {},
   "outputs": [],
   "source": [
    "max_heap.increase_key(4, 10)"
   ]
  },
  {
   "cell_type": "code",
   "execution_count": 7,
   "metadata": {},
   "outputs": [
    {
     "data": {
      "text/plain": [
       "[10, 9, 5, 0, 3, 1]"
      ]
     },
     "execution_count": 7,
     "metadata": {},
     "output_type": "execute_result"
    }
   ],
   "source": [
    "max_heap.heap"
   ]
  },
  {
   "cell_type": "code",
   "execution_count": 8,
   "metadata": {},
   "outputs": [
    {
     "name": "stdout",
     "output_type": "stream",
     "text": [
      "10\n",
      "9\n",
      "5\n",
      "3\n",
      "1\n",
      "0\n"
     ]
    }
   ],
   "source": [
    "for i in range(max_heap.heap_size):\n",
    "    print(max_heap.get_max_root_method_1())"
   ]
  },
  {
   "cell_type": "code",
   "execution_count": null,
   "metadata": {},
   "outputs": [],
   "source": []
  }
 ],
 "metadata": {
  "kernelspec": {
   "display_name": "Python 3.8.10 ('.venv': pipenv)",
   "language": "python",
   "name": "python3"
  },
  "language_info": {
   "codemirror_mode": {
    "name": "ipython",
    "version": 3
   },
   "file_extension": ".py",
   "mimetype": "text/x-python",
   "name": "python",
   "nbconvert_exporter": "python",
   "pygments_lexer": "ipython3",
   "version": "3.8.10"
  },
  "orig_nbformat": 4,
  "vscode": {
   "interpreter": {
    "hash": "ea9ccb04e7308efcbefe4ed3ddff7336a57680ae622578d4fe4a2e3945390538"
   }
  }
 },
 "nbformat": 4,
 "nbformat_minor": 2
}
