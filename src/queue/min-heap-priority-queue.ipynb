{
 "cells": [
  {
   "cell_type": "code",
   "execution_count": 9,
   "metadata": {},
   "outputs": [],
   "source": [
    "class MinHeapPriorityQueue:\n",
    "    def __init__(self, arr=None):\n",
    "        self.heap = []\n",
    "        self.heap_size = 0\n",
    "        if arr is not None:\n",
    "            self.heap = arr\n",
    "            self.heap_size = len(self.heap)\n",
    "\n",
    "    def min_heapify(self, parent):\n",
    "        smallest = parent\n",
    "        left_child = 2 * parent + 1\n",
    "        right_child = 2 * parent + 2\n",
    "\n",
    "        if left_child < self.heap_size and self.heap[parent] > self.heap[left_child]:\n",
    "            smallest = left_child\n",
    "        if (\n",
    "            right_child < self.heap_size\n",
    "            and self.heap[smallest] > self.heap[right_child]\n",
    "        ):\n",
    "            smallest = right_child\n",
    "\n",
    "        if smallest != parent:\n",
    "            self.swap(smallest, parent)\n",
    "            # heapify again the one which has been moved\n",
    "            self.min_heapify(smallest)\n",
    "\n",
    "    def insert_min_heap(self, key):\n",
    "        self.heap.append(key)\n",
    "        self.heap_size += 1\n",
    "        n = (self.heap_size // 2) - 1\n",
    "        for node in range(n, -1, -1):\n",
    "            self.min_heapify(node)\n",
    "\n",
    "    def swap(self, idx_a, idx_b):\n",
    "        self.heap[idx_a], self.heap[idx_b] = (self.heap[idx_b], self.heap[idx_a])\n",
    "\n",
    "    def build_min_heap(self):\n",
    "        n = (self.heap_size // 2) - 1\n",
    "        for node in range(n, -1, -1):\n",
    "            self.min_heapify(node)\n",
    "\n",
    "    def print_root(self):\n",
    "        print(self.heap[0])\n",
    "\n",
    "    def get_max_root_method_1(self):\n",
    "        if self.heap_size > 0:\n",
    "            element = self.heap.pop(0)\n",
    "            self.heap_size -= 1\n",
    "            self.max_heapify(0)\n",
    "            return element\n",
    "        else:\n",
    "            print(\"Heap is empty\")\n",
    "\n",
    "    def get_max_root_method_2(self):\n",
    "        if self.heap_size > 0:\n",
    "            element = self.heap[0]\n",
    "            self.heap[0] = self.heap[self.heap_size - 1]\n",
    "            del self.heap[self.heap_size - 1]\n",
    "            self.heap_size -= 1\n",
    "            self.max_heapify(0)\n",
    "            return element\n",
    "        else:\n",
    "            print(\"Heap is empty\")\n",
    "\n",
    "    def get_min_root(self):\n",
    "        if self.heap_size > 0:\n",
    "            element = self.heap.pop(0)\n",
    "            self.heap_size -= 1\n",
    "            self.min_heapify(0)\n",
    "            return element\n",
    "        else:\n",
    "            print(\"Heap is empty\")\n",
    "\n",
    "    # * In min heap pq, increase key means push down\n",
    "    # * push down means heapify\n",
    "    # * heapify means min_heapify\n",
    "    def increase_key(self, index, key):\n",
    "        self.heap[index] = key\n",
    "        self.min_heapify(index)\n",
    "\n",
    "    # In min heap pq, decrease key means push up\n",
    "    # push up means swap current node with parent\n",
    "    # do ... until the node is greater than the parent\n",
    "    # when we are pushing up, we will always move towards zero index\n",
    "    # or root\n",
    "    def decrease_key(self, index, key):\n",
    "        self.heap[index] = key\n",
    "        while (index > 0) and self.heap[(index - 1) // 2] > self.heap[index]:\n",
    "            self.swap(index, (index - 1) // 2)\n",
    "            index = (index - 1) // 2"
   ]
  },
  {
   "cell_type": "code",
   "execution_count": 10,
   "metadata": {},
   "outputs": [
    {
     "name": "stdout",
     "output_type": "stream",
     "text": [
      "[7, 9, 8, 15, 10, 11]\n",
      "7\n",
      "7\n",
      "[8, 9, 15, 10, 11]\n"
     ]
    }
   ],
   "source": [
    "arr = [3, 9, 2, 1, 4, 5]\n",
    "arr = [9, 15, 8, 7, 10, 11]\n",
    "min_heap = MinHeapPriorityQueue(arr)\n",
    "min_heap.build_min_heap()\n",
    "print(min_heap.heap)\n",
    "min_heap.print_root()\n",
    "print(min_heap.get_min_root())\n",
    "print(min_heap.heap)"
   ]
  },
  {
   "cell_type": "code",
   "execution_count": 11,
   "metadata": {},
   "outputs": [
    {
     "name": "stdout",
     "output_type": "stream",
     "text": [
      "[7, 9, 8, 10, 11, 15]\n"
     ]
    }
   ],
   "source": [
    "min_heap.insert_min_heap(7)\n",
    "print(min_heap.heap)"
   ]
  },
  {
   "cell_type": "code",
   "execution_count": 12,
   "metadata": {},
   "outputs": [],
   "source": [
    "min_heap.decrease_key(1, 6)"
   ]
  },
  {
   "cell_type": "code",
   "execution_count": 13,
   "metadata": {},
   "outputs": [
    {
     "data": {
      "text/plain": [
       "[6, 7, 8, 10, 11, 15]"
      ]
     },
     "execution_count": 13,
     "metadata": {},
     "output_type": "execute_result"
    }
   ],
   "source": [
    "min_heap.heap"
   ]
  },
  {
   "cell_type": "code",
   "execution_count": 14,
   "metadata": {},
   "outputs": [],
   "source": [
    "min_heap.increase_key(0, 13)"
   ]
  },
  {
   "cell_type": "code",
   "execution_count": 15,
   "metadata": {},
   "outputs": [
    {
     "data": {
      "text/plain": [
       "[7, 10, 8, 13, 11, 15]"
      ]
     },
     "execution_count": 15,
     "metadata": {},
     "output_type": "execute_result"
    }
   ],
   "source": [
    "min_heap.heap"
   ]
  },
  {
   "cell_type": "code",
   "execution_count": 16,
   "metadata": {},
   "outputs": [
    {
     "name": "stdout",
     "output_type": "stream",
     "text": [
      "7\n",
      "8\n",
      "10\n",
      "11\n",
      "13\n",
      "15\n"
     ]
    }
   ],
   "source": [
    "for i in range(min_heap.heap_size):\n",
    "    print(min_heap.get_min_root())"
   ]
  },
  {
   "cell_type": "code",
   "execution_count": null,
   "metadata": {},
   "outputs": [],
   "source": []
  }
 ],
 "metadata": {
  "kernelspec": {
   "display_name": "Python 3.8.10 ('.venv': pipenv)",
   "language": "python",
   "name": "python3"
  },
  "language_info": {
   "codemirror_mode": {
    "name": "ipython",
    "version": 3
   },
   "file_extension": ".py",
   "mimetype": "text/x-python",
   "name": "python",
   "nbconvert_exporter": "python",
   "pygments_lexer": "ipython3",
   "version": "3.8.10"
  },
  "orig_nbformat": 4,
  "vscode": {
   "interpreter": {
    "hash": "ea9ccb04e7308efcbefe4ed3ddff7336a57680ae622578d4fe4a2e3945390538"
   }
  }
 },
 "nbformat": 4,
 "nbformat_minor": 2
}
