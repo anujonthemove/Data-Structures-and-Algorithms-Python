{
 "cells": [
  {
   "cell_type": "markdown",
   "id": "a18d9087",
   "metadata": {
    "heading_collapsed": true
   },
   "source": [
    "### Incorrect\n",
    "\n",
    "* insertion and deletion should take O(1) time\n",
    "* in below implementation, insertion is taking O(n) time which is incorrect"
   ]
  },
  {
   "cell_type": "code",
   "execution_count": 1,
   "id": "ee8098bf",
   "metadata": {
    "hidden": true
   },
   "outputs": [],
   "source": [
    "class Node:\n",
    "    def __init__(self, data):\n",
    "        self.data = data\n",
    "        self.next = None\n",
    "    \n",
    "    def __repr__(self):\n",
    "        return \"<Node: %s>\" % self.data"
   ]
  },
  {
   "cell_type": "code",
   "execution_count": 2,
   "id": "7cefc7a0",
   "metadata": {
    "hidden": true
   },
   "outputs": [
    {
     "data": {
      "text/plain": [
       "<Node: 10>"
      ]
     },
     "execution_count": 2,
     "metadata": {},
     "output_type": "execute_result"
    }
   ],
   "source": [
    "Node(10)"
   ]
  },
  {
   "cell_type": "code",
   "execution_count": 3,
   "id": "953bcd08",
   "metadata": {
    "hidden": true
   },
   "outputs": [],
   "source": [
    "class Queue:\n",
    "    def __init__(self, max_size):\n",
    "        self.front = -1\n",
    "        self.rear = -1\n",
    "        self.count = 0\n",
    "        self.capacity = max_size\n",
    "        \n",
    "    def __iter__(self):\n",
    "        ptr = self.front\n",
    "        while ptr is not None:\n",
    "            yield ptr.data\n",
    "            ptr = ptr.next\n",
    "    \n",
    "    def __repr__(self):\n",
    "        ptr = self.front\n",
    "        temp_counter = 0\n",
    "        nodes = []\n",
    "        while ptr is not None and ptr != -1:\n",
    "            if temp_counter == 0:\n",
    "                nodes.append(\"[Front: %s]\" % ptr.data)\n",
    "            elif ptr.next == None :\n",
    "                nodes.append(\"[Rear: %s]\" % ptr.data)\n",
    "            else:\n",
    "                nodes.append(\"[%s]\" % ptr.data)\n",
    "            ptr = ptr.next\n",
    "            temp_counter += 1\n",
    "            \n",
    "        return \"<-\".join(nodes)\n",
    "    \n",
    "    def peek(self):\n",
    "        pass\n",
    "    \n",
    "    def is_empty(self):\n",
    "        return self.count == 0\n",
    "    \n",
    "    def is_full(self):\n",
    "        if self.count == self.capacity and \n",
    "    \n",
    "    def enqueue(self, data):\n",
    "        if self.front.next == self.rear.next == None:\n",
    "            print(\"Queue is exhausted, re-init\")\n",
    "            return\n",
    "        \n",
    "        elif \n",
    "        \n",
    "        elif self.count >= self.capacity:\n",
    "            print(\"Queue is full\")\n",
    "            return\n",
    "        \n",
    "        node = Node(data)\n",
    "        \n",
    "        if self.front == self.rear == -1:\n",
    "            print(f\" == Inserting first element: {data} in the queue == \")\n",
    "            self.front = node\n",
    "            self.rear = node\n",
    "        else:\n",
    "            temp_counter = 0\n",
    "            ptr = self.front\n",
    "            while ptr.next is not None:\n",
    "                ptr = ptr.next\n",
    "                temp_counter += 1\n",
    "            ptr.next = node\n",
    "            self.rear = node\n",
    "            print(f\"Inserted: {data} in the queue\")\n",
    "        self.count += 1\n",
    "        \n",
    "        \n",
    "    \n",
    "    def dequeue(self):\n",
    "        pass\n",
    "    "
   ]
  },
  {
   "cell_type": "code",
   "execution_count": 4,
   "id": "291d5e27",
   "metadata": {
    "hidden": true
   },
   "outputs": [],
   "source": [
    "queue = Queue(5)"
   ]
  },
  {
   "cell_type": "code",
   "execution_count": 5,
   "id": "ecf9fb3d",
   "metadata": {
    "hidden": true
   },
   "outputs": [
    {
     "name": "stdout",
     "output_type": "stream",
     "text": [
      " == Inserting first element: 10 in the queue == \n",
      "Inserted: 20 in the queue\n",
      "Inserted: 30 in the queue\n",
      "Inserted: 40 in the queue\n",
      "Inserted: 50 in the queue\n",
      "Queue is full\n",
      "Queue is full\n",
      "Queue is full\n",
      "Queue is full\n"
     ]
    }
   ],
   "source": [
    "for i in range(10, 100, 10):\n",
    "    queue.enqueue(i)"
   ]
  },
  {
   "cell_type": "code",
   "execution_count": 6,
   "id": "3fec7471",
   "metadata": {
    "hidden": true
   },
   "outputs": [
    {
     "name": "stdout",
     "output_type": "stream",
     "text": [
      "10\n",
      "20\n",
      "30\n",
      "40\n",
      "50\n"
     ]
    }
   ],
   "source": [
    "for i in queue:\n",
    "    print(i)"
   ]
  },
  {
   "cell_type": "code",
   "execution_count": 7,
   "id": "e13ef44a",
   "metadata": {
    "hidden": true
   },
   "outputs": [
    {
     "data": {
      "text/plain": [
       "[Front: 10]<-[20]<-[30]<-[40]<-[Rear: 50]"
      ]
     },
     "execution_count": 7,
     "metadata": {},
     "output_type": "execute_result"
    }
   ],
   "source": [
    "queue"
   ]
  },
  {
   "cell_type": "code",
   "execution_count": 8,
   "id": "cf09483a",
   "metadata": {
    "hidden": true
   },
   "outputs": [
    {
     "data": {
      "text/plain": [
       "5"
      ]
     },
     "execution_count": 8,
     "metadata": {},
     "output_type": "execute_result"
    }
   ],
   "source": [
    "queue.count"
   ]
  },
  {
   "cell_type": "code",
   "execution_count": null,
   "id": "b86b2691",
   "metadata": {
    "hidden": true
   },
   "outputs": [],
   "source": []
  }
 ],
 "metadata": {
  "kernelspec": {
   "display_name": "Python 3 (ipykernel)",
   "language": "python",
   "name": "python3"
  },
  "language_info": {
   "codemirror_mode": {
    "name": "ipython",
    "version": 3
   },
   "file_extension": ".py",
   "mimetype": "text/x-python",
   "name": "python",
   "nbconvert_exporter": "python",
   "pygments_lexer": "ipython3",
   "version": "3.8.10"
  }
 },
 "nbformat": 4,
 "nbformat_minor": 5
}
