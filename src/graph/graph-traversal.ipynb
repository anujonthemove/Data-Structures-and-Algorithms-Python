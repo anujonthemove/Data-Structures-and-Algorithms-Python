{
 "cells": [
  {
   "cell_type": "markdown",
   "metadata": {},
   "source": [
    "#### BFS for connected and disconnected graph"
   ]
  },
  {
   "cell_type": "code",
   "execution_count": 1,
   "metadata": {},
   "outputs": [],
   "source": [
    "from collections import defaultdict\n",
    "from utils.graph_traversal import GraphTraversal as gt"
   ]
  },
  {
   "cell_type": "code",
   "execution_count": 2,
   "metadata": {},
   "outputs": [],
   "source": [
    "class Graph:\n",
    "    def __init__(self) -> None:\n",
    "        # dictionary of list\n",
    "        self.graph = defaultdict(list)\n",
    "        self.test = []\n",
    "\n",
    "    def insert_node(self, vertex, data):\n",
    "        self.graph[vertex].append(data)\n",
    "\n",
    "    def print_graph(self):\n",
    "        for k, v in self.graph.items():\n",
    "            print(f\"{k}: {v}\")"
   ]
  },
  {
   "cell_type": "code",
   "execution_count": 3,
   "metadata": {},
   "outputs": [],
   "source": [
    "g = Graph()\n",
    "g.insert_node(0, 1)\n",
    "g.insert_node(0, 2)\n",
    "g.insert_node(1, 2)\n",
    "g.insert_node(2, 0)\n",
    "g.insert_node(2, 3)\n",
    "g.insert_node(3, 3)"
   ]
  },
  {
   "cell_type": "code",
   "execution_count": 4,
   "metadata": {},
   "outputs": [],
   "source": [
    "# g = Graph()\n",
    "# g.insert_node(0, 1)\n",
    "# g.insert_node(0, 6)\n",
    "# g.insert_node(1, 2)\n",
    "# g.insert_node(1, 5)\n",
    "# g.insert_node(2, 3)\n",
    "# g.insert_node(2, 8)\n",
    "# g.insert_node(3, 4)\n",
    "# g.insert_node(4, 4)\n",
    "# g.insert_node(5, 6)\n",
    "# g.insert_node(5, 8)\n",
    "# g.insert_node(6, 0)\n",
    "# g.insert_node(6, 7)\n",
    "# g.insert_node(7, 8)\n",
    "# g.insert_node(8, 2)\n",
    "# g.insert_node(8, 3)\n",
    "# g.insert_node(8, 4)"
   ]
  },
  {
   "cell_type": "code",
   "execution_count": 5,
   "metadata": {},
   "outputs": [
    {
     "name": "stdout",
     "output_type": "stream",
     "text": [
      "0: [1, 2]\n",
      "1: [2]\n",
      "2: [0, 3]\n",
      "3: [3]\n"
     ]
    }
   ],
   "source": [
    "g.print_graph()"
   ]
  },
  {
   "cell_type": "code",
   "execution_count": 6,
   "metadata": {},
   "outputs": [
    {
     "name": "stdout",
     "output_type": "stream",
     "text": [
      "2\n",
      "0\n",
      "3\n",
      "1\n"
     ]
    }
   ],
   "source": [
    "gt.BFS(g.graph, start_idx=2)"
   ]
  },
  {
   "cell_type": "code",
   "execution_count": 7,
   "metadata": {},
   "outputs": [
    {
     "name": "stdout",
     "output_type": "stream",
     "text": [
      "0\n",
      "1\n",
      "2\n",
      "3\n"
     ]
    }
   ],
   "source": [
    "gt.BFS_disconnected_graph(g.graph)"
   ]
  },
  {
   "cell_type": "code",
   "execution_count": 8,
   "metadata": {},
   "outputs": [
    {
     "name": "stdout",
     "output_type": "stream",
     "text": [
      "2\n",
      "0\n",
      "1\n",
      "3\n"
     ]
    }
   ],
   "source": [
    "gt.DFS(g.graph, vertex=2)"
   ]
  },
  {
   "cell_type": "code",
   "execution_count": 9,
   "metadata": {},
   "outputs": [
    {
     "name": "stdout",
     "output_type": "stream",
     "text": [
      "0\n",
      "1\n",
      "2\n",
      "3\n"
     ]
    }
   ],
   "source": [
    "gt.DFS_disconnected_graph(g.graph)"
   ]
  }
 ],
 "metadata": {
  "kernelspec": {
   "display_name": "Python 3.8.10 ('.venv': pipenv)",
   "language": "python",
   "name": "python3"
  },
  "language_info": {
   "codemirror_mode": {
    "name": "ipython",
    "version": 3
   },
   "file_extension": ".py",
   "mimetype": "text/x-python",
   "name": "python",
   "nbconvert_exporter": "python",
   "pygments_lexer": "ipython3",
   "version": "3.8.10"
  },
  "orig_nbformat": 4,
  "vscode": {
   "interpreter": {
    "hash": "ea9ccb04e7308efcbefe4ed3ddff7336a57680ae622578d4fe4a2e3945390538"
   }
  }
 },
 "nbformat": 4,
 "nbformat_minor": 2
}
