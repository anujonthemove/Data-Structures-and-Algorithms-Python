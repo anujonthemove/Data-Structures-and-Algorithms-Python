{
 "cells": [
  {
   "cell_type": "markdown",
   "metadata": {},
   "source": [
    "### Detect Cycle in Undirected Graph using BFS - Incomplete\n",
    "\n",
    "#### References\n",
    "1. https://www.geeksforgeeks.org/detect-cycle-in-an-undirected-graph-using-bfs/"
   ]
  },
  {
   "cell_type": "code",
   "execution_count": 29,
   "metadata": {},
   "outputs": [],
   "source": [
    "from utils.graph import GraphAdjList as Graph\n",
    "from utils.graph_properties import GraphPropertiesAdjList as gp"
   ]
  },
  {
   "cell_type": "code",
   "execution_count": 30,
   "metadata": {},
   "outputs": [],
   "source": [
    "# graph without a cycle\n",
    "g = Graph()\n",
    "g.insert_node(0, 1)\n",
    "g.insert_node(1, 0)\n",
    "g.insert_node(1, 2)\n",
    "g.insert_node(2, 1)\n",
    "g.insert_node(2, 3)\n",
    "g.insert_node(3, 2)"
   ]
  },
  {
   "cell_type": "code",
   "execution_count": 31,
   "metadata": {},
   "outputs": [],
   "source": [
    "# graph with cycle\n",
    "g = Graph()\n",
    "g.insert_node(0, 1)\n",
    "g.insert_node(1, 0)\n",
    "g.insert_node(1, 2)\n",
    "g.insert_node(2, 1)\n",
    "g.insert_node(2, 3)\n",
    "g.insert_node(3, 2)\n",
    "g.insert_node(4, 5)\n",
    "g.insert_node(5, 4)\n",
    "g.insert_node(5, 6)\n",
    "g.insert_node(5, 7)\n",
    "g.insert_node(6, 5)\n",
    "g.insert_node(6, 8)\n",
    "g.insert_node(7, 5)\n",
    "g.insert_node(7, 8)\n",
    "g.insert_node(8, 6)\n",
    "g.insert_node(8, 7)\n",
    "g.insert_node(8, 9)\n",
    "g.insert_node(9, 8)"
   ]
  },
  {
   "cell_type": "code",
   "execution_count": 32,
   "metadata": {},
   "outputs": [
    {
     "name": "stdout",
     "output_type": "stream",
     "text": [
      "0: [1]\n",
      "1: [0, 2]\n",
      "2: [1, 3]\n",
      "3: [2]\n",
      "4: [5]\n",
      "5: [4, 6, 7]\n",
      "6: [5, 8]\n",
      "7: [5, 8]\n",
      "8: [6, 7, 9]\n",
      "9: [8]\n"
     ]
    }
   ],
   "source": [
    "gp.print_graph(g.graph)"
   ]
  },
  {
   "cell_type": "code",
   "execution_count": 33,
   "metadata": {},
   "outputs": [],
   "source": [
    "class check_cycle:\n",
    "    def __init__(self, graph):\n",
    "        self.graph = graph\n",
    "        self.num_vertices = gp.num_vertices(self.graph)\n",
    "        self.parent = [-1] * self.num_vertices\n",
    "        self.visited = [False] * self.num_vertices\n",
    "\n",
    "    def bfs_check_cycle(self, vertex):\n",
    "\n",
    "        queue = []\n",
    "        queue.append(vertex)\n",
    "        self.visited[vertex] = True\n",
    "\n",
    "        while queue:\n",
    "\n",
    "            node = queue.pop(0)\n",
    "\n",
    "            for neighbour in self.graph[node]:\n",
    "                # neighbour = 1 -> already visited and 1 is parent of 2\n",
    "                # if 1 is not visited and 1 is the parent of 2\n",
    "                if self.visited[neighbour] == False:\n",
    "                    queue.append(neighbour)\n",
    "                    self.visited[neighbour] = True\n",
    "                    self.parent[neighbour] = node\n",
    "                elif self.parent[node] != neighbour:\n",
    "                    return True\n",
    "\n",
    "    def is_cyclic(self):\n",
    "\n",
    "        # need to go to each node as we do not know\n",
    "        # in advance if graph is composed of multiple components\n",
    "\n",
    "        for vertex in range(self.num_vertices):\n",
    "            if self.visited[vertex] == False and self.bfs_check_cycle(vertex):\n",
    "                return True\n",
    "        return False"
   ]
  },
  {
   "cell_type": "code",
   "execution_count": 34,
   "metadata": {},
   "outputs": [
    {
     "data": {
      "text/plain": [
       "True"
      ]
     },
     "execution_count": 34,
     "metadata": {},
     "output_type": "execute_result"
    }
   ],
   "source": [
    "obj = check_cycle(g.graph)\n",
    "obj.is_cyclic()"
   ]
  },
  {
   "cell_type": "code",
   "execution_count": null,
   "metadata": {},
   "outputs": [],
   "source": []
  },
  {
   "cell_type": "code",
   "execution_count": null,
   "metadata": {},
   "outputs": [],
   "source": []
  }
 ],
 "metadata": {
  "kernelspec": {
   "display_name": "Python 3.8.10 ('.venv': pipenv)",
   "language": "python",
   "name": "python3"
  },
  "language_info": {
   "codemirror_mode": {
    "name": "ipython",
    "version": 3
   },
   "file_extension": ".py",
   "mimetype": "text/x-python",
   "name": "python",
   "nbconvert_exporter": "python",
   "pygments_lexer": "ipython3",
   "version": "3.8.10"
  },
  "orig_nbformat": 4,
  "vscode": {
   "interpreter": {
    "hash": "ea9ccb04e7308efcbefe4ed3ddff7336a57680ae622578d4fe4a2e3945390538"
   }
  }
 },
 "nbformat": 4,
 "nbformat_minor": 2
}
