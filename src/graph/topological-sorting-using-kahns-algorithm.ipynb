{
 "cells": [
  {
   "cell_type": "code",
   "execution_count": 3,
   "metadata": {},
   "outputs": [],
   "source": [
    "from utils.graph import GraphAdjList as Graph\n",
    "from utils.graph_properties import GraphPropertiesAdjList as gp"
   ]
  },
  {
   "cell_type": "code",
   "execution_count": 2,
   "metadata": {},
   "outputs": [],
   "source": [
    "g = Graph()"
   ]
  },
  {
   "cell_type": "code",
   "execution_count": 4,
   "metadata": {},
   "outputs": [],
   "source": [
    "g.insert_node_directed(5, 2)\n",
    "g.insert_node_directed(5, 0)\n",
    "g.insert_node_directed(4, 0)\n",
    "g.insert_node_directed(4, 1)\n",
    "g.insert_node_directed(2, 3)\n",
    "g.insert_node_directed(3, 1)"
   ]
  },
  {
   "cell_type": "code",
   "execution_count": 5,
   "metadata": {},
   "outputs": [
    {
     "data": {
      "text/plain": [
       "defaultdict(list, {5: [2, 0], 4: [0, 1], 2: [3], 3: [1]})"
      ]
     },
     "execution_count": 5,
     "metadata": {},
     "output_type": "execute_result"
    }
   ],
   "source": [
    "g.graph"
   ]
  },
  {
   "cell_type": "code",
   "execution_count": 10,
   "metadata": {},
   "outputs": [],
   "source": [
    "num_vertices = gp.num_vertices(g.graph)"
   ]
  },
  {
   "cell_type": "code",
   "execution_count": 7,
   "metadata": {},
   "outputs": [],
   "source": [
    "# class topologicalSorting:\n",
    "\n",
    "#     def __init__(self, graph, num_vertices):\n",
    "#         self."
   ]
  },
  {
   "cell_type": "code",
   "execution_count": 14,
   "metadata": {},
   "outputs": [],
   "source": [
    "def topological_sorting(graph, num_vertices):\n",
    "\n",
    "    in_degree = [0] * num_vertices\n",
    "\n",
    "    for node in graph:\n",
    "        for neighbour in graph[node]:\n",
    "            in_degree[neighbour] += 1\n",
    "\n",
    "    queue = []\n",
    "    for node in range(num_vertices):\n",
    "        if in_degree[node] == 0:\n",
    "            queue.append(node)\n",
    "\n",
    "    count_visited = 0\n",
    "\n",
    "    topological_order = []\n",
    "\n",
    "    while queue:\n",
    "        node = queue.pop(0)\n",
    "        topological_order.append(node)\n",
    "\n",
    "        for neighbour in graph[node]:\n",
    "            in_degree[neighbour] -= 1\n",
    "\n",
    "            if in_degree[neighbour] == 0:\n",
    "                queue.append(neighbour)\n",
    "\n",
    "        count_visited += 1\n",
    "\n",
    "    if count_visited != num_vertices:\n",
    "        print(\"Cycle present in graph, it is not a DAG\")\n",
    "    else:\n",
    "        print(\"topological_order: \", topological_order)"
   ]
  },
  {
   "cell_type": "code",
   "execution_count": 15,
   "metadata": {},
   "outputs": [
    {
     "name": "stdout",
     "output_type": "stream",
     "text": [
      "topological_order:  [4, 5, 2, 0, 3, 1]\n"
     ]
    }
   ],
   "source": [
    "topological_sorting(g.graph, num_vertices=num_vertices)"
   ]
  },
  {
   "cell_type": "code",
   "execution_count": null,
   "metadata": {},
   "outputs": [],
   "source": []
  }
 ],
 "metadata": {
  "kernelspec": {
   "display_name": "Python 3.8.10 ('.venv': pipenv)",
   "language": "python",
   "name": "python3"
  },
  "language_info": {
   "codemirror_mode": {
    "name": "ipython",
    "version": 3
   },
   "file_extension": ".py",
   "mimetype": "text/x-python",
   "name": "python",
   "nbconvert_exporter": "python",
   "pygments_lexer": "ipython3",
   "version": "3.8.10"
  },
  "orig_nbformat": 4,
  "vscode": {
   "interpreter": {
    "hash": "ea9ccb04e7308efcbefe4ed3ddff7336a57680ae622578d4fe4a2e3945390538"
   }
  }
 },
 "nbformat": 4,
 "nbformat_minor": 2
}
