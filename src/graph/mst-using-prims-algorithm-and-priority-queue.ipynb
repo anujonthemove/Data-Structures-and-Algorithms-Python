{
 "cells": [
  {
   "cell_type": "markdown",
   "metadata": {},
   "source": [
    "### Prim's Algorithm - Minimum Spanning Tree using Priority Queue\n",
    "\n",
    "* A slightly different version of Priority Queue"
   ]
  },
  {
   "cell_type": "code",
   "execution_count": 1,
   "metadata": {},
   "outputs": [],
   "source": [
    "class MinHeapPriorityQueue:\n",
    "    def __init__(self, arr=None):\n",
    "        self.heap = []\n",
    "        self.heap_size = 0\n",
    "        self.pos = []\n",
    "        if arr is not None:\n",
    "            self.heap = arr\n",
    "            self.heap_size = len(self.heap)\n",
    "            self.pos = list(range(len(arr)))\n",
    "\n",
    "    def min_heapify(self, parent):\n",
    "        smallest = parent\n",
    "        left_child = 2 * parent + 1\n",
    "        right_child = 2 * parent + 2\n",
    "\n",
    "        if (\n",
    "            left_child < self.heap_size\n",
    "            and self.heap[parent][1] > self.heap[left_child][1]\n",
    "        ):\n",
    "            smallest = left_child\n",
    "        if (\n",
    "            right_child < self.heap_size\n",
    "            and self.heap[smallest][1] > self.heap[right_child][1]\n",
    "        ):\n",
    "            smallest = right_child\n",
    "\n",
    "        if smallest != parent:\n",
    "            self.pos[smallest], self.pos[parent] = self.pos[parent], self.pos[smallest]\n",
    "\n",
    "            self.swap(smallest, parent)\n",
    "            # heapify again the one which has been moved\n",
    "            self.min_heapify(smallest)\n",
    "\n",
    "    def insert_min_heap(self, key, weight):\n",
    "        self.heap.append([key, weight])\n",
    "        self.pos.append(self.heap_size)\n",
    "        self.heap_size += 1\n",
    "\n",
    "        n = (self.heap_size // 2) - 1\n",
    "        for node in range(n, -1, -1):\n",
    "            self.min_heapify(node)\n",
    "\n",
    "    def swap(self, idx_a, idx_b):\n",
    "        self.heap[idx_a], self.heap[idx_b] = (self.heap[idx_b], self.heap[idx_a])\n",
    "\n",
    "    def build_min_heap(self):\n",
    "        n = (self.heap_size // 2) - 1\n",
    "        for node in range(n, -1, -1):\n",
    "            self.min_heapify(node)\n",
    "\n",
    "    def get_min_root(self):\n",
    "        if self.heap_size > 0:\n",
    "\n",
    "            element = self.heap.pop(0)\n",
    "            idx = element[0]\n",
    "            self.pos.remove(idx)\n",
    "            self.heap_size -= 1\n",
    "            self.min_heapify(0)\n",
    "            return element\n",
    "        else:\n",
    "            print(\"Heap is empty\")\n",
    "\n",
    "    # # * In min heap pq, increase key means push down\n",
    "    # # * push down means heapify\n",
    "    # # * heapify means min_heapify\n",
    "    # def increase_key(self, index, key):\n",
    "    #     self.heap[index] = key\n",
    "    #     self.min_heapify(index)\n",
    "\n",
    "    # In min heap pq, decrease key means push up\n",
    "    # push up means swap current node with parent\n",
    "    # do ... until the node is greater than the parent\n",
    "    # when we are pushing up, we will always move towards zero index\n",
    "    # or root\n",
    "    def decrease_key(self, index, key):\n",
    "        # get position of index in pos array\n",
    "        poi = self.pos.index(index)\n",
    "\n",
    "        self.heap[poi][1] = key\n",
    "\n",
    "        while (poi > 0) and self.heap[(poi - 1) // 2][1] > self.heap[poi][1]:\n",
    "            self.pos[poi], self.pos[(poi - 1) // 2] = (\n",
    "                self.pos[(poi - 1) // 2],\n",
    "                self.pos[poi],\n",
    "            )\n",
    "            self.swap(poi, (poi - 1) // 2)\n",
    "            poi = (poi - 1) // 2\n",
    "\n",
    "    def is_empty(self):\n",
    "        return True if self.heap_size == 0 else False\n",
    "\n",
    "    def is_in_heap(self, v):\n",
    "        if v in self.pos:\n",
    "            if self.pos.index(v) < self.heap_size:\n",
    "                return True\n",
    "        return False"
   ]
  },
  {
   "cell_type": "markdown",
   "metadata": {},
   "source": [
    "Checking if Min Heap PQ is working as expected"
   ]
  },
  {
   "cell_type": "code",
   "execution_count": 2,
   "metadata": {},
   "outputs": [],
   "source": [
    "heap = MinHeapPriorityQueue()"
   ]
  },
  {
   "cell_type": "code",
   "execution_count": 3,
   "metadata": {},
   "outputs": [],
   "source": [
    "heap.insert_min_heap(0, 10)  # 0\n",
    "heap.insert_min_heap(1, 7)  # 1\n",
    "heap.insert_min_heap(2, 4)  # 2\n",
    "heap.insert_min_heap(3, 5)  # 3\n",
    "heap.insert_min_heap(4, 3)  # 4"
   ]
  },
  {
   "cell_type": "code",
   "execution_count": 4,
   "metadata": {},
   "outputs": [
    {
     "data": {
      "text/plain": [
       "[[4, 3], [2, 4], [1, 7], [0, 10], [3, 5]]"
      ]
     },
     "execution_count": 4,
     "metadata": {},
     "output_type": "execute_result"
    }
   ],
   "source": [
    "heap.heap"
   ]
  },
  {
   "cell_type": "code",
   "execution_count": 5,
   "metadata": {},
   "outputs": [
    {
     "data": {
      "text/plain": [
       "False"
      ]
     },
     "execution_count": 5,
     "metadata": {},
     "output_type": "execute_result"
    }
   ],
   "source": [
    "heap.is_empty()"
   ]
  },
  {
   "cell_type": "code",
   "execution_count": 6,
   "metadata": {},
   "outputs": [
    {
     "data": {
      "text/plain": [
       "True"
      ]
     },
     "execution_count": 6,
     "metadata": {},
     "output_type": "execute_result"
    }
   ],
   "source": [
    "heap.is_in_heap(4)"
   ]
  },
  {
   "cell_type": "code",
   "execution_count": 7,
   "metadata": {},
   "outputs": [
    {
     "data": {
      "text/plain": [
       "[4, 3]"
      ]
     },
     "execution_count": 7,
     "metadata": {},
     "output_type": "execute_result"
    }
   ],
   "source": [
    "heap.get_min_root()"
   ]
  },
  {
   "cell_type": "code",
   "execution_count": 8,
   "metadata": {},
   "outputs": [
    {
     "data": {
      "text/plain": [
       "[[2, 4], [1, 7], [0, 10], [3, 5]]"
      ]
     },
     "execution_count": 8,
     "metadata": {},
     "output_type": "execute_result"
    }
   ],
   "source": [
    "heap.heap"
   ]
  },
  {
   "cell_type": "code",
   "execution_count": 9,
   "metadata": {},
   "outputs": [
    {
     "data": {
      "text/plain": [
       "[2, 1, 0, 3]"
      ]
     },
     "execution_count": 9,
     "metadata": {},
     "output_type": "execute_result"
    }
   ],
   "source": [
    "heap.pos"
   ]
  },
  {
   "cell_type": "code",
   "execution_count": 10,
   "metadata": {},
   "outputs": [
    {
     "data": {
      "text/plain": [
       "False"
      ]
     },
     "execution_count": 10,
     "metadata": {},
     "output_type": "execute_result"
    }
   ],
   "source": [
    "heap.is_in_heap(4)"
   ]
  },
  {
   "cell_type": "code",
   "execution_count": 11,
   "metadata": {},
   "outputs": [
    {
     "data": {
      "text/plain": [
       "4"
      ]
     },
     "execution_count": 11,
     "metadata": {},
     "output_type": "execute_result"
    }
   ],
   "source": [
    "heap.heap_size"
   ]
  },
  {
   "cell_type": "markdown",
   "metadata": {},
   "source": [
    "Adjacency List representation of graph"
   ]
  },
  {
   "cell_type": "code",
   "execution_count": 12,
   "metadata": {},
   "outputs": [],
   "source": [
    "from collections import defaultdict\n",
    "\n",
    "\n",
    "class Graph:\n",
    "    def __init__(self, V):\n",
    "        self.V = V\n",
    "        self.graph = defaultdict(list)\n",
    "\n",
    "    # Adds an edge to an undirected graph\n",
    "    def addEdge(self, src, dest, weight):\n",
    "\n",
    "        # Add an edge from src to dest.  A new node is\n",
    "        # added to the adjacency list of src. The node\n",
    "        # is added at the beginning. The first element of\n",
    "        # the node has the destination and the second\n",
    "        # elements has the weight\n",
    "        newNode = [dest, weight]\n",
    "        self.graph[src].insert(0, newNode)\n",
    "\n",
    "        # Since graph is undirected, add an edge from\n",
    "        # dest to src also\n",
    "        newNode = [src, weight]\n",
    "        self.graph[dest].insert(0, newNode)\n",
    "\n",
    "    # The main function that prints the Minimum\n",
    "    # Spanning Tree(MST) using the Prim's Algorithm.\n",
    "    # It is a O(ELogV) function"
   ]
  },
  {
   "cell_type": "code",
   "execution_count": 13,
   "metadata": {},
   "outputs": [],
   "source": [
    "graph = Graph(9)\n",
    "graph.addEdge(0, 1, 4)\n",
    "graph.addEdge(0, 7, 8)\n",
    "graph.addEdge(1, 2, 8)\n",
    "graph.addEdge(1, 7, 11)\n",
    "graph.addEdge(2, 3, 7)\n",
    "graph.addEdge(2, 8, 2)\n",
    "graph.addEdge(2, 5, 4)\n",
    "graph.addEdge(3, 4, 9)\n",
    "graph.addEdge(3, 5, 14)\n",
    "graph.addEdge(4, 5, 10)\n",
    "graph.addEdge(5, 6, 2)\n",
    "graph.addEdge(6, 7, 1)\n",
    "graph.addEdge(6, 8, 6)\n",
    "graph.addEdge(7, 8, 7)"
   ]
  },
  {
   "cell_type": "code",
   "execution_count": 14,
   "metadata": {},
   "outputs": [
    {
     "data": {
      "text/plain": [
       "defaultdict(list,\n",
       "            {0: [[7, 8], [1, 4]],\n",
       "             1: [[7, 11], [2, 8], [0, 4]],\n",
       "             7: [[8, 7], [6, 1], [1, 11], [0, 8]],\n",
       "             2: [[5, 4], [8, 2], [3, 7], [1, 8]],\n",
       "             3: [[5, 14], [4, 9], [2, 7]],\n",
       "             8: [[7, 7], [6, 6], [2, 2]],\n",
       "             5: [[6, 2], [4, 10], [3, 14], [2, 4]],\n",
       "             4: [[5, 10], [3, 9]],\n",
       "             6: [[8, 6], [7, 1], [5, 2]]})"
      ]
     },
     "execution_count": 14,
     "metadata": {},
     "output_type": "execute_result"
    }
   ],
   "source": [
    "graph.graph"
   ]
  },
  {
   "cell_type": "code",
   "execution_count": 15,
   "metadata": {},
   "outputs": [],
   "source": [
    "def printArr(parent, n):\n",
    "    for i in range(1, n):\n",
    "        print(\"% d - % d\" % (parent[i], i))"
   ]
  },
  {
   "cell_type": "code",
   "execution_count": 16,
   "metadata": {},
   "outputs": [],
   "source": [
    "def prims(graph, num_vertices):\n",
    "\n",
    "    key = []\n",
    "    parent = []\n",
    "\n",
    "    heap = MinHeapPriorityQueue()\n",
    "\n",
    "    for v in range(num_vertices):\n",
    "        parent.append(-1)\n",
    "        key.append(10000)\n",
    "        heap.heap.append([v, key[v]])\n",
    "        heap.pos.append(v)\n",
    "\n",
    "    heap.pos[0] = 0\n",
    "    key[0] = 0\n",
    "\n",
    "    heap.decrease_key(0, key[0])\n",
    "\n",
    "    heap.heap_size = num_vertices\n",
    "\n",
    "    print(heap.pos)\n",
    "\n",
    "    while heap.is_empty() == False:\n",
    "        node = heap.get_min_root()\n",
    "        u = node[0]\n",
    "\n",
    "        for pcrawl in graph[u]:\n",
    "            v = pcrawl[0]\n",
    "            if heap.is_in_heap(v) and pcrawl[1] < key[v]:\n",
    "                key[v] = pcrawl[1]\n",
    "                parent[v] = u\n",
    "\n",
    "                heap.decrease_key(v, key[v])\n",
    "\n",
    "    printArr(parent, num_vertices)"
   ]
  },
  {
   "cell_type": "code",
   "execution_count": 17,
   "metadata": {},
   "outputs": [
    {
     "name": "stdout",
     "output_type": "stream",
     "text": [
      "[0, 1, 2, 3, 4, 5, 6, 7, 8]\n",
      " 0 -  1\n",
      " 5 -  2\n",
      " 2 -  3\n",
      " 3 -  4\n",
      " 6 -  5\n",
      " 7 -  6\n",
      " 0 -  7\n",
      " 2 -  8\n"
     ]
    }
   ],
   "source": [
    "prims(graph.graph, num_vertices=9)"
   ]
  },
  {
   "cell_type": "code",
   "execution_count": null,
   "metadata": {},
   "outputs": [],
   "source": []
  }
 ],
 "metadata": {
  "kernelspec": {
   "display_name": "Python 3.8.10 ('.venv': pipenv)",
   "language": "python",
   "name": "python3"
  },
  "language_info": {
   "codemirror_mode": {
    "name": "ipython",
    "version": 3
   },
   "file_extension": ".py",
   "mimetype": "text/x-python",
   "name": "python",
   "nbconvert_exporter": "python",
   "pygments_lexer": "ipython3",
   "version": "3.8.10"
  },
  "orig_nbformat": 4,
  "vscode": {
   "interpreter": {
    "hash": "ea9ccb04e7308efcbefe4ed3ddff7336a57680ae622578d4fe4a2e3945390538"
   }
  }
 },
 "nbformat": 4,
 "nbformat_minor": 2
}
