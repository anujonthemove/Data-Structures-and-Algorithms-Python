{
 "cells": [
  {
   "cell_type": "code",
   "execution_count": null,
   "metadata": {},
   "outputs": [],
   "source": [
    "from utils.graph import WeightedGraphAdjList as g"
   ]
  },
  {
   "cell_type": "code",
   "execution_count": null,
   "metadata": {},
   "outputs": [],
   "source": [
    "gr = g()"
   ]
  },
  {
   "cell_type": "code",
   "execution_count": null,
   "metadata": {},
   "outputs": [],
   "source": [
    "gr.insert_weighted_node(0, 1, 4)\n",
    "gr.insert_weighted_node(0, 7, 8)\n",
    "gr.insert_weighted_node(1, 2, 8)\n",
    "gr.insert_weighted_node(1, 7, 11)\n",
    "gr.insert_weighted_node(2, 3, 7)\n",
    "gr.insert_weighted_node(2, 8, 2)\n",
    "gr.insert_weighted_node(2, 5, 4)\n",
    "gr.insert_weighted_node(3, 4, 9)\n",
    "gr.insert_weighted_node(3, 5, 14)\n",
    "gr.insert_weighted_node(4, 5, 10)\n",
    "gr.insert_weighted_node(5, 6, 2)\n",
    "gr.insert_weighted_node(6, 7, 1)\n",
    "gr.insert_weighted_node(6, 8, 6)\n",
    "gr.insert_weighted_node(7, 8, 7)"
   ]
  },
  {
   "cell_type": "code",
   "execution_count": null,
   "metadata": {},
   "outputs": [],
   "source": [
    "gr.graph"
   ]
  },
  {
   "cell_type": "code",
   "execution_count": null,
   "metadata": {},
   "outputs": [],
   "source": [
    "class MinHeapPQ:\n",
    "    def __init__(self):\n",
    "        self.heap = []\n",
    "        self.size = 0\n",
    "        self.position = []\n",
    "\n",
    "    def insert(self, key, weight):\n",
    "        self.heap.append([key, weight])\n",
    "        self.position.append(key)\n",
    "        n = (self.size // 2) - 1\n",
    "        for node in range(n, -1, -1):\n",
    "            self.min_heapify(node)\n",
    "\n",
    "    def swap(self, idx_a, idx_b):\n",
    "        self.heap[idx_a], self.heap[idx_b] = (self.heap[idx_b], self.heap[idx_a])\n",
    "\n",
    "    def min_heapify(self, parent):\n",
    "        smallest = parent\n",
    "        left_child = 2 * parent + 1\n",
    "        right_child = 2 * parent + 2\n",
    "\n",
    "        if left_child < self.heap_size and self.heap[parent] > self.heap[left_child]:\n",
    "            smallest = left_child\n",
    "        if (\n",
    "            right_child < self.heap_size\n",
    "            and self.heap[smallest] > self.heap[right_child]\n",
    "        ):\n",
    "            smallest = right_child\n",
    "\n",
    "        if smallest != parent:\n",
    "            self.swap(smallest, parent)\n",
    "            # heapify again the one which has been moved\n",
    "            self.min_heapify(smallest)"
   ]
  },
  {
   "cell_type": "code",
   "execution_count": null,
   "metadata": {},
   "outputs": [],
   "source": []
  },
  {
   "cell_type": "code",
   "execution_count": null,
   "metadata": {},
   "outputs": [],
   "source": [
    "# A Python program for Prims's MST for\n",
    "# adjacency list representation of graph\n",
    "\n",
    "from collections import defaultdict\n",
    "import sys\n",
    "\n",
    "\n",
    "class Heap:\n",
    "    def __init__(self):\n",
    "        self.array = []\n",
    "        self.size = 0\n",
    "        self.pos = []\n",
    "\n",
    "    def newMinHeapNode(self, v, dist):\n",
    "        minHeapNode = [v, dist]\n",
    "        return minHeapNode\n",
    "\n",
    "    # A utility function to swap two nodes of\n",
    "    # min heap. Needed for min heapify\n",
    "    def swapMinHeapNode(self, a, b):\n",
    "        t = self.array[a]\n",
    "        self.array[a] = self.array[b]\n",
    "        self.array[b] = t\n",
    "\n",
    "    # A standard function to heapify at given idx\n",
    "    # This function also updates position of nodes\n",
    "    # when they are swapped. Position is needed\n",
    "    # for decreaseKey()\n",
    "    def minHeapify(self, idx):\n",
    "        smallest = idx\n",
    "        left = 2 * idx + 1\n",
    "        right = 2 * idx + 2\n",
    "\n",
    "        if left < self.size and self.array[left][1] < self.array[smallest][1]:\n",
    "            smallest = left\n",
    "\n",
    "        if right < self.size and self.array[right][1] < self.array[smallest][1]:\n",
    "            smallest = right\n",
    "\n",
    "        # The nodes to be swapped in min heap\n",
    "        # if idx is not smallest\n",
    "        if smallest != idx:\n",
    "\n",
    "            # Swap positions\n",
    "            self.pos[self.array[smallest][0]] = idx\n",
    "            self.pos[self.array[idx][0]] = smallest\n",
    "\n",
    "            # Swap nodes\n",
    "            self.swapMinHeapNode(smallest, idx)\n",
    "\n",
    "            self.minHeapify(smallest)\n",
    "\n",
    "    # Standard function to extract minimum node from heap\n",
    "    def extractMin(self):\n",
    "\n",
    "        # Return NULL wif heap is empty\n",
    "        if self.isEmpty() == True:\n",
    "            return\n",
    "\n",
    "        # Store the root node\n",
    "        root = self.array[0]\n",
    "\n",
    "        # Replace root node with last node\n",
    "        lastNode = self.array[self.size - 1]\n",
    "        self.array[0] = lastNode\n",
    "\n",
    "        # Update position of last node\n",
    "        self.pos[lastNode[0]] = 0\n",
    "        self.pos[root[0]] = self.size - 1\n",
    "\n",
    "        # Reduce heap size and heapify root\n",
    "        self.size -= 1\n",
    "        self.minHeapify(0)\n",
    "\n",
    "        return root\n",
    "\n",
    "    def isEmpty(self):\n",
    "        return True if self.size == 0 else False\n",
    "\n",
    "    def decreaseKey(self, v, dist):\n",
    "\n",
    "        # Get the index of v in heap array\n",
    "\n",
    "        i = self.pos[v]\n",
    "\n",
    "        # Get the node and update its dist value\n",
    "        self.array[i][1] = dist\n",
    "\n",
    "        # Travel up while the complete tree is not\n",
    "        # heapified. This is a O(Logn) loop\n",
    "        while i > 0 and self.array[i][1] < self.array[(i - 1) // 2][1]:\n",
    "\n",
    "            print(\"array: \", self.array)\n",
    "            print(\"pos: \", self.pos)\n",
    "            # Swap this node with its parent\n",
    "            self.pos[self.array[i][0]] = (i - 1) / 2\n",
    "            self.pos[self.array[(i - 1) // 2][0]] = i\n",
    "            self.swapMinHeapNode(i, (i - 1) // 2)\n",
    "\n",
    "            # move to parent index\n",
    "            i = (i - 1) // 2\n",
    "\n",
    "    # A utility function to check if a given vertex\n",
    "    # 'v' is in min heap or not\n",
    "    def isInMinHeap(self, v):\n",
    "\n",
    "        if self.pos[v] < self.size:\n",
    "            return True\n",
    "        return False\n",
    "\n",
    "\n",
    "def printArr(parent, n):\n",
    "    for i in range(1, n):\n",
    "        print(\"% d - % d\" % (parent[i], i))\n",
    "\n",
    "\n",
    "class Graph:\n",
    "    def __init__(self, V):\n",
    "        self.V = V\n",
    "        self.graph = defaultdict(list)\n",
    "\n",
    "    # Adds an edge to an undirected graph\n",
    "    def addEdge(self, src, dest, weight):\n",
    "\n",
    "        # Add an edge from src to dest. A new node is\n",
    "        # added to the adjacency list of src. The node\n",
    "        # is added at the beginning. The first element of\n",
    "        # the node has the destination and the second\n",
    "        # elements has the weight\n",
    "        newNode = [dest, weight]\n",
    "        self.graph[src].insert(0, newNode)\n",
    "\n",
    "        # Since graph is undirected, add an edge from\n",
    "        # dest to src also\n",
    "        newNode = [src, weight]\n",
    "        self.graph[dest].insert(0, newNode)\n",
    "\n",
    "    # The main function that prints the Minimum\n",
    "    # Spanning Tree(MST) using the Prim's Algorithm.\n",
    "    # It is a O(ELogV) function\n",
    "    def PrimMST(self):\n",
    "        # Get the number of vertices in graph\n",
    "        V = self.V\n",
    "\n",
    "        # key values used to pick minimum weight edge in cut\n",
    "        key = []\n",
    "\n",
    "        # List to store constructed MST\n",
    "        parent = []\n",
    "\n",
    "        # minHeap represents set E\n",
    "        minHeap = Heap()\n",
    "\n",
    "        # Initialize min heap with all vertices. Key values of all\n",
    "        # vertices (except the 0th vertex) is is initially infinite\n",
    "        for v in range(V):\n",
    "            parent.append(-1)\n",
    "            key.append(1e2)\n",
    "            minHeap.array.append(minHeap.newMinHeapNode(v, key[v]))\n",
    "            minHeap.pos.append(v)\n",
    "\n",
    "        print(\"minheap.array: \", minHeap.array)\n",
    "        print(\"minHeap.pos: \", minHeap.pos)\n",
    "        print()\n",
    "\n",
    "        # Make key value of 0th vertex as 0 so\n",
    "        # that it is extracted first\n",
    "        minHeap.pos[0] = 0\n",
    "        key[0] = 0\n",
    "        minHeap.decreaseKey(0, key[0])\n",
    "\n",
    "        # Initially size of min heap is equal to V\n",
    "        minHeap.size = V\n",
    "\n",
    "        print(\"minheap.array: \", minHeap.array)\n",
    "        print(\"minHeap.pos: \", minHeap.pos)\n",
    "        print()\n",
    "\n",
    "        # In the following loop, min heap contains all nodes\n",
    "        # not yet added in the MST.\n",
    "        while minHeap.isEmpty() == False:\n",
    "\n",
    "            # Extract the vertex with minimum distance value\n",
    "            newHeapNode = minHeap.extractMin()\n",
    "            u = newHeapNode[0]\n",
    "\n",
    "            # Traverse through all adjacent vertices of u\n",
    "            # (the extracted vertex) and update their\n",
    "            # distance values\n",
    "            for pCrawl in self.graph[u]:\n",
    "\n",
    "                v = pCrawl[0]\n",
    "\n",
    "                # If shortest distance to v is not finalized\n",
    "                # yet, and distance to v through u is less than\n",
    "                # its previously calculated distance\n",
    "                if minHeap.isInMinHeap(v) and pCrawl[1] < key[v]:\n",
    "                    key[v] = pCrawl[1]\n",
    "                    parent[v] = u\n",
    "\n",
    "                    # update distance value in min heap also\n",
    "                    minHeap.decreaseKey(v, key[v])\n",
    "\n",
    "        printArr(parent, V)\n",
    "\n",
    "\n",
    "# Driver program to test the above functions\n",
    "graph = Graph(5)\n",
    "graph.addEdge(0, 1, 2)\n",
    "graph.addEdge(0, 3, 6)\n",
    "graph.addEdge(1, 2, 3)\n",
    "graph.addEdge(1, 3, 8)\n",
    "graph.addEdge(1, 4, 5)\n",
    "graph.addEdge(2, 4, 7)\n",
    "graph.addEdge(3, 4, 9)\n",
    "\n",
    "\n",
    "# graph.addEdge(0, 1, 4)\n",
    "# graph.addEdge(0, 7, 8)\n",
    "# graph.addEdge(1, 2, 8)\n",
    "# graph.addEdge(1, 7, 11)\n",
    "# graph.addEdge(2, 3, 7)\n",
    "# graph.addEdge(2, 8, 2)\n",
    "# graph.addEdge(2, 5, 4)\n",
    "# graph.addEdge(3, 4, 9)\n",
    "# graph.addEdge(3, 5, 14)\n",
    "# graph.addEdge(4, 5, 10)\n",
    "# graph.addEdge(5, 6, 2)\n",
    "# graph.addEdge(6, 7, 1)\n",
    "# graph.addEdge(6, 8, 6)\n",
    "# graph.addEdge(7, 8, 7)\n",
    "graph.PrimMST()\n",
    "\n",
    "# This code is contributed by Divyanshu Mehta"
   ]
  },
  {
   "cell_type": "markdown",
   "metadata": {},
   "source": [
    " 0 -  1\n",
    "\n",
    " 5 -  2\n",
    " \n",
    " 2 -  3\n",
    " \n",
    " 3 -  4\n",
    " \n",
    " \n",
    " 6 -  5\n",
    " \n",
    " 7 -  6\n",
    " \n",
    " 0 -  7\n",
    " \n",
    " 2 -  8"
   ]
  },
  {
   "cell_type": "markdown",
   "metadata": {},
   "source": []
  },
  {
   "cell_type": "code",
   "execution_count": 99,
   "metadata": {},
   "outputs": [],
   "source": [
    "class MinHeapPriorityQueue:\n",
    "    def __init__(self, arr=None):\n",
    "        self.heap = []\n",
    "        self.heap_size = 0\n",
    "        self.pos = []\n",
    "        if arr is not None:\n",
    "            self.heap = arr\n",
    "            self.heap_size = len(self.heap)\n",
    "            self.pos = list(range(len(arr)))\n",
    "\n",
    "    def min_heapify(self, parent):\n",
    "        smallest = parent\n",
    "        left_child = 2 * parent + 1\n",
    "        right_child = 2 * parent + 2\n",
    "\n",
    "        if (\n",
    "            left_child < self.heap_size\n",
    "            and self.heap[parent][1] > self.heap[left_child][1]\n",
    "        ):\n",
    "            smallest = left_child\n",
    "        if (\n",
    "            right_child < self.heap_size\n",
    "            and self.heap[smallest][1] > self.heap[right_child][1]\n",
    "        ):\n",
    "            smallest = right_child\n",
    "\n",
    "        if smallest != parent:\n",
    "            self.pos[smallest], self.pos[parent] = self.pos[parent], self.pos[smallest]\n",
    "\n",
    "            self.swap(smallest, parent)\n",
    "            # heapify again the one which has been moved\n",
    "            self.min_heapify(smallest)\n",
    "\n",
    "    def insert_min_heap(self, key, weight):\n",
    "        self.heap.append([key, weight])\n",
    "        self.pos.append(self.heap_size)\n",
    "        self.heap_size += 1\n",
    "\n",
    "        n = (self.heap_size // 2) - 1\n",
    "        for node in range(n, -1, -1):\n",
    "            self.min_heapify(node)\n",
    "\n",
    "    def swap(self, idx_a, idx_b):\n",
    "        self.heap[idx_a], self.heap[idx_b] = (self.heap[idx_b], self.heap[idx_a])\n",
    "\n",
    "    def build_min_heap(self):\n",
    "        n = (self.heap_size // 2) - 1\n",
    "        for node in range(n, -1, -1):\n",
    "            self.min_heapify(node)\n",
    "\n",
    "    # def print_root(self):\n",
    "    #     print(self.heap[0])\n",
    "\n",
    "    # def get_max_root_method_1(self):\n",
    "    #     if self.heap_size > 0:\n",
    "    #         element = self.heap.pop(0)\n",
    "    #         self.heap_size -= 1\n",
    "    #         self.max_heapify(0)\n",
    "    #         return element\n",
    "    #     else:\n",
    "    #         print(\"Heap is empty\")\n",
    "\n",
    "    # def get_max_root_method_2(self):\n",
    "    #     if self.heap_size > 0:\n",
    "    #         element = self.heap[0]\n",
    "    #         self.heap[0] = self.heap[self.heap_size - 1]\n",
    "    #         del self.heap[self.heap_size - 1]\n",
    "    #         self.heap_size -= 1\n",
    "    #         self.max_heapify(0)\n",
    "    #         return element\n",
    "    #     else:\n",
    "    #         print(\"Heap is empty\")\n",
    "\n",
    "    def get_min_root(self):\n",
    "        if self.heap_size > 0:\n",
    "            element = self.heap.pop(0)\n",
    "            self.heap_size -= 1\n",
    "            self.min_heapify(0)\n",
    "            return element\n",
    "        else:\n",
    "            print(\"Heap is empty\")\n",
    "\n",
    "    # # * In min heap pq, increase key means push down\n",
    "    # # * push down means heapify\n",
    "    # # * heapify means min_heapify\n",
    "    # def increase_key(self, index, key):\n",
    "    #     self.heap[index] = key\n",
    "    #     self.min_heapify(index)\n",
    "\n",
    "    # In min heap pq, decrease key means push up\n",
    "    # push up means swap current node with parent\n",
    "    # do ... until the node is greater than the parent\n",
    "    # when we are pushing up, we will always move towards zero index\n",
    "    # or root\n",
    "    def decrease_key(self, index, key):\n",
    "        # get position of index in pos array\n",
    "        poi = self.pos.index(index)\n",
    "\n",
    "        self.heap[poi][1] = key\n",
    "\n",
    "        while (poi > 0) and self.heap[(poi - 1) // 2][1] > self.heap[poi][1]:\n",
    "            self.pos[poi], self.pos[(poi - 1) // 2] = (\n",
    "                self.pos[(poi - 1) // 2],\n",
    "                self.pos[poi],\n",
    "            )\n",
    "            self.swap(poi, (poi - 1) // 2)\n",
    "            poi = (poi - 1) // 2"
   ]
  },
  {
   "cell_type": "code",
   "execution_count": 100,
   "metadata": {},
   "outputs": [],
   "source": [
    "heap = MinHeapPriorityQueue()"
   ]
  },
  {
   "cell_type": "code",
   "execution_count": 101,
   "metadata": {},
   "outputs": [],
   "source": [
    "heap.insert_min_heap(0, 10)  # 0\n",
    "heap.insert_min_heap(1, 7)  # 1\n",
    "heap.insert_min_heap(2, 4)  # 2\n",
    "heap.insert_min_heap(3, 5)  # 3\n",
    "heap.insert_min_heap(4, 3)  # 4"
   ]
  },
  {
   "cell_type": "code",
   "execution_count": 102,
   "metadata": {},
   "outputs": [
    {
     "data": {
      "text/plain": [
       "[[4, 3], [2, 4], [1, 7], [0, 10], [3, 5]]"
      ]
     },
     "execution_count": 102,
     "metadata": {},
     "output_type": "execute_result"
    }
   ],
   "source": [
    "heap.heap"
   ]
  },
  {
   "cell_type": "code",
   "execution_count": 103,
   "metadata": {},
   "outputs": [],
   "source": [
    "# for i in range(5):\n",
    "#     node = heap.get_min_root()\n",
    "#     print(node)"
   ]
  },
  {
   "cell_type": "code",
   "execution_count": 104,
   "metadata": {},
   "outputs": [
    {
     "data": {
      "text/plain": [
       "[4, 2, 1, 0, 3]"
      ]
     },
     "execution_count": 104,
     "metadata": {},
     "output_type": "execute_result"
    }
   ],
   "source": [
    "heap.pos"
   ]
  },
  {
   "cell_type": "code",
   "execution_count": 105,
   "metadata": {},
   "outputs": [
    {
     "data": {
      "text/plain": [
       "3"
      ]
     },
     "execution_count": 105,
     "metadata": {},
     "output_type": "execute_result"
    }
   ],
   "source": [
    "heap.pos.index(0)"
   ]
  },
  {
   "cell_type": "code",
   "execution_count": 106,
   "metadata": {},
   "outputs": [],
   "source": [
    "heap.decrease_key(0, 1)"
   ]
  },
  {
   "cell_type": "code",
   "execution_count": 107,
   "metadata": {},
   "outputs": [
    {
     "data": {
      "text/plain": [
       "[[0, 1], [4, 3], [1, 7], [2, 4], [3, 5]]"
      ]
     },
     "execution_count": 107,
     "metadata": {},
     "output_type": "execute_result"
    }
   ],
   "source": [
    "heap.heap"
   ]
  },
  {
   "cell_type": "code",
   "execution_count": 108,
   "metadata": {},
   "outputs": [
    {
     "data": {
      "text/plain": [
       "[0, 4, 1, 2, 3]"
      ]
     },
     "execution_count": 108,
     "metadata": {},
     "output_type": "execute_result"
    }
   ],
   "source": [
    "heap.pos"
   ]
  },
  {
   "cell_type": "code",
   "execution_count": 109,
   "metadata": {},
   "outputs": [
    {
     "name": "stdout",
     "output_type": "stream",
     "text": [
      "[0, 1]\n",
      "[4, 3]\n",
      "[2, 4]\n",
      "[3, 5]\n",
      "[1, 7]\n"
     ]
    }
   ],
   "source": [
    "for i in range(5):\n",
    "    node = heap.get_min_root()\n",
    "    print(node)"
   ]
  },
  {
   "cell_type": "code",
   "execution_count": null,
   "metadata": {},
   "outputs": [],
   "source": []
  },
  {
   "cell_type": "code",
   "execution_count": null,
   "metadata": {},
   "outputs": [],
   "source": []
  }
 ],
 "metadata": {
  "kernelspec": {
   "display_name": "Python 3.8.10 ('.venv': pipenv)",
   "language": "python",
   "name": "python3"
  },
  "language_info": {
   "codemirror_mode": {
    "name": "ipython",
    "version": 3
   },
   "file_extension": ".py",
   "mimetype": "text/x-python",
   "name": "python",
   "nbconvert_exporter": "python",
   "pygments_lexer": "ipython3",
   "version": "3.8.10"
  },
  "orig_nbformat": 4,
  "vscode": {
   "interpreter": {
    "hash": "ea9ccb04e7308efcbefe4ed3ddff7336a57680ae622578d4fe4a2e3945390538"
   }
  }
 },
 "nbformat": 4,
 "nbformat_minor": 2
}
