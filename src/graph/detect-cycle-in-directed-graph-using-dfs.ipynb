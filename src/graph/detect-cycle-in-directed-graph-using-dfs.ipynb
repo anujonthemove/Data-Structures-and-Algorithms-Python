{
 "cells": [
  {
   "cell_type": "markdown",
   "metadata": {},
   "source": [
    "#### Detect Cycle in an undirected graph\n",
    "\n",
    "##### References\n",
    "\n",
    "1. https://www.geeksforgeeks.org/detect-cycle-in-a-graph/"
   ]
  },
  {
   "cell_type": "code",
   "execution_count": 1,
   "metadata": {},
   "outputs": [],
   "source": [
    "from utils.graph import GraphAdjList as Graph\n",
    "from utils.graph_properties import GraphPropertiesAdjList as gp"
   ]
  },
  {
   "cell_type": "code",
   "execution_count": 2,
   "metadata": {},
   "outputs": [],
   "source": [
    "g = Graph()\n",
    "g.insert_node(0, 1)\n",
    "g.insert_node(0, 2)\n",
    "g.insert_node(1, 2)\n",
    "g.insert_node(2, 0)\n",
    "g.insert_node(2, 3)\n",
    "g.insert_node(3, 3)"
   ]
  },
  {
   "cell_type": "code",
   "execution_count": 3,
   "metadata": {},
   "outputs": [],
   "source": [
    "class checkCycle:\n",
    "    def __init__(self, graph):\n",
    "        self.graph = graph\n",
    "        self.num_vertices = gp.num_vertices(self.graph)\n",
    "        self.visited = [False] * self.num_vertices\n",
    "        self.dfs_stack = [False] * self.num_vertices\n",
    "\n",
    "    def has_cycle(self, node):\n",
    "\n",
    "        self.visited[node] = True\n",
    "        self.dfs_stack[node] = True\n",
    "\n",
    "        for neighbour in self.graph[node]:\n",
    "            if self.visited[neighbour] == False:\n",
    "                if self.has_cycle(neighbour):\n",
    "                    return True\n",
    "            elif self.dfs_stack[neighbour]:\n",
    "                return True\n",
    "\n",
    "        self.dfs_stack[node] = False\n",
    "        return False\n",
    "\n",
    "    def is_cyclic_util(self):\n",
    "\n",
    "        for vertex in range(self.num_vertices):\n",
    "            if self.visited[vertex] == False:\n",
    "                if self.has_cycle(vertex):\n",
    "                    return True\n",
    "\n",
    "        return False"
   ]
  },
  {
   "cell_type": "code",
   "execution_count": 4,
   "metadata": {},
   "outputs": [],
   "source": [
    "obj = checkCycle(g.graph)"
   ]
  },
  {
   "cell_type": "code",
   "execution_count": 5,
   "metadata": {},
   "outputs": [
    {
     "data": {
      "text/plain": [
       "True"
      ]
     },
     "execution_count": 5,
     "metadata": {},
     "output_type": "execute_result"
    }
   ],
   "source": [
    "obj.is_cyclic_util()"
   ]
  },
  {
   "cell_type": "code",
   "execution_count": null,
   "metadata": {},
   "outputs": [],
   "source": []
  }
 ],
 "metadata": {
  "kernelspec": {
   "display_name": "Python 3.8.10 ('.venv': pipenv)",
   "language": "python",
   "name": "python3"
  },
  "language_info": {
   "codemirror_mode": {
    "name": "ipython",
    "version": 3
   },
   "file_extension": ".py",
   "mimetype": "text/x-python",
   "name": "python",
   "nbconvert_exporter": "python",
   "pygments_lexer": "ipython3",
   "version": "3.8.10"
  },
  "orig_nbformat": 4,
  "vscode": {
   "interpreter": {
    "hash": "ea9ccb04e7308efcbefe4ed3ddff7336a57680ae622578d4fe4a2e3945390538"
   }
  }
 },
 "nbformat": 4,
 "nbformat_minor": 2
}
