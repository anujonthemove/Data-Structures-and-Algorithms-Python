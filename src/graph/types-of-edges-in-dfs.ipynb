{
 "cells": [
  {
   "cell_type": "markdown",
   "metadata": {},
   "source": [
    "### Types of edges in DFS | Edge classification\n",
    "\n",
    "* Tree Edge:\n",
    "    * Member of DFS Traversal \n",
    "* Back Edge:\n",
    "    * E(x, y) where y appears after x and there is a path from x to y\n",
    "* Forward Edge:\n",
    "    * E(x, y) where y appears before x and there is a path from y to x\n",
    "* Cross Edge:\n",
    "    * E(x, y) where there is no path between x and y"
   ]
  },
  {
   "cell_type": "code",
   "execution_count": 1,
   "metadata": {},
   "outputs": [],
   "source": [
    "from utils.graph import GraphAdjList as Graph\n",
    "from utils.graph_properties import GraphPropertiesAdjList as gp\n",
    "from utils.graph_traversal import GraphTraversal as gt"
   ]
  },
  {
   "cell_type": "code",
   "execution_count": 2,
   "metadata": {},
   "outputs": [],
   "source": [
    "# # graph with #vertices = 4, #edges = 6\n",
    "# g = Graph()\n",
    "# g.insert_node(0, 1)\n",
    "# g.insert_node(0, 2)\n",
    "# g.insert_node(1, 2)\n",
    "# g.insert_node(2, 0)\n",
    "# g.insert_node(2, 3)\n",
    "# g.insert_node(3, 3)"
   ]
  },
  {
   "cell_type": "code",
   "execution_count": 3,
   "metadata": {},
   "outputs": [],
   "source": [
    "# # graph with #vertices = 4, #edges = 6\n",
    "# disconnected_graph = Graph()\n",
    "# #disconnected_graph.insert_node(0, 1)\n",
    "# disconnected_graph.insert_node(0, 2)\n",
    "# disconnected_graph.insert_node(1, 2)\n",
    "# disconnected_graph.insert_node(2, 0)\n",
    "# disconnected_graph.insert_node(2, 3)\n",
    "# disconnected_graph.insert_node(3, 3)"
   ]
  },
  {
   "cell_type": "code",
   "execution_count": 4,
   "metadata": {},
   "outputs": [],
   "source": [
    "g = Graph()\n",
    "g.insert_node(1, 2)\n",
    "g.insert_node(1, 4)\n",
    "g.insert_node(2, 1)\n",
    "g.insert_node(2, 4)\n",
    "g.insert_node(2, 5)\n",
    "g.insert_node(2, 3)\n",
    "g.insert_node(3, 1)\n",
    "g.insert_node(3, 4)\n",
    "g.insert_node(4, 2)\n",
    "g.insert_node(4, 3)\n",
    "g.insert_node(5, 4)"
   ]
  },
  {
   "cell_type": "code",
   "execution_count": 5,
   "metadata": {},
   "outputs": [],
   "source": [
    "class classifyEdges:\n",
    "    def __init__(self, graph):\n",
    "        self.graph = graph\n",
    "        self.visited = set()\n",
    "        self.traversal_list = []\n",
    "        self.num_vertices = gp.num_vertices(self.graph)\n",
    "        self.time = 0\n",
    "        self.start_time = [0] * self.num_vertices\n",
    "        self.end_time = [0] * self.num_vertices\n",
    "        self.tree_edge = []\n",
    "        self.cross_edge = []\n",
    "        self.forward_edge = []\n",
    "        self.backward_edge = []\n",
    "\n",
    "    def DFS_traversal_disconnected_graph(self):\n",
    "\n",
    "        for vertex in self.graph:\n",
    "            if vertex not in self.visited:\n",
    "                self.DFS_classify_edges(vertex)\n",
    "\n",
    "    def DFS_classify_edges(self, vertex):\n",
    "\n",
    "        self.traversal_list.append(vertex)\n",
    "        self.visited.add(vertex)\n",
    "        self.start_time[vertex] = self.time\n",
    "        self.time += 1\n",
    "\n",
    "        for neighbour in self.graph[vertex]:\n",
    "            if neighbour not in self.visited:\n",
    "                self.tree_edge.append((vertex, neighbour))\n",
    "                self.DFS_classify_edges(neighbour)\n",
    "            else:\n",
    "                if (\n",
    "                    self.start_time[vertex] > self.start_time[neighbour]\n",
    "                    and self.end_time[vertex] < self.end_time[neighbour]\n",
    "                ):\n",
    "                    self.backward_edge.append((vertex, neighbour))\n",
    "                elif (\n",
    "                    self.start_time[vertex] < self.start_time[neighbour]\n",
    "                    and self.end_time[vertex] > self.end_time[neighbour]\n",
    "                ):\n",
    "                    self.forward_edge.append(vertex, neighbour)\n",
    "                elif (\n",
    "                    self.start_time[vertex] > self.start_time[neighbour]\n",
    "                    and self.end_time[vertex] > self.end_time[neighbour]\n",
    "                ):\n",
    "                    self.cross_edge.append((vertex, neighbour))\n",
    "\n",
    "            self.end_time[neighbour] = self.time\n",
    "            self.time += 1"
   ]
  },
  {
   "cell_type": "code",
   "execution_count": 6,
   "metadata": {},
   "outputs": [],
   "source": [
    "test = classifyEdges(g.graph)"
   ]
  },
  {
   "cell_type": "code",
   "execution_count": 7,
   "metadata": {},
   "outputs": [],
   "source": [
    "test.DFS_traversal_disconnected_graph()"
   ]
  },
  {
   "cell_type": "code",
   "execution_count": 8,
   "metadata": {},
   "outputs": [
    {
     "data": {
      "text/plain": [
       "[1, 2, 4, 3, 5]"
      ]
     },
     "execution_count": 8,
     "metadata": {},
     "output_type": "execute_result"
    }
   ],
   "source": [
    "test.traversal_list"
   ]
  },
  {
   "cell_type": "code",
   "execution_count": 9,
   "metadata": {},
   "outputs": [
    {
     "data": {
      "text/plain": [
       "[(3, 1), (5, 4)]"
      ]
     },
     "execution_count": 9,
     "metadata": {},
     "output_type": "execute_result"
    }
   ],
   "source": [
    "test.backward_edge"
   ]
  },
  {
   "cell_type": "code",
   "execution_count": 10,
   "metadata": {},
   "outputs": [
    {
     "data": {
      "text/plain": [
       "[]"
      ]
     },
     "execution_count": 10,
     "metadata": {},
     "output_type": "execute_result"
    }
   ],
   "source": [
    "test.forward_edge"
   ]
  },
  {
   "cell_type": "code",
   "execution_count": 11,
   "metadata": {},
   "outputs": [
    {
     "data": {
      "text/plain": [
       "[]"
      ]
     },
     "execution_count": 11,
     "metadata": {},
     "output_type": "execute_result"
    }
   ],
   "source": [
    "test.cross_edge"
   ]
  },
  {
   "cell_type": "code",
   "execution_count": 12,
   "metadata": {},
   "outputs": [
    {
     "data": {
      "text/plain": [
       "[(1, 2), (2, 4), (4, 3), (2, 5)]"
      ]
     },
     "execution_count": 12,
     "metadata": {},
     "output_type": "execute_result"
    }
   ],
   "source": [
    "test.tree_edge"
   ]
  },
  {
   "cell_type": "code",
   "execution_count": null,
   "metadata": {},
   "outputs": [],
   "source": []
  }
 ],
 "metadata": {
  "kernelspec": {
   "display_name": "Python 3.8.10 ('.venv': pipenv)",
   "language": "python",
   "name": "python3"
  },
  "language_info": {
   "codemirror_mode": {
    "name": "ipython",
    "version": 3
   },
   "file_extension": ".py",
   "mimetype": "text/x-python",
   "name": "python",
   "nbconvert_exporter": "python",
   "pygments_lexer": "ipython3",
   "version": "3.8.10"
  },
  "orig_nbformat": 4,
  "vscode": {
   "interpreter": {
    "hash": "ea9ccb04e7308efcbefe4ed3ddff7336a57680ae622578d4fe4a2e3945390538"
   }
  }
 },
 "nbformat": 4,
 "nbformat_minor": 2
}
