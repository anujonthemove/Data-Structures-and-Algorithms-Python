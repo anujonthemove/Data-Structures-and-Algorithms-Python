{
 "cells": [
  {
   "cell_type": "markdown",
   "metadata": {},
   "source": [
    "### Detect Cycle in Undirected Graph using Disjoint Set Data Structure\n",
    "\n",
    "\n",
    "#### References:\n",
    "\n",
    "1. https://www.geeksforgeeks.org/union-find/\n",
    "2. https://www.geeksforgeeks.org/union-find-algorithm-set-2-union-by-rank/"
   ]
  },
  {
   "cell_type": "code",
   "execution_count": 1,
   "metadata": {},
   "outputs": [],
   "source": [
    "from utils.graph import GraphAdjList as Graph\n",
    "from utils.graph_properties import GraphPropertiesAdjList as gp\n",
    "from utils.disjoint_set import DisjointSetOptimized"
   ]
  },
  {
   "cell_type": "code",
   "execution_count": 2,
   "metadata": {},
   "outputs": [],
   "source": [
    "g = Graph()\n",
    "g.insert_node(0, 1)\n",
    "g.insert_node(1, 2)\n",
    "g.insert_node(2, 0)"
   ]
  },
  {
   "cell_type": "code",
   "execution_count": 3,
   "metadata": {},
   "outputs": [
    {
     "name": "stdout",
     "output_type": "stream",
     "text": [
      "0: [1]\n",
      "1: [2]\n",
      "2: [0]\n"
     ]
    }
   ],
   "source": [
    "gp.print_graph(g.graph)"
   ]
  },
  {
   "cell_type": "code",
   "execution_count": 4,
   "metadata": {},
   "outputs": [],
   "source": [
    "def is_cyclic(graph):\n",
    "\n",
    "    vertices = gp.num_vertices(graph)\n",
    "    universe = [i for i in range(vertices)]\n",
    "    ds = DisjointSetOptimized()\n",
    "    ds.make_set(universe)\n",
    "    # ds.print_set(universe)\n",
    "\n",
    "    for i in graph:\n",
    "        for j in graph[i]:\n",
    "            # print(i, j)\n",
    "\n",
    "            x = ds.find(i)\n",
    "            y = ds.find(j)\n",
    "            # print(x, y)\n",
    "            # print()\n",
    "            if x == y:\n",
    "                return True\n",
    "\n",
    "            ds.union(x, y)"
   ]
  },
  {
   "cell_type": "code",
   "execution_count": 5,
   "metadata": {},
   "outputs": [
    {
     "data": {
      "text/plain": [
       "True"
      ]
     },
     "execution_count": 5,
     "metadata": {},
     "output_type": "execute_result"
    }
   ],
   "source": [
    "is_cyclic(g.graph)"
   ]
  },
  {
   "cell_type": "code",
   "execution_count": null,
   "metadata": {},
   "outputs": [],
   "source": []
  },
  {
   "cell_type": "code",
   "execution_count": null,
   "metadata": {},
   "outputs": [],
   "source": []
  }
 ],
 "metadata": {
  "kernelspec": {
   "display_name": "Python 3.8.10 ('.venv': pipenv)",
   "language": "python",
   "name": "python3"
  },
  "language_info": {
   "codemirror_mode": {
    "name": "ipython",
    "version": 3
   },
   "file_extension": ".py",
   "mimetype": "text/x-python",
   "name": "python",
   "nbconvert_exporter": "python",
   "pygments_lexer": "ipython3",
   "version": "3.8.10"
  },
  "orig_nbformat": 4,
  "vscode": {
   "interpreter": {
    "hash": "ea9ccb04e7308efcbefe4ed3ddff7336a57680ae622578d4fe4a2e3945390538"
   }
  }
 },
 "nbformat": 4,
 "nbformat_minor": 2
}
