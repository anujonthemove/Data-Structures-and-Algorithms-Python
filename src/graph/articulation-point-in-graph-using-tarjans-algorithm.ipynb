{
 "cells": [
  {
   "cell_type": "code",
   "execution_count": 1,
   "metadata": {},
   "outputs": [],
   "source": [
    "from utils.graph import GraphAdjList as Graph\n",
    "from utils.graph_properties import GraphPropertiesAdjList as gp"
   ]
  },
  {
   "cell_type": "code",
   "execution_count": 2,
   "metadata": {},
   "outputs": [],
   "source": [
    "g = Graph()\n",
    "\n",
    "g.insert_node_directed(1, 0)\n",
    "g.insert_node_directed(0, 2)\n",
    "g.insert_node_directed(2, 1)\n",
    "g.insert_node_directed(0, 3)\n",
    "g.insert_node_directed(3, 4)"
   ]
  },
  {
   "cell_type": "code",
   "execution_count": 3,
   "metadata": {},
   "outputs": [
    {
     "data": {
      "text/plain": [
       "defaultdict(list, {1: [0], 0: [2, 3], 2: [1], 3: [4]})"
      ]
     },
     "execution_count": 3,
     "metadata": {},
     "output_type": "execute_result"
    }
   ],
   "source": [
    "g.graph"
   ]
  },
  {
   "cell_type": "code",
   "execution_count": 4,
   "metadata": {},
   "outputs": [
    {
     "name": "stdout",
     "output_type": "stream",
     "text": [
      "5\n"
     ]
    }
   ],
   "source": [
    "num_vertices = gp.num_vertices_updated(g.graph)\n",
    "print(num_vertices)"
   ]
  },
  {
   "cell_type": "code",
   "execution_count": 5,
   "metadata": {},
   "outputs": [],
   "source": [
    "class articulation_points:\n",
    "    def __init__(self, graph, num_vertices):\n",
    "        self.graph = graph\n",
    "        self.num_vertices = num_vertices\n",
    "        self.visited = [False] * self.num_vertices\n",
    "        self.disc = [float(\"inf\")] * self.num_vertices\n",
    "        self.low = [float(\"inf\")] * self.num_vertices\n",
    "        self.time = 0\n",
    "        self.parent = [-1] * self.num_vertices\n",
    "        self.answer = []\n",
    "        # self.ap = [False]*self.num_vertices\n",
    "\n",
    "    def articulation_point_util(self, node):\n",
    "        self.visited[node] = True\n",
    "        self.disc[node] = self.time\n",
    "        self.low[node] = self.time\n",
    "        self.time += 1\n",
    "\n",
    "        child = 0\n",
    "\n",
    "        for neighbour in self.graph[node]:\n",
    "\n",
    "            # if node's parent is the same as the\n",
    "            # current neighbour, skip iteration\n",
    "            if self.parent[node] == neighbour:\n",
    "                continue\n",
    "\n",
    "            if self.visited[neighbour] == False:\n",
    "                self.parent[neighbour] = node\n",
    "                child += 1\n",
    "                self.articulation_point_util(neighbour)\n",
    "\n",
    "                # update node's low with it's child's or neighbour's low\n",
    "                # when going back in recursion\n",
    "                self.low[node] = min(self.low[node], self.low[neighbour])\n",
    "\n",
    "                # now check if this node is an articulation point or not\n",
    "                if self.low[neighbour] >= self.disc[node] and self.parent[node] != -1:\n",
    "                    self.answer.append(node)\n",
    "                    # self.ap[node] = True\n",
    "\n",
    "                # case for root\n",
    "                # if self.parent[node] == -1 and len(self.graph[node]) > 1:\n",
    "                if self.parent[node] == -1 and child > 1:\n",
    "                    self.answer.append(node)\n",
    "                    # self.ap[node] = True\n",
    "\n",
    "            # the neighbour has been visited\n",
    "            # and it is not the parent of the current node\n",
    "            # then there is a back-edge\n",
    "            elif self.parent[node] != neighbour:\n",
    "                # update the low of this node with the low disc time of neighbour\n",
    "                self.low[node] = min(self.low[node], self.disc[neighbour])\n",
    "\n",
    "    def articulation_point(self):\n",
    "        for node in range(self.num_vertices):\n",
    "            if self.visited[node] == False:\n",
    "                self.articulation_point_util(node)"
   ]
  },
  {
   "cell_type": "code",
   "execution_count": 6,
   "metadata": {},
   "outputs": [],
   "source": [
    "obj = articulation_points(g.graph, num_vertices=num_vertices)"
   ]
  },
  {
   "cell_type": "code",
   "execution_count": 7,
   "metadata": {},
   "outputs": [],
   "source": [
    "obj.articulation_point()"
   ]
  },
  {
   "cell_type": "code",
   "execution_count": 8,
   "metadata": {},
   "outputs": [
    {
     "data": {
      "text/plain": [
       "[3, 0]"
      ]
     },
     "execution_count": 8,
     "metadata": {},
     "output_type": "execute_result"
    }
   ],
   "source": [
    "obj.answer"
   ]
  }
 ],
 "metadata": {
  "kernelspec": {
   "display_name": "Python 3.8.10 ('.venv': pipenv)",
   "language": "python",
   "name": "python3"
  },
  "language_info": {
   "codemirror_mode": {
    "name": "ipython",
    "version": 3
   },
   "file_extension": ".py",
   "mimetype": "text/x-python",
   "name": "python",
   "nbconvert_exporter": "python",
   "pygments_lexer": "ipython3",
   "version": "3.8.10"
  },
  "orig_nbformat": 4,
  "vscode": {
   "interpreter": {
    "hash": "ea9ccb04e7308efcbefe4ed3ddff7336a57680ae622578d4fe4a2e3945390538"
   }
  }
 },
 "nbformat": 4,
 "nbformat_minor": 2
}
