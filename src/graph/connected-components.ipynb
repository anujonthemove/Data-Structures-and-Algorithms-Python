{
 "cells": [
  {
   "cell_type": "code",
   "execution_count": 1,
   "metadata": {},
   "outputs": [],
   "source": [
    "from utils.graph import GraphAdjList as Graph\n",
    "from utils.graph_properties import GraphPropertiesAdjList as gp"
   ]
  },
  {
   "cell_type": "code",
   "execution_count": 2,
   "metadata": {},
   "outputs": [],
   "source": [
    "g = Graph()\n",
    "g.insert_node_undirected(1, 0)\n",
    "g.insert_node_undirected(2, 1)\n",
    "g.insert_node_undirected(3, 4)"
   ]
  },
  {
   "cell_type": "code",
   "execution_count": 3,
   "metadata": {},
   "outputs": [
    {
     "data": {
      "text/plain": [
       "defaultdict(list, {1: [0, 2], 0: [1], 2: [1], 3: [4], 4: [3]})"
      ]
     },
     "execution_count": 3,
     "metadata": {},
     "output_type": "execute_result"
    }
   ],
   "source": [
    "g.graph"
   ]
  },
  {
   "cell_type": "code",
   "execution_count": 4,
   "metadata": {},
   "outputs": [],
   "source": [
    "num_vertices = gp.num_vertices(g.graph)"
   ]
  },
  {
   "cell_type": "code",
   "execution_count": 13,
   "metadata": {},
   "outputs": [],
   "source": [
    "def DFS_util(graph, node, visited_nodes, temp):\n",
    "    visited_nodes.add(node)\n",
    "    temp.append(node)\n",
    "    for neighbour in graph[node]:\n",
    "        if neighbour not in visited_nodes:\n",
    "            DFS_util(graph, neighbour, visited_nodes, temp)\n",
    "    return temp"
   ]
  },
  {
   "cell_type": "code",
   "execution_count": 16,
   "metadata": {},
   "outputs": [],
   "source": [
    "def get_connected_components(graph, num_vertices):\n",
    "    visited_node_set = set()\n",
    "    count_connected = 0\n",
    "    components = []\n",
    "\n",
    "    for node in range(num_vertices):\n",
    "        if node not in visited_node_set:\n",
    "            temp = []\n",
    "            component = DFS_util(graph, node, visited_node_set, temp)\n",
    "            components.append(component)\n",
    "            count_connected += 1\n",
    "\n",
    "    print(count_connected)\n",
    "    print(components)"
   ]
  },
  {
   "cell_type": "code",
   "execution_count": 17,
   "metadata": {},
   "outputs": [
    {
     "name": "stdout",
     "output_type": "stream",
     "text": [
      "2\n",
      "[[0, 1, 2], [3, 4]]\n"
     ]
    }
   ],
   "source": [
    "get_connected_components(g.graph, num_vertices)"
   ]
  },
  {
   "cell_type": "code",
   "execution_count": null,
   "metadata": {},
   "outputs": [],
   "source": []
  }
 ],
 "metadata": {
  "kernelspec": {
   "display_name": "Python 3.8.10 ('.venv': pipenv)",
   "language": "python",
   "name": "python3"
  },
  "language_info": {
   "codemirror_mode": {
    "name": "ipython",
    "version": 3
   },
   "file_extension": ".py",
   "mimetype": "text/x-python",
   "name": "python",
   "nbconvert_exporter": "python",
   "pygments_lexer": "ipython3",
   "version": "3.8.10"
  },
  "orig_nbformat": 4,
  "vscode": {
   "interpreter": {
    "hash": "ea9ccb04e7308efcbefe4ed3ddff7336a57680ae622578d4fe4a2e3945390538"
   }
  }
 },
 "nbformat": 4,
 "nbformat_minor": 2
}
