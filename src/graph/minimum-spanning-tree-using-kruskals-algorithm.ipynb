{
 "cells": [
  {
   "cell_type": "markdown",
   "metadata": {},
   "source": [
    "#### MST using Kruskal's Algorithm\n",
    "\n",
    "##### References:\n",
    "how to represent weighted graphs\n",
    "\n",
    "1. https://codereview.stackexchange.com/questions/163414/adjacency-list-graph-representation-on-python\n",
    "2. https://stackoverflow.com/questions/13547133/adjacency-list-and-adjacency-matrix-in-python\n",
    "3. Unexplored but looks promising: https://www.bogotobogo.com/python/python_graph_data_structures.php"
   ]
  },
  {
   "cell_type": "code",
   "execution_count": 1,
   "metadata": {},
   "outputs": [],
   "source": [
    "from utils.graph import WeightedGraphAdjList as Graph\n",
    "from utils.graph_properties import WeightedGraphPropertiesAdjList as gp\n",
    "from utils.disjoint_set import DisjointSetNaive as dso"
   ]
  },
  {
   "cell_type": "code",
   "execution_count": 2,
   "metadata": {},
   "outputs": [],
   "source": [
    "def kruskal_MST(graph):\n",
    "\n",
    "    result = []\n",
    "    i = 0\n",
    "    e = 0\n",
    "\n",
    "    sorted_graph = sorted(graph, key=lambda item: item[2])\n",
    "\n",
    "    num_vertices = gp.num_vertices_weighted(graph)\n",
    "    universe = list(range(num_vertices))\n",
    "    unf = dso()\n",
    "    unf.make_set(universe)\n",
    "\n",
    "    # for MST the number of nodes will be 1-#edges in graph\n",
    "    while e < num_vertices - 1:\n",
    "        u, v, w = sorted_graph[i]\n",
    "        i += 1\n",
    "\n",
    "        x = unf.find(u)\n",
    "        y = unf.find(v)\n",
    "\n",
    "        if x != y:\n",
    "            result.append([u, v, w])\n",
    "            e += 1\n",
    "            unf.union(x, y)\n",
    "\n",
    "    minimum_cost = 0\n",
    "\n",
    "    for u, v, w in result:\n",
    "        minimum_cost += w\n",
    "        print(f\"{u} -- {v} = {w}\")\n",
    "\n",
    "    print(f\"MST Cost: {minimum_cost}\")"
   ]
  },
  {
   "cell_type": "code",
   "execution_count": 3,
   "metadata": {},
   "outputs": [],
   "source": [
    "g = Graph()\n",
    "g.insert_weighted_node(0, 1, 10)\n",
    "g.insert_weighted_node(0, 2, 6)\n",
    "g.insert_weighted_node(0, 3, 5)\n",
    "g.insert_weighted_node(1, 3, 15)\n",
    "g.insert_weighted_node(2, 3, 4)"
   ]
  },
  {
   "cell_type": "code",
   "execution_count": 4,
   "metadata": {},
   "outputs": [
    {
     "name": "stdout",
     "output_type": "stream",
     "text": [
      "2 -- 3 = 4\n",
      "0 -- 3 = 5\n",
      "0 -- 1 = 10\n",
      "MST Cost: 19\n"
     ]
    }
   ],
   "source": [
    "kruskal_MST(g.graph)"
   ]
  }
 ],
 "metadata": {
  "kernelspec": {
   "display_name": "Python 3.8.10 ('.venv': pipenv)",
   "language": "python",
   "name": "python3"
  },
  "language_info": {
   "codemirror_mode": {
    "name": "ipython",
    "version": 3
   },
   "file_extension": ".py",
   "mimetype": "text/x-python",
   "name": "python",
   "nbconvert_exporter": "python",
   "pygments_lexer": "ipython3",
   "version": "3.8.10"
  },
  "orig_nbformat": 4,
  "vscode": {
   "interpreter": {
    "hash": "ea9ccb04e7308efcbefe4ed3ddff7336a57680ae622578d4fe4a2e3945390538"
   }
  }
 },
 "nbformat": 4,
 "nbformat_minor": 2
}
