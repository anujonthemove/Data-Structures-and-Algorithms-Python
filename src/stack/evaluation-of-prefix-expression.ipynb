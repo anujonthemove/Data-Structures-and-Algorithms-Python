{
 "cells": [
  {
   "cell_type": "markdown",
   "id": "179805f5",
   "metadata": {},
   "source": [
    "## Evaluation of Prefix expression"
   ]
  },
  {
   "cell_type": "code",
   "execution_count": 1,
   "id": "2561f1b8",
   "metadata": {},
   "outputs": [],
   "source": [
    "prefix_expression = '- + 2 * 3 4 / 16 ^ 2 3'\n",
    "\n",
    "prefix_expression_list = prefix_expression.split()"
   ]
  },
  {
   "cell_type": "code",
   "execution_count": 2,
   "id": "fd788136",
   "metadata": {},
   "outputs": [],
   "source": [
    "def prefix_expression_evaluation(expression):\n",
    "    operators = [\"+\", \"-\", \"/\", \"*\", \"^\"]\n",
    "    \n",
    "    rev_prefix_expression = expression[::-1]\n",
    "    print(rev_prefix_expression)\n",
    "    \n",
    "    stack = []\n",
    "    for i in rev_prefix_expression:\n",
    "        if i in operators:\n",
    "            a = stack.pop()\n",
    "            b = stack.pop()\n",
    "            \n",
    "            if i == \"^\":\n",
    "                i = \"**\"\n",
    "            s = a+i+b\n",
    "            print(s)\n",
    "            ans = str(eval(a+i+b))\n",
    "            print(\"pushing {} onto stack\".format(ans))\n",
    "            stack.append(ans)\n",
    "        else:\n",
    "            print(\"pushing {} onto stack\".format(i))\n",
    "            stack.append(i)\n",
    "            \n",
    "    \n",
    "    return float(stack[-1])"
   ]
  },
  {
   "cell_type": "code",
   "execution_count": 3,
   "id": "78343850",
   "metadata": {},
   "outputs": [
    {
     "name": "stdout",
     "output_type": "stream",
     "text": [
      "['3', '2', '^', '16', '/', '4', '3', '*', '2', '+', '-']\n",
      "pushing 3 onto stack\n",
      "pushing 2 onto stack\n",
      "2**3\n",
      "pushing 8 onto stack\n",
      "pushing 16 onto stack\n",
      "16/8\n",
      "pushing 2.0 onto stack\n",
      "pushing 4 onto stack\n",
      "pushing 3 onto stack\n",
      "3*4\n",
      "pushing 12 onto stack\n",
      "pushing 2 onto stack\n",
      "2+12\n",
      "pushing 14 onto stack\n",
      "14-2.0\n",
      "pushing 12.0 onto stack\n"
     ]
    },
    {
     "data": {
      "text/plain": [
       "12.0"
      ]
     },
     "execution_count": 3,
     "metadata": {},
     "output_type": "execute_result"
    }
   ],
   "source": [
    "prefix_expression_evaluation(prefix_expression_list)"
   ]
  }
 ],
 "metadata": {
  "kernelspec": {
   "display_name": "Python 3 (ipykernel)",
   "language": "python",
   "name": "python3"
  },
  "language_info": {
   "codemirror_mode": {
    "name": "ipython",
    "version": 3
   },
   "file_extension": ".py",
   "mimetype": "text/x-python",
   "name": "python",
   "nbconvert_exporter": "python",
   "pygments_lexer": "ipython3",
   "version": "3.8.10"
  }
 },
 "nbformat": 4,
 "nbformat_minor": 5
}
