{
 "cells": [
  {
   "cell_type": "code",
   "execution_count": 1,
   "id": "e45b8094",
   "metadata": {},
   "outputs": [],
   "source": [
    "class Node:\n",
    "    def __init__(self, data):\n",
    "        self.data = data\n",
    "        self.next = None\n",
    "        \n",
    "    def __repr__(self):\n",
    "        return \"<Node: %s>\" % self.data"
   ]
  },
  {
   "cell_type": "code",
   "execution_count": 13,
   "id": "93391c4f",
   "metadata": {},
   "outputs": [],
   "source": [
    "class CircluarLinkedList:\n",
    "    def __init__(self):\n",
    "        self.head = None\n",
    "        self.__count = 0\n",
    "    \n",
    "    def __repr__(self):\n",
    "        current = self.head\n",
    "        nodes = []\n",
    "        # this is slightly different from the implementation \n",
    "        # in singly and doubly linked list\n",
    "        # this time we check if our current pointer reaches\n",
    "        # back to the head\n",
    "        while current.next != self.head:\n",
    "            if current == self.head:\n",
    "                nodes.append(\"[Head: %s]\" % current.data)\n",
    "            elif current.next == None:\n",
    "                nodes.append(\"[Tail: %s]\" % current.data)\n",
    "            else:\n",
    "                nodes.append(\"[%s]\" % current.data)\n",
    "            current = current.next\n",
    "        return \"->\".join(nodes)\n",
    "       \n",
    "    def __iter__(self):\n",
    "        current = self.head\n",
    "        while current.next != self.head:\n",
    "            yield current.data\n",
    "            current = current.next\n",
    "\n",
    "\n",
    "    def add_head(self, data):\n",
    "        node = Node(data)\n",
    "        if self.head == None:\n",
    "            self.head = node\n",
    "            node.next = self.head\n",
    "        else:\n",
    "            node.next = self.head\n",
    "            \n",
    "            current = self.head\n",
    "            while current.next != self.head:\n",
    "                current = current.next\n",
    "            current.next = node\n",
    "            self.head = node\n",
    "            "
   ]
  },
  {
   "cell_type": "code",
   "execution_count": 14,
   "id": "4eb19470",
   "metadata": {},
   "outputs": [],
   "source": [
    "l = CircluarLinkedList()"
   ]
  },
  {
   "cell_type": "code",
   "execution_count": 9,
   "id": "574e6951",
   "metadata": {},
   "outputs": [],
   "source": [
    "for i in range(0, 10):\n",
    "    l.add_head(i)"
   ]
  },
  {
   "cell_type": "code",
   "execution_count": 10,
   "id": "6d6912d4",
   "metadata": {},
   "outputs": [
    {
     "name": "stdout",
     "output_type": "stream",
     "text": [
      "9\n",
      "8\n",
      "7\n",
      "6\n",
      "5\n",
      "4\n",
      "3\n",
      "2\n",
      "1\n"
     ]
    }
   ],
   "source": [
    "for i in l:\n",
    "    print(i)"
   ]
  },
  {
   "cell_type": "code",
   "execution_count": 11,
   "id": "9f03d68d",
   "metadata": {},
   "outputs": [
    {
     "data": {
      "text/plain": [
       "[Head: 9]->[8]->[7]->[6]->[5]->[4]->[3]->[2]->[1]"
      ]
     },
     "execution_count": 11,
     "metadata": {},
     "output_type": "execute_result"
    }
   ],
   "source": [
    "l"
   ]
  },
  {
   "cell_type": "code",
   "execution_count": null,
   "id": "7c2537bf",
   "metadata": {},
   "outputs": [],
   "source": []
  }
 ],
 "metadata": {
  "kernelspec": {
   "display_name": "Python 3 (ipykernel)",
   "language": "python",
   "name": "python3"
  },
  "language_info": {
   "codemirror_mode": {
    "name": "ipython",
    "version": 3
   },
   "file_extension": ".py",
   "mimetype": "text/x-python",
   "name": "python",
   "nbconvert_exporter": "python",
   "pygments_lexer": "ipython3",
   "version": "3.8.10"
  }
 },
 "nbformat": 4,
 "nbformat_minor": 5
}
