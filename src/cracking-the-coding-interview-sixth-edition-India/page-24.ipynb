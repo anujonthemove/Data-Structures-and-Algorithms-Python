{
 "cells": [
  {
   "cell_type": "markdown",
   "id": "1efc8ae7",
   "metadata": {},
   "source": [
    "### Recursive sum\n",
    "* only for positive integers\n",
    "* time complexity: O(n)\n",
    "* space complexity: O(n) - each time a recursive call is made, memory is allocated in the stack space"
   ]
  },
  {
   "cell_type": "code",
   "execution_count": 4,
   "id": "66a97e07",
   "metadata": {},
   "outputs": [],
   "source": [
    "def sum_recursive(n):\n",
    "    if n <= 0:\n",
    "        return 0\n",
    "    return n + sum_recursive(n-1)"
   ]
  },
  {
   "cell_type": "code",
   "execution_count": 6,
   "id": "3f5e2ab3",
   "metadata": {},
   "outputs": [
    {
     "data": {
      "text/plain": [
       "15"
      ]
     },
     "execution_count": 6,
     "metadata": {},
     "output_type": "execute_result"
    }
   ],
   "source": [
    "sum_recursive(5)"
   ]
  },
  {
   "cell_type": "markdown",
   "id": "122113d1",
   "metadata": {},
   "source": [
    "### Sum adjacent numbers\n",
    "* time complexity: O(n) - as we need to necessarily iterate upto n \n",
    "* space complexity: O(1) - O(n) calls are made to pair_sum, each time it gets called only once so those calls do not exist simultaneosly on call stack"
   ]
  },
  {
   "cell_type": "code",
   "execution_count": 25,
   "id": "44f91030",
   "metadata": {},
   "outputs": [],
   "source": [
    "def pair_sum(a, b): return a+b"
   ]
  },
  {
   "cell_type": "code",
   "execution_count": 26,
   "id": "b55d7e72",
   "metadata": {},
   "outputs": [],
   "source": [
    "pair_sum_lambda = lambda x:x[0]+x[1]"
   ]
  },
  {
   "cell_type": "code",
   "execution_count": 36,
   "id": "5b8ef445",
   "metadata": {},
   "outputs": [],
   "source": [
    "def sum_adjacent(n):\n",
    "    result = 0\n",
    "    for i in range(0, n-1):\n",
    "        # result += pair_sum(i, i+1)\n",
    "        result += pair_sum_lambda((i, i+1))\n",
    "        \n",
    "    return result"
   ]
  },
  {
   "cell_type": "code",
   "execution_count": 38,
   "id": "82eead94",
   "metadata": {},
   "outputs": [
    {
     "data": {
      "text/plain": [
       "9"
      ]
     },
     "execution_count": 38,
     "metadata": {},
     "output_type": "execute_result"
    }
   ],
   "source": [
    "sum_adjacent(4)"
   ]
  },
  {
   "cell_type": "code",
   "execution_count": null,
   "id": "84262e75",
   "metadata": {},
   "outputs": [],
   "source": []
  },
  {
   "cell_type": "code",
   "execution_count": null,
   "id": "47fa6aee",
   "metadata": {},
   "outputs": [],
   "source": []
  }
 ],
 "metadata": {
  "kernelspec": {
   "display_name": "Python 3 (ipykernel)",
   "language": "python",
   "name": "python3"
  },
  "language_info": {
   "codemirror_mode": {
    "name": "ipython",
    "version": 3
   },
   "file_extension": ".py",
   "mimetype": "text/x-python",
   "name": "python",
   "nbconvert_exporter": "python",
   "pygments_lexer": "ipython3",
   "version": "3.8.10"
  }
 },
 "nbformat": 4,
 "nbformat_minor": 5
}
