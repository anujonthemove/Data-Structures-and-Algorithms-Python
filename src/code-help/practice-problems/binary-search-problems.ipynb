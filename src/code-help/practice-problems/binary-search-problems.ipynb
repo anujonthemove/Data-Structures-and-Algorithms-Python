{
 "cells": [
  {
   "attachments": {},
   "cell_type": "markdown",
   "metadata": {},
   "source": [
    "#### Binary Search\n",
    "\n",
    "[] To-do\n",
    "- Questions Pending\n",
    "\n",
    "Concept Video: \n",
    "\n",
    "* https://www.youtube.com/watch?v=YJeoQBevNVo&list=PLDzeHZWIZsTryvtXdMr6rPh4IDexB5NIA&index=12&ab_channel=CodeHelp-byBabbar\n",
    "\n",
    "\n",
    "Problems: \n",
    "* https://www.youtube.com/watch?v=zD2Jg3alZV8&list=PLDzeHZWIZsTryvtXdMr6rPh4IDexB5NIA&index=13&ab_channel=CodeHelp-byBabbar\n",
    "\n",
    "* https://www.youtube.com/watch?v=6z2HK4o8qcU&list=PLDzeHZWIZsTryvtXdMr6rPh4IDexB5NIA&index=14\n",
    "\n",
    "\n",
    "\n",
    "1. First and Last position of an element in a sorted array\n",
    "2. Total number of occurances in a sorted array\n",
    "3. Peak element in a mountain\n",
    "4. Pivot element in a rotated array\n",
    "5. Search an element in a rotated array\n",
    "6. Square root using Binary Search\n",
    "7. Find float part in Square root\n"
   ]
  },
  {
   "attachments": {},
   "cell_type": "markdown",
   "metadata": {},
   "source": [
    "#### 1. First and Last position of an element in a sorted array"
   ]
  },
  {
   "cell_type": "code",
   "execution_count": 1,
   "metadata": {},
   "outputs": [],
   "source": [
    "def first_occurance(arr, key):\n",
    "\n",
    "    start = 0\n",
    "    end = len(arr) - 1\n",
    "    ans = -1\n",
    "    while start <= end:\n",
    "        mid = start + (end - start) // 2\n",
    "\n",
    "        if key == arr[mid]:\n",
    "            ans = mid\n",
    "            # the only changes is this\n",
    "            end = mid - 1\n",
    "        elif key < arr[mid]:\n",
    "            end = mid - 1\n",
    "        elif key > arr[mid]:\n",
    "            start = mid + 1\n",
    "\n",
    "    return ans"
   ]
  },
  {
   "cell_type": "code",
   "execution_count": 2,
   "metadata": {},
   "outputs": [],
   "source": [
    "def last_occurance(arr, key):\n",
    "\n",
    "    start = 0\n",
    "    end = len(arr) - 1\n",
    "    ans = -1\n",
    "    while start <= end:\n",
    "        mid = start + (end - start) // 2\n",
    "\n",
    "        if key == arr[mid]:\n",
    "            ans = mid\n",
    "            # the only changes is this\n",
    "            start = mid + 1\n",
    "        elif key < arr[mid]:\n",
    "            end = mid - 1\n",
    "        elif key > arr[mid]:\n",
    "            start = mid + 1\n",
    "\n",
    "    return ans"
   ]
  },
  {
   "cell_type": "code",
   "execution_count": 3,
   "metadata": {},
   "outputs": [
    {
     "name": "stdout",
     "output_type": "stream",
     "text": [
      "1\n"
     ]
    }
   ],
   "source": [
    "arr = [0, 1, 1, 1, 4, 4, 4]\n",
    "ans = first_occurance(arr, key=1)\n",
    "print(ans)"
   ]
  },
  {
   "cell_type": "code",
   "execution_count": 4,
   "metadata": {},
   "outputs": [
    {
     "name": "stdout",
     "output_type": "stream",
     "text": [
      "3\n"
     ]
    }
   ],
   "source": [
    "arr = [0, 1, 1, 1, 4, 4, 4]\n",
    "ans = last_occurance(arr, key=1)\n",
    "print(ans)"
   ]
  },
  {
   "attachments": {},
   "cell_type": "markdown",
   "metadata": {},
   "source": [
    "#### 2. Total number of occurances of an element in an array"
   ]
  },
  {
   "cell_type": "code",
   "execution_count": 12,
   "metadata": {},
   "outputs": [
    {
     "name": "stdout",
     "output_type": "stream",
     "text": [
      "4 6\n",
      "3\n"
     ]
    }
   ],
   "source": [
    "arr = [0, 1, 1, 1, 4, 4, 4]\n",
    "key = 4\n",
    "first_occ_idx = first_occurance(arr, key)\n",
    "last_occ_idx = last_occurance(arr, key)\n",
    "\n",
    "print(first_occ_idx, last_occ_idx)\n",
    "\n",
    "total_occ = (last_occ_idx - first_occ_idx) + 1\n",
    "\n",
    "print(total_occ)"
   ]
  },
  {
   "attachments": {},
   "cell_type": "markdown",
   "metadata": {},
   "source": [
    "#### 3. Peak index in mountain array"
   ]
  },
  {
   "cell_type": "code",
   "execution_count": 15,
   "metadata": {},
   "outputs": [],
   "source": [
    "def find_peak(arr):\n",
    "\n",
    "    idx = -1\n",
    "\n",
    "    start = 0\n",
    "    end = len(arr) - 1\n",
    "\n",
    "    while start < end:\n",
    "        mid = start + (end - start) // 2\n",
    "\n",
    "        if arr[mid] < arr[mid + 1]:\n",
    "            start = mid + 1\n",
    "        else:\n",
    "            end = mid\n",
    "\n",
    "    return start"
   ]
  },
  {
   "cell_type": "code",
   "execution_count": 17,
   "metadata": {},
   "outputs": [
    {
     "data": {
      "text/plain": [
       "1"
      ]
     },
     "execution_count": 17,
     "metadata": {},
     "output_type": "execute_result"
    }
   ],
   "source": [
    "arr = [0, 2, 1, 0]\n",
    "find_peak(arr)"
   ]
  },
  {
   "cell_type": "markdown",
   "metadata": {},
   "source": []
  },
  {
   "cell_type": "code",
   "execution_count": null,
   "metadata": {},
   "outputs": [],
   "source": []
  }
 ],
 "metadata": {
  "kernelspec": {
   "display_name": "Python 3.8.10 ('.venv': pipenv)",
   "language": "python",
   "name": "python3"
  },
  "language_info": {
   "codemirror_mode": {
    "name": "ipython",
    "version": 3
   },
   "file_extension": ".py",
   "mimetype": "text/x-python",
   "name": "python",
   "nbconvert_exporter": "python",
   "pygments_lexer": "ipython3",
   "version": "3.8.10"
  },
  "orig_nbformat": 4,
  "vscode": {
   "interpreter": {
    "hash": "ea9ccb04e7308efcbefe4ed3ddff7336a57680ae622578d4fe4a2e3945390538"
   }
  }
 },
 "nbformat": 4,
 "nbformat_minor": 2
}
