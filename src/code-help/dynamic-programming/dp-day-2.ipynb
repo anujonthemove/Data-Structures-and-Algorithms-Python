{
 "cells": [
  {
   "attachments": {},
   "cell_type": "markdown",
   "metadata": {},
   "source": [
    "Count Ways To Reach The N-th Stairs - Coding Ninjas\n",
    "* https://www.codingninjas.com/codestudio/problems/count-ways-to-reach-nth-stairs_798650"
   ]
  },
  {
   "cell_type": "code",
   "execution_count": 1,
   "metadata": {},
   "outputs": [],
   "source": [
    "def solve(n_stairs, current_stair, dp):\n",
    "\n",
    "    # base case\n",
    "    if current_stair == n_stairs:\n",
    "        return 1\n",
    "\n",
    "    # if my current stair has exceeded\n",
    "    # the my n_stair\n",
    "    if current_stair > n_stairs:\n",
    "        return 0\n",
    "\n",
    "    # step-3: check if the value needed to be computed is already present in the dp array\n",
    "    if dp[current_stair] != -1:\n",
    "        return dp[current_stair]\n",
    "\n",
    "    # step-2: recursive case\n",
    "    dp[current_stair] = solve(n_stairs, current_stair + 1, dp) + solve(\n",
    "        n_stairs, current_stair + 2, dp\n",
    "    )\n",
    "\n",
    "    # recursive relation\n",
    "    return dp[current_stair]"
   ]
  },
  {
   "cell_type": "code",
   "execution_count": 2,
   "metadata": {},
   "outputs": [],
   "source": [
    "def count_ways(n_stairs):\n",
    "    # in this case we are building our solution from bottom to top\n",
    "    start_stair = 0\n",
    "    # step-1: creation of dp array\n",
    "    dp = [-1] * (n_stairs + 1)\n",
    "    ans = solve(n_stairs=n_stairs, current_stair=start_stair, dp=dp)\n",
    "\n",
    "    return ans"
   ]
  },
  {
   "cell_type": "code",
   "execution_count": 3,
   "metadata": {},
   "outputs": [
    {
     "name": "stdout",
     "output_type": "stream",
     "text": [
      "12586269025\n"
     ]
    }
   ],
   "source": [
    "n = 49\n",
    "ans = count_ways(n)\n",
    "print(ans)"
   ]
  },
  {
   "attachments": {},
   "cell_type": "markdown",
   "metadata": {},
   "source": [
    "#### 746. Min Cost Climbing Stairs - Leetcode\n",
    "\n",
    "* In the below approach, we can do more optimization just by calling only solve_recursion(cost, n-1) -> yet to understand why and how"
   ]
  },
  {
   "cell_type": "code",
   "execution_count": 4,
   "metadata": {},
   "outputs": [],
   "source": [
    "def solve_recursion(cost, n):\n",
    "\n",
    "    # base case\n",
    "    # if we are starting at 0th stair\n",
    "    # include the cost of 0th stair\n",
    "    if n == 0:\n",
    "        return cost[0]\n",
    "\n",
    "    # if at 1st stair, include the cost of 1st stair\n",
    "    if n == 1:\n",
    "        return cost[1]\n",
    "\n",
    "    # inside this function, we would either be at\n",
    "    # (n-1)th or (n-2)th stair so we need to include the cost\n",
    "    ans = cost[n] + min(solve_recursion(cost, n - 1), solve_recursion(cost, n - 2))\n",
    "    return ans"
   ]
  },
  {
   "cell_type": "code",
   "execution_count": 5,
   "metadata": {},
   "outputs": [],
   "source": [
    "def min_cost_climbing_stairs(cost):\n",
    "\n",
    "    n_stairs = len(cost)\n",
    "    # for the nth stair, we do not have to go further\n",
    "    # therefore we just calculate cost did we incur coming from\n",
    "    # either n-1 or n-2 stair (whichever was minimum)\n",
    "    # now we did this small amount of work assuming that we were either\n",
    "    # at or coming from n-1 or n-2\n",
    "\n",
    "    ans_nth = min(\n",
    "        solve_recursion(cost, n_stairs - 1), solve_recursion(cost, n_stairs - 2)\n",
    "    )\n",
    "    return ans_nth"
   ]
  },
  {
   "cell_type": "code",
   "execution_count": 6,
   "metadata": {},
   "outputs": [],
   "source": [
    "cost = [1, 100, 1, 1, 1, 100, 1, 1, 100, 1]"
   ]
  },
  {
   "cell_type": "code",
   "execution_count": 7,
   "metadata": {},
   "outputs": [
    {
     "data": {
      "text/plain": [
       "6"
      ]
     },
     "execution_count": 7,
     "metadata": {},
     "output_type": "execute_result"
    }
   ],
   "source": [
    "min_cost_climbing_stairs(cost)"
   ]
  },
  {
   "attachments": {},
   "cell_type": "markdown",
   "metadata": {},
   "source": [
    "Recursion + Memoization"
   ]
  },
  {
   "cell_type": "code",
   "execution_count": 8,
   "metadata": {},
   "outputs": [],
   "source": [
    "def solve_recursion_memo(cost, n, dp):\n",
    "\n",
    "    # base case\n",
    "    # if we are starting at 0th stair\n",
    "    # include the cost of 0th stair\n",
    "    if n == 0:\n",
    "        return cost[0]\n",
    "\n",
    "    # if at 1st stair, include the cost of 1st stair\n",
    "    if n == 1:\n",
    "        return cost[1]\n",
    "\n",
    "    if dp[n] != -1:\n",
    "        return dp[n]\n",
    "\n",
    "    # inside this function, we would either be at\n",
    "    # (n-1)th or (n-2)th stair so we need to include the cost\n",
    "    dp[n] = cost[n] + min(\n",
    "        solve_recursion_memo(cost, n - 1, dp), solve_recursion_memo(cost, n - 2, dp)\n",
    "    )\n",
    "    return dp[n]"
   ]
  },
  {
   "cell_type": "code",
   "execution_count": 9,
   "metadata": {},
   "outputs": [],
   "source": [
    "def min_cost_climbing_stairs_dp(cost):\n",
    "\n",
    "    n_stairs = len(cost)\n",
    "\n",
    "    # step-1: make dp array/table\n",
    "    dp = [-1] * (n_stairs + 1)\n",
    "    # for the nth stair, we do not have to go further\n",
    "    # therefore we just calculate cost did we incur coming from\n",
    "    # either n-1 or n-2 stair (whichever was minimum)\n",
    "    # now we did this small amount of work assuming that we were either\n",
    "    # at or coming from n-1 or n-2\n",
    "\n",
    "    ans_nth = min(\n",
    "        solve_recursion_memo(cost, n_stairs - 1, dp),\n",
    "        solve_recursion_memo(cost, n_stairs - 2, dp),\n",
    "    )\n",
    "    return ans_nth"
   ]
  },
  {
   "cell_type": "code",
   "execution_count": 10,
   "metadata": {},
   "outputs": [
    {
     "data": {
      "text/plain": [
       "6"
      ]
     },
     "execution_count": 10,
     "metadata": {},
     "output_type": "execute_result"
    }
   ],
   "source": [
    "min_cost_climbing_stairs_dp(cost)"
   ]
  },
  {
   "attachments": {},
   "cell_type": "markdown",
   "metadata": {},
   "source": [
    "Tabulation - Bottom-up DP"
   ]
  },
  {
   "cell_type": "code",
   "execution_count": 11,
   "metadata": {},
   "outputs": [],
   "source": [
    "def solve_tabulation(cost, n):\n",
    "\n",
    "    # step-1: make dp array\n",
    "    dp = [-1] * (n + 1)\n",
    "\n",
    "    # step-2: analyse base case - seed cases or known cases\n",
    "    dp[0] = cost[0]\n",
    "    dp[1] = cost[1]\n",
    "\n",
    "    for i in range(2, n):\n",
    "        dp[i] = cost[i] + min(dp[i - 1], dp[i - 2])\n",
    "\n",
    "    return min(dp[n - 1], dp[n - 2])"
   ]
  },
  {
   "cell_type": "code",
   "execution_count": 12,
   "metadata": {},
   "outputs": [],
   "source": [
    "def min_cost_climbing_stairs_tabulation(cost):\n",
    "\n",
    "    n_stairs = len(cost)\n",
    "    ans = solve_tabulation(cost, n_stairs)\n",
    "    return ans"
   ]
  },
  {
   "cell_type": "code",
   "execution_count": 13,
   "metadata": {},
   "outputs": [
    {
     "data": {
      "text/plain": [
       "6"
      ]
     },
     "execution_count": 13,
     "metadata": {},
     "output_type": "execute_result"
    }
   ],
   "source": [
    "min_cost_climbing_stairs_tabulation(cost)"
   ]
  },
  {
   "attachments": {},
   "cell_type": "markdown",
   "metadata": {},
   "source": [
    "Space Optimization"
   ]
  },
  {
   "cell_type": "code",
   "execution_count": 14,
   "metadata": {},
   "outputs": [],
   "source": [
    "def solve_space_opt(cost, n):\n",
    "\n",
    "    prev2 = cost[0]\n",
    "    prev1 = cost[1]\n",
    "\n",
    "    for i in range(2, n):\n",
    "        current = cost[i] + min(prev1, prev2)\n",
    "        prev2 = prev1\n",
    "        prev1 = current\n",
    "\n",
    "    return min(prev1, prev2)"
   ]
  },
  {
   "cell_type": "code",
   "execution_count": 15,
   "metadata": {},
   "outputs": [],
   "source": [
    "def min_cost_climbing_stairs_space_opt(cost):\n",
    "\n",
    "    n_stairs = len(cost)\n",
    "\n",
    "    ans = solve_space_opt(cost, n_stairs)\n",
    "\n",
    "    return ans"
   ]
  },
  {
   "cell_type": "code",
   "execution_count": 16,
   "metadata": {},
   "outputs": [
    {
     "data": {
      "text/plain": [
       "6"
      ]
     },
     "execution_count": 16,
     "metadata": {},
     "output_type": "execute_result"
    }
   ],
   "source": [
    "min_cost_climbing_stairs_space_opt(cost)"
   ]
  },
  {
   "cell_type": "code",
   "execution_count": null,
   "metadata": {},
   "outputs": [],
   "source": []
  }
 ],
 "metadata": {
  "kernelspec": {
   "display_name": ".venv",
   "language": "python",
   "name": "python3"
  },
  "language_info": {
   "codemirror_mode": {
    "name": "ipython",
    "version": 3
   },
   "file_extension": ".py",
   "mimetype": "text/x-python",
   "name": "python",
   "nbconvert_exporter": "python",
   "pygments_lexer": "ipython3",
   "version": "3.8.10 (default, Nov 14 2022, 12:59:47) \n[GCC 9.4.0]"
  },
  "orig_nbformat": 4,
  "vscode": {
   "interpreter": {
    "hash": "ea9ccb04e7308efcbefe4ed3ddff7336a57680ae622578d4fe4a2e3945390538"
   }
  }
 },
 "nbformat": 4,
 "nbformat_minor": 2
}
