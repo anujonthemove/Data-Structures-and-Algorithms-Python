{
 "cells": [
  {
   "cell_type": "markdown",
   "metadata": {},
   "source": [
    "#### Recursion Day-1: Code Help - by Love Babbar\n",
    "\n",
    "* YT link: https://www.youtube.com/watch?v=_-2u4EPHD88&list=PLDzeHZWIZsTqBmRGnsCOGNDG5FY0G04Td&ab_channel=CodeHelp-byBabbar"
   ]
  },
  {
   "cell_type": "code",
   "execution_count": 1,
   "metadata": {},
   "outputs": [],
   "source": [
    "# tail recursion\n",
    "def factorial(n):\n",
    "    # 1. define the base case\n",
    "    if n == 0:\n",
    "        # return is must\n",
    "        return 1\n",
    "\n",
    "    # 2. define the recurrence relation\n",
    "    smaller_problem = factorial(n - 1)\n",
    "    bigger_problem = n * smaller_problem\n",
    "\n",
    "    return bigger_problem"
   ]
  },
  {
   "cell_type": "code",
   "execution_count": 2,
   "metadata": {},
   "outputs": [
    {
     "data": {
      "text/plain": [
       "120"
      ]
     },
     "execution_count": 2,
     "metadata": {},
     "output_type": "execute_result"
    }
   ],
   "source": [
    "factorial(5)"
   ]
  },
  {
   "cell_type": "code",
   "execution_count": 3,
   "metadata": {},
   "outputs": [
    {
     "data": {
      "text/plain": [
       "24"
      ]
     },
     "execution_count": 3,
     "metadata": {},
     "output_type": "execute_result"
    }
   ],
   "source": [
    "factorial(4)"
   ]
  },
  {
   "cell_type": "code",
   "execution_count": 4,
   "metadata": {},
   "outputs": [],
   "source": [
    "# tail recursion\n",
    "def power_of_two(n):\n",
    "    # 1. define the base case\n",
    "    if n == 0:\n",
    "        return 1\n",
    "\n",
    "    # 2. define the recurrence relation\n",
    "    smaller_problem = power_of_two(n - 1)\n",
    "    bigger_problem = 2 * smaller_problem\n",
    "\n",
    "    return bigger_problem"
   ]
  },
  {
   "cell_type": "code",
   "execution_count": 5,
   "metadata": {},
   "outputs": [
    {
     "data": {
      "text/plain": [
       "8"
      ]
     },
     "execution_count": 5,
     "metadata": {},
     "output_type": "execute_result"
    }
   ],
   "source": [
    "power_of_two(3)"
   ]
  },
  {
   "cell_type": "code",
   "execution_count": 6,
   "metadata": {},
   "outputs": [
    {
     "data": {
      "text/plain": [
       "32"
      ]
     },
     "execution_count": 6,
     "metadata": {},
     "output_type": "execute_result"
    }
   ],
   "source": [
    "power_of_two(5)"
   ]
  },
  {
   "cell_type": "code",
   "execution_count": 7,
   "metadata": {},
   "outputs": [],
   "source": [
    "# tail recursion\n",
    "def print_numbers(n):\n",
    "    # 1. define the base case\n",
    "    if n == 0:\n",
    "        return\n",
    "\n",
    "    print(f\"number: {n}\")\n",
    "\n",
    "    # 2. define recurrence relation\n",
    "    print_numbers(n - 1)"
   ]
  },
  {
   "cell_type": "code",
   "execution_count": 8,
   "metadata": {},
   "outputs": [
    {
     "name": "stdout",
     "output_type": "stream",
     "text": [
      "number: 5\n",
      "number: 4\n",
      "number: 3\n",
      "number: 2\n",
      "number: 1\n"
     ]
    }
   ],
   "source": [
    "print_numbers(5)"
   ]
  }
 ],
 "metadata": {
  "kernelspec": {
   "display_name": "Python 3.8.10 ('.venv': pipenv)",
   "language": "python",
   "name": "python3"
  },
  "language_info": {
   "codemirror_mode": {
    "name": "ipython",
    "version": 3
   },
   "file_extension": ".py",
   "mimetype": "text/x-python",
   "name": "python",
   "nbconvert_exporter": "python",
   "pygments_lexer": "ipython3",
   "version": "3.8.10"
  },
  "orig_nbformat": 4,
  "vscode": {
   "interpreter": {
    "hash": "ea9ccb04e7308efcbefe4ed3ddff7336a57680ae622578d4fe4a2e3945390538"
   }
  }
 },
 "nbformat": 4,
 "nbformat_minor": 2
}
