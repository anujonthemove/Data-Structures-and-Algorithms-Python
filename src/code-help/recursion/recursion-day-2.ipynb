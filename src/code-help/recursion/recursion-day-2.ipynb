{
 "cells": [
  {
   "attachments": {},
   "cell_type": "markdown",
   "metadata": {},
   "source": [
    "#### Recursion Day-2: Code Help - by Love Babbar\n",
    "\n",
    "* YT link: https://www.youtube.com/watch?v=zg8Y1oE4qYQ&list=PLDzeHZWIZsTqBmRGnsCOGNDG5FY0G04Td&index=2&ab_channel=CodeHelp-byBabbar"
   ]
  },
  {
   "cell_type": "code",
   "execution_count": 4,
   "metadata": {},
   "outputs": [],
   "source": [
    "def fib(n):\n",
    "    # base case\n",
    "    if n == 0:\n",
    "        return 0\n",
    "\n",
    "    if n == 1:\n",
    "        return 1\n",
    "\n",
    "    # recurrence relation\n",
    "    ans = fib(n - 1) + fib(n - 2)\n",
    "\n",
    "    return ans"
   ]
  },
  {
   "cell_type": "code",
   "execution_count": 7,
   "metadata": {},
   "outputs": [
    {
     "data": {
      "text/plain": [
       "13"
      ]
     },
     "execution_count": 7,
     "metadata": {},
     "output_type": "execute_result"
    }
   ],
   "source": [
    "fib(7)"
   ]
  },
  {
   "cell_type": "markdown",
   "metadata": {},
   "source": [
    "#### Problem: Climb Stairs\n",
    "\n",
    "* https://www.codingninjas.com/codestudio/problem-details/count-ways-to-reach-nth-stairs_798650\n"
   ]
  },
  {
   "cell_type": "code",
   "execution_count": 8,
   "metadata": {},
   "outputs": [],
   "source": [
    "def climb_stairs(n):\n",
    "    # base case\n",
    "\n",
    "    # no such stair exists below level zero\n",
    "    # hence we return 0 for any value below 0\n",
    "    if n < 0:\n",
    "        return 0\n",
    "\n",
    "    # number of ways to reach stair 0 from stair 0\n",
    "    if n == 0:\n",
    "        return 1\n",
    "\n",
    "    # recurrence relation\n",
    "    ans = climb_stairs(n - 1) + climb_stairs(n - 2)\n",
    "\n",
    "    return ans"
   ]
  },
  {
   "cell_type": "code",
   "execution_count": 10,
   "metadata": {},
   "outputs": [
    {
     "data": {
      "text/plain": [
       "8"
      ]
     },
     "execution_count": 10,
     "metadata": {},
     "output_type": "execute_result"
    }
   ],
   "source": [
    "climb_stairs(5)"
   ]
  },
  {
   "cell_type": "code",
   "execution_count": 1,
   "metadata": {},
   "outputs": [],
   "source": [
    "mapping = {\n",
    "    0: \"zero\",\n",
    "    1: \"one\",\n",
    "    2: \"two\",\n",
    "    3: \"three\",\n",
    "    4: \"four\",\n",
    "    5: \"five\",\n",
    "    6: \"six\",\n",
    "    7: \"seven\",\n",
    "    8: \"eight\",\n",
    "    9: \"nine\",\n",
    "}"
   ]
  },
  {
   "cell_type": "code",
   "execution_count": 2,
   "metadata": {},
   "outputs": [],
   "source": [
    "def say_digit(n):\n",
    "\n",
    "    # base case\n",
    "    if n <= 0:\n",
    "        return\n",
    "\n",
    "    # processing\n",
    "    # we have taken 1 step\n",
    "    # rest of them recursion will solve\n",
    "    digit = n % 10\n",
    "    n = n // 10\n",
    "\n",
    "    # recursive call\n",
    "    say_digit(n)\n",
    "\n",
    "    print(mapping[digit])"
   ]
  },
  {
   "cell_type": "code",
   "execution_count": 3,
   "metadata": {},
   "outputs": [
    {
     "name": "stdout",
     "output_type": "stream",
     "text": [
      "512000\n",
      "51200\n",
      "5120\n",
      "512\n",
      "51\n",
      "5\n",
      "0\n",
      "five\n",
      "one\n",
      "two\n",
      "zero\n",
      "zero\n",
      "zero\n"
     ]
    }
   ],
   "source": [
    "n = 512000\n",
    "say_digit(n)"
   ]
  },
  {
   "cell_type": "code",
   "execution_count": null,
   "metadata": {},
   "outputs": [],
   "source": []
  },
  {
   "cell_type": "code",
   "execution_count": null,
   "metadata": {},
   "outputs": [],
   "source": []
  }
 ],
 "metadata": {
  "kernelspec": {
   "display_name": "Python 3.8.10 ('.venv': pipenv)",
   "language": "python",
   "name": "python3"
  },
  "language_info": {
   "codemirror_mode": {
    "name": "ipython",
    "version": 3
   },
   "file_extension": ".py",
   "mimetype": "text/x-python",
   "name": "python",
   "nbconvert_exporter": "python",
   "pygments_lexer": "ipython3",
   "version": "3.8.10 (default, Nov 14 2022, 12:59:47) \n[GCC 9.4.0]"
  },
  "orig_nbformat": 4,
  "vscode": {
   "interpreter": {
    "hash": "ea9ccb04e7308efcbefe4ed3ddff7336a57680ae622578d4fe4a2e3945390538"
   }
  }
 },
 "nbformat": 4,
 "nbformat_minor": 2
}
