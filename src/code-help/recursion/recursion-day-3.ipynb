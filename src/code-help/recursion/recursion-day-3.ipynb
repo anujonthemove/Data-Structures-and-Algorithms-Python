{
 "cells": [
  {
   "attachments": {},
   "cell_type": "markdown",
   "metadata": {},
   "source": [
    "#### Recursion Day-3: Code Help - by Love Babbar\n",
    "\n",
    "* YT link: https://www.youtube.com/watch?v=UntSI7G5h20&list=PLDzeHZWIZsTqBmRGnsCOGNDG5FY0G04Td&index=3&ab_channel=CodeHelp-byBabbar\n",
    "\n",
    "\n",
    "1. Check if a given array is sorted or not\n",
    "2. Given an array, give out the sum of all elements in this array\n",
    "3. Check if a given element is present in the array"
   ]
  },
  {
   "attachments": {},
   "cell_type": "markdown",
   "metadata": {},
   "source": [
    "#### 1. Check if array is sorted"
   ]
  },
  {
   "cell_type": "code",
   "execution_count": 1,
   "metadata": {},
   "outputs": [],
   "source": [
    "def is_sorted(arr, size):\n",
    "\n",
    "    # base case\n",
    "    if size == 0 or size == 1:\n",
    "        return True\n",
    "\n",
    "    # processing\n",
    "    if arr[0] > arr[1]:\n",
    "        return False\n",
    "\n",
    "    else:\n",
    "        # recursive relation\n",
    "        remaining = is_sorted(arr[1:], size - 1)\n",
    "        return remaining"
   ]
  },
  {
   "cell_type": "code",
   "execution_count": 2,
   "metadata": {},
   "outputs": [
    {
     "name": "stdout",
     "output_type": "stream",
     "text": [
      "True\n"
     ]
    }
   ],
   "source": [
    "arr = [2, 4, 6, 8, 10]\n",
    "ans = is_sorted(arr, len(arr))\n",
    "print(ans)"
   ]
  },
  {
   "attachments": {},
   "cell_type": "markdown",
   "metadata": {},
   "source": [
    "#### 2. Sum all elements in array using recursion"
   ]
  },
  {
   "cell_type": "code",
   "execution_count": 3,
   "metadata": {},
   "outputs": [],
   "source": [
    "def recursive_sum_elaborate(arr, size):\n",
    "\n",
    "    # base case - stop when size of array is 1\n",
    "\n",
    "    if size == 0:\n",
    "        return 0\n",
    "\n",
    "    if size == 1:\n",
    "        return arr[0]\n",
    "\n",
    "    # processing - work on a small problem\n",
    "\n",
    "    sum = 0 + arr[0]\n",
    "\n",
    "    # recursive case\n",
    "    remaining = recursive_sum_elaborate(arr[1:], size - 1)\n",
    "\n",
    "    sum = sum + remaining\n",
    "\n",
    "    return sum"
   ]
  },
  {
   "cell_type": "code",
   "execution_count": 4,
   "metadata": {},
   "outputs": [],
   "source": [
    "def recursive_sum(arr, size):\n",
    "\n",
    "    # base case\n",
    "    if size == 0:\n",
    "        return 0\n",
    "\n",
    "    if size == 1:\n",
    "        return arr[0]\n",
    "\n",
    "    # recursive case\n",
    "    return arr[0] + recursive_sum(arr[1:], size - 1)"
   ]
  },
  {
   "cell_type": "code",
   "execution_count": 5,
   "metadata": {},
   "outputs": [],
   "source": [
    "def recursive_sum_correct(arr, size):\n",
    "\n",
    "    if size == 0:\n",
    "        return 0\n",
    "\n",
    "    if size == 1:\n",
    "        return arr[0]\n",
    "\n",
    "    remaining = recursive_sum_correct(arr[1:], size - 1)\n",
    "    sum = arr[0] + remaining\n",
    "\n",
    "    return sum"
   ]
  },
  {
   "cell_type": "code",
   "execution_count": 6,
   "metadata": {},
   "outputs": [
    {
     "name": "stdout",
     "output_type": "stream",
     "text": [
      "15 15\n"
     ]
    }
   ],
   "source": [
    "arr = [1, 2, 3, 4, 5]\n",
    "ans1 = recursive_sum(arr, len(arr))\n",
    "ans2 = recursive_sum_elaborate(arr, len(arr))\n",
    "print(ans1, ans2)"
   ]
  },
  {
   "attachments": {},
   "cell_type": "markdown",
   "metadata": {},
   "source": [
    "#### 3. Check if a given element is present in the array"
   ]
  },
  {
   "cell_type": "code",
   "execution_count": 7,
   "metadata": {},
   "outputs": [],
   "source": [
    "def search(arr, size, key):\n",
    "\n",
    "    # base case\n",
    "    if size == 0:\n",
    "        return False\n",
    "\n",
    "    if key == arr[0]:\n",
    "        return True\n",
    "    else:\n",
    "        remaining = search(arr[1:], size - 1, key)\n",
    "\n",
    "    return remaining"
   ]
  },
  {
   "cell_type": "code",
   "execution_count": 8,
   "metadata": {},
   "outputs": [
    {
     "name": "stdout",
     "output_type": "stream",
     "text": [
      "True\n"
     ]
    }
   ],
   "source": [
    "arr = [3, 5, 1, 2, 6]\n",
    "ans = search(arr, len(arr), key=2)\n",
    "\n",
    "print(ans)"
   ]
  },
  {
   "attachments": {},
   "cell_type": "markdown",
   "metadata": {},
   "source": [
    "#### Binary Search"
   ]
  },
  {
   "cell_type": "code",
   "execution_count": 14,
   "metadata": {},
   "outputs": [],
   "source": [
    "def bs(arr, start, end, key):\n",
    "\n",
    "    # base case\n",
    "    if start > end:\n",
    "        return -1\n",
    "\n",
    "    mid = start + (end - start) // 2\n",
    "\n",
    "    if key == arr[mid]:\n",
    "        return mid\n",
    "\n",
    "    # if key is greater than mid\n",
    "    # search in the right half\n",
    "    if key > arr[mid]:\n",
    "        start = mid + 1\n",
    "        return bs(arr, start, end, key)\n",
    "\n",
    "    # if key is less than mid\n",
    "    # search in the left half\n",
    "    elif key < arr[mid]:\n",
    "        end = mid - 1\n",
    "        return bs(arr, start, end, key)"
   ]
  },
  {
   "cell_type": "code",
   "execution_count": 15,
   "metadata": {},
   "outputs": [
    {
     "name": "stdout",
     "output_type": "stream",
     "text": [
      "-1\n"
     ]
    }
   ],
   "source": [
    "arr = [2, 4, 6, 10, 14, 16]\n",
    "key = 1\n",
    "\n",
    "ans = bs(arr, start=0, end=len(arr) - 1, key=key)\n",
    "print(ans)"
   ]
  },
  {
   "cell_type": "code",
   "execution_count": null,
   "metadata": {},
   "outputs": [],
   "source": []
  }
 ],
 "metadata": {
  "kernelspec": {
   "display_name": ".venv",
   "language": "python",
   "name": "python3"
  },
  "language_info": {
   "codemirror_mode": {
    "name": "ipython",
    "version": 3
   },
   "file_extension": ".py",
   "mimetype": "text/x-python",
   "name": "python",
   "nbconvert_exporter": "python",
   "pygments_lexer": "ipython3",
   "version": "3.8.10"
  },
  "orig_nbformat": 4,
  "vscode": {
   "interpreter": {
    "hash": "ea9ccb04e7308efcbefe4ed3ddff7336a57680ae622578d4fe4a2e3945390538"
   }
  }
 },
 "nbformat": 4,
 "nbformat_minor": 2
}
