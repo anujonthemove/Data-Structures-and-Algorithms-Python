{
 "cells": [
  {
   "cell_type": "markdown",
   "metadata": {},
   "source": [
    "## Disjoint Set or Union Find optimized implementation\n",
    "\n",
    "\n",
    "#### References:\n",
    "\n",
    "1. https://www.techiedelight.com/disjoint-set-data-structure-union-find-algorithm/\n",
    "2. https://www.geeksforgeeks.org/disjoint-set-data-structures/"
   ]
  },
  {
   "cell_type": "code",
   "execution_count": 4,
   "metadata": {},
   "outputs": [],
   "source": [
    "class DisjointSets:\n",
    "    def __init__(self):\n",
    "        self.parent = {}\n",
    "        self.rank = {}\n",
    "\n",
    "    def make_set(self, universe):\n",
    "        for i in universe:\n",
    "            self.parent[i] = i\n",
    "            self.rank[i] = 0\n",
    "\n",
    "    def find_using_path_compression(self, k):\n",
    "        if self.parent[k] == k:\n",
    "            return k\n",
    "\n",
    "        else:\n",
    "            root = self.find_using_path_compression(self.parent[k])\n",
    "            self.parent[k] = root\n",
    "            return root\n",
    "\n",
    "    def union_by_rank(self, x, y):\n",
    "\n",
    "        x_root = self.find_using_path_compression(x)\n",
    "        y_root = self.find_using_path_compression(y)\n",
    "\n",
    "        if x_root == y_root:\n",
    "            return\n",
    "\n",
    "        if self.rank[x_root] > self.rank[y_root]:\n",
    "            self.parent[y_root] = x_root\n",
    "        elif self.rank[x_root] < self.rank[y_root]:\n",
    "            self.parent[x_root] = y_root\n",
    "        else:\n",
    "            self.parent[x_root] = y_root\n",
    "            self.rank[y_root] += 1\n",
    "\n",
    "    def print_sets(self, universe):\n",
    "        print([self.find_using_path_compression(i) for i in universe])"
   ]
  },
  {
   "cell_type": "code",
   "execution_count": 7,
   "metadata": {},
   "outputs": [
    {
     "name": "stdout",
     "output_type": "stream",
     "text": [
      "[1, 2, 3, 4, 5]\n",
      "[1, 2, 3, 3, 5]\n",
      "[1, 1, 3, 3, 5]\n"
     ]
    }
   ],
   "source": [
    "if __name__ == \"__main__\":\n",
    "\n",
    "    universe = [1, 2, 3, 4, 5]\n",
    "\n",
    "    ds = DisjointSets()\n",
    "\n",
    "    ds.make_set(universe)\n",
    "    ds.print_sets(universe)\n",
    "\n",
    "    ds.union_by_rank(4, 3)\n",
    "    ds.print_sets(universe)\n",
    "\n",
    "    ds.union_by_rank(2, 1)\n",
    "    ds.print_sets(universe)"
   ]
  },
  {
   "cell_type": "code",
   "execution_count": null,
   "metadata": {},
   "outputs": [],
   "source": []
  },
  {
   "cell_type": "code",
   "execution_count": null,
   "metadata": {},
   "outputs": [],
   "source": []
  }
 ],
 "metadata": {
  "kernelspec": {
   "display_name": "Python 3.8.10 ('.venv': pipenv)",
   "language": "python",
   "name": "python3"
  },
  "language_info": {
   "codemirror_mode": {
    "name": "ipython",
    "version": 3
   },
   "file_extension": ".py",
   "mimetype": "text/x-python",
   "name": "python",
   "nbconvert_exporter": "python",
   "pygments_lexer": "ipython3",
   "version": "3.8.10"
  },
  "orig_nbformat": 4,
  "vscode": {
   "interpreter": {
    "hash": "ea9ccb04e7308efcbefe4ed3ddff7336a57680ae622578d4fe4a2e3945390538"
   }
  }
 },
 "nbformat": 4,
 "nbformat_minor": 2
}
