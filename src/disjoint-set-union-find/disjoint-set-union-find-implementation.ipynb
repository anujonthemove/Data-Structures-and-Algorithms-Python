{
 "cells": [
  {
   "cell_type": "markdown",
   "metadata": {},
   "source": [
    "## Disjoint Set or Union Find implementation\n",
    "\n",
    "\n",
    "#### References:\n",
    "\n",
    "1. https://www.techiedelight.com/disjoint-set-data-structure-union-find-algorithm/\n",
    "2. https://www.geeksforgeeks.org/disjoint-set-data-structures/\n",
    "3. https://www.youtube.com/watch?v=eTaWFhPXPz4&ab_channel=TECHDOSE\n",
    "4. https://www.youtube.com/watch?v=ayW5B2W9hfo&t=8s&ab_channel=PotatoCoders\n",
    "5. https://www.youtube.com/watch?v=ibjEGG7ylHk&ab_channel=WilliamFiset\n"
   ]
  },
  {
   "cell_type": "code",
   "execution_count": 6,
   "metadata": {},
   "outputs": [],
   "source": [
    "class DisjointSet:\n",
    "    def __init__(self):\n",
    "        self.parent = {}\n",
    "\n",
    "    def make_set(self, universe):\n",
    "        \"\"\"\n",
    "        # create 'n' disjoint sets for each of the items\n",
    "        # here every element initially is pointing to itself\n",
    "        # so each element is a parent of itself\n",
    "\n",
    "        parent = { 1:1, 2:2, 3:3...}\n",
    "\n",
    "        \"\"\"\n",
    "\n",
    "        for i in universe:\n",
    "            self.parent[i] = i\n",
    "\n",
    "    def find(self, k):\n",
    "        \"\"\"\n",
    "        consider below array for example\n",
    "\n",
    "        Node:    1  2  3\n",
    "        Parent: [1, 1, 2]\n",
    "\n",
    "        \"\"\"\n",
    "        if self.parent[k] == k:\n",
    "            return k\n",
    "        return self.find(self.parent[k])\n",
    "\n",
    "    def union(self, x, y):\n",
    "\n",
    "        x_root = self.find(x)\n",
    "        y_root = self.find(y)\n",
    "\n",
    "        self.parent[x_root] = y_root\n",
    "\n",
    "    def print_set(self, universe):\n",
    "        print([self.find(i) for i in universe])"
   ]
  },
  {
   "cell_type": "code",
   "execution_count": 7,
   "metadata": {},
   "outputs": [],
   "source": [
    "universe = [1, 2, 3, 4, 5]"
   ]
  },
  {
   "cell_type": "code",
   "execution_count": 8,
   "metadata": {},
   "outputs": [],
   "source": [
    "ds = DisjointSet()"
   ]
  },
  {
   "cell_type": "code",
   "execution_count": 11,
   "metadata": {},
   "outputs": [
    {
     "name": "stdout",
     "output_type": "stream",
     "text": [
      "[1, 2, 3, 4, 5]\n"
     ]
    }
   ],
   "source": [
    "ds.make_set(universe)\n",
    "ds.print_set(universe)"
   ]
  },
  {
   "cell_type": "code",
   "execution_count": 12,
   "metadata": {},
   "outputs": [
    {
     "name": "stdout",
     "output_type": "stream",
     "text": [
      "[1, 2, 3, 3, 5]\n"
     ]
    }
   ],
   "source": [
    "ds.union(4, 3)\n",
    "ds.print_set(universe)"
   ]
  },
  {
   "cell_type": "code",
   "execution_count": 13,
   "metadata": {},
   "outputs": [
    {
     "name": "stdout",
     "output_type": "stream",
     "text": [
      "[1, 3, 3, 3, 5]\n"
     ]
    }
   ],
   "source": [
    "ds.union(2, 3)\n",
    "ds.print_set(universe)"
   ]
  },
  {
   "cell_type": "code",
   "execution_count": null,
   "metadata": {},
   "outputs": [],
   "source": []
  }
 ],
 "metadata": {
  "kernelspec": {
   "display_name": "Python 3.8.10 ('.venv': pipenv)",
   "language": "python",
   "name": "python3"
  },
  "language_info": {
   "codemirror_mode": {
    "name": "ipython",
    "version": 3
   },
   "file_extension": ".py",
   "mimetype": "text/x-python",
   "name": "python",
   "nbconvert_exporter": "python",
   "pygments_lexer": "ipython3",
   "version": "3.8.10"
  },
  "orig_nbformat": 4,
  "vscode": {
   "interpreter": {
    "hash": "ea9ccb04e7308efcbefe4ed3ddff7336a57680ae622578d4fe4a2e3945390538"
   }
  }
 },
 "nbformat": 4,
 "nbformat_minor": 2
}
