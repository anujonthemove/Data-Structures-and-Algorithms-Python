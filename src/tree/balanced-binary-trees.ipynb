{
 "cells": [
  {
   "cell_type": "markdown",
   "id": "aefe0491",
   "metadata": {},
   "source": [
    "### Balanced Binary Trees"
   ]
  },
  {
   "cell_type": "code",
   "execution_count": 1,
   "id": "61f8c363",
   "metadata": {},
   "outputs": [],
   "source": [
    "from utils.nodes import BinaryTreeNode as Node\n",
    "from utils.tree_properties import (\n",
    "    get_height,\n",
    "    get_height_concise,\n",
    "    is_balanced_naive,\n",
    "    is_balanced_optimized_driver,\n",
    ")"
   ]
  },
  {
   "cell_type": "code",
   "execution_count": 2,
   "id": "f01db9ab",
   "metadata": {},
   "outputs": [],
   "source": [
    "root = Node(1)\n",
    "\n",
    "root.left = Node(2)\n",
    "root.right = Node(3)\n",
    "\n",
    "root.left.left = Node(4)\n",
    "root.left.right = Node(5)\n",
    "\n",
    "# comment this node to balance\n",
    "root.left.left.left = Node(8)"
   ]
  },
  {
   "cell_type": "code",
   "execution_count": 3,
   "id": "a00e2962",
   "metadata": {},
   "outputs": [
    {
     "data": {
      "text/plain": [
       "4"
      ]
     },
     "execution_count": 3,
     "metadata": {},
     "output_type": "execute_result"
    }
   ],
   "source": [
    "get_height(root)"
   ]
  },
  {
   "cell_type": "code",
   "execution_count": 4,
   "id": "99b6a0fa",
   "metadata": {},
   "outputs": [
    {
     "data": {
      "text/plain": [
       "4"
      ]
     },
     "execution_count": 4,
     "metadata": {},
     "output_type": "execute_result"
    }
   ],
   "source": [
    "get_height_concise(root)"
   ]
  },
  {
   "cell_type": "code",
   "execution_count": 5,
   "id": "ff82123d",
   "metadata": {},
   "outputs": [
    {
     "data": {
      "text/plain": [
       "False"
      ]
     },
     "execution_count": 5,
     "metadata": {},
     "output_type": "execute_result"
    }
   ],
   "source": [
    "is_balanced_naive(root)"
   ]
  },
  {
   "cell_type": "code",
   "execution_count": 6,
   "id": "a1214e08",
   "metadata": {},
   "outputs": [
    {
     "name": "stdout",
     "output_type": "stream",
     "text": [
      "Tree is not balanced\n"
     ]
    }
   ],
   "source": [
    "is_balanced_optimized_driver(root)"
   ]
  },
  {
   "cell_type": "code",
   "execution_count": null,
   "id": "0a5c19af",
   "metadata": {},
   "outputs": [],
   "source": []
  },
  {
   "cell_type": "code",
   "execution_count": null,
   "id": "e064259e",
   "metadata": {},
   "outputs": [],
   "source": []
  }
 ],
 "metadata": {
  "kernelspec": {
   "display_name": "Python 3.8.10 ('.venv': pipenv)",
   "language": "python",
   "name": "python3"
  },
  "language_info": {
   "codemirror_mode": {
    "name": "ipython",
    "version": 3
   },
   "file_extension": ".py",
   "mimetype": "text/x-python",
   "name": "python",
   "nbconvert_exporter": "python",
   "pygments_lexer": "ipython3",
   "version": "3.8.10"
  },
  "vscode": {
   "interpreter": {
    "hash": "ea9ccb04e7308efcbefe4ed3ddff7336a57680ae622578d4fe4a2e3945390538"
   }
  }
 },
 "nbformat": 4,
 "nbformat_minor": 5
}
