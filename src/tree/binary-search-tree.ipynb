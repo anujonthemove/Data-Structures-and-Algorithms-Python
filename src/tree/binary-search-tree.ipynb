{
 "cells": [
  {
   "cell_type": "markdown",
   "metadata": {},
   "source": [
    "#### Binary Search Tree"
   ]
  },
  {
   "cell_type": "code",
   "execution_count": 7,
   "metadata": {},
   "outputs": [],
   "source": [
    "from utils.nodes import BinaryTreeNode as Node\n",
    "from utils.tree_traversal import TreeTraversal as tt"
   ]
  },
  {
   "cell_type": "markdown",
   "metadata": {},
   "source": [
    "##### Insertion\n",
    "\n",
    "* Steps\n",
    "    1. root is none, make a new node, assign to root and return\n",
    "    2. if root is not none then check for the following\n",
    "    3. if data is already present at the current root.data, return root\n",
    "    3. else if data is less than current root.data, insertion is to be done to the left. Create a new node and point root.left to it\n",
    "    4. similarly do this to right"
   ]
  },
  {
   "cell_type": "code",
   "execution_count": 8,
   "metadata": {},
   "outputs": [],
   "source": [
    "def insert(root, data):\n",
    "\n",
    "    # create a new node when there is none\n",
    "    if root is None:\n",
    "        root = Node(data)\n",
    "        return root\n",
    "    else:\n",
    "        if root.data == data:\n",
    "            return root\n",
    "        elif data < root.data:\n",
    "            root.left = insert(root.left, data)\n",
    "        else:\n",
    "            root.right = insert(root.right, data)\n",
    "\n",
    "    return root"
   ]
  },
  {
   "cell_type": "markdown",
   "metadata": {},
   "source": [
    "##### Deletion\n",
    "\n",
    "* Case\n",
    "    * Key to be deleted is a leaf\n",
    "        * Simply remove the leaf\n",
    "    * Key to be deleted is a node with one child(either left or right)\n",
    "        * Copy the child to this root.data and remove child  \n",
    "    * Key to be deleted is a node with 2 subtrees.\n",
    "        *  2 cases are possible therefore 2 trees are possible\n",
    "            * replace this node with it's largest in order predecessor\n",
    "\n",
    "            OR\n",
    "\n",
    "            * replace this node with it's smallest in order successor  "
   ]
  },
  {
   "cell_type": "code",
   "execution_count": 9,
   "metadata": {},
   "outputs": [],
   "source": [
    "def get_largest_inorder_predecessor(root):\n",
    "    current = root\n",
    "\n",
    "    while current.right is not None:\n",
    "        current = current.right\n",
    "\n",
    "    return current"
   ]
  },
  {
   "cell_type": "code",
   "execution_count": 10,
   "metadata": {},
   "outputs": [],
   "source": [
    "def get_smallest_inorder_successor(root):\n",
    "    temp = root\n",
    "    while temp.left is not None:\n",
    "        temp = temp.left\n",
    "    return temp"
   ]
  },
  {
   "cell_type": "code",
   "execution_count": 18,
   "metadata": {},
   "outputs": [],
   "source": [
    "def delete_node(root, item, successor_tree=True):\n",
    "\n",
    "    # base case\n",
    "    if root is None:\n",
    "        return root\n",
    "\n",
    "    # if item is in left sub tree\n",
    "    if item < root.data:\n",
    "        root.left = delete_node(root.left, item)\n",
    "\n",
    "    # if item is in right sub tree\n",
    "    elif item > root.data:\n",
    "        root.right = delete_node(root.right, item)\n",
    "    else:\n",
    "        if root.left is None:\n",
    "            temp = root.right\n",
    "            root = None\n",
    "            return temp\n",
    "\n",
    "        elif root.right is None:\n",
    "            temp = root.left\n",
    "            root = None\n",
    "            return temp\n",
    "\n",
    "        if successor_tree:\n",
    "            successor = get_smallest_inorder_successor(root.right)\n",
    "            root.data = successor.data\n",
    "            root.right = delete_node(root.right, successor.data)\n",
    "        else:\n",
    "            predecessor = get_largest_inorder_predecessor(root.left)\n",
    "            root.data = predecessor.data\n",
    "            root.left = delete_node(root.left, predecessor.data)\n",
    "\n",
    "    return root"
   ]
  },
  {
   "cell_type": "code",
   "execution_count": 24,
   "metadata": {},
   "outputs": [],
   "source": [
    "root = None\n",
    "root = insert(root, 8)\n",
    "root = insert(root, 3)\n",
    "root = insert(root, 1)\n",
    "root = insert(root, 6)\n",
    "root = insert(root, 7)\n",
    "root = insert(root, 10)\n",
    "root = insert(root, 14)\n",
    "root = insert(root, 4)"
   ]
  },
  {
   "cell_type": "code",
   "execution_count": 25,
   "metadata": {},
   "outputs": [
    {
     "name": "stdout",
     "output_type": "stream",
     "text": [
      "1\n",
      "3\n",
      "4\n",
      "6\n",
      "7\n",
      "8\n",
      "10\n",
      "14\n"
     ]
    }
   ],
   "source": [
    "tt.traverse_inorder(root)"
   ]
  },
  {
   "cell_type": "code",
   "execution_count": 26,
   "metadata": {},
   "outputs": [
    {
     "name": "stdout",
     "output_type": "stream",
     "text": [
      "came here: 14\n"
     ]
    }
   ],
   "source": [
    "root = delete_node(root, 14)"
   ]
  },
  {
   "cell_type": "code",
   "execution_count": 22,
   "metadata": {},
   "outputs": [
    {
     "name": "stdout",
     "output_type": "stream",
     "text": [
      "1\n",
      "3\n",
      "4\n",
      "6\n",
      "7\n",
      "8\n",
      "14\n"
     ]
    }
   ],
   "source": [
    "tt.traverse_inorder(root)"
   ]
  },
  {
   "cell_type": "code",
   "execution_count": 23,
   "metadata": {},
   "outputs": [
    {
     "name": "stdout",
     "output_type": "stream",
     "text": [
      "came here: 7\n"
     ]
    }
   ],
   "source": [
    "root = delete_node(root, 6)"
   ]
  },
  {
   "cell_type": "code",
   "execution_count": 17,
   "metadata": {},
   "outputs": [
    {
     "name": "stdout",
     "output_type": "stream",
     "text": [
      "1\n",
      "3\n",
      "4\n",
      "7\n",
      "8\n",
      "10\n",
      "14\n"
     ]
    }
   ],
   "source": [
    "tt.traverse_inorder(root)"
   ]
  },
  {
   "cell_type": "code",
   "execution_count": null,
   "metadata": {},
   "outputs": [],
   "source": []
  }
 ],
 "metadata": {
  "kernelspec": {
   "display_name": "Python 3.8.10 ('.venv': pipenv)",
   "language": "python",
   "name": "python3"
  },
  "language_info": {
   "codemirror_mode": {
    "name": "ipython",
    "version": 3
   },
   "file_extension": ".py",
   "mimetype": "text/x-python",
   "name": "python",
   "nbconvert_exporter": "python",
   "pygments_lexer": "ipython3",
   "version": "3.8.10"
  },
  "orig_nbformat": 4,
  "vscode": {
   "interpreter": {
    "hash": "ea9ccb04e7308efcbefe4ed3ddff7336a57680ae622578d4fe4a2e3945390538"
   }
  }
 },
 "nbformat": 4,
 "nbformat_minor": 2
}
