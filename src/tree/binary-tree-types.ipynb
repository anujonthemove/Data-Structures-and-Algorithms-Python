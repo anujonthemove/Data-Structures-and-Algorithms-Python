{
 "cells": [
  {
   "cell_type": "markdown",
   "metadata": {},
   "source": [
    "## Binary Tree Types\n",
    "\n",
    "1. Full or Proper Binary Tree: https://www.programiz.com/dsa/full-binary-tree\n",
    "2. Perfect Binary Tree: https://www.programiz.com/dsa/perfect-binary-tree\n",
    "3. Complete Binary Tree: https://www.programiz.com/dsa/complete-binary-tree"
   ]
  },
  {
   "cell_type": "code",
   "execution_count": 1,
   "metadata": {},
   "outputs": [],
   "source": [
    "from utils.nodes import BinaryTreeNode as Node\n",
    "from utils.tree_traversal import TreeTraversal as tt\n",
    "from utils.tree_type_check import TreeTypeCheck as tc\n",
    "from utils.tree_properties import count_nodes, calculate_depth, get_height"
   ]
  },
  {
   "cell_type": "markdown",
   "metadata": {},
   "source": [
    "### 1. Full or Proper Binary Tree"
   ]
  },
  {
   "cell_type": "code",
   "execution_count": null,
   "metadata": {},
   "outputs": [],
   "source": [
    "class FullBinaryTree(Node):\n",
    "    pass"
   ]
  },
  {
   "cell_type": "code",
   "execution_count": null,
   "metadata": {},
   "outputs": [],
   "source": [
    "root = FullBinaryTree(1)"
   ]
  },
  {
   "cell_type": "code",
   "execution_count": null,
   "metadata": {},
   "outputs": [],
   "source": [
    "root.left = Node(2)\n",
    "root.right = Node(3)\n",
    "\n",
    "root.left.left = Node(4)\n",
    "root.left.right = Node(5)\n",
    "\n",
    "root.left.right.left = Node(6)\n",
    "root.left.right.right = Node(7)\n",
    "\n",
    "# uncomment to get an imperfect tree\n",
    "# root.left.right.right.left = Node(10)"
   ]
  },
  {
   "cell_type": "code",
   "execution_count": null,
   "metadata": {},
   "outputs": [],
   "source": [
    "tt.traverse_preorder(root)"
   ]
  },
  {
   "cell_type": "code",
   "execution_count": null,
   "metadata": {},
   "outputs": [],
   "source": [
    "tc.is_full_tree(root)"
   ]
  },
  {
   "cell_type": "markdown",
   "metadata": {},
   "source": [
    "### 2. Perfect Binary Tree"
   ]
  },
  {
   "cell_type": "code",
   "execution_count": null,
   "metadata": {},
   "outputs": [],
   "source": [
    "class PerfectBinaryTree(Node):\n",
    "    pass"
   ]
  },
  {
   "cell_type": "code",
   "execution_count": null,
   "metadata": {},
   "outputs": [],
   "source": [
    "root = PerfectBinaryTree(1)\n",
    "root.left = Node(2)\n",
    "root.right = Node(3)\n",
    "\n",
    "root.left.left = Node(4)\n",
    "root.left.right = Node(5)\n",
    "\n",
    "root.right.left = Node(6)\n",
    "root.right.right = Node(7)"
   ]
  },
  {
   "cell_type": "code",
   "execution_count": null,
   "metadata": {},
   "outputs": [],
   "source": [
    "calculate_depth(root)"
   ]
  },
  {
   "cell_type": "code",
   "execution_count": null,
   "metadata": {},
   "outputs": [],
   "source": [
    "count_nodes(root)"
   ]
  },
  {
   "cell_type": "code",
   "execution_count": null,
   "metadata": {},
   "outputs": [],
   "source": [
    "tc.is_perfect_using_depth(root, calculate_depth(root))"
   ]
  },
  {
   "cell_type": "code",
   "execution_count": null,
   "metadata": {},
   "outputs": [],
   "source": [
    "count_nodes(root)"
   ]
  },
  {
   "cell_type": "code",
   "execution_count": null,
   "metadata": {},
   "outputs": [],
   "source": [
    "tc.is_perfect_using_node_count(root)"
   ]
  },
  {
   "cell_type": "markdown",
   "metadata": {},
   "source": [
    "### 3. Complete Binary Tree"
   ]
  },
  {
   "cell_type": "code",
   "execution_count": 2,
   "metadata": {},
   "outputs": [],
   "source": [
    "class CompleteBinaryTree(Node):\n",
    "    pass"
   ]
  },
  {
   "cell_type": "code",
   "execution_count": 3,
   "metadata": {},
   "outputs": [],
   "source": [
    "root = CompleteBinaryTree(1)\n",
    "\n",
    "root.left = Node(12)\n",
    "root.right = Node(9)\n",
    "\n",
    "root.left.left = Node(5)\n",
    "root.left.right = Node(6)\n",
    "\n",
    "root.right.left = Node(10)"
   ]
  },
  {
   "cell_type": "code",
   "execution_count": 4,
   "metadata": {},
   "outputs": [
    {
     "data": {
      "text/plain": [
       "True"
      ]
     },
     "execution_count": 4,
     "metadata": {},
     "output_type": "execute_result"
    }
   ],
   "source": [
    "index = 0\n",
    "num_nodes = count_nodes(root)\n",
    "tc.is_complete(root, index, num_nodes)"
   ]
  },
  {
   "cell_type": "markdown",
   "metadata": {},
   "source": [
    "#### Level Order Traversal"
   ]
  },
  {
   "cell_type": "code",
   "execution_count": 5,
   "metadata": {},
   "outputs": [
    {
     "name": "stdout",
     "output_type": "stream",
     "text": [
      "1\n",
      "12\n",
      "9\n",
      "5\n",
      "6\n",
      "10\n"
     ]
    }
   ],
   "source": [
    "tt.print_level_order_traversal_recursive(root)"
   ]
  },
  {
   "cell_type": "code",
   "execution_count": 6,
   "metadata": {},
   "outputs": [
    {
     "data": {
      "text/plain": [
       "[1, 12, 9, 5, 6, 10]"
      ]
     },
     "execution_count": 6,
     "metadata": {},
     "output_type": "execute_result"
    }
   ],
   "source": [
    "tt.level_order_traversal_iterative(root)"
   ]
  },
  {
   "cell_type": "code",
   "execution_count": null,
   "metadata": {},
   "outputs": [],
   "source": []
  }
 ],
 "metadata": {
  "kernelspec": {
   "display_name": "Python 3.8.10 ('.venv': pipenv)",
   "language": "python",
   "name": "python3"
  },
  "language_info": {
   "codemirror_mode": {
    "name": "ipython",
    "version": 3
   },
   "file_extension": ".py",
   "mimetype": "text/x-python",
   "name": "python",
   "nbconvert_exporter": "python",
   "pygments_lexer": "ipython3",
   "version": "3.8.10"
  },
  "orig_nbformat": 4,
  "vscode": {
   "interpreter": {
    "hash": "ea9ccb04e7308efcbefe4ed3ddff7336a57680ae622578d4fe4a2e3945390538"
   }
  }
 },
 "nbformat": 4,
 "nbformat_minor": 2
}
