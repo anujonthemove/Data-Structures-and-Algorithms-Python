{
 "cells": [
  {
   "cell_type": "markdown",
   "id": "8ee7b50e",
   "metadata": {},
   "source": [
    "## Simple Binary Tree using Recursion"
   ]
  },
  {
   "cell_type": "code",
   "execution_count": 1,
   "id": "768183a9",
   "metadata": {},
   "outputs": [],
   "source": [
    "from utils.nodes import BinaryTreeNode as Node\n",
    "from utils.tree_traversal import TreeTraversal as tt"
   ]
  },
  {
   "cell_type": "code",
   "execution_count": 2,
   "id": "14dc628d",
   "metadata": {},
   "outputs": [],
   "source": [
    "def create():\n",
    "\n",
    "    print(\"Enter data (-1 for no data): \")\n",
    "    data = int(input())\n",
    "    if data == -1:\n",
    "        return None\n",
    "    node = Node(data)\n",
    "\n",
    "    print(f\"Enter left child for: {data}\")\n",
    "    node.left = create()\n",
    "\n",
    "    print(f\"Enter right child for: {data} \")\n",
    "    node.right = create()\n",
    "\n",
    "    return node"
   ]
  },
  {
   "cell_type": "code",
   "execution_count": 7,
   "id": "a2a02010",
   "metadata": {},
   "outputs": [
    {
     "name": "stdout",
     "output_type": "stream",
     "text": [
      "Enter data (-1 for no data): \n",
      "1\n",
      "Enter left child for: 1\n",
      "Enter data (-1 for no data): \n",
      "2\n",
      "Enter left child for: 2\n",
      "Enter data (-1 for no data): \n",
      "3\n",
      "Enter left child for: 3\n",
      "Enter data (-1 for no data): \n",
      "-1\n",
      "Enter right child for: 3 \n",
      "Enter data (-1 for no data): \n",
      "-1\n",
      "Enter right child for: 2 \n",
      "Enter data (-1 for no data): \n",
      "4\n",
      "Enter left child for: 4\n",
      "Enter data (-1 for no data): \n",
      "5\n",
      "Enter left child for: 5\n",
      "Enter data (-1 for no data): \n",
      "-1\n",
      "Enter right child for: 5 \n",
      "Enter data (-1 for no data): \n",
      "-1\n",
      "Enter right child for: 4 \n",
      "Enter data (-1 for no data): \n",
      "-1\n",
      "Enter right child for: 1 \n",
      "Enter data (-1 for no data): \n",
      "6\n",
      "Enter left child for: 6\n",
      "Enter data (-1 for no data): \n",
      "7\n",
      "Enter left child for: 7\n",
      "Enter data (-1 for no data): \n",
      "-1\n",
      "Enter right child for: 7 \n",
      "Enter data (-1 for no data): \n",
      "-1\n",
      "Enter right child for: 6 \n",
      "Enter data (-1 for no data): \n",
      "8\n",
      "Enter left child for: 8\n",
      "Enter data (-1 for no data): \n",
      "-1\n",
      "Enter right child for: 8 \n",
      "Enter data (-1 for no data): \n",
      "-1\n"
     ]
    }
   ],
   "source": [
    "root = create()"
   ]
  },
  {
   "cell_type": "code",
   "execution_count": 11,
   "id": "7b9a8b58",
   "metadata": {},
   "outputs": [
    {
     "name": "stdout",
     "output_type": "stream",
     "text": [
      "1\n",
      "2\n",
      "3\n",
      "4\n",
      "5\n",
      "6\n",
      "7\n",
      "8\n"
     ]
    }
   ],
   "source": [
    "tt.traverse_preorder(root)"
   ]
  },
  {
   "cell_type": "code",
   "execution_count": 12,
   "id": "d41b83ca",
   "metadata": {},
   "outputs": [
    {
     "name": "stdout",
     "output_type": "stream",
     "text": [
      "3\n",
      "5\n",
      "4\n",
      "2\n",
      "7\n",
      "8\n",
      "6\n",
      "1\n"
     ]
    }
   ],
   "source": [
    "tt.traverse_postorder(root)"
   ]
  },
  {
   "cell_type": "code",
   "execution_count": 13,
   "id": "48c31846",
   "metadata": {},
   "outputs": [
    {
     "name": "stdout",
     "output_type": "stream",
     "text": [
      "3\n",
      "2\n",
      "5\n",
      "4\n",
      "1\n",
      "7\n",
      "6\n",
      "8\n"
     ]
    }
   ],
   "source": [
    "tt.traverse_inorder(root)"
   ]
  },
  {
   "cell_type": "code",
   "execution_count": null,
   "id": "0a6a29b6",
   "metadata": {},
   "outputs": [],
   "source": []
  }
 ],
 "metadata": {
  "kernelspec": {
   "display_name": "Python 3 (ipykernel)",
   "language": "python",
   "name": "python3"
  },
  "language_info": {
   "codemirror_mode": {
    "name": "ipython",
    "version": 3
   },
   "file_extension": ".py",
   "mimetype": "text/x-python",
   "name": "python",
   "nbconvert_exporter": "python",
   "pygments_lexer": "ipython3",
   "version": "3.8.10"
  },
  "vscode": {
   "interpreter": {
    "hash": "ea9ccb04e7308efcbefe4ed3ddff7336a57680ae622578d4fe4a2e3945390538"
   }
  }
 },
 "nbformat": 4,
 "nbformat_minor": 5
}
