{
 "cells": [
  {
   "cell_type": "markdown",
   "id": "4cd7a507",
   "metadata": {},
   "source": [
    "## Simple Binary Tree Explicit node addition\n",
    "* Elements/nodes are created explicitly\n",
    "\n",
    "#### Reference:\n",
    "* https://www.programiz.com/dsa/binary-tree"
   ]
  },
  {
   "cell_type": "code",
   "execution_count": 1,
   "id": "fd376dac",
   "metadata": {},
   "outputs": [],
   "source": [
    "from utils.nodes import BinaryTreeNode as Node\n",
    "from utils.tree_traversal import TreeTraversal as tt"
   ]
  },
  {
   "cell_type": "code",
   "execution_count": 2,
   "id": "96ade67b",
   "metadata": {},
   "outputs": [],
   "source": [
    "# Inherited base BinaryTreeNode class\n",
    "# just for clarity but not required\n",
    "class BinaryTree(Node):\n",
    "    pass"
   ]
  },
  {
   "cell_type": "code",
   "execution_count": 3,
   "id": "1641fad8",
   "metadata": {},
   "outputs": [],
   "source": [
    "root = BinaryTree(1)\n",
    "root.left = Node(2)\n",
    "root.left.left = Node(3)\n",
    "root.left.right = Node(4)\n",
    "root.left.right.left = Node(5)\n",
    "\n",
    "root.right = Node(6)\n",
    "root.right.left = Node(7)\n",
    "root.right.right = Node(8)"
   ]
  },
  {
   "cell_type": "code",
   "execution_count": 4,
   "id": "24decc89",
   "metadata": {},
   "outputs": [
    {
     "name": "stdout",
     "output_type": "stream",
     "text": [
      "1\n",
      "2\n",
      "3\n",
      "4\n",
      "5\n",
      "6\n",
      "7\n",
      "8\n"
     ]
    }
   ],
   "source": [
    "tt.traverse_preorder(root)"
   ]
  },
  {
   "cell_type": "code",
   "execution_count": 5,
   "id": "ef464d41",
   "metadata": {},
   "outputs": [
    {
     "name": "stdout",
     "output_type": "stream",
     "text": [
      "3\n",
      "2\n",
      "5\n",
      "4\n",
      "1\n",
      "7\n",
      "6\n",
      "8\n"
     ]
    }
   ],
   "source": [
    "tt.traverse_inorder(root)"
   ]
  },
  {
   "cell_type": "code",
   "execution_count": 6,
   "id": "96492322",
   "metadata": {},
   "outputs": [
    {
     "name": "stdout",
     "output_type": "stream",
     "text": [
      "3\n",
      "5\n",
      "4\n",
      "2\n",
      "7\n",
      "8\n",
      "6\n",
      "1\n"
     ]
    }
   ],
   "source": [
    "tt.traverse_postorder(root)"
   ]
  },
  {
   "cell_type": "code",
   "execution_count": null,
   "id": "7e5463ef",
   "metadata": {},
   "outputs": [],
   "source": []
  }
 ],
 "metadata": {
  "kernelspec": {
   "display_name": "Python 3.8.10 ('.venv': pipenv)",
   "language": "python",
   "name": "python3"
  },
  "language_info": {
   "codemirror_mode": {
    "name": "ipython",
    "version": 3
   },
   "file_extension": ".py",
   "mimetype": "text/x-python",
   "name": "python",
   "nbconvert_exporter": "python",
   "pygments_lexer": "ipython3",
   "version": "3.8.10"
  },
  "vscode": {
   "interpreter": {
    "hash": "ea9ccb04e7308efcbefe4ed3ddff7336a57680ae622578d4fe4a2e3945390538"
   }
  }
 },
 "nbformat": 4,
 "nbformat_minor": 5
}
