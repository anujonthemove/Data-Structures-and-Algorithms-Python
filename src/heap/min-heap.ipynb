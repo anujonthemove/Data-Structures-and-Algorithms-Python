{
 "cells": [
  {
   "cell_type": "markdown",
   "metadata": {},
   "source": [
    "### Main Heap\n",
    "\n",
    "#### References:\n",
    "1. https://favtutor.com/blogs/heap-in-python\n",
    "\n",
    "\n",
    "\n",
    "To-do:\n",
    "1. One more way of implementing this is keep inserting into a list and at the end call build heap function\n",
    "2. correct print_heap\n",
    "3. implement delete node"
   ]
  },
  {
   "cell_type": "code",
   "execution_count": 1,
   "metadata": {},
   "outputs": [],
   "source": [
    "from typing import List"
   ]
  },
  {
   "cell_type": "code",
   "execution_count": 8,
   "metadata": {},
   "outputs": [],
   "source": [
    "class MinHeap:\n",
    "    def __init__(self, arr: List) -> None:\n",
    "        self.heap = arr\n",
    "        self.size = len(self.heap)\n",
    "\n",
    "    def min_heapify(self, i):\n",
    "        # print(\"came\")\n",
    "        smallest = i\n",
    "\n",
    "        left_child_idx = (2 * i) + 1\n",
    "        right_child_idx = (2 * i) + 2\n",
    "\n",
    "        if left_child_idx < self.size and self.heap[left_child_idx] < self.heap[i]:\n",
    "            smallest = left_child_idx\n",
    "        else:\n",
    "            smallest = i\n",
    "\n",
    "        if (\n",
    "            right_child_idx < self.size\n",
    "            and self.heap[right_child_idx] < self.heap[smallest]\n",
    "        ):\n",
    "            smallest = right_child_idx\n",
    "\n",
    "        if smallest != i:\n",
    "            self.heap[i], self.heap[smallest] = self.heap[smallest], self.heap[i]\n",
    "            self.min_heapify(smallest)\n",
    "\n",
    "    def build_heap(self):\n",
    "\n",
    "        for i in range((self.size // 2) - 1, -1, -1):\n",
    "            self.min_heapify(i)"
   ]
  },
  {
   "cell_type": "code",
   "execution_count": 17,
   "metadata": {},
   "outputs": [],
   "source": [
    "arr = list(reversed(range(10)))\n",
    "arr = [3, 9, 2, 1, 4, 5]\n",
    "heap = MinHeap(arr)\n",
    "\n",
    "heap.build_heap()"
   ]
  },
  {
   "cell_type": "code",
   "execution_count": 18,
   "metadata": {},
   "outputs": [
    {
     "data": {
      "text/plain": [
       "[1, 3, 2, 9, 4, 5]"
      ]
     },
     "execution_count": 18,
     "metadata": {},
     "output_type": "execute_result"
    }
   ],
   "source": [
    "heap.heap"
   ]
  },
  {
   "cell_type": "code",
   "execution_count": 16,
   "metadata": {},
   "outputs": [
    {
     "name": "stdout",
     "output_type": "stream",
     "text": [
      "[1, 3, 2, 9, 4, 5]\n"
     ]
    }
   ],
   "source": [
    "import heapq\n",
    "\n",
    "lst = [8, 6, 7, 4, 1, 0, 3, 2]\n",
    "lst = [3, 9, 2, 1, 4, 5]\n",
    "# lst = list(range(10))\n",
    "heapq.heapify(lst)\n",
    "print(lst)"
   ]
  },
  {
   "cell_type": "code",
   "execution_count": null,
   "metadata": {},
   "outputs": [],
   "source": []
  }
 ],
 "metadata": {
  "kernelspec": {
   "display_name": "Python 3.8.10 ('.venv': pipenv)",
   "language": "python",
   "name": "python3"
  },
  "language_info": {
   "codemirror_mode": {
    "name": "ipython",
    "version": 3
   },
   "file_extension": ".py",
   "mimetype": "text/x-python",
   "name": "python",
   "nbconvert_exporter": "python",
   "pygments_lexer": "ipython3",
   "version": "3.8.10"
  },
  "orig_nbformat": 4,
  "vscode": {
   "interpreter": {
    "hash": "ea9ccb04e7308efcbefe4ed3ddff7336a57680ae622578d4fe4a2e3945390538"
   }
  }
 },
 "nbformat": 4,
 "nbformat_minor": 2
}
