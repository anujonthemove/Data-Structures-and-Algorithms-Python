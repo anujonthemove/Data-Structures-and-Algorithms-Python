{
 "cells": [
  {
   "cell_type": "code",
   "execution_count": 1,
   "id": "2ce6962e",
   "metadata": {},
   "outputs": [],
   "source": [
    "expression1 = \"a b + e f / *\"\n",
    "expression1 = expression1.split()"
   ]
  },
  {
   "cell_type": "code",
   "execution_count": 2,
   "id": "fbf39d24",
   "metadata": {},
   "outputs": [],
   "source": [
    "def postfix_to_infx(expression):\n",
    "    operator = [\"+\", \"-\", \"*\", \"/\", \"^\"]\n",
    "    stack = []\n",
    "    for i in expression:\n",
    "        if i in operator:\n",
    "            a = stack.pop()\n",
    "            b = stack.pop()\n",
    "            exp = b + i + a\n",
    "            stack.append(exp)\n",
    "        else:\n",
    "            stack.append(i)\n",
    "    print(stack)"
   ]
  },
  {
   "cell_type": "code",
   "execution_count": 3,
   "id": "0d4245ad",
   "metadata": {},
   "outputs": [
    {
     "name": "stdout",
     "output_type": "stream",
     "text": [
      "['a+b*e/f']\n"
     ]
    }
   ],
   "source": [
    "postfix_to_infx(expression1)"
   ]
  },
  {
   "cell_type": "code",
   "execution_count": null,
   "id": "70f07057",
   "metadata": {},
   "outputs": [],
   "source": []
  }
 ],
 "metadata": {
  "kernelspec": {
   "display_name": ".venv",
   "language": "python",
   "name": "python3"
  },
  "language_info": {
   "codemirror_mode": {
    "name": "ipython",
    "version": 3
   },
   "file_extension": ".py",
   "mimetype": "text/x-python",
   "name": "python",
   "nbconvert_exporter": "python",
   "pygments_lexer": "ipython3",
   "version": "3.8.10"
  },
  "vscode": {
   "interpreter": {
    "hash": "ea9ccb04e7308efcbefe4ed3ddff7336a57680ae622578d4fe4a2e3945390538"
   }
  }
 },
 "nbformat": 4,
 "nbformat_minor": 5
}
