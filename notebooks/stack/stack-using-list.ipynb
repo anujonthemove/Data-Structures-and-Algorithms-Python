{
 "cells": [
  {
   "cell_type": "code",
   "execution_count": 1,
   "id": "386b4062",
   "metadata": {},
   "outputs": [],
   "source": [
    "class Stack:\n",
    "    def __init__(self):\n",
    "        self.items = []\n",
    "        self.__top = -1\n",
    "\n",
    "    def is_empty(self):\n",
    "        return self.__top == -1\n",
    "        # return len(self.items) == 0\n",
    "        # return self.items == []\n",
    "\n",
    "    def peek(self):\n",
    "        if self.is_empty():\n",
    "            print(\"Stack is empty, nothing to peek()\")\n",
    "        else:\n",
    "            print(\"<Element: %s>\" % self.items[-1])\n",
    "\n",
    "    def __repr__(self):\n",
    "        items = []\n",
    "\n",
    "        for i in range(len(self.items) - 1, 0, -1):\n",
    "            if i == self.__top:\n",
    "                items.append(\"[Top: %s]\" % self.items[i])\n",
    "            else:\n",
    "                items.append(\"[%s]\" % self.items[i])\n",
    "\n",
    "        return \", \".join(items)\n",
    "\n",
    "    def __iter__(self):\n",
    "        for i in range(len(self.items) - 1, 0, -1):\n",
    "            yield self.items[i]\n",
    "\n",
    "    def __len__(self):\n",
    "        return len(self.items)\n",
    "\n",
    "    def push(self, data):\n",
    "        print(\"Inserting: {} into the stack\".format(data))\n",
    "        self.items.append(data)\n",
    "        self.__top += 1\n",
    "\n",
    "    def pop(self):\n",
    "        if self.is_empty():\n",
    "            print(\"Stack is empty, nothing to pop()\")\n",
    "        else:\n",
    "            data = self.items.pop()\n",
    "            print(\"Removing: {} from top of the stack\".format(data))\n",
    "            self.__top -= 1"
   ]
  },
  {
   "cell_type": "code",
   "execution_count": 2,
   "id": "214846bc",
   "metadata": {},
   "outputs": [],
   "source": [
    "stack = Stack()"
   ]
  },
  {
   "cell_type": "code",
   "execution_count": 3,
   "id": "cf08d6c9",
   "metadata": {},
   "outputs": [
    {
     "name": "stdout",
     "output_type": "stream",
     "text": [
      "Inserting: 0 into the stack\n",
      "Inserting: 1 into the stack\n",
      "Inserting: 2 into the stack\n",
      "Inserting: 3 into the stack\n",
      "Inserting: 4 into the stack\n",
      "Inserting: 5 into the stack\n"
     ]
    }
   ],
   "source": [
    "for i in range(0, 6):\n",
    "    stack.push(i)"
   ]
  },
  {
   "cell_type": "code",
   "execution_count": 4,
   "id": "cbead8ba",
   "metadata": {},
   "outputs": [
    {
     "name": "stdout",
     "output_type": "stream",
     "text": [
      "Removing: 5 from top of the stack\n"
     ]
    }
   ],
   "source": [
    "stack.pop()"
   ]
  },
  {
   "cell_type": "code",
   "execution_count": 5,
   "id": "fbaff162",
   "metadata": {},
   "outputs": [
    {
     "data": {
      "text/plain": [
       "False"
      ]
     },
     "execution_count": 5,
     "metadata": {},
     "output_type": "execute_result"
    }
   ],
   "source": [
    "stack.is_empty()"
   ]
  },
  {
   "cell_type": "code",
   "execution_count": 6,
   "id": "38ad7a66",
   "metadata": {},
   "outputs": [
    {
     "name": "stdout",
     "output_type": "stream",
     "text": [
      "<Element: 4>\n"
     ]
    }
   ],
   "source": [
    "stack.peek()"
   ]
  },
  {
   "cell_type": "code",
   "execution_count": 7,
   "id": "33de4545",
   "metadata": {},
   "outputs": [
    {
     "data": {
      "text/plain": [
       "[Top: 4], [3], [2], [1]"
      ]
     },
     "execution_count": 7,
     "metadata": {},
     "output_type": "execute_result"
    }
   ],
   "source": [
    "stack"
   ]
  },
  {
   "cell_type": "code",
   "execution_count": 8,
   "id": "82c95ddb",
   "metadata": {},
   "outputs": [
    {
     "name": "stdout",
     "output_type": "stream",
     "text": [
      "4\n",
      "3\n",
      "2\n",
      "1\n"
     ]
    }
   ],
   "source": [
    "for i in stack:\n",
    "    print(i)"
   ]
  },
  {
   "cell_type": "code",
   "execution_count": 9,
   "id": "12f401d8",
   "metadata": {},
   "outputs": [
    {
     "data": {
      "text/plain": [
       "5"
      ]
     },
     "execution_count": 9,
     "metadata": {},
     "output_type": "execute_result"
    }
   ],
   "source": [
    "len(stack)"
   ]
  },
  {
   "cell_type": "code",
   "execution_count": 10,
   "id": "f768cffc",
   "metadata": {},
   "outputs": [
    {
     "name": "stdout",
     "output_type": "stream",
     "text": [
      "Removing: 4 from top of the stack\n",
      "Removing: 3 from top of the stack\n",
      "Removing: 2 from top of the stack\n",
      "Removing: 1 from top of the stack\n",
      "Removing: 0 from top of the stack\n",
      "Stack is empty, nothing to pop()\n",
      "Stack is empty, nothing to pop()\n",
      "Stack is empty, nothing to pop()\n",
      "Stack is empty, nothing to pop()\n",
      "Stack is empty, nothing to pop()\n"
     ]
    }
   ],
   "source": [
    "for _ in range(10):\n",
    "    stack.pop()"
   ]
  },
  {
   "cell_type": "code",
   "execution_count": null,
   "id": "c5278ce5",
   "metadata": {},
   "outputs": [],
   "source": []
  }
 ],
 "metadata": {
  "kernelspec": {
   "display_name": ".venv",
   "language": "python",
   "name": "python3"
  },
  "language_info": {
   "codemirror_mode": {
    "name": "ipython",
    "version": 3
   },
   "file_extension": ".py",
   "mimetype": "text/x-python",
   "name": "python",
   "nbconvert_exporter": "python",
   "pygments_lexer": "ipython3",
   "version": "3.8.10"
  },
  "vscode": {
   "interpreter": {
    "hash": "ea9ccb04e7308efcbefe4ed3ddff7336a57680ae622578d4fe4a2e3945390538"
   }
  }
 },
 "nbformat": 4,
 "nbformat_minor": 5
}
