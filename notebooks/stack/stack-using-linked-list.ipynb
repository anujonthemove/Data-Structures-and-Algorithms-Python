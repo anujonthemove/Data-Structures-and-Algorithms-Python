{
 "cells": [
  {
   "cell_type": "code",
   "execution_count": 1,
   "id": "9c560445",
   "metadata": {},
   "outputs": [],
   "source": [
    "class Node:\n",
    "    def __init__(self, data):\n",
    "        self.data = data\n",
    "        self.next = None\n",
    "\n",
    "    def __repr__(self):\n",
    "        return \"<Node: %s>\" % self.data"
   ]
  },
  {
   "cell_type": "code",
   "execution_count": 2,
   "id": "81a6b210",
   "metadata": {},
   "outputs": [
    {
     "data": {
      "text/plain": [
       "<Node: 10>"
      ]
     },
     "execution_count": 2,
     "metadata": {},
     "output_type": "execute_result"
    }
   ],
   "source": [
    "Node(10)"
   ]
  },
  {
   "cell_type": "code",
   "execution_count": 3,
   "id": "35b1e173",
   "metadata": {},
   "outputs": [],
   "source": [
    "class StackUsingLinkedList:\n",
    "    def __init__(self):\n",
    "        self.__top = -1\n",
    "        self.head = None\n",
    "\n",
    "    def __repr__(self):\n",
    "        current = self.head\n",
    "        nodes = []\n",
    "        while current != None:\n",
    "            if current == self.head:\n",
    "                nodes.append(\"[Top: %s]\" % current.data)\n",
    "            else:\n",
    "                nodes.append(\"[%s]\" % current.data)\n",
    "            current = current.next\n",
    "\n",
    "        return \", \".join(nodes)\n",
    "\n",
    "    def __iter__(self):\n",
    "        current = self.head\n",
    "        while current:\n",
    "            yield current.data\n",
    "            current = current.next\n",
    "\n",
    "    def __len__(self):\n",
    "        return self.__top + 1\n",
    "\n",
    "    def is_empty(self):\n",
    "        return self.head == None and self.__top == -1\n",
    "\n",
    "    def peek(self):\n",
    "        if self.is_empty():\n",
    "            print(\"Stack is empty, nothing to peek()\")\n",
    "        else:\n",
    "            print(\"Element at top is: {}\".format(self.head))\n",
    "            # return \"<Element: %s>\" % self.head.data\n",
    "            return self.head\n",
    "\n",
    "    def push(self, data):\n",
    "        node = Node(data)\n",
    "        if self.head == None:\n",
    "            print(\"Inserting first element: {}\".format(data))\n",
    "            self.head = node\n",
    "        else:\n",
    "            print(\"Inserting another element: {}\".format(data))\n",
    "            node.next = self.head\n",
    "            self.head = node\n",
    "        self.__top += 1\n",
    "\n",
    "    def pop(self):\n",
    "        if self.__top == -1 or self.head == None:\n",
    "            print(\"Stack is empty, nothing to pop()\")\n",
    "            return\n",
    "\n",
    "        current = self.head\n",
    "        if current.next == None:\n",
    "            print(\"at last element\")\n",
    "            self.head = None\n",
    "        else:\n",
    "            self.head = current.next\n",
    "\n",
    "        data = current.data\n",
    "        del current\n",
    "        self.__top -= 1\n",
    "        return data"
   ]
  },
  {
   "cell_type": "code",
   "execution_count": 4,
   "id": "6d82ddbe",
   "metadata": {},
   "outputs": [],
   "source": [
    "stack = StackUsingLinkedList()"
   ]
  },
  {
   "cell_type": "code",
   "execution_count": 5,
   "id": "31de1ee8",
   "metadata": {},
   "outputs": [
    {
     "name": "stdout",
     "output_type": "stream",
     "text": [
      "Inserting first element: 0\n",
      "Inserting another element: 1\n",
      "Inserting another element: 2\n",
      "Inserting another element: 3\n",
      "Inserting another element: 4\n",
      "Inserting another element: 5\n"
     ]
    }
   ],
   "source": [
    "for i in range(0, 6):\n",
    "    stack.push(i)"
   ]
  },
  {
   "cell_type": "code",
   "execution_count": 6,
   "id": "de1588f0",
   "metadata": {},
   "outputs": [
    {
     "data": {
      "text/plain": [
       "[Top: 5], [4], [3], [2], [1], [0]"
      ]
     },
     "execution_count": 6,
     "metadata": {},
     "output_type": "execute_result"
    }
   ],
   "source": [
    "stack"
   ]
  },
  {
   "cell_type": "code",
   "execution_count": 7,
   "id": "ef754d4e",
   "metadata": {},
   "outputs": [
    {
     "data": {
      "text/plain": [
       "6"
      ]
     },
     "execution_count": 7,
     "metadata": {},
     "output_type": "execute_result"
    }
   ],
   "source": [
    "len(stack)"
   ]
  },
  {
   "cell_type": "code",
   "execution_count": 8,
   "id": "1df52f69",
   "metadata": {},
   "outputs": [
    {
     "name": "stdout",
     "output_type": "stream",
     "text": [
      "5\n",
      "4\n",
      "3\n",
      "2\n",
      "1\n",
      "0\n"
     ]
    }
   ],
   "source": [
    "for i in stack:\n",
    "    print(i)"
   ]
  },
  {
   "cell_type": "code",
   "execution_count": 9,
   "id": "a1b2a160",
   "metadata": {},
   "outputs": [
    {
     "data": {
      "text/plain": [
       "False"
      ]
     },
     "execution_count": 9,
     "metadata": {},
     "output_type": "execute_result"
    }
   ],
   "source": [
    "stack.is_empty()"
   ]
  },
  {
   "cell_type": "code",
   "execution_count": 10,
   "id": "601cad4e",
   "metadata": {},
   "outputs": [
    {
     "name": "stdout",
     "output_type": "stream",
     "text": [
      "Element at top is: <Node: 5>\n"
     ]
    },
    {
     "data": {
      "text/plain": [
       "<Node: 5>"
      ]
     },
     "execution_count": 10,
     "metadata": {},
     "output_type": "execute_result"
    }
   ],
   "source": [
    "stack.peek()"
   ]
  },
  {
   "cell_type": "code",
   "execution_count": 11,
   "id": "28e8a614",
   "metadata": {},
   "outputs": [
    {
     "name": "stdout",
     "output_type": "stream",
     "text": [
      "at last element\n",
      "Stack is empty, nothing to pop()\n"
     ]
    }
   ],
   "source": [
    "for _ in range(0, 7):\n",
    "    stack.pop()"
   ]
  },
  {
   "cell_type": "code",
   "execution_count": 12,
   "id": "6b303037",
   "metadata": {},
   "outputs": [
    {
     "data": {
      "text/plain": []
     },
     "execution_count": 12,
     "metadata": {},
     "output_type": "execute_result"
    }
   ],
   "source": [
    "stack"
   ]
  },
  {
   "cell_type": "code",
   "execution_count": 13,
   "id": "dec474da",
   "metadata": {},
   "outputs": [
    {
     "name": "stdout",
     "output_type": "stream",
     "text": [
      "Stack is empty, nothing to pop()\n"
     ]
    }
   ],
   "source": [
    "stack.pop()"
   ]
  },
  {
   "cell_type": "code",
   "execution_count": null,
   "id": "76c78da2",
   "metadata": {},
   "outputs": [],
   "source": []
  }
 ],
 "metadata": {
  "kernelspec": {
   "display_name": ".venv",
   "language": "python",
   "name": "python3"
  },
  "language_info": {
   "codemirror_mode": {
    "name": "ipython",
    "version": 3
   },
   "file_extension": ".py",
   "mimetype": "text/x-python",
   "name": "python",
   "nbconvert_exporter": "python",
   "pygments_lexer": "ipython3",
   "version": "3.8.10"
  },
  "vscode": {
   "interpreter": {
    "hash": "ea9ccb04e7308efcbefe4ed3ddff7336a57680ae622578d4fe4a2e3945390538"
   }
  }
 },
 "nbformat": 4,
 "nbformat_minor": 5
}
