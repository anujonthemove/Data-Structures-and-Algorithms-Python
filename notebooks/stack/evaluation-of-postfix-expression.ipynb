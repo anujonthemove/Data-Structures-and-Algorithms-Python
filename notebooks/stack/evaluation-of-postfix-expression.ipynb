{
 "cells": [
  {
   "cell_type": "markdown",
   "id": "f553f140",
   "metadata": {},
   "source": [
    "## Evaluation of postfix expression using stack.\n",
    "1. Scan the expression from left to right.\n",
    "2. If we encounter any operand in the expression, then we push the operand in the stack.\n",
    "3. When we encounter any operator in the expression, then we pop the corresponding operands from the stack.\n",
    "4. When we finish with the scanning of the expression, the final value remains in the stack.\n",
    "\n",
    "Ref\n",
    "1. https://www.javatpoint.com/convert-infix-to-postfix-notation"
   ]
  },
  {
   "cell_type": "code",
   "execution_count": 1,
   "id": "0e9b66d9",
   "metadata": {},
   "outputs": [],
   "source": [
    "postfix_expression1 = '2 3 4 * +'\n",
    "postfix_expression2 = '3 4 * 2 5 * +'\n",
    "postfix_expression3 = '2 3 1 * + 9 -'\n",
    "postfix_expression4 = '5 3 + 6 2 / * 3 5 * +'\n",
    "postfix_expression5 = '2 3 4 * + 16 2 3 ^ / -'\n",
    "\n",
    "\n",
    "postfix_expression1 = postfix_expression1.split()\n",
    "postfix_expression2 = postfix_expression2.split()\n",
    "postfix_expression3 = postfix_expression3.split()\n",
    "postfix_expression4 = postfix_expression4.split()\n",
    "postfix_expression5 = postfix_expression5.split()"
   ]
  },
  {
   "cell_type": "code",
   "execution_count": 2,
   "id": "61057755",
   "metadata": {},
   "outputs": [],
   "source": [
    "def postfix_expression_evaluation(expression):\n",
    "    operators = [\"+\", \"-\", \"*\", \"/\", \"^\"]\n",
    "    stack = [] \n",
    "    for i in expression:\n",
    "        if i in operators:\n",
    "            a = stack.pop()\n",
    "            b = stack.pop()\n",
    "            s = b + i + a\n",
    "            print(s)\n",
    "            if i == \"^\":\n",
    "                i = \"**\"\n",
    "            ans = eval(b + i + a)\n",
    "            print(\"pushing {} onto stack\".format(ans))\n",
    "            stack.append(str(ans))\n",
    "        else:\n",
    "            print(\"pushing {} onto stack\".format(i))\n",
    "            stack.append(i)\n",
    "    \n",
    "    return float(stack[-1])"
   ]
  },
  {
   "cell_type": "code",
   "execution_count": 3,
   "id": "b4ddebd5",
   "metadata": {},
   "outputs": [
    {
     "name": "stdout",
     "output_type": "stream",
     "text": [
      "pushing 2 onto stack\n",
      "pushing 3 onto stack\n",
      "pushing 4 onto stack\n",
      "3*4\n",
      "pushing 12 onto stack\n",
      "2+12\n",
      "pushing 14 onto stack\n"
     ]
    },
    {
     "data": {
      "text/plain": [
       "14.0"
      ]
     },
     "execution_count": 3,
     "metadata": {},
     "output_type": "execute_result"
    }
   ],
   "source": [
    "postfix_expression_evaluation(postfix_expression1)"
   ]
  },
  {
   "cell_type": "code",
   "execution_count": 4,
   "id": "3149ae43",
   "metadata": {},
   "outputs": [
    {
     "name": "stdout",
     "output_type": "stream",
     "text": [
      "pushing 3 onto stack\n",
      "pushing 4 onto stack\n",
      "3*4\n",
      "pushing 12 onto stack\n",
      "pushing 2 onto stack\n",
      "pushing 5 onto stack\n",
      "2*5\n",
      "pushing 10 onto stack\n",
      "12+10\n",
      "pushing 22 onto stack\n"
     ]
    },
    {
     "data": {
      "text/plain": [
       "22.0"
      ]
     },
     "execution_count": 4,
     "metadata": {},
     "output_type": "execute_result"
    }
   ],
   "source": [
    "postfix_expression_evaluation(postfix_expression2)"
   ]
  },
  {
   "cell_type": "code",
   "execution_count": 5,
   "id": "a22bdaec",
   "metadata": {},
   "outputs": [
    {
     "name": "stdout",
     "output_type": "stream",
     "text": [
      "pushing 2 onto stack\n",
      "pushing 3 onto stack\n",
      "pushing 1 onto stack\n",
      "3*1\n",
      "pushing 3 onto stack\n",
      "2+3\n",
      "pushing 5 onto stack\n",
      "pushing 9 onto stack\n",
      "5-9\n",
      "pushing -4 onto stack\n"
     ]
    },
    {
     "data": {
      "text/plain": [
       "-4.0"
      ]
     },
     "execution_count": 5,
     "metadata": {},
     "output_type": "execute_result"
    }
   ],
   "source": [
    "postfix_expression_evaluation(postfix_expression3)"
   ]
  },
  {
   "cell_type": "code",
   "execution_count": 6,
   "id": "ad41a44a",
   "metadata": {},
   "outputs": [
    {
     "name": "stdout",
     "output_type": "stream",
     "text": [
      "pushing 5 onto stack\n",
      "pushing 3 onto stack\n",
      "5+3\n",
      "pushing 8 onto stack\n",
      "pushing 6 onto stack\n",
      "pushing 2 onto stack\n",
      "6/2\n",
      "pushing 3.0 onto stack\n",
      "8*3.0\n",
      "pushing 24.0 onto stack\n",
      "pushing 3 onto stack\n",
      "pushing 5 onto stack\n",
      "3*5\n",
      "pushing 15 onto stack\n",
      "24.0+15\n",
      "pushing 39.0 onto stack\n"
     ]
    },
    {
     "data": {
      "text/plain": [
       "39.0"
      ]
     },
     "execution_count": 6,
     "metadata": {},
     "output_type": "execute_result"
    }
   ],
   "source": [
    "postfix_expression_evaluation(postfix_expression4)"
   ]
  },
  {
   "cell_type": "code",
   "execution_count": 7,
   "id": "c39e7d9a",
   "metadata": {},
   "outputs": [
    {
     "data": {
      "text/plain": [
       "['2', '3', '4', '*', '+', '16', '2', '3', '^', '/', '-']"
      ]
     },
     "execution_count": 7,
     "metadata": {},
     "output_type": "execute_result"
    }
   ],
   "source": [
    "postfix_expression5"
   ]
  },
  {
   "cell_type": "code",
   "execution_count": 8,
   "id": "05978991",
   "metadata": {},
   "outputs": [
    {
     "name": "stdout",
     "output_type": "stream",
     "text": [
      "pushing 2 onto stack\n",
      "pushing 3 onto stack\n",
      "pushing 4 onto stack\n",
      "3*4\n",
      "pushing 12 onto stack\n",
      "2+12\n",
      "pushing 14 onto stack\n",
      "pushing 16 onto stack\n",
      "pushing 2 onto stack\n",
      "pushing 3 onto stack\n",
      "2^3\n",
      "pushing 8 onto stack\n",
      "16/8\n",
      "pushing 2.0 onto stack\n",
      "14-2.0\n",
      "pushing 12.0 onto stack\n"
     ]
    },
    {
     "data": {
      "text/plain": [
       "12.0"
      ]
     },
     "execution_count": 8,
     "metadata": {},
     "output_type": "execute_result"
    }
   ],
   "source": [
    "postfix_expression_evaluation(postfix_expression5)"
   ]
  },
  {
   "cell_type": "code",
   "execution_count": null,
   "id": "0264e2e7",
   "metadata": {},
   "outputs": [],
   "source": []
  }
 ],
 "metadata": {
  "kernelspec": {
   "display_name": "Python 3 (ipykernel)",
   "language": "python",
   "name": "python3"
  },
  "language_info": {
   "codemirror_mode": {
    "name": "ipython",
    "version": 3
   },
   "file_extension": ".py",
   "mimetype": "text/x-python",
   "name": "python",
   "nbconvert_exporter": "python",
   "pygments_lexer": "ipython3",
   "version": "3.8.10"
  }
 },
 "nbformat": 4,
 "nbformat_minor": 5
}
