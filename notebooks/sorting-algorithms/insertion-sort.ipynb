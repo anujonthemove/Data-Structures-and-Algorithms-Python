{
 "cells": [
  {
   "attachments": {},
   "cell_type": "markdown",
   "id": "0ae884db",
   "metadata": {},
   "source": [
    "# Insertion Sort\n",
    "\n",
    "* Ever played any card game? Well, that's what is insertion sort.\n",
    "\n",
    "* Idea:\n",
    "    *   Consider the very first element of the array(element at the 0th index) to be sorted. That would also be the left array and hence the first for loop will start from index 1.\n",
    "    *   Now you are at index 1, compare this with the left sorted array until you find this element to be larger than any element in the left array(obviously taking care that you are within the array bound) and keep copying the larger elements.\n",
    "    *   Once done, copy this element to the place where it is larger than the last found element."
   ]
  },
  {
   "attachments": {},
   "cell_type": "markdown",
   "id": "2b965d26",
   "metadata": {},
   "source": [
    "*   Time Complexity:\n",
    "    *   Best case: $O(n)$\n",
    "    *   Worst Case: $O(n^{2})$\n",
    "\n",
    "* Space Complexity: $O(1)$\n"
   ]
  },
  {
   "cell_type": "code",
   "execution_count": 6,
   "id": "e28e2d19",
   "metadata": {},
   "outputs": [],
   "source": [
    "def insertion(arr):\n",
    "\n",
    "    for i in range(1, len(arr)):\n",
    "        idx = i\n",
    "        element = arr[idx]\n",
    "        while element < arr[idx - 1] and idx > 0:\n",
    "            arr[idx] = arr[idx - 1]\n",
    "            idx -= 1\n",
    "        arr[idx] = element\n",
    "\n",
    "    return arr"
   ]
  },
  {
   "cell_type": "code",
   "execution_count": 7,
   "id": "6a4bb67d",
   "metadata": {},
   "outputs": [],
   "source": [
    "arr = [10, 1, 7, 4, 8, 2, 11]"
   ]
  },
  {
   "cell_type": "code",
   "execution_count": 8,
   "id": "bd76344f",
   "metadata": {},
   "outputs": [
    {
     "data": {
      "text/plain": [
       "[1, 2, 4, 7, 8, 10, 11]"
      ]
     },
     "execution_count": 8,
     "metadata": {},
     "output_type": "execute_result"
    }
   ],
   "source": [
    "insertion(arr)"
   ]
  },
  {
   "cell_type": "code",
   "execution_count": null,
   "id": "80cc9754",
   "metadata": {},
   "outputs": [],
   "source": []
  }
 ],
 "metadata": {
  "kernelspec": {
   "display_name": ".venv",
   "language": "python",
   "name": "python3"
  },
  "language_info": {
   "codemirror_mode": {
    "name": "ipython",
    "version": 3
   },
   "file_extension": ".py",
   "mimetype": "text/x-python",
   "name": "python",
   "nbconvert_exporter": "python",
   "pygments_lexer": "ipython3",
   "version": "3.8.10"
  },
  "vscode": {
   "interpreter": {
    "hash": "ea9ccb04e7308efcbefe4ed3ddff7336a57680ae622578d4fe4a2e3945390538"
   }
  }
 },
 "nbformat": 4,
 "nbformat_minor": 5
}
