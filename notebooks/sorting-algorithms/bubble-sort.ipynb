{
 "cells": [
  {
   "attachments": {},
   "cell_type": "markdown",
   "id": "80c96cc6",
   "metadata": {},
   "source": [
    "# Bubble Sort"
   ]
  },
  {
   "cell_type": "markdown",
   "id": "ea129154",
   "metadata": {},
   "source": [
    "### Bruteforce approach"
   ]
  },
  {
   "attachments": {},
   "cell_type": "markdown",
   "id": "1009d886",
   "metadata": {},
   "source": [
    "Use the following property:\n",
    "\n",
    "* In each round, the largest element will bubble up and get arranged into it's desired position.\n",
    "* For the first loop, we'd need n-1 rounds first of all\n",
    "* The second loop will be required to do comparison between adjacent element\n",
    "    *   This loop need not run upto the length of the array each time the first loop is run. Why?\n",
    "    *   This is because at each iteration of the parent loop, the largest element will bubble up thus leaving only the remaining array sorted. So we can do `range(1, len(arr)-i)`\n",
    "\n",
    "* For each ith round, we move the ith largest element to the right place or to the right of the array"
   ]
  },
  {
   "attachments": {},
   "cell_type": "markdown",
   "id": "ed1a25b4",
   "metadata": {},
   "source": [
    "*   Time Complexity:\n",
    "    *   Best case: $O(n^{2})$\n",
    "    *   Worst Case: $O(n^{2})$\n",
    "\n",
    "* Space Complexity: $O(1)$\n"
   ]
  },
  {
   "cell_type": "code",
   "execution_count": 1,
   "id": "2ac2b67e",
   "metadata": {},
   "outputs": [],
   "source": [
    "def bubble(arr):\n",
    "\n",
    "    for i in range(len(arr)):\n",
    "        for j in range(1, len(arr) - i):\n",
    "            if arr[j - 1] > arr[j]:\n",
    "                arr[j - 1], arr[j] = arr[j], arr[j - 1]\n",
    "\n",
    "    return arr"
   ]
  },
  {
   "cell_type": "code",
   "execution_count": 2,
   "id": "2c2fc6de",
   "metadata": {},
   "outputs": [],
   "source": [
    "arr = [10, 1, 7, 6, 14, 9]\n",
    "arr = [10, 9, 8, 7, 6, 5]\n",
    "arr = [1, 2, 3, 4, 5]"
   ]
  },
  {
   "cell_type": "code",
   "execution_count": 3,
   "id": "a1d63dcc",
   "metadata": {},
   "outputs": [
    {
     "data": {
      "text/plain": [
       "[1, 2, 3, 4, 5]"
      ]
     },
     "execution_count": 3,
     "metadata": {},
     "output_type": "execute_result"
    }
   ],
   "source": [
    "bubble(arr)"
   ]
  },
  {
   "cell_type": "markdown",
   "id": "44dfedc1",
   "metadata": {},
   "source": [
    "### Slight optimization"
   ]
  },
  {
   "attachments": {},
   "cell_type": "markdown",
   "id": "a922e8d5",
   "metadata": {},
   "source": [
    "*   Time Complexity:\n",
    "    *   Best case: $O(n)$\n",
    "    *   Worst Case: $O(n^{2})$\n",
    "\n",
    "* Space Complexity: $O(1)$\n"
   ]
  },
  {
   "cell_type": "code",
   "execution_count": 4,
   "id": "67806e46",
   "metadata": {},
   "outputs": [],
   "source": [
    "def bubble_optimized(arr):\n",
    "    for i in range(len(arr)):\n",
    "        is_sorted = False\n",
    "        for j in range(1, len(arr) - i):\n",
    "            if arr[j - 1] > arr[j]:\n",
    "                arr[j - 1], arr[j] = arr[j], arr[j - 1]\n",
    "                is_sorted = True\n",
    "\n",
    "        if not is_sorted:\n",
    "            break\n",
    "    return arr"
   ]
  },
  {
   "cell_type": "code",
   "execution_count": 5,
   "id": "23777f00",
   "metadata": {},
   "outputs": [],
   "source": [
    "arr = [64, 25, 12, 22, 11]\n",
    "arr = [10, 9, 8, 7, 6, 5]\n",
    "arr = [1, 2, 3, 4, 5]"
   ]
  },
  {
   "cell_type": "code",
   "execution_count": 6,
   "id": "640dbc90",
   "metadata": {},
   "outputs": [
    {
     "data": {
      "text/plain": [
       "[1, 2, 3, 4, 5]"
      ]
     },
     "execution_count": 6,
     "metadata": {},
     "output_type": "execute_result"
    }
   ],
   "source": [
    "bubble_optimized(arr)"
   ]
  },
  {
   "cell_type": "code",
   "execution_count": null,
   "id": "4c143de3",
   "metadata": {},
   "outputs": [],
   "source": []
  }
 ],
 "metadata": {
  "kernelspec": {
   "display_name": ".venv",
   "language": "python",
   "name": "python3"
  },
  "language_info": {
   "codemirror_mode": {
    "name": "ipython",
    "version": 3
   },
   "file_extension": ".py",
   "mimetype": "text/x-python",
   "name": "python",
   "nbconvert_exporter": "python",
   "pygments_lexer": "ipython3",
   "version": "3.8.10 (default, Nov 14 2022, 12:59:47) \n[GCC 9.4.0]"
  },
  "vscode": {
   "interpreter": {
    "hash": "ea9ccb04e7308efcbefe4ed3ddff7336a57680ae622578d4fe4a2e3945390538"
   }
  }
 },
 "nbformat": 4,
 "nbformat_minor": 5
}
