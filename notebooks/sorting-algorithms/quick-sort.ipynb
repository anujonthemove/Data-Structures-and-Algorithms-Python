{
 "cells": [
  {
   "cell_type": "code",
   "execution_count": 1,
   "id": "aeb4acb8",
   "metadata": {},
   "outputs": [],
   "source": [
    "import numpy as np\n",
    "from random import randint\n",
    "import statistics"
   ]
  },
  {
   "cell_type": "code",
   "execution_count": 2,
   "id": "f20d626e",
   "metadata": {},
   "outputs": [
    {
     "name": "stdout",
     "output_type": "stream",
     "text": [
      "[0 4 6 8 7 1 5 3 9 2]\n"
     ]
    }
   ],
   "source": [
    "unsorted_list =  np.arange(0, 10)\n",
    "np.random.shuffle(unsorted_list)\n",
    "print(unsorted_list)"
   ]
  },
  {
   "cell_type": "code",
   "execution_count": 3,
   "id": "ec3ebc64",
   "metadata": {},
   "outputs": [],
   "source": [
    "def quick_sort(arr):\n",
    "    \n",
    "    if len(arr) <= 1:\n",
    "        return arr\n",
    "    \n",
    "    # step 1: identify pivot\n",
    "    pivot = statistics.median([arr[0], arr[len(arr)//2], arr[-1]])\n",
    "    \n",
    "    # step 2: make left sub-array, pivot array and right sub-array\n",
    "    left_subarray = [i for i in arr if i < pivot]\n",
    "    median_array = [i for i in arr if i == pivot]\n",
    "    right_subarray = [i for i in arr if i > pivot]\n",
    "    \n",
    "    # step 3: recurse quick sort on left and right sub-array\n",
    "    # append all the arrays in sequence\n",
    "    return quick_sort(left_subarray) + median_array + quick_sort(right_subarray)"
   ]
  },
  {
   "cell_type": "code",
   "execution_count": 4,
   "id": "7bffc94f",
   "metadata": {},
   "outputs": [
    {
     "data": {
      "text/plain": [
       "[0, 1, 2, 3, 4, 5, 6, 7, 8, 9]"
      ]
     },
     "execution_count": 4,
     "metadata": {},
     "output_type": "execute_result"
    }
   ],
   "source": [
    "quick_sort(unsorted_list)"
   ]
  },
  {
   "cell_type": "code",
   "execution_count": null,
   "id": "e7198a90",
   "metadata": {},
   "outputs": [],
   "source": []
  }
 ],
 "metadata": {
  "kernelspec": {
   "display_name": "Python 3 (ipykernel)",
   "language": "python",
   "name": "python3"
  },
  "language_info": {
   "codemirror_mode": {
    "name": "ipython",
    "version": 3
   },
   "file_extension": ".py",
   "mimetype": "text/x-python",
   "name": "python",
   "nbconvert_exporter": "python",
   "pygments_lexer": "ipython3",
   "version": "3.8.10"
  }
 },
 "nbformat": 4,
 "nbformat_minor": 5
}
