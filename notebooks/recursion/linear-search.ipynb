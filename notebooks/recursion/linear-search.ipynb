{
 "cells": [
  {
   "cell_type": "code",
   "execution_count": 17,
   "metadata": {},
   "outputs": [],
   "source": [
    "def linear_search_recursive(arr, key):\n",
    "\n",
    "    # 1. Base case\n",
    "    # if there is no element in the array\n",
    "    # or it could also be that we have reached\n",
    "    # the end of array and did not find the key\n",
    "    # we were looking for\n",
    "    if len(arr) == 0:\n",
    "        return False\n",
    "\n",
    "    # 2. solve one problem\n",
    "    if key == arr[0]:\n",
    "        return True\n",
    "\n",
    "    # 3. recursive relation\n",
    "    # pass smaller array each time\n",
    "    remaining_part = linear_search_recursive(arr[1:], key)\n",
    "    return remaining_part"
   ]
  },
  {
   "cell_type": "code",
   "execution_count": 18,
   "metadata": {},
   "outputs": [
    {
     "data": {
      "text/plain": [
       "True"
      ]
     },
     "execution_count": 18,
     "metadata": {},
     "output_type": "execute_result"
    }
   ],
   "source": [
    "arr = [1, 2, 3, 4, 5]\n",
    "key = 4\n",
    "linear_search_recursive(arr, key)"
   ]
  },
  {
   "cell_type": "code",
   "execution_count": 19,
   "metadata": {},
   "outputs": [],
   "source": [
    "def linear_search(arr, key, idx):\n",
    "\n",
    "    # base case\n",
    "    # either end of the array is reached\n",
    "    # or there are no elements in the array remaining\n",
    "    if len(arr) == 0:\n",
    "        return -1\n",
    "\n",
    "    # solve 1 small problem\n",
    "    # if you find the key at the starting index\n",
    "    # then return the index\n",
    "    if arr[0] == key:\n",
    "        return idx\n",
    "\n",
    "    remaining_part = linear_search(arr[1:], key, idx + 1)\n",
    "    return remaining_part"
   ]
  },
  {
   "cell_type": "code",
   "execution_count": 20,
   "metadata": {},
   "outputs": [
    {
     "name": "stdout",
     "output_type": "stream",
     "text": [
      "Index of key: 10 is: -1\n"
     ]
    }
   ],
   "source": [
    "arr = [1, 2, 3, 4, 5]\n",
    "key = 10\n",
    "ans = linear_search(arr, key, idx=0)\n",
    "print(f\"Index of key: {key} is: {ans}\")"
   ]
  },
  {
   "cell_type": "code",
   "execution_count": null,
   "metadata": {},
   "outputs": [],
   "source": []
  },
  {
   "cell_type": "code",
   "execution_count": null,
   "metadata": {},
   "outputs": [],
   "source": []
  }
 ],
 "metadata": {
  "kernelspec": {
   "display_name": "Python 3",
   "language": "python",
   "name": "python3"
  },
  "language_info": {
   "codemirror_mode": {
    "name": "ipython",
    "version": 3
   },
   "file_extension": ".py",
   "mimetype": "text/x-python",
   "name": "python",
   "nbconvert_exporter": "python",
   "pygments_lexer": "ipython3",
   "version": "3.8.10 (default, Nov 14 2022, 12:59:47) \n[GCC 9.4.0]"
  },
  "orig_nbformat": 4,
  "vscode": {
   "interpreter": {
    "hash": "916dbcbb3f70747c44a77c7bcd40155683ae19c65e1c03b4aa3499c5328201f1"
   }
  }
 },
 "nbformat": 4,
 "nbformat_minor": 2
}
