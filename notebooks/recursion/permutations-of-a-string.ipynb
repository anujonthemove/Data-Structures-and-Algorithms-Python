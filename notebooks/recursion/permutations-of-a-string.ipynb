{
 "cells": [
  {
   "attachments": {},
   "cell_type": "markdown",
   "metadata": {},
   "source": [
    "# Permutations of a string"
   ]
  },
  {
   "cell_type": "code",
   "execution_count": 3,
   "metadata": {},
   "outputs": [],
   "source": [
    "def permutations(nums):\n",
    "\n",
    "    ans = []\n",
    "    idx = 0\n",
    "\n",
    "    def solve(idx):\n",
    "        # 1. base case\n",
    "        if idx >= len(nums):\n",
    "            ans.append(\"\".join(nums[:]))\n",
    "            return\n",
    "\n",
    "        # get each item in the list\n",
    "        # and make a permutation\n",
    "        for i in range(idx, len(nums)):\n",
    "            nums[idx], nums[i] = nums[i], nums[idx]\n",
    "            solve(idx + 1)\n",
    "\n",
    "            # backtracking\n",
    "            nums[idx], nums[i] = nums[i], nums[idx]\n",
    "\n",
    "    solve(idx)\n",
    "    return ans"
   ]
  },
  {
   "cell_type": "code",
   "execution_count": 4,
   "metadata": {},
   "outputs": [
    {
     "data": {
      "text/plain": [
       "['abc', 'acb', 'bac', 'bca', 'cba', 'cab']"
      ]
     },
     "execution_count": 4,
     "metadata": {},
     "output_type": "execute_result"
    }
   ],
   "source": [
    "permutations([\"a\", \"b\", \"c\"])"
   ]
  },
  {
   "cell_type": "code",
   "execution_count": null,
   "metadata": {},
   "outputs": [],
   "source": []
  }
 ],
 "metadata": {
  "kernelspec": {
   "display_name": "Python 3",
   "language": "python",
   "name": "python3"
  },
  "language_info": {
   "codemirror_mode": {
    "name": "ipython",
    "version": 3
   },
   "file_extension": ".py",
   "mimetype": "text/x-python",
   "name": "python",
   "nbconvert_exporter": "python",
   "pygments_lexer": "ipython3",
   "version": "3.8.10"
  },
  "orig_nbformat": 4,
  "vscode": {
   "interpreter": {
    "hash": "916dbcbb3f70747c44a77c7bcd40155683ae19c65e1c03b4aa3499c5328201f1"
   }
  }
 },
 "nbformat": 4,
 "nbformat_minor": 2
}
