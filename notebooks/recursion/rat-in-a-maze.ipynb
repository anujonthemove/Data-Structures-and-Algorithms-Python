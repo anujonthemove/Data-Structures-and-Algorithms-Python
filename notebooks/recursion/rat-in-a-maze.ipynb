{
 "cells": [
  {
   "cell_type": "code",
   "execution_count": 1,
   "metadata": {},
   "outputs": [],
   "source": [
    "def is_valid(x, y, n, maze, visited):\n",
    "    if (\n",
    "        (x >= 0 and x < n)\n",
    "        and (y >= 0 and y < n)\n",
    "        and maze[x][y] == 1\n",
    "        and visited[x][y] == 0\n",
    "    ):\n",
    "        return True\n",
    "    else:\n",
    "        return False"
   ]
  },
  {
   "cell_type": "code",
   "execution_count": 2,
   "metadata": {},
   "outputs": [],
   "source": [
    "def find_path(maze):\n",
    "    \"\"\"\n",
    "    maze: n-by-n square matrix - always\n",
    "    \"\"\"\n",
    "    # basic check - may not be required\n",
    "    if maze[0][0] == 0:\n",
    "        print(\"Invalid maze\")\n",
    "        return\n",
    "\n",
    "    # maze dimension\n",
    "    n = len(maze)\n",
    "\n",
    "    # answer\n",
    "    ans = []\n",
    "    path = []\n",
    "\n",
    "    # starting point\n",
    "    src_x = 0\n",
    "    src_y = 0\n",
    "\n",
    "    # mark positions when visited and unmark via backtracking\n",
    "    visited = [[0 for _ in range(n)] for _ in range(n)]\n",
    "\n",
    "    # starting of the maze is set to be visited\n",
    "    # visited[src_x][src_y] = 1\n",
    "\n",
    "    def solve(x, y, n, visited, maze, path):\n",
    "        # 1. Base case\n",
    "        if (x == n - 1) and (y == n - 1):\n",
    "            # before returning, save the current path\n",
    "            ans.append(\"\".join(path[:]))\n",
    "            return\n",
    "\n",
    "        visited[x][y] = 1\n",
    "\n",
    "        # Down\n",
    "        new_x = x + 1\n",
    "        new_y = y\n",
    "\n",
    "        if is_valid(new_x, new_y, n, maze, visited):\n",
    "            path.append(\"D\")\n",
    "            solve(new_x, new_y, n, visited, maze, path)\n",
    "            path.pop()\n",
    "\n",
    "        # right\n",
    "        new_x = x\n",
    "        new_y = y + 1\n",
    "\n",
    "        if is_valid(new_x, new_y, n, maze, visited):\n",
    "            path.append(\"R\")\n",
    "            solve(new_x, new_y, n, visited, maze, path)\n",
    "            path.pop()\n",
    "\n",
    "        # left\n",
    "        new_x = x\n",
    "        new_y = y - 1\n",
    "\n",
    "        if is_valid(new_x, new_y, n, maze, visited):\n",
    "            path.append(\"R\")\n",
    "            solve(new_x, new_y, n, visited, maze, path)\n",
    "            path.pop()\n",
    "\n",
    "        # Up\n",
    "        new_x = x - 1\n",
    "        new_y = y\n",
    "\n",
    "        if is_valid(new_x, new_y, n, maze, visited):\n",
    "            path.append(\"R\")\n",
    "            solve(new_x, new_y, n, visited, maze, path)\n",
    "            path.pop()\n",
    "\n",
    "        visited[x][y] = 0\n",
    "\n",
    "    solve(src_x, src_y, n, visited, maze, path)\n",
    "\n",
    "    return ans"
   ]
  },
  {
   "cell_type": "code",
   "execution_count": 3,
   "metadata": {},
   "outputs": [],
   "source": [
    "maze = [[1, 0, 0, 0], [1, 1, 0, 1], [1, 1, 0, 0], [0, 1, 1, 1]]"
   ]
  },
  {
   "cell_type": "code",
   "execution_count": 4,
   "metadata": {},
   "outputs": [
    {
     "data": {
      "text/plain": [
       "['DDRDRR', 'DRDDRR']"
      ]
     },
     "execution_count": 4,
     "metadata": {},
     "output_type": "execute_result"
    }
   ],
   "source": [
    "find_path(maze)"
   ]
  },
  {
   "cell_type": "code",
   "execution_count": null,
   "metadata": {},
   "outputs": [],
   "source": []
  }
 ],
 "metadata": {
  "kernelspec": {
   "display_name": ".venv",
   "language": "python",
   "name": "python3"
  },
  "language_info": {
   "codemirror_mode": {
    "name": "ipython",
    "version": 3
   },
   "file_extension": ".py",
   "mimetype": "text/x-python",
   "name": "python",
   "nbconvert_exporter": "python",
   "pygments_lexer": "ipython3",
   "version": "3.8.10"
  },
  "orig_nbformat": 4,
  "vscode": {
   "interpreter": {
    "hash": "ea9ccb04e7308efcbefe4ed3ddff7336a57680ae622578d4fe4a2e3945390538"
   }
  }
 },
 "nbformat": 4,
 "nbformat_minor": 2
}
