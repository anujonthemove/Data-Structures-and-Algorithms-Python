{
 "cells": [
  {
   "attachments": {},
   "cell_type": "markdown",
   "metadata": {},
   "source": [
    "# Subset problem\n",
    "* Type: Decision Making\n",
    "\n",
    "#### References:\n",
    "1. Naive DFS: https://helloacm.com/generate-the-power-subset-using-depth-first-search-algorithm/\n",
    "2. Backtracking: https://helloacm.com/teaching-kids-programming-finding-all-subsets-via-backtracking-algorithm-recursion-depth-first-search/\n",
    "3. Cascading: https://helloacm.com/teaching-kids-programming-cascading-algorithm-to-find-all-subsets/\n",
    "\n",
    "4. https://stackoverflow.com/questions/26332412/python-recursive-function-to-display-all-subsets-of-given-set"
   ]
  },
  {
   "attachments": {},
   "cell_type": "markdown",
   "metadata": {},
   "source": [
    "#### 1. Naive DFS"
   ]
  },
  {
   "cell_type": "code",
   "execution_count": 1,
   "metadata": {},
   "outputs": [],
   "source": [
    "def subsets_naive_dfs(nums):\n",
    "    ans = []\n",
    "    output = []\n",
    "    idx = 0\n",
    "    calls = 0\n",
    "\n",
    "    def dfs_naive(output, idx):\n",
    "        nonlocal calls\n",
    "        calls += 1\n",
    "        # 1. Base case\n",
    "        if idx >= len(nums):\n",
    "            # before you return, store the current value\n",
    "            # in the output in answer\n",
    "            ans.append(output[:])\n",
    "            return\n",
    "\n",
    "        # when you draw a complete recursion tree\n",
    "        # you will notice that each of the values in the ans\n",
    "        # comes from the leaf nodes and that is why we store\n",
    "        # them before returning when we hit the base case\n",
    "\n",
    "        # This particular problem/example is more of a decision making type\n",
    "        # where in one call to the recursive function we want to exclude\n",
    "        # the output and in another call we need to include the output\n",
    "\n",
    "        # call to exclude\n",
    "        dfs_naive(output, idx + 1)\n",
    "\n",
    "        # call to include\n",
    "        dfs_naive(output + [nums[idx]], idx + 1)\n",
    "\n",
    "    dfs_naive([], idx=0)\n",
    "    print(calls)\n",
    "    return ans"
   ]
  },
  {
   "cell_type": "code",
   "execution_count": 2,
   "metadata": {},
   "outputs": [
    {
     "name": "stdout",
     "output_type": "stream",
     "text": [
      "15\n"
     ]
    },
    {
     "data": {
      "text/plain": [
       "[[], [3], [2], [2, 3], [1], [1, 3], [1, 2], [1, 2, 3]]"
      ]
     },
     "execution_count": 2,
     "metadata": {},
     "output_type": "execute_result"
    }
   ],
   "source": [
    "nums = [1, 2, 3]\n",
    "subsets_naive_dfs(nums)"
   ]
  },
  {
   "attachments": {},
   "cell_type": "markdown",
   "metadata": {},
   "source": [
    "#### 2. Backtracking"
   ]
  },
  {
   "cell_type": "code",
   "execution_count": 3,
   "metadata": {},
   "outputs": [],
   "source": [
    "def subsets_backtracking(nums):\n",
    "    ans = []\n",
    "    calls = 0\n",
    "\n",
    "    def dfs(output, idx):\n",
    "        nonlocal calls\n",
    "        calls += 1\n",
    "        if idx == len(nums):\n",
    "            ans.append(output[:])\n",
    "            return\n",
    "\n",
    "        dfs(output + [nums[idx]], idx + 1)\n",
    "\n",
    "        # I think here it is being said that we are\n",
    "        # doing backtracking because we are not\n",
    "        # select certain set of paths in our recursive tree\n",
    "\n",
    "        dfs(output, idx + 1)\n",
    "\n",
    "    dfs([], idx=0)\n",
    "\n",
    "    print(calls)\n",
    "    return ans"
   ]
  },
  {
   "cell_type": "code",
   "execution_count": 4,
   "metadata": {},
   "outputs": [
    {
     "name": "stdout",
     "output_type": "stream",
     "text": [
      "15\n"
     ]
    },
    {
     "data": {
      "text/plain": [
       "[[1, 2, 3], [1, 2], [1, 3], [1], [2, 3], [2], [3], []]"
      ]
     },
     "execution_count": 4,
     "metadata": {},
     "output_type": "execute_result"
    }
   ],
   "source": [
    "nums = [1, 2, 3]\n",
    "subsets_backtracking(nums)"
   ]
  },
  {
   "attachments": {},
   "cell_type": "markdown",
   "metadata": {},
   "source": [
    "#### 3. Cascading Algorithm"
   ]
  },
  {
   "cell_type": "code",
   "execution_count": 5,
   "metadata": {},
   "outputs": [],
   "source": [
    "def subsets_cascading(nums):\n",
    "    ans = [[]]\n",
    "    for n in nums:\n",
    "        output = []\n",
    "        for c in ans:\n",
    "            output += [c + [n]]\n",
    "        ans += output\n",
    "    return ans"
   ]
  },
  {
   "cell_type": "code",
   "execution_count": 6,
   "metadata": {},
   "outputs": [
    {
     "data": {
      "text/plain": [
       "[[], [1], [2], [1, 2], [3], [1, 3], [2, 3], [1, 2, 3]]"
      ]
     },
     "execution_count": 6,
     "metadata": {},
     "output_type": "execute_result"
    }
   ],
   "source": [
    "nums = [1, 2, 3]\n",
    "subsets_cascading(nums)"
   ]
  }
 ],
 "metadata": {
  "kernelspec": {
   "display_name": ".venv",
   "language": "python",
   "name": "python3"
  },
  "language_info": {
   "codemirror_mode": {
    "name": "ipython",
    "version": 3
   },
   "file_extension": ".py",
   "mimetype": "text/x-python",
   "name": "python",
   "nbconvert_exporter": "python",
   "pygments_lexer": "ipython3",
   "version": "3.8.10"
  },
  "orig_nbformat": 4,
  "vscode": {
   "interpreter": {
    "hash": "ea9ccb04e7308efcbefe4ed3ddff7336a57680ae622578d4fe4a2e3945390538"
   }
  }
 },
 "nbformat": 4,
 "nbformat_minor": 2
}
