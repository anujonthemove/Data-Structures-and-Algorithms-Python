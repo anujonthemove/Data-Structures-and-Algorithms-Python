{
 "cells": [
  {
   "attachments": {},
   "cell_type": "markdown",
   "metadata": {},
   "source": [
    "Problem: https://www.codingninjas.com/codestudio/problem-details/count-ways-to-reach-nth-stairs_798650\n",
    "\n",
    "* Find all possible ways to reach nth stair. Condition: either take 1 step or 2 steps."
   ]
  },
  {
   "cell_type": "code",
   "execution_count": 3,
   "metadata": {},
   "outputs": [],
   "source": [
    "def climb_stairs(n):\n",
    "\n",
    "    \"\"\"\n",
    "    What is the difference between this question\n",
    "    and fibonacci series\n",
    "\n",
    "    Check the base case.\n",
    "    if you reach any stairs below zero -> such a stair does not exist, hence return 0\n",
    "    if you are on the 0th stair, then the number of ways to reach that stair is 1.\n",
    "    Essentially, we are allowing the recursion tree to go below 1 whereas in the case of\n",
    "    fibonacci, we return 1 when we reach base case 1 and we return 0 when we hit 0\n",
    "    You will reach 1 or 0 but not beyond.\n",
    "    \"\"\"\n",
    "\n",
    "    # 1. Base case\n",
    "\n",
    "    if n < 0:\n",
    "        return 0\n",
    "    if n == 0:\n",
    "        return 1\n",
    "\n",
    "    ans = climb_stairs(n - 1) + climb_stairs(n - 2)\n",
    "\n",
    "    return ans"
   ]
  },
  {
   "cell_type": "code",
   "execution_count": 4,
   "metadata": {},
   "outputs": [
    {
     "data": {
      "text/plain": [
       "3"
      ]
     },
     "execution_count": 4,
     "metadata": {},
     "output_type": "execute_result"
    }
   ],
   "source": [
    "climb_stairs(3)"
   ]
  },
  {
   "cell_type": "code",
   "execution_count": null,
   "metadata": {},
   "outputs": [],
   "source": []
  }
 ],
 "metadata": {
  "kernelspec": {
   "display_name": "Python 3",
   "language": "python",
   "name": "python3"
  },
  "language_info": {
   "codemirror_mode": {
    "name": "ipython",
    "version": 3
   },
   "file_extension": ".py",
   "mimetype": "text/x-python",
   "name": "python",
   "nbconvert_exporter": "python",
   "pygments_lexer": "ipython3",
   "version": "3.8.10 (default, Nov 14 2022, 12:59:47) \n[GCC 9.4.0]"
  },
  "orig_nbformat": 4,
  "vscode": {
   "interpreter": {
    "hash": "916dbcbb3f70747c44a77c7bcd40155683ae19c65e1c03b4aa3499c5328201f1"
   }
  }
 },
 "nbformat": 4,
 "nbformat_minor": 2
}
