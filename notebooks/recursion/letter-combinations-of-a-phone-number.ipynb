{
 "cells": [
  {
   "cell_type": "code",
   "execution_count": 1,
   "metadata": {},
   "outputs": [],
   "source": [
    "def letter_combinations(digits):\n",
    "\n",
    "    ans = []\n",
    "    output = []\n",
    "    index = 0\n",
    "    mapping = {\n",
    "        0: \"\",\n",
    "        1: \"\",\n",
    "        2: \"abc\",\n",
    "        3: \"def\",\n",
    "        4: \"ghi\",\n",
    "        5: \"jkl\",\n",
    "        6: \"mno\",\n",
    "        7: \"pqrs\",\n",
    "        8: \"tuv\",\n",
    "        9: \"wxyz\",\n",
    "    }\n",
    "\n",
    "    def solve(output, index):\n",
    "        if index >= len(digits):\n",
    "            # deep copy\n",
    "            # ans.append(output.copy()) -> long method\n",
    "            ans.append(\"\".join(output[:]))\n",
    "            return\n",
    "\n",
    "        number = int(digits[index])\n",
    "        value = mapping[number]\n",
    "\n",
    "        for i in range(len(value)):\n",
    "            output.append(value[i])\n",
    "            solve(output, index + 1)\n",
    "\n",
    "            # backtracking\n",
    "            output.pop()\n",
    "\n",
    "    solve(output, index)\n",
    "    return ans"
   ]
  },
  {
   "cell_type": "code",
   "execution_count": 2,
   "metadata": {},
   "outputs": [
    {
     "data": {
      "text/plain": [
       "['ad', 'ae', 'af', 'bd', 'be', 'bf', 'cd', 'ce', 'cf']"
      ]
     },
     "execution_count": 2,
     "metadata": {},
     "output_type": "execute_result"
    }
   ],
   "source": [
    "digits = \"23\"\n",
    "letter_combinations(digits)"
   ]
  },
  {
   "cell_type": "code",
   "execution_count": null,
   "metadata": {},
   "outputs": [],
   "source": []
  }
 ],
 "metadata": {
  "kernelspec": {
   "display_name": "Python 3",
   "language": "python",
   "name": "python3"
  },
  "language_info": {
   "codemirror_mode": {
    "name": "ipython",
    "version": 3
   },
   "file_extension": ".py",
   "mimetype": "text/x-python",
   "name": "python",
   "nbconvert_exporter": "python",
   "pygments_lexer": "ipython3",
   "version": "3.8.10"
  },
  "orig_nbformat": 4,
  "vscode": {
   "interpreter": {
    "hash": "916dbcbb3f70747c44a77c7bcd40155683ae19c65e1c03b4aa3499c5328201f1"
   }
  }
 },
 "nbformat": 4,
 "nbformat_minor": 2
}
