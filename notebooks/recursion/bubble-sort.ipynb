{
 "cells": [
  {
   "cell_type": "code",
   "execution_count": 13,
   "metadata": {},
   "outputs": [],
   "source": [
    "def bubble_sort_recursive(arr):\n",
    "\n",
    "    \"\"\"\n",
    "    With this recursive function, it is\n",
    "    possible to do 1 pass through the array.\n",
    "    It will ensure that the largest element\n",
    "    will bubble out to the last position\n",
    "\n",
    "    \"\"\"\n",
    "\n",
    "    # 1. Base case\n",
    "    # if there are no elements or if there\n",
    "    # is only 1 element in the array\n",
    "    # return the array\n",
    "    if len(arr) == 0 or len(arr) == 1:\n",
    "        return arr\n",
    "\n",
    "    # solve 1 case\n",
    "    # if 0th element is larger than\n",
    "    # the first element, swap them\n",
    "    if arr[0] > arr[1]:\n",
    "        arr[0], arr[1] = arr[1], arr[0]\n",
    "\n",
    "    # recursive relation for the remaining array\n",
    "    remaining = [arr[0]] + bubble_sort_recursive(arr[1:])\n",
    "\n",
    "    return remaining"
   ]
  },
  {
   "cell_type": "code",
   "execution_count": 14,
   "metadata": {},
   "outputs": [],
   "source": [
    "def sorting(arr):\n",
    "    \"\"\"\n",
    "    The above function handles what you could say\n",
    "    one pass through the array.\n",
    "    For the remaining n-2 passes (why n-2?)*, we\n",
    "    need to use a for loop\n",
    "\n",
    "    *Checkout the complete iterative version for\n",
    "    the bubble sort code\n",
    "    \"\"\"\n",
    "    start_idx = 1\n",
    "    for i in range(len(arr) - start_idx):\n",
    "        start_idx = i\n",
    "        arr = bubble_sort_recursive(arr)\n",
    "    return arr"
   ]
  },
  {
   "cell_type": "code",
   "execution_count": 15,
   "metadata": {},
   "outputs": [],
   "source": [
    "arr = [10, 1, 7, 6, 14, 9]\n",
    "arr = [64, 25, 12, 22, 11]"
   ]
  },
  {
   "cell_type": "code",
   "execution_count": 16,
   "metadata": {},
   "outputs": [
    {
     "data": {
      "text/plain": [
       "[25, 12, 22, 11, 64]"
      ]
     },
     "execution_count": 16,
     "metadata": {},
     "output_type": "execute_result"
    }
   ],
   "source": [
    "bubble_sort_recursive(arr)"
   ]
  },
  {
   "cell_type": "code",
   "execution_count": 17,
   "metadata": {},
   "outputs": [
    {
     "data": {
      "text/plain": [
       "[11, 12, 22, 25, 64]"
      ]
     },
     "execution_count": 17,
     "metadata": {},
     "output_type": "execute_result"
    }
   ],
   "source": [
    "sorting(arr)"
   ]
  },
  {
   "attachments": {},
   "cell_type": "markdown",
   "metadata": {},
   "source": [
    "Alternative version of the code learned from: [Lecture34: Recursion with Strings | Day-4 | 10 Day Recursion Challenge](https://www.youtube.com/watch?v=WyY2Af3k1xI&list=PLDzeHZWIZsTqBmRGnsCOGNDG5FY0G04Td&index=5&ab_channel=CodeHelp-byBabbar)"
   ]
  },
  {
   "cell_type": "code",
   "execution_count": 18,
   "metadata": {},
   "outputs": [],
   "source": [
    "def bubble_sort_recursive_alt(arr, size):\n",
    "\n",
    "    # 1. Base case\n",
    "    if size == 0 or size == 1:\n",
    "        return arr\n",
    "\n",
    "    # 2. Processing\n",
    "    # swap until the largest element gets bubbled\n",
    "    # out to te last.\n",
    "    # the extent of the for loop is again size-1\n",
    "    # as we know that in each iteration\n",
    "    # the largest remaining elements moves to the last\n",
    "    for i in range(size - 1):\n",
    "        if arr[i] > arr[i + 1]:\n",
    "            arr[i], arr[i + 1] = arr[i + 1], arr[i]\n",
    "        # 3. Recursive relation\n",
    "        # recurse for the number of times or rounds\n",
    "    bubble_sort_recursive_alt(arr, size - 1)\n",
    "\n",
    "    return arr"
   ]
  },
  {
   "cell_type": "code",
   "execution_count": 19,
   "metadata": {},
   "outputs": [
    {
     "data": {
      "text/plain": [
       "[11, 12, 22, 25, 64]"
      ]
     },
     "execution_count": 19,
     "metadata": {},
     "output_type": "execute_result"
    }
   ],
   "source": [
    "bubble_sort_recursive_alt(arr, len(arr))"
   ]
  },
  {
   "cell_type": "code",
   "execution_count": null,
   "metadata": {},
   "outputs": [],
   "source": []
  },
  {
   "cell_type": "code",
   "execution_count": null,
   "metadata": {},
   "outputs": [],
   "source": []
  }
 ],
 "metadata": {
  "kernelspec": {
   "display_name": ".venv",
   "language": "python",
   "name": "python3"
  },
  "language_info": {
   "codemirror_mode": {
    "name": "ipython",
    "version": 3
   },
   "file_extension": ".py",
   "mimetype": "text/x-python",
   "name": "python",
   "nbconvert_exporter": "python",
   "pygments_lexer": "ipython3",
   "version": "3.8.10"
  },
  "orig_nbformat": 4,
  "vscode": {
   "interpreter": {
    "hash": "ea9ccb04e7308efcbefe4ed3ddff7336a57680ae622578d4fe4a2e3945390538"
   }
  }
 },
 "nbformat": 4,
 "nbformat_minor": 2
}
