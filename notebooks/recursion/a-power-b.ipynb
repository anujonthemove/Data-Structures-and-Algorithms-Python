{
 "cells": [
  {
   "cell_type": "code",
   "execution_count": 5,
   "metadata": {},
   "outputs": [],
   "source": [
    "def a_power_b(a, b):\n",
    "\n",
    "    # 1. Base case\n",
    "    # b is the number of times we repeat a\n",
    "    # we keep reducing b each time we\n",
    "    # multiply a by itself until b reaches 0\n",
    "    # at that point, we return 1\n",
    "    if b == 0:\n",
    "        return 1\n",
    "\n",
    "    # 2. Recursive relation\n",
    "    # solve one small problem\n",
    "    smaller_problem = a_power_b(a, b - 1)\n",
    "    # solve the larger problem\n",
    "    larger_problem = a * smaller_problem\n",
    "\n",
    "    # return\n",
    "    return larger_problem"
   ]
  },
  {
   "cell_type": "code",
   "execution_count": 6,
   "metadata": {},
   "outputs": [
    {
     "data": {
      "text/plain": [
       "1024"
      ]
     },
     "execution_count": 6,
     "metadata": {},
     "output_type": "execute_result"
    }
   ],
   "source": [
    "a = 2\n",
    "b = 10\n",
    "a_power_b(a, b)"
   ]
  },
  {
   "cell_type": "code",
   "execution_count": 1,
   "metadata": {},
   "outputs": [],
   "source": [
    "def a_power_b_optimized(a, b):\n",
    "\n",
    "    # 1. Base case\n",
    "    # if\n",
    "    if b == 0:\n",
    "        return 1\n",
    "\n",
    "    if b == 1:\n",
    "        return a\n",
    "\n",
    "    ans = a_power_b_optimized(a, b // 2)\n",
    "\n",
    "    if b % 2 == 0:\n",
    "        return ans * ans\n",
    "    else:\n",
    "        return a * ans * ans"
   ]
  },
  {
   "cell_type": "code",
   "execution_count": 3,
   "metadata": {},
   "outputs": [
    {
     "name": "stdout",
     "output_type": "stream",
     "text": [
      "11\n",
      "5\n",
      "2\n",
      "1\n"
     ]
    },
    {
     "data": {
      "text/plain": [
       "177147"
      ]
     },
     "execution_count": 3,
     "metadata": {},
     "output_type": "execute_result"
    }
   ],
   "source": [
    "a = 3\n",
    "b = 11\n",
    "\n",
    "a_power_b_optimized(a, b)"
   ]
  },
  {
   "cell_type": "code",
   "execution_count": null,
   "metadata": {},
   "outputs": [],
   "source": []
  }
 ],
 "metadata": {
  "kernelspec": {
   "display_name": "Python 3",
   "language": "python",
   "name": "python3"
  },
  "language_info": {
   "codemirror_mode": {
    "name": "ipython",
    "version": 3
   },
   "file_extension": ".py",
   "mimetype": "text/x-python",
   "name": "python",
   "nbconvert_exporter": "python",
   "pygments_lexer": "ipython3",
   "version": "3.8.10"
  },
  "orig_nbformat": 4,
  "vscode": {
   "interpreter": {
    "hash": "916dbcbb3f70747c44a77c7bcd40155683ae19c65e1c03b4aa3499c5328201f1"
   }
  }
 },
 "nbformat": 4,
 "nbformat_minor": 2
}
