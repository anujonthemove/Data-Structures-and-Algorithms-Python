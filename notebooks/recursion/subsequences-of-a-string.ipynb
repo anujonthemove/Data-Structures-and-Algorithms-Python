{
 "cells": [
  {
   "attachments": {},
   "cell_type": "markdown",
   "metadata": {},
   "source": [
    "# Subsequences of a string\n",
    "\n",
    "* Problem: https://www.codingninjas.com/codestudio/problems/subsequences-of-string_985087\n",
    "\n",
    "* Video: https://www.youtube.com/watch?v=V0IgCltYgg4&list=PLDzeHZWIZsTqBmRGnsCOGNDG5FY0G04Td&index=9&t=916s&ab_channel=CodeHelp-byBabbar"
   ]
  },
  {
   "cell_type": "code",
   "execution_count": 1,
   "metadata": {},
   "outputs": [],
   "source": [
    "def subsequences(s):\n",
    "\n",
    "    ans = []\n",
    "    output = []\n",
    "\n",
    "    def solve(output, idx):\n",
    "        if idx >= len(s):\n",
    "            if len(output) > 0:\n",
    "                ans.append(\"\".join(output[:]))\n",
    "            return\n",
    "\n",
    "        solve(output, idx + 1)\n",
    "\n",
    "        solve(output + [s[idx]], idx + 1)\n",
    "\n",
    "    solve([], idx=0)\n",
    "\n",
    "    return ans"
   ]
  },
  {
   "cell_type": "code",
   "execution_count": 2,
   "metadata": {},
   "outputs": [
    {
     "data": {
      "text/plain": [
       "['c', 'b', 'bc', 'a', 'ac', 'ab', 'abc']"
      ]
     },
     "execution_count": 2,
     "metadata": {},
     "output_type": "execute_result"
    }
   ],
   "source": [
    "s = \"abc\"\n",
    "subsequences(s)"
   ]
  },
  {
   "cell_type": "code",
   "execution_count": 3,
   "metadata": {},
   "outputs": [],
   "source": [
    "def subsequences_backtracking(s):\n",
    "\n",
    "    ans = []\n",
    "    output = []\n",
    "\n",
    "    def solve(output, idx):\n",
    "        if idx >= len(s):\n",
    "            if len(output) > 0:\n",
    "                ans.append(\"\".join(output[:]))\n",
    "            return\n",
    "\n",
    "        solve(output + [s[idx]], idx + 1)\n",
    "        solve(output, idx + 1)\n",
    "\n",
    "    solve([], idx=0)\n",
    "\n",
    "    return ans"
   ]
  },
  {
   "cell_type": "code",
   "execution_count": 4,
   "metadata": {},
   "outputs": [
    {
     "data": {
      "text/plain": [
       "['abc', 'ab', 'ac', 'a', 'bc', 'b', 'c']"
      ]
     },
     "execution_count": 4,
     "metadata": {},
     "output_type": "execute_result"
    }
   ],
   "source": [
    "s = \"abc\"\n",
    "subsequences_backtracking(s)"
   ]
  }
 ],
 "metadata": {
  "kernelspec": {
   "display_name": "Python 3",
   "language": "python",
   "name": "python3"
  },
  "language_info": {
   "codemirror_mode": {
    "name": "ipython",
    "version": 3
   },
   "file_extension": ".py",
   "mimetype": "text/x-python",
   "name": "python",
   "nbconvert_exporter": "python",
   "pygments_lexer": "ipython3",
   "version": "3.8.10"
  },
  "orig_nbformat": 4,
  "vscode": {
   "interpreter": {
    "hash": "916dbcbb3f70747c44a77c7bcd40155683ae19c65e1c03b4aa3499c5328201f1"
   }
  }
 },
 "nbformat": 4,
 "nbformat_minor": 2
}
