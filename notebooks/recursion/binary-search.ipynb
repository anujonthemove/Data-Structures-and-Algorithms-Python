{
 "cells": [
  {
   "cell_type": "code",
   "execution_count": 14,
   "metadata": {},
   "outputs": [],
   "source": [
    "def binary_search(arr, key, start, end):\n",
    "\n",
    "    # 1. Base case\n",
    "    # if start pointer has crossed\n",
    "    # the end pointer, the key is not found\n",
    "    if start > end:\n",
    "        return -1\n",
    "\n",
    "    # 2. Processing\n",
    "    # calculate mid\n",
    "    mid = start + (end - start) // 2\n",
    "\n",
    "    # if the key is found at the mide\n",
    "    # return mid index\n",
    "    if key == arr[mid]:\n",
    "        return mid\n",
    "\n",
    "    # if key is greater than the mid value\n",
    "    # search in the right part of the array\n",
    "    # for this, move start after mid\n",
    "\n",
    "    elif key > arr[mid]:\n",
    "        start = mid + 1\n",
    "        # search in the right part and return the answer\n",
    "        return binary_search(arr, key, start, end)\n",
    "\n",
    "    # if key is less than the mid\n",
    "    # search in the left part of the array\n",
    "    # for this, move the end pointer before the mid\n",
    "    elif key < arr[mid]:\n",
    "        end = mid - 1\n",
    "        # search in the left part and return the answer\n",
    "        return binary_search(arr, key, start, end)"
   ]
  },
  {
   "cell_type": "code",
   "execution_count": 18,
   "metadata": {},
   "outputs": [
    {
     "data": {
      "text/plain": [
       "5"
      ]
     },
     "execution_count": 18,
     "metadata": {},
     "output_type": "execute_result"
    }
   ],
   "source": [
    "arr = [1, 2, 3, 4, 5, 6, 7]\n",
    "key = 6\n",
    "binary_search(arr, key, start=0, end=len(arr) - 1)"
   ]
  },
  {
   "cell_type": "code",
   "execution_count": null,
   "metadata": {},
   "outputs": [],
   "source": []
  }
 ],
 "metadata": {
  "kernelspec": {
   "display_name": "Python 3",
   "language": "python",
   "name": "python3"
  },
  "language_info": {
   "codemirror_mode": {
    "name": "ipython",
    "version": 3
   },
   "file_extension": ".py",
   "mimetype": "text/x-python",
   "name": "python",
   "nbconvert_exporter": "python",
   "pygments_lexer": "ipython3",
   "version": "3.8.10"
  },
  "orig_nbformat": 4,
  "vscode": {
   "interpreter": {
    "hash": "916dbcbb3f70747c44a77c7bcd40155683ae19c65e1c03b4aa3499c5328201f1"
   }
  }
 },
 "nbformat": 4,
 "nbformat_minor": 2
}
