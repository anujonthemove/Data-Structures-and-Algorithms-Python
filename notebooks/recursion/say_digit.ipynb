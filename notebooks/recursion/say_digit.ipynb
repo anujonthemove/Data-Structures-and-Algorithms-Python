{
 "cells": [
  {
   "cell_type": "code",
   "execution_count": 21,
   "metadata": {},
   "outputs": [],
   "source": [
    "def say_digit(n, mapping):\n",
    "    \"\"\"\n",
    "    Example of head recursion\n",
    "\n",
    "    5321 -> Five Three Two One\n",
    "    \"\"\"\n",
    "\n",
    "    # 1. Base case\n",
    "    # when the number is over, 0 is left\n",
    "    # if you reach 0, return 0\n",
    "    if n == 0:\n",
    "        return 0\n",
    "\n",
    "    # 2. Processing\n",
    "    # extract the last digit\n",
    "    digit = n % 10\n",
    "\n",
    "    # 3. Recurrence relation\n",
    "    # remove the last digit from the original number\n",
    "    # till it is reduced to 0\n",
    "    n = say_digit(n // 10, mapping)\n",
    "\n",
    "    # when you hit the base case\n",
    "    # that is when this print statement will be called\n",
    "    # for the first time\n",
    "    print(mapping[digit])"
   ]
  },
  {
   "cell_type": "code",
   "execution_count": 22,
   "metadata": {},
   "outputs": [],
   "source": [
    "mapping = {\n",
    "    0: \"zero\",\n",
    "    1: \"one\",\n",
    "    2: \"two\",\n",
    "    3: \"three\",\n",
    "    4: \"four\",\n",
    "    5: \"five\",\n",
    "    6: \"six\",\n",
    "    7: \"seven\",\n",
    "    8: \"eight\",\n",
    "    9: \"nine\",\n",
    "}"
   ]
  },
  {
   "cell_type": "code",
   "execution_count": 23,
   "metadata": {},
   "outputs": [
    {
     "name": "stdout",
     "output_type": "stream",
     "text": [
      "five\n",
      "three\n",
      "two\n",
      "one\n"
     ]
    }
   ],
   "source": [
    "say_digit(5321, mapping)"
   ]
  },
  {
   "cell_type": "code",
   "execution_count": 1,
   "metadata": {},
   "outputs": [],
   "source": [
    "def say_digit_reverse(n, mapping):\n",
    "\n",
    "    \"\"\"\n",
    "    Example of tail recursion\n",
    "    \"\"\"\n",
    "    # 1. Base case\n",
    "    if n == 0:\n",
    "        return 0\n",
    "\n",
    "    # 2. Processing\n",
    "    # extract digit\n",
    "    digit = n % 10\n",
    "\n",
    "    # print the extracted digit right away\n",
    "    # before going to recursive call\n",
    "    print(mapping[digit])\n",
    "\n",
    "    # 3. Recursive relation\n",
    "    n = say_digit_reverse(n // 10, mapping)"
   ]
  },
  {
   "cell_type": "code",
   "execution_count": 2,
   "metadata": {},
   "outputs": [
    {
     "name": "stdout",
     "output_type": "stream",
     "text": [
      "one\n",
      "two\n",
      "three\n",
      "five\n",
      "0\n",
      "None\n",
      "None\n",
      "None\n"
     ]
    }
   ],
   "source": [
    "mapping = {\n",
    "    0: \"zero\",\n",
    "    1: \"one\",\n",
    "    2: \"two\",\n",
    "    3: \"three\",\n",
    "    4: \"four\",\n",
    "    5: \"five\",\n",
    "    6: \"six\",\n",
    "    7: \"seven\",\n",
    "    8: \"eight\",\n",
    "    9: \"nine\",\n",
    "}\n",
    "\n",
    "say_digit_reverse(5321, mapping)"
   ]
  },
  {
   "cell_type": "code",
   "execution_count": null,
   "metadata": {},
   "outputs": [],
   "source": []
  }
 ],
 "metadata": {
  "kernelspec": {
   "display_name": ".venv",
   "language": "python",
   "name": "python3"
  },
  "language_info": {
   "codemirror_mode": {
    "name": "ipython",
    "version": 3
   },
   "file_extension": ".py",
   "mimetype": "text/x-python",
   "name": "python",
   "nbconvert_exporter": "python",
   "pygments_lexer": "ipython3",
   "version": "3.8.10"
  },
  "orig_nbformat": 4,
  "vscode": {
   "interpreter": {
    "hash": "ea9ccb04e7308efcbefe4ed3ddff7336a57680ae622578d4fe4a2e3945390538"
   }
  }
 },
 "nbformat": 4,
 "nbformat_minor": 2
}
