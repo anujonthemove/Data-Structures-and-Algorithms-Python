{
 "cells": [
  {
   "attachments": {},
   "cell_type": "markdown",
   "metadata": {},
   "source": [
    "# Selection Sort using Recursion"
   ]
  },
  {
   "attachments": {},
   "cell_type": "markdown",
   "metadata": {},
   "source": [
    "## Iterative implementation\n",
    "* Just to get back the intuition of how selection sort works"
   ]
  },
  {
   "cell_type": "code",
   "execution_count": 1,
   "metadata": {},
   "outputs": [],
   "source": [
    "def selection_sort(arr):\n",
    "\n",
    "    for i in range(len(arr)):\n",
    "        min_element = arr[i]\n",
    "        min_idx = i\n",
    "        for j in range(i + 1, len(arr)):\n",
    "            if min_element > arr[j]:\n",
    "                min_element = arr[j]\n",
    "                min_idx = j\n",
    "\n",
    "        arr[min_idx], arr[i] = arr[i], arr[min_idx]\n",
    "\n",
    "    return arr"
   ]
  },
  {
   "cell_type": "code",
   "execution_count": 2,
   "metadata": {},
   "outputs": [
    {
     "data": {
      "text/plain": [
       "[1, 4, 6, 8, 10, 29, 57]"
      ]
     },
     "execution_count": 2,
     "metadata": {},
     "output_type": "execute_result"
    }
   ],
   "source": [
    "arr = [10, 1, 29, 8, 4, 57, 6]\n",
    "selection_sort(arr)"
   ]
  },
  {
   "cell_type": "code",
   "execution_count": 6,
   "metadata": {},
   "outputs": [],
   "source": [
    "def selection_sort_recursive(arr):\n",
    "\n",
    "    # 1. Base case\n",
    "    # if length of array is less than 1\n",
    "    # no need to sort, just return the array\n",
    "    if len(arr) < 1:\n",
    "        return arr\n",
    "\n",
    "    # 2. Processing\n",
    "    # assume 1st element is minimum\n",
    "    min_element = arr[0]\n",
    "    min_idx = 0\n",
    "\n",
    "    # Remember from the iterative version\n",
    "    # that the first for loop is for the\n",
    "    # number of rounds it takes to sort the\n",
    "    # array which is (n-1) as the first element\n",
    "    # gets sorted in the 0th round. This is now\n",
    "    # being taken care by recursion.\n",
    "    # The second for loop is used to find out the minimum\n",
    "    # element from the remaining array (arr[1:]) as\n",
    "    # the first element is assumed to be minimum.\n",
    "    for i in range(len(arr[1:]) + 1):\n",
    "        if min_element > arr[i]:\n",
    "            min_element = arr[i]\n",
    "            min_idx = i\n",
    "\n",
    "    # swap the element found at the min index\n",
    "    # with 0th element\n",
    "    arr[0], arr[min_idx] = arr[min_idx], arr[0]\n",
    "\n",
    "    # 3. Recursive relation\n",
    "    # what's happening here?\n",
    "    # since the first element is sorted in the sub-array\n",
    "    # so we build the remaining array by adding the sub array\n",
    "    # each time. Send the remaining array to solve with\n",
    "    # recursion.\n",
    "    # Each time we just compare 2 elements of the sub-array\n",
    "    # 0th element and the 1st of the remaining array\n",
    "\n",
    "    remaining = [arr[0]] + selection_sort_recursive(arr[1:])\n",
    "\n",
    "    return remaining"
   ]
  },
  {
   "cell_type": "code",
   "execution_count": 4,
   "metadata": {},
   "outputs": [
    {
     "data": {
      "text/plain": [
       "[1, 4, 6, 8, 10, 29, 57]"
      ]
     },
     "execution_count": 4,
     "metadata": {},
     "output_type": "execute_result"
    }
   ],
   "source": [
    "arr = [10, 1, 29, 8, 4, 57, 6]\n",
    "selection_sort_recursive(arr)"
   ]
  }
 ],
 "metadata": {
  "kernelspec": {
   "display_name": ".venv",
   "language": "python",
   "name": "python3"
  },
  "language_info": {
   "codemirror_mode": {
    "name": "ipython",
    "version": 3
   },
   "file_extension": ".py",
   "mimetype": "text/x-python",
   "name": "python",
   "nbconvert_exporter": "python",
   "pygments_lexer": "ipython3",
   "version": "3.8.10"
  },
  "orig_nbformat": 4,
  "vscode": {
   "interpreter": {
    "hash": "ea9ccb04e7308efcbefe4ed3ddff7336a57680ae622578d4fe4a2e3945390538"
   }
  }
 },
 "nbformat": 4,
 "nbformat_minor": 2
}
