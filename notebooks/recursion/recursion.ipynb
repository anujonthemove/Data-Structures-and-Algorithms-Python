{
 "cells": [
  {
   "attachments": {},
   "cell_type": "markdown",
   "metadata": {},
   "source": [
    "### Recursion\n",
    "\n",
    "From - Recursion Series by Code Help\n",
    "\n",
    "Video: https://www.youtube.com/watch?v=_-2u4EPHD88&list=PLDzeHZWIZsTqBmRGnsCOGNDG5FY0G04Td&ab_channel=CodeHelp-byBabbar\n",
    "\n",
    "\n",
    "\n",
    "```python\n",
    "\n",
    "def function():\n",
    "    1. Base case\n",
    "    # return is mandatory\n",
    "\n",
    "    2. Recurrence Relation\n",
    "    # small_problem\n",
    "    # big_problem \n",
    "\n",
    "    return big_problem\n",
    "```\n",
    "\n",
    "\n",
    "___\n",
    "\n",
    "\n",
    "\n",
    "```python\n",
    "\n",
    "def function():\n",
    "    \"\"\"\n",
    "    Tail Recursion\n",
    "    \n",
    "    \"\"\"\n",
    "\n",
    "    1. Base case\n",
    "    # return is mandatory\n",
    "\n",
    "    2. Processing\n",
    "    # e.g. print\n",
    "    \n",
    "    3. Recurrence Relation\n",
    "    # small_problem\n",
    "    # big_problem\n",
    "    \n",
    "\n",
    "    return big_problem\n",
    "```\n",
    "\n",
    "___\n",
    "\n",
    "\n",
    "```python\n",
    "\n",
    "def function():\n",
    "    \"\"\"\n",
    "    Head Recursion\n",
    "    \n",
    "    \"\"\"\n",
    "\n",
    "    1. Base case\n",
    "    # return is mandatory\n",
    "\n",
    "    2. Recurrence Relation\n",
    "    # small_problem\n",
    "    # big_problem\n",
    "\n",
    "    3. Processing\n",
    "    # e.g. print\n",
    "    \n",
    "   \n",
    "    return big_problem\n",
    "```\n"
   ]
  },
  {
   "cell_type": "markdown",
   "metadata": {},
   "source": []
  }
 ],
 "metadata": {
  "kernelspec": {
   "display_name": ".venv",
   "language": "python",
   "name": "python3"
  },
  "language_info": {
   "name": "python",
   "version": "3.8.10 (default, Nov 14 2022, 12:59:47) \n[GCC 9.4.0]"
  },
  "orig_nbformat": 4,
  "vscode": {
   "interpreter": {
    "hash": "ea9ccb04e7308efcbefe4ed3ddff7336a57680ae622578d4fe4a2e3945390538"
   }
  }
 },
 "nbformat": 4,
 "nbformat_minor": 2
}
