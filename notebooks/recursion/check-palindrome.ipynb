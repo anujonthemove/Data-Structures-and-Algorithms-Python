{
 "cells": [
  {
   "cell_type": "code",
   "execution_count": 1,
   "metadata": {},
   "outputs": [],
   "source": [
    "def check_palindrome(s, start, end):\n",
    "\n",
    "    # 1. Base case\n",
    "    # if start has crossed end it means\n",
    "    # that we have reached middle of the string\n",
    "    # without getting False\n",
    "    if start > end:\n",
    "        return True\n",
    "\n",
    "    # 2. Processing\n",
    "    # solve one small problem\n",
    "    # where we return False if first and last elements\n",
    "    # are not the same\n",
    "    if s[start] != s[end]:\n",
    "        return False\n",
    "\n",
    "    remaining = check_palindrome(s, start=start + 1, end=end - 1)\n",
    "    return remaining"
   ]
  },
  {
   "cell_type": "code",
   "execution_count": 2,
   "metadata": {},
   "outputs": [
    {
     "data": {
      "text/plain": [
       "True"
      ]
     },
     "execution_count": 2,
     "metadata": {},
     "output_type": "execute_result"
    }
   ],
   "source": [
    "s = \"civic\"\n",
    "check_palindrome(s, start=0, end=len(s) - 1)"
   ]
  }
 ],
 "metadata": {
  "kernelspec": {
   "display_name": "Python 3",
   "language": "python",
   "name": "python3"
  },
  "language_info": {
   "codemirror_mode": {
    "name": "ipython",
    "version": 3
   },
   "file_extension": ".py",
   "mimetype": "text/x-python",
   "name": "python",
   "nbconvert_exporter": "python",
   "pygments_lexer": "ipython3",
   "version": "3.8.10"
  },
  "orig_nbformat": 4,
  "vscode": {
   "interpreter": {
    "hash": "916dbcbb3f70747c44a77c7bcd40155683ae19c65e1c03b4aa3499c5328201f1"
   }
  }
 },
 "nbformat": 4,
 "nbformat_minor": 2
}
