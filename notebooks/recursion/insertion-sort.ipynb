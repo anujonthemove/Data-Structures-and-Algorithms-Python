{
 "cells": [
  {
   "cell_type": "code",
   "execution_count": 29,
   "metadata": {},
   "outputs": [],
   "source": [
    "def insertion_sort(arr):\n",
    "\n",
    "    for i in range(1, len(arr)):\n",
    "\n",
    "        start_idx = i\n",
    "        element = arr[i]\n",
    "        while element < arr[start_idx - 1] and start_idx > 0:\n",
    "            arr[start_idx] = arr[start_idx - 1]\n",
    "            start_idx -= 1\n",
    "        arr[start_idx] = element\n",
    "\n",
    "    return arr"
   ]
  },
  {
   "cell_type": "code",
   "execution_count": 30,
   "metadata": {},
   "outputs": [
    {
     "data": {
      "text/plain": [
       "[1, 4, 6, 8, 10, 29, 57]"
      ]
     },
     "execution_count": 30,
     "metadata": {},
     "output_type": "execute_result"
    }
   ],
   "source": [
    "arr = [10, 1, 29, 8, 4, 57, 6]\n",
    "insertion_sort(arr)"
   ]
  },
  {
   "cell_type": "code",
   "execution_count": 41,
   "metadata": {},
   "outputs": [],
   "source": [
    "def insertion_sort_recursive(arr):\n",
    "\n",
    "    if len(arr) <= 1:\n",
    "        return arr\n",
    "\n",
    "    start_idx = 1\n",
    "    element = arr[start_idx]\n",
    "\n",
    "    while element < arr[start_idx - 1] and start_idx > 0:\n",
    "        arr[start_idx] = arr[start_idx - 1]\n",
    "        start_idx -= 1\n",
    "    arr[start_idx] = element\n",
    "\n",
    "    remaining = [arr[0]] + insertion_sort_recursive(arr[1:])\n",
    "    return remaining"
   ]
  },
  {
   "cell_type": "code",
   "execution_count": 48,
   "metadata": {},
   "outputs": [],
   "source": [
    "def insertion_sort_recursive(arr):\n",
    "    "
   ]
  },
  {
   "cell_type": "code",
   "execution_count": 49,
   "metadata": {},
   "outputs": [
    {
     "ename": "IndexError",
     "evalue": "list index out of range",
     "output_type": "error",
     "traceback": [
      "\u001b[0;31m---------------------------------------------------------------------------\u001b[0m",
      "\u001b[0;31mIndexError\u001b[0m                                Traceback (most recent call last)",
      "Cell \u001b[0;32mIn[49], line 2\u001b[0m\n\u001b[1;32m      1\u001b[0m arr \u001b[39m=\u001b[39m [\u001b[39m10\u001b[39m, \u001b[39m1\u001b[39m, \u001b[39m29\u001b[39m, \u001b[39m8\u001b[39m, \u001b[39m4\u001b[39m, \u001b[39m57\u001b[39m, \u001b[39m6\u001b[39m]\n\u001b[0;32m----> 2\u001b[0m insertion_sort_recursive(arr, \u001b[39m0\u001b[39;49m)\n",
      "Cell \u001b[0;32mIn[48], line 15\u001b[0m, in \u001b[0;36minsertion_sort_recursive\u001b[0;34m(arr, start_idx)\u001b[0m\n\u001b[1;32m     11\u001b[0m     start_idx \u001b[39m-\u001b[39m\u001b[39m=\u001b[39m \u001b[39m1\u001b[39m\n\u001b[1;32m     12\u001b[0m arr[start_idx] \u001b[39m=\u001b[39m element\n\u001b[0;32m---> 15\u001b[0m \u001b[39mreturn\u001b[39;00m [arr[\u001b[39m0\u001b[39m]]\u001b[39m+\u001b[39minsertion_sort_recursive(arr, start_idx\u001b[39m+\u001b[39;49m\u001b[39m1\u001b[39;49m)\n",
      "Cell \u001b[0;32mIn[48], line 15\u001b[0m, in \u001b[0;36minsertion_sort_recursive\u001b[0;34m(arr, start_idx)\u001b[0m\n\u001b[1;32m     11\u001b[0m     start_idx \u001b[39m-\u001b[39m\u001b[39m=\u001b[39m \u001b[39m1\u001b[39m\n\u001b[1;32m     12\u001b[0m arr[start_idx] \u001b[39m=\u001b[39m element\n\u001b[0;32m---> 15\u001b[0m \u001b[39mreturn\u001b[39;00m [arr[\u001b[39m0\u001b[39m]]\u001b[39m+\u001b[39minsertion_sort_recursive(arr, start_idx\u001b[39m+\u001b[39;49m\u001b[39m1\u001b[39;49m)\n",
      "    \u001b[0;31m[... skipping similar frames: insertion_sort_recursive at line 15 (8 times)]\u001b[0m\n",
      "Cell \u001b[0;32mIn[48], line 15\u001b[0m, in \u001b[0;36minsertion_sort_recursive\u001b[0;34m(arr, start_idx)\u001b[0m\n\u001b[1;32m     11\u001b[0m     start_idx \u001b[39m-\u001b[39m\u001b[39m=\u001b[39m \u001b[39m1\u001b[39m\n\u001b[1;32m     12\u001b[0m arr[start_idx] \u001b[39m=\u001b[39m element\n\u001b[0;32m---> 15\u001b[0m \u001b[39mreturn\u001b[39;00m [arr[\u001b[39m0\u001b[39m]]\u001b[39m+\u001b[39minsertion_sort_recursive(arr, start_idx\u001b[39m+\u001b[39;49m\u001b[39m1\u001b[39;49m)\n",
      "Cell \u001b[0;32mIn[48], line 7\u001b[0m, in \u001b[0;36minsertion_sort_recursive\u001b[0;34m(arr, start_idx)\u001b[0m\n\u001b[1;32m      4\u001b[0m     \u001b[39mreturn\u001b[39;00m\n\u001b[1;32m      6\u001b[0m idx \u001b[39m=\u001b[39m start_idx\u001b[39m+\u001b[39m\u001b[39m1\u001b[39m\n\u001b[0;32m----> 7\u001b[0m element \u001b[39m=\u001b[39m arr[idx]\n\u001b[1;32m      9\u001b[0m \u001b[39mwhile\u001b[39;00m element \u001b[39m<\u001b[39m arr[start_idx\u001b[39m-\u001b[39m\u001b[39m1\u001b[39m] \u001b[39mand\u001b[39;00m start_idx \u001b[39m>\u001b[39m \u001b[39m0\u001b[39m:\n\u001b[1;32m     10\u001b[0m     arr[start_idx] \u001b[39m=\u001b[39m arr[start_idx\u001b[39m-\u001b[39m\u001b[39m1\u001b[39m]\n",
      "\u001b[0;31mIndexError\u001b[0m: list index out of range"
     ]
    }
   ],
   "source": [
    "arr = [10, 1, 29, 8, 4, 57, 6]\n",
    "insertion_sort_recursive(arr, 0)"
   ]
  },
  {
   "cell_type": "code",
   "execution_count": null,
   "metadata": {},
   "outputs": [],
   "source": []
  }
 ],
 "metadata": {
  "kernelspec": {
   "display_name": ".venv",
   "language": "python",
   "name": "python3"
  },
  "language_info": {
   "codemirror_mode": {
    "name": "ipython",
    "version": 3
   },
   "file_extension": ".py",
   "mimetype": "text/x-python",
   "name": "python",
   "nbconvert_exporter": "python",
   "pygments_lexer": "ipython3",
   "version": "3.8.10"
  },
  "orig_nbformat": 4,
  "vscode": {
   "interpreter": {
    "hash": "ea9ccb04e7308efcbefe4ed3ddff7336a57680ae622578d4fe4a2e3945390538"
   }
  }
 },
 "nbformat": 4,
 "nbformat_minor": 2
}
