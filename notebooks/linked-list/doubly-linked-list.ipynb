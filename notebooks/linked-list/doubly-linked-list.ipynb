{
 "cells": [
  {
   "cell_type": "code",
   "execution_count": 22,
   "id": "55ee212b",
   "metadata": {},
   "outputs": [],
   "source": [
    "class Node:\n",
    "    def __init__(self, data, next_node=None, prev_node=None):\n",
    "        self.data = data\n",
    "        self.prev = prev_node\n",
    "        self.next = next_node\n",
    "        \n",
    "    \n",
    "    def __repr__(self):\n",
    "        return \"<Node: %s>\" % self.data"
   ]
  },
  {
   "cell_type": "code",
   "execution_count": 23,
   "id": "892642ff",
   "metadata": {},
   "outputs": [],
   "source": [
    "class DoublyLinkedList:\n",
    "    def __init__(self):\n",
    "        self.head = None\n",
    "        self.__count = 0\n",
    "\n",
    "    def __len__(self):\n",
    "        return self.__count\n",
    "\n",
    "    def __iter__(self):\n",
    "        current = self.head\n",
    "        while current != None:\n",
    "            yield current.data\n",
    "            current = current.next\n",
    "            \n",
    "    def is_empty(self):\n",
    "        return self.head == None\n",
    "\n",
    "    def __repr__(self):\n",
    "        current = self.head\n",
    "        nodes = []\n",
    "        while current != None:\n",
    "            if current == self.head:\n",
    "                nodes.append(\"[Head: %s]\" % current.data)\n",
    "            elif current.next == None:\n",
    "                nodes.append(\"[Tail: %s]\" % current.data)\n",
    "            else:\n",
    "                nodes.append(\"[%s]\" % current.data)\n",
    "            \n",
    "            current = current.next\n",
    "            \n",
    "        return \"->\".join(nodes)\n",
    "    \n",
    "    \n",
    "    def add_head(self, data):\n",
    "        node = Node(data)\n",
    "        if self.head == None:\n",
    "            self.head = node\n",
    "        else:\n",
    "            self.head.prev = node\n",
    "            node.next = self.head\n",
    "            self.head = node\n",
    "        \n",
    "        self.__count += 1\n",
    "        \n",
    "    def add_head_alt(self, data):\n",
    "        node = Node(data, next_node=self.head)\n",
    "        \n",
    "        if self.head == None:\n",
    "            self.head = node\n",
    "        else:\n",
    "            self.head.prev = node\n",
    "            self.head = node\n",
    "        self.__count += 1\n",
    "        \n",
    "    def add_tail(self, data):\n",
    "        node = Node(data)\n",
    "        \n",
    "        if self.head == None:\n",
    "            self.head = node\n",
    "        else:\n",
    "            current = self.head\n",
    "            while current.next != None:\n",
    "                current = current.next\n",
    "            \n",
    "            current.next = node\n",
    "            node.prev = current\n",
    "            \n",
    "        self.__count += 1\n",
    "    \n",
    "    \n",
    "    def insert(self, data, index):\n",
    "        if index < 0 or index > self.__count:\n",
    "            print(\"Index out of bounds\")\n",
    "            return\n",
    "        \n",
    "        node = Node(data)\n",
    "        pos = 0\n",
    "        current = self.head\n",
    "        previous = self.head\n",
    "        \n",
    "        while pos < index:\n",
    "            previous = current\n",
    "            current = current.next\n",
    "            pos += 1\n",
    "            \n",
    "        print(\"pos: {}, index: {}\".format(pos, index))\n",
    "        print(\"previous: {}\".format(previous))\n",
    "        print(\"current: {}\".format(current))\n",
    "        \n",
    "        if pos == 0 or self.head == None:\n",
    "            print(\"Inserting => {} at head\".format(data))\n",
    "            node.next = self.head\n",
    "            self.head = node\n",
    "            # self.__count += 1\n",
    "            \n",
    "        elif current is None:\n",
    "            print(\"Inserting => {} at tail\".format(data))\n",
    "            previous.next = node\n",
    "            node.prev = previous\n",
    "        else:\n",
    "            print(\"Inserting => {} at zero-index pos: {}\".format(data, pos))\n",
    "            node.next = current\n",
    "            node.prev = previous\n",
    "            previous.next = node\n",
    "        \n",
    "        self.__count += 1\n",
    "        print(\"Length of current list is : {}\".format(self.__count))\n",
    "        \n",
    "    def node_at_index(self, index):\n",
    "        pass\n",
    "    \n",
    "    def remove_at_index(self, index):\n",
    "        pass\n",
    "    \n",
    "    def remove_element(self, element):\n",
    "        pass\n",
    "    \n",
    "    def search(self, key):\n",
    "        pass\n",
    "    \n",
    "    def reverse(self):\n",
    "        if self.__count == 0 or self.head is None:\n",
    "            print(\"List is empty, nothing to reverse\")\n",
    "            return\n",
    "        \n"
   ]
  },
  {
   "cell_type": "code",
   "execution_count": 24,
   "id": "64962319",
   "metadata": {},
   "outputs": [],
   "source": [
    "dl = DoublyLinkedList()"
   ]
  },
  {
   "cell_type": "code",
   "execution_count": 25,
   "id": "1ff952a0",
   "metadata": {},
   "outputs": [],
   "source": [
    "for i in range(0, 4):\n",
    "    dl.add_head_alt(i)"
   ]
  },
  {
   "cell_type": "code",
   "execution_count": 26,
   "id": "1586e675",
   "metadata": {},
   "outputs": [
    {
     "data": {
      "text/plain": [
       "4"
      ]
     },
     "execution_count": 26,
     "metadata": {},
     "output_type": "execute_result"
    }
   ],
   "source": [
    "len(dl)"
   ]
  },
  {
   "cell_type": "code",
   "execution_count": 27,
   "id": "30742ac1",
   "metadata": {},
   "outputs": [
    {
     "name": "stdout",
     "output_type": "stream",
     "text": [
      "3\n",
      "2\n",
      "1\n",
      "0\n"
     ]
    }
   ],
   "source": [
    "for i in dl:\n",
    "    print(i)"
   ]
  },
  {
   "cell_type": "code",
   "execution_count": 28,
   "id": "f98cc6f2",
   "metadata": {},
   "outputs": [
    {
     "data": {
      "text/plain": [
       "[Head: 3]->[2]->[1]->[Tail: 0]"
      ]
     },
     "execution_count": 28,
     "metadata": {},
     "output_type": "execute_result"
    }
   ],
   "source": [
    "dl"
   ]
  },
  {
   "cell_type": "code",
   "execution_count": 29,
   "id": "28e69369",
   "metadata": {},
   "outputs": [
    {
     "data": {
      "text/plain": [
       "4"
      ]
     },
     "execution_count": 29,
     "metadata": {},
     "output_type": "execute_result"
    }
   ],
   "source": [
    "len(dl)"
   ]
  },
  {
   "cell_type": "code",
   "execution_count": 9,
   "id": "01ea712f",
   "metadata": {},
   "outputs": [
    {
     "name": "stdout",
     "output_type": "stream",
     "text": [
      "Index out of bounds\n"
     ]
    }
   ],
   "source": [
    "dl.insert(10, 10)"
   ]
  },
  {
   "cell_type": "code",
   "execution_count": 10,
   "id": "0bd10136",
   "metadata": {},
   "outputs": [
    {
     "name": "stdout",
     "output_type": "stream",
     "text": [
      "pos: 0, index: 0\n",
      "previous: <Node: 3>\n",
      "current: <Node: 3>\n",
      "Inserting => 100 at head\n",
      "Length of current list is : 5\n"
     ]
    }
   ],
   "source": [
    "dl.insert(data=100, index=0)"
   ]
  },
  {
   "cell_type": "code",
   "execution_count": 11,
   "id": "b5990501",
   "metadata": {},
   "outputs": [
    {
     "data": {
      "text/plain": [
       "[Head: 100]->[3]->[2]->[1]->[Tail: 0]"
      ]
     },
     "execution_count": 11,
     "metadata": {},
     "output_type": "execute_result"
    }
   ],
   "source": [
    "dl"
   ]
  },
  {
   "cell_type": "code",
   "execution_count": 12,
   "id": "4164a329",
   "metadata": {},
   "outputs": [
    {
     "data": {
      "text/plain": [
       "5"
      ]
     },
     "execution_count": 12,
     "metadata": {},
     "output_type": "execute_result"
    }
   ],
   "source": [
    "len(dl)"
   ]
  },
  {
   "cell_type": "code",
   "execution_count": 13,
   "id": "d8238248",
   "metadata": {},
   "outputs": [
    {
     "name": "stdout",
     "output_type": "stream",
     "text": [
      "pos: 5, index: 5\n",
      "previous: <Node: 0>\n",
      "current: None\n",
      "Inserting => 500 at tail\n",
      "Length of current list is : 6\n"
     ]
    }
   ],
   "source": [
    "dl.insert(data=500, index=5)"
   ]
  },
  {
   "cell_type": "code",
   "execution_count": 14,
   "id": "ed90fc71",
   "metadata": {},
   "outputs": [
    {
     "data": {
      "text/plain": [
       "[Head: 100]->[3]->[2]->[1]->[0]->[Tail: 500]"
      ]
     },
     "execution_count": 14,
     "metadata": {},
     "output_type": "execute_result"
    }
   ],
   "source": [
    "dl"
   ]
  },
  {
   "cell_type": "code",
   "execution_count": 15,
   "id": "0ccd9cc6",
   "metadata": {},
   "outputs": [
    {
     "name": "stdout",
     "output_type": "stream",
     "text": [
      "pos: 4, index: 4\n",
      "previous: <Node: 1>\n",
      "current: <Node: 0>\n",
      "Inserting => 1000 at zero-index pos: 4\n",
      "Length of current list is : 7\n"
     ]
    }
   ],
   "source": [
    "dl.insert(data=1000, index=4)"
   ]
  },
  {
   "cell_type": "code",
   "execution_count": 16,
   "id": "57a20d45",
   "metadata": {},
   "outputs": [
    {
     "data": {
      "text/plain": [
       "[Head: 100]->[3]->[2]->[1]->[1000]->[0]->[Tail: 500]"
      ]
     },
     "execution_count": 16,
     "metadata": {},
     "output_type": "execute_result"
    }
   ],
   "source": [
    "dl"
   ]
  },
  {
   "cell_type": "code",
   "execution_count": 17,
   "id": "b8f8e29b",
   "metadata": {},
   "outputs": [
    {
     "name": "stdout",
     "output_type": "stream",
     "text": [
      "pos: 6, index: 6\n",
      "previous: <Node: 0>\n",
      "current: <Node: 500>\n",
      "Inserting => -1 at zero-index pos: 6\n",
      "Length of current list is : 8\n"
     ]
    }
   ],
   "source": [
    "dl.insert(data=-1, index=6)"
   ]
  },
  {
   "cell_type": "code",
   "execution_count": 18,
   "id": "6dd4c8d1",
   "metadata": {},
   "outputs": [
    {
     "data": {
      "text/plain": [
       "8"
      ]
     },
     "execution_count": 18,
     "metadata": {},
     "output_type": "execute_result"
    }
   ],
   "source": [
    "len(dl)"
   ]
  },
  {
   "cell_type": "code",
   "execution_count": 19,
   "id": "9a04850a",
   "metadata": {},
   "outputs": [
    {
     "data": {
      "text/plain": [
       "[Head: 100]->[3]->[2]->[1]->[1000]->[0]->[-1]->[Tail: 500]"
      ]
     },
     "execution_count": 19,
     "metadata": {},
     "output_type": "execute_result"
    }
   ],
   "source": [
    "dl"
   ]
  },
  {
   "cell_type": "code",
   "execution_count": 33,
   "id": "b4d1b197",
   "metadata": {},
   "outputs": [
    {
     "name": "stdout",
     "output_type": "stream",
     "text": [
      "0\n"
     ]
    }
   ],
   "source": [
    "dl.reverse()"
   ]
  },
  {
   "cell_type": "code",
   "execution_count": 34,
   "id": "6f319736",
   "metadata": {},
   "outputs": [
    {
     "data": {
      "text/plain": [
       "[Head: 0]"
      ]
     },
     "execution_count": 34,
     "metadata": {},
     "output_type": "execute_result"
    }
   ],
   "source": [
    "dl"
   ]
  },
  {
   "cell_type": "code",
   "execution_count": null,
   "id": "49def40d",
   "metadata": {},
   "outputs": [],
   "source": []
  }
 ],
 "metadata": {
  "kernelspec": {
   "display_name": "Python 3 (ipykernel)",
   "language": "python",
   "name": "python3"
  },
  "language_info": {
   "codemirror_mode": {
    "name": "ipython",
    "version": 3
   },
   "file_extension": ".py",
   "mimetype": "text/x-python",
   "name": "python",
   "nbconvert_exporter": "python",
   "pygments_lexer": "ipython3",
   "version": "3.8.10"
  }
 },
 "nbformat": 4,
 "nbformat_minor": 5
}
