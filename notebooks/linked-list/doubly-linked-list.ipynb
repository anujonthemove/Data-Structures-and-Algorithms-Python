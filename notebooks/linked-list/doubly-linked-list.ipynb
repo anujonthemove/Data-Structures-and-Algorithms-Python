{
 "cells": [
  {
   "cell_type": "code",
   "execution_count": 1,
   "id": "55ee212b",
   "metadata": {},
   "outputs": [],
   "source": [
    "class Node:\n",
    "    def __init__(self, data, next_node=None, prev_node=None):\n",
    "        self.data = data\n",
    "        self.prev = prev_node\n",
    "        self.next = next_node\n",
    "\n",
    "    def __repr__(self):\n",
    "        return \"<Node: %s>\" % self.data"
   ]
  },
  {
   "cell_type": "code",
   "execution_count": 2,
   "id": "892642ff",
   "metadata": {
    "code_folding": []
   },
   "outputs": [],
   "source": [
    "class DoublyLinkedList:\n",
    "    def __init__(self):\n",
    "        self.head = None\n",
    "        self.__count = 0\n",
    "\n",
    "    def __len__(self):\n",
    "        return self.__count\n",
    "\n",
    "    def __iter__(self):\n",
    "        current = self.head\n",
    "        while current != None:\n",
    "            yield current.data\n",
    "            current = current.next\n",
    "\n",
    "    def is_empty(self):\n",
    "        return self.head == None\n",
    "\n",
    "    def is_empty_alt(self):\n",
    "        if self.__count == 0 or self.head is None:\n",
    "            print(\"List is empty\")\n",
    "        return\n",
    "\n",
    "    def __repr__(self):\n",
    "        current = self.head\n",
    "        nodes = []\n",
    "        while current != None:\n",
    "            if current == self.head:\n",
    "                nodes.append(\"[Head: %s]\" % current.data)\n",
    "            elif current.next == None:\n",
    "                nodes.append(\"[Tail: %s]\" % current.data)\n",
    "            else:\n",
    "                nodes.append(\"[%s]\" % current.data)\n",
    "\n",
    "            current = current.next\n",
    "\n",
    "        return \"->\".join(nodes)\n",
    "\n",
    "    def add_head(self, data):\n",
    "        node = Node(data)\n",
    "        if self.head == None:\n",
    "            self.head = node\n",
    "        else:\n",
    "            self.head.prev = node\n",
    "            node.next = self.head\n",
    "            self.head = node\n",
    "\n",
    "        self.__count += 1\n",
    "\n",
    "    def add_head_alt(self, data):\n",
    "        node = Node(data, next_node=self.head)\n",
    "\n",
    "        if self.head == None:\n",
    "            self.head = node\n",
    "        else:\n",
    "            self.head.prev = node\n",
    "            self.head = node\n",
    "        self.__count += 1\n",
    "\n",
    "    def add_tail(self, data):\n",
    "        node = Node(data)\n",
    "\n",
    "        if self.head == None:\n",
    "            self.head = node\n",
    "        else:\n",
    "            current = self.head\n",
    "            while current.next != None:\n",
    "                current = current.next\n",
    "\n",
    "            current.next = node\n",
    "            node.prev = current\n",
    "\n",
    "        self.__count += 1\n",
    "\n",
    "    def insert(self, data, index):\n",
    "        if index < 0 or index > self.__count:\n",
    "            print(\"Index out of bounds\")\n",
    "            return\n",
    "\n",
    "        node = Node(data)\n",
    "        pos = 0\n",
    "        current = self.head\n",
    "        previous = self.head\n",
    "\n",
    "        while pos < index:\n",
    "            previous = current\n",
    "            current = current.next\n",
    "            pos += 1\n",
    "\n",
    "        print(\"pos: {}, index: {}\".format(pos, index))\n",
    "        print(\"previous: {}\".format(previous))\n",
    "        print(\"current: {}\".format(current))\n",
    "\n",
    "        if pos == 0 or self.head == None:\n",
    "            print(\"Inserting => {} at head\".format(data))\n",
    "            node.next = self.head\n",
    "            self.head = node\n",
    "            # self.__count += 1\n",
    "\n",
    "        elif current is None:\n",
    "            print(\"Inserting => {} at tail\".format(data))\n",
    "            previous.next = node\n",
    "            node.prev = previous\n",
    "        else:\n",
    "            print(\"Inserting => {} at zero-index pos: {}\".format(data, pos))\n",
    "            node.next = current\n",
    "            node.prev = previous\n",
    "            previous.next = node\n",
    "\n",
    "        self.__count += 1\n",
    "        print(\"Length of current list is : {}\".format(self.__count))\n",
    "\n",
    "    def node_at_index(self, index):\n",
    "        if index < 0 or index >= self.__count:\n",
    "            print(\"index out of bounds\")\n",
    "            return\n",
    "\n",
    "        current = self.head\n",
    "        pos = 0\n",
    "        while pos < index:\n",
    "            current = current.next\n",
    "            pos += 1\n",
    "        return current\n",
    "\n",
    "    def search(self, key):\n",
    "        if not self.is_empty():\n",
    "            current = self.head\n",
    "            found = False\n",
    "            pos = 0\n",
    "            while current is not None and not found:\n",
    "                if key == current.data:\n",
    "                    found = True\n",
    "                    break\n",
    "                pos += 1\n",
    "                current = current.next\n",
    "\n",
    "            if found:\n",
    "                print(\"Found key: {} at postion: {}\".format(key, pos))\n",
    "            else:\n",
    "                print(\"No node/element exists matching the given key: {}\".format(key))\n",
    "\n",
    "    def reverse(self):\n",
    "        if self.__count == 0 or self.head is None:\n",
    "            print(\"List is empty, nothing to reverse\")\n",
    "            return\n",
    "\n",
    "\n",
    "## This method uses another variable previous but that is not required.\n",
    "## Think of a way to solve this without that\n",
    "\n",
    "#     def remove_key(self, key):\n",
    "\n",
    "#         if self.__count < 0 or self.head == None:\n",
    "#             print(\"Empty list\")\n",
    "#             return\n",
    "\n",
    "\n",
    "#         previous = self.head\n",
    "#         current = self.head\n",
    "#         found = False\n",
    "\n",
    "#         while current != None:\n",
    "#             if current.data == key:\n",
    "#                 found = True\n",
    "#                 break\n",
    "#             previous = current\n",
    "#             current = current.next\n",
    "\n",
    "#         if found:\n",
    "#             if current == self.head:\n",
    "#                 if current.next == None:\n",
    "#                     print(\"only one element at head\")\n",
    "#                     self.head = None\n",
    "#                     del current\n",
    "#                     del previous\n",
    "#                 else:\n",
    "#                     print(\"at head but more elements present\")\n",
    "#                     self.head = current.next\n",
    "#                     current.prev = None\n",
    "#                     del current\n",
    "#                     del previous\n",
    "\n",
    "#             elif current.next == None and previous.next != None:\n",
    "#                 print(\"element at tail\")\n",
    "#                 print(\"previous: \", previous)\n",
    "#                 print(\"current: \", current)\n",
    "#                 previous.next = None\n",
    "#                 del current\n",
    "#             else:\n",
    "#                 print(\"middle?\")\n",
    "#                 previous.next = current.next\n",
    "#                 current.next.prev = previous\n",
    "#                 del current\n",
    "#             self.__count -= 1\n",
    "#         else:\n",
    "#             print(\"Key: {} not found\".format(key))"
   ]
  },
  {
   "cell_type": "code",
   "execution_count": 3,
   "id": "64962319",
   "metadata": {},
   "outputs": [],
   "source": [
    "dl = DoublyLinkedList()"
   ]
  },
  {
   "cell_type": "code",
   "execution_count": 4,
   "id": "1ff952a0",
   "metadata": {},
   "outputs": [],
   "source": [
    "for i in range(0, 4):\n",
    "    dl.add_head_alt(i)"
   ]
  },
  {
   "cell_type": "code",
   "execution_count": 5,
   "id": "1586e675",
   "metadata": {},
   "outputs": [
    {
     "data": {
      "text/plain": [
       "4"
      ]
     },
     "execution_count": 5,
     "metadata": {},
     "output_type": "execute_result"
    }
   ],
   "source": [
    "len(dl)"
   ]
  },
  {
   "cell_type": "code",
   "execution_count": 6,
   "id": "30742ac1",
   "metadata": {},
   "outputs": [
    {
     "name": "stdout",
     "output_type": "stream",
     "text": [
      "3\n",
      "2\n",
      "1\n",
      "0\n"
     ]
    }
   ],
   "source": [
    "for i in dl:\n",
    "    print(i)"
   ]
  },
  {
   "cell_type": "code",
   "execution_count": 7,
   "id": "f98cc6f2",
   "metadata": {},
   "outputs": [
    {
     "data": {
      "text/plain": [
       "[Head: 3]->[2]->[1]->[Tail: 0]"
      ]
     },
     "execution_count": 7,
     "metadata": {},
     "output_type": "execute_result"
    }
   ],
   "source": [
    "dl"
   ]
  },
  {
   "cell_type": "code",
   "execution_count": 8,
   "id": "28e69369",
   "metadata": {},
   "outputs": [
    {
     "data": {
      "text/plain": [
       "4"
      ]
     },
     "execution_count": 8,
     "metadata": {},
     "output_type": "execute_result"
    }
   ],
   "source": [
    "len(dl)"
   ]
  },
  {
   "cell_type": "code",
   "execution_count": 9,
   "id": "01ea712f",
   "metadata": {},
   "outputs": [
    {
     "name": "stdout",
     "output_type": "stream",
     "text": [
      "Index out of bounds\n"
     ]
    }
   ],
   "source": [
    "dl.insert(10, 10)"
   ]
  },
  {
   "cell_type": "code",
   "execution_count": 10,
   "id": "0bd10136",
   "metadata": {},
   "outputs": [
    {
     "name": "stdout",
     "output_type": "stream",
     "text": [
      "pos: 0, index: 0\n",
      "previous: <Node: 3>\n",
      "current: <Node: 3>\n",
      "Inserting => 100 at head\n",
      "Length of current list is : 5\n"
     ]
    }
   ],
   "source": [
    "dl.insert(data=100, index=0)"
   ]
  },
  {
   "cell_type": "code",
   "execution_count": 11,
   "id": "b5990501",
   "metadata": {},
   "outputs": [
    {
     "data": {
      "text/plain": [
       "[Head: 100]->[3]->[2]->[1]->[Tail: 0]"
      ]
     },
     "execution_count": 11,
     "metadata": {},
     "output_type": "execute_result"
    }
   ],
   "source": [
    "dl"
   ]
  },
  {
   "cell_type": "code",
   "execution_count": 12,
   "id": "4164a329",
   "metadata": {},
   "outputs": [
    {
     "data": {
      "text/plain": [
       "5"
      ]
     },
     "execution_count": 12,
     "metadata": {},
     "output_type": "execute_result"
    }
   ],
   "source": [
    "len(dl)"
   ]
  },
  {
   "cell_type": "code",
   "execution_count": 13,
   "id": "d8238248",
   "metadata": {},
   "outputs": [
    {
     "name": "stdout",
     "output_type": "stream",
     "text": [
      "pos: 5, index: 5\n",
      "previous: <Node: 0>\n",
      "current: None\n",
      "Inserting => 500 at tail\n",
      "Length of current list is : 6\n"
     ]
    }
   ],
   "source": [
    "dl.insert(data=500, index=5)"
   ]
  },
  {
   "cell_type": "code",
   "execution_count": 14,
   "id": "ed90fc71",
   "metadata": {},
   "outputs": [
    {
     "data": {
      "text/plain": [
       "[Head: 100]->[3]->[2]->[1]->[0]->[Tail: 500]"
      ]
     },
     "execution_count": 14,
     "metadata": {},
     "output_type": "execute_result"
    }
   ],
   "source": [
    "dl"
   ]
  },
  {
   "cell_type": "code",
   "execution_count": 15,
   "id": "0ccd9cc6",
   "metadata": {},
   "outputs": [
    {
     "name": "stdout",
     "output_type": "stream",
     "text": [
      "pos: 4, index: 4\n",
      "previous: <Node: 1>\n",
      "current: <Node: 0>\n",
      "Inserting => 1000 at zero-index pos: 4\n",
      "Length of current list is : 7\n"
     ]
    }
   ],
   "source": [
    "dl.insert(data=1000, index=4)"
   ]
  },
  {
   "cell_type": "code",
   "execution_count": 16,
   "id": "57a20d45",
   "metadata": {},
   "outputs": [
    {
     "data": {
      "text/plain": [
       "[Head: 100]->[3]->[2]->[1]->[1000]->[0]->[Tail: 500]"
      ]
     },
     "execution_count": 16,
     "metadata": {},
     "output_type": "execute_result"
    }
   ],
   "source": [
    "dl"
   ]
  },
  {
   "cell_type": "code",
   "execution_count": 17,
   "id": "b8f8e29b",
   "metadata": {},
   "outputs": [
    {
     "name": "stdout",
     "output_type": "stream",
     "text": [
      "pos: 6, index: 6\n",
      "previous: <Node: 0>\n",
      "current: <Node: 500>\n",
      "Inserting => -1 at zero-index pos: 6\n",
      "Length of current list is : 8\n"
     ]
    }
   ],
   "source": [
    "dl.insert(data=-1, index=6)"
   ]
  },
  {
   "cell_type": "code",
   "execution_count": 18,
   "id": "6dd4c8d1",
   "metadata": {},
   "outputs": [
    {
     "data": {
      "text/plain": [
       "8"
      ]
     },
     "execution_count": 18,
     "metadata": {},
     "output_type": "execute_result"
    }
   ],
   "source": [
    "len(dl)"
   ]
  },
  {
   "cell_type": "code",
   "execution_count": 19,
   "id": "9a04850a",
   "metadata": {},
   "outputs": [
    {
     "data": {
      "text/plain": [
       "[Head: 100]->[3]->[2]->[1]->[1000]->[0]->[-1]->[Tail: 500]"
      ]
     },
     "execution_count": 19,
     "metadata": {},
     "output_type": "execute_result"
    }
   ],
   "source": [
    "dl"
   ]
  },
  {
   "cell_type": "code",
   "execution_count": 20,
   "id": "b4d1b197",
   "metadata": {},
   "outputs": [],
   "source": [
    "dl.reverse()"
   ]
  },
  {
   "cell_type": "code",
   "execution_count": 21,
   "id": "6f319736",
   "metadata": {},
   "outputs": [
    {
     "data": {
      "text/plain": [
       "[Head: 100]->[3]->[2]->[1]->[1000]->[0]->[-1]->[Tail: 500]"
      ]
     },
     "execution_count": 21,
     "metadata": {},
     "output_type": "execute_result"
    }
   ],
   "source": [
    "dl"
   ]
  },
  {
   "cell_type": "code",
   "execution_count": 22,
   "id": "49def40d",
   "metadata": {},
   "outputs": [
    {
     "data": {
      "text/plain": [
       "8"
      ]
     },
     "execution_count": 22,
     "metadata": {},
     "output_type": "execute_result"
    }
   ],
   "source": [
    "len(dl)"
   ]
  },
  {
   "cell_type": "code",
   "execution_count": 23,
   "id": "e91e1ede",
   "metadata": {},
   "outputs": [
    {
     "data": {
      "text/plain": [
       "<Node: 500>"
      ]
     },
     "execution_count": 23,
     "metadata": {},
     "output_type": "execute_result"
    }
   ],
   "source": [
    "dl.node_at_index(7)"
   ]
  },
  {
   "cell_type": "code",
   "execution_count": 24,
   "id": "5d5807db",
   "metadata": {},
   "outputs": [
    {
     "data": {
      "text/plain": [
       "<Node: 100>"
      ]
     },
     "execution_count": 24,
     "metadata": {},
     "output_type": "execute_result"
    }
   ],
   "source": [
    "dl.node_at_index(0)"
   ]
  },
  {
   "cell_type": "code",
   "execution_count": 25,
   "id": "74b8ddfd",
   "metadata": {},
   "outputs": [
    {
     "name": "stdout",
     "output_type": "stream",
     "text": [
      "index out of bounds\n"
     ]
    }
   ],
   "source": [
    "dl.node_at_index(8)"
   ]
  },
  {
   "cell_type": "code",
   "execution_count": 26,
   "id": "9e4e1bf4",
   "metadata": {},
   "outputs": [
    {
     "data": {
      "text/plain": [
       "<Node: 3>"
      ]
     },
     "execution_count": 26,
     "metadata": {},
     "output_type": "execute_result"
    }
   ],
   "source": [
    "dl.node_at_index(1)"
   ]
  },
  {
   "cell_type": "code",
   "execution_count": 27,
   "id": "28a27713",
   "metadata": {},
   "outputs": [
    {
     "name": "stdout",
     "output_type": "stream",
     "text": [
      "Found key: 500 at postion: 7\n"
     ]
    }
   ],
   "source": [
    "dl.search(500)"
   ]
  },
  {
   "cell_type": "code",
   "execution_count": 28,
   "id": "cc1de62c",
   "metadata": {},
   "outputs": [
    {
     "name": "stdout",
     "output_type": "stream",
     "text": [
      "Found key: 100 at postion: 0\n"
     ]
    }
   ],
   "source": [
    "dl.search(100)"
   ]
  },
  {
   "cell_type": "code",
   "execution_count": 29,
   "id": "9c7511c1",
   "metadata": {},
   "outputs": [
    {
     "name": "stdout",
     "output_type": "stream",
     "text": [
      "Found key: 0 at postion: 5\n"
     ]
    }
   ],
   "source": [
    "dl.search(0)"
   ]
  },
  {
   "cell_type": "code",
   "execution_count": 30,
   "id": "114b25db",
   "metadata": {},
   "outputs": [
    {
     "name": "stdout",
     "output_type": "stream",
     "text": [
      "No node/element exists matching the given key: 2000\n"
     ]
    }
   ],
   "source": [
    "dl.search(2000)"
   ]
  },
  {
   "cell_type": "markdown",
   "id": "9fa19245",
   "metadata": {},
   "source": [
    "### Remove element"
   ]
  },
  {
   "cell_type": "code",
   "execution_count": 31,
   "id": "efc2f927",
   "metadata": {},
   "outputs": [
    {
     "data": {
      "text/plain": [
       "[Head: 100]->[3]->[2]->[1]->[1000]->[0]->[-1]->[Tail: 500]"
      ]
     },
     "execution_count": 31,
     "metadata": {},
     "output_type": "execute_result"
    }
   ],
   "source": [
    "dl"
   ]
  },
  {
   "cell_type": "code",
   "execution_count": 32,
   "id": "c0cc7952",
   "metadata": {},
   "outputs": [
    {
     "ename": "AttributeError",
     "evalue": "'DoublyLinkedList' object has no attribute 'remove'",
     "output_type": "error",
     "traceback": [
      "\u001b[0;31m---------------------------------------------------------------------------\u001b[0m",
      "\u001b[0;31mAttributeError\u001b[0m                            Traceback (most recent call last)",
      "Cell \u001b[0;32mIn [32], line 1\u001b[0m\n\u001b[0;32m----> 1\u001b[0m dl\u001b[39m.\u001b[39;49mremove(\u001b[39m1\u001b[39m)\n",
      "\u001b[0;31mAttributeError\u001b[0m: 'DoublyLinkedList' object has no attribute 'remove'"
     ]
    }
   ],
   "source": [
    "dl.remove(1)"
   ]
  },
  {
   "cell_type": "code",
   "execution_count": null,
   "id": "77432caf",
   "metadata": {},
   "outputs": [],
   "source": [
    "dl"
   ]
  },
  {
   "cell_type": "code",
   "execution_count": null,
   "id": "bf7afc23",
   "metadata": {},
   "outputs": [],
   "source": [
    "dl.remove(500)"
   ]
  },
  {
   "cell_type": "code",
   "execution_count": null,
   "id": "cc727549",
   "metadata": {},
   "outputs": [],
   "source": [
    "dl"
   ]
  },
  {
   "cell_type": "code",
   "execution_count": null,
   "id": "441f6570",
   "metadata": {},
   "outputs": [],
   "source": [
    "dl.remove_key(100)"
   ]
  },
  {
   "cell_type": "code",
   "execution_count": null,
   "id": "af87accd",
   "metadata": {},
   "outputs": [],
   "source": [
    "dl"
   ]
  },
  {
   "cell_type": "code",
   "execution_count": null,
   "id": "4728aa21",
   "metadata": {},
   "outputs": [],
   "source": []
  },
  {
   "cell_type": "code",
   "execution_count": null,
   "id": "b8e54db8",
   "metadata": {},
   "outputs": [],
   "source": []
  },
  {
   "cell_type": "code",
   "execution_count": null,
   "id": "986c909c",
   "metadata": {},
   "outputs": [],
   "source": []
  },
  {
   "cell_type": "code",
   "execution_count": null,
   "id": "35ced2f9",
   "metadata": {},
   "outputs": [],
   "source": []
  },
  {
   "cell_type": "markdown",
   "id": "21a1d77e",
   "metadata": {},
   "source": [
    "### Remove element from index"
   ]
  },
  {
   "cell_type": "code",
   "execution_count": null,
   "id": "85e2fd55",
   "metadata": {},
   "outputs": [],
   "source": [
    "# dl.remove_at_index(0)\n",
    "\n",
    "# dl\n",
    "\n",
    "# dl.remove_at_index(3)\n",
    "\n",
    "# dl\n",
    "\n",
    "# dl.remove_at_index(4)\n",
    "\n",
    "# len(dl)\n",
    "\n",
    "# dl.remove_at_index(0)\n",
    "\n",
    "# dl\n",
    "\n",
    "# dl.remove_at_index(1)\n",
    "\n",
    "# dl\n",
    "\n",
    "# dl.remove_at_index(0)\n",
    "\n",
    "# len(dl)\n",
    "\n",
    "# dl.remove_element(1)\n",
    "\n",
    "# len(dl)\n",
    "\n",
    "# dl"
   ]
  },
  {
   "cell_type": "code",
   "execution_count": null,
   "id": "1841d24e",
   "metadata": {},
   "outputs": [],
   "source": [
    "dl = DoublyLinkedList()"
   ]
  },
  {
   "cell_type": "code",
   "execution_count": null,
   "id": "82b8596d",
   "metadata": {},
   "outputs": [],
   "source": [
    "dl.add_head(5)\n",
    "dl.add_head(4)"
   ]
  },
  {
   "cell_type": "code",
   "execution_count": null,
   "id": "8aca80dc",
   "metadata": {},
   "outputs": [],
   "source": [
    "dl"
   ]
  },
  {
   "cell_type": "code",
   "execution_count": null,
   "id": "2bd39ea7",
   "metadata": {},
   "outputs": [],
   "source": [
    "dl.remove_key(5)"
   ]
  },
  {
   "cell_type": "code",
   "execution_count": null,
   "id": "c77894e6",
   "metadata": {},
   "outputs": [],
   "source": [
    "dl.remove_key(500)"
   ]
  },
  {
   "cell_type": "code",
   "execution_count": null,
   "id": "27ae1078",
   "metadata": {},
   "outputs": [],
   "source": [
    "dl.remove_key(1)"
   ]
  },
  {
   "cell_type": "code",
   "execution_count": null,
   "id": "9ce825dd",
   "metadata": {},
   "outputs": [],
   "source": []
  }
 ],
 "metadata": {
  "kernelspec": {
   "display_name": ".venv",
   "language": "python",
   "name": "python3"
  },
  "language_info": {
   "codemirror_mode": {
    "name": "ipython",
    "version": 3
   },
   "file_extension": ".py",
   "mimetype": "text/x-python",
   "name": "python",
   "nbconvert_exporter": "python",
   "pygments_lexer": "ipython3",
   "version": "3.8.10 (default, Nov 14 2022, 12:59:47) \n[GCC 9.4.0]"
  },
  "vscode": {
   "interpreter": {
    "hash": "ea9ccb04e7308efcbefe4ed3ddff7336a57680ae622578d4fe4a2e3945390538"
   }
  }
 },
 "nbformat": 4,
 "nbformat_minor": 5
}
