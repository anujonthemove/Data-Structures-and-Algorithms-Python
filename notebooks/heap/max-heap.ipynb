{
 "cells": [
  {
   "cell_type": "markdown",
   "metadata": {},
   "source": [
    "### Max Heap\n",
    "\n",
    "#### References:\n",
    "1. https://favtutor.com/blogs/heap-in-python\n",
    "\n",
    "\n",
    "\n",
    "To-do:\n",
    "1. One more way of implementing this is keep inserting into a list and at the end call build heap function\n",
    "2. correct print_heap"
   ]
  },
  {
   "cell_type": "code",
   "execution_count": 9,
   "metadata": {},
   "outputs": [],
   "source": [
    "class MaxHeap:\n",
    "    def __init__(self, arr):\n",
    "        self.heap = arr\n",
    "        self.size = len(self.heap)\n",
    "\n",
    "    def max_heapify(self, i):\n",
    "        largest = i\n",
    "\n",
    "        left_child_idx = 2 * i + 1\n",
    "        right_child_idx = 2 * i + 2\n",
    "\n",
    "        # check whether the left child index is within array bounds\n",
    "        # check if the current element is smaller than the left child\n",
    "        # if yes then set left child index to be the largest\n",
    "        if left_child_idx < self.size and self.heap[i] < self.heap[left_child_idx]:\n",
    "            largest = left_child_idx\n",
    "\n",
    "        # check whether the right child index is within array bounds\n",
    "        # check if the current element is smaller than the left child\n",
    "        # if yes then set left child index to be the largest\n",
    "        if (\n",
    "            right_child_idx < self.size\n",
    "            and self.heap[largest] < self.heap[right_child_idx]\n",
    "        ):\n",
    "            largest = right_child_idx\n",
    "\n",
    "        # if one of the above has set largest then we need to swap the largest element\n",
    "        # with the current node we are looking at\n",
    "        # and then continue doing heapify until the largest element\n",
    "        # is pushed in the correct place\n",
    "        if largest != i:\n",
    "            self.heap[i], self.heap[largest] = self.heap[largest], self.heap[i]\n",
    "            self.max_heapify(largest)\n",
    "\n",
    "    def build_max_heap(self):\n",
    "\n",
    "        n = int((len(self.heap) // 2) - 1)\n",
    "        for k in range(n, -1, -1):\n",
    "            self.max_heapify(k)\n",
    "\n",
    "    def delete(self, num):\n",
    "        for i in range(self.size):\n",
    "            if num == i:\n",
    "                break\n",
    "\n",
    "        self.heap[i], self.heap[self.size - 1] = self.heap[self.size - 1], self.heap[i]\n",
    "        self.heap.remove(num)\n",
    "        self.size -= 1\n",
    "        for i in range((self.size // 2) - 1, -1, -1):\n",
    "            self.max_heapify(i)\n",
    "\n",
    "    def print_heap(self):\n",
    "        pass\n",
    "\n",
    "    def get_max(self):\n",
    "        if self.size > 0:\n",
    "            return self.heap[0]"
   ]
  },
  {
   "cell_type": "code",
   "execution_count": 10,
   "metadata": {},
   "outputs": [],
   "source": [
    "arr = list(range(10))\n",
    "heap = MaxHeap(arr)\n",
    "\n",
    "heap.build_max_heap()"
   ]
  },
  {
   "cell_type": "code",
   "execution_count": 11,
   "metadata": {},
   "outputs": [
    {
     "data": {
      "text/plain": [
       "[9, 8, 6, 7, 4, 5, 2, 0, 3, 1]"
      ]
     },
     "execution_count": 11,
     "metadata": {},
     "output_type": "execute_result"
    }
   ],
   "source": [
    "heap.heap"
   ]
  },
  {
   "cell_type": "code",
   "execution_count": 12,
   "metadata": {},
   "outputs": [],
   "source": [
    "heap.delete(9)"
   ]
  },
  {
   "cell_type": "code",
   "execution_count": 13,
   "metadata": {},
   "outputs": [
    {
     "data": {
      "text/plain": [
       "[8, 6, 7, 4, 5, 2, 0, 3, 1]"
      ]
     },
     "execution_count": 13,
     "metadata": {},
     "output_type": "execute_result"
    }
   ],
   "source": [
    "heap.heap"
   ]
  },
  {
   "cell_type": "code",
   "execution_count": 14,
   "metadata": {},
   "outputs": [],
   "source": [
    "heap.delete(5)"
   ]
  },
  {
   "cell_type": "code",
   "execution_count": 15,
   "metadata": {},
   "outputs": [
    {
     "data": {
      "text/plain": [
       "[8, 6, 7, 4, 1, 0, 3, 2]"
      ]
     },
     "execution_count": 15,
     "metadata": {},
     "output_type": "execute_result"
    }
   ],
   "source": [
    "heap.heap"
   ]
  },
  {
   "cell_type": "code",
   "execution_count": 16,
   "metadata": {},
   "outputs": [
    {
     "name": "stdout",
     "output_type": "stream",
     "text": [
      "[8, 6, 7, 4, 1, 0, 3, 2]\n"
     ]
    }
   ],
   "source": [
    "import heapq\n",
    "\n",
    "lst = [8, 6, 7, 4, 1, 0, 3, 2]\n",
    "# lst = list(range(10))\n",
    "heapq._heapify_max(lst)\n",
    "print(lst)"
   ]
  },
  {
   "cell_type": "code",
   "execution_count": 17,
   "metadata": {},
   "outputs": [
    {
     "data": {
      "text/plain": [
       "8"
      ]
     },
     "execution_count": 17,
     "metadata": {},
     "output_type": "execute_result"
    }
   ],
   "source": [
    "heap.get_max()"
   ]
  },
  {
   "cell_type": "code",
   "execution_count": null,
   "metadata": {},
   "outputs": [],
   "source": []
  }
 ],
 "metadata": {
  "kernelspec": {
   "display_name": "Python 3.8.10 ('.venv': pipenv)",
   "language": "python",
   "name": "python3"
  },
  "language_info": {
   "codemirror_mode": {
    "name": "ipython",
    "version": 3
   },
   "file_extension": ".py",
   "mimetype": "text/x-python",
   "name": "python",
   "nbconvert_exporter": "python",
   "pygments_lexer": "ipython3",
   "version": "3.8.10"
  },
  "orig_nbformat": 4,
  "vscode": {
   "interpreter": {
    "hash": "ea9ccb04e7308efcbefe4ed3ddff7336a57680ae622578d4fe4a2e3945390538"
   }
  }
 },
 "nbformat": 4,
 "nbformat_minor": 2
}
