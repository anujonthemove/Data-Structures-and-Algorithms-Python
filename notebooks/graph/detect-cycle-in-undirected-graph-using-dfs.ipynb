{
 "cells": [
  {
   "cell_type": "markdown",
   "metadata": {},
   "source": [
    "### Detect Cycle in Undirected Graph using DFS\n",
    "\n",
    "#### References\n",
    "1. https://www.geeksforgeeks.org/detect-cycle-undirected-graph/"
   ]
  },
  {
   "cell_type": "code",
   "execution_count": 1,
   "metadata": {},
   "outputs": [],
   "source": [
    "from utils.graph import GraphAdjList as Graph\n",
    "from utils.graph_properties import GraphPropertiesAdjList as gp"
   ]
  },
  {
   "cell_type": "code",
   "execution_count": 49,
   "metadata": {},
   "outputs": [],
   "source": [
    "# graph with cycle\n",
    "g = Graph()\n",
    "g.insert_node(0, 1)\n",
    "g.insert_node(1, 0)\n",
    "g.insert_node(1, 3)\n",
    "g.insert_node(2, 1)\n",
    "g.insert_node(2, 4)\n",
    "g.insert_node(3, 1)\n",
    "g.insert_node(3, 4)\n",
    "g.insert_node(4, 2)\n",
    "g.insert_node(4, 3)\n",
    "g.insert_node(4, 5)\n",
    "g.insert_node(5, 4)"
   ]
  },
  {
   "cell_type": "code",
   "execution_count": 50,
   "metadata": {},
   "outputs": [
    {
     "name": "stdout",
     "output_type": "stream",
     "text": [
      "0: [1]\n",
      "1: [0, 3]\n",
      "2: [1, 4]\n",
      "3: [1, 4]\n",
      "4: [2, 3, 5]\n",
      "5: [4]\n"
     ]
    }
   ],
   "source": [
    "gp.print_graph(g.graph)"
   ]
  },
  {
   "cell_type": "code",
   "execution_count": 57,
   "metadata": {},
   "outputs": [],
   "source": [
    "def DFS_util(graph, node, visited_node_set, parent):\n",
    "\n",
    "    # print(node)\n",
    "    visited_node_set.add(node)\n",
    "    #    1                  2\n",
    "    for neighbour in graph[node]:\n",
    "        if neighbour not in visited_node_set:\n",
    "            if DFS_util(graph, neighbour, visited_node_set, node):\n",
    "                return True\n",
    "        elif parent != neighbour:\n",
    "            return True\n",
    "\n",
    "    return False"
   ]
  },
  {
   "cell_type": "code",
   "execution_count": 58,
   "metadata": {},
   "outputs": [],
   "source": [
    "def is_cyclic(graph):\n",
    "    num_vertices = gp.num_vertices(graph)\n",
    "    parent = -1\n",
    "\n",
    "    visited_node_set = set()\n",
    "\n",
    "    for vertex in range(num_vertices):\n",
    "        if vertex not in visited_node_set:\n",
    "            if DFS_util(graph, vertex, visited_node_set, parent):\n",
    "                return True\n",
    "    return False"
   ]
  },
  {
   "cell_type": "code",
   "execution_count": 59,
   "metadata": {},
   "outputs": [
    {
     "name": "stdout",
     "output_type": "stream",
     "text": [
      "1 4\n"
     ]
    },
    {
     "data": {
      "text/plain": [
       "True"
      ]
     },
     "execution_count": 59,
     "metadata": {},
     "output_type": "execute_result"
    }
   ],
   "source": [
    "is_cyclic(g.graph)"
   ]
  }
 ],
 "metadata": {
  "kernelspec": {
   "display_name": "Python 3.8.10 ('.venv': pipenv)",
   "language": "python",
   "name": "python3"
  },
  "language_info": {
   "codemirror_mode": {
    "name": "ipython",
    "version": 3
   },
   "file_extension": ".py",
   "mimetype": "text/x-python",
   "name": "python",
   "nbconvert_exporter": "python",
   "pygments_lexer": "ipython3",
   "version": "3.8.10"
  },
  "orig_nbformat": 4,
  "vscode": {
   "interpreter": {
    "hash": "ea9ccb04e7308efcbefe4ed3ddff7336a57680ae622578d4fe4a2e3945390538"
   }
  }
 },
 "nbformat": 4,
 "nbformat_minor": 2
}
