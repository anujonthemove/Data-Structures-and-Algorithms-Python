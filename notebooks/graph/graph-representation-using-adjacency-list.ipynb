{
 "cells": [
  {
   "cell_type": "markdown",
   "metadata": {},
   "source": [
    "#### Graph Representation using Adjacency List"
   ]
  },
  {
   "cell_type": "markdown",
   "metadata": {},
   "source": [
    "#### Graph\n",
    "\n",
    "```\n",
    "Graph\n",
    "\n",
    "0---1\n",
    "|  /\n",
    "| /\n",
    "|/\n",
    "2---3\n",
    "\n",
    "\n",
    "```"
   ]
  },
  {
   "cell_type": "markdown",
   "metadata": {},
   "source": [
    "```\n",
    "Expected Adjacency List\n",
    "\n",
    "=> [0, 1, 2, 3, 4]\n",
    "\n",
    "        |\n",
    "        |\n",
    "        V\n",
    "\n",
    "\n",
    "0[] -> [1 | ] -> [2 | ]\n",
    "1[] -> [0 | ] -> [2 | ]\n",
    "2[] -> [0 | ] -> [1 | ] -> [3 | ]\n",
    "3[] -> [2 | ]\n",
    "\n",
    "```"
   ]
  },
  {
   "cell_type": "code",
   "execution_count": 1,
   "metadata": {},
   "outputs": [],
   "source": [
    "from utils.nodes import SinglyLinkedListNode as Node"
   ]
  },
  {
   "cell_type": "code",
   "execution_count": 2,
   "metadata": {},
   "outputs": [],
   "source": [
    "class Graph:\n",
    "    def __init__(self, vertices) -> None:\n",
    "        self.vertices = vertices\n",
    "        self.list = [None] * self.vertices\n",
    "\n",
    "    def add_node(self, idx, data):\n",
    "        node = Node(data)\n",
    "        if self.list[idx] is None:\n",
    "            self.list[idx] = node\n",
    "        else:\n",
    "            ptr = self.list[idx]\n",
    "            while ptr.next is not None:\n",
    "                ptr = ptr.next\n",
    "\n",
    "            ptr.next = node\n",
    "\n",
    "    def traverse(self):\n",
    "\n",
    "        for i in range(len(self.list)):\n",
    "            done = False\n",
    "            ptr = self.list[i]\n",
    "            while ptr is not None:\n",
    "                if not done:\n",
    "                    print(f\"[{i}] -> \", end=\"\")\n",
    "                    done = True\n",
    "                print(f\"[{ptr.data} | ] \", end=\"\")\n",
    "                if ptr.next is not None:\n",
    "                    print(\"->\", end=\"\")\n",
    "\n",
    "                ptr = ptr.next\n",
    "            print()"
   ]
  },
  {
   "cell_type": "code",
   "execution_count": 3,
   "metadata": {},
   "outputs": [],
   "source": [
    "graph = Graph(5)\n",
    "graph.add_node(0, 1)\n",
    "graph.add_node(0, 2)\n",
    "graph.add_node(1, 0)\n",
    "graph.add_node(1, 2)\n",
    "graph.add_node(2, 0)\n",
    "graph.add_node(2, 1)\n",
    "graph.add_node(2, 3)\n",
    "graph.add_node(3, 2)"
   ]
  },
  {
   "cell_type": "code",
   "execution_count": 4,
   "metadata": {},
   "outputs": [
    {
     "name": "stdout",
     "output_type": "stream",
     "text": [
      "[0] -> [1 | ] ->[2 | ] \n",
      "[1] -> [0 | ] ->[2 | ] \n",
      "[2] -> [0 | ] ->[1 | ] ->[3 | ] \n",
      "[3] -> [2 | ] \n",
      "\n"
     ]
    }
   ],
   "source": [
    "graph.traverse()"
   ]
  },
  {
   "cell_type": "code",
   "execution_count": null,
   "metadata": {},
   "outputs": [],
   "source": []
  }
 ],
 "metadata": {
  "kernelspec": {
   "display_name": "Python 3.8.10 ('.venv': pipenv)",
   "language": "python",
   "name": "python3"
  },
  "language_info": {
   "codemirror_mode": {
    "name": "ipython",
    "version": 3
   },
   "file_extension": ".py",
   "mimetype": "text/x-python",
   "name": "python",
   "nbconvert_exporter": "python",
   "pygments_lexer": "ipython3",
   "version": "3.8.10"
  },
  "orig_nbformat": 4,
  "vscode": {
   "interpreter": {
    "hash": "ea9ccb04e7308efcbefe4ed3ddff7336a57680ae622578d4fe4a2e3945390538"
   }
  }
 },
 "nbformat": 4,
 "nbformat_minor": 2
}
