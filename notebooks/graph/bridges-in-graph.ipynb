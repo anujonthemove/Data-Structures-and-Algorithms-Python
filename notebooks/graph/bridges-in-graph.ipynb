{
 "cells": [
  {
   "cell_type": "code",
   "execution_count": 26,
   "metadata": {},
   "outputs": [],
   "source": [
    "from utils.graph import GraphAdjList as Graph\n",
    "from utils.graph_properties import GraphPropertiesAdjList as gp"
   ]
  },
  {
   "cell_type": "code",
   "execution_count": 27,
   "metadata": {},
   "outputs": [],
   "source": [
    "g = Graph()\n",
    "g.insert_node_undirected(1, 0)\n",
    "g.insert_node_undirected(0, 2)\n",
    "g.insert_node_undirected(2, 1)\n",
    "g.insert_node_undirected(0, 3)\n",
    "g.insert_node_undirected(3, 4)"
   ]
  },
  {
   "cell_type": "code",
   "execution_count": 28,
   "metadata": {},
   "outputs": [
    {
     "data": {
      "text/plain": [
       "defaultdict(list, {1: [0, 2], 0: [1, 2, 3], 2: [0, 1], 3: [0, 4], 4: [3]})"
      ]
     },
     "execution_count": 28,
     "metadata": {},
     "output_type": "execute_result"
    }
   ],
   "source": [
    "g.graph"
   ]
  },
  {
   "cell_type": "code",
   "execution_count": 29,
   "metadata": {},
   "outputs": [],
   "source": [
    "num_vertices = gp.num_vertices(g.graph)"
   ]
  },
  {
   "cell_type": "code",
   "execution_count": 33,
   "metadata": {},
   "outputs": [],
   "source": [
    "class bridges:\n",
    "    def __init__(self, graph, num_vertices):\n",
    "        self.graph = graph\n",
    "        self.num_vertices = num_vertices\n",
    "        self.visited = [False] * self.num_vertices\n",
    "        self.disc = [float(\"inf\")] * self.num_vertices\n",
    "        self.low = [float(\"inf\")] * self.num_vertices\n",
    "        self.time = 0\n",
    "        self.parent = [-1] * self.num_vertices\n",
    "        self.answer = []\n",
    "\n",
    "    def bridge_util(self, node):\n",
    "        self.visited[node] = True\n",
    "        self.disc[node] = self.time\n",
    "        self.low[node] = self.time\n",
    "        self.time += 1\n",
    "\n",
    "        for neighbour in self.graph[node]:\n",
    "\n",
    "            # case-1 ignored\n",
    "            if self.parent[node] == neighbour:\n",
    "                continue\n",
    "\n",
    "            if self.visited[neighbour] == False:\n",
    "                self.parent[neighbour] = node\n",
    "                self.bridge_util(neighbour)\n",
    "\n",
    "                # after returning from recursion\n",
    "                # update the parent\n",
    "                self.low[node] = min(self.low[node], self.low[neighbour])\n",
    "\n",
    "                # check for bridge for every edge\n",
    "                if self.low[neighbour] > self.disc[node]:\n",
    "                    self.answer.append([node, neighbour])\n",
    "\n",
    "            # if neighbour is visited and is not equal to\n",
    "            # back edge is there\n",
    "            elif self.parent[node] != neighbour:\n",
    "                # back edge\n",
    "                self.low[node] = min(self.low[node], self.disc[neighbour])\n",
    "\n",
    "    def bridge(self):\n",
    "        for node in range(self.num_vertices):\n",
    "            if self.visited[node] == False:\n",
    "                self.bridge_util(node)"
   ]
  },
  {
   "cell_type": "code",
   "execution_count": 34,
   "metadata": {},
   "outputs": [],
   "source": [
    "obj = bridges(g.graph, num_vertices=num_vertices)"
   ]
  },
  {
   "cell_type": "code",
   "execution_count": 35,
   "metadata": {},
   "outputs": [],
   "source": [
    "obj.bridge()"
   ]
  },
  {
   "cell_type": "code",
   "execution_count": 36,
   "metadata": {},
   "outputs": [
    {
     "data": {
      "text/plain": [
       "[[3, 4], [0, 3]]"
      ]
     },
     "execution_count": 36,
     "metadata": {},
     "output_type": "execute_result"
    }
   ],
   "source": [
    "obj.answer"
   ]
  },
  {
   "cell_type": "code",
   "execution_count": null,
   "metadata": {},
   "outputs": [],
   "source": []
  }
 ],
 "metadata": {
  "kernelspec": {
   "display_name": "Python 3.8.10 ('.venv': pipenv)",
   "language": "python",
   "name": "python3"
  },
  "language_info": {
   "codemirror_mode": {
    "name": "ipython",
    "version": 3
   },
   "file_extension": ".py",
   "mimetype": "text/x-python",
   "name": "python",
   "nbconvert_exporter": "python",
   "pygments_lexer": "ipython3",
   "version": "3.8.10"
  },
  "orig_nbformat": 4,
  "vscode": {
   "interpreter": {
    "hash": "ea9ccb04e7308efcbefe4ed3ddff7336a57680ae622578d4fe4a2e3945390538"
   }
  }
 },
 "nbformat": 4,
 "nbformat_minor": 2
}
