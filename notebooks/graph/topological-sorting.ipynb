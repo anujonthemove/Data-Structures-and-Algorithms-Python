{
 "cells": [
  {
   "cell_type": "code",
   "execution_count": 30,
   "metadata": {},
   "outputs": [],
   "source": [
    "from utils.graph import GraphAdjList as Graph\n",
    "from utils.graph_properties import GraphPropertiesAdjList as gp"
   ]
  },
  {
   "cell_type": "code",
   "execution_count": 31,
   "metadata": {},
   "outputs": [],
   "source": [
    "g = Graph()\n",
    "g.insert_node_directed(5, 2)\n",
    "g.insert_node_directed(5, 0)\n",
    "g.insert_node_directed(4, 0)\n",
    "g.insert_node_directed(4, 1)\n",
    "g.insert_node_directed(2, 3)\n",
    "g.insert_node_directed(3, 1)"
   ]
  },
  {
   "cell_type": "code",
   "execution_count": 32,
   "metadata": {},
   "outputs": [
    {
     "data": {
      "text/plain": [
       "defaultdict(list, {5: [2, 0], 4: [0, 1], 2: [3], 3: [1]})"
      ]
     },
     "execution_count": 32,
     "metadata": {},
     "output_type": "execute_result"
    }
   ],
   "source": [
    "g.graph"
   ]
  },
  {
   "cell_type": "code",
   "execution_count": 25,
   "metadata": {},
   "outputs": [],
   "source": [
    "class topologicalSorting:\n",
    "    def __init__(self, num_vertices, graph):\n",
    "        self.graph = graph\n",
    "        self.num_vertices = num_vertices\n",
    "        self.visited_node_set = set()\n",
    "        self.stack = []\n",
    "\n",
    "    def topological_sorting_util(self, node):\n",
    "        self.visited_node_set.add(node)\n",
    "        for v in self.graph[node]:\n",
    "            if v not in self.visited_node_set:\n",
    "                self.topological_sorting_util(v)\n",
    "\n",
    "        self.stack.append(node)\n",
    "\n",
    "    def topological_sorting(self):\n",
    "        for node in range(self.num_vertices):\n",
    "            if node not in self.visited_node_set:\n",
    "                self.topological_sorting_util(node)\n",
    "        print(self.stack[::-1])"
   ]
  },
  {
   "cell_type": "code",
   "execution_count": 33,
   "metadata": {},
   "outputs": [],
   "source": [
    "num_vertices = gp.num_vertices(g.graph)"
   ]
  },
  {
   "cell_type": "code",
   "execution_count": 35,
   "metadata": {},
   "outputs": [],
   "source": [
    "test = topologicalSorting(num_vertices=num_vertices, graph=g.graph)"
   ]
  },
  {
   "cell_type": "code",
   "execution_count": 36,
   "metadata": {},
   "outputs": [
    {
     "name": "stdout",
     "output_type": "stream",
     "text": [
      "[5, 4, 2, 3, 1, 0]\n"
     ]
    }
   ],
   "source": [
    "test.topological_sorting()"
   ]
  },
  {
   "cell_type": "code",
   "execution_count": 39,
   "metadata": {},
   "outputs": [
    {
     "data": {
      "text/plain": [
       "[3]"
      ]
     },
     "execution_count": 39,
     "metadata": {},
     "output_type": "execute_result"
    }
   ],
   "source": [
    "g.graph[2]"
   ]
  },
  {
   "cell_type": "code",
   "execution_count": null,
   "metadata": {},
   "outputs": [],
   "source": []
  }
 ],
 "metadata": {
  "kernelspec": {
   "display_name": "Python 3.8.10 ('.venv': pipenv)",
   "language": "python",
   "name": "python3"
  },
  "language_info": {
   "codemirror_mode": {
    "name": "ipython",
    "version": 3
   },
   "file_extension": ".py",
   "mimetype": "text/x-python",
   "name": "python",
   "nbconvert_exporter": "python",
   "pygments_lexer": "ipython3",
   "version": "3.8.10"
  },
  "orig_nbformat": 4,
  "vscode": {
   "interpreter": {
    "hash": "ea9ccb04e7308efcbefe4ed3ddff7336a57680ae622578d4fe4a2e3945390538"
   }
  }
 },
 "nbformat": 4,
 "nbformat_minor": 2
}
