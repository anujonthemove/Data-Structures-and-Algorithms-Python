{
 "cells": [
  {
   "cell_type": "code",
   "execution_count": 2,
   "metadata": {},
   "outputs": [],
   "source": [
    "from utils.graph import GraphAdjMatrix as Graph"
   ]
  },
  {
   "cell_type": "code",
   "execution_count": 3,
   "metadata": {},
   "outputs": [],
   "source": [
    "num_vertices = 5"
   ]
  },
  {
   "cell_type": "code",
   "execution_count": 4,
   "metadata": {},
   "outputs": [],
   "source": [
    "g = Graph(num_vertices=num_vertices)"
   ]
  },
  {
   "cell_type": "code",
   "execution_count": 5,
   "metadata": {},
   "outputs": [],
   "source": [
    "g.graph = [\n",
    "    [0, 2, 0, 6, 0],\n",
    "    [2, 0, 3, 8, 5],\n",
    "    [0, 3, 0, 0, 7],\n",
    "    [6, 8, 0, 0, 9],\n",
    "    [0, 5, 7, 9, 0],\n",
    "]"
   ]
  },
  {
   "cell_type": "code",
   "execution_count": 6,
   "metadata": {},
   "outputs": [
    {
     "data": {
      "text/plain": [
       "[[0, 2, 0, 6, 0],\n",
       " [2, 0, 3, 8, 5],\n",
       " [0, 3, 0, 0, 7],\n",
       " [6, 8, 0, 0, 9],\n",
       " [0, 5, 7, 9, 0]]"
      ]
     },
     "execution_count": 6,
     "metadata": {},
     "output_type": "execute_result"
    }
   ],
   "source": [
    "g.graph"
   ]
  },
  {
   "cell_type": "code",
   "execution_count": 7,
   "metadata": {},
   "outputs": [],
   "source": [
    "def find_min_wt_node(weights, visited):\n",
    "\n",
    "    min_wt = float(\"inf\")\n",
    "    min_idx = -1\n",
    "    for idx, weight in enumerate(weights):\n",
    "        if min_wt > weight and not visited[idx]:\n",
    "            min_wt = weight\n",
    "            min_idx = idx\n",
    "    return min_idx"
   ]
  },
  {
   "cell_type": "code",
   "execution_count": 14,
   "metadata": {},
   "outputs": [],
   "source": [
    "def prims_MST(graph, num_vertices):\n",
    "    \"\"\"\n",
    "    we define 3 most important list data structures here: weights, visited, parent\n",
    "\n",
    "    weights: store minimum weights corresponding to the edges.\n",
    "\n",
    "    visited: boolean list which keeps a track of visited nodes\n",
    "\n",
    "    parent: values correspond to the parent of the node in graph.\n",
    "\n",
    "    * The indices of these list correspond to the nodes in the graph\n",
    "\n",
    "\n",
    "    Args:\n",
    "        graph (_type_): Adjacency Matrix graph\n",
    "        num_vertices (_type_): # vertices in graph\n",
    "    \"\"\"\n",
    "\n",
    "    weights = [float(\"inf\")] * num_vertices\n",
    "    visited = [False] * num_vertices\n",
    "    parent = [-1] * num_vertices\n",
    "\n",
    "    # we can start with any node so we start with the 0th and assign it's weight to 0\n",
    "    weights[0] = 0\n",
    "\n",
    "    # since our MST has to have the same number of nodes as in original graph\n",
    "    # we loop through through # edges to build an MST\n",
    "    for _ in range(num_vertices):\n",
    "\n",
    "        # find the node with minimum weight\n",
    "        min_wt_node = find_min_wt_node(weights, visited)\n",
    "\n",
    "        visited[min_wt_node] = True\n",
    "\n",
    "        # go to all the adjacent nodes of this node\n",
    "\n",
    "        for adj_node in range(num_vertices):\n",
    "            # three things to check here:\n",
    "            # * check for a valid graph edge: graph[min_wt_node][adj_node] != 0\n",
    "            # * check if this node is not already visited: not visited[adj_node]\n",
    "            # * compare weight of this adj node in weight array with weight from the graph node we are visiting:\n",
    "            #       weight[adj_node] & graph[min_wt_node][adj_node]\n",
    "            #       *   if weight in the weight array is more then replace it with the weight from the visiting graph node:\n",
    "            #               weight[adj_node] = graph[min_wt_node][adj_node]\n",
    "            #               since this is minimum and it came from the visiting graph node, record it's parent to be visiting graph node:\n",
    "            #               parent[adj_node] = min_wt_node\n",
    "\n",
    "            if (\n",
    "                graph[min_wt_node][adj_node] > 0\n",
    "                and visited[adj_node] == False\n",
    "                and weights[adj_node] > graph[min_wt_node][adj_node]\n",
    "            ):\n",
    "                weights[adj_node] = graph[min_wt_node][adj_node]\n",
    "                parent[adj_node] = min_wt_node\n",
    "\n",
    "    print(parent)"
   ]
  },
  {
   "cell_type": "code",
   "execution_count": 15,
   "metadata": {},
   "outputs": [
    {
     "name": "stdout",
     "output_type": "stream",
     "text": [
      "[-1, 0, 1, 0, 1]\n"
     ]
    }
   ],
   "source": [
    "prims_MST(g.graph, num_vertices)"
   ]
  },
  {
   "cell_type": "code",
   "execution_count": null,
   "metadata": {},
   "outputs": [],
   "source": []
  }
 ],
 "metadata": {
  "kernelspec": {
   "display_name": "Python 3.8.10 ('.venv': pipenv)",
   "language": "python",
   "name": "python3"
  },
  "language_info": {
   "codemirror_mode": {
    "name": "ipython",
    "version": 3
   },
   "file_extension": ".py",
   "mimetype": "text/x-python",
   "name": "python",
   "nbconvert_exporter": "python",
   "pygments_lexer": "ipython3",
   "version": "3.8.10"
  },
  "orig_nbformat": 4,
  "vscode": {
   "interpreter": {
    "hash": "ea9ccb04e7308efcbefe4ed3ddff7336a57680ae622578d4fe4a2e3945390538"
   }
  }
 },
 "nbformat": 4,
 "nbformat_minor": 2
}
