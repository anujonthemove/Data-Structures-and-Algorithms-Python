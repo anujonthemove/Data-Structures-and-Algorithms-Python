{
 "cells": [
  {
   "cell_type": "markdown",
   "metadata": {},
   "source": [
    "#### Dijkstra's Algorithm\n",
    "\n",
    "Single source shortest path algorithm\n",
    "\n",
    "* Brute Force approach\n",
    "* Adjacency Matrix representation"
   ]
  },
  {
   "cell_type": "code",
   "execution_count": 28,
   "metadata": {},
   "outputs": [],
   "source": [
    "from utils.graph import GraphAdjMatrix as Graph"
   ]
  },
  {
   "cell_type": "code",
   "execution_count": 29,
   "metadata": {},
   "outputs": [],
   "source": [
    "num_vertices = 9\n",
    "g = Graph(num_vertices)\n",
    "g.graph = [\n",
    "    [0, 4, 0, 0, 0, 0, 0, 8, 0],\n",
    "    [4, 0, 8, 0, 0, 0, 0, 11, 0],\n",
    "    [0, 8, 0, 7, 0, 4, 0, 0, 2],\n",
    "    [0, 0, 7, 0, 9, 14, 0, 0, 0],\n",
    "    [0, 0, 0, 9, 0, 10, 0, 0, 0],\n",
    "    [0, 0, 4, 14, 10, 0, 2, 0, 0],\n",
    "    [0, 0, 0, 0, 0, 2, 0, 1, 6],\n",
    "    [8, 11, 0, 0, 0, 0, 1, 0, 7],\n",
    "    [0, 0, 2, 0, 0, 0, 6, 7, 0],\n",
    "]"
   ]
  },
  {
   "cell_type": "code",
   "execution_count": 30,
   "metadata": {},
   "outputs": [
    {
     "data": {
      "text/plain": [
       "[[0, 4, 0, 0, 0, 0, 0, 8, 0],\n",
       " [4, 0, 8, 0, 0, 0, 0, 11, 0],\n",
       " [0, 8, 0, 7, 0, 4, 0, 0, 2],\n",
       " [0, 0, 7, 0, 9, 14, 0, 0, 0],\n",
       " [0, 0, 0, 9, 0, 10, 0, 0, 0],\n",
       " [0, 0, 4, 14, 10, 0, 2, 0, 0],\n",
       " [0, 0, 0, 0, 0, 2, 0, 1, 6],\n",
       " [8, 11, 0, 0, 0, 0, 1, 0, 7],\n",
       " [0, 0, 2, 0, 0, 0, 6, 7, 0]]"
      ]
     },
     "execution_count": 30,
     "metadata": {},
     "output_type": "execute_result"
    }
   ],
   "source": [
    "g.graph"
   ]
  },
  {
   "cell_type": "code",
   "execution_count": 31,
   "metadata": {},
   "outputs": [],
   "source": [
    "class dijkstras_algorithm:\n",
    "    def __init__(self, graph, num_vertices):\n",
    "        self.graph = graph\n",
    "        self.num_vertices = num_vertices\n",
    "        self.dist = [float(\"inf\")] * self.num_vertices\n",
    "        self.visited = [False] * self.num_vertices\n",
    "\n",
    "    def get_min_dist_node(self):\n",
    "        min_idx = -1\n",
    "        min_dist = float(\"inf\")\n",
    "\n",
    "        for node in range(self.num_vertices):\n",
    "            if self.dist[node] < min_dist and self.visited[node] == False:\n",
    "                min_dist = self.dist[node]\n",
    "                min_idx = node\n",
    "\n",
    "        return min_idx\n",
    "\n",
    "    def dijkstras(self, src_node):\n",
    "\n",
    "        self.dist[src_node] = 0\n",
    "        for _ in range(self.num_vertices):\n",
    "\n",
    "            u = self.get_min_dist_node()\n",
    "            print(u)\n",
    "\n",
    "            self.visited[u] = True\n",
    "\n",
    "            for v in range(self.num_vertices):\n",
    "                # if node exisits, and that node is not visited, and dist of that node is greater than\n",
    "                # dist[u] + edge to v or graph[u][v]\n",
    "                if (\n",
    "                    self.graph[u][v] > 0\n",
    "                    and self.visited[v] == False\n",
    "                    and self.dist[u] + self.graph[u][v] < self.dist[v]\n",
    "                ):\n",
    "                    self.dist[v] = self.dist[u] + self.graph[u][v]\n",
    "\n",
    "    def print_answer(self):\n",
    "        for node in range(self.num_vertices):\n",
    "            print(node, self.dist[node])"
   ]
  },
  {
   "cell_type": "code",
   "execution_count": 32,
   "metadata": {},
   "outputs": [],
   "source": [
    "obj = dijkstras_algorithm(g.graph, num_vertices=num_vertices)"
   ]
  },
  {
   "cell_type": "code",
   "execution_count": 33,
   "metadata": {},
   "outputs": [
    {
     "name": "stdout",
     "output_type": "stream",
     "text": [
      "0\n",
      "1\n",
      "7\n",
      "6\n",
      "5\n",
      "2\n",
      "8\n",
      "3\n",
      "4\n"
     ]
    }
   ],
   "source": [
    "obj.dijkstras(0)"
   ]
  },
  {
   "cell_type": "code",
   "execution_count": 34,
   "metadata": {},
   "outputs": [
    {
     "name": "stdout",
     "output_type": "stream",
     "text": [
      "0 0\n",
      "1 4\n",
      "2 12\n",
      "3 19\n",
      "4 21\n",
      "5 11\n",
      "6 9\n",
      "7 8\n",
      "8 14\n"
     ]
    }
   ],
   "source": [
    "obj.print_answer()"
   ]
  },
  {
   "cell_type": "code",
   "execution_count": null,
   "metadata": {},
   "outputs": [],
   "source": []
  }
 ],
 "metadata": {
  "kernelspec": {
   "display_name": "Python 3.8.10 ('.venv': pipenv)",
   "language": "python",
   "name": "python3"
  },
  "language_info": {
   "codemirror_mode": {
    "name": "ipython",
    "version": 3
   },
   "file_extension": ".py",
   "mimetype": "text/x-python",
   "name": "python",
   "nbconvert_exporter": "python",
   "pygments_lexer": "ipython3",
   "version": "3.8.10"
  },
  "orig_nbformat": 4,
  "vscode": {
   "interpreter": {
    "hash": "ea9ccb04e7308efcbefe4ed3ddff7336a57680ae622578d4fe4a2e3945390538"
   }
  }
 },
 "nbformat": 4,
 "nbformat_minor": 2
}
