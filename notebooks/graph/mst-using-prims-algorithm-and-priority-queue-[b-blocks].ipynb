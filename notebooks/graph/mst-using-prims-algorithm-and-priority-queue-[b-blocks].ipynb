{
 "cells": [
  {
   "cell_type": "code",
   "execution_count": 1,
   "metadata": {},
   "outputs": [],
   "source": [
    "from utils.graph import WeightedGraphAdjList as g"
   ]
  },
  {
   "cell_type": "code",
   "execution_count": 2,
   "metadata": {},
   "outputs": [],
   "source": [
    "gr = g()"
   ]
  },
  {
   "cell_type": "code",
   "execution_count": 3,
   "metadata": {},
   "outputs": [],
   "source": [
    "gr.insert_weighted_node(0, 1, 4)\n",
    "gr.insert_weighted_node(0, 7, 8)\n",
    "gr.insert_weighted_node(1, 2, 8)\n",
    "gr.insert_weighted_node(1, 7, 11)\n",
    "gr.insert_weighted_node(2, 3, 7)\n",
    "gr.insert_weighted_node(2, 8, 2)\n",
    "gr.insert_weighted_node(2, 5, 4)\n",
    "gr.insert_weighted_node(3, 4, 9)\n",
    "gr.insert_weighted_node(3, 5, 14)\n",
    "gr.insert_weighted_node(4, 5, 10)\n",
    "gr.insert_weighted_node(5, 6, 2)\n",
    "gr.insert_weighted_node(6, 7, 1)\n",
    "gr.insert_weighted_node(6, 8, 6)\n",
    "gr.insert_weighted_node(7, 8, 7)"
   ]
  },
  {
   "cell_type": "code",
   "execution_count": 4,
   "metadata": {},
   "outputs": [
    {
     "data": {
      "text/plain": [
       "[[0, 1, 4],\n",
       " [0, 7, 8],\n",
       " [1, 2, 8],\n",
       " [1, 7, 11],\n",
       " [2, 3, 7],\n",
       " [2, 8, 2],\n",
       " [2, 5, 4],\n",
       " [3, 4, 9],\n",
       " [3, 5, 14],\n",
       " [4, 5, 10],\n",
       " [5, 6, 2],\n",
       " [6, 7, 1],\n",
       " [6, 8, 6],\n",
       " [7, 8, 7]]"
      ]
     },
     "execution_count": 4,
     "metadata": {},
     "output_type": "execute_result"
    }
   ],
   "source": [
    "gr.graph"
   ]
  },
  {
   "cell_type": "code",
   "execution_count": 5,
   "metadata": {},
   "outputs": [],
   "source": [
    "class MinHeapPQ:\n",
    "    def __init__(self):\n",
    "        self.heap = []\n",
    "        self.size = 0\n",
    "        self.position = []\n",
    "\n",
    "    def insert(self, key, weight):\n",
    "        self.heap.append([key, weight])\n",
    "        self.position.append(key)\n",
    "        n = (self.size // 2) - 1\n",
    "        for node in range(n, -1, -1):\n",
    "            self.min_heapify(node)\n",
    "\n",
    "    def swap(self, idx_a, idx_b):\n",
    "        self.heap[idx_a], self.heap[idx_b] = (self.heap[idx_b], self.heap[idx_a])\n",
    "\n",
    "    def min_heapify(self, parent):\n",
    "        smallest = parent\n",
    "        left_child = 2 * parent + 1\n",
    "        right_child = 2 * parent + 2\n",
    "\n",
    "        if left_child < self.heap_size and self.heap[parent] > self.heap[left_child]:\n",
    "            smallest = left_child\n",
    "        if (\n",
    "            right_child < self.heap_size\n",
    "            and self.heap[smallest] > self.heap[right_child]\n",
    "        ):\n",
    "            smallest = right_child\n",
    "\n",
    "        if smallest != parent:\n",
    "            self.swap(smallest, parent)\n",
    "            # heapify again the one which has been moved\n",
    "            self.min_heapify(smallest)"
   ]
  },
  {
   "cell_type": "code",
   "execution_count": null,
   "metadata": {},
   "outputs": [],
   "source": []
  },
  {
   "cell_type": "code",
   "execution_count": 6,
   "metadata": {},
   "outputs": [
    {
     "name": "stdout",
     "output_type": "stream",
     "text": [
      "minheap.array:  [[0, 100.0], [1, 100.0], [2, 100.0], [3, 100.0], [4, 100.0]]\n",
      "minHeap.pos:  [0, 1, 2, 3, 4]\n",
      "\n",
      "minheap.array:  [[0, 0], [1, 100.0], [2, 100.0], [3, 100.0], [4, 100.0]]\n",
      "minHeap.pos:  [0, 1, 2, 3, 4]\n",
      "\n",
      "array:  [[4, 100.0], [1, 100.0], [2, 100.0], [3, 6], [4, 100.0]]\n",
      "pos:  [4, 1, 2, 3, 0]\n",
      "array:  [[4, 100.0], [3, 6], [2, 100.0], [1, 100.0], [4, 100.0]]\n",
      "pos:  [4, 3, 2, 1.0, 0]\n",
      "array:  [[3, 6], [4, 100.0], [2, 100.0], [1, 2], [4, 100.0]]\n",
      "pos:  [4, 3, 2, 0.0, 1]\n",
      "array:  [[3, 6], [1, 2], [2, 100.0], [4, 100.0], [4, 100.0]]\n",
      "pos:  [4, 1.0, 2, 0.0, 3]\n",
      "array:  [[3, 6], [4, 5], [2, 100.0], [4, 5], [4, 5]]\n",
      "pos:  [4, 3, 2, 0, 1]\n",
      "array:  [[4, 5], [3, 6], [2, 3], [4, 5], [4, 5]]\n",
      "pos:  [4, 3, 2, 1, 0.0]\n",
      " 0 -  1\n",
      " 1 -  2\n",
      " 0 -  3\n",
      " 1 -  4\n"
     ]
    }
   ],
   "source": [
    "# A Python program for Prims's MST for\n",
    "# adjacency list representation of graph\n",
    "\n",
    "from collections import defaultdict\n",
    "import sys\n",
    "\n",
    "\n",
    "class Heap:\n",
    "    def __init__(self):\n",
    "        self.array = []\n",
    "        self.size = 0\n",
    "        self.pos = []\n",
    "\n",
    "    def newMinHeapNode(self, v, dist):\n",
    "        minHeapNode = [v, dist]\n",
    "        return minHeapNode\n",
    "\n",
    "    # A utility function to swap two nodes of\n",
    "    # min heap. Needed for min heapify\n",
    "    def swapMinHeapNode(self, a, b):\n",
    "        t = self.array[a]\n",
    "        self.array[a] = self.array[b]\n",
    "        self.array[b] = t\n",
    "\n",
    "    # A standard function to heapify at given idx\n",
    "    # This function also updates position of nodes\n",
    "    # when they are swapped. Position is needed\n",
    "    # for decreaseKey()\n",
    "    def minHeapify(self, idx):\n",
    "        smallest = idx\n",
    "        left = 2 * idx + 1\n",
    "        right = 2 * idx + 2\n",
    "\n",
    "        if left < self.size and self.array[left][1] < self.array[smallest][1]:\n",
    "            smallest = left\n",
    "\n",
    "        if right < self.size and self.array[right][1] < self.array[smallest][1]:\n",
    "            smallest = right\n",
    "\n",
    "        # The nodes to be swapped in min heap\n",
    "        # if idx is not smallest\n",
    "        if smallest != idx:\n",
    "\n",
    "            # Swap positions\n",
    "            self.pos[self.array[smallest][0]] = idx\n",
    "            self.pos[self.array[idx][0]] = smallest\n",
    "\n",
    "            # Swap nodes\n",
    "            self.swapMinHeapNode(smallest, idx)\n",
    "\n",
    "            self.minHeapify(smallest)\n",
    "\n",
    "    # Standard function to extract minimum node from heap\n",
    "    def extractMin(self):\n",
    "\n",
    "        # Return NULL wif heap is empty\n",
    "        if self.isEmpty() == True:\n",
    "            return\n",
    "\n",
    "        # Store the root node\n",
    "        root = self.array[0]\n",
    "\n",
    "        # Replace root node with last node\n",
    "        lastNode = self.array[self.size - 1]\n",
    "        self.array[0] = lastNode\n",
    "\n",
    "        # Update position of last node\n",
    "        self.pos[lastNode[0]] = 0\n",
    "        self.pos[root[0]] = self.size - 1\n",
    "\n",
    "        # Reduce heap size and heapify root\n",
    "        self.size -= 1\n",
    "        self.minHeapify(0)\n",
    "\n",
    "        return root\n",
    "\n",
    "    def isEmpty(self):\n",
    "        return True if self.size == 0 else False\n",
    "\n",
    "    def decreaseKey(self, v, dist):\n",
    "\n",
    "        # Get the index of v in heap array\n",
    "\n",
    "        i = self.pos[v]\n",
    "\n",
    "        # Get the node and update its dist value\n",
    "        self.array[i][1] = dist\n",
    "\n",
    "        # Travel up while the complete tree is not\n",
    "        # heapified. This is a O(Logn) loop\n",
    "        while i > 0 and self.array[i][1] < self.array[(i - 1) // 2][1]:\n",
    "\n",
    "            print(\"array: \", self.array)\n",
    "            print(\"pos: \", self.pos)\n",
    "            # Swap this node with its parent\n",
    "            self.pos[self.array[i][0]] = (i - 1) / 2\n",
    "            self.pos[self.array[(i - 1) // 2][0]] = i\n",
    "            self.swapMinHeapNode(i, (i - 1) // 2)\n",
    "\n",
    "            # move to parent index\n",
    "            i = (i - 1) // 2\n",
    "\n",
    "    # A utility function to check if a given vertex\n",
    "    # 'v' is in min heap or not\n",
    "    def isInMinHeap(self, v):\n",
    "\n",
    "        if self.pos[v] < self.size:\n",
    "            return True\n",
    "        return False\n",
    "\n",
    "\n",
    "def printArr(parent, n):\n",
    "    for i in range(1, n):\n",
    "        print(\"% d - % d\" % (parent[i], i))\n",
    "\n",
    "\n",
    "class Graph:\n",
    "    def __init__(self, V):\n",
    "        self.V = V\n",
    "        self.graph = defaultdict(list)\n",
    "\n",
    "    # Adds an edge to an undirected graph\n",
    "    def addEdge(self, src, dest, weight):\n",
    "\n",
    "        # Add an edge from src to dest. A new node is\n",
    "        # added to the adjacency list of src. The node\n",
    "        # is added at the beginning. The first element of\n",
    "        # the node has the destination and the second\n",
    "        # elements has the weight\n",
    "        newNode = [dest, weight]\n",
    "        self.graph[src].insert(0, newNode)\n",
    "\n",
    "        # Since graph is undirected, add an edge from\n",
    "        # dest to src also\n",
    "        newNode = [src, weight]\n",
    "        self.graph[dest].insert(0, newNode)\n",
    "\n",
    "    # The main function that prints the Minimum\n",
    "    # Spanning Tree(MST) using the Prim's Algorithm.\n",
    "    # It is a O(ELogV) function\n",
    "    def PrimMST(self):\n",
    "        # Get the number of vertices in graph\n",
    "        V = self.V\n",
    "\n",
    "        # key values used to pick minimum weight edge in cut\n",
    "        key = []\n",
    "\n",
    "        # List to store constructed MST\n",
    "        parent = []\n",
    "\n",
    "        # minHeap represents set E\n",
    "        minHeap = Heap()\n",
    "\n",
    "        # Initialize min heap with all vertices. Key values of all\n",
    "        # vertices (except the 0th vertex) is is initially infinite\n",
    "        for v in range(V):\n",
    "            parent.append(-1)\n",
    "            key.append(1e2)\n",
    "            minHeap.array.append(minHeap.newMinHeapNode(v, key[v]))\n",
    "            minHeap.pos.append(v)\n",
    "\n",
    "        print(\"minheap.array: \", minHeap.array)\n",
    "        print(\"minHeap.pos: \", minHeap.pos)\n",
    "        print()\n",
    "\n",
    "        # Make key value of 0th vertex as 0 so\n",
    "        # that it is extracted first\n",
    "        minHeap.pos[0] = 0\n",
    "        key[0] = 0\n",
    "        minHeap.decreaseKey(0, key[0])\n",
    "\n",
    "        # Initially size of min heap is equal to V\n",
    "        minHeap.size = V\n",
    "\n",
    "        print(\"minheap.array: \", minHeap.array)\n",
    "        print(\"minHeap.pos: \", minHeap.pos)\n",
    "        print()\n",
    "\n",
    "        # In the following loop, min heap contains all nodes\n",
    "        # not yet added in the MST.\n",
    "        while minHeap.isEmpty() == False:\n",
    "\n",
    "            # Extract the vertex with minimum distance value\n",
    "            newHeapNode = minHeap.extractMin()\n",
    "            u = newHeapNode[0]\n",
    "\n",
    "            # Traverse through all adjacent vertices of u\n",
    "            # (the extracted vertex) and update their\n",
    "            # distance values\n",
    "            for pCrawl in self.graph[u]:\n",
    "\n",
    "                v = pCrawl[0]\n",
    "\n",
    "                # If shortest distance to v is not finalized\n",
    "                # yet, and distance to v through u is less than\n",
    "                # its previously calculated distance\n",
    "                if minHeap.isInMinHeap(v) and pCrawl[1] < key[v]:\n",
    "                    key[v] = pCrawl[1]\n",
    "                    parent[v] = u\n",
    "\n",
    "                    # update distance value in min heap also\n",
    "                    minHeap.decreaseKey(v, key[v])\n",
    "\n",
    "        printArr(parent, V)\n",
    "\n",
    "\n",
    "# Driver program to test the above functions\n",
    "graph = Graph(5)\n",
    "graph.addEdge(0, 1, 2)\n",
    "graph.addEdge(0, 3, 6)\n",
    "graph.addEdge(1, 2, 3)\n",
    "graph.addEdge(1, 3, 8)\n",
    "graph.addEdge(1, 4, 5)\n",
    "graph.addEdge(2, 4, 7)\n",
    "graph.addEdge(3, 4, 9)\n",
    "\n",
    "\n",
    "# graph.addEdge(0, 1, 4)\n",
    "# graph.addEdge(0, 7, 8)\n",
    "# graph.addEdge(1, 2, 8)\n",
    "# graph.addEdge(1, 7, 11)\n",
    "# graph.addEdge(2, 3, 7)\n",
    "# graph.addEdge(2, 8, 2)\n",
    "# graph.addEdge(2, 5, 4)\n",
    "# graph.addEdge(3, 4, 9)\n",
    "# graph.addEdge(3, 5, 14)\n",
    "# graph.addEdge(4, 5, 10)\n",
    "# graph.addEdge(5, 6, 2)\n",
    "# graph.addEdge(6, 7, 1)\n",
    "# graph.addEdge(6, 8, 6)\n",
    "# graph.addEdge(7, 8, 7)\n",
    "graph.PrimMST()\n",
    "\n",
    "# This code is contributed by Divyanshu Mehta"
   ]
  },
  {
   "cell_type": "markdown",
   "metadata": {},
   "source": [
    " 0 -  1\n",
    "\n",
    " 5 -  2\n",
    " \n",
    " 2 -  3\n",
    " \n",
    " 3 -  4\n",
    " \n",
    " \n",
    " 6 -  5\n",
    " \n",
    " 7 -  6\n",
    " \n",
    " 0 -  7\n",
    " \n",
    " 2 -  8"
   ]
  },
  {
   "cell_type": "code",
   "execution_count": 7,
   "metadata": {},
   "outputs": [
    {
     "data": {
      "text/plain": [
       "defaultdict(list,\n",
       "            {0: [[3, 6], [1, 2]],\n",
       "             1: [[4, 5], [3, 8], [2, 3], [0, 2]],\n",
       "             3: [[4, 9], [1, 8], [0, 6]],\n",
       "             2: [[4, 7], [1, 3]],\n",
       "             4: [[3, 9], [2, 7], [1, 5]]})"
      ]
     },
     "execution_count": 7,
     "metadata": {},
     "output_type": "execute_result"
    }
   ],
   "source": [
    "graph.graph"
   ]
  },
  {
   "cell_type": "markdown",
   "metadata": {},
   "source": []
  },
  {
   "cell_type": "code",
   "execution_count": 46,
   "metadata": {},
   "outputs": [],
   "source": [
    "class MinHeapPriorityQueue:\n",
    "    def __init__(self, arr=None):\n",
    "        self.heap = []\n",
    "        self.heap_size = 0\n",
    "        self.pos = []\n",
    "        if arr is not None:\n",
    "            self.heap = arr\n",
    "            self.heap_size = len(self.heap)\n",
    "            self.pos = list(range(len(arr)))\n",
    "\n",
    "    def min_heapify(self, parent):\n",
    "        smallest = parent\n",
    "        left_child = 2 * parent + 1\n",
    "        right_child = 2 * parent + 2\n",
    "\n",
    "        if (\n",
    "            left_child < self.heap_size\n",
    "            and self.heap[parent][1] > self.heap[left_child][1]\n",
    "        ):\n",
    "            smallest = left_child\n",
    "        if (\n",
    "            right_child < self.heap_size\n",
    "            and self.heap[smallest][1] > self.heap[right_child][1]\n",
    "        ):\n",
    "            smallest = right_child\n",
    "\n",
    "        if smallest != parent:\n",
    "            self.pos[smallest], self.pos[parent] = self.pos[parent], self.pos[smallest]\n",
    "\n",
    "            self.swap(smallest, parent)\n",
    "            # heapify again the one which has been moved\n",
    "            self.min_heapify(smallest)\n",
    "\n",
    "    def insert_min_heap(self, key, weight):\n",
    "        self.heap.append([key, weight])\n",
    "        self.pos.append(self.heap_size)\n",
    "        self.heap_size += 1\n",
    "\n",
    "        n = (self.heap_size // 2) - 1\n",
    "        for node in range(n, -1, -1):\n",
    "            self.min_heapify(node)\n",
    "\n",
    "    def swap(self, idx_a, idx_b):\n",
    "        self.heap[idx_a], self.heap[idx_b] = (self.heap[idx_b], self.heap[idx_a])\n",
    "\n",
    "    def build_min_heap(self):\n",
    "        n = (self.heap_size // 2) - 1\n",
    "        for node in range(n, -1, -1):\n",
    "            self.min_heapify(node)\n",
    "\n",
    "    # def print_root(self):\n",
    "    #     print(self.heap[0])\n",
    "\n",
    "    # def get_max_root_method_1(self):\n",
    "    #     if self.heap_size > 0:\n",
    "    #         element = self.heap.pop(0)\n",
    "    #         self.heap_size -= 1\n",
    "    #         self.max_heapify(0)\n",
    "    #         return element\n",
    "    #     else:\n",
    "    #         print(\"Heap is empty\")\n",
    "\n",
    "    # def get_max_root_method_2(self):\n",
    "    #     if self.heap_size > 0:\n",
    "    #         element = self.heap[0]\n",
    "    #         self.heap[0] = self.heap[self.heap_size - 1]\n",
    "    #         del self.heap[self.heap_size - 1]\n",
    "    #         self.heap_size -= 1\n",
    "    #         self.max_heapify(0)\n",
    "    #         return element\n",
    "    #     else:\n",
    "    #         print(\"Heap is empty\")\n",
    "\n",
    "    def get_min_root(self):\n",
    "        if self.heap_size > 0:\n",
    "\n",
    "            element = self.heap.pop(0)\n",
    "            idx = element[0]\n",
    "            self.pos.remove(idx)\n",
    "            self.heap_size -= 1\n",
    "            self.min_heapify(0)\n",
    "            return element\n",
    "        else:\n",
    "            print(\"Heap is empty\")\n",
    "\n",
    "    # # * In min heap pq, increase key means push down\n",
    "    # # * push down means heapify\n",
    "    # # * heapify means min_heapify\n",
    "    # def increase_key(self, index, key):\n",
    "    #     self.heap[index] = key\n",
    "    #     self.min_heapify(index)\n",
    "\n",
    "    # In min heap pq, decrease key means push up\n",
    "    # push up means swap current node with parent\n",
    "    # do ... until the node is greater than the parent\n",
    "    # when we are pushing up, we will always move towards zero index\n",
    "    # or root\n",
    "    def decrease_key(self, index, key):\n",
    "        # get position of index in pos array\n",
    "        poi = self.pos.index(index)\n",
    "\n",
    "        self.heap[poi][1] = key\n",
    "\n",
    "        while (poi > 0) and self.heap[(poi - 1) // 2][1] > self.heap[poi][1]:\n",
    "            self.pos[poi], self.pos[(poi - 1) // 2] = (\n",
    "                self.pos[(poi - 1) // 2],\n",
    "                self.pos[poi],\n",
    "            )\n",
    "            self.swap(poi, (poi - 1) // 2)\n",
    "            poi = (poi - 1) // 2\n",
    "\n",
    "    def is_empty(self):\n",
    "        return True if self.heap_size == 0 else False\n",
    "\n",
    "    # def is_in_heap(self, v):\n",
    "    #     if v in self.pos:\n",
    "    #         if self.pos.index(v) < self.heap_size:\n",
    "    #             return True\n",
    "    #     return False\n",
    "\n",
    "    def is_in_heap(self, v):\n",
    "        if self.pos.index(v) < self.heap_size:\n",
    "            return True\n",
    "        return False"
   ]
  },
  {
   "cell_type": "code",
   "execution_count": 47,
   "metadata": {},
   "outputs": [],
   "source": [
    "heap = MinHeapPriorityQueue()"
   ]
  },
  {
   "cell_type": "code",
   "execution_count": 48,
   "metadata": {},
   "outputs": [],
   "source": [
    "heap.insert_min_heap(0, 10)  # 0\n",
    "heap.insert_min_heap(1, 7)  # 1\n",
    "heap.insert_min_heap(2, 4)  # 2\n",
    "heap.insert_min_heap(3, 5)  # 3\n",
    "heap.insert_min_heap(4, 3)  # 4"
   ]
  },
  {
   "cell_type": "code",
   "execution_count": 49,
   "metadata": {},
   "outputs": [
    {
     "data": {
      "text/plain": [
       "[[4, 3], [2, 4], [1, 7], [0, 10], [3, 5]]"
      ]
     },
     "execution_count": 49,
     "metadata": {},
     "output_type": "execute_result"
    }
   ],
   "source": [
    "heap.heap"
   ]
  },
  {
   "cell_type": "code",
   "execution_count": 50,
   "metadata": {},
   "outputs": [
    {
     "data": {
      "text/plain": [
       "False"
      ]
     },
     "execution_count": 50,
     "metadata": {},
     "output_type": "execute_result"
    }
   ],
   "source": [
    "heap.is_empty()"
   ]
  },
  {
   "cell_type": "code",
   "execution_count": 51,
   "metadata": {},
   "outputs": [],
   "source": [
    "# for i in range(5):\n",
    "#     node = heap.get_min_root()\n",
    "#     print(node)"
   ]
  },
  {
   "cell_type": "code",
   "execution_count": 52,
   "metadata": {},
   "outputs": [
    {
     "data": {
      "text/plain": [
       "[4, 2, 1, 0, 3]"
      ]
     },
     "execution_count": 52,
     "metadata": {},
     "output_type": "execute_result"
    }
   ],
   "source": [
    "heap.pos"
   ]
  },
  {
   "cell_type": "code",
   "execution_count": 53,
   "metadata": {},
   "outputs": [
    {
     "data": {
      "text/plain": [
       "3"
      ]
     },
     "execution_count": 53,
     "metadata": {},
     "output_type": "execute_result"
    }
   ],
   "source": [
    "heap.pos.index(0)"
   ]
  },
  {
   "cell_type": "code",
   "execution_count": 54,
   "metadata": {},
   "outputs": [
    {
     "data": {
      "text/plain": [
       "False"
      ]
     },
     "execution_count": 54,
     "metadata": {},
     "output_type": "execute_result"
    }
   ],
   "source": [
    "heap.is_in_heap(5)"
   ]
  },
  {
   "cell_type": "code",
   "execution_count": 55,
   "metadata": {},
   "outputs": [],
   "source": [
    "heap.decrease_key(0, 1)"
   ]
  },
  {
   "cell_type": "code",
   "execution_count": 56,
   "metadata": {},
   "outputs": [
    {
     "data": {
      "text/plain": [
       "[[0, 1], [4, 3], [1, 7], [2, 4], [3, 5]]"
      ]
     },
     "execution_count": 56,
     "metadata": {},
     "output_type": "execute_result"
    }
   ],
   "source": [
    "heap.heap"
   ]
  },
  {
   "cell_type": "code",
   "execution_count": 57,
   "metadata": {},
   "outputs": [
    {
     "data": {
      "text/plain": [
       "[0, 4, 1, 2, 3]"
      ]
     },
     "execution_count": 57,
     "metadata": {},
     "output_type": "execute_result"
    }
   ],
   "source": [
    "heap.pos"
   ]
  },
  {
   "cell_type": "code",
   "execution_count": 58,
   "metadata": {},
   "outputs": [],
   "source": [
    "heap.decrease_key(3, 2)"
   ]
  },
  {
   "cell_type": "code",
   "execution_count": 59,
   "metadata": {},
   "outputs": [
    {
     "data": {
      "text/plain": [
       "[[0, 1], [3, 2], [1, 7], [2, 4], [4, 3]]"
      ]
     },
     "execution_count": 59,
     "metadata": {},
     "output_type": "execute_result"
    }
   ],
   "source": [
    "heap.heap"
   ]
  },
  {
   "cell_type": "code",
   "execution_count": 60,
   "metadata": {},
   "outputs": [
    {
     "data": {
      "text/plain": [
       "[0, 3, 1, 2, 4]"
      ]
     },
     "execution_count": 60,
     "metadata": {},
     "output_type": "execute_result"
    }
   ],
   "source": [
    "heap.pos"
   ]
  },
  {
   "cell_type": "code",
   "execution_count": 61,
   "metadata": {},
   "outputs": [
    {
     "name": "stdout",
     "output_type": "stream",
     "text": [
      "node:  [0, 1]\n",
      "node:  [3, 2]\n",
      "node:  [4, 3]\n",
      "node:  [2, 4]\n",
      "node:  [1, 7]\n"
     ]
    }
   ],
   "source": [
    "for i in range(5):\n",
    "    node = heap.get_min_root()\n",
    "    print(\"node: \", node)\n",
    "    # print(heap.pos[node[0]])\n",
    "    # print(\"pos: \", heap.pos)"
   ]
  },
  {
   "cell_type": "code",
   "execution_count": 24,
   "metadata": {},
   "outputs": [
    {
     "data": {
      "text/plain": [
       "0"
      ]
     },
     "execution_count": 24,
     "metadata": {},
     "output_type": "execute_result"
    }
   ],
   "source": [
    "heap.heap_size"
   ]
  },
  {
   "cell_type": "code",
   "execution_count": 25,
   "metadata": {},
   "outputs": [
    {
     "data": {
      "text/plain": [
       "True"
      ]
     },
     "execution_count": 25,
     "metadata": {},
     "output_type": "execute_result"
    }
   ],
   "source": [
    "heap.is_empty()"
   ]
  },
  {
   "cell_type": "code",
   "execution_count": 26,
   "metadata": {},
   "outputs": [],
   "source": [
    "def computeMST(graph):\n",
    "    key = {}\n",
    "    pred = {}\n",
    "    inqueue = {}\n",
    "\n",
    "    for v in graph:\n",
    "        key[v] = 100000\n",
    "        pred[v] = None\n",
    "\n",
    "    key[v] = 0\n",
    "    pq = MinHeapPriorityQueue()\n",
    "\n",
    "    for v in graph:\n",
    "        pq.insert_min_heap(v, key[v])\n",
    "        # pq.heap.append([v, key[v]])\n",
    "        inqueue[v] = True\n",
    "\n",
    "    while not pq.is_empty():\n",
    "        u = pq.get_min_root()[0]\n",
    "        # print(u)\n",
    "        # print(inqueue)\n",
    "        inqueue[u] = False\n",
    "\n",
    "        for v in graph[u]:\n",
    "            if inqueue[v]:\n",
    "                wt = graph[u][v]\n",
    "                if wt < key[v]:\n",
    "                    pred[v] = u\n",
    "                    key[v] = wt\n",
    "                    pq.decrease_key(v, wt)\n",
    "    return pred"
   ]
  },
  {
   "cell_type": "code",
   "execution_count": 27,
   "metadata": {},
   "outputs": [],
   "source": [
    "# from collections import defaultdict\n",
    "# class Graph():\n",
    "\n",
    "#     # def __init__(self, V):\n",
    "#     #     self.V = V\n",
    "#     #     self.graph = defaultdict(dict)\n",
    "\n",
    "#     # Adds an edge to an undirected graph\n",
    "#     # def addEdge(self, src, dest, weight):\n",
    "\n",
    "#     #     # Add an edge from src to dest.  A new node is\n",
    "#     #     # added to the adjacency list of src. The node\n",
    "#     #     # is added at the beginning. The first element of\n",
    "#     #     # the node has the destination and the second\n",
    "#     #     # elements has the weight\n",
    "#     #     newNode = [dest, weight]\n",
    "#     #     self.graph[src].insert(0, newNode)\n",
    "\n",
    "#     #     # Since graph is undirected, add an edge from\n",
    "#     #     # dest to src also\n",
    "#     #     newNode = [src, weight]\n",
    "#     #     self.graph[dest].insert(0, newNode)\n",
    "\n",
    "#     def __init__(self):\n",
    "#         self.graph = defaultdict(dict)\n",
    "\n",
    "#     def insert_weighted_node(self, u, v, w):\n",
    "#         self.graph[u][v] = w\n",
    "#         self.graph[v][u] = w"
   ]
  },
  {
   "cell_type": "code",
   "execution_count": null,
   "metadata": {},
   "outputs": [],
   "source": []
  },
  {
   "cell_type": "code",
   "execution_count": 28,
   "metadata": {},
   "outputs": [],
   "source": [
    "# graph = Graph()\n",
    "# graph.insert_weighted_node(0, 1, 2)\n",
    "# graph.insert_weighted_node(0, 3, 8)\n",
    "# graph.insert_weighted_node(0, 4, 4)\n",
    "\n",
    "# graph.insert_weighted_node(1, 0, 2)\n",
    "# graph.insert_weighted_node(1, 2, 3)\n",
    "\n",
    "# graph.insert_weighted_node(2, 1, 3)\n",
    "# graph.insert_weighted_node(2, 3, 5)\n",
    "# graph.insert_weighted_node(2, 4, 1)\n",
    "\n",
    "# graph.insert_weighted_node(3, 0, 8)\n",
    "# graph.insert_weighted_node(3, 2, 5)\n",
    "# graph.insert_weighted_node(3, 4, 7)\n",
    "\n",
    "# graph.insert_weighted_node(4, 0, 4)\n",
    "# graph.insert_weighted_node(4, 2, 1)\n",
    "# graph.insert_weighted_node(4, 3, 7)\n",
    "\n",
    "\n",
    "# # graph = Graph()\n",
    "# # graph.insert_weighted_node(0, 1, 2)\n",
    "# # graph.insert_weighted_node(0, 3, 6)\n",
    "# # graph.insert_weighted_node(1, 2, 3)\n",
    "# # graph.insert_weighted_node(1, 3, 8)\n",
    "# # graph.insert_weighted_node(1, 4, 5)\n",
    "# # graph.insert_weighted_node(2, 4, 7)\n",
    "# # graph.insert_weighted_node(3, 4, 9)\n",
    "# #graph.insert_weighted_node(4, )\n",
    "# #graph.insert_weighted_node()\n",
    "# #graph.insert_weighted_node()\n",
    "\n",
    "\n",
    "# # graph = Graph()\n",
    "# # graph.insert_weighted_node(0, 1, 4)\n",
    "# # graph.insert_weighted_node(0, 7, 8)\n",
    "# # graph.insert_weighted_node(1, 2, 8)\n",
    "# # graph.insert_weighted_node(1, 7, 11)\n",
    "# # graph.insert_weighted_node(2, 3, 7)\n",
    "# # graph.insert_weighted_node(2, 8, 2)\n",
    "# # graph.insert_weighted_node(2, 5, 4)\n",
    "# # graph.insert_weighted_node(3, 4, 9)\n",
    "# # graph.insert_weighted_node(3, 5, 14)\n",
    "# # graph.insert_weighted_node(4, 5, 10)\n",
    "# # graph.insert_weighted_node(5, 6, 2)\n",
    "# # graph.insert_weighted_node(6, 7, 1)\n",
    "# # graph.insert_weighted_node(6, 8, 6)\n",
    "# # graph.insert_weighted_node(7, 8, 7)"
   ]
  },
  {
   "cell_type": "code",
   "execution_count": 29,
   "metadata": {},
   "outputs": [],
   "source": [
    "from collections import defaultdict\n",
    "\n",
    "\n",
    "class Graph:\n",
    "    def __init__(self, V):\n",
    "        self.V = V\n",
    "        self.graph = defaultdict(list)\n",
    "\n",
    "    # Adds an edge to an undirected graph\n",
    "    def addEdge(self, src, dest, weight):\n",
    "\n",
    "        # Add an edge from src to dest.  A new node is\n",
    "        # added to the adjacency list of src. The node\n",
    "        # is added at the beginning. The first element of\n",
    "        # the node has the destination and the second\n",
    "        # elements has the weight\n",
    "        newNode = [dest, weight]\n",
    "        self.graph[src].insert(0, newNode)\n",
    "\n",
    "        # Since graph is undirected, add an edge from\n",
    "        # dest to src also\n",
    "        newNode = [src, weight]\n",
    "        self.graph[dest].insert(0, newNode)"
   ]
  },
  {
   "cell_type": "code",
   "execution_count": 30,
   "metadata": {},
   "outputs": [],
   "source": [
    "graph = Graph(9)\n",
    "graph.addEdge(0, 1, 4)\n",
    "graph.addEdge(0, 7, 8)\n",
    "graph.addEdge(1, 2, 8)\n",
    "graph.addEdge(1, 7, 11)\n",
    "graph.addEdge(2, 3, 7)\n",
    "graph.addEdge(2, 8, 2)\n",
    "graph.addEdge(2, 5, 4)\n",
    "graph.addEdge(3, 4, 9)\n",
    "graph.addEdge(3, 5, 14)\n",
    "graph.addEdge(4, 5, 10)\n",
    "graph.addEdge(5, 6, 2)\n",
    "graph.addEdge(6, 7, 1)\n",
    "graph.addEdge(6, 8, 6)\n",
    "graph.addEdge(7, 8, 7)"
   ]
  },
  {
   "cell_type": "code",
   "execution_count": 31,
   "metadata": {},
   "outputs": [
    {
     "data": {
      "text/plain": [
       "defaultdict(list,\n",
       "            {0: [[7, 8], [1, 4]],\n",
       "             1: [[7, 11], [2, 8], [0, 4]],\n",
       "             7: [[8, 7], [6, 1], [1, 11], [0, 8]],\n",
       "             2: [[5, 4], [8, 2], [3, 7], [1, 8]],\n",
       "             3: [[5, 14], [4, 9], [2, 7]],\n",
       "             8: [[7, 7], [6, 6], [2, 2]],\n",
       "             5: [[6, 2], [4, 10], [3, 14], [2, 4]],\n",
       "             4: [[5, 10], [3, 9]],\n",
       "             6: [[8, 6], [7, 1], [5, 2]]})"
      ]
     },
     "execution_count": 31,
     "metadata": {},
     "output_type": "execute_result"
    }
   ],
   "source": [
    "graph.graph"
   ]
  },
  {
   "cell_type": "code",
   "execution_count": 32,
   "metadata": {},
   "outputs": [],
   "source": [
    "# ans = computeMST(graph.graph)"
   ]
  },
  {
   "cell_type": "code",
   "execution_count": 33,
   "metadata": {},
   "outputs": [],
   "source": [
    "# def sol(pred):\n",
    "#     edges = []\n",
    "#     for v in pred:\n",
    "#         if pred[v] is not None:\n",
    "#             edges.append((pred[v], v))\n",
    "#     return edges"
   ]
  },
  {
   "cell_type": "code",
   "execution_count": 34,
   "metadata": {},
   "outputs": [],
   "source": [
    "# sol(ans)"
   ]
  },
  {
   "cell_type": "code",
   "execution_count": 35,
   "metadata": {},
   "outputs": [],
   "source": [
    "# ans"
   ]
  },
  {
   "cell_type": "code",
   "execution_count": 36,
   "metadata": {},
   "outputs": [],
   "source": [
    "def print_arr(parent, n):\n",
    "    for i in range(1, n):\n",
    "        print(\"%s = %s\" % (parent[i], i))"
   ]
  },
  {
   "cell_type": "code",
   "execution_count": 37,
   "metadata": {},
   "outputs": [],
   "source": [
    "def test(graph, v):\n",
    "\n",
    "    key = []\n",
    "    parent = []\n",
    "\n",
    "    min_heap = MinHeapPriorityQueue()\n",
    "\n",
    "    for vx in range(v):\n",
    "        parent.append(-1)\n",
    "        key.append(1e7)\n",
    "        min_heap.heap.append([vx, key[vx]])\n",
    "        min_heap.pos.append(vx)\n",
    "\n",
    "    min_heap.pos[0] = 0\n",
    "    key[0] = 0\n",
    "    min_heap.decrease_key(0, key[0])\n",
    "\n",
    "    min_heap.heap_size = v\n",
    "\n",
    "    # print(min_heap.heap)\n",
    "    # print(min_heap.pos)\n",
    "\n",
    "    while min_heap.is_empty() == False:\n",
    "        # Extract the vertex with minimum distance value\n",
    "        newHeapNode = min_heap.get_min_root()\n",
    "        u = newHeapNode[0]\n",
    "\n",
    "        for pCrawl in graph[u]:\n",
    "\n",
    "            print(pCrawl)\n",
    "            vu = pCrawl[0]\n",
    "\n",
    "            # If shortest distance to v is not finalized\n",
    "            # yet, and distance to v through u is less than\n",
    "            # its previously calculated distance\n",
    "            if min_heap.is_in_heap(vu) and pCrawl[1] < key[vu]:\n",
    "                key[vu] = pCrawl[1]\n",
    "                parent[vu] = u\n",
    "\n",
    "                # update distance value in min heap also\n",
    "                min_heap.decrease_key(vu, key[vu])\n",
    "\n",
    "    print_arr(parent, v)"
   ]
  },
  {
   "cell_type": "code",
   "execution_count": 38,
   "metadata": {},
   "outputs": [
    {
     "name": "stdout",
     "output_type": "stream",
     "text": [
      "[7, 8]\n",
      "[1, 4]\n",
      "[7, 11]\n",
      "[2, 8]\n",
      "[0, 4]\n",
      "[5, 4]\n",
      "[8, 2]\n",
      "[3, 7]\n",
      "[1, 8]\n",
      "[5, 14]\n",
      "[4, 9]\n",
      "[2, 7]\n",
      "[5, 10]\n",
      "[3, 9]\n",
      "0 = 1\n",
      "1 = 2\n",
      "2 = 3\n",
      "3 = 4\n"
     ]
    }
   ],
   "source": [
    "test(graph.graph, v=5)"
   ]
  },
  {
   "cell_type": "code",
   "execution_count": null,
   "metadata": {},
   "outputs": [],
   "source": []
  },
  {
   "cell_type": "code",
   "execution_count": 39,
   "metadata": {},
   "outputs": [
    {
     "name": "stdout",
     "output_type": "stream",
     "text": [
      "[5, 4]\n",
      "[8, 2]\n",
      "[3, 7]\n",
      "[1, 8]\n"
     ]
    }
   ],
   "source": [
    "for p in graph.graph[2]:\n",
    "    print(p)"
   ]
  },
  {
   "cell_type": "code",
   "execution_count": 40,
   "metadata": {},
   "outputs": [
    {
     "name": "stdout",
     "output_type": "stream",
     "text": [
      "[7, 8]\n",
      "[1, 4]\n",
      "[7, 11]\n",
      "[2, 8]\n",
      "[0, 4]\n",
      "[8, 7]\n",
      "[6, 1]\n",
      "[1, 11]\n",
      "[0, 8]\n",
      "[8, 6]\n",
      "[7, 1]\n",
      "[5, 2]\n",
      "[6, 2]\n",
      "[4, 10]\n",
      "[3, 14]\n",
      "[2, 4]\n",
      "[5, 4]\n",
      "[8, 2]\n",
      "[3, 7]\n",
      "[1, 8]\n",
      "[7, 7]\n",
      "[6, 6]\n",
      "[2, 2]\n",
      "[5, 14]\n",
      "[4, 9]\n",
      "[2, 7]\n",
      "[5, 10]\n",
      "[3, 9]\n",
      " 0 -  1\n",
      " 5 -  2\n",
      " 2 -  3\n",
      " 3 -  4\n",
      " 6 -  5\n",
      " 7 -  6\n",
      " 0 -  7\n",
      " 2 -  8\n"
     ]
    }
   ],
   "source": [
    "# A Python program for Prims's MST for\n",
    "# adjacency list representation of graph\n",
    "\n",
    "from collections import defaultdict\n",
    "import sys\n",
    "\n",
    "\n",
    "class Heap:\n",
    "    def __init__(self):\n",
    "        self.array = []\n",
    "        self.size = 0\n",
    "        self.pos = []\n",
    "\n",
    "    def newMinHeapNode(self, v, dist):\n",
    "        minHeapNode = [v, dist]\n",
    "        return minHeapNode\n",
    "\n",
    "    # A utility function to swap two nodes of\n",
    "    # min heap. Needed for min heapify\n",
    "    def swapMinHeapNode(self, a, b):\n",
    "        t = self.array[a]\n",
    "        self.array[a] = self.array[b]\n",
    "        self.array[b] = t\n",
    "\n",
    "    # A standard function to heapify at given idx\n",
    "    # This function also updates position of nodes\n",
    "    # when they are swapped. Position is needed\n",
    "    # for decreaseKey()\n",
    "    def minHeapify(self, idx):\n",
    "        smallest = idx\n",
    "        left = 2 * idx + 1\n",
    "        right = 2 * idx + 2\n",
    "\n",
    "        if left < self.size and self.array[left][1] < self.array[smallest][1]:\n",
    "            smallest = left\n",
    "\n",
    "        if right < self.size and self.array[right][1] < self.array[smallest][1]:\n",
    "            smallest = right\n",
    "\n",
    "        # The nodes to be swapped in min heap\n",
    "        # if idx is not smallest\n",
    "        if smallest != idx:\n",
    "\n",
    "            # Swap positions\n",
    "            self.pos[self.array[smallest][0]] = idx\n",
    "            self.pos[self.array[idx][0]] = smallest\n",
    "\n",
    "            # Swap nodes\n",
    "            self.swapMinHeapNode(smallest, idx)\n",
    "\n",
    "            self.minHeapify(smallest)\n",
    "\n",
    "    # Standard function to extract minimum node from heap\n",
    "    def extractMin(self):\n",
    "\n",
    "        # Return NULL wif heap is empty\n",
    "        if self.isEmpty() == True:\n",
    "            return\n",
    "\n",
    "        # Store the root node\n",
    "        root = self.array[0]\n",
    "\n",
    "        # Replace root node with last node\n",
    "        lastNode = self.array[self.size - 1]\n",
    "        self.array[0] = lastNode\n",
    "\n",
    "        # Update position of last node\n",
    "        self.pos[lastNode[0]] = 0\n",
    "        self.pos[root[0]] = self.size - 1\n",
    "\n",
    "        # Reduce heap size and heapify root\n",
    "        self.size -= 1\n",
    "        self.minHeapify(0)\n",
    "\n",
    "        return root\n",
    "\n",
    "    def isEmpty(self):\n",
    "        return True if self.size == 0 else False\n",
    "\n",
    "    def decreaseKey(self, v, dist):\n",
    "\n",
    "        # Get the index of v in heap array\n",
    "\n",
    "        i = self.pos[v]\n",
    "\n",
    "        # Get the node and update its dist value\n",
    "        self.array[i][1] = dist\n",
    "\n",
    "        # Travel up while the complete tree is not\n",
    "        # heapified. This is a O(Logn) loop\n",
    "        while i > 0 and self.array[i][1] < self.array[(i - 1) // 2][1]:\n",
    "\n",
    "            # Swap this node with its parent\n",
    "            self.pos[self.array[i][0]] = (i - 1) / 2\n",
    "            self.pos[self.array[(i - 1) // 2][0]] = i\n",
    "            self.swapMinHeapNode(i, (i - 1) // 2)\n",
    "\n",
    "            # move to parent index\n",
    "            i = (i - 1) // 2\n",
    "\n",
    "    # A utility function to check if a given vertex\n",
    "    # 'v' is in min heap or not\n",
    "    def isInMinHeap(self, v):\n",
    "\n",
    "        if self.pos[v] < self.size:\n",
    "            return True\n",
    "        return False\n",
    "\n",
    "\n",
    "def printArr(parent, n):\n",
    "    for i in range(1, n):\n",
    "        print(\"% d - % d\" % (parent[i], i))\n",
    "\n",
    "\n",
    "class Graph:\n",
    "    def __init__(self, V):\n",
    "        self.V = V\n",
    "        self.graph = defaultdict(list)\n",
    "\n",
    "    # Adds an edge to an undirected graph\n",
    "    def addEdge(self, src, dest, weight):\n",
    "\n",
    "        # Add an edge from src to dest. A new node is\n",
    "        # added to the adjacency list of src. The node\n",
    "        # is added at the beginning. The first element of\n",
    "        # the node has the destination and the second\n",
    "        # elements has the weight\n",
    "        newNode = [dest, weight]\n",
    "        self.graph[src].insert(0, newNode)\n",
    "\n",
    "        # Since graph is undirected, add an edge from\n",
    "        # dest to src also\n",
    "        newNode = [src, weight]\n",
    "        self.graph[dest].insert(0, newNode)\n",
    "\n",
    "    # The main function that prints the Minimum\n",
    "    # Spanning Tree(MST) using the Prim's Algorithm.\n",
    "    # It is a O(ELogV) function\n",
    "    def PrimMST(self):\n",
    "        # Get the number of vertices in graph\n",
    "        V = self.V\n",
    "\n",
    "        # key values used to pick minimum weight edge in cut\n",
    "        key = []\n",
    "\n",
    "        # List to store constructed MST\n",
    "        parent = []\n",
    "\n",
    "        # minHeap represents set E\n",
    "        minHeap = Heap()\n",
    "\n",
    "        # Initialize min heap with all vertices. Key values of all\n",
    "        # vertices (except the 0th vertex) is is initially infinite\n",
    "        for v in range(V):\n",
    "            parent.append(-1)\n",
    "            key.append(1e7)\n",
    "            minHeap.array.append(minHeap.newMinHeapNode(v, key[v]))\n",
    "            minHeap.pos.append(v)\n",
    "\n",
    "        # Make key value of 0th vertex as 0 so\n",
    "        # that it is extracted first\n",
    "        minHeap.pos[0] = 0\n",
    "        key[0] = 0\n",
    "        minHeap.decreaseKey(0, key[0])\n",
    "\n",
    "        # Initially size of min heap is equal to V\n",
    "        minHeap.size = V\n",
    "\n",
    "        # In the following loop, min heap contains all nodes\n",
    "        # not yet added in the MST.\n",
    "        while minHeap.isEmpty() == False:\n",
    "\n",
    "            # Extract the vertex with minimum distance value\n",
    "            newHeapNode = minHeap.extractMin()\n",
    "            u = newHeapNode[0]\n",
    "\n",
    "            # Traverse through all adjacent vertices of u\n",
    "            # (the extracted vertex) and update their\n",
    "            # distance values\n",
    "            for pCrawl in self.graph[u]:\n",
    "                print(pCrawl)\n",
    "\n",
    "                v = pCrawl[0]\n",
    "\n",
    "                # If shortest distance to v is not finalized\n",
    "                # yet, and distance to v through u is less than\n",
    "                # its previously calculated distance\n",
    "                if minHeap.isInMinHeap(v) and pCrawl[1] < key[v]:\n",
    "                    key[v] = pCrawl[1]\n",
    "                    parent[v] = u\n",
    "\n",
    "                    # update distance value in min heap also\n",
    "                    minHeap.decreaseKey(v, key[v])\n",
    "\n",
    "        printArr(parent, V)\n",
    "\n",
    "\n",
    "# Driver program to test the above functions\n",
    "graph = Graph(9)\n",
    "graph.addEdge(0, 1, 4)\n",
    "graph.addEdge(0, 7, 8)\n",
    "graph.addEdge(1, 2, 8)\n",
    "graph.addEdge(1, 7, 11)\n",
    "graph.addEdge(2, 3, 7)\n",
    "graph.addEdge(2, 8, 2)\n",
    "graph.addEdge(2, 5, 4)\n",
    "graph.addEdge(3, 4, 9)\n",
    "graph.addEdge(3, 5, 14)\n",
    "graph.addEdge(4, 5, 10)\n",
    "graph.addEdge(5, 6, 2)\n",
    "graph.addEdge(6, 7, 1)\n",
    "graph.addEdge(6, 8, 6)\n",
    "graph.addEdge(7, 8, 7)\n",
    "graph.PrimMST()\n",
    "\n",
    "# This code is contributed by Divyanshu Mehta"
   ]
  },
  {
   "cell_type": "code",
   "execution_count": 41,
   "metadata": {},
   "outputs": [
    {
     "ename": "SyntaxError",
     "evalue": "cannot assign to literal (423456091.py, line 15)",
     "output_type": "error",
     "traceback": [
      "\u001b[0;36m  Cell \u001b[0;32mIn [41], line 15\u001b[0;36m\u001b[0m\n\u001b[0;31m    0 = 1\u001b[0m\n\u001b[0m    ^\u001b[0m\n\u001b[0;31mSyntaxError\u001b[0m\u001b[0;31m:\u001b[0m cannot assign to literal\n"
     ]
    }
   ],
   "source": [
    "[7, 8]\n",
    "[1, 4]\n",
    "[7, 11]\n",
    "[2, 8]\n",
    "[0, 4]\n",
    "[5, 4]\n",
    "[8, 2]\n",
    "[3, 7]\n",
    "[1, 8]\n",
    "[5, 14]\n",
    "[4, 9]\n",
    "[2, 7]\n",
    "[5, 10]\n",
    "[3, 9]\n",
    "0 = 1\n",
    "1 = 2\n",
    "2 = 3\n",
    "3 = 4"
   ]
  }
 ],
 "metadata": {
  "kernelspec": {
   "display_name": "Python 3.8.10 ('.venv': pipenv)",
   "language": "python",
   "name": "python3"
  },
  "language_info": {
   "codemirror_mode": {
    "name": "ipython",
    "version": 3
   },
   "file_extension": ".py",
   "mimetype": "text/x-python",
   "name": "python",
   "nbconvert_exporter": "python",
   "pygments_lexer": "ipython3",
   "version": "3.8.10"
  },
  "orig_nbformat": 4,
  "vscode": {
   "interpreter": {
    "hash": "ea9ccb04e7308efcbefe4ed3ddff7336a57680ae622578d4fe4a2e3945390538"
   }
  }
 },
 "nbformat": 4,
 "nbformat_minor": 2
}
