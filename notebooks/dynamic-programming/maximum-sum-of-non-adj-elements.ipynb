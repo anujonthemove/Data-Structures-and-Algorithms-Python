{
 "cells": [
  {
   "attachments": {},
   "cell_type": "markdown",
   "metadata": {},
   "source": [
    "# Maximum Sum of Non Adjacent Elements"
   ]
  },
  {
   "attachments": {},
   "cell_type": "markdown",
   "metadata": {},
   "source": [
    "##### Recursion"
   ]
  },
  {
   "cell_type": "code",
   "execution_count": 1,
   "metadata": {},
   "outputs": [],
   "source": [
    "def max_sum(nums):\n",
    "    def solve(index):\n",
    "\n",
    "        # 1. base case\n",
    "        if index >= len(nums):\n",
    "            return 0\n",
    "\n",
    "        if len(nums) == 1:\n",
    "            return nums[0]\n",
    "\n",
    "        # include call\n",
    "        incl = nums[index] + solve(index + 2)\n",
    "        # print(incl)\n",
    "        # exclude call\n",
    "        excl = 0 + solve(index + 1)\n",
    "\n",
    "        return max(incl, excl)\n",
    "\n",
    "    ans = solve(index=0)\n",
    "\n",
    "    return ans"
   ]
  },
  {
   "cell_type": "code",
   "execution_count": 2,
   "metadata": {},
   "outputs": [
    {
     "data": {
      "text/plain": [
       "17"
      ]
     },
     "execution_count": 2,
     "metadata": {},
     "output_type": "execute_result"
    }
   ],
   "source": [
    "nums = [9, 9, 8, 2]\n",
    "max_sum(nums)"
   ]
  },
  {
   "attachments": {},
   "cell_type": "markdown",
   "metadata": {},
   "source": [
    "##### Recursion + Memoization"
   ]
  },
  {
   "cell_type": "code",
   "execution_count": 3,
   "metadata": {},
   "outputs": [],
   "source": [
    "def max_sum_memo(nums):\n",
    "\n",
    "    n = len(nums)\n",
    "    dp = [-1] * (n + 1)\n",
    "\n",
    "    def solve(index):\n",
    "\n",
    "        if index >= len(nums):\n",
    "            return 0\n",
    "\n",
    "        if len(nums) == 1:\n",
    "            return nums[0]\n",
    "\n",
    "        if dp[index] != -1:\n",
    "            return dp[index]\n",
    "\n",
    "        incl = nums[index] + solve(index + 2)\n",
    "        excl = 0 + solve(index + 1)\n",
    "\n",
    "        dp[index] = max(incl, excl)\n",
    "        return dp[index]\n",
    "\n",
    "    ans = solve(index=0)\n",
    "    return ans"
   ]
  },
  {
   "cell_type": "code",
   "execution_count": 4,
   "metadata": {},
   "outputs": [
    {
     "data": {
      "text/plain": [
       "17"
      ]
     },
     "execution_count": 4,
     "metadata": {},
     "output_type": "execute_result"
    }
   ],
   "source": [
    "nums = [9, 9, 8, 2]\n",
    "max_sum_memo(nums)"
   ]
  },
  {
   "attachments": {},
   "cell_type": "markdown",
   "metadata": {},
   "source": [
    "##### DP - Tabulation"
   ]
  },
  {
   "cell_type": "code",
   "execution_count": 5,
   "metadata": {},
   "outputs": [],
   "source": [
    "def max_sum_tabulation(nums):\n",
    "\n",
    "    n = len(nums)\n",
    "    dp = [0] * (n + 1)\n",
    "\n",
    "    if len(nums) == 1:\n",
    "        return nums[0]\n",
    "\n",
    "    dp[0] = nums[0]\n",
    "\n",
    "    for i in range(1, len(nums)):\n",
    "        incl = nums[i] + dp[i - 2]\n",
    "        excl = 0 + dp[i - 1]\n",
    "        dp[i] = max(incl, excl)\n",
    "\n",
    "    return dp[n - 1]"
   ]
  },
  {
   "cell_type": "code",
   "execution_count": 6,
   "metadata": {},
   "outputs": [
    {
     "data": {
      "text/plain": [
       "17"
      ]
     },
     "execution_count": 6,
     "metadata": {},
     "output_type": "execute_result"
    }
   ],
   "source": [
    "nums = [9, 9, 8, 2]\n",
    "max_sum_tabulation(nums)"
   ]
  },
  {
   "attachments": {},
   "cell_type": "markdown",
   "metadata": {},
   "source": [
    "##### DP - Space Optimization"
   ]
  },
  {
   "cell_type": "code",
   "execution_count": 7,
   "metadata": {},
   "outputs": [],
   "source": [
    "def max_sum_space_opt(nums):\n",
    "\n",
    "    # this is for the case where start index is below zero\n",
    "    # think about the base cases and then create the variables accordingly\n",
    "    prev1 = 0\n",
    "    prev2 = nums[0]\n",
    "\n",
    "    for i in range(1, len(nums)):\n",
    "        incl = prev1 + nums[i]\n",
    "        excl = prev2 + 0\n",
    "        ans = max(incl, excl)\n",
    "\n",
    "        prev1 = prev2\n",
    "        prev2 = ans\n",
    "\n",
    "    return prev1"
   ]
  },
  {
   "cell_type": "code",
   "execution_count": 8,
   "metadata": {},
   "outputs": [
    {
     "data": {
      "text/plain": [
       "17"
      ]
     },
     "execution_count": 8,
     "metadata": {},
     "output_type": "execute_result"
    }
   ],
   "source": [
    "nums = [9, 9, 8, 2]\n",
    "max_sum_space_opt(nums)"
   ]
  },
  {
   "cell_type": "code",
   "execution_count": null,
   "metadata": {},
   "outputs": [],
   "source": []
  }
 ],
 "metadata": {
  "kernelspec": {
   "display_name": ".venv",
   "language": "python",
   "name": "python3"
  },
  "language_info": {
   "codemirror_mode": {
    "name": "ipython",
    "version": 3
   },
   "file_extension": ".py",
   "mimetype": "text/x-python",
   "name": "python",
   "nbconvert_exporter": "python",
   "pygments_lexer": "ipython3",
   "version": "3.8.10 (default, Nov 14 2022, 12:59:47) \n[GCC 9.4.0]"
  },
  "orig_nbformat": 4,
  "vscode": {
   "interpreter": {
    "hash": "ea9ccb04e7308efcbefe4ed3ddff7336a57680ae622578d4fe4a2e3945390538"
   }
  }
 },
 "nbformat": 4,
 "nbformat_minor": 2
}
