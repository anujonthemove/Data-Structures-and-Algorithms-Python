{
 "cells": [
  {
   "attachments": {},
   "cell_type": "markdown",
   "metadata": {},
   "source": [
    "DP Day - 2\n",
    "\n",
    "Count Ways To Reach The N-th Stairs - Coding Ninjas\n",
    "* https://www.codingninjas.com/codestudio/problems/count-ways-to-reach-nth-stairs_798650\n"
   ]
  },
  {
   "cell_type": "code",
   "execution_count": 1,
   "metadata": {},
   "outputs": [],
   "source": [
    "def solve(n_stairs, current_stair, dp):\n",
    "\n",
    "    # base case\n",
    "    if current_stair == n_stairs:\n",
    "        return 1\n",
    "\n",
    "    # if my current stair has exceeded\n",
    "    # the my n_stair\n",
    "    if current_stair > n_stairs:\n",
    "        return 0\n",
    "\n",
    "    # step-3: check if the value needed to be computed is already present in the dp array\n",
    "    if dp[current_stair] != -1:\n",
    "        return dp[current_stair]\n",
    "\n",
    "    # step-2: recursive case\n",
    "    dp[current_stair] = solve(n_stairs, current_stair + 1, dp) + solve(\n",
    "        n_stairs, current_stair + 2, dp\n",
    "    )\n",
    "\n",
    "    # recursive relation\n",
    "    return dp[current_stair]"
   ]
  },
  {
   "cell_type": "code",
   "execution_count": 2,
   "metadata": {},
   "outputs": [],
   "source": [
    "def count_ways(n_stairs):\n",
    "    # in this case we are building our solution from bottom to top\n",
    "    start_stair = 0\n",
    "    # step-1: creation of dp array\n",
    "    dp = [-1] * (n_stairs + 1)\n",
    "    ans = solve(n_stairs=n_stairs, current_stair=start_stair, dp=dp)\n",
    "\n",
    "    return ans"
   ]
  },
  {
   "cell_type": "code",
   "execution_count": 3,
   "metadata": {},
   "outputs": [
    {
     "name": "stdout",
     "output_type": "stream",
     "text": [
      "12586269025\n"
     ]
    }
   ],
   "source": [
    "n = 49\n",
    "ans = count_ways(n)\n",
    "print(ans)"
   ]
  },
  {
   "cell_type": "code",
   "execution_count": null,
   "metadata": {},
   "outputs": [],
   "source": []
  },
  {
   "cell_type": "code",
   "execution_count": null,
   "metadata": {},
   "outputs": [],
   "source": []
  }
 ],
 "metadata": {
  "kernelspec": {
   "display_name": ".venv",
   "language": "python",
   "name": "python3"
  },
  "language_info": {
   "codemirror_mode": {
    "name": "ipython",
    "version": 3
   },
   "file_extension": ".py",
   "mimetype": "text/x-python",
   "name": "python",
   "nbconvert_exporter": "python",
   "pygments_lexer": "ipython3",
   "version": "3.8.10"
  },
  "orig_nbformat": 4,
  "vscode": {
   "interpreter": {
    "hash": "ea9ccb04e7308efcbefe4ed3ddff7336a57680ae622578d4fe4a2e3945390538"
   }
  }
 },
 "nbformat": 4,
 "nbformat_minor": 2
}
