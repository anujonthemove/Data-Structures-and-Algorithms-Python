{
 "cells": [
  {
   "attachments": {},
   "cell_type": "markdown",
   "metadata": {},
   "source": [
    "# Count ways to reach nth stair\n",
    "\n",
    "* https://www.codingninjas.com/codestudio/problems/count-ways-to-reach-nth-stairs_798650\n"
   ]
  },
  {
   "cell_type": "code",
   "execution_count": 6,
   "metadata": {},
   "outputs": [],
   "source": [
    "def nth_stair(n):\n",
    "\n",
    "    # given that we always start from 0th stair\n",
    "    start_stair = 0\n",
    "\n",
    "    def solve(n):\n",
    "\n",
    "        # 1. base case\n",
    "        # this is invalid, as per the problem statement\n",
    "        # we cannot have a stair less than 0\n",
    "        if n < 0:\n",
    "            return 0\n",
    "        # If you are on stair 0, then the # ways to reach\n",
    "        # the 0th stair is 1\n",
    "        if n == 0:\n",
    "            return 1\n",
    "\n",
    "        # recursive relation\n",
    "        # for counting the remaining ways\n",
    "        total_ways = solve(n - 1) + solve(n - 2)\n",
    "        return total_ways\n",
    "\n",
    "    ans = solve(n)\n",
    "    return ans"
   ]
  },
  {
   "cell_type": "code",
   "execution_count": 5,
   "metadata": {},
   "outputs": [
    {
     "data": {
      "text/plain": [
       "8"
      ]
     },
     "execution_count": 5,
     "metadata": {},
     "output_type": "execute_result"
    }
   ],
   "source": [
    "nth_stair(5)"
   ]
  },
  {
   "cell_type": "code",
   "execution_count": 7,
   "metadata": {},
   "outputs": [],
   "source": [
    "def nth_stair_memo(n):\n",
    "\n",
    "    # 1. create a dp array\n",
    "    dp = [-1] * (n + 1)\n",
    "\n",
    "    def solve(n):\n",
    "\n",
    "        if n < 0:\n",
    "            return 0\n",
    "\n",
    "        if n == 0:\n",
    "            return 1\n",
    "\n",
    "        # 3. if some intermediate\n",
    "        # result is already in the dp array\n",
    "        # return it\n",
    "        if dp[n] != -1:\n",
    "            return dp[n]\n",
    "\n",
    "        # 2. store result in the dp array\n",
    "        dp[n] = solve(n - 1) + solve(n - 2)\n",
    "\n",
    "        return dp[n]\n",
    "\n",
    "    ans = solve(n)\n",
    "\n",
    "    return ans"
   ]
  },
  {
   "cell_type": "code",
   "execution_count": 16,
   "metadata": {},
   "outputs": [
    {
     "data": {
      "text/plain": [
       "34"
      ]
     },
     "execution_count": 16,
     "metadata": {},
     "output_type": "execute_result"
    }
   ],
   "source": [
    "nth_stair_memo(8)"
   ]
  },
  {
   "cell_type": "code",
   "execution_count": 17,
   "metadata": {},
   "outputs": [],
   "source": [
    "def count_ways(n_stairs):\n",
    "    # in this case we are building our solution from bottom to top\n",
    "    start_stair = 0\n",
    "    # step-1: creation of dp array\n",
    "    dp = [-1] * (n_stairs + 1)\n",
    "\n",
    "    def solve(n_stairs, current_stair, dp):\n",
    "\n",
    "        # base case\n",
    "        if current_stair == n_stairs:\n",
    "            return 1\n",
    "\n",
    "        # if my current stair has exceeded\n",
    "        # the my n_stair or I have overstepped\n",
    "        if current_stair > n_stairs:\n",
    "            return 0\n",
    "\n",
    "        # step-3: check if the value needed to be computed is already present in the dp array\n",
    "        if dp[current_stair] != -1:\n",
    "            return dp[current_stair]\n",
    "\n",
    "        # step-2: recursive case\n",
    "        dp[current_stair] = solve(n_stairs, current_stair + 1) + solve(\n",
    "            n_stairs, current_stair + 2\n",
    "        )\n",
    "\n",
    "        # recursive relation\n",
    "        return dp[current_stair]\n",
    "\n",
    "    ans = solve(n_stairs=n_stairs, current_stair=start_stair)\n",
    "\n",
    "    return ans"
   ]
  },
  {
   "cell_type": "code",
   "execution_count": 18,
   "metadata": {},
   "outputs": [
    {
     "name": "stdout",
     "output_type": "stream",
     "text": [
      "12586269025\n"
     ]
    }
   ],
   "source": [
    "n = 49\n",
    "ans = count_ways(n)\n",
    "print(ans)"
   ]
  }
 ],
 "metadata": {
  "kernelspec": {
   "display_name": ".venv",
   "language": "python",
   "name": "python3"
  },
  "language_info": {
   "codemirror_mode": {
    "name": "ipython",
    "version": 3
   },
   "file_extension": ".py",
   "mimetype": "text/x-python",
   "name": "python",
   "nbconvert_exporter": "python",
   "pygments_lexer": "ipython3",
   "version": "3.8.10"
  },
  "orig_nbformat": 4,
  "vscode": {
   "interpreter": {
    "hash": "ea9ccb04e7308efcbefe4ed3ddff7336a57680ae622578d4fe4a2e3945390538"
   }
  }
 },
 "nbformat": 4,
 "nbformat_minor": 2
}
