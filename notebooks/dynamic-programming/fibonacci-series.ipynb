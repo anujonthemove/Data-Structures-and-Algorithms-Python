{
 "cells": [
  {
   "attachments": {},
   "cell_type": "markdown",
   "metadata": {},
   "source": [
    "### Fibonacci Number"
   ]
  },
  {
   "attachments": {},
   "cell_type": "markdown",
   "metadata": {},
   "source": [
    "##### 1. Recursion + Memoization - Top Down approach"
   ]
  },
  {
   "cell_type": "code",
   "execution_count": 1,
   "metadata": {},
   "outputs": [],
   "source": [
    "def fib_memo(n, dp):\n",
    "    \"\"\"\n",
    "    # 0, 1, 2, 3, 4, 5, 6, 7,  8\n",
    "    # 0, 1, 1, 2, 3, 5, 8, 13, 21\n",
    "    \"\"\"\n",
    "\n",
    "    # base case\n",
    "    if n == 0 or n == 1:\n",
    "        return n\n",
    "\n",
    "    if dp[n] != -1:\n",
    "        return dp[n]\n",
    "\n",
    "    # recurrence relation\n",
    "    dp[n] = fib_memo(n - 1, dp) + fib_memo(n - 2, dp)\n",
    "\n",
    "    return dp[n]"
   ]
  },
  {
   "cell_type": "code",
   "execution_count": 2,
   "metadata": {},
   "outputs": [
    {
     "name": "stdout",
     "output_type": "stream",
     "text": [
      "354224848179261915075\n"
     ]
    }
   ],
   "source": [
    "n = 100\n",
    "dp = [-1] * (n + 1)\n",
    "ans = fib_memo(n, dp)\n",
    "print(ans)"
   ]
  },
  {
   "cell_type": "code",
   "execution_count": 3,
   "metadata": {},
   "outputs": [],
   "source": [
    "def fib_memo(n):\n",
    "\n",
    "    \"\"\"\n",
    "    # 0, 1, 2, 3, 4, 5, 6, 7,  8\n",
    "    # 0, 1, 1, 2, 3, 5, 8, 13, 21\n",
    "    \"\"\"\n",
    "\n",
    "    # 1. Create a 1D dp array\n",
    "    dp = [-1] * (n + 1)\n",
    "\n",
    "    def solve(n):\n",
    "\n",
    "        # 1. base case\n",
    "        if n == 0 or n == 1:\n",
    "            return n\n",
    "\n",
    "        # 3. check dp array for result before\n",
    "        # making a recursive call\n",
    "        if dp[n] != -1:\n",
    "            return dp[n]\n",
    "\n",
    "        # 2. Recursive relation + store result in the dp array\n",
    "        dp[n] = solve(n - 1) + solve(n - 2)\n",
    "\n",
    "        return dp[n]\n",
    "\n",
    "    ans = solve(n)\n",
    "\n",
    "    return ans"
   ]
  },
  {
   "cell_type": "code",
   "execution_count": 4,
   "metadata": {},
   "outputs": [
    {
     "data": {
      "text/plain": [
       "354224848179261915075"
      ]
     },
     "execution_count": 4,
     "metadata": {},
     "output_type": "execute_result"
    }
   ],
   "source": [
    "n = 100\n",
    "fib_memo(n)"
   ]
  },
  {
   "attachments": {},
   "cell_type": "markdown",
   "metadata": {},
   "source": [
    "#### 2. Tabulation - Bottom Up approach"
   ]
  },
  {
   "cell_type": "code",
   "execution_count": 5,
   "metadata": {},
   "outputs": [],
   "source": [
    "def fib_tab(n, dp):\n",
    "    \"\"\"\n",
    "    # 0, 1, 2, 3, 4, 5, 6, 7,  8\n",
    "    # 0, 1, 1, 2, 3, 5, 8, 13, 21\n",
    "    \"\"\"\n",
    "\n",
    "    # base case\n",
    "    if n <= 1:\n",
    "        return n\n",
    "\n",
    "    # processing\n",
    "    # check if you already have the number in dp\n",
    "    if dp[n] != -1:\n",
    "        return dp[n]\n",
    "\n",
    "    # go for bottom-up tabulation\n",
    "    # using the recurrence relation\n",
    "    # dp[n] = dp[n-1] + dp[n-2]\n",
    "\n",
    "    for i in range(2, n + 1):\n",
    "        dp[i] = dp[i - 1] + dp[i - 2]\n",
    "\n",
    "    return dp[n]"
   ]
  },
  {
   "cell_type": "code",
   "execution_count": 6,
   "metadata": {},
   "outputs": [
    {
     "name": "stdout",
     "output_type": "stream",
     "text": [
      "354224848179261915075\n"
     ]
    }
   ],
   "source": [
    "n = 100\n",
    "\n",
    "# step-1: define dp array\n",
    "dp = [-1] * (n + 1)\n",
    "\n",
    "# step-2: fill this using the base case\n",
    "dp[0] = 0\n",
    "dp[1] = 1\n",
    "\n",
    "\n",
    "ans = fib_tab(n, dp)\n",
    "print(ans)"
   ]
  },
  {
   "cell_type": "code",
   "execution_count": 7,
   "metadata": {},
   "outputs": [],
   "source": [
    "def fib_tab(n):\n",
    "\n",
    "    if n <= 1:\n",
    "        return n\n",
    "\n",
    "    # 1. create a 1D dp array\n",
    "    dp = [-1] * (n + 1)\n",
    "\n",
    "    # 2. base case(s)\n",
    "    dp[0] = 0\n",
    "    dp[1] = 1\n",
    "\n",
    "    # this is not needed\n",
    "    # as we are building our solution bottom-up\n",
    "    # if dp[n] != -1:\n",
    "    #     return dp[n]\n",
    "\n",
    "    # 3. build dp array bottom-up using for loop\n",
    "    for i in range(2, n + 1):\n",
    "        dp[i] = dp[i - 1] + dp[i - 2]\n",
    "\n",
    "    return dp[n]"
   ]
  },
  {
   "cell_type": "code",
   "execution_count": 8,
   "metadata": {},
   "outputs": [
    {
     "data": {
      "text/plain": [
       "354224848179261915075"
      ]
     },
     "execution_count": 8,
     "metadata": {},
     "output_type": "execute_result"
    }
   ],
   "source": [
    "fib_tab(100)"
   ]
  },
  {
   "attachments": {},
   "cell_type": "markdown",
   "metadata": {},
   "source": [
    "##### 3. Space Optimization"
   ]
  },
  {
   "cell_type": "code",
   "execution_count": 9,
   "metadata": {},
   "outputs": [],
   "source": [
    "def fib_space_opt(n):\n",
    "\n",
    "    \"\"\"\n",
    "    # 0, 1, 2, 3, 4, 5, 6, 7,  8\n",
    "    # 0, 1, 1, 2, 3, 5, 8, 13, 21\n",
    "    \"\"\"\n",
    "\n",
    "    # base case\n",
    "    if n <= 1:\n",
    "        return n\n",
    "\n",
    "    prev1 = 0\n",
    "    prev2 = 1\n",
    "\n",
    "    for i in range(2, n + 1):\n",
    "        current = prev1 + prev2\n",
    "\n",
    "        # shift\n",
    "        prev1 = prev2\n",
    "        prev2 = current\n",
    "\n",
    "        # print(f\"current: {current}\")\n",
    "        # print(f\"prev1: {prev1}\")\n",
    "        # print(f\"prev2: {prev2}\")\n",
    "        # print()\n",
    "\n",
    "    return current"
   ]
  },
  {
   "cell_type": "code",
   "execution_count": 10,
   "metadata": {},
   "outputs": [
    {
     "name": "stdout",
     "output_type": "stream",
     "text": [
      "ans: 354224848179261915075\n"
     ]
    }
   ],
   "source": [
    "n = 100\n",
    "\n",
    "ans = fib_space_opt(n)\n",
    "print(f\"ans: {ans}\")"
   ]
  },
  {
   "cell_type": "code",
   "execution_count": 11,
   "metadata": {},
   "outputs": [],
   "source": [
    "def fib_tab_space_opt(n):\n",
    "\n",
    "    if n <= 1:\n",
    "        return n\n",
    "\n",
    "    prev1 = 1\n",
    "    prev2 = 0\n",
    "\n",
    "    for i in range(2, n + 1):\n",
    "        current = prev1 + prev2\n",
    "        prev2 = prev1\n",
    "        prev1 = current\n",
    "\n",
    "    return prev1"
   ]
  },
  {
   "cell_type": "code",
   "execution_count": 12,
   "metadata": {},
   "outputs": [
    {
     "data": {
      "text/plain": [
       "354224848179261915075"
      ]
     },
     "execution_count": 12,
     "metadata": {},
     "output_type": "execute_result"
    }
   ],
   "source": [
    "n = 100\n",
    "fib_tab_space_opt(n)"
   ]
  },
  {
   "cell_type": "code",
   "execution_count": null,
   "metadata": {},
   "outputs": [],
   "source": []
  }
 ],
 "metadata": {
  "kernelspec": {
   "display_name": ".venv",
   "language": "python",
   "name": "python3"
  },
  "language_info": {
   "codemirror_mode": {
    "name": "ipython",
    "version": 3
   },
   "file_extension": ".py",
   "mimetype": "text/x-python",
   "name": "python",
   "nbconvert_exporter": "python",
   "pygments_lexer": "ipython3",
   "version": "3.8.10"
  },
  "orig_nbformat": 4,
  "vscode": {
   "interpreter": {
    "hash": "ea9ccb04e7308efcbefe4ed3ddff7336a57680ae622578d4fe4a2e3945390538"
   }
  }
 },
 "nbformat": 4,
 "nbformat_minor": 2
}
