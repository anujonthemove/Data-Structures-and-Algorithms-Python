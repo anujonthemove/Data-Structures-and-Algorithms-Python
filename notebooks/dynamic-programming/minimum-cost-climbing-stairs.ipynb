{
 "cells": [
  {
   "attachments": {},
   "cell_type": "markdown",
   "metadata": {},
   "source": [
    "# 746. Min Cost Climbing Stairs\n",
    "\n",
    "* https://leetcode.com/problems/min-cost-climbing-stairs/"
   ]
  },
  {
   "attachments": {},
   "cell_type": "markdown",
   "metadata": {},
   "source": [
    "##### Recursion\n",
    "\n",
    "* This solution hits TLE when run for large test cases"
   ]
  },
  {
   "cell_type": "code",
   "execution_count": 1,
   "metadata": {},
   "outputs": [],
   "source": [
    "def min_cost_climbing_stairs(cost):\n",
    "\n",
    "    # number of stairs\n",
    "    n = len(cost)\n",
    "\n",
    "    # this function will calculate the\n",
    "    # minimum cost for all stairs except\n",
    "    # the nth stair that is why when we call\n",
    "    # solve() we call it with (n-1) and (n-2)\n",
    "    def solve(n):\n",
    "        if n < 0:\n",
    "            return 0\n",
    "\n",
    "        if n == 0 or n == 1:\n",
    "            return cost[n]\n",
    "\n",
    "        ans = min(solve(n - 1), solve(n - 2)) + cost[n]\n",
    "        return ans\n",
    "\n",
    "    # here we are at the nth step so we do not include the cost\n",
    "    # we just want the cost we incurred in the previous set of steps\n",
    "    ans = min(solve(n - 1), solve(n - 2))\n",
    "    return ans"
   ]
  },
  {
   "cell_type": "code",
   "execution_count": 2,
   "metadata": {},
   "outputs": [
    {
     "data": {
      "text/plain": [
       "15"
      ]
     },
     "execution_count": 2,
     "metadata": {},
     "output_type": "execute_result"
    }
   ],
   "source": [
    "cost = [10, 15, 20]\n",
    "min_cost_climbing_stairs(cost)"
   ]
  },
  {
   "cell_type": "code",
   "execution_count": 3,
   "metadata": {},
   "outputs": [
    {
     "data": {
      "text/plain": [
       "6"
      ]
     },
     "execution_count": 3,
     "metadata": {},
     "output_type": "execute_result"
    }
   ],
   "source": [
    "cost = [1, 100, 1, 1, 1, 100, 1, 1, 100, 1]\n",
    "min_cost_climbing_stairs(cost)"
   ]
  },
  {
   "attachments": {},
   "cell_type": "markdown",
   "metadata": {},
   "source": [
    "##### Recursion + Memoization\n",
    "\n",
    "* All test cases passed"
   ]
  },
  {
   "cell_type": "code",
   "execution_count": 4,
   "metadata": {},
   "outputs": [],
   "source": [
    "def min_cost_climbing_stairs_memo(cost):\n",
    "\n",
    "    n = len(cost)\n",
    "\n",
    "    # 1. 1D dp array till n including 0th index\n",
    "    dp = [-1] * (n + 1)\n",
    "\n",
    "    def solve(n):\n",
    "\n",
    "        if n < 0:\n",
    "            return 0\n",
    "\n",
    "        if n == 0 or n == 1:\n",
    "            return cost[n]\n",
    "\n",
    "        # 3. if result exists in dp, return\n",
    "        if dp[n] != -1:\n",
    "            return dp[n]\n",
    "\n",
    "        # 2. store results\n",
    "        dp[n] = min(solve(n - 1), solve(n - 2)) + cost[n]\n",
    "\n",
    "        return dp[n]\n",
    "\n",
    "    ans = min(solve(n - 1), solve(n - 2))\n",
    "\n",
    "    return ans"
   ]
  },
  {
   "cell_type": "code",
   "execution_count": 5,
   "metadata": {},
   "outputs": [
    {
     "data": {
      "text/plain": [
       "15"
      ]
     },
     "execution_count": 5,
     "metadata": {},
     "output_type": "execute_result"
    }
   ],
   "source": [
    "cost = [10, 15, 20]\n",
    "min_cost_climbing_stairs_memo(cost)"
   ]
  },
  {
   "cell_type": "code",
   "execution_count": 6,
   "metadata": {},
   "outputs": [
    {
     "data": {
      "text/plain": [
       "6"
      ]
     },
     "execution_count": 6,
     "metadata": {},
     "output_type": "execute_result"
    }
   ],
   "source": [
    "cost = [1, 100, 1, 1, 1, 100, 1, 1, 100, 1]\n",
    "min_cost_climbing_stairs_memo(cost)"
   ]
  },
  {
   "attachments": {},
   "cell_type": "markdown",
   "metadata": {},
   "source": [
    "##### Tabulation - Bottom Up DP\n",
    "\n",
    "* All test cases passed\n",
    "* Note: The for loop goes upto n+1 here. It is because we are calling the solve function\n",
    "        by passing `n-1` and `n-2`"
   ]
  },
  {
   "cell_type": "code",
   "execution_count": 7,
   "metadata": {},
   "outputs": [],
   "source": [
    "def min_cost_climbing_stairs_dp(cost):\n",
    "\n",
    "    # get nth stair\n",
    "    n = len(cost)\n",
    "\n",
    "    # 1. create 1D dp array\n",
    "    dp = [-1] * (n + 1)\n",
    "\n",
    "    def solve(n):\n",
    "        # base cases\n",
    "        dp[0] = cost[0]\n",
    "        dp[1] = cost[1]\n",
    "\n",
    "        for i in range(2, n + 1):\n",
    "            dp[i] = min(dp[i - 1], dp[i - 2]) + cost[i]\n",
    "\n",
    "        return dp[n]\n",
    "\n",
    "    ans = min(solve(n - 1), solve(n - 2))\n",
    "\n",
    "    return ans"
   ]
  },
  {
   "cell_type": "code",
   "execution_count": 8,
   "metadata": {},
   "outputs": [
    {
     "data": {
      "text/plain": [
       "15"
      ]
     },
     "execution_count": 8,
     "metadata": {},
     "output_type": "execute_result"
    }
   ],
   "source": [
    "cost = [10, 15, 20]\n",
    "min_cost_climbing_stairs_dp(cost)"
   ]
  },
  {
   "cell_type": "code",
   "execution_count": 9,
   "metadata": {},
   "outputs": [
    {
     "data": {
      "text/plain": [
       "6"
      ]
     },
     "execution_count": 9,
     "metadata": {},
     "output_type": "execute_result"
    }
   ],
   "source": [
    "cost = [1, 100, 1, 1, 1, 100, 1, 1, 100, 1]\n",
    "min_cost_climbing_stairs_dp(cost)"
   ]
  },
  {
   "attachments": {},
   "cell_type": "markdown",
   "metadata": {},
   "source": [
    "##### Tabulation - Bottom Up DP - Slight optimization\n",
    "\n",
    "* Passed all test cases.\n",
    "\n",
    "* Here, we can do a little more optimization\n",
    "    * Instead of just returning `dp[n]` we can return `min(dp[n-1], dp[n-2])` \n",
    "    * check loop ending point, it goes till `n` because solve() gets called by `n` and not `n-1`"
   ]
  },
  {
   "cell_type": "code",
   "execution_count": 10,
   "metadata": {},
   "outputs": [],
   "source": [
    "def min_cost_climbing_stairs_dp_opt(cost):\n",
    "\n",
    "    # get nth stair\n",
    "    n = len(cost)\n",
    "\n",
    "    def solve(n):\n",
    "        # 1. create 1D dp array\n",
    "        dp = [-1] * (n + 1)\n",
    "\n",
    "        # 2. base cases\n",
    "        dp[0] = cost[0]\n",
    "        dp[1] = cost[1]\n",
    "\n",
    "        # this time we will have to go till n-1,\n",
    "        # n-2 will be included in that as (n-1),(n-1), (n)\n",
    "        for i in range(2, n):\n",
    "            dp[i] = min(dp[i - 1], dp[i - 2]) + cost[i]\n",
    "\n",
    "        # this print statement clears every doubt\n",
    "        # when you dry run the code\n",
    "        # print(\"dp: \", dp)\n",
    "        # again here, we have not included the cost\n",
    "        # of the nth step or stair\n",
    "        ans = min(dp[n - 1], dp[n - 2])\n",
    "        return ans\n",
    "\n",
    "    ans = solve(n)\n",
    "\n",
    "    return ans"
   ]
  },
  {
   "cell_type": "code",
   "execution_count": 11,
   "metadata": {},
   "outputs": [
    {
     "data": {
      "text/plain": [
       "15"
      ]
     },
     "execution_count": 11,
     "metadata": {},
     "output_type": "execute_result"
    }
   ],
   "source": [
    "cost = [10, 15, 20]\n",
    "min_cost_climbing_stairs_dp_opt(cost)"
   ]
  },
  {
   "cell_type": "code",
   "execution_count": 12,
   "metadata": {},
   "outputs": [
    {
     "data": {
      "text/plain": [
       "6"
      ]
     },
     "execution_count": 12,
     "metadata": {},
     "output_type": "execute_result"
    }
   ],
   "source": [
    "cost = [1, 100, 1, 1, 1, 100, 1, 1, 100, 1]\n",
    "min_cost_climbing_stairs_dp_opt(cost)"
   ]
  },
  {
   "attachments": {},
   "cell_type": "markdown",
   "metadata": {},
   "source": [
    "##### Space optimization - incorrect solution\n",
    "\n",
    "* Test cases failed"
   ]
  },
  {
   "cell_type": "code",
   "execution_count": 13,
   "metadata": {},
   "outputs": [],
   "source": [
    "def min_cost_climbing_stairs_dp_space_opt(cost):\n",
    "\n",
    "    n = len(cost)\n",
    "\n",
    "    def solve(n):\n",
    "\n",
    "        prev2 = cost[0]\n",
    "        prev1 = cost[1]\n",
    "\n",
    "        current = -1\n",
    "        for i in range(2, n + 1):\n",
    "            # only cost accumulation is happening\n",
    "            # for the minimum path taken to reach the nth stair\n",
    "            current = cost[i] + min(prev2, prev1)\n",
    "            prev2 = prev1\n",
    "            prev1 = current\n",
    "\n",
    "        return prev1\n",
    "\n",
    "    ans = min(solve(n - 1), solve(n - 2))\n",
    "\n",
    "    return ans"
   ]
  },
  {
   "cell_type": "code",
   "execution_count": 14,
   "metadata": {},
   "outputs": [
    {
     "data": {
      "text/plain": [
       "15"
      ]
     },
     "execution_count": 14,
     "metadata": {},
     "output_type": "execute_result"
    }
   ],
   "source": [
    "cost = [10, 15, 20]\n",
    "min_cost_climbing_stairs_dp_space_opt(cost)"
   ]
  },
  {
   "cell_type": "code",
   "execution_count": 15,
   "metadata": {},
   "outputs": [
    {
     "data": {
      "text/plain": [
       "6"
      ]
     },
     "execution_count": 15,
     "metadata": {},
     "output_type": "execute_result"
    }
   ],
   "source": [
    "cost = [1, 100, 1, 1, 1, 100, 1, 1, 100, 1]\n",
    "min_cost_climbing_stairs_dp_space_opt(cost)"
   ]
  },
  {
   "attachments": {},
   "cell_type": "markdown",
   "metadata": {},
   "source": [
    "##### Space Optimized - correct solution\n",
    "\n",
    "* Passed all test cases"
   ]
  },
  {
   "cell_type": "code",
   "execution_count": 16,
   "metadata": {},
   "outputs": [],
   "source": [
    "def min_cost_climbing_stairs_space_opt(cost):\n",
    "\n",
    "    n_stairs = len(cost)\n",
    "\n",
    "    def solve(n):\n",
    "\n",
    "        prev2 = cost[0]\n",
    "        prev1 = cost[1]\n",
    "\n",
    "        for i in range(2, n):\n",
    "            current = cost[i] + min(prev1, prev2)\n",
    "            prev2 = prev1\n",
    "            prev1 = current\n",
    "\n",
    "        return min(prev1, prev2)\n",
    "\n",
    "    ans = solve(n_stairs)\n",
    "\n",
    "    return ans"
   ]
  },
  {
   "cell_type": "code",
   "execution_count": 17,
   "metadata": {},
   "outputs": [
    {
     "data": {
      "text/plain": [
       "15"
      ]
     },
     "execution_count": 17,
     "metadata": {},
     "output_type": "execute_result"
    }
   ],
   "source": [
    "cost = [10, 15, 20]\n",
    "min_cost_climbing_stairs_space_opt(cost)"
   ]
  },
  {
   "cell_type": "code",
   "execution_count": 18,
   "metadata": {},
   "outputs": [
    {
     "data": {
      "text/plain": [
       "6"
      ]
     },
     "execution_count": 18,
     "metadata": {},
     "output_type": "execute_result"
    }
   ],
   "source": [
    "cost = [1, 100, 1, 1, 1, 100, 1, 1, 100, 1]\n",
    "min_cost_climbing_stairs_space_opt(cost)"
   ]
  }
 ],
 "metadata": {
  "kernelspec": {
   "display_name": ".venv",
   "language": "python",
   "name": "python3"
  },
  "language_info": {
   "codemirror_mode": {
    "name": "ipython",
    "version": 3
   },
   "file_extension": ".py",
   "mimetype": "text/x-python",
   "name": "python",
   "nbconvert_exporter": "python",
   "pygments_lexer": "ipython3",
   "version": "3.8.10"
  },
  "orig_nbformat": 4,
  "vscode": {
   "interpreter": {
    "hash": "ea9ccb04e7308efcbefe4ed3ddff7336a57680ae622578d4fe4a2e3945390538"
   }
  }
 },
 "nbformat": 4,
 "nbformat_minor": 2
}
