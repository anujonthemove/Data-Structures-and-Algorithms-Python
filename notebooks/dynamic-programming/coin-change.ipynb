{
 "cells": [
  {
   "attachments": {},
   "cell_type": "markdown",
   "metadata": {},
   "source": [
    "#### Coin change problem"
   ]
  },
  {
   "cell_type": "code",
   "execution_count": 1,
   "metadata": {},
   "outputs": [],
   "source": [
    "def solve(amount, coin):\n",
    "    \"\"\"\n",
    "    # created this to understand what will happen\n",
    "    # when we have a particular coin and a given amount\n",
    "    \"\"\"\n",
    "    # print(\"amount: \", amount)\n",
    "    # base case\n",
    "    if amount < coin:\n",
    "        return 0\n",
    "\n",
    "    acc = 1 + solve(amount - coin, coin)\n",
    "    return acc"
   ]
  },
  {
   "cell_type": "code",
   "execution_count": 2,
   "metadata": {},
   "outputs": [
    {
     "data": {
      "text/plain": [
       "7"
      ]
     },
     "execution_count": 2,
     "metadata": {},
     "output_type": "execute_result"
    }
   ],
   "source": [
    "solve(7, 1)"
   ]
  },
  {
   "cell_type": "code",
   "execution_count": 3,
   "metadata": {},
   "outputs": [],
   "source": [
    "def solve_rec(amount, coins):\n",
    "\n",
    "    \"\"\"\n",
    "    Logic: Out of all possible combinations of the coins(which\n",
    "    is what can be seen by the recursion tree), we have to find that\n",
    "    1 combination that makes up to the given amount using minimum number of coins.\n",
    "    We are creating the variable `minimum` which is initialized with\n",
    "    max value, now it is getting updated everytime during the recursion\n",
    "    when it's previous value is more than the current\n",
    "    \"\"\"\n",
    "\n",
    "    # base case\n",
    "    if amount == 0:\n",
    "        return 0\n",
    "\n",
    "    # this case comes up in the recursion\n",
    "    # tree path when the amount becomes -ve\n",
    "    # suppose the amount is 7 and you are\n",
    "    # reducing it by coin value 5, when you\n",
    "    # use the first coin, you are left with amount=2\n",
    "    # and when you try to use the coin again\n",
    "    # you will be getting -3 which is incorrect\n",
    "    # hence for that \"path\" in the recursion\n",
    "    # tree will not be a valid one and hence we return inf.\n",
    "    if amount < 0:\n",
    "        return float(\"inf\")\n",
    "\n",
    "    minimum = float(\"inf\")\n",
    "    ans = float(\"inf\")\n",
    "\n",
    "    # since we have coins of multiple denomination\n",
    "    # we will use them one by one and calculate\n",
    "    # all the possible outcomes via recursion\n",
    "    for coin in coins:\n",
    "        # recursive relation\n",
    "        # here is where we build the recursion tree\n",
    "        ans = 1 + solve_rec(amount - coin, coins)\n",
    "        if ans != float(\"inf\"):\n",
    "            minimum = min(minimum, ans)\n",
    "\n",
    "    return minimum"
   ]
  },
  {
   "cell_type": "code",
   "execution_count": 4,
   "metadata": {},
   "outputs": [],
   "source": [
    "def minimum_coins(coins, amount):\n",
    "\n",
    "    ans = solve_rec(amount, coins)\n",
    "    if ans == float(\"inf\"):\n",
    "        return -1\n",
    "    else:\n",
    "        return ans"
   ]
  },
  {
   "cell_type": "code",
   "execution_count": 5,
   "metadata": {},
   "outputs": [],
   "source": [
    "coins = [1, 2, 5]\n",
    "amount = 11\n",
    "\n",
    "# coins = [2]\n",
    "# amount = 3\n",
    "\n",
    "# coins = [1]\n",
    "# amount = 0"
   ]
  },
  {
   "cell_type": "code",
   "execution_count": 6,
   "metadata": {},
   "outputs": [
    {
     "data": {
      "text/plain": [
       "3"
      ]
     },
     "execution_count": 6,
     "metadata": {},
     "output_type": "execute_result"
    }
   ],
   "source": [
    "minimum_coins(coins, amount)"
   ]
  },
  {
   "cell_type": "code",
   "execution_count": 7,
   "metadata": {},
   "outputs": [],
   "source": [
    "def solve_memo(amount, coins, dp):\n",
    "\n",
    "    if amount == 0:\n",
    "        return 0\n",
    "\n",
    "    if amount < 0:\n",
    "        return float(\"inf\")\n",
    "\n",
    "    ans = float(\"inf\")\n",
    "    minimum = float(\"inf\")\n",
    "\n",
    "    if dp[amount] != -1:\n",
    "        return dp[amount]\n",
    "\n",
    "    for coin in coins:\n",
    "        # recursive relation\n",
    "        # here is where we build the recursion tree\n",
    "        ans = 1 + solve_memo(amount - coin, coins, dp)\n",
    "        if ans != float(\"inf\"):\n",
    "            minimum = min(minimum, ans)\n",
    "\n",
    "    dp[amount] = minimum\n",
    "\n",
    "    return dp[amount]"
   ]
  },
  {
   "cell_type": "code",
   "execution_count": 8,
   "metadata": {},
   "outputs": [],
   "source": [
    "def minimum_coins_memo(coins, amount):\n",
    "\n",
    "    dp = [-1] * (amount + 1)\n",
    "\n",
    "    ans = solve_memo(amount, coins, dp)\n",
    "    if ans == float(\"inf\"):\n",
    "        return -1\n",
    "    else:\n",
    "        return ans"
   ]
  },
  {
   "cell_type": "code",
   "execution_count": 9,
   "metadata": {},
   "outputs": [],
   "source": [
    "coins = [1, 2, 5]\n",
    "amount = 100\n",
    "\n",
    "# coins = [2]\n",
    "# amount = 3\n",
    "\n",
    "# coins = [1]\n",
    "# amount = 0"
   ]
  },
  {
   "cell_type": "code",
   "execution_count": 10,
   "metadata": {},
   "outputs": [
    {
     "data": {
      "text/plain": [
       "20"
      ]
     },
     "execution_count": 10,
     "metadata": {},
     "output_type": "execute_result"
    }
   ],
   "source": [
    "minimum_coins_memo(coins, amount)"
   ]
  },
  {
   "cell_type": "code",
   "execution_count": 11,
   "metadata": {},
   "outputs": [],
   "source": [
    "def solve_tabulation(coins, amount):\n",
    "\n",
    "    dp = [float(\"inf\")] * (amount + 1)\n",
    "\n",
    "    dp[0] = 0\n",
    "\n",
    "    # in this case we have to build from bottom to go up\n",
    "\n",
    "    for i in range(1, amount + 1):\n",
    "        for coin in coins:\n",
    "            # check for valid index and also check\n",
    "            # if i-coin is not infinite otherwise there\n",
    "            # will be integer overflow\n",
    "            if i - coin >= 0 and dp[i - coin] != float(\"inf\"):\n",
    "                dp[i] = min(dp[i], 1 + dp[i - coin])\n",
    "\n",
    "    if dp[amount] == float(\"inf\"):\n",
    "        return -1\n",
    "\n",
    "    return dp[amount]"
   ]
  },
  {
   "cell_type": "code",
   "execution_count": 12,
   "metadata": {},
   "outputs": [],
   "source": [
    "def minimum_coins_tabulation(coins, amount):\n",
    "    ans = solve_tabulation(coins, amount)\n",
    "    return ans"
   ]
  },
  {
   "cell_type": "code",
   "execution_count": 13,
   "metadata": {},
   "outputs": [],
   "source": [
    "coins = [1, 2, 5]\n",
    "amount = 100\n",
    "\n",
    "# coins = [2]\n",
    "# amount = 3\n",
    "\n",
    "# coins = [1]\n",
    "# amount = 0"
   ]
  },
  {
   "cell_type": "code",
   "execution_count": 14,
   "metadata": {},
   "outputs": [
    {
     "data": {
      "text/plain": [
       "20"
      ]
     },
     "execution_count": 14,
     "metadata": {},
     "output_type": "execute_result"
    }
   ],
   "source": [
    "minimum_coins_tabulation(coins, amount)"
   ]
  },
  {
   "cell_type": "code",
   "execution_count": null,
   "metadata": {},
   "outputs": [],
   "source": []
  },
  {
   "cell_type": "code",
   "execution_count": null,
   "metadata": {},
   "outputs": [],
   "source": []
  }
 ],
 "metadata": {
  "kernelspec": {
   "display_name": ".venv",
   "language": "python",
   "name": "python3"
  },
  "language_info": {
   "codemirror_mode": {
    "name": "ipython",
    "version": 3
   },
   "file_extension": ".py",
   "mimetype": "text/x-python",
   "name": "python",
   "nbconvert_exporter": "python",
   "pygments_lexer": "ipython3",
   "version": "3.8.10 (default, Nov 14 2022, 12:59:47) \n[GCC 9.4.0]"
  },
  "orig_nbformat": 4,
  "vscode": {
   "interpreter": {
    "hash": "ea9ccb04e7308efcbefe4ed3ddff7336a57680ae622578d4fe4a2e3945390538"
   }
  }
 },
 "nbformat": 4,
 "nbformat_minor": 2
}
