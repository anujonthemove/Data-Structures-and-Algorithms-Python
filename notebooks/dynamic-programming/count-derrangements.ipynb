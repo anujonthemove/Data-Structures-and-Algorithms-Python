{
 "cells": [
  {
   "cell_type": "code",
   "execution_count": 5,
   "metadata": {},
   "outputs": [],
   "source": [
    "def count_derrangements(n):\n",
    "\n",
    "    if n == 0 or n == 1:\n",
    "        return 0\n",
    "\n",
    "    if n == 2:\n",
    "        return 1\n",
    "\n",
    "    ans = (n - 1) * (count_derrangements(n - 1) + count_derrangements(n - 2))\n",
    "    return ans"
   ]
  },
  {
   "cell_type": "code",
   "execution_count": 6,
   "metadata": {},
   "outputs": [
    {
     "data": {
      "text/plain": [
       "9"
      ]
     },
     "execution_count": 6,
     "metadata": {},
     "output_type": "execute_result"
    }
   ],
   "source": [
    "n = 4\n",
    "count_derrangements(n)"
   ]
  },
  {
   "cell_type": "code",
   "execution_count": 7,
   "metadata": {},
   "outputs": [],
   "source": [
    "def count_derrangements_memo(n):\n",
    "\n",
    "    dp = [-1] * (n + 1)\n",
    "\n",
    "    def solve(n):\n",
    "        if n == 0 or n == 1:\n",
    "            return 0\n",
    "\n",
    "        if n == 2:\n",
    "            return 1\n",
    "\n",
    "        dp[n] = (\n",
    "            (n - 1)\n",
    "            % MOD\n",
    "            * (\n",
    "                count_derrangements_memo(n - 1) % MOD\n",
    "                + count_derrangements_memo(n - 2) % MOD\n",
    "            )\n",
    "        ) % MOD\n",
    "\n",
    "        return dp[n]\n",
    "\n",
    "    ans = solve(n)\n",
    "    return ans"
   ]
  },
  {
   "cell_type": "code",
   "execution_count": 8,
   "metadata": {},
   "outputs": [
    {
     "data": {
      "text/plain": [
       "9"
      ]
     },
     "execution_count": 8,
     "metadata": {},
     "output_type": "execute_result"
    }
   ],
   "source": [
    "n = 4\n",
    "count_derrangements_memo(n)"
   ]
  },
  {
   "cell_type": "code",
   "execution_count": null,
   "metadata": {},
   "outputs": [],
   "source": []
  }
 ],
 "metadata": {
  "kernelspec": {
   "display_name": ".venv",
   "language": "python",
   "name": "python3"
  },
  "language_info": {
   "codemirror_mode": {
    "name": "ipython",
    "version": 3
   },
   "file_extension": ".py",
   "mimetype": "text/x-python",
   "name": "python",
   "nbconvert_exporter": "python",
   "pygments_lexer": "ipython3",
   "version": "3.8.10"
  },
  "orig_nbformat": 4,
  "vscode": {
   "interpreter": {
    "hash": "ea9ccb04e7308efcbefe4ed3ddff7336a57680ae622578d4fe4a2e3945390538"
   }
  }
 },
 "nbformat": 4,
 "nbformat_minor": 2
}
