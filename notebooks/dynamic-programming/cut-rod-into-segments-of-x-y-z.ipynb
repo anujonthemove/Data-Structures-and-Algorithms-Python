{
 "cells": [
  {
   "attachments": {},
   "cell_type": "markdown",
   "metadata": {},
   "source": [
    "# Cut Rod into Segments of X, Y, Z\n",
    "\n",
    "* If you carefully look at the problem statement, it is same as coin change problem and the same solution works"
   ]
  },
  {
   "attachments": {},
   "cell_type": "markdown",
   "metadata": {},
   "source": [
    "##### Recursion"
   ]
  },
  {
   "cell_type": "code",
   "execution_count": 12,
   "metadata": {},
   "outputs": [],
   "source": [
    "def cut_rod(n, x, y, z):\n",
    "    segments = [x, y, z]\n",
    "\n",
    "    def solve(n):\n",
    "\n",
    "        if n == 0:\n",
    "            return 0\n",
    "\n",
    "        if n < 0:\n",
    "            return float(\"-inf\")\n",
    "\n",
    "        maximum = float(\"-inf\")\n",
    "        for seg in segments:\n",
    "            ans = solve(n - seg)\n",
    "            if ans != float(\"-inf\"):\n",
    "                maximum = max(maximum, 1 + ans)\n",
    "        return maximum\n",
    "\n",
    "    ans = solve(n)\n",
    "    return ans"
   ]
  },
  {
   "cell_type": "code",
   "execution_count": 13,
   "metadata": {},
   "outputs": [
    {
     "data": {
      "text/plain": [
       "2"
      ]
     },
     "execution_count": 13,
     "metadata": {},
     "output_type": "execute_result"
    }
   ],
   "source": [
    "n = 7\n",
    "x = 5\n",
    "y = 2\n",
    "z = 2\n",
    "cut_rod(n, x, y, z)"
   ]
  },
  {
   "attachments": {},
   "cell_type": "markdown",
   "metadata": {},
   "source": [
    "##### Recursion + Memoization"
   ]
  },
  {
   "cell_type": "code",
   "execution_count": 19,
   "metadata": {},
   "outputs": [],
   "source": [
    "def cut_rod_memo(n, x, y, z):\n",
    "    segments = [x, y, z]\n",
    "\n",
    "    dp = [-1] * (n + 1)\n",
    "\n",
    "    def solve(n):\n",
    "        if n == 0:\n",
    "            return 0\n",
    "        if n < 0:\n",
    "            return float(\"-inf\")\n",
    "\n",
    "        if dp[n] != -1:\n",
    "            return dp[n]\n",
    "\n",
    "        maximum = float(\"-inf\")\n",
    "\n",
    "        for seg in segments:\n",
    "            ans = solve(n - seg)\n",
    "            if ans != float(\"-inf\"):\n",
    "                maximum = max(maximum, 1 + ans)\n",
    "\n",
    "        dp[n] = maximum\n",
    "        return dp[n]\n",
    "\n",
    "    ans = solve(n)\n",
    "\n",
    "    if ans == float(\"-inf\"):\n",
    "        return 0\n",
    "    else:\n",
    "        return ans"
   ]
  },
  {
   "cell_type": "code",
   "execution_count": 20,
   "metadata": {},
   "outputs": [
    {
     "data": {
      "text/plain": [
       "2"
      ]
     },
     "execution_count": 20,
     "metadata": {},
     "output_type": "execute_result"
    }
   ],
   "source": [
    "n = 7\n",
    "x = 5\n",
    "y = 2\n",
    "z = 2\n",
    "cut_rod_memo(n, x, y, z)"
   ]
  },
  {
   "cell_type": "code",
   "execution_count": 1,
   "metadata": {},
   "outputs": [],
   "source": [
    "def cut_rod_alt(n, x, y, z):\n",
    "    def solve(n):\n",
    "\n",
    "        # 1. base case\n",
    "        # we reach here when\n",
    "        # the rod is cut perfectly by\n",
    "        # selected set of segments\n",
    "        if n == 0:\n",
    "            return 0\n",
    "\n",
    "        # we reach here when the length of segment is more\n",
    "        # than the remining rod\n",
    "        if n < 0:\n",
    "            return float(\"-inf\")\n",
    "\n",
    "        a = solve(n - x) + 1\n",
    "        b = solve(n - y) + 1\n",
    "        c = solve(n - z) + 1\n",
    "\n",
    "        ans = max(a, max(b, c))\n",
    "        return ans\n",
    "\n",
    "    ans = solve(n)\n",
    "    return ans"
   ]
  },
  {
   "cell_type": "code",
   "execution_count": 2,
   "metadata": {},
   "outputs": [
    {
     "data": {
      "text/plain": [
       "2"
      ]
     },
     "execution_count": 2,
     "metadata": {},
     "output_type": "execute_result"
    }
   ],
   "source": [
    "n = 7\n",
    "x = 5\n",
    "y = 2\n",
    "z = 2\n",
    "cut_rod_alt(n, x, y, z)"
   ]
  },
  {
   "attachments": {},
   "cell_type": "markdown",
   "metadata": {},
   "source": [
    "##### Recursion + Memoization"
   ]
  },
  {
   "cell_type": "code",
   "execution_count": 5,
   "metadata": {},
   "outputs": [],
   "source": [
    "def cut_rod_alt_memo(n, x, y, z):\n",
    "\n",
    "    # when in confusion regarding the size of dp array\n",
    "    # always rememeber to identify what is the variable\n",
    "    # in the question, we will form the dp array of the size\n",
    "    # of that variable, in this case it is `n`\n",
    "\n",
    "    # step-1\n",
    "    dp = [-1] * (n + 1)\n",
    "\n",
    "    def solve(n):\n",
    "\n",
    "        if n == 0:\n",
    "            return 0\n",
    "\n",
    "        if n < 0:\n",
    "            return float(\"-inf\")\n",
    "\n",
    "        # step-3\n",
    "        if dp[n] != -1:\n",
    "            return dp[n]\n",
    "\n",
    "        a = solve(n - x) + 1\n",
    "        b = solve(n - y) + 1\n",
    "        c = solve(n - z) + 1\n",
    "\n",
    "        # step-2\n",
    "        dp[n] = max(a, max(b, c))\n",
    "\n",
    "        return dp[n]\n",
    "\n",
    "    ans = solve(n)\n",
    "    return ans"
   ]
  },
  {
   "cell_type": "code",
   "execution_count": 6,
   "metadata": {},
   "outputs": [
    {
     "data": {
      "text/plain": [
       "2"
      ]
     },
     "execution_count": 6,
     "metadata": {},
     "output_type": "execute_result"
    }
   ],
   "source": [
    "n = 7\n",
    "x = 5\n",
    "y = 2\n",
    "z = 2\n",
    "cut_rod_alt_memo(n, x, y, z)"
   ]
  }
 ],
 "metadata": {
  "kernelspec": {
   "display_name": ".venv",
   "language": "python",
   "name": "python3"
  },
  "language_info": {
   "codemirror_mode": {
    "name": "ipython",
    "version": 3
   },
   "file_extension": ".py",
   "mimetype": "text/x-python",
   "name": "python",
   "nbconvert_exporter": "python",
   "pygments_lexer": "ipython3",
   "version": "3.8.10"
  },
  "orig_nbformat": 4,
  "vscode": {
   "interpreter": {
    "hash": "ea9ccb04e7308efcbefe4ed3ddff7336a57680ae622578d4fe4a2e3945390538"
   }
  }
 },
 "nbformat": 4,
 "nbformat_minor": 2
}
