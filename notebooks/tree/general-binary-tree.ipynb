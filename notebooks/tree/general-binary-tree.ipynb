{
 "cells": [
  {
   "cell_type": "markdown",
   "id": "aefe0491",
   "metadata": {},
   "source": [
    "### General Binary Tree\n",
    "\n",
    "* creation of a tree using a list\n",
    "* https://stackoverflow.com/questions/44895195/creating-a-binary-tree-through-a-loop\n",
    "\n",
    "* values = [1,2,3,4,5,6,7]\n",
    "\n",
    "\n",
    "```\n",
    "   1 \n",
    " 2   3\n",
    "4 5 6 7\n",
    "\n",
    "```"
   ]
  },
  {
   "cell_type": "code",
   "execution_count": 3,
   "id": "61f8c363",
   "metadata": {},
   "outputs": [],
   "source": [
    "from utils.tree_traversal import TreeTraversal as tt"
   ]
  },
  {
   "cell_type": "code",
   "execution_count": 2,
   "id": "cc22a1ee",
   "metadata": {},
   "outputs": [],
   "source": [
    "class Node(object):\n",
    "    def __init__(self, data=None, left=None, right=None):\n",
    "        self.data = data\n",
    "        self.left = left\n",
    "        self.right = right\n",
    "\n",
    "\n",
    "def buildTree(i):\n",
    "    if i < len(values):\n",
    "        return Node(\n",
    "            values[i], left=buildTree((i + 1) * 2 - 1), right=buildTree((i + 1) * 2)\n",
    "        )\n",
    "\n",
    "\n",
    "values = [1, 2, 3, 4, 5, 6, 7]\n",
    "tree = buildTree(0)"
   ]
  },
  {
   "cell_type": "code",
   "execution_count": 4,
   "id": "0c2c5c8d",
   "metadata": {},
   "outputs": [
    {
     "name": "stdout",
     "output_type": "stream",
     "text": [
      "1\n",
      "2\n",
      "4\n",
      "5\n",
      "3\n",
      "6\n",
      "7\n"
     ]
    }
   ],
   "source": [
    "tt.traverse_preorder(tree)"
   ]
  },
  {
   "cell_type": "code",
   "execution_count": null,
   "id": "2bd98f24",
   "metadata": {},
   "outputs": [],
   "source": []
  }
 ],
 "metadata": {
  "kernelspec": {
   "display_name": "Python 3.8.10 ('.venv': pipenv)",
   "language": "python",
   "name": "python3"
  },
  "language_info": {
   "codemirror_mode": {
    "name": "ipython",
    "version": 3
   },
   "file_extension": ".py",
   "mimetype": "text/x-python",
   "name": "python",
   "nbconvert_exporter": "python",
   "pygments_lexer": "ipython3",
   "version": "3.8.10 (default, Nov 14 2022, 12:59:47) \n[GCC 9.4.0]"
  },
  "vscode": {
   "interpreter": {
    "hash": "ea9ccb04e7308efcbefe4ed3ddff7336a57680ae622578d4fe4a2e3945390538"
   }
  }
 },
 "nbformat": 4,
 "nbformat_minor": 5
}
