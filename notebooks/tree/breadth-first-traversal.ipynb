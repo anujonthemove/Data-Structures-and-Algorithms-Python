{
 "cells": [
  {
   "attachments": {},
   "cell_type": "markdown",
   "metadata": {},
   "source": [
    "# Breadth First or Level Order Traversal"
   ]
  },
  {
   "attachments": {},
   "cell_type": "markdown",
   "metadata": {},
   "source": [
    "#### Helper functions\n",
    "\n",
    "* Print elements at each level\n",
    "* Get height of a tree"
   ]
  },
  {
   "cell_type": "code",
   "execution_count": 8,
   "metadata": {},
   "outputs": [],
   "source": [
    "def print_elements_at_level(root, level):\n",
    "    if root is None:\n",
    "        return\n",
    "    if level == 1:\n",
    "        print(root.data)\n",
    "    else:\n",
    "        print_elements_at_level(root.left, level - 1)\n",
    "        print_elements_at_level(root.right, level - 1)"
   ]
  },
  {
   "cell_type": "code",
   "execution_count": 9,
   "metadata": {},
   "outputs": [],
   "source": [
    "def get_height(root):\n",
    "\n",
    "    # if tree is empty\n",
    "    # or you have reached a leaf node\n",
    "    if root is None:\n",
    "        return 0\n",
    "\n",
    "    # since there is no way to know in advance\n",
    "    # which sub tree is going be deeper\n",
    "    # so we calculate the height of both\n",
    "    left_height = get_height(root.left)\n",
    "    right_height = get_height(root.right)\n",
    "\n",
    "    # now whichever subtree has more height\n",
    "    # we return that\n",
    "    # + 1 is done so as to increment the count from 0\n",
    "    # because at the end when we reach the leaf node\n",
    "    # we return 0\n",
    "    if left_height > right_height:\n",
    "        return left_height + 1\n",
    "    else:\n",
    "        return right_height + 1"
   ]
  },
  {
   "attachments": {},
   "cell_type": "markdown",
   "metadata": {},
   "source": [
    "#### Tree Traversal Class"
   ]
  },
  {
   "cell_type": "code",
   "execution_count": 10,
   "metadata": {},
   "outputs": [],
   "source": [
    "class TreeTraversal:\n",
    "    @staticmethod\n",
    "    def print_level_order_traversal_recursive(root):\n",
    "        height = get_height(root)\n",
    "        for i in range(1, height + 1):\n",
    "            print_elements_at_level(root, i)\n",
    "\n",
    "    @staticmethod\n",
    "    def level_order_traversal_iterative(root):\n",
    "\n",
    "        if root is None:\n",
    "            print(\"Cannot traverse an empty tree\")\n",
    "            return\n",
    "\n",
    "        bfs_elements = []\n",
    "        queue = []\n",
    "\n",
    "        # insert first element or root into the queue\n",
    "        queue.append(root)\n",
    "\n",
    "        while len(queue) > 0:\n",
    "\n",
    "            # pop the element from the front of the queue\n",
    "            node = queue.pop(0)\n",
    "            bfs_elements.append(node.data)\n",
    "\n",
    "            if node.left is not None:\n",
    "                queue.append(node.left)\n",
    "\n",
    "            if node.right is not None:\n",
    "                queue.append(node.right)\n",
    "        return bfs_elements"
   ]
  },
  {
   "attachments": {},
   "cell_type": "markdown",
   "metadata": {},
   "source": [
    "#### Construct a Tree"
   ]
  },
  {
   "cell_type": "code",
   "execution_count": 11,
   "metadata": {},
   "outputs": [],
   "source": [
    "from utils.nodes import BinaryTreeNode as Node"
   ]
  },
  {
   "cell_type": "code",
   "execution_count": 12,
   "metadata": {},
   "outputs": [],
   "source": [
    "# Inherited base BinaryTreeNode class\n",
    "# just for clarity but not required\n",
    "class BinaryTree(Node):\n",
    "    pass"
   ]
  },
  {
   "cell_type": "code",
   "execution_count": 13,
   "metadata": {},
   "outputs": [],
   "source": [
    "root = BinaryTree(1)\n",
    "root.left = Node(2)\n",
    "root.left.left = Node(3)\n",
    "root.left.right = Node(4)\n",
    "root.left.right.left = Node(5)\n",
    "\n",
    "root.right = Node(6)\n",
    "root.right.left = Node(7)\n",
    "root.right.right = Node(8)"
   ]
  },
  {
   "attachments": {},
   "cell_type": "markdown",
   "metadata": {},
   "source": [
    "#### Level Order Traversal"
   ]
  },
  {
   "cell_type": "code",
   "execution_count": 14,
   "metadata": {},
   "outputs": [
    {
     "data": {
      "text/plain": [
       "[1, 2, 6, 3, 4, 7, 8, 5]"
      ]
     },
     "execution_count": 14,
     "metadata": {},
     "output_type": "execute_result"
    }
   ],
   "source": [
    "TreeTraversal.level_order_traversal_iterative(root)"
   ]
  }
 ],
 "metadata": {
  "kernelspec": {
   "display_name": ".venv",
   "language": "python",
   "name": "python3"
  },
  "language_info": {
   "codemirror_mode": {
    "name": "ipython",
    "version": 3
   },
   "file_extension": ".py",
   "mimetype": "text/x-python",
   "name": "python",
   "nbconvert_exporter": "python",
   "pygments_lexer": "ipython3",
   "version": "3.8.10"
  },
  "orig_nbformat": 4,
  "vscode": {
   "interpreter": {
    "hash": "ea9ccb04e7308efcbefe4ed3ddff7336a57680ae622578d4fe4a2e3945390538"
   }
  }
 },
 "nbformat": 4,
 "nbformat_minor": 2
}
