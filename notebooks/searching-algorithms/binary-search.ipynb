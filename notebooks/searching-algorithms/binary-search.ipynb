{
 "cells": [
  {
   "cell_type": "markdown",
   "id": "7702da60",
   "metadata": {},
   "source": [
    "## Binary Search"
   ]
  },
  {
   "cell_type": "code",
   "execution_count": 1,
   "id": "b3e76601",
   "metadata": {},
   "outputs": [],
   "source": [
    "arr = [1, 5, 8, 9, 11, 13, 15, 19, 21]\n",
    "arr = [1, 7,5, 9, 2,12,3]\n",
    "target = 14"
   ]
  },
  {
   "cell_type": "code",
   "execution_count": 2,
   "id": "efbfdd34",
   "metadata": {},
   "outputs": [],
   "source": [
    "def binary_search(arr, target):\n",
    "    mid = len(arr)//2\n",
    "    \n",
    "    # base case\n",
    "    if arr[mid] == target:\n",
    "        print(\"target: {} ==> Found\".format(target))\n",
    "        return True\n",
    "    elif len(arr) <= 1:\n",
    "        print(\"target: {} ==> Not Found\".format(target))\n",
    "        return False\n",
    "    if target < arr[mid]:\n",
    "        binary_search(arr[:mid], target)\n",
    "    elif target > arr[mid]:\n",
    "        binary_search(arr[mid:], target)\n",
    "        "
   ]
  },
  {
   "cell_type": "code",
   "execution_count": 3,
   "id": "9d465d12",
   "metadata": {},
   "outputs": [
    {
     "name": "stdout",
     "output_type": "stream",
     "text": [
      "target: 0 ==> Not Found\n",
      "target: 1 ==> Found\n",
      "target: 2 ==> Not Found\n",
      "target: 3 ==> Not Found\n",
      "target: 4 ==> Not Found\n",
      "target: 5 ==> Found\n",
      "target: 6 ==> Not Found\n",
      "target: 7 ==> Not Found\n",
      "target: 8 ==> Found\n",
      "target: 9 ==> Found\n",
      "target: 10 ==> Not Found\n",
      "target: 11 ==> Found\n",
      "target: 12 ==> Not Found\n",
      "target: 13 ==> Found\n",
      "target: 14 ==> Not Found\n",
      "target: 15 ==> Found\n",
      "target: 16 ==> Not Found\n",
      "target: 17 ==> Not Found\n",
      "target: 18 ==> Not Found\n",
      "target: 19 ==> Found\n",
      "target: 20 ==> Not Found\n",
      "target: 21 ==> Found\n",
      "target: 22 ==> Not Found\n",
      "target: 23 ==> Not Found\n",
      "target: 24 ==> Not Found\n"
     ]
    }
   ],
   "source": [
    "for i in range(0, 25):\n",
    "    binary_search(arr, i)"
   ]
  },
  {
   "cell_type": "code",
   "execution_count": 4,
   "id": "b41f0f72",
   "metadata": {},
   "outputs": [],
   "source": []
  },
  {
   "cell_type": "code",
   "execution_count": 5,
   "id": "03a98972",
   "metadata": {},
   "outputs": [],
   "source": [
    "def binary_search_idx(arr, target, low, high):\n",
    "    \n",
    "    if low > high:\n",
    "        return -1\n",
    "    \n",
    "    mid = (low+high)//2\n",
    "    \n",
    "    if target == arr[mid]:\n",
    "        return mid\n",
    "    \n",
    "    if target < arr[mid]:\n",
    "        binary_search_idx(arr, target, low, mid-1)\n",
    "    elif target > arr[mid]:\n",
    "        binary_search_idx(arr, target, mid+1, high)\n",
    "    "
   ]
  },
  {
   "cell_type": "code",
   "execution_count": 6,
   "id": "ced122a9",
   "metadata": {},
   "outputs": [
    {
     "name": "stdout",
     "output_type": "stream",
     "text": [
      "None\n",
      "None\n",
      "None\n",
      "3\n",
      "None\n",
      "None\n",
      "None\n"
     ]
    }
   ],
   "source": [
    "for i in arr:\n",
    "    print(binary_search_idx(arr, i, 0, len(arr)-1))"
   ]
  },
  {
   "cell_type": "code",
   "execution_count": 7,
   "id": "271b978b",
   "metadata": {},
   "outputs": [],
   "source": [
    "def binary_search_recursive(array, element, start, end):\n",
    "    if start > end:\n",
    "        return -1\n",
    "\n",
    "    mid = (start + end) // 2\n",
    "    if element == array[mid]:\n",
    "        return mid\n",
    "\n",
    "    if element < array[mid]:\n",
    "        return binary_search_recursive(array, element, start, mid-1)\n",
    "    else:\n",
    "        return binary_search_recursive(array, element, mid+1, end)"
   ]
  },
  {
   "cell_type": "code",
   "execution_count": 8,
   "id": "19ddae95",
   "metadata": {},
   "outputs": [
    {
     "name": "stdout",
     "output_type": "stream",
     "text": [
      "0\n",
      "1\n",
      "-1\n",
      "3\n",
      "-1\n",
      "5\n",
      "-1\n"
     ]
    }
   ],
   "source": [
    "for i in arr:\n",
    "    print(binary_search_recursive(arr, i, 0, len(arr)-1))"
   ]
  },
  {
   "cell_type": "code",
   "execution_count": null,
   "id": "3104fd47",
   "metadata": {},
   "outputs": [],
   "source": []
  }
 ],
 "metadata": {
  "kernelspec": {
   "display_name": "Python 3 (ipykernel)",
   "language": "python",
   "name": "python3"
  },
  "language_info": {
   "codemirror_mode": {
    "name": "ipython",
    "version": 3
   },
   "file_extension": ".py",
   "mimetype": "text/x-python",
   "name": "python",
   "nbconvert_exporter": "python",
   "pygments_lexer": "ipython3",
   "version": "3.8.10"
  }
 },
 "nbformat": 4,
 "nbformat_minor": 5
}
