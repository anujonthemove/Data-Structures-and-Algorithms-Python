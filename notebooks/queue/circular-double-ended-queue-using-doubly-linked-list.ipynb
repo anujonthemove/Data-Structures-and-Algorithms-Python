{
 "cells": [
  {
   "cell_type": "markdown",
   "id": "84d9e7ba",
   "metadata": {},
   "source": [
    "## Circular Double ended Queue using Doubly Linked List"
   ]
  },
  {
   "cell_type": "code",
   "execution_count": 1,
   "id": "417f4ecb",
   "metadata": {},
   "outputs": [],
   "source": [
    "class Node:\n",
    "    def __init__(self, data):\n",
    "        self.data = data\n",
    "        self.prev = None\n",
    "        self.next = None\n",
    "    \n",
    "    def __repr__(self):\n",
    "        return \"<Node: %s>\" % self.data"
   ]
  },
  {
   "cell_type": "code",
   "execution_count": 2,
   "id": "f1380a9b",
   "metadata": {},
   "outputs": [
    {
     "data": {
      "text/plain": [
       "<Node: 10>"
      ]
     },
     "execution_count": 2,
     "metadata": {},
     "output_type": "execute_result"
    }
   ],
   "source": [
    "Node(10)"
   ]
  },
  {
   "cell_type": "code",
   "execution_count": 3,
   "id": "db12e0c5",
   "metadata": {},
   "outputs": [],
   "source": [
    "class CircularDequeue:\n",
    "\n",
    "    def __init__(self, k: int):\n",
    "        self.capacity = k\n",
    "        self.front = None\n",
    "        self.rear = None\n",
    "        self.count = 0\n",
    "    \n",
    "    def __repr__(self):\n",
    "        nodes = []\n",
    "        ptr = self.front\n",
    "        cycle = 0\n",
    "        first = True\n",
    "        \n",
    "        while ptr:\n",
    "            if ptr == self.front:\n",
    "                if cycle >= 1:\n",
    "                    break\n",
    "                if first:\n",
    "                    cycle += 1\n",
    "                first = False\n",
    "                nodes.append(\"[Front: %s]\" % ptr.data)\n",
    "            elif ptr == self.rear:\n",
    "                nodes.append(\"[Rear: %s]\" % ptr.data)\n",
    "            else:\n",
    "                nodes.append(\"[%s]\" % ptr.data)\n",
    "            ptr = ptr.next\n",
    "            \n",
    "        return \"<-\".join(nodes)\n",
    "    \n",
    "    def insertFront(self, value: int) -> bool:\n",
    "        if self.isFull():\n",
    "            return False\n",
    "        \n",
    "        node = Node(value)\n",
    "        \n",
    "        if self.front == self.rear == None:\n",
    "            self.front = self.rear = node\n",
    "            node.prev = node\n",
    "            node.next = node\n",
    "            \n",
    "        else:\n",
    "            node.prev = self.rear\n",
    "            node.next = self.front\n",
    "            self.front.prev = node\n",
    "            self.rear.next = node\n",
    "            self.front = node\n",
    "            \n",
    "        self.count += 1\n",
    "    \n",
    "        return True\n",
    "    \n",
    "    def insertLast(self, value: int) -> bool:\n",
    "        if self.isFull():\n",
    "            return False\n",
    "        \n",
    "        node = Node(value)\n",
    "        \n",
    "        if self.front == self.rear == None:\n",
    "            self.front = self.rear = node\n",
    "            node.next = node\n",
    "            node.prev = node\n",
    "        else:\n",
    "            node.prev = self.rear\n",
    "            node.next = self.front\n",
    "            self.rear.next = node\n",
    "            self.front.prev = node\n",
    "            self.rear = node\n",
    "        \n",
    "        self.count += 1\n",
    "        \n",
    "        return True\n",
    "        \n",
    "    def deleteFront(self) -> bool:\n",
    "        if self.isEmpty():\n",
    "            return False\n",
    "        \n",
    "        temp = self.front\n",
    "        data = self.front.data\n",
    "        \n",
    "        if self.front == self.rear:\n",
    "            self.front = self.rear = None\n",
    "        else:\n",
    "            self.front = self.front.next\n",
    "            self.front.prev = self.rear\n",
    "            self.rear.next = self.front\n",
    "        \n",
    "        self.count -= 1\n",
    "        del temp\n",
    "        return True\n",
    "        \n",
    "\n",
    "    def deleteLast(self) -> bool:\n",
    "        if self.isEmpty():\n",
    "            return False\n",
    "        \n",
    "        temp = self.rear\n",
    "        data = self.rear.data\n",
    "        \n",
    "        if self.front == self.rear:\n",
    "            self.front = self.rear = None\n",
    "        else:\n",
    "            self.rear = self.rear.prev\n",
    "            self.rear.next = self.front\n",
    "            self.front.prev = self.rear\n",
    "        \n",
    "        self.count -= 1\n",
    "        del temp\n",
    "        return True\n",
    "    \n",
    "    def getFront(self) -> int:\n",
    "        if self.isEmpty():\n",
    "            return -1\n",
    "        return self.front.data\n",
    "\n",
    "    def getRear(self) -> int:\n",
    "        if self.isEmpty():\n",
    "            return -1\n",
    "        return self.rear.data\n",
    "\n",
    "    def isEmpty(self) -> bool:\n",
    "        return self.count == 0\n",
    "\n",
    "    def isFull(self) -> bool:\n",
    "        return self.count == self.capacity"
   ]
  },
  {
   "cell_type": "code",
   "execution_count": 4,
   "id": "170cd9ae",
   "metadata": {},
   "outputs": [
    {
     "name": "stdout",
     "output_type": "stream",
     "text": [
      "True\n",
      "True\n",
      "True\n",
      "True\n",
      "False\n",
      "False\n",
      "False\n",
      "False\n",
      "False\n",
      "False\n"
     ]
    }
   ],
   "source": [
    "queue = CircularDequeue(4)\n",
    "\n",
    "for i in range(10):\n",
    "    print(queue.insertFront(i))"
   ]
  },
  {
   "cell_type": "code",
   "execution_count": 5,
   "id": "2d396254",
   "metadata": {},
   "outputs": [
    {
     "data": {
      "text/plain": [
       "[Front: 3]<-[2]<-[1]<-[Rear: 0]"
      ]
     },
     "execution_count": 5,
     "metadata": {},
     "output_type": "execute_result"
    }
   ],
   "source": [
    "queue"
   ]
  },
  {
   "cell_type": "code",
   "execution_count": 6,
   "id": "72528ac6",
   "metadata": {},
   "outputs": [
    {
     "name": "stdout",
     "output_type": "stream",
     "text": [
      "True\n",
      "True\n",
      "True\n",
      "True\n",
      "False\n",
      "False\n",
      "False\n",
      "False\n",
      "False\n",
      "False\n"
     ]
    }
   ],
   "source": [
    "for _ in range(10):\n",
    "    print(queue.deleteLast())"
   ]
  },
  {
   "cell_type": "code",
   "execution_count": 7,
   "id": "daf3baa8",
   "metadata": {},
   "outputs": [
    {
     "name": "stdout",
     "output_type": "stream",
     "text": [
      "True\n",
      "True\n",
      "True\n",
      "True\n",
      "False\n",
      "False\n",
      "False\n",
      "False\n",
      "False\n",
      "False\n"
     ]
    }
   ],
   "source": [
    "queue = CircularDequeue(4)\n",
    "\n",
    "for i in range(10):\n",
    "    print(queue.insertLast(i))"
   ]
  },
  {
   "cell_type": "code",
   "execution_count": 8,
   "id": "b7a28d8d",
   "metadata": {},
   "outputs": [
    {
     "data": {
      "text/plain": [
       "[Front: 0]<-[1]<-[2]<-[Rear: 3]"
      ]
     },
     "execution_count": 8,
     "metadata": {},
     "output_type": "execute_result"
    }
   ],
   "source": [
    "queue"
   ]
  },
  {
   "cell_type": "code",
   "execution_count": 9,
   "id": "a22fa8b7",
   "metadata": {},
   "outputs": [
    {
     "name": "stdout",
     "output_type": "stream",
     "text": [
      "True\n",
      "True\n",
      "True\n",
      "True\n",
      "False\n",
      "False\n",
      "False\n",
      "False\n",
      "False\n",
      "False\n"
     ]
    }
   ],
   "source": [
    "for _ in range(10):\n",
    "    print(queue.deleteFront())"
   ]
  },
  {
   "cell_type": "code",
   "execution_count": 10,
   "id": "de6c77aa",
   "metadata": {},
   "outputs": [
    {
     "data": {
      "text/plain": []
     },
     "execution_count": 10,
     "metadata": {},
     "output_type": "execute_result"
    }
   ],
   "source": [
    "queue"
   ]
  },
  {
   "cell_type": "code",
   "execution_count": 11,
   "id": "fc7521d3",
   "metadata": {},
   "outputs": [
    {
     "name": "stdout",
     "output_type": "stream",
     "text": [
      "True\n",
      "True\n",
      "True\n",
      "False\n",
      "2\n",
      "True\n",
      "True\n",
      "True\n",
      "4\n"
     ]
    }
   ],
   "source": [
    "myCircularDeque = CircularDequeue(3);\n",
    "\n",
    "print(myCircularDeque.insertLast(1)) # return True\n",
    "\n",
    "print(myCircularDeque.insertLast(2)) # return True\n",
    "\n",
    "print(myCircularDeque.insertFront(3)) # return True\n",
    "\n",
    "print(myCircularDeque.insertFront(4)) # return False, the queue is full.\n",
    "\n",
    "print(myCircularDeque.getRear())     # return 2\n",
    "\n",
    "print(myCircularDeque.isFull())     # return True\n",
    "\n",
    "print(myCircularDeque.deleteLast())   # return True\n",
    "\n",
    "print(myCircularDeque.insertFront(4)) # return True\n",
    "\n",
    "print(myCircularDeque.getFront())     # return 4"
   ]
  },
  {
   "cell_type": "code",
   "execution_count": 12,
   "id": "1f5962d8",
   "metadata": {},
   "outputs": [
    {
     "data": {
      "text/plain": [
       "[Front: 4]<-[3]<-[Rear: 1]"
      ]
     },
     "execution_count": 12,
     "metadata": {},
     "output_type": "execute_result"
    }
   ],
   "source": [
    "myCircularDeque"
   ]
  },
  {
   "cell_type": "code",
   "execution_count": 13,
   "id": "9fd031c9",
   "metadata": {},
   "outputs": [
    {
     "name": "stdout",
     "output_type": "stream",
     "text": [
      "True\n",
      "True\n",
      "True\n",
      "False\n"
     ]
    }
   ],
   "source": [
    "queue = CircularDequeue(3)\n",
    "print(queue.insertLast(1))\n",
    "print(queue.insertLast(2))\n",
    "print(queue.insertFront(3))\n",
    "print(queue.insertFront(4))"
   ]
  },
  {
   "cell_type": "code",
   "execution_count": null,
   "id": "04fd9efb",
   "metadata": {},
   "outputs": [],
   "source": []
  }
 ],
 "metadata": {
  "kernelspec": {
   "display_name": "Python 3 (ipykernel)",
   "language": "python",
   "name": "python3"
  },
  "language_info": {
   "codemirror_mode": {
    "name": "ipython",
    "version": 3
   },
   "file_extension": ".py",
   "mimetype": "text/x-python",
   "name": "python",
   "nbconvert_exporter": "python",
   "pygments_lexer": "ipython3",
   "version": "3.8.10"
  }
 },
 "nbformat": 4,
 "nbformat_minor": 5
}
