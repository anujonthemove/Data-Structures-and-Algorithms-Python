{
 "cells": [
  {
   "cell_type": "code",
   "execution_count": 1,
   "id": "dfe0471b",
   "metadata": {},
   "outputs": [],
   "source": [
    "class Node:\n",
    "    def __init__(self, data):\n",
    "        self.data = data\n",
    "        self.next = None\n",
    "\n",
    "    def __repr__(self):\n",
    "        return \"<Node: %s>\" % s"
   ]
  },
  {
   "cell_type": "code",
   "execution_count": 2,
   "id": "67753f45",
   "metadata": {},
   "outputs": [],
   "source": [
    "class Queue:\n",
    "    def __init__(self, max_size):\n",
    "        self.front = None\n",
    "        self.rear = None\n",
    "        self.count = 0\n",
    "        self.capacity = max_size\n",
    "\n",
    "    def __iter__(self):\n",
    "        ptr = self.front\n",
    "        while ptr is not None:\n",
    "            yield ptr.data\n",
    "            ptr = ptr.next\n",
    "\n",
    "    def __repr__(self):\n",
    "        temp = self.front\n",
    "        nodes = []\n",
    "        while temp:\n",
    "            if temp == self.front:\n",
    "                nodes.append(\"[Front: %s]\" % temp.data)\n",
    "            elif temp == self.rear:\n",
    "                nodes.append(\"[Rear: %s]\" % temp.data)\n",
    "            else:\n",
    "                nodes.append(\"[%s]\" % temp.data)\n",
    "            temp = temp.next\n",
    "        return \"<-\".join(nodes)\n",
    "\n",
    "    def __len__(self):\n",
    "        return self.count\n",
    "\n",
    "    def peek(self):\n",
    "        if self.front is not None:\n",
    "            return self.front.data\n",
    "\n",
    "    def enqueue(self, data):\n",
    "        if self.count == self.capacity:\n",
    "            print(\"queue is full, dequeue all elements first\")\n",
    "            return\n",
    "\n",
    "        node = Node(data)\n",
    "        if self.front == self.rear == None:\n",
    "            print(\"inserting first element in queue\")\n",
    "            self.front = self.rear = node\n",
    "        else:\n",
    "            print(f\"Inserting: {data} in the queue\")\n",
    "            self.rear.next = node\n",
    "            self.rear = self.rear.next\n",
    "        self.count += 1\n",
    "\n",
    "    def dequeue(self):\n",
    "        if self.count == 0:\n",
    "            print(\"Queue is empty\")\n",
    "            self.front = self.rear = None\n",
    "        elif self.front is not None:\n",
    "            data = self.front.data\n",
    "            print(f\"Removing: {data} from the queue\")\n",
    "            temp = self.front\n",
    "            self.front = self.front.next\n",
    "            del temp\n",
    "            self.count -= 1"
   ]
  },
  {
   "cell_type": "code",
   "execution_count": 3,
   "id": "1b0e1b63",
   "metadata": {},
   "outputs": [],
   "source": [
    "queue = Queue(5)"
   ]
  },
  {
   "cell_type": "code",
   "execution_count": 4,
   "id": "05d44bfa",
   "metadata": {},
   "outputs": [
    {
     "data": {
      "text/plain": []
     },
     "execution_count": 4,
     "metadata": {},
     "output_type": "execute_result"
    }
   ],
   "source": [
    "queue"
   ]
  },
  {
   "cell_type": "code",
   "execution_count": 5,
   "id": "c4b768d2",
   "metadata": {},
   "outputs": [
    {
     "name": "stdout",
     "output_type": "stream",
     "text": [
      "inserting first element in queue\n",
      "Inserting: 1 in the queue\n",
      "Inserting: 2 in the queue\n",
      "Inserting: 3 in the queue\n",
      "Inserting: 4 in the queue\n",
      "queue is full, dequeue all elements first\n",
      "queue is full, dequeue all elements first\n",
      "queue is full, dequeue all elements first\n",
      "queue is full, dequeue all elements first\n",
      "queue is full, dequeue all elements first\n"
     ]
    }
   ],
   "source": [
    "for i in range(10):\n",
    "    queue.enqueue(i)"
   ]
  },
  {
   "cell_type": "code",
   "execution_count": 6,
   "id": "88607f6f",
   "metadata": {},
   "outputs": [
    {
     "name": "stdout",
     "output_type": "stream",
     "text": [
      "0\n",
      "1\n",
      "2\n",
      "3\n",
      "4\n"
     ]
    }
   ],
   "source": [
    "for i in queue:\n",
    "    print(i)"
   ]
  },
  {
   "cell_type": "code",
   "execution_count": 7,
   "id": "00f92c88",
   "metadata": {},
   "outputs": [
    {
     "data": {
      "text/plain": [
       "[Front: 0]<-[1]<-[2]<-[3]<-[Rear: 4]"
      ]
     },
     "execution_count": 7,
     "metadata": {},
     "output_type": "execute_result"
    }
   ],
   "source": [
    "queue"
   ]
  },
  {
   "cell_type": "code",
   "execution_count": 8,
   "id": "7ec53b14",
   "metadata": {},
   "outputs": [
    {
     "name": "stdout",
     "output_type": "stream",
     "text": [
      "Removing: 0 from the queue\n"
     ]
    }
   ],
   "source": [
    "queue.dequeue()"
   ]
  },
  {
   "cell_type": "code",
   "execution_count": 9,
   "id": "3b623b7c",
   "metadata": {},
   "outputs": [
    {
     "data": {
      "text/plain": [
       "[Front: 1]<-[2]<-[3]<-[Rear: 4]"
      ]
     },
     "execution_count": 9,
     "metadata": {},
     "output_type": "execute_result"
    }
   ],
   "source": [
    "queue"
   ]
  },
  {
   "cell_type": "code",
   "execution_count": 10,
   "id": "546c3b59",
   "metadata": {},
   "outputs": [
    {
     "name": "stdout",
     "output_type": "stream",
     "text": [
      "Removing: 1 from the queue\n",
      "Removing: 2 from the queue\n",
      "Removing: 3 from the queue\n",
      "Removing: 4 from the queue\n",
      "Queue is empty\n",
      "Queue is empty\n",
      "Queue is empty\n",
      "Queue is empty\n",
      "Queue is empty\n",
      "Queue is empty\n"
     ]
    }
   ],
   "source": [
    "for _ in range(10):\n",
    "    queue.dequeue()"
   ]
  },
  {
   "cell_type": "code",
   "execution_count": 11,
   "id": "b8f334e7",
   "metadata": {},
   "outputs": [
    {
     "data": {
      "text/plain": []
     },
     "execution_count": 11,
     "metadata": {},
     "output_type": "execute_result"
    }
   ],
   "source": [
    "queue"
   ]
  },
  {
   "cell_type": "code",
   "execution_count": 12,
   "id": "7d638fa0",
   "metadata": {},
   "outputs": [
    {
     "name": "stdout",
     "output_type": "stream",
     "text": [
      "inserting first element in queue\n",
      "Inserting: 1 in the queue\n",
      "Inserting: 2 in the queue\n",
      "Inserting: 3 in the queue\n",
      "Inserting: 4 in the queue\n",
      "queue is full, dequeue all elements first\n",
      "queue is full, dequeue all elements first\n",
      "queue is full, dequeue all elements first\n",
      "queue is full, dequeue all elements first\n",
      "queue is full, dequeue all elements first\n"
     ]
    }
   ],
   "source": [
    "for i in range(10):\n",
    "    queue.enqueue(i)"
   ]
  },
  {
   "cell_type": "code",
   "execution_count": 13,
   "id": "6d09a75d",
   "metadata": {},
   "outputs": [
    {
     "data": {
      "text/plain": [
       "[Front: 0]<-[1]<-[2]<-[3]<-[Rear: 4]"
      ]
     },
     "execution_count": 13,
     "metadata": {},
     "output_type": "execute_result"
    }
   ],
   "source": [
    "queue"
   ]
  },
  {
   "cell_type": "code",
   "execution_count": 14,
   "id": "aa89b671",
   "metadata": {},
   "outputs": [
    {
     "data": {
      "text/plain": [
       "5"
      ]
     },
     "execution_count": 14,
     "metadata": {},
     "output_type": "execute_result"
    }
   ],
   "source": [
    "len(queue)"
   ]
  },
  {
   "cell_type": "code",
   "execution_count": 15,
   "id": "206d501b",
   "metadata": {},
   "outputs": [
    {
     "data": {
      "text/plain": [
       "0"
      ]
     },
     "execution_count": 15,
     "metadata": {},
     "output_type": "execute_result"
    }
   ],
   "source": [
    "queue.peek()"
   ]
  },
  {
   "cell_type": "code",
   "execution_count": 16,
   "id": "0eb3ecff",
   "metadata": {},
   "outputs": [
    {
     "name": "stdout",
     "output_type": "stream",
     "text": [
      "Removing: 0 from the queue\n"
     ]
    }
   ],
   "source": [
    "queue.dequeue()"
   ]
  },
  {
   "cell_type": "code",
   "execution_count": 17,
   "id": "6df36819",
   "metadata": {},
   "outputs": [
    {
     "data": {
      "text/plain": [
       "1"
      ]
     },
     "execution_count": 17,
     "metadata": {},
     "output_type": "execute_result"
    }
   ],
   "source": [
    "queue.peek()"
   ]
  },
  {
   "cell_type": "code",
   "execution_count": null,
   "id": "ae88b1fb",
   "metadata": {},
   "outputs": [],
   "source": []
  }
 ],
 "metadata": {
  "kernelspec": {
   "display_name": ".venv",
   "language": "python",
   "name": "python3"
  },
  "language_info": {
   "codemirror_mode": {
    "name": "ipython",
    "version": 3
   },
   "file_extension": ".py",
   "mimetype": "text/x-python",
   "name": "python",
   "nbconvert_exporter": "python",
   "pygments_lexer": "ipython3",
   "version": "3.8.10"
  },
  "vscode": {
   "interpreter": {
    "hash": "ea9ccb04e7308efcbefe4ed3ddff7336a57680ae622578d4fe4a2e3945390538"
   }
  }
 },
 "nbformat": 4,
 "nbformat_minor": 5
}
