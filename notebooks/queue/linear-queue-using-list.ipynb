{
 "cells": [
  {
   "cell_type": "code",
   "execution_count": 1,
   "id": "2e121d49",
   "metadata": {},
   "outputs": [],
   "source": [
    "class Queue:\n",
    "    def __init__(self, max_size):\n",
    "        self.front = -1\n",
    "        self.rear = -1\n",
    "        self.capacity = max_size\n",
    "        self.items = [None] * max_size\n",
    "        self.count = 0\n",
    "\n",
    "    def __len__(self):\n",
    "        return self.count\n",
    "\n",
    "    def __repr__(self):\n",
    "        item_list = []\n",
    "\n",
    "        for idx in range(self.count):\n",
    "            if idx == 0:\n",
    "                if self.front == self.rear:\n",
    "                    item_list.append(\"[Front: %s :Rear]\" % self.items[idx])\n",
    "                else:\n",
    "                    item_list.append(\"[Front: %s]\" % self.items[idx])\n",
    "            elif idx == self.count - 1:\n",
    "                item_list.append(\"[%s: Rear]\" % self.items[idx])\n",
    "            else:\n",
    "                item_list.append(\"[%s]\" % self.items[idx])\n",
    "        return \"<-\".join(item_list)\n",
    "\n",
    "    def __iter__(self):\n",
    "        for i in range(self.count):\n",
    "            yield self.items[i]\n",
    "\n",
    "    def is_empty(self):\n",
    "        pass\n",
    "\n",
    "    def peek(self):\n",
    "        if self.front != -1:\n",
    "            return self.items[self.front]\n",
    "\n",
    "    def enqueue(self, data):\n",
    "        if self.rear >= self.capacity:\n",
    "            print(\"Queue is full, dequeue all the elements to re-use the queue\")\n",
    "            return\n",
    "\n",
    "        if self.rear == self.front == -1:\n",
    "            print(\" == Inserting first element == \")\n",
    "            print(f\"Inserting: {data} into the queue\")\n",
    "            self.front = self.rear = 0\n",
    "            self.items[self.rear] = data\n",
    "        else:\n",
    "            print(f\"Inserting: {data} into the queue\")\n",
    "            self.items[self.rear] = data\n",
    "\n",
    "        self.rear += 1\n",
    "        self.count += 1\n",
    "\n",
    "    def dequeue(self):\n",
    "        if self.front == self.rear:\n",
    "            if self.front == -1:\n",
    "                print(\"queue is empty, nothing to dequeue\")\n",
    "            elif self.front == self.capacity:\n",
    "                print(\"reached end of queue\")\n",
    "                self.front = self.rear = -1\n",
    "            else:\n",
    "                data = self.items[self.front]\n",
    "                print(f\"Removing: {data} from the queue\")\n",
    "                self.front = self.rear = -1\n",
    "                self.count -= 1\n",
    "        else:\n",
    "            data = self.items[self.front]\n",
    "            print(f\"Removing: {data} from the queue\")\n",
    "            self.front += 1\n",
    "            self.count -= 1"
   ]
  },
  {
   "cell_type": "code",
   "execution_count": 2,
   "id": "74c7a3ff",
   "metadata": {},
   "outputs": [],
   "source": [
    "queue = Queue(5)"
   ]
  },
  {
   "cell_type": "code",
   "execution_count": 3,
   "id": "f7ffa0f0",
   "metadata": {},
   "outputs": [
    {
     "name": "stdout",
     "output_type": "stream",
     "text": [
      " == Inserting first element == \n",
      "Inserting: 1 into the queue\n",
      "Inserting: 2 into the queue\n",
      "Inserting: 3 into the queue\n",
      "Inserting: 4 into the queue\n",
      "Inserting: 5 into the queue\n",
      "Queue is full, dequeue all the elements to re-use the queue\n",
      "Queue is full, dequeue all the elements to re-use the queue\n",
      "Queue is full, dequeue all the elements to re-use the queue\n",
      "Queue is full, dequeue all the elements to re-use the queue\n"
     ]
    }
   ],
   "source": [
    "for i in range(1, 10):\n",
    "    queue.enqueue(i)"
   ]
  },
  {
   "cell_type": "code",
   "execution_count": 4,
   "id": "9aee092a",
   "metadata": {},
   "outputs": [
    {
     "data": {
      "text/plain": [
       "[Front: 1]<-[2]<-[3]<-[4]<-[5: Rear]"
      ]
     },
     "execution_count": 4,
     "metadata": {},
     "output_type": "execute_result"
    }
   ],
   "source": [
    "queue"
   ]
  },
  {
   "cell_type": "code",
   "execution_count": 5,
   "id": "31e9069c",
   "metadata": {},
   "outputs": [
    {
     "name": "stdout",
     "output_type": "stream",
     "text": [
      "Removing: 1 from the queue\n",
      "Removing: 2 from the queue\n",
      "Removing: 3 from the queue\n",
      "Removing: 4 from the queue\n",
      "Removing: 5 from the queue\n",
      "reached end of queue\n",
      "queue is empty, nothing to dequeue\n",
      "queue is empty, nothing to dequeue\n",
      "queue is empty, nothing to dequeue\n",
      "queue is empty, nothing to dequeue\n"
     ]
    }
   ],
   "source": [
    "for i in range(10):\n",
    "    queue.dequeue()"
   ]
  },
  {
   "cell_type": "code",
   "execution_count": 6,
   "id": "f50c1377",
   "metadata": {},
   "outputs": [
    {
     "data": {
      "text/plain": []
     },
     "execution_count": 6,
     "metadata": {},
     "output_type": "execute_result"
    }
   ],
   "source": [
    "queue"
   ]
  },
  {
   "cell_type": "code",
   "execution_count": 7,
   "id": "28c91610",
   "metadata": {},
   "outputs": [
    {
     "data": {
      "text/plain": [
       "0"
      ]
     },
     "execution_count": 7,
     "metadata": {},
     "output_type": "execute_result"
    }
   ],
   "source": [
    "len(queue)"
   ]
  },
  {
   "cell_type": "code",
   "execution_count": 8,
   "id": "8da7d840",
   "metadata": {},
   "outputs": [],
   "source": [
    "for i in queue:\n",
    "    print(i)"
   ]
  },
  {
   "cell_type": "code",
   "execution_count": 9,
   "id": "50209961",
   "metadata": {},
   "outputs": [
    {
     "name": "stdout",
     "output_type": "stream",
     "text": [
      " == Inserting first element == \n",
      "Inserting: 1 into the queue\n",
      "Inserting: 2 into the queue\n",
      "Inserting: 3 into the queue\n",
      "Inserting: 4 into the queue\n",
      "Inserting: 5 into the queue\n",
      "Queue is full, dequeue all the elements to re-use the queue\n",
      "Queue is full, dequeue all the elements to re-use the queue\n",
      "Queue is full, dequeue all the elements to re-use the queue\n",
      "Queue is full, dequeue all the elements to re-use the queue\n"
     ]
    }
   ],
   "source": [
    "for i in range(1, 10):\n",
    "    queue.enqueue(i)"
   ]
  },
  {
   "cell_type": "code",
   "execution_count": 10,
   "id": "d34a74ff",
   "metadata": {},
   "outputs": [
    {
     "name": "stdout",
     "output_type": "stream",
     "text": [
      "Removing: 1 from the queue\n",
      "Removing: 2 from the queue\n",
      "Removing: 3 from the queue\n",
      "Removing: 4 from the queue\n",
      "Removing: 5 from the queue\n",
      "reached end of queue\n",
      "queue is empty, nothing to dequeue\n",
      "queue is empty, nothing to dequeue\n",
      "queue is empty, nothing to dequeue\n",
      "queue is empty, nothing to dequeue\n"
     ]
    }
   ],
   "source": [
    "for i in range(10):\n",
    "    queue.dequeue()"
   ]
  },
  {
   "cell_type": "code",
   "execution_count": 11,
   "id": "ab197ef1",
   "metadata": {},
   "outputs": [
    {
     "data": {
      "text/plain": []
     },
     "execution_count": 11,
     "metadata": {},
     "output_type": "execute_result"
    }
   ],
   "source": [
    "queue"
   ]
  },
  {
   "cell_type": "code",
   "execution_count": 12,
   "id": "46dbb133",
   "metadata": {},
   "outputs": [
    {
     "name": "stdout",
     "output_type": "stream",
     "text": [
      " == Inserting first element == \n",
      "Inserting: 1 into the queue\n",
      "Inserting: 2 into the queue\n",
      "Inserting: 3 into the queue\n",
      "Inserting: 4 into the queue\n",
      "Inserting: 5 into the queue\n",
      "Queue is full, dequeue all the elements to re-use the queue\n",
      "Queue is full, dequeue all the elements to re-use the queue\n",
      "Queue is full, dequeue all the elements to re-use the queue\n",
      "Queue is full, dequeue all the elements to re-use the queue\n"
     ]
    }
   ],
   "source": [
    "for i in range(1, 10):\n",
    "    queue.enqueue(i)"
   ]
  },
  {
   "cell_type": "code",
   "execution_count": 13,
   "id": "7f8e45fa",
   "metadata": {},
   "outputs": [
    {
     "data": {
      "text/plain": [
       "[Front: 1]<-[2]<-[3]<-[4]<-[5: Rear]"
      ]
     },
     "execution_count": 13,
     "metadata": {},
     "output_type": "execute_result"
    }
   ],
   "source": [
    "queue"
   ]
  },
  {
   "cell_type": "code",
   "execution_count": 14,
   "id": "059e6bf7",
   "metadata": {},
   "outputs": [
    {
     "data": {
      "text/plain": [
       "1"
      ]
     },
     "execution_count": 14,
     "metadata": {},
     "output_type": "execute_result"
    }
   ],
   "source": [
    "queue.peek()"
   ]
  },
  {
   "cell_type": "code",
   "execution_count": 15,
   "id": "d62811db",
   "metadata": {},
   "outputs": [
    {
     "name": "stdout",
     "output_type": "stream",
     "text": [
      "Removing: 1 from the queue\n",
      "Removing: 2 from the queue\n",
      "Removing: 3 from the queue\n",
      "Removing: 4 from the queue\n",
      "Removing: 5 from the queue\n",
      "reached end of queue\n",
      "queue is empty, nothing to dequeue\n",
      "queue is empty, nothing to dequeue\n",
      "queue is empty, nothing to dequeue\n",
      "queue is empty, nothing to dequeue\n"
     ]
    }
   ],
   "source": [
    "for i in range(10):\n",
    "    queue.dequeue()"
   ]
  },
  {
   "cell_type": "code",
   "execution_count": 16,
   "id": "6214deea",
   "metadata": {},
   "outputs": [
    {
     "data": {
      "text/plain": []
     },
     "execution_count": 16,
     "metadata": {},
     "output_type": "execute_result"
    }
   ],
   "source": [
    "queue"
   ]
  },
  {
   "cell_type": "code",
   "execution_count": 17,
   "id": "e842396a",
   "metadata": {},
   "outputs": [],
   "source": [
    "queue.peek()"
   ]
  },
  {
   "cell_type": "code",
   "execution_count": null,
   "id": "c0bab347",
   "metadata": {},
   "outputs": [],
   "source": []
  }
 ],
 "metadata": {
  "kernelspec": {
   "display_name": ".venv",
   "language": "python",
   "name": "python3"
  },
  "language_info": {
   "codemirror_mode": {
    "name": "ipython",
    "version": 3
   },
   "file_extension": ".py",
   "mimetype": "text/x-python",
   "name": "python",
   "nbconvert_exporter": "python",
   "pygments_lexer": "ipython3",
   "version": "3.8.10"
  },
  "vscode": {
   "interpreter": {
    "hash": "ea9ccb04e7308efcbefe4ed3ddff7336a57680ae622578d4fe4a2e3945390538"
   }
  }
 },
 "nbformat": 4,
 "nbformat_minor": 5
}
